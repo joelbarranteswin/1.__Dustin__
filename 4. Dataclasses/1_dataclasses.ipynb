{
 "cells": [
  {
   "cell_type": "code",
   "execution_count": 10,
   "source": [
    "from dataclasses import dataclass\r\n",
    "\r\n",
    "@dataclass\r\n",
    "class Data:\r\n",
    "    rank: str\r\n",
    "    suit: str\r\n",
    "\r\n",
    "valores = Data('primero', 'traje')\r\n",
    "valores.rank\r\n",
    "valores.suit\r\n",
    "valores"
   ],
   "outputs": [
    {
     "output_type": "execute_result",
     "data": {
      "text/plain": [
       "Data(rank='primero', suit='traje')"
      ]
     },
     "metadata": {},
     "execution_count": 10
    }
   ],
   "metadata": {}
  },
  {
   "cell_type": "code",
   "execution_count": 5,
   "source": [
    "from dataclasses import dataclass\r\n",
    "\r\n",
    "#creamos un data class asignando el tipo de variable\r\n",
    "@dataclass\r\n",
    "class Position:\r\n",
    "    name: str\r\n",
    "    lon: float\r\n",
    "    lat: float\r\n",
    "\r\n",
    "pos = Position('oslo', 10.8, 59.9)\r\n",
    "print(pos)\r\n",
    "pos.lat\r\n",
    "print(f'{pos.name} esta en {pos.lon}° N, {pos.lat}° E')"
   ],
   "outputs": [
    {
     "output_type": "stream",
     "name": "stdout",
     "text": [
      "Position(name='oslo', lon=10.8, lat=59.9)\n",
      "oslo esta en 10.8° N, 59.9° E\n"
     ]
    }
   ],
   "metadata": {}
  },
  {
   "cell_type": "code",
   "execution_count": 15,
   "source": [
    "from dataclasses import dataclass\r\n",
    "\r\n",
    "@dataclass\r\n",
    "class Position:\r\n",
    "    name: str\r\n",
    "    lon: float = 0.0\r\n",
    "    lat: float = 0.0\r\n",
    "\r\n",
    "Position(\"mexico\")\r\n",
    "Position(\"new york\", lat = 15)\r\n",
    "Position(\"new\", lat = 12, lon = 15) #no importa la posicion\r\n",
    "Position(\"new\", -200,400)"
   ],
   "outputs": [
    {
     "output_type": "execute_result",
     "data": {
      "text/plain": [
       "Position(name='new', lon=-200, lat=400)"
      ]
     },
     "metadata": {},
     "execution_count": 15
    }
   ],
   "metadata": {}
  },
  {
   "cell_type": "code",
   "execution_count": 25,
   "source": [
    "#debido a que python es un lenguaje dinamico,puede coger errores\r\n",
    "Position(3.14, 'pi day', 2018)"
   ],
   "outputs": [
    {
     "output_type": "execute_result",
     "data": {
      "text/plain": [
       "Position(name=3.14, lon='pi day', lat=2018)"
      ]
     },
     "metadata": {},
     "execution_count": 25
    }
   ],
   "metadata": {}
  },
  {
   "cell_type": "code",
   "execution_count": 24,
   "source": [
    "from dataclasses import dataclass\r\n",
    "from typing import Any\r\n",
    "\r\n",
    "@dataclass\r\n",
    "class without_type:\r\n",
    "    name: Any = \"vacio\"\r\n",
    "    value: Any = 42\r\n",
    "\r\n",
    "without_type(\"joel\")\r\n",
    "without_type()\r\n",
    "without_type(\"yo\", value = 13)\r\n",
    "without_type(\"nuevo\",15)"
   ],
   "outputs": [
    {
     "output_type": "execute_result",
     "data": {
      "text/plain": [
       "without_type(name='nuevo', value=15)"
      ]
     },
     "metadata": {},
     "execution_count": 24
    }
   ],
   "metadata": {}
  },
  {
   "cell_type": "markdown",
   "source": [
    "## Adding Methods"
   ],
   "metadata": {}
  },
  {
   "cell_type": "code",
   "execution_count": 12,
   "source": [
    "from dataclasses import dataclass\r\n",
    "from math import asin, cos, radians, sin, sqrt\r\n",
    "\r\n",
    "@dataclass\r\n",
    "class Position:\r\n",
    "    name: str\r\n",
    "    lon: float = 0.0\r\n",
    "    lat: float = 0.0\r\n",
    "\r\n",
    "    def distance_to(self, other):\r\n",
    "        r = 6371 # radio de la tierra\r\n",
    "        lam_1, lam_2 = radians(self.lon), radians(self.lon)\r\n",
    "        phi_1, phi_2 = radians(self.lat), radians(other.lat)\r\n",
    "\r\n",
    "        h = (sin((phi_1 - phi_2) / 2) ** 2\r\n",
    "            + cos(phi_1) * cos(phi_2) * sin((lam_2 - lam_1) / 2 )**2)\r\n",
    "        return 2 * r * asin(sqrt(h))\r\n"
   ],
   "outputs": [],
   "metadata": {}
  },
  {
   "cell_type": "code",
   "execution_count": 13,
   "source": [
    "peru = Position(\"perú\", 10.8, 59.9)\r\n",
    "peru\r\n",
    "\r\n",
    "vancouver = Position('Vancouver',-123.1, 49.3)\r\n",
    "\r\n",
    "peru.distance_to(vancouver)\r\n",
    "\r\n"
   ],
   "outputs": [
    {
     "output_type": "execute_result",
     "data": {
      "text/plain": [
       "1178.666222432323"
      ]
     },
     "metadata": {},
     "execution_count": 13
    }
   ],
   "metadata": {}
  },
  {
   "cell_type": "code",
   "execution_count": 2,
   "source": [
    "from dataclasses import dataclass\r\n",
    "from math import asin, cos, radians, sin, sqrt\r\n",
    "\r\n",
    "@dataclass\r\n",
    "class Position:\r\n",
    "    name: str\r\n",
    "    lon: float = 0.0\r\n",
    "    lat: float = 0.0\r\n",
    "\r\n",
    "    def distance_to(self, other): \r\n",
    "        r = 6371  # Earth radius in kilometers\r\n",
    "        lam_1, lam_2 = radians(self.lon), radians(other.lon)\r\n",
    "        phi_1, phi_2 = radians(self.lat), radians(other.lat)\r\n",
    "        h = (sin((phi_2 - phi_1) / 2)**2\r\n",
    "             + cos(phi_1) * cos(phi_2) * sin((lam_2 - lam_1) / 2)**2)\r\n",
    "        return 2 * r * asin(sqrt(h))"
   ],
   "outputs": [],
   "metadata": {}
  },
  {
   "cell_type": "code",
   "execution_count": 3,
   "source": [
    "oslo = Position('Oslo', 10.8, 59.9)\r\n",
    "vancouver = Position('Vancouver', -123.1, 49.3)\r\n",
    "oslo.distance_to(vancouver)"
   ],
   "outputs": [
    {
     "output_type": "execute_result",
     "data": {
      "text/plain": [
       "7181.784122942117"
      ]
     },
     "metadata": {},
     "execution_count": 3
    }
   ],
   "metadata": {}
  },
  {
   "cell_type": "code",
   "execution_count": 7,
   "source": [
    "from dataclasses import dataclass\r\n",
    "from typing import List\r\n",
    "\r\n",
    "@dataclass\r\n",
    "class PlayingCard:\r\n",
    "    rank: str\r\n",
    "    suit: str\r\n",
    "\r\n",
    "@dataclass\r\n",
    "class Deck: \r\n",
    "    cards: List[PlayingCard]"
   ],
   "outputs": [],
   "metadata": {}
  },
  {
   "cell_type": "code",
   "execution_count": 10,
   "source": [
    "queen_of_hearts= PlayingCard('Q','Hearts')\r\n",
    "ace_of_spades = PlayingCard('A', 'Spades')\r\n",
    "\r\n",
    "two_cards = Deck([queen_of_hearts, ace_of_spades])\r\n",
    "two_cards\r\n"
   ],
   "outputs": [
    {
     "output_type": "execute_result",
     "data": {
      "text/plain": [
       "Deck(cards=[PlayingCard(rank='Q', suit='Hearts'), PlayingCard(rank='A', suit='Spades')])"
      ]
     },
     "metadata": {},
     "execution_count": 10
    }
   ],
   "metadata": {}
  },
  {
   "cell_type": "code",
   "execution_count": 12,
   "source": [
    "RANKS = '2 3 4 5 6 7 8 9 10 J Q K A'.split()\r\n",
    "SUITS = '♣ ♢ ♡ ♠'.split()\r\n",
    "\r\n",
    "def make_french_deck():\r\n",
    "    return [PlayingCard(r,s) for s in SUITS for r in RANKS]\r\n",
    "\r\n",
    "make_french_deck()\r\n"
   ],
   "outputs": [
    {
     "output_type": "execute_result",
     "data": {
      "text/plain": [
       "[PlayingCard(rank='2', suit='♣'),\n",
       " PlayingCard(rank='3', suit='♣'),\n",
       " PlayingCard(rank='4', suit='♣'),\n",
       " PlayingCard(rank='5', suit='♣'),\n",
       " PlayingCard(rank='6', suit='♣'),\n",
       " PlayingCard(rank='7', suit='♣'),\n",
       " PlayingCard(rank='8', suit='♣'),\n",
       " PlayingCard(rank='9', suit='♣'),\n",
       " PlayingCard(rank='10', suit='♣'),\n",
       " PlayingCard(rank='J', suit='♣'),\n",
       " PlayingCard(rank='Q', suit='♣'),\n",
       " PlayingCard(rank='K', suit='♣'),\n",
       " PlayingCard(rank='A', suit='♣'),\n",
       " PlayingCard(rank='2', suit='♢'),\n",
       " PlayingCard(rank='3', suit='♢'),\n",
       " PlayingCard(rank='4', suit='♢'),\n",
       " PlayingCard(rank='5', suit='♢'),\n",
       " PlayingCard(rank='6', suit='♢'),\n",
       " PlayingCard(rank='7', suit='♢'),\n",
       " PlayingCard(rank='8', suit='♢'),\n",
       " PlayingCard(rank='9', suit='♢'),\n",
       " PlayingCard(rank='10', suit='♢'),\n",
       " PlayingCard(rank='J', suit='♢'),\n",
       " PlayingCard(rank='Q', suit='♢'),\n",
       " PlayingCard(rank='K', suit='♢'),\n",
       " PlayingCard(rank='A', suit='♢'),\n",
       " PlayingCard(rank='2', suit='♡'),\n",
       " PlayingCard(rank='3', suit='♡'),\n",
       " PlayingCard(rank='4', suit='♡'),\n",
       " PlayingCard(rank='5', suit='♡'),\n",
       " PlayingCard(rank='6', suit='♡'),\n",
       " PlayingCard(rank='7', suit='♡'),\n",
       " PlayingCard(rank='8', suit='♡'),\n",
       " PlayingCard(rank='9', suit='♡'),\n",
       " PlayingCard(rank='10', suit='♡'),\n",
       " PlayingCard(rank='J', suit='♡'),\n",
       " PlayingCard(rank='Q', suit='♡'),\n",
       " PlayingCard(rank='K', suit='♡'),\n",
       " PlayingCard(rank='A', suit='♡'),\n",
       " PlayingCard(rank='2', suit='♠'),\n",
       " PlayingCard(rank='3', suit='♠'),\n",
       " PlayingCard(rank='4', suit='♠'),\n",
       " PlayingCard(rank='5', suit='♠'),\n",
       " PlayingCard(rank='6', suit='♠'),\n",
       " PlayingCard(rank='7', suit='♠'),\n",
       " PlayingCard(rank='8', suit='♠'),\n",
       " PlayingCard(rank='9', suit='♠'),\n",
       " PlayingCard(rank='10', suit='♠'),\n",
       " PlayingCard(rank='J', suit='♠'),\n",
       " PlayingCard(rank='Q', suit='♠'),\n",
       " PlayingCard(rank='K', suit='♠'),\n",
       " PlayingCard(rank='A', suit='♠')]"
      ]
     },
     "metadata": {},
     "execution_count": 12
    }
   ],
   "metadata": {}
  },
  {
   "cell_type": "code",
   "execution_count": 13,
   "source": [
    "from dataclasses import dataclass, field\r\n",
    "from typing import List \r\n",
    "\r\n",
    "@dataclass\r\n",
    "class Deck:\r\n",
    "    card: List[PlayingCard] = field(default_factory = make_french_deck)"
   ],
   "outputs": [],
   "metadata": {}
  },
  {
   "cell_type": "code",
   "execution_count": 14,
   "source": [
    "Deck()"
   ],
   "outputs": [
    {
     "output_type": "execute_result",
     "data": {
      "text/plain": [
       "Deck(card=[PlayingCard(rank='2', suit='♣'), PlayingCard(rank='3', suit='♣'), PlayingCard(rank='4', suit='♣'), PlayingCard(rank='5', suit='♣'), PlayingCard(rank='6', suit='♣'), PlayingCard(rank='7', suit='♣'), PlayingCard(rank='8', suit='♣'), PlayingCard(rank='9', suit='♣'), PlayingCard(rank='10', suit='♣'), PlayingCard(rank='J', suit='♣'), PlayingCard(rank='Q', suit='♣'), PlayingCard(rank='K', suit='♣'), PlayingCard(rank='A', suit='♣'), PlayingCard(rank='2', suit='♢'), PlayingCard(rank='3', suit='♢'), PlayingCard(rank='4', suit='♢'), PlayingCard(rank='5', suit='♢'), PlayingCard(rank='6', suit='♢'), PlayingCard(rank='7', suit='♢'), PlayingCard(rank='8', suit='♢'), PlayingCard(rank='9', suit='♢'), PlayingCard(rank='10', suit='♢'), PlayingCard(rank='J', suit='♢'), PlayingCard(rank='Q', suit='♢'), PlayingCard(rank='K', suit='♢'), PlayingCard(rank='A', suit='♢'), PlayingCard(rank='2', suit='♡'), PlayingCard(rank='3', suit='♡'), PlayingCard(rank='4', suit='♡'), PlayingCard(rank='5', suit='♡'), PlayingCard(rank='6', suit='♡'), PlayingCard(rank='7', suit='♡'), PlayingCard(rank='8', suit='♡'), PlayingCard(rank='9', suit='♡'), PlayingCard(rank='10', suit='♡'), PlayingCard(rank='J', suit='♡'), PlayingCard(rank='Q', suit='♡'), PlayingCard(rank='K', suit='♡'), PlayingCard(rank='A', suit='♡'), PlayingCard(rank='2', suit='♠'), PlayingCard(rank='3', suit='♠'), PlayingCard(rank='4', suit='♠'), PlayingCard(rank='5', suit='♠'), PlayingCard(rank='6', suit='♠'), PlayingCard(rank='7', suit='♠'), PlayingCard(rank='8', suit='♠'), PlayingCard(rank='9', suit='♠'), PlayingCard(rank='10', suit='♠'), PlayingCard(rank='J', suit='♠'), PlayingCard(rank='Q', suit='♠'), PlayingCard(rank='K', suit='♠'), PlayingCard(rank='A', suit='♠')])"
      ]
     },
     "metadata": {},
     "execution_count": 14
    }
   ],
   "metadata": {}
  },
  {
   "cell_type": "code",
   "execution_count": 15,
   "source": [
    "from dataclasses import dataclass, field\r\n",
    "\r\n",
    "@dataclass\r\n",
    "class Position:\r\n",
    "    name: str\r\n",
    "    lon: float = field(default=0.0, metadata = {'unit': 'degrees'})\r\n",
    "    lat: float = field(default=0.0, metadata = {'unit': 'degrees'})"
   ],
   "outputs": [],
   "metadata": {}
  },
  {
   "cell_type": "code",
   "execution_count": 16,
   "source": [
    "from dataclasses import fields\r\n",
    "\r\n",
    "fields(Position) #se puede usar para ver los metadatos de la clase\r\n",
    "lat_unit = fields(Position)[2].metadata['unit']\r\n",
    "lat_unit\r\n"
   ],
   "outputs": [
    {
     "output_type": "execute_result",
     "data": {
      "text/plain": [
       "'degrees'"
      ]
     },
     "metadata": {},
     "execution_count": 16
    }
   ],
   "metadata": {}
  },
  {
   "cell_type": "code",
   "execution_count": 17,
   "source": [
    "from dataclasses import dataclass\r\n",
    "\r\n",
    "@dataclass\r\n",
    "class PlayingCard:\r\n",
    "    rank: str\r\n",
    "    suit: str\r\n",
    "\r\n",
    "    def __str__(self):\r\n",
    "        return f'{self.suit} {self.rank}'"
   ],
   "outputs": [],
   "metadata": {}
  },
  {
   "cell_type": "code",
   "execution_count": 20,
   "source": [
    "ace_of_spades = PlayingCard('A', '♠')\r\n",
    "print(ace_of_spades)\r\n",
    "\r\n",
    "print(Deck())"
   ],
   "outputs": [
    {
     "output_type": "stream",
     "name": "stdout",
     "text": [
      "♠ A\n",
      "Deck(card=[PlayingCard(rank='2', suit='♣'), PlayingCard(rank='3', suit='♣'), PlayingCard(rank='4', suit='♣'), PlayingCard(rank='5', suit='♣'), PlayingCard(rank='6', suit='♣'), PlayingCard(rank='7', suit='♣'), PlayingCard(rank='8', suit='♣'), PlayingCard(rank='9', suit='♣'), PlayingCard(rank='10', suit='♣'), PlayingCard(rank='J', suit='♣'), PlayingCard(rank='Q', suit='♣'), PlayingCard(rank='K', suit='♣'), PlayingCard(rank='A', suit='♣'), PlayingCard(rank='2', suit='♢'), PlayingCard(rank='3', suit='♢'), PlayingCard(rank='4', suit='♢'), PlayingCard(rank='5', suit='♢'), PlayingCard(rank='6', suit='♢'), PlayingCard(rank='7', suit='♢'), PlayingCard(rank='8', suit='♢'), PlayingCard(rank='9', suit='♢'), PlayingCard(rank='10', suit='♢'), PlayingCard(rank='J', suit='♢'), PlayingCard(rank='Q', suit='♢'), PlayingCard(rank='K', suit='♢'), PlayingCard(rank='A', suit='♢'), PlayingCard(rank='2', suit='♡'), PlayingCard(rank='3', suit='♡'), PlayingCard(rank='4', suit='♡'), PlayingCard(rank='5', suit='♡'), PlayingCard(rank='6', suit='♡'), PlayingCard(rank='7', suit='♡'), PlayingCard(rank='8', suit='♡'), PlayingCard(rank='9', suit='♡'), PlayingCard(rank='10', suit='♡'), PlayingCard(rank='J', suit='♡'), PlayingCard(rank='Q', suit='♡'), PlayingCard(rank='K', suit='♡'), PlayingCard(rank='A', suit='♡'), PlayingCard(rank='2', suit='♠'), PlayingCard(rank='3', suit='♠'), PlayingCard(rank='4', suit='♠'), PlayingCard(rank='5', suit='♠'), PlayingCard(rank='6', suit='♠'), PlayingCard(rank='7', suit='♠'), PlayingCard(rank='8', suit='♠'), PlayingCard(rank='9', suit='♠'), PlayingCard(rank='10', suit='♠'), PlayingCard(rank='J', suit='♠'), PlayingCard(rank='Q', suit='♠'), PlayingCard(rank='K', suit='♠'), PlayingCard(rank='A', suit='♠')])\n"
     ]
    }
   ],
   "metadata": {}
  },
  {
   "cell_type": "markdown",
   "source": [
    "## Representation __repr__"
   ],
   "metadata": {}
  },
  {
   "cell_type": "code",
   "execution_count": 2,
   "source": [
    "from dataclasses import dataclass, field\r\n",
    "from typing import List\r\n",
    "\r\n",
    "RANKS = '2 3 4 5 6 7 8 9 10 J Q K A'.split()\r\n",
    "SUITS = '♣ ♢ ♡ ♠'.split()\r\n",
    "\r\n",
    "\r\n",
    "@dataclass(order=True)\r\n",
    "class PlayingCard:\r\n",
    "    sort_index: int = field(init=False, repr=False)\r\n",
    "    rank: str\r\n",
    "    suit: str\r\n",
    "    def __post_init__(self):\r\n",
    "        self.sort_index = (RANKS.index(self.rank) * len(SUITS) \r\n",
    "                            + SUITS.index(self.suit))\r\n",
    "\r\n",
    "    def __str__(self):\r\n",
    "        return f'{self.suit} {self.rank}'\r\n",
    "    \r\n",
    "    \r\n",
    "@dataclass\r\n",
    "class Deck: \r\n",
    "    cards: List[PlayingCard] = field(default_factory=make_french_deck)\r\n",
    "\r\n",
    "    def __repr__(self):\r\n",
    "        cards = ','.join(f'{c!s}' for c in self.cards)\r\n",
    "        return f'{self.__class__.__name__}({cards})'\r\n",
    "\r\n",
    "def make_french_deck():\r\n",
    "    return [PlayingCard(r,s) for s in SUITS for r in RANKS]\r\n",
    "    \r\n",
    "Deck()"
   ],
   "outputs": [
    {
     "output_type": "error",
     "ename": "NameError",
     "evalue": "name 'make_french_deck' is not defined",
     "traceback": [
      "\u001b[1;31m---------------------------------------------------------------------------\u001b[0m",
      "\u001b[1;31mNameError\u001b[0m                                 Traceback (most recent call last)",
      "\u001b[1;32m~\\AppData\\Local\\Temp/ipykernel_8888/884364216.py\u001b[0m in \u001b[0;36m<module>\u001b[1;34m\u001b[0m\n\u001b[0;32m     20\u001b[0m \u001b[1;33m\u001b[0m\u001b[0m\n\u001b[0;32m     21\u001b[0m \u001b[1;33m@\u001b[0m\u001b[0mdataclass\u001b[0m\u001b[1;33m\u001b[0m\u001b[1;33m\u001b[0m\u001b[0m\n\u001b[1;32m---> 22\u001b[1;33m \u001b[1;32mclass\u001b[0m \u001b[0mDeck\u001b[0m\u001b[1;33m:\u001b[0m\u001b[1;33m\u001b[0m\u001b[1;33m\u001b[0m\u001b[0m\n\u001b[0m\u001b[0;32m     23\u001b[0m     \u001b[0mcards\u001b[0m\u001b[1;33m:\u001b[0m \u001b[0mList\u001b[0m\u001b[1;33m[\u001b[0m\u001b[0mPlayingCard\u001b[0m\u001b[1;33m]\u001b[0m \u001b[1;33m=\u001b[0m \u001b[0mfield\u001b[0m\u001b[1;33m(\u001b[0m\u001b[0mdefault_factory\u001b[0m\u001b[1;33m=\u001b[0m\u001b[0mmake_french_deck\u001b[0m\u001b[1;33m)\u001b[0m\u001b[1;33m\u001b[0m\u001b[1;33m\u001b[0m\u001b[0m\n\u001b[0;32m     24\u001b[0m \u001b[1;33m\u001b[0m\u001b[0m\n",
      "\u001b[1;32m~\\AppData\\Local\\Temp/ipykernel_8888/884364216.py\u001b[0m in \u001b[0;36mDeck\u001b[1;34m()\u001b[0m\n\u001b[0;32m     21\u001b[0m \u001b[1;33m@\u001b[0m\u001b[0mdataclass\u001b[0m\u001b[1;33m\u001b[0m\u001b[1;33m\u001b[0m\u001b[0m\n\u001b[0;32m     22\u001b[0m \u001b[1;32mclass\u001b[0m \u001b[0mDeck\u001b[0m\u001b[1;33m:\u001b[0m\u001b[1;33m\u001b[0m\u001b[1;33m\u001b[0m\u001b[0m\n\u001b[1;32m---> 23\u001b[1;33m     \u001b[0mcards\u001b[0m\u001b[1;33m:\u001b[0m \u001b[0mList\u001b[0m\u001b[1;33m[\u001b[0m\u001b[0mPlayingCard\u001b[0m\u001b[1;33m]\u001b[0m \u001b[1;33m=\u001b[0m \u001b[0mfield\u001b[0m\u001b[1;33m(\u001b[0m\u001b[0mdefault_factory\u001b[0m\u001b[1;33m=\u001b[0m\u001b[0mmake_french_deck\u001b[0m\u001b[1;33m)\u001b[0m\u001b[1;33m\u001b[0m\u001b[1;33m\u001b[0m\u001b[0m\n\u001b[0m\u001b[0;32m     24\u001b[0m \u001b[1;33m\u001b[0m\u001b[0m\n\u001b[0;32m     25\u001b[0m     \u001b[1;32mdef\u001b[0m \u001b[0m__repr__\u001b[0m\u001b[1;33m(\u001b[0m\u001b[0mself\u001b[0m\u001b[1;33m)\u001b[0m\u001b[1;33m:\u001b[0m\u001b[1;33m\u001b[0m\u001b[1;33m\u001b[0m\u001b[0m\n",
      "\u001b[1;31mNameError\u001b[0m: name 'make_french_deck' is not defined"
     ]
    }
   ],
   "metadata": {}
  },
  {
   "cell_type": "code",
   "execution_count": 40,
   "source": [
    "queen_of_hearts = PlayingCard('Q', '♡')\r\n",
    "ace_of_spades = PlayingCard('A', '♠')\r\n",
    "\r\n",
    "ace_of_spades > queen_of_hearts"
   ],
   "outputs": [
    {
     "output_type": "execute_result",
     "data": {
      "text/plain": [
       "True"
      ]
     },
     "metadata": {},
     "execution_count": 40
    }
   ],
   "metadata": {}
  },
  {
   "cell_type": "code",
   "execution_count": 41,
   "source": [
    "('A', '♠') > ('Q', '♡')"
   ],
   "outputs": [
    {
     "output_type": "execute_result",
     "data": {
      "text/plain": [
       "False"
      ]
     },
     "metadata": {},
     "execution_count": 41
    }
   ],
   "metadata": {}
  },
  {
   "cell_type": "code",
   "execution_count": 44,
   "source": [
    "Deck(sorted(make_french_deck()))"
   ],
   "outputs": [
    {
     "output_type": "execute_result",
     "data": {
      "text/plain": [
       "Deck(♣ 2,♢ 2,♡ 2,♠ 2,♣ 3,♢ 3,♡ 3,♠ 3,♣ 4,♢ 4,♡ 4,♠ 4,♣ 5,♢ 5,♡ 5,♠ 5,♣ 6,♢ 6,♡ 6,♠ 6,♣ 7,♢ 7,♡ 7,♠ 7,♣ 8,♢ 8,♡ 8,♠ 8,♣ 9,♢ 9,♡ 9,♠ 9,♣ 10,♢ 10,♡ 10,♠ 10,♣ J,♢ J,♡ J,♠ J,♣ Q,♢ Q,♡ Q,♠ Q,♣ K,♢ K,♡ K,♠ K,♣ A,♢ A,♡ A,♠ A)"
      ]
     },
     "metadata": {},
     "execution_count": 44
    }
   ],
   "metadata": {}
  },
  {
   "cell_type": "code",
   "execution_count": 46,
   "source": [
    "from random import sample\r\n",
    "Deck(sample(make_french_deck(),18))"
   ],
   "outputs": [
    {
     "output_type": "execute_result",
     "data": {
      "text/plain": [
       "Deck(♠ 8,♡ 8,♢ 5,♣ 5,♡ 5,♢ 8,♢ 2,♡ 3,♡ Q,♠ 4,♢ J,♣ 4,♣ 9,♡ 10,♢ 7,♠ Q,♠ 10,♢ A)"
      ]
     },
     "metadata": {},
     "execution_count": 46
    }
   ],
   "metadata": {}
  },
  {
   "cell_type": "markdown",
   "source": [
    "## inmutable Data Classes"
   ],
   "metadata": {}
  },
  {
   "cell_type": "code",
   "execution_count": 66,
   "source": [
    "from dataclasses import dataclass\r\n",
    "\r\n",
    "@dataclass(frozen = True) #hace a al class inmutable\r\n",
    "class Position:\r\n",
    "    name: str\r\n",
    "    lon: float = 0.0\r\n",
    "    lat: float = 0.0"
   ],
   "outputs": [],
   "metadata": {}
  },
  {
   "cell_type": "code",
   "execution_count": 67,
   "source": [
    "posicion = Position('oslo', 10.8, 59.9)\r\n",
    "posicion.name\r\n",
    "posicion.name = 'joel'"
   ],
   "outputs": [
    {
     "output_type": "error",
     "ename": "FrozenInstanceError",
     "evalue": "cannot assign to field 'name'",
     "traceback": [
      "\u001b[1;31m---------------------------------------------------------------------------\u001b[0m",
      "\u001b[1;31mFrozenInstanceError\u001b[0m                       Traceback (most recent call last)",
      "\u001b[1;32m<ipython-input-67-9802b69f1925>\u001b[0m in \u001b[0;36m<module>\u001b[1;34m\u001b[0m\n\u001b[0;32m      1\u001b[0m \u001b[0mposicion\u001b[0m \u001b[1;33m=\u001b[0m \u001b[0mPosition\u001b[0m\u001b[1;33m(\u001b[0m\u001b[1;34m'oslo'\u001b[0m\u001b[1;33m,\u001b[0m \u001b[1;36m10.8\u001b[0m\u001b[1;33m,\u001b[0m \u001b[1;36m59.9\u001b[0m\u001b[1;33m)\u001b[0m\u001b[1;33m\u001b[0m\u001b[1;33m\u001b[0m\u001b[0m\n\u001b[0;32m      2\u001b[0m \u001b[0mposicion\u001b[0m\u001b[1;33m.\u001b[0m\u001b[0mname\u001b[0m\u001b[1;33m\u001b[0m\u001b[1;33m\u001b[0m\u001b[0m\n\u001b[1;32m----> 3\u001b[1;33m \u001b[0mposicion\u001b[0m\u001b[1;33m.\u001b[0m\u001b[0mname\u001b[0m \u001b[1;33m=\u001b[0m \u001b[1;34m'joel'\u001b[0m\u001b[1;33m\u001b[0m\u001b[1;33m\u001b[0m\u001b[0m\n\u001b[0m",
      "\u001b[1;32m<string>\u001b[0m in \u001b[0;36m__setattr__\u001b[1;34m(self, name, value)\u001b[0m\n",
      "\u001b[1;31mFrozenInstanceError\u001b[0m: cannot assign to field 'name'"
     ]
    }
   ],
   "metadata": {}
  },
  {
   "cell_type": "code",
   "execution_count": 69,
   "source": [
    "from dataclasses import dataclass\r\n",
    "from typing import List\r\n",
    "\r\n",
    "@dataclass(frozen=True)\r\n",
    "class ImmutableCard:\r\n",
    "    rank: str\r\n",
    "    suit: str\r\n",
    "\r\n",
    "@dataclass(frozen=True)\r\n",
    "class ImmutableDeck:\r\n",
    "    cards: List[ImmutableCard]\r\n",
    "\r\n",
    "queen_of_hearts = ImmutableCard('Q', '♡')\r\n",
    "ace_of_spades = ImmutableCard('A', '♠')\r\n",
    "deck = ImmutableDeck([queen_of_hearts, ace_of_spades])\r\n",
    "deck"
   ],
   "outputs": [
    {
     "output_type": "execute_result",
     "data": {
      "text/plain": [
       "ImmutableDeck(cards=[ImmutableCard(rank='Q', suit='♡'), ImmutableCard(rank='A', suit='♠')])"
      ]
     },
     "metadata": {},
     "execution_count": 69
    }
   ],
   "metadata": {}
  },
  {
   "cell_type": "code",
   "execution_count": 70,
   "source": [
    "deck.cards[0] = ImmutableCard('7', '♢')\r\n",
    "deck"
   ],
   "outputs": [
    {
     "output_type": "execute_result",
     "data": {
      "text/plain": [
       "ImmutableDeck(cards=[ImmutableCard(rank='7', suit='♢'), ImmutableCard(rank='A', suit='♠')])"
      ]
     },
     "metadata": {},
     "execution_count": 70
    }
   ],
   "metadata": {}
  },
  {
   "cell_type": "markdown",
   "source": [
    "## Inheritance"
   ],
   "metadata": {}
  },
  {
   "cell_type": "code",
   "execution_count": 85,
   "source": [
    "from dataclasses import dataclass\r\n",
    "\r\n",
    "@dataclass\r\n",
    "class Position:\r\n",
    "    name: str\r\n",
    "    lon: float = 0.0\r\n",
    "    lat: float = 0.0\r\n",
    "\r\n",
    "@dataclass\r\n",
    "class Capital(Position): \r\n",
    "    country: str = 'unknown'\r\n",
    "    lat: float = 40.0\r\n"
   ],
   "outputs": [],
   "metadata": {}
  },
  {
   "cell_type": "code",
   "execution_count": 86,
   "source": [
    "Capital('oslo', 'Norway')"
   ],
   "outputs": [
    {
     "output_type": "execute_result",
     "data": {
      "text/plain": [
       "Capital(name='oslo', lon='Norway', lat=40.0, country='unknown')"
      ]
     },
     "metadata": {},
     "execution_count": 86
    }
   ],
   "metadata": {}
  },
  {
   "cell_type": "markdown",
   "source": [
    "## Optimazing data class"
   ],
   "metadata": {}
  },
  {
   "cell_type": "code",
   "execution_count": 2,
   "source": [
    "from dataclasses import dataclass\r\n",
    "\r\n",
    "@dataclass\r\n",
    "class SimplePosition:\r\n",
    "    name: str\r\n",
    "    lon: float\r\n",
    "    lat: float\r\n",
    "\r\n",
    "@dataclass\r\n",
    "class SlotPosition:\r\n",
    "    __slots__ = ['name', 'lon', 'lat']\r\n",
    "    name: str\r\n",
    "    lon: float\r\n",
    "    lat: float"
   ],
   "outputs": [],
   "metadata": {}
  },
  {
   "cell_type": "markdown",
   "source": [
    "## librerias para medir el espacio y velocidad de un __class__\r\n",
    "<ul>\r\n",
    "    <li> pympler and timeit\r\n",
    "<ul/>"
   ],
   "metadata": {}
  },
  {
   "cell_type": "code",
   "execution_count": 12,
   "source": [
    "simple = SimplePosition('London', -0.1, 51.5)\r\n",
    "simple"
   ],
   "outputs": [
    {
     "output_type": "execute_result",
     "data": {
      "text/plain": [
       "SimplePosition(name='London', lon=-0.1, lat=51.5)"
      ]
     },
     "metadata": {},
     "execution_count": 12
    }
   ],
   "metadata": {}
  },
  {
   "cell_type": "code",
   "execution_count": 13,
   "source": [
    "slot = SlotPosition('Madrid', -3.7, 40.4)\r\n",
    "slot"
   ],
   "outputs": [
    {
     "output_type": "execute_result",
     "data": {
      "text/plain": [
       "SlotPosition(name='Madrid', lon=-3.7, lat=40.4)"
      ]
     },
     "metadata": {},
     "execution_count": 13
    }
   ],
   "metadata": {}
  },
  {
   "cell_type": "code",
   "execution_count": 9,
   "source": [
    "from pympler import asizeof\r\n",
    "asizeof.asizeof(simple) #tamaño de espacio usado"
   ],
   "outputs": [
    {
     "output_type": "execute_result",
     "data": {
      "text/plain": [
       "424"
      ]
     },
     "metadata": {},
     "execution_count": 9
    }
   ],
   "metadata": {}
  },
  {
   "cell_type": "code",
   "execution_count": 8,
   "source": [
    "asizeof.asizeof(slot)"
   ],
   "outputs": [
    {
     "output_type": "execute_result",
     "data": {
      "text/plain": [
       "160"
      ]
     },
     "metadata": {},
     "execution_count": 8
    }
   ],
   "metadata": {}
  },
  {
   "cell_type": "code",
   "execution_count": 16,
   "source": [
    "from timeit import timeit\r\n",
    "\r\n",
    "timeit('slot.name',setup=\"simple = SimplePosition('London', -0.1, 51.5)\", globals=globals())"
   ],
   "outputs": [
    {
     "output_type": "execute_result",
     "data": {
      "text/plain": [
       "0.08017580000000635"
      ]
     },
     "metadata": {},
     "execution_count": 16
    }
   ],
   "metadata": {}
  },
  {
   "cell_type": "code",
   "execution_count": 17,
   "source": [
    "timeit('slot.name',setup=\"slot = SlotPosition('Madrid', -3.7, 40.4)\", globals=globals())"
   ],
   "outputs": [
    {
     "output_type": "execute_result",
     "data": {
      "text/plain": [
       "0.04523779999999533"
      ]
     },
     "metadata": {},
     "execution_count": 17
    }
   ],
   "metadata": {}
  },
  {
   "cell_type": "code",
   "execution_count": null,
   "source": [],
   "outputs": [],
   "metadata": {}
  },
  {
   "cell_type": "code",
   "execution_count": null,
   "source": [],
   "outputs": [],
   "metadata": {}
  },
  {
   "cell_type": "code",
   "execution_count": null,
   "source": [],
   "outputs": [],
   "metadata": {}
  },
  {
   "cell_type": "code",
   "execution_count": null,
   "source": [],
   "outputs": [],
   "metadata": {}
  },
  {
   "cell_type": "code",
   "execution_count": null,
   "source": [],
   "outputs": [],
   "metadata": {}
  },
  {
   "cell_type": "markdown",
   "source": [
    "# Working with function "
   ],
   "metadata": {}
  },
  {
   "cell_type": "code",
   "execution_count": 7,
   "source": [
    "def function(a: int):\r\n",
    "    print(a)\r\n",
    "\r\n",
    "def square(x: int) -> int:\r\n",
    "    \"\"\"takes a number and squares it\"\"\"\r\n",
    "    return x**2\r\n",
    "\r\n",
    "square.__annotations__"
   ],
   "outputs": [
    {
     "output_type": "execute_result",
     "data": {
      "text/plain": [
       "{'x': int, 'return': int}"
      ]
     },
     "metadata": {},
     "execution_count": 7
    }
   ],
   "metadata": {}
  },
  {
   "cell_type": "code",
   "execution_count": 1,
   "source": [
    "def f(x:list) -> str:\r\n",
    "    return x\r\n",
    "\r\n",
    "f(5)"
   ],
   "outputs": [
    {
     "output_type": "execute_result",
     "data": {
      "text/plain": [
       "5"
      ]
     },
     "metadata": {},
     "execution_count": 1
    }
   ],
   "metadata": {}
  }
 ],
 "metadata": {
  "orig_nbformat": 4,
  "language_info": {
   "name": "python",
   "version": "3.9.6",
   "mimetype": "text/x-python",
   "codemirror_mode": {
    "name": "ipython",
    "version": 3
   },
   "pygments_lexer": "ipython3",
   "nbconvert_exporter": "python",
   "file_extension": ".py"
  },
  "kernelspec": {
   "name": "python3",
   "display_name": "Python 3.9.6 64-bit"
  },
  "interpreter": {
   "hash": "c569cd2e17f62341e0f08a54f9a867c3c0d3a6f67454072d7de41a8b5dff8343"
  }
 },
 "nbformat": 4,
 "nbformat_minor": 2
}