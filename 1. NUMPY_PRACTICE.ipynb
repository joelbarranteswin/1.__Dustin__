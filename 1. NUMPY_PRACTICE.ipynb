{
 "metadata": {
  "language_info": {
   "codemirror_mode": {
    "name": "ipython",
    "version": 3
   },
   "file_extension": ".py",
   "mimetype": "text/x-python",
   "name": "python",
   "nbconvert_exporter": "python",
   "pygments_lexer": "ipython3",
   "version": "3.8.8"
  },
  "orig_nbformat": 4,
  "kernelspec": {
   "name": "python3",
   "display_name": "Python 3.8.8 64-bit ('base': conda)"
  },
  "interpreter": {
   "hash": "d67d52e99f0ce20a6c3733d124624e02e3bd83d5cb8b9af7e705321cbc97aaa8"
  }
 },
 "nbformat": 4,
 "nbformat_minor": 2,
 "cells": [
  {
   "cell_type": "code",
   "execution_count": 7,
   "metadata": {},
   "outputs": [],
   "source": [
    "import numpy as np"
   ]
  },
  {
   "cell_type": "code",
   "execution_count": 8,
   "metadata": {},
   "outputs": [
    {
     "output_type": "execute_result",
     "data": {
      "text/plain": [
       "dtype('float64')"
      ]
     },
     "metadata": {},
     "execution_count": 8
    }
   ],
   "source": [
    "data = np.loadtxt(\"Salary_Data.csv\", delimiter=\",\", dtype = float, skiprows=1)\n",
    "data.dtype"
   ]
  },
  {
   "cell_type": "code",
   "execution_count": 9,
   "metadata": {},
   "outputs": [
    {
     "output_type": "execute_result",
     "data": {
      "text/plain": [
       "array([[1.10000e+00, 3.93430e+04],\n",
       "       [1.30000e+00, 4.62050e+04],\n",
       "       [1.50000e+00, 3.77310e+04],\n",
       "       [2.00000e+00, 4.35250e+04],\n",
       "       [2.20000e+00, 3.98910e+04],\n",
       "       [2.90000e+00, 5.66420e+04],\n",
       "       [3.00000e+00, 6.01500e+04],\n",
       "       [3.20000e+00, 5.44450e+04],\n",
       "       [3.20000e+00, 6.44450e+04],\n",
       "       [3.70000e+00, 5.71890e+04],\n",
       "       [3.90000e+00, 6.32180e+04],\n",
       "       [4.00000e+00, 5.57940e+04],\n",
       "       [4.00000e+00, 5.69570e+04],\n",
       "       [4.10000e+00, 5.70810e+04],\n",
       "       [4.50000e+00, 6.11110e+04],\n",
       "       [4.90000e+00, 6.79380e+04],\n",
       "       [5.10000e+00, 6.60290e+04],\n",
       "       [5.30000e+00, 8.30880e+04],\n",
       "       [5.90000e+00, 8.13630e+04],\n",
       "       [6.00000e+00, 9.39400e+04],\n",
       "       [6.80000e+00, 9.17380e+04],\n",
       "       [7.10000e+00, 9.82730e+04],\n",
       "       [7.90000e+00, 1.01302e+05],\n",
       "       [8.20000e+00, 1.13812e+05],\n",
       "       [8.70000e+00, 1.09431e+05],\n",
       "       [9.00000e+00, 1.05582e+05],\n",
       "       [9.50000e+00, 1.16969e+05],\n",
       "       [9.60000e+00, 1.12635e+05],\n",
       "       [1.03000e+01, 1.22391e+05],\n",
       "       [1.05000e+01, 1.21872e+05]])"
      ]
     },
     "metadata": {},
     "execution_count": 9
    }
   ],
   "source": [
    "data"
   ]
  },
  {
   "cell_type": "code",
   "execution_count": 10,
   "metadata": {},
   "outputs": [
    {
     "output_type": "execute_result",
     "data": {
      "text/plain": [
       "2"
      ]
     },
     "metadata": {},
     "execution_count": 10
    }
   ],
   "source": [
    "data.ndim"
   ]
  },
  {
   "cell_type": "code",
   "execution_count": 11,
   "metadata": {},
   "outputs": [
    {
     "output_type": "execute_result",
     "data": {
      "text/plain": [
       "(30, 2)"
      ]
     },
     "metadata": {},
     "execution_count": 11
    }
   ],
   "source": [
    "data.shape"
   ]
  },
  {
   "cell_type": "code",
   "execution_count": 12,
   "metadata": {},
   "outputs": [
    {
     "output_type": "stream",
     "name": "stdout",
     "text": [
      "el indice es (0, 0) y el los valores son 1.1\nel indice es (0, 1) y el los valores son 39343.0\nel indice es (1, 0) y el los valores son 1.3\nel indice es (1, 1) y el los valores son 46205.0\nel indice es (2, 0) y el los valores son 1.5\nel indice es (2, 1) y el los valores son 37731.0\nel indice es (3, 0) y el los valores son 2.0\nel indice es (3, 1) y el los valores son 43525.0\nel indice es (4, 0) y el los valores son 2.2\nel indice es (4, 1) y el los valores son 39891.0\nel indice es (5, 0) y el los valores son 2.9\nel indice es (5, 1) y el los valores son 56642.0\nel indice es (6, 0) y el los valores son 3.0\nel indice es (6, 1) y el los valores son 60150.0\nel indice es (7, 0) y el los valores son 3.2\nel indice es (7, 1) y el los valores son 54445.0\nel indice es (8, 0) y el los valores son 3.2\nel indice es (8, 1) y el los valores son 64445.0\nel indice es (9, 0) y el los valores son 3.7\nel indice es (9, 1) y el los valores son 57189.0\nel indice es (10, 0) y el los valores son 3.9\nel indice es (10, 1) y el los valores son 63218.0\nel indice es (11, 0) y el los valores son 4.0\nel indice es (11, 1) y el los valores son 55794.0\nel indice es (12, 0) y el los valores son 4.0\nel indice es (12, 1) y el los valores son 56957.0\nel indice es (13, 0) y el los valores son 4.1\nel indice es (13, 1) y el los valores son 57081.0\nel indice es (14, 0) y el los valores son 4.5\nel indice es (14, 1) y el los valores son 61111.0\nel indice es (15, 0) y el los valores son 4.9\nel indice es (15, 1) y el los valores son 67938.0\nel indice es (16, 0) y el los valores son 5.1\nel indice es (16, 1) y el los valores son 66029.0\nel indice es (17, 0) y el los valores son 5.3\nel indice es (17, 1) y el los valores son 83088.0\nel indice es (18, 0) y el los valores son 5.9\nel indice es (18, 1) y el los valores son 81363.0\nel indice es (19, 0) y el los valores son 6.0\nel indice es (19, 1) y el los valores son 93940.0\nel indice es (20, 0) y el los valores son 6.8\nel indice es (20, 1) y el los valores son 91738.0\nel indice es (21, 0) y el los valores son 7.1\nel indice es (21, 1) y el los valores son 98273.0\nel indice es (22, 0) y el los valores son 7.9\nel indice es (22, 1) y el los valores son 101302.0\nel indice es (23, 0) y el los valores son 8.2\nel indice es (23, 1) y el los valores son 113812.0\nel indice es (24, 0) y el los valores son 8.7\nel indice es (24, 1) y el los valores son 109431.0\nel indice es (25, 0) y el los valores son 9.0\nel indice es (25, 1) y el los valores son 105582.0\nel indice es (26, 0) y el los valores son 9.5\nel indice es (26, 1) y el los valores son 116969.0\nel indice es (27, 0) y el los valores son 9.6\nel indice es (27, 1) y el los valores son 112635.0\nel indice es (28, 0) y el los valores son 10.3\nel indice es (28, 1) y el los valores son 122391.0\nel indice es (29, 0) y el los valores son 10.5\nel indice es (29, 1) y el los valores son 121872.0\n"
     ]
    }
   ],
   "source": [
    "for i,n in np.ndenumerate(data):\n",
    "    print(f\"el indice es {i} y el los valores son {n}\")"
   ]
  },
  {
   "cell_type": "code",
   "execution_count": 13,
   "metadata": {},
   "outputs": [
    {
     "output_type": "execute_result",
     "data": {
      "text/plain": [
       "30"
      ]
     },
     "metadata": {},
     "execution_count": 13
    }
   ],
   "source": [
    "len(data)"
   ]
  },
  {
   "cell_type": "code",
   "execution_count": 14,
   "metadata": {},
   "outputs": [],
   "source": [
    "años_trabajo = data[:,0]"
   ]
  },
  {
   "cell_type": "code",
   "execution_count": 15,
   "metadata": {},
   "outputs": [],
   "source": [
    "salario = data[:,1]"
   ]
  },
  {
   "cell_type": "code",
   "execution_count": 16,
   "metadata": {},
   "outputs": [
    {
     "output_type": "execute_result",
     "data": {
      "text/plain": [
       "array([ 1,  2,  3,  4,  5,  6,  7,  8,  9, 10, 11, 12, 13, 14, 15, 16, 17,\n",
       "       18, 19, 20, 21, 22, 23, 24, 25, 26, 27, 28, 29, 30])"
      ]
     },
     "metadata": {},
     "execution_count": 16
    }
   ],
   "source": [
    "orden = np.arange(1,31)\n",
    "orden"
   ]
  },
  {
   "cell_type": "code",
   "execution_count": 17,
   "metadata": {},
   "outputs": [
    {
     "output_type": "execute_result",
     "data": {
      "text/plain": [
       "5.3133333333333335"
      ]
     },
     "metadata": {},
     "execution_count": 17
    }
   ],
   "source": [
    "#años de trabajo promedio\n",
    "promedio_simple = np.sum(años_trabajo)/len(años_trabajo)\n",
    "promedio_simple"
   ]
  },
  {
   "cell_type": "code",
   "execution_count": 18,
   "metadata": {},
   "outputs": [
    {
     "output_type": "execute_result",
     "data": {
      "text/plain": [
       "89849.19071518193"
      ]
     },
     "metadata": {},
     "execution_count": 18
    }
   ],
   "source": [
    "#promedio ponderado de trabajo\n",
    "promedio_ponderado = np.sum(salario*años_trabajo)/sum(años_trabajo)\n",
    "promedio_ponderado"
   ]
  },
  {
   "cell_type": "code",
   "execution_count": 19,
   "metadata": {},
   "outputs": [
    {
     "output_type": "execute_result",
     "data": {
      "text/plain": [
       "5.3133333333333335"
      ]
     },
     "metadata": {},
     "execution_count": 19
    }
   ],
   "source": [
    "np.mean(años_trabajo)"
   ]
  },
  {
   "cell_type": "code",
   "execution_count": 20,
   "metadata": {},
   "outputs": [
    {
     "output_type": "execute_result",
     "data": {
      "text/plain": [
       "1.1"
      ]
     },
     "metadata": {},
     "execution_count": 20
    }
   ],
   "source": [
    "np.min(años_trabajo)"
   ]
  },
  {
   "cell_type": "code",
   "execution_count": 21,
   "metadata": {},
   "outputs": [
    {
     "output_type": "execute_result",
     "data": {
      "text/plain": [
       "10.5"
      ]
     },
     "metadata": {},
     "execution_count": 21
    }
   ],
   "source": [
    "np.max(años_trabajo)"
   ]
  },
  {
   "cell_type": "code",
   "execution_count": 22,
   "metadata": {},
   "outputs": [
    {
     "output_type": "execute_result",
     "data": {
      "text/plain": [
       "4.7"
      ]
     },
     "metadata": {},
     "execution_count": 22
    }
   ],
   "source": [
    "np.median(años_trabajo)"
   ]
  },
  {
   "cell_type": "code",
   "execution_count": 23,
   "metadata": {},
   "outputs": [
    {
     "output_type": "execute_result",
     "data": {
      "text/plain": [
       "7.785155555555556"
      ]
     },
     "metadata": {},
     "execution_count": 23
    }
   ],
   "source": [
    "np.var(años_trabajo)"
   ]
  },
  {
   "cell_type": "code",
   "execution_count": 24,
   "metadata": {},
   "outputs": [
    {
     "output_type": "execute_result",
     "data": {
      "text/plain": [
       "2.790189161249745"
      ]
     },
     "metadata": {},
     "execution_count": 24
    }
   ],
   "source": [
    "np.std(años_trabajo)"
   ]
  },
  {
   "cell_type": "code",
   "execution_count": 25,
   "metadata": {},
   "outputs": [
    {
     "output_type": "execute_result",
     "data": {
      "text/plain": [
       "1.0"
      ]
     },
     "metadata": {},
     "execution_count": 25
    }
   ],
   "source": [
    "np.corrcoef(años_trabajo)"
   ]
  },
  {
   "cell_type": "code",
   "execution_count": 26,
   "metadata": {},
   "outputs": [
    {
     "output_type": "stream",
     "name": "stdout",
     "text": [
      "la media  76003.0\nel minimo valor es  37731.0 \nel maximo valor es 122391.0\nla mediana es  65237.0\nla varianza es  726499261.7333333\nla desviacion estandar es  26953.65024877583\nel coeficiente de correlacion es  1.0\n"
     ]
    }
   ],
   "source": [
    "def estadisticos(data):\n",
    "    print(\"la media \", np.mean(data))\n",
    "    print(\"el minimo valor es \",np.min(data), \"\\nel maximo valor es\", np.max(data))\n",
    "    print(\"la mediana es \", np.median(data))\n",
    "    print(\"la varianza es \", np.var(data))\n",
    "    print(\"la desviacion estandar es \", np.std(data))\n",
    "    print(\"el coeficiente de correlacion es \", np.corrcoef(data))\n",
    "\n",
    "estadisticos(salario)"
   ]
  },
  {
   "cell_type": "code",
   "execution_count": 27,
   "metadata": {},
   "outputs": [
    {
     "output_type": "display_data",
     "data": {
      "text/plain": "<Figure size 432x288 with 1 Axes>",
      "image/svg+xml": "<?xml version=\"1.0\" encoding=\"utf-8\" standalone=\"no\"?>\r\n<!DOCTYPE svg PUBLIC \"-//W3C//DTD SVG 1.1//EN\"\r\n  \"http://www.w3.org/Graphics/SVG/1.1/DTD/svg11.dtd\">\r\n<!-- Created with matplotlib (https://matplotlib.org/) -->\r\n<svg height=\"277.689062pt\" version=\"1.1\" viewBox=\"0 0 414.415625 277.689062\" width=\"414.415625pt\" xmlns=\"http://www.w3.org/2000/svg\" xmlns:xlink=\"http://www.w3.org/1999/xlink\">\r\n <metadata>\r\n  <rdf:RDF xmlns:cc=\"http://creativecommons.org/ns#\" xmlns:dc=\"http://purl.org/dc/elements/1.1/\" xmlns:rdf=\"http://www.w3.org/1999/02/22-rdf-syntax-ns#\">\r\n   <cc:Work>\r\n    <dc:type rdf:resource=\"http://purl.org/dc/dcmitype/StillImage\"/>\r\n    <dc:date>2021-06-22T14:28:28.269127</dc:date>\r\n    <dc:format>image/svg+xml</dc:format>\r\n    <dc:creator>\r\n     <cc:Agent>\r\n      <dc:title>Matplotlib v3.3.4, https://matplotlib.org/</dc:title>\r\n     </cc:Agent>\r\n    </dc:creator>\r\n   </cc:Work>\r\n  </rdf:RDF>\r\n </metadata>\r\n <defs>\r\n  <style type=\"text/css\">*{stroke-linecap:butt;stroke-linejoin:round;}</style>\r\n </defs>\r\n <g id=\"figure_1\">\r\n  <g id=\"patch_1\">\r\n   <path d=\"M 0 277.689062 \r\nL 414.415625 277.689062 \r\nL 414.415625 0 \r\nL 0 0 \r\nz\r\n\" style=\"fill:none;\"/>\r\n  </g>\r\n  <g id=\"axes_1\">\r\n   <g id=\"patch_2\">\r\n    <path d=\"M 66.053125 239.9625 \r\nL 400.853125 239.9625 \r\nL 400.853125 22.5225 \r\nL 66.053125 22.5225 \r\nz\r\n\" style=\"fill:#ffffff;\"/>\r\n   </g>\r\n   <g id=\"PathCollection_1\">\r\n    <defs>\r\n     <path d=\"M 0 3 \r\nC 0.795609 3 1.55874 2.683901 2.12132 2.12132 \r\nC 2.683901 1.55874 3 0.795609 3 0 \r\nC 3 -0.795609 2.683901 -1.55874 2.12132 -2.12132 \r\nC 1.55874 -2.683901 0.795609 -3 0 -3 \r\nC -0.795609 -3 -1.55874 -2.683901 -2.12132 -2.12132 \r\nC -2.683901 -1.55874 -3 -0.795609 -3 0 \r\nC -3 0.795609 -2.683901 1.55874 -2.12132 2.12132 \r\nC -1.55874 2.683901 -0.795609 3 0 3 \r\nz\r\n\" id=\"m6c37c09751\" style=\"stroke:#ff0000;\"/>\r\n    </defs>\r\n    <g clip-path=\"url(#pea6231641b)\">\r\n     <use style=\"fill:#ff0000;stroke:#ff0000;\" x=\"96.743125\" xlink:href=\"#m6c37c09751\" y=\"219.647081\"/>\r\n     <use style=\"fill:#ff0000;stroke:#ff0000;\" x=\"102.323125\" xlink:href=\"#m6c37c09751\" y=\"204.726348\"/>\r\n     <use style=\"fill:#ff0000;stroke:#ff0000;\" x=\"107.903125\" xlink:href=\"#m6c37c09751\" y=\"223.152214\"/>\r\n     <use style=\"fill:#ff0000;stroke:#ff0000;\" x=\"121.853125\" xlink:href=\"#m6c37c09751\" y=\"210.55374\"/>\r\n     <use style=\"fill:#ff0000;stroke:#ff0000;\" x=\"127.433125\" xlink:href=\"#m6c37c09751\" y=\"218.45551\"/>\r\n     <use style=\"fill:#ff0000;stroke:#ff0000;\" x=\"146.963125\" xlink:href=\"#m6c37c09751\" y=\"182.032135\"/>\r\n     <use style=\"fill:#ff0000;stroke:#ff0000;\" x=\"149.753125\" xlink:href=\"#m6c37c09751\" y=\"174.40434\"/>\r\n     <use style=\"fill:#ff0000;stroke:#ff0000;\" x=\"155.333125\" xlink:href=\"#m6c37c09751\" y=\"186.809292\"/>\r\n     <use style=\"fill:#ff0000;stroke:#ff0000;\" x=\"155.333125\" xlink:href=\"#m6c37c09751\" y=\"165.065292\"/>\r\n     <use style=\"fill:#ff0000;stroke:#ff0000;\" x=\"169.283125\" xlink:href=\"#m6c37c09751\" y=\"180.842738\"/>\r\n     <use style=\"fill:#ff0000;stroke:#ff0000;\" x=\"174.863125\" xlink:href=\"#m6c37c09751\" y=\"167.733281\"/>\r\n     <use style=\"fill:#ff0000;stroke:#ff0000;\" x=\"177.653125\" xlink:href=\"#m6c37c09751\" y=\"183.876026\"/>\r\n     <use style=\"fill:#ff0000;stroke:#ff0000;\" x=\"177.653125\" xlink:href=\"#m6c37c09751\" y=\"181.347199\"/>\r\n     <use style=\"fill:#ff0000;stroke:#ff0000;\" x=\"180.443125\" xlink:href=\"#m6c37c09751\" y=\"181.077574\"/>\r\n     <use style=\"fill:#ff0000;stroke:#ff0000;\" x=\"191.603125\" xlink:href=\"#m6c37c09751\" y=\"172.314742\"/>\r\n     <use style=\"fill:#ff0000;stroke:#ff0000;\" x=\"202.763125\" xlink:href=\"#m6c37c09751\" y=\"157.470113\"/>\r\n     <use style=\"fill:#ff0000;stroke:#ff0000;\" x=\"208.343125\" xlink:href=\"#m6c37c09751\" y=\"161.621042\"/>\r\n     <use style=\"fill:#ff0000;stroke:#ff0000;\" x=\"213.923125\" xlink:href=\"#m6c37c09751\" y=\"124.527953\"/>\r\n     <use style=\"fill:#ff0000;stroke:#ff0000;\" x=\"230.663125\" xlink:href=\"#m6c37c09751\" y=\"128.278793\"/>\r\n     <use style=\"fill:#ff0000;stroke:#ff0000;\" x=\"233.453125\" xlink:href=\"#m6c37c09751\" y=\"100.931364\"/>\r\n     <use style=\"fill:#ff0000;stroke:#ff0000;\" x=\"255.773125\" xlink:href=\"#m6c37c09751\" y=\"105.719393\"/>\r\n     <use style=\"fill:#ff0000;stroke:#ff0000;\" x=\"264.143125\" xlink:href=\"#m6c37c09751\" y=\"91.509689\"/>\r\n     <use style=\"fill:#ff0000;stroke:#ff0000;\" x=\"286.463125\" xlink:href=\"#m6c37c09751\" y=\"84.923431\"/>\r\n     <use style=\"fill:#ff0000;stroke:#ff0000;\" x=\"294.833125\" xlink:href=\"#m6c37c09751\" y=\"57.721687\"/>\r\n     <use style=\"fill:#ff0000;stroke:#ff0000;\" x=\"308.783125\" xlink:href=\"#m6c37c09751\" y=\"67.247734\"/>\r\n     <use style=\"fill:#ff0000;stroke:#ff0000;\" x=\"317.153125\" xlink:href=\"#m6c37c09751\" y=\"75.616999\"/>\r\n     <use style=\"fill:#ff0000;stroke:#ff0000;\" x=\"331.103125\" xlink:href=\"#m6c37c09751\" y=\"50.857106\"/>\r\n     <use style=\"fill:#ff0000;stroke:#ff0000;\" x=\"333.893125\" xlink:href=\"#m6c37c09751\" y=\"60.280956\"/>\r\n     <use style=\"fill:#ff0000;stroke:#ff0000;\" x=\"353.423125\" xlink:href=\"#m6c37c09751\" y=\"39.06751\"/>\r\n     <use style=\"fill:#ff0000;stroke:#ff0000;\" x=\"359.003125\" xlink:href=\"#m6c37c09751\" y=\"40.196023\"/>\r\n    </g>\r\n   </g>\r\n   <g id=\"matplotlib.axis_1\">\r\n    <g id=\"xtick_1\">\r\n     <g id=\"line2d_1\">\r\n      <path clip-path=\"url(#pea6231641b)\" d=\"M 66.053125 239.9625 \r\nL 66.053125 22.5225 \r\n\" style=\"fill:none;stroke:#b0b0b0;stroke-linecap:square;stroke-width:0.8;\"/>\r\n     </g>\r\n     <g id=\"line2d_2\">\r\n      <defs>\r\n       <path d=\"M 0 0 \r\nL 0 3.5 \r\n\" id=\"mb0ac776716\" style=\"stroke:#000000;stroke-width:0.8;\"/>\r\n      </defs>\r\n      <g>\r\n       <use style=\"stroke:#000000;stroke-width:0.8;\" x=\"66.053125\" xlink:href=\"#mb0ac776716\" y=\"239.9625\"/>\r\n      </g>\r\n     </g>\r\n     <g id=\"text_1\">\r\n      <!-- 0 -->\r\n      <g transform=\"translate(62.871875 254.560937)scale(0.1 -0.1)\">\r\n       <defs>\r\n        <path d=\"M 31.78125 66.40625 \r\nQ 24.171875 66.40625 20.328125 58.90625 \r\nQ 16.5 51.421875 16.5 36.375 \r\nQ 16.5 21.390625 20.328125 13.890625 \r\nQ 24.171875 6.390625 31.78125 6.390625 \r\nQ 39.453125 6.390625 43.28125 13.890625 \r\nQ 47.125 21.390625 47.125 36.375 \r\nQ 47.125 51.421875 43.28125 58.90625 \r\nQ 39.453125 66.40625 31.78125 66.40625 \r\nz\r\nM 31.78125 74.21875 \r\nQ 44.046875 74.21875 50.515625 64.515625 \r\nQ 56.984375 54.828125 56.984375 36.375 \r\nQ 56.984375 17.96875 50.515625 8.265625 \r\nQ 44.046875 -1.421875 31.78125 -1.421875 \r\nQ 19.53125 -1.421875 13.0625 8.265625 \r\nQ 6.59375 17.96875 6.59375 36.375 \r\nQ 6.59375 54.828125 13.0625 64.515625 \r\nQ 19.53125 74.21875 31.78125 74.21875 \r\nz\r\n\" id=\"DejaVuSans-48\"/>\r\n       </defs>\r\n       <use xlink:href=\"#DejaVuSans-48\"/>\r\n      </g>\r\n     </g>\r\n    </g>\r\n    <g id=\"xtick_2\">\r\n     <g id=\"line2d_3\">\r\n      <path clip-path=\"url(#pea6231641b)\" d=\"M 121.853125 239.9625 \r\nL 121.853125 22.5225 \r\n\" style=\"fill:none;stroke:#b0b0b0;stroke-linecap:square;stroke-width:0.8;\"/>\r\n     </g>\r\n     <g id=\"line2d_4\">\r\n      <g>\r\n       <use style=\"stroke:#000000;stroke-width:0.8;\" x=\"121.853125\" xlink:href=\"#mb0ac776716\" y=\"239.9625\"/>\r\n      </g>\r\n     </g>\r\n     <g id=\"text_2\">\r\n      <!-- 2 -->\r\n      <g transform=\"translate(118.671875 254.560937)scale(0.1 -0.1)\">\r\n       <defs>\r\n        <path d=\"M 19.1875 8.296875 \r\nL 53.609375 8.296875 \r\nL 53.609375 0 \r\nL 7.328125 0 \r\nL 7.328125 8.296875 \r\nQ 12.9375 14.109375 22.625 23.890625 \r\nQ 32.328125 33.6875 34.8125 36.53125 \r\nQ 39.546875 41.84375 41.421875 45.53125 \r\nQ 43.3125 49.21875 43.3125 52.78125 \r\nQ 43.3125 58.59375 39.234375 62.25 \r\nQ 35.15625 65.921875 28.609375 65.921875 \r\nQ 23.96875 65.921875 18.8125 64.3125 \r\nQ 13.671875 62.703125 7.8125 59.421875 \r\nL 7.8125 69.390625 \r\nQ 13.765625 71.78125 18.9375 73 \r\nQ 24.125 74.21875 28.421875 74.21875 \r\nQ 39.75 74.21875 46.484375 68.546875 \r\nQ 53.21875 62.890625 53.21875 53.421875 \r\nQ 53.21875 48.921875 51.53125 44.890625 \r\nQ 49.859375 40.875 45.40625 35.40625 \r\nQ 44.1875 33.984375 37.640625 27.21875 \r\nQ 31.109375 20.453125 19.1875 8.296875 \r\nz\r\n\" id=\"DejaVuSans-50\"/>\r\n       </defs>\r\n       <use xlink:href=\"#DejaVuSans-50\"/>\r\n      </g>\r\n     </g>\r\n    </g>\r\n    <g id=\"xtick_3\">\r\n     <g id=\"line2d_5\">\r\n      <path clip-path=\"url(#pea6231641b)\" d=\"M 177.653125 239.9625 \r\nL 177.653125 22.5225 \r\n\" style=\"fill:none;stroke:#b0b0b0;stroke-linecap:square;stroke-width:0.8;\"/>\r\n     </g>\r\n     <g id=\"line2d_6\">\r\n      <g>\r\n       <use style=\"stroke:#000000;stroke-width:0.8;\" x=\"177.653125\" xlink:href=\"#mb0ac776716\" y=\"239.9625\"/>\r\n      </g>\r\n     </g>\r\n     <g id=\"text_3\">\r\n      <!-- 4 -->\r\n      <g transform=\"translate(174.471875 254.560937)scale(0.1 -0.1)\">\r\n       <defs>\r\n        <path d=\"M 37.796875 64.3125 \r\nL 12.890625 25.390625 \r\nL 37.796875 25.390625 \r\nz\r\nM 35.203125 72.90625 \r\nL 47.609375 72.90625 \r\nL 47.609375 25.390625 \r\nL 58.015625 25.390625 \r\nL 58.015625 17.1875 \r\nL 47.609375 17.1875 \r\nL 47.609375 0 \r\nL 37.796875 0 \r\nL 37.796875 17.1875 \r\nL 4.890625 17.1875 \r\nL 4.890625 26.703125 \r\nz\r\n\" id=\"DejaVuSans-52\"/>\r\n       </defs>\r\n       <use xlink:href=\"#DejaVuSans-52\"/>\r\n      </g>\r\n     </g>\r\n    </g>\r\n    <g id=\"xtick_4\">\r\n     <g id=\"line2d_7\">\r\n      <path clip-path=\"url(#pea6231641b)\" d=\"M 233.453125 239.9625 \r\nL 233.453125 22.5225 \r\n\" style=\"fill:none;stroke:#b0b0b0;stroke-linecap:square;stroke-width:0.8;\"/>\r\n     </g>\r\n     <g id=\"line2d_8\">\r\n      <g>\r\n       <use style=\"stroke:#000000;stroke-width:0.8;\" x=\"233.453125\" xlink:href=\"#mb0ac776716\" y=\"239.9625\"/>\r\n      </g>\r\n     </g>\r\n     <g id=\"text_4\">\r\n      <!-- 6 -->\r\n      <g transform=\"translate(230.271875 254.560937)scale(0.1 -0.1)\">\r\n       <defs>\r\n        <path d=\"M 33.015625 40.375 \r\nQ 26.375 40.375 22.484375 35.828125 \r\nQ 18.609375 31.296875 18.609375 23.390625 \r\nQ 18.609375 15.53125 22.484375 10.953125 \r\nQ 26.375 6.390625 33.015625 6.390625 \r\nQ 39.65625 6.390625 43.53125 10.953125 \r\nQ 47.40625 15.53125 47.40625 23.390625 \r\nQ 47.40625 31.296875 43.53125 35.828125 \r\nQ 39.65625 40.375 33.015625 40.375 \r\nz\r\nM 52.59375 71.296875 \r\nL 52.59375 62.3125 \r\nQ 48.875 64.0625 45.09375 64.984375 \r\nQ 41.3125 65.921875 37.59375 65.921875 \r\nQ 27.828125 65.921875 22.671875 59.328125 \r\nQ 17.53125 52.734375 16.796875 39.40625 \r\nQ 19.671875 43.65625 24.015625 45.921875 \r\nQ 28.375 48.1875 33.59375 48.1875 \r\nQ 44.578125 48.1875 50.953125 41.515625 \r\nQ 57.328125 34.859375 57.328125 23.390625 \r\nQ 57.328125 12.15625 50.6875 5.359375 \r\nQ 44.046875 -1.421875 33.015625 -1.421875 \r\nQ 20.359375 -1.421875 13.671875 8.265625 \r\nQ 6.984375 17.96875 6.984375 36.375 \r\nQ 6.984375 53.65625 15.1875 63.9375 \r\nQ 23.390625 74.21875 37.203125 74.21875 \r\nQ 40.921875 74.21875 44.703125 73.484375 \r\nQ 48.484375 72.75 52.59375 71.296875 \r\nz\r\n\" id=\"DejaVuSans-54\"/>\r\n       </defs>\r\n       <use xlink:href=\"#DejaVuSans-54\"/>\r\n      </g>\r\n     </g>\r\n    </g>\r\n    <g id=\"xtick_5\">\r\n     <g id=\"line2d_9\">\r\n      <path clip-path=\"url(#pea6231641b)\" d=\"M 289.253125 239.9625 \r\nL 289.253125 22.5225 \r\n\" style=\"fill:none;stroke:#b0b0b0;stroke-linecap:square;stroke-width:0.8;\"/>\r\n     </g>\r\n     <g id=\"line2d_10\">\r\n      <g>\r\n       <use style=\"stroke:#000000;stroke-width:0.8;\" x=\"289.253125\" xlink:href=\"#mb0ac776716\" y=\"239.9625\"/>\r\n      </g>\r\n     </g>\r\n     <g id=\"text_5\">\r\n      <!-- 8 -->\r\n      <g transform=\"translate(286.071875 254.560937)scale(0.1 -0.1)\">\r\n       <defs>\r\n        <path d=\"M 31.78125 34.625 \r\nQ 24.75 34.625 20.71875 30.859375 \r\nQ 16.703125 27.09375 16.703125 20.515625 \r\nQ 16.703125 13.921875 20.71875 10.15625 \r\nQ 24.75 6.390625 31.78125 6.390625 \r\nQ 38.8125 6.390625 42.859375 10.171875 \r\nQ 46.921875 13.96875 46.921875 20.515625 \r\nQ 46.921875 27.09375 42.890625 30.859375 \r\nQ 38.875 34.625 31.78125 34.625 \r\nz\r\nM 21.921875 38.8125 \r\nQ 15.578125 40.375 12.03125 44.71875 \r\nQ 8.5 49.078125 8.5 55.328125 \r\nQ 8.5 64.0625 14.71875 69.140625 \r\nQ 20.953125 74.21875 31.78125 74.21875 \r\nQ 42.671875 74.21875 48.875 69.140625 \r\nQ 55.078125 64.0625 55.078125 55.328125 \r\nQ 55.078125 49.078125 51.53125 44.71875 \r\nQ 48 40.375 41.703125 38.8125 \r\nQ 48.828125 37.15625 52.796875 32.3125 \r\nQ 56.78125 27.484375 56.78125 20.515625 \r\nQ 56.78125 9.90625 50.3125 4.234375 \r\nQ 43.84375 -1.421875 31.78125 -1.421875 \r\nQ 19.734375 -1.421875 13.25 4.234375 \r\nQ 6.78125 9.90625 6.78125 20.515625 \r\nQ 6.78125 27.484375 10.78125 32.3125 \r\nQ 14.796875 37.15625 21.921875 38.8125 \r\nz\r\nM 18.3125 54.390625 \r\nQ 18.3125 48.734375 21.84375 45.5625 \r\nQ 25.390625 42.390625 31.78125 42.390625 \r\nQ 38.140625 42.390625 41.71875 45.5625 \r\nQ 45.3125 48.734375 45.3125 54.390625 \r\nQ 45.3125 60.0625 41.71875 63.234375 \r\nQ 38.140625 66.40625 31.78125 66.40625 \r\nQ 25.390625 66.40625 21.84375 63.234375 \r\nQ 18.3125 60.0625 18.3125 54.390625 \r\nz\r\n\" id=\"DejaVuSans-56\"/>\r\n       </defs>\r\n       <use xlink:href=\"#DejaVuSans-56\"/>\r\n      </g>\r\n     </g>\r\n    </g>\r\n    <g id=\"xtick_6\">\r\n     <g id=\"line2d_11\">\r\n      <path clip-path=\"url(#pea6231641b)\" d=\"M 345.053125 239.9625 \r\nL 345.053125 22.5225 \r\n\" style=\"fill:none;stroke:#b0b0b0;stroke-linecap:square;stroke-width:0.8;\"/>\r\n     </g>\r\n     <g id=\"line2d_12\">\r\n      <g>\r\n       <use style=\"stroke:#000000;stroke-width:0.8;\" x=\"345.053125\" xlink:href=\"#mb0ac776716\" y=\"239.9625\"/>\r\n      </g>\r\n     </g>\r\n     <g id=\"text_6\">\r\n      <!-- 10 -->\r\n      <g transform=\"translate(338.690625 254.560937)scale(0.1 -0.1)\">\r\n       <defs>\r\n        <path d=\"M 12.40625 8.296875 \r\nL 28.515625 8.296875 \r\nL 28.515625 63.921875 \r\nL 10.984375 60.40625 \r\nL 10.984375 69.390625 \r\nL 28.421875 72.90625 \r\nL 38.28125 72.90625 \r\nL 38.28125 8.296875 \r\nL 54.390625 8.296875 \r\nL 54.390625 0 \r\nL 12.40625 0 \r\nz\r\n\" id=\"DejaVuSans-49\"/>\r\n       </defs>\r\n       <use xlink:href=\"#DejaVuSans-49\"/>\r\n       <use x=\"63.623047\" xlink:href=\"#DejaVuSans-48\"/>\r\n      </g>\r\n     </g>\r\n    </g>\r\n    <g id=\"xtick_7\">\r\n     <g id=\"line2d_13\">\r\n      <path clip-path=\"url(#pea6231641b)\" d=\"M 400.853125 239.9625 \r\nL 400.853125 22.5225 \r\n\" style=\"fill:none;stroke:#b0b0b0;stroke-linecap:square;stroke-width:0.8;\"/>\r\n     </g>\r\n     <g id=\"line2d_14\">\r\n      <g>\r\n       <use style=\"stroke:#000000;stroke-width:0.8;\" x=\"400.853125\" xlink:href=\"#mb0ac776716\" y=\"239.9625\"/>\r\n      </g>\r\n     </g>\r\n     <g id=\"text_7\">\r\n      <!-- 12 -->\r\n      <g transform=\"translate(394.490625 254.560937)scale(0.1 -0.1)\">\r\n       <use xlink:href=\"#DejaVuSans-49\"/>\r\n       <use x=\"63.623047\" xlink:href=\"#DejaVuSans-50\"/>\r\n      </g>\r\n     </g>\r\n    </g>\r\n    <g id=\"text_8\">\r\n     <!-- años de trabajo -->\r\n     <g transform=\"translate(194.360938 268.409375)scale(0.1 -0.1)\">\r\n      <defs>\r\n       <path d=\"M 34.28125 27.484375 \r\nQ 23.390625 27.484375 19.1875 25 \r\nQ 14.984375 22.515625 14.984375 16.5 \r\nQ 14.984375 11.71875 18.140625 8.90625 \r\nQ 21.296875 6.109375 26.703125 6.109375 \r\nQ 34.1875 6.109375 38.703125 11.40625 \r\nQ 43.21875 16.703125 43.21875 25.484375 \r\nL 43.21875 27.484375 \r\nz\r\nM 52.203125 31.203125 \r\nL 52.203125 0 \r\nL 43.21875 0 \r\nL 43.21875 8.296875 \r\nQ 40.140625 3.328125 35.546875 0.953125 \r\nQ 30.953125 -1.421875 24.3125 -1.421875 \r\nQ 15.921875 -1.421875 10.953125 3.296875 \r\nQ 6 8.015625 6 15.921875 \r\nQ 6 25.140625 12.171875 29.828125 \r\nQ 18.359375 34.515625 30.609375 34.515625 \r\nL 43.21875 34.515625 \r\nL 43.21875 35.40625 \r\nQ 43.21875 41.609375 39.140625 45 \r\nQ 35.0625 48.390625 27.6875 48.390625 \r\nQ 23 48.390625 18.546875 47.265625 \r\nQ 14.109375 46.140625 10.015625 43.890625 \r\nL 10.015625 52.203125 \r\nQ 14.9375 54.109375 19.578125 55.046875 \r\nQ 24.21875 56 28.609375 56 \r\nQ 40.484375 56 46.34375 49.84375 \r\nQ 52.203125 43.703125 52.203125 31.203125 \r\nz\r\n\" id=\"DejaVuSans-97\"/>\r\n       <path d=\"M 54.890625 33.015625 \r\nL 54.890625 0 \r\nL 45.90625 0 \r\nL 45.90625 32.71875 \r\nQ 45.90625 40.484375 42.875 44.328125 \r\nQ 39.84375 48.1875 33.796875 48.1875 \r\nQ 26.515625 48.1875 22.3125 43.546875 \r\nQ 18.109375 38.921875 18.109375 30.90625 \r\nL 18.109375 0 \r\nL 9.078125 0 \r\nL 9.078125 54.6875 \r\nL 18.109375 54.6875 \r\nL 18.109375 46.1875 \r\nQ 21.34375 51.125 25.703125 53.5625 \r\nQ 30.078125 56 35.796875 56 \r\nQ 45.21875 56 50.046875 50.171875 \r\nQ 54.890625 44.34375 54.890625 33.015625 \r\nz\r\nM 32.234375 66.890625 \r\nL 29.4375 69.578125 \r\nQ 28.375 70.5625 27.5625 71.015625 \r\nQ 26.765625 71.484375 26.125 71.484375 \r\nQ 24.265625 71.484375 23.390625 69.703125 \r\nQ 22.515625 67.921875 22.40625 63.921875 \r\nL 16.3125 63.921875 \r\nQ 16.40625 70.515625 18.890625 74.09375 \r\nQ 21.390625 77.6875 25.828125 77.6875 \r\nQ 27.6875 77.6875 29.25 77 \r\nQ 30.8125 76.3125 32.625 74.703125 \r\nL 35.40625 72.015625 \r\nQ 36.46875 71.046875 37.28125 70.578125 \r\nQ 38.09375 70.125 38.71875 70.125 \r\nQ 40.578125 70.125 41.453125 71.90625 \r\nQ 42.328125 73.6875 42.4375 77.6875 \r\nL 48.53125 77.6875 \r\nQ 48.4375 71.09375 45.9375 67.5 \r\nQ 43.453125 63.921875 39.015625 63.921875 \r\nQ 37.15625 63.921875 35.59375 64.59375 \r\nQ 34.03125 65.28125 32.234375 66.890625 \r\nz\r\n\" id=\"DejaVuSans-241\"/>\r\n       <path d=\"M 30.609375 48.390625 \r\nQ 23.390625 48.390625 19.1875 42.75 \r\nQ 14.984375 37.109375 14.984375 27.296875 \r\nQ 14.984375 17.484375 19.15625 11.84375 \r\nQ 23.34375 6.203125 30.609375 6.203125 \r\nQ 37.796875 6.203125 41.984375 11.859375 \r\nQ 46.1875 17.53125 46.1875 27.296875 \r\nQ 46.1875 37.015625 41.984375 42.703125 \r\nQ 37.796875 48.390625 30.609375 48.390625 \r\nz\r\nM 30.609375 56 \r\nQ 42.328125 56 49.015625 48.375 \r\nQ 55.71875 40.765625 55.71875 27.296875 \r\nQ 55.71875 13.875 49.015625 6.21875 \r\nQ 42.328125 -1.421875 30.609375 -1.421875 \r\nQ 18.84375 -1.421875 12.171875 6.21875 \r\nQ 5.515625 13.875 5.515625 27.296875 \r\nQ 5.515625 40.765625 12.171875 48.375 \r\nQ 18.84375 56 30.609375 56 \r\nz\r\n\" id=\"DejaVuSans-111\"/>\r\n       <path d=\"M 44.28125 53.078125 \r\nL 44.28125 44.578125 \r\nQ 40.484375 46.53125 36.375 47.5 \r\nQ 32.28125 48.484375 27.875 48.484375 \r\nQ 21.1875 48.484375 17.84375 46.4375 \r\nQ 14.5 44.390625 14.5 40.28125 \r\nQ 14.5 37.15625 16.890625 35.375 \r\nQ 19.28125 33.59375 26.515625 31.984375 \r\nL 29.59375 31.296875 \r\nQ 39.15625 29.25 43.1875 25.515625 \r\nQ 47.21875 21.78125 47.21875 15.09375 \r\nQ 47.21875 7.46875 41.1875 3.015625 \r\nQ 35.15625 -1.421875 24.609375 -1.421875 \r\nQ 20.21875 -1.421875 15.453125 -0.5625 \r\nQ 10.6875 0.296875 5.421875 2 \r\nL 5.421875 11.28125 \r\nQ 10.40625 8.6875 15.234375 7.390625 \r\nQ 20.0625 6.109375 24.8125 6.109375 \r\nQ 31.15625 6.109375 34.5625 8.28125 \r\nQ 37.984375 10.453125 37.984375 14.40625 \r\nQ 37.984375 18.0625 35.515625 20.015625 \r\nQ 33.0625 21.96875 24.703125 23.78125 \r\nL 21.578125 24.515625 \r\nQ 13.234375 26.265625 9.515625 29.90625 \r\nQ 5.8125 33.546875 5.8125 39.890625 \r\nQ 5.8125 47.609375 11.28125 51.796875 \r\nQ 16.75 56 26.8125 56 \r\nQ 31.78125 56 36.171875 55.265625 \r\nQ 40.578125 54.546875 44.28125 53.078125 \r\nz\r\n\" id=\"DejaVuSans-115\"/>\r\n       <path id=\"DejaVuSans-32\"/>\r\n       <path d=\"M 45.40625 46.390625 \r\nL 45.40625 75.984375 \r\nL 54.390625 75.984375 \r\nL 54.390625 0 \r\nL 45.40625 0 \r\nL 45.40625 8.203125 \r\nQ 42.578125 3.328125 38.25 0.953125 \r\nQ 33.9375 -1.421875 27.875 -1.421875 \r\nQ 17.96875 -1.421875 11.734375 6.484375 \r\nQ 5.515625 14.40625 5.515625 27.296875 \r\nQ 5.515625 40.1875 11.734375 48.09375 \r\nQ 17.96875 56 27.875 56 \r\nQ 33.9375 56 38.25 53.625 \r\nQ 42.578125 51.265625 45.40625 46.390625 \r\nz\r\nM 14.796875 27.296875 \r\nQ 14.796875 17.390625 18.875 11.75 \r\nQ 22.953125 6.109375 30.078125 6.109375 \r\nQ 37.203125 6.109375 41.296875 11.75 \r\nQ 45.40625 17.390625 45.40625 27.296875 \r\nQ 45.40625 37.203125 41.296875 42.84375 \r\nQ 37.203125 48.484375 30.078125 48.484375 \r\nQ 22.953125 48.484375 18.875 42.84375 \r\nQ 14.796875 37.203125 14.796875 27.296875 \r\nz\r\n\" id=\"DejaVuSans-100\"/>\r\n       <path d=\"M 56.203125 29.59375 \r\nL 56.203125 25.203125 \r\nL 14.890625 25.203125 \r\nQ 15.484375 15.921875 20.484375 11.0625 \r\nQ 25.484375 6.203125 34.421875 6.203125 \r\nQ 39.59375 6.203125 44.453125 7.46875 \r\nQ 49.3125 8.734375 54.109375 11.28125 \r\nL 54.109375 2.78125 \r\nQ 49.265625 0.734375 44.1875 -0.34375 \r\nQ 39.109375 -1.421875 33.890625 -1.421875 \r\nQ 20.796875 -1.421875 13.15625 6.1875 \r\nQ 5.515625 13.8125 5.515625 26.8125 \r\nQ 5.515625 40.234375 12.765625 48.109375 \r\nQ 20.015625 56 32.328125 56 \r\nQ 43.359375 56 49.78125 48.890625 \r\nQ 56.203125 41.796875 56.203125 29.59375 \r\nz\r\nM 47.21875 32.234375 \r\nQ 47.125 39.59375 43.09375 43.984375 \r\nQ 39.0625 48.390625 32.421875 48.390625 \r\nQ 24.90625 48.390625 20.390625 44.140625 \r\nQ 15.875 39.890625 15.1875 32.171875 \r\nz\r\n\" id=\"DejaVuSans-101\"/>\r\n       <path d=\"M 18.3125 70.21875 \r\nL 18.3125 54.6875 \r\nL 36.8125 54.6875 \r\nL 36.8125 47.703125 \r\nL 18.3125 47.703125 \r\nL 18.3125 18.015625 \r\nQ 18.3125 11.328125 20.140625 9.421875 \r\nQ 21.96875 7.515625 27.59375 7.515625 \r\nL 36.8125 7.515625 \r\nL 36.8125 0 \r\nL 27.59375 0 \r\nQ 17.1875 0 13.234375 3.875 \r\nQ 9.28125 7.765625 9.28125 18.015625 \r\nL 9.28125 47.703125 \r\nL 2.6875 47.703125 \r\nL 2.6875 54.6875 \r\nL 9.28125 54.6875 \r\nL 9.28125 70.21875 \r\nz\r\n\" id=\"DejaVuSans-116\"/>\r\n       <path d=\"M 41.109375 46.296875 \r\nQ 39.59375 47.171875 37.8125 47.578125 \r\nQ 36.03125 48 33.890625 48 \r\nQ 26.265625 48 22.1875 43.046875 \r\nQ 18.109375 38.09375 18.109375 28.8125 \r\nL 18.109375 0 \r\nL 9.078125 0 \r\nL 9.078125 54.6875 \r\nL 18.109375 54.6875 \r\nL 18.109375 46.1875 \r\nQ 20.953125 51.171875 25.484375 53.578125 \r\nQ 30.03125 56 36.53125 56 \r\nQ 37.453125 56 38.578125 55.875 \r\nQ 39.703125 55.765625 41.0625 55.515625 \r\nz\r\n\" id=\"DejaVuSans-114\"/>\r\n       <path d=\"M 48.6875 27.296875 \r\nQ 48.6875 37.203125 44.609375 42.84375 \r\nQ 40.53125 48.484375 33.40625 48.484375 \r\nQ 26.265625 48.484375 22.1875 42.84375 \r\nQ 18.109375 37.203125 18.109375 27.296875 \r\nQ 18.109375 17.390625 22.1875 11.75 \r\nQ 26.265625 6.109375 33.40625 6.109375 \r\nQ 40.53125 6.109375 44.609375 11.75 \r\nQ 48.6875 17.390625 48.6875 27.296875 \r\nz\r\nM 18.109375 46.390625 \r\nQ 20.953125 51.265625 25.265625 53.625 \r\nQ 29.59375 56 35.59375 56 \r\nQ 45.5625 56 51.78125 48.09375 \r\nQ 58.015625 40.1875 58.015625 27.296875 \r\nQ 58.015625 14.40625 51.78125 6.484375 \r\nQ 45.5625 -1.421875 35.59375 -1.421875 \r\nQ 29.59375 -1.421875 25.265625 0.953125 \r\nQ 20.953125 3.328125 18.109375 8.203125 \r\nL 18.109375 0 \r\nL 9.078125 0 \r\nL 9.078125 75.984375 \r\nL 18.109375 75.984375 \r\nz\r\n\" id=\"DejaVuSans-98\"/>\r\n       <path d=\"M 9.421875 54.6875 \r\nL 18.40625 54.6875 \r\nL 18.40625 -0.984375 \r\nQ 18.40625 -11.421875 14.421875 -16.109375 \r\nQ 10.453125 -20.796875 1.609375 -20.796875 \r\nL -1.8125 -20.796875 \r\nL -1.8125 -13.1875 \r\nL 0.59375 -13.1875 \r\nQ 5.71875 -13.1875 7.5625 -10.8125 \r\nQ 9.421875 -8.453125 9.421875 -0.984375 \r\nz\r\nM 9.421875 75.984375 \r\nL 18.40625 75.984375 \r\nL 18.40625 64.59375 \r\nL 9.421875 64.59375 \r\nz\r\n\" id=\"DejaVuSans-106\"/>\r\n      </defs>\r\n      <use xlink:href=\"#DejaVuSans-97\"/>\r\n      <use x=\"61.279297\" xlink:href=\"#DejaVuSans-241\"/>\r\n      <use x=\"124.658203\" xlink:href=\"#DejaVuSans-111\"/>\r\n      <use x=\"185.839844\" xlink:href=\"#DejaVuSans-115\"/>\r\n      <use x=\"237.939453\" xlink:href=\"#DejaVuSans-32\"/>\r\n      <use x=\"269.726562\" xlink:href=\"#DejaVuSans-100\"/>\r\n      <use x=\"333.203125\" xlink:href=\"#DejaVuSans-101\"/>\r\n      <use x=\"394.726562\" xlink:href=\"#DejaVuSans-32\"/>\r\n      <use x=\"426.513672\" xlink:href=\"#DejaVuSans-116\"/>\r\n      <use x=\"465.722656\" xlink:href=\"#DejaVuSans-114\"/>\r\n      <use x=\"506.835938\" xlink:href=\"#DejaVuSans-97\"/>\r\n      <use x=\"568.115234\" xlink:href=\"#DejaVuSans-98\"/>\r\n      <use x=\"631.591797\" xlink:href=\"#DejaVuSans-97\"/>\r\n      <use x=\"692.871094\" xlink:href=\"#DejaVuSans-106\"/>\r\n      <use x=\"720.654297\" xlink:href=\"#DejaVuSans-111\"/>\r\n     </g>\r\n    </g>\r\n   </g>\r\n   <g id=\"matplotlib.axis_2\">\r\n    <g id=\"ytick_1\">\r\n     <g id=\"line2d_15\">\r\n      <path clip-path=\"url(#pea6231641b)\" d=\"M 66.053125 218.2185 \r\nL 400.853125 218.2185 \r\n\" style=\"fill:none;stroke:#b0b0b0;stroke-linecap:square;stroke-width:0.8;\"/>\r\n     </g>\r\n     <g id=\"line2d_16\">\r\n      <defs>\r\n       <path d=\"M 0 0 \r\nL -3.5 0 \r\n\" id=\"m60ba30055d\" style=\"stroke:#000000;stroke-width:0.8;\"/>\r\n      </defs>\r\n      <g>\r\n       <use style=\"stroke:#000000;stroke-width:0.8;\" x=\"66.053125\" xlink:href=\"#m60ba30055d\" y=\"218.2185\"/>\r\n      </g>\r\n     </g>\r\n     <g id=\"text_9\">\r\n      <!-- 40000 -->\r\n      <g transform=\"translate(27.240625 222.017719)scale(0.1 -0.1)\">\r\n       <use xlink:href=\"#DejaVuSans-52\"/>\r\n       <use x=\"63.623047\" xlink:href=\"#DejaVuSans-48\"/>\r\n       <use x=\"127.246094\" xlink:href=\"#DejaVuSans-48\"/>\r\n       <use x=\"190.869141\" xlink:href=\"#DejaVuSans-48\"/>\r\n       <use x=\"254.492188\" xlink:href=\"#DejaVuSans-48\"/>\r\n      </g>\r\n     </g>\r\n    </g>\r\n    <g id=\"ytick_2\">\r\n     <g id=\"line2d_17\">\r\n      <path clip-path=\"url(#pea6231641b)\" d=\"M 66.053125 174.7305 \r\nL 400.853125 174.7305 \r\n\" style=\"fill:none;stroke:#b0b0b0;stroke-linecap:square;stroke-width:0.8;\"/>\r\n     </g>\r\n     <g id=\"line2d_18\">\r\n      <g>\r\n       <use style=\"stroke:#000000;stroke-width:0.8;\" x=\"66.053125\" xlink:href=\"#m60ba30055d\" y=\"174.7305\"/>\r\n      </g>\r\n     </g>\r\n     <g id=\"text_10\">\r\n      <!-- 60000 -->\r\n      <g transform=\"translate(27.240625 178.529719)scale(0.1 -0.1)\">\r\n       <use xlink:href=\"#DejaVuSans-54\"/>\r\n       <use x=\"63.623047\" xlink:href=\"#DejaVuSans-48\"/>\r\n       <use x=\"127.246094\" xlink:href=\"#DejaVuSans-48\"/>\r\n       <use x=\"190.869141\" xlink:href=\"#DejaVuSans-48\"/>\r\n       <use x=\"254.492188\" xlink:href=\"#DejaVuSans-48\"/>\r\n      </g>\r\n     </g>\r\n    </g>\r\n    <g id=\"ytick_3\">\r\n     <g id=\"line2d_19\">\r\n      <path clip-path=\"url(#pea6231641b)\" d=\"M 66.053125 131.2425 \r\nL 400.853125 131.2425 \r\n\" style=\"fill:none;stroke:#b0b0b0;stroke-linecap:square;stroke-width:0.8;\"/>\r\n     </g>\r\n     <g id=\"line2d_20\">\r\n      <g>\r\n       <use style=\"stroke:#000000;stroke-width:0.8;\" x=\"66.053125\" xlink:href=\"#m60ba30055d\" y=\"131.2425\"/>\r\n      </g>\r\n     </g>\r\n     <g id=\"text_11\">\r\n      <!-- 80000 -->\r\n      <g transform=\"translate(27.240625 135.041719)scale(0.1 -0.1)\">\r\n       <use xlink:href=\"#DejaVuSans-56\"/>\r\n       <use x=\"63.623047\" xlink:href=\"#DejaVuSans-48\"/>\r\n       <use x=\"127.246094\" xlink:href=\"#DejaVuSans-48\"/>\r\n       <use x=\"190.869141\" xlink:href=\"#DejaVuSans-48\"/>\r\n       <use x=\"254.492188\" xlink:href=\"#DejaVuSans-48\"/>\r\n      </g>\r\n     </g>\r\n    </g>\r\n    <g id=\"ytick_4\">\r\n     <g id=\"line2d_21\">\r\n      <path clip-path=\"url(#pea6231641b)\" d=\"M 66.053125 87.7545 \r\nL 400.853125 87.7545 \r\n\" style=\"fill:none;stroke:#b0b0b0;stroke-linecap:square;stroke-width:0.8;\"/>\r\n     </g>\r\n     <g id=\"line2d_22\">\r\n      <g>\r\n       <use style=\"stroke:#000000;stroke-width:0.8;\" x=\"66.053125\" xlink:href=\"#m60ba30055d\" y=\"87.7545\"/>\r\n      </g>\r\n     </g>\r\n     <g id=\"text_12\">\r\n      <!-- 100000 -->\r\n      <g transform=\"translate(20.878125 91.553719)scale(0.1 -0.1)\">\r\n       <use xlink:href=\"#DejaVuSans-49\"/>\r\n       <use x=\"63.623047\" xlink:href=\"#DejaVuSans-48\"/>\r\n       <use x=\"127.246094\" xlink:href=\"#DejaVuSans-48\"/>\r\n       <use x=\"190.869141\" xlink:href=\"#DejaVuSans-48\"/>\r\n       <use x=\"254.492188\" xlink:href=\"#DejaVuSans-48\"/>\r\n       <use x=\"318.115234\" xlink:href=\"#DejaVuSans-48\"/>\r\n      </g>\r\n     </g>\r\n    </g>\r\n    <g id=\"ytick_5\">\r\n     <g id=\"line2d_23\">\r\n      <path clip-path=\"url(#pea6231641b)\" d=\"M 66.053125 44.2665 \r\nL 400.853125 44.2665 \r\n\" style=\"fill:none;stroke:#b0b0b0;stroke-linecap:square;stroke-width:0.8;\"/>\r\n     </g>\r\n     <g id=\"line2d_24\">\r\n      <g>\r\n       <use style=\"stroke:#000000;stroke-width:0.8;\" x=\"66.053125\" xlink:href=\"#m60ba30055d\" y=\"44.2665\"/>\r\n      </g>\r\n     </g>\r\n     <g id=\"text_13\">\r\n      <!-- 120000 -->\r\n      <g transform=\"translate(20.878125 48.065719)scale(0.1 -0.1)\">\r\n       <use xlink:href=\"#DejaVuSans-49\"/>\r\n       <use x=\"63.623047\" xlink:href=\"#DejaVuSans-50\"/>\r\n       <use x=\"127.246094\" xlink:href=\"#DejaVuSans-48\"/>\r\n       <use x=\"190.869141\" xlink:href=\"#DejaVuSans-48\"/>\r\n       <use x=\"254.492188\" xlink:href=\"#DejaVuSans-48\"/>\r\n       <use x=\"318.115234\" xlink:href=\"#DejaVuSans-48\"/>\r\n      </g>\r\n     </g>\r\n    </g>\r\n    <g id=\"text_14\">\r\n     <!-- salario -->\r\n     <g transform=\"translate(14.798438 147.868281)rotate(-90)scale(0.1 -0.1)\">\r\n      <defs>\r\n       <path d=\"M 9.421875 75.984375 \r\nL 18.40625 75.984375 \r\nL 18.40625 0 \r\nL 9.421875 0 \r\nz\r\n\" id=\"DejaVuSans-108\"/>\r\n       <path d=\"M 9.421875 54.6875 \r\nL 18.40625 54.6875 \r\nL 18.40625 0 \r\nL 9.421875 0 \r\nz\r\nM 9.421875 75.984375 \r\nL 18.40625 75.984375 \r\nL 18.40625 64.59375 \r\nL 9.421875 64.59375 \r\nz\r\n\" id=\"DejaVuSans-105\"/>\r\n      </defs>\r\n      <use xlink:href=\"#DejaVuSans-115\"/>\r\n      <use x=\"52.099609\" xlink:href=\"#DejaVuSans-97\"/>\r\n      <use x=\"113.378906\" xlink:href=\"#DejaVuSans-108\"/>\r\n      <use x=\"141.162109\" xlink:href=\"#DejaVuSans-97\"/>\r\n      <use x=\"202.441406\" xlink:href=\"#DejaVuSans-114\"/>\r\n      <use x=\"243.554688\" xlink:href=\"#DejaVuSans-105\"/>\r\n      <use x=\"271.337891\" xlink:href=\"#DejaVuSans-111\"/>\r\n     </g>\r\n    </g>\r\n   </g>\r\n   <g id=\"line2d_25\">\r\n    <path clip-path=\"url(#pea6231641b)\" d=\"M 96.743125 219.647081 \r\nL 102.323125 204.726348 \r\nL 107.903125 223.152214 \r\nL 121.853125 210.55374 \r\nL 127.433125 218.45551 \r\nL 146.963125 182.032135 \r\nL 149.753125 174.40434 \r\nL 155.333125 186.809292 \r\nL 155.333125 165.065292 \r\nL 169.283125 180.842738 \r\nL 174.863125 167.733281 \r\nL 177.653125 183.876026 \r\nL 177.653125 181.347199 \r\nL 180.443125 181.077574 \r\nL 191.603125 172.314742 \r\nL 202.763125 157.470113 \r\nL 208.343125 161.621042 \r\nL 213.923125 124.527953 \r\nL 230.663125 128.278793 \r\nL 233.453125 100.931364 \r\nL 255.773125 105.719393 \r\nL 264.143125 91.509689 \r\nL 286.463125 84.923431 \r\nL 294.833125 57.721687 \r\nL 308.783125 67.247734 \r\nL 317.153125 75.616999 \r\nL 331.103125 50.857106 \r\nL 333.893125 60.280956 \r\nL 353.423125 39.06751 \r\nL 359.003125 40.196023 \r\n\" style=\"fill:none;stroke:#ff0000;stroke-dasharray:5.55,2.4;stroke-dashoffset:0;stroke-width:1.5;\"/>\r\n   </g>\r\n   <g id=\"patch_3\">\r\n    <path d=\"M 66.053125 239.9625 \r\nL 66.053125 22.5225 \r\n\" style=\"fill:none;stroke:#000000;stroke-linecap:square;stroke-linejoin:miter;stroke-width:0.8;\"/>\r\n   </g>\r\n   <g id=\"patch_4\">\r\n    <path d=\"M 400.853125 239.9625 \r\nL 400.853125 22.5225 \r\n\" style=\"fill:none;stroke:#000000;stroke-linecap:square;stroke-linejoin:miter;stroke-width:0.8;\"/>\r\n   </g>\r\n   <g id=\"patch_5\">\r\n    <path d=\"M 66.053125 239.9625 \r\nL 400.853125 239.9625 \r\n\" style=\"fill:none;stroke:#000000;stroke-linecap:square;stroke-linejoin:miter;stroke-width:0.8;\"/>\r\n   </g>\r\n   <g id=\"patch_6\">\r\n    <path d=\"M 66.053125 22.5225 \r\nL 400.853125 22.5225 \r\n\" style=\"fill:none;stroke:#000000;stroke-linecap:square;stroke-linejoin:miter;stroke-width:0.8;\"/>\r\n   </g>\r\n   <g id=\"text_15\">\r\n    <!-- distribucion del salio y años de la empresa S.A.  -->\r\n    <g transform=\"translate(89.711875 16.5225)scale(0.12 -0.12)\">\r\n     <defs>\r\n      <path d=\"M 8.5 21.578125 \r\nL 8.5 54.6875 \r\nL 17.484375 54.6875 \r\nL 17.484375 21.921875 \r\nQ 17.484375 14.15625 20.5 10.265625 \r\nQ 23.53125 6.390625 29.59375 6.390625 \r\nQ 36.859375 6.390625 41.078125 11.03125 \r\nQ 45.3125 15.671875 45.3125 23.6875 \r\nL 45.3125 54.6875 \r\nL 54.296875 54.6875 \r\nL 54.296875 0 \r\nL 45.3125 0 \r\nL 45.3125 8.40625 \r\nQ 42.046875 3.421875 37.71875 1 \r\nQ 33.40625 -1.421875 27.6875 -1.421875 \r\nQ 18.265625 -1.421875 13.375 4.4375 \r\nQ 8.5 10.296875 8.5 21.578125 \r\nz\r\nM 31.109375 56 \r\nz\r\n\" id=\"DejaVuSans-117\"/>\r\n      <path d=\"M 48.78125 52.59375 \r\nL 48.78125 44.1875 \r\nQ 44.96875 46.296875 41.140625 47.34375 \r\nQ 37.3125 48.390625 33.40625 48.390625 \r\nQ 24.65625 48.390625 19.8125 42.84375 \r\nQ 14.984375 37.3125 14.984375 27.296875 \r\nQ 14.984375 17.28125 19.8125 11.734375 \r\nQ 24.65625 6.203125 33.40625 6.203125 \r\nQ 37.3125 6.203125 41.140625 7.25 \r\nQ 44.96875 8.296875 48.78125 10.40625 \r\nL 48.78125 2.09375 \r\nQ 45.015625 0.34375 40.984375 -0.53125 \r\nQ 36.96875 -1.421875 32.421875 -1.421875 \r\nQ 20.0625 -1.421875 12.78125 6.34375 \r\nQ 5.515625 14.109375 5.515625 27.296875 \r\nQ 5.515625 40.671875 12.859375 48.328125 \r\nQ 20.21875 56 33.015625 56 \r\nQ 37.15625 56 41.109375 55.140625 \r\nQ 45.0625 54.296875 48.78125 52.59375 \r\nz\r\n\" id=\"DejaVuSans-99\"/>\r\n      <path d=\"M 54.890625 33.015625 \r\nL 54.890625 0 \r\nL 45.90625 0 \r\nL 45.90625 32.71875 \r\nQ 45.90625 40.484375 42.875 44.328125 \r\nQ 39.84375 48.1875 33.796875 48.1875 \r\nQ 26.515625 48.1875 22.3125 43.546875 \r\nQ 18.109375 38.921875 18.109375 30.90625 \r\nL 18.109375 0 \r\nL 9.078125 0 \r\nL 9.078125 54.6875 \r\nL 18.109375 54.6875 \r\nL 18.109375 46.1875 \r\nQ 21.34375 51.125 25.703125 53.5625 \r\nQ 30.078125 56 35.796875 56 \r\nQ 45.21875 56 50.046875 50.171875 \r\nQ 54.890625 44.34375 54.890625 33.015625 \r\nz\r\n\" id=\"DejaVuSans-110\"/>\r\n      <path d=\"M 32.171875 -5.078125 \r\nQ 28.375 -14.84375 24.75 -17.8125 \r\nQ 21.140625 -20.796875 15.09375 -20.796875 \r\nL 7.90625 -20.796875 \r\nL 7.90625 -13.28125 \r\nL 13.1875 -13.28125 \r\nQ 16.890625 -13.28125 18.9375 -11.515625 \r\nQ 21 -9.765625 23.484375 -3.21875 \r\nL 25.09375 0.875 \r\nL 2.984375 54.6875 \r\nL 12.5 54.6875 \r\nL 29.59375 11.921875 \r\nL 46.6875 54.6875 \r\nL 56.203125 54.6875 \r\nz\r\n\" id=\"DejaVuSans-121\"/>\r\n      <path d=\"M 52 44.1875 \r\nQ 55.375 50.25 60.0625 53.125 \r\nQ 64.75 56 71.09375 56 \r\nQ 79.640625 56 84.28125 50.015625 \r\nQ 88.921875 44.046875 88.921875 33.015625 \r\nL 88.921875 0 \r\nL 79.890625 0 \r\nL 79.890625 32.71875 \r\nQ 79.890625 40.578125 77.09375 44.375 \r\nQ 74.3125 48.1875 68.609375 48.1875 \r\nQ 61.625 48.1875 57.5625 43.546875 \r\nQ 53.515625 38.921875 53.515625 30.90625 \r\nL 53.515625 0 \r\nL 44.484375 0 \r\nL 44.484375 32.71875 \r\nQ 44.484375 40.625 41.703125 44.40625 \r\nQ 38.921875 48.1875 33.109375 48.1875 \r\nQ 26.21875 48.1875 22.15625 43.53125 \r\nQ 18.109375 38.875 18.109375 30.90625 \r\nL 18.109375 0 \r\nL 9.078125 0 \r\nL 9.078125 54.6875 \r\nL 18.109375 54.6875 \r\nL 18.109375 46.1875 \r\nQ 21.1875 51.21875 25.484375 53.609375 \r\nQ 29.78125 56 35.6875 56 \r\nQ 41.65625 56 45.828125 52.96875 \r\nQ 50 49.953125 52 44.1875 \r\nz\r\n\" id=\"DejaVuSans-109\"/>\r\n      <path d=\"M 18.109375 8.203125 \r\nL 18.109375 -20.796875 \r\nL 9.078125 -20.796875 \r\nL 9.078125 54.6875 \r\nL 18.109375 54.6875 \r\nL 18.109375 46.390625 \r\nQ 20.953125 51.265625 25.265625 53.625 \r\nQ 29.59375 56 35.59375 56 \r\nQ 45.5625 56 51.78125 48.09375 \r\nQ 58.015625 40.1875 58.015625 27.296875 \r\nQ 58.015625 14.40625 51.78125 6.484375 \r\nQ 45.5625 -1.421875 35.59375 -1.421875 \r\nQ 29.59375 -1.421875 25.265625 0.953125 \r\nQ 20.953125 3.328125 18.109375 8.203125 \r\nz\r\nM 48.6875 27.296875 \r\nQ 48.6875 37.203125 44.609375 42.84375 \r\nQ 40.53125 48.484375 33.40625 48.484375 \r\nQ 26.265625 48.484375 22.1875 42.84375 \r\nQ 18.109375 37.203125 18.109375 27.296875 \r\nQ 18.109375 17.390625 22.1875 11.75 \r\nQ 26.265625 6.109375 33.40625 6.109375 \r\nQ 40.53125 6.109375 44.609375 11.75 \r\nQ 48.6875 17.390625 48.6875 27.296875 \r\nz\r\n\" id=\"DejaVuSans-112\"/>\r\n      <path d=\"M 53.515625 70.515625 \r\nL 53.515625 60.890625 \r\nQ 47.90625 63.578125 42.921875 64.890625 \r\nQ 37.9375 66.21875 33.296875 66.21875 \r\nQ 25.25 66.21875 20.875 63.09375 \r\nQ 16.5 59.96875 16.5 54.203125 \r\nQ 16.5 49.359375 19.40625 46.890625 \r\nQ 22.3125 44.4375 30.421875 42.921875 \r\nL 36.375 41.703125 \r\nQ 47.40625 39.59375 52.65625 34.296875 \r\nQ 57.90625 29 57.90625 20.125 \r\nQ 57.90625 9.515625 50.796875 4.046875 \r\nQ 43.703125 -1.421875 29.984375 -1.421875 \r\nQ 24.8125 -1.421875 18.96875 -0.25 \r\nQ 13.140625 0.921875 6.890625 3.21875 \r\nL 6.890625 13.375 \r\nQ 12.890625 10.015625 18.65625 8.296875 \r\nQ 24.421875 6.59375 29.984375 6.59375 \r\nQ 38.421875 6.59375 43.015625 9.90625 \r\nQ 47.609375 13.234375 47.609375 19.390625 \r\nQ 47.609375 24.75 44.3125 27.78125 \r\nQ 41.015625 30.8125 33.5 32.328125 \r\nL 27.484375 33.5 \r\nQ 16.453125 35.6875 11.515625 40.375 \r\nQ 6.59375 45.0625 6.59375 53.421875 \r\nQ 6.59375 63.09375 13.40625 68.65625 \r\nQ 20.21875 74.21875 32.171875 74.21875 \r\nQ 37.3125 74.21875 42.625 73.28125 \r\nQ 47.953125 72.359375 53.515625 70.515625 \r\nz\r\n\" id=\"DejaVuSans-83\"/>\r\n      <path d=\"M 10.6875 12.40625 \r\nL 21 12.40625 \r\nL 21 0 \r\nL 10.6875 0 \r\nz\r\n\" id=\"DejaVuSans-46\"/>\r\n      <path d=\"M 34.1875 63.1875 \r\nL 20.796875 26.90625 \r\nL 47.609375 26.90625 \r\nz\r\nM 28.609375 72.90625 \r\nL 39.796875 72.90625 \r\nL 67.578125 0 \r\nL 57.328125 0 \r\nL 50.6875 18.703125 \r\nL 17.828125 18.703125 \r\nL 11.1875 0 \r\nL 0.78125 0 \r\nz\r\n\" id=\"DejaVuSans-65\"/>\r\n     </defs>\r\n     <use xlink:href=\"#DejaVuSans-100\"/>\r\n     <use x=\"63.476562\" xlink:href=\"#DejaVuSans-105\"/>\r\n     <use x=\"91.259766\" xlink:href=\"#DejaVuSans-115\"/>\r\n     <use x=\"143.359375\" xlink:href=\"#DejaVuSans-116\"/>\r\n     <use x=\"182.568359\" xlink:href=\"#DejaVuSans-114\"/>\r\n     <use x=\"223.681641\" xlink:href=\"#DejaVuSans-105\"/>\r\n     <use x=\"251.464844\" xlink:href=\"#DejaVuSans-98\"/>\r\n     <use x=\"314.941406\" xlink:href=\"#DejaVuSans-117\"/>\r\n     <use x=\"378.320312\" xlink:href=\"#DejaVuSans-99\"/>\r\n     <use x=\"433.300781\" xlink:href=\"#DejaVuSans-105\"/>\r\n     <use x=\"461.083984\" xlink:href=\"#DejaVuSans-111\"/>\r\n     <use x=\"522.265625\" xlink:href=\"#DejaVuSans-110\"/>\r\n     <use x=\"585.644531\" xlink:href=\"#DejaVuSans-32\"/>\r\n     <use x=\"617.431641\" xlink:href=\"#DejaVuSans-100\"/>\r\n     <use x=\"680.908203\" xlink:href=\"#DejaVuSans-101\"/>\r\n     <use x=\"742.431641\" xlink:href=\"#DejaVuSans-108\"/>\r\n     <use x=\"770.214844\" xlink:href=\"#DejaVuSans-32\"/>\r\n     <use x=\"802.001953\" xlink:href=\"#DejaVuSans-115\"/>\r\n     <use x=\"854.101562\" xlink:href=\"#DejaVuSans-97\"/>\r\n     <use x=\"915.380859\" xlink:href=\"#DejaVuSans-108\"/>\r\n     <use x=\"943.164062\" xlink:href=\"#DejaVuSans-105\"/>\r\n     <use x=\"970.947266\" xlink:href=\"#DejaVuSans-111\"/>\r\n     <use x=\"1032.128906\" xlink:href=\"#DejaVuSans-32\"/>\r\n     <use x=\"1063.916016\" xlink:href=\"#DejaVuSans-121\"/>\r\n     <use x=\"1123.095703\" xlink:href=\"#DejaVuSans-32\"/>\r\n     <use x=\"1154.882812\" xlink:href=\"#DejaVuSans-97\"/>\r\n     <use x=\"1216.162109\" xlink:href=\"#DejaVuSans-241\"/>\r\n     <use x=\"1279.541016\" xlink:href=\"#DejaVuSans-111\"/>\r\n     <use x=\"1340.722656\" xlink:href=\"#DejaVuSans-115\"/>\r\n     <use x=\"1392.822266\" xlink:href=\"#DejaVuSans-32\"/>\r\n     <use x=\"1424.609375\" xlink:href=\"#DejaVuSans-100\"/>\r\n     <use x=\"1488.085938\" xlink:href=\"#DejaVuSans-101\"/>\r\n     <use x=\"1549.609375\" xlink:href=\"#DejaVuSans-32\"/>\r\n     <use x=\"1581.396484\" xlink:href=\"#DejaVuSans-108\"/>\r\n     <use x=\"1609.179688\" xlink:href=\"#DejaVuSans-97\"/>\r\n     <use x=\"1670.458984\" xlink:href=\"#DejaVuSans-32\"/>\r\n     <use x=\"1702.246094\" xlink:href=\"#DejaVuSans-101\"/>\r\n     <use x=\"1763.769531\" xlink:href=\"#DejaVuSans-109\"/>\r\n     <use x=\"1861.181641\" xlink:href=\"#DejaVuSans-112\"/>\r\n     <use x=\"1924.658203\" xlink:href=\"#DejaVuSans-114\"/>\r\n     <use x=\"1963.521484\" xlink:href=\"#DejaVuSans-101\"/>\r\n     <use x=\"2025.044922\" xlink:href=\"#DejaVuSans-115\"/>\r\n     <use x=\"2077.144531\" xlink:href=\"#DejaVuSans-97\"/>\r\n     <use x=\"2138.423828\" xlink:href=\"#DejaVuSans-32\"/>\r\n     <use x=\"2170.210938\" xlink:href=\"#DejaVuSans-83\"/>\r\n     <use x=\"2233.6875\" xlink:href=\"#DejaVuSans-46\"/>\r\n     <use x=\"2265.474609\" xlink:href=\"#DejaVuSans-65\"/>\r\n     <use x=\"2332.132812\" xlink:href=\"#DejaVuSans-46\"/>\r\n     <use x=\"2363.919922\" xlink:href=\"#DejaVuSans-32\"/>\r\n    </g>\r\n   </g>\r\n  </g>\r\n </g>\r\n <defs>\r\n  <clipPath id=\"pea6231641b\">\r\n   <rect height=\"217.44\" width=\"334.8\" x=\"66.053125\" y=\"22.5225\"/>\r\n  </clipPath>\r\n </defs>\r\n</svg>\r\n",
      "image/png": "[encoded data removed]"
     },
     "metadata": {
      "needs_background": "light"
     }
    }
   ],
   "source": [
    "import matplotlib.pyplot as plt\n",
    "plt.scatter(años_trabajo,salario, color = \"r\")\n",
    "plt.plot(años_trabajo,salario, color = \"r\", linestyle = \"--\" )\n",
    "plt.xlabel(\"años de trabajo\")\n",
    "plt.ylabel(\"salario\")\n",
    "plt.xlim(0,12)\n",
    "plt.ylim(30000,130000 )\n",
    "plt.title(\"distribucion del salio y años de la empresa S.A. \")\n",
    "plt.grid(True)\n",
    "\n",
    "plt.savefig(\"output1.png\", facecolor='w', bbox_inches=\"tight\",\n",
    "            pad_inches=0.5, transparent=True)\n",
    "plt.show()\n",
    "\n",
    "\n"
   ]
  },
  {
   "source": [
    "## Saving my datas"
   ],
   "cell_type": "markdown",
   "metadata": {}
  },
  {
   "cell_type": "code",
   "execution_count": 39,
   "metadata": {},
   "outputs": [
    {
     "output_type": "stream",
     "name": "stdout",
     "text": [
      "la media  76003.0\nel minimo valor es  37731.0 \nel maximo valor es 122391.0\nla mediana es  65237.0\nla varianza es  726499261.7333333\nla desviacion estandar es  26953.65024877583\nel coeficiente de correlacion es  1.0\nla media  5.3133333333333335\nel minimo valor es  1.1 \nel maximo valor es 10.5\nla mediana es  4.7\nla varianza es  7.785155555555556\nla desviacion estandar es  2.790189161249745\nel coeficiente de correlacion es  1.0\n"
     ]
    }
   ],
   "source": [
    "\n",
    "#data_analysis = print(f\"\"\" El analisis hecho en este trabajo de los salarios y ganancias es: \"\"\")\n",
    "a = np.array(estadisticos(salario))\n",
    "b = np.array(estadisticos(años_trabajo))"
   ]
  },
  {
   "cell_type": "code",
   "execution_count": 40,
   "metadata": {},
   "outputs": [
    {
     "output_type": "error",
     "ename": "ValueError",
     "evalue": "Expected 1D or 2D array, got 0D array instead",
     "traceback": [
      "\u001b[1;31m---------------------------------------------------------------------------\u001b[0m",
      "\u001b[1;31mValueError\u001b[0m                                Traceback (most recent call last)",
      "\u001b[1;32m<ipython-input-40-5954383e9bae>\u001b[0m in \u001b[0;36m<module>\u001b[1;34m\u001b[0m\n\u001b[1;32m----> 1\u001b[1;33m \u001b[0mnp\u001b[0m\u001b[1;33m.\u001b[0m\u001b[0msavetxt\u001b[0m\u001b[1;33m(\u001b[0m\u001b[1;34m\"Reporte.csv\"\u001b[0m\u001b[1;33m,\u001b[0m \u001b[0ma\u001b[0m\u001b[1;33m)\u001b[0m\u001b[1;33m\u001b[0m\u001b[1;33m\u001b[0m\u001b[0m\n\u001b[0m",
      "\u001b[1;32m<__array_function__ internals>\u001b[0m in \u001b[0;36msavetxt\u001b[1;34m(*args, **kwargs)\u001b[0m\n",
      "\u001b[1;32m~\\anaconda3\\lib\\site-packages\\numpy\\lib\\npyio.py\u001b[0m in \u001b[0;36msavetxt\u001b[1;34m(fname, X, fmt, delimiter, newline, header, footer, comments, encoding)\u001b[0m\n\u001b[0;32m   1378\u001b[0m         \u001b[1;31m# Handle 1-dimensional arrays\u001b[0m\u001b[1;33m\u001b[0m\u001b[1;33m\u001b[0m\u001b[1;33m\u001b[0m\u001b[0m\n\u001b[0;32m   1379\u001b[0m         \u001b[1;32mif\u001b[0m \u001b[0mX\u001b[0m\u001b[1;33m.\u001b[0m\u001b[0mndim\u001b[0m \u001b[1;33m==\u001b[0m \u001b[1;36m0\u001b[0m \u001b[1;32mor\u001b[0m \u001b[0mX\u001b[0m\u001b[1;33m.\u001b[0m\u001b[0mndim\u001b[0m \u001b[1;33m>\u001b[0m \u001b[1;36m2\u001b[0m\u001b[1;33m:\u001b[0m\u001b[1;33m\u001b[0m\u001b[1;33m\u001b[0m\u001b[0m\n\u001b[1;32m-> 1380\u001b[1;33m             raise ValueError(\n\u001b[0m\u001b[0;32m   1381\u001b[0m                 \"Expected 1D or 2D array, got %dD array instead\" % X.ndim)\n\u001b[0;32m   1382\u001b[0m         \u001b[1;32melif\u001b[0m \u001b[0mX\u001b[0m\u001b[1;33m.\u001b[0m\u001b[0mndim\u001b[0m \u001b[1;33m==\u001b[0m \u001b[1;36m1\u001b[0m\u001b[1;33m:\u001b[0m\u001b[1;33m\u001b[0m\u001b[1;33m\u001b[0m\u001b[0m\n",
      "\u001b[1;31mValueError\u001b[0m: Expected 1D or 2D array, got 0D array instead"
     ]
    }
   ],
   "source": [
    "np.savetxt(\"Reporte.csv\", a)"
   ]
  },
  {
   "cell_type": "code",
   "execution_count": null,
   "metadata": {},
   "outputs": [],
   "source": []
  }
 ]
}