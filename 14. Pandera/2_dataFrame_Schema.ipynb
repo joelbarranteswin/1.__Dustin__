{
 "cells": [
  {
   "cell_type": "markdown",
   "metadata": {},
   "source": [
    "# DataFrame Schemas"
   ]
  },
  {
   "cell_type": "code",
   "execution_count": 5,
   "metadata": {},
   "outputs": [],
   "source": [
    "import pandas as pd \n",
    "import pandera as pa"
   ]
  },
  {
   "cell_type": "code",
   "execution_count": 10,
   "metadata": {},
   "outputs": [],
   "source": [
    "# data to validate\n",
    "df = pd.DataFrame({\n",
    "    \"column1\": [1, 4, 0, 10, 9, 10],\n",
    "    \"column2\": [-1.3, -1.4, -2.9, -10.1, -20.4, -10],\n",
    "    \"column3\": [\"value_1\", \"value_2\", \"value_3\", \"value_2\", \"value_1\", \"value_1\"],\n",
    "})"
   ]
  },
  {
   "cell_type": "code",
   "execution_count": 11,
   "metadata": {},
   "outputs": [
    {
     "data": {
      "text/html": [
       "<div>\n",
       "<style scoped>\n",
       "    .dataframe tbody tr th:only-of-type {\n",
       "        vertical-align: middle;\n",
       "    }\n",
       "\n",
       "    .dataframe tbody tr th {\n",
       "        vertical-align: top;\n",
       "    }\n",
       "\n",
       "    .dataframe thead th {\n",
       "        text-align: right;\n",
       "    }\n",
       "</style>\n",
       "<table border=\"1\" class=\"dataframe\">\n",
       "  <thead>\n",
       "    <tr style=\"text-align: right;\">\n",
       "      <th></th>\n",
       "      <th>column1</th>\n",
       "      <th>column2</th>\n",
       "      <th>column3</th>\n",
       "    </tr>\n",
       "  </thead>\n",
       "  <tbody>\n",
       "    <tr>\n",
       "      <th>0</th>\n",
       "      <td>1</td>\n",
       "      <td>-1.3</td>\n",
       "      <td>value_1</td>\n",
       "    </tr>\n",
       "    <tr>\n",
       "      <th>1</th>\n",
       "      <td>4</td>\n",
       "      <td>-1.4</td>\n",
       "      <td>value_2</td>\n",
       "    </tr>\n",
       "    <tr>\n",
       "      <th>2</th>\n",
       "      <td>0</td>\n",
       "      <td>-2.9</td>\n",
       "      <td>value_3</td>\n",
       "    </tr>\n",
       "    <tr>\n",
       "      <th>3</th>\n",
       "      <td>10</td>\n",
       "      <td>-10.1</td>\n",
       "      <td>value_2</td>\n",
       "    </tr>\n",
       "    <tr>\n",
       "      <th>4</th>\n",
       "      <td>9</td>\n",
       "      <td>-20.4</td>\n",
       "      <td>value_1</td>\n",
       "    </tr>\n",
       "    <tr>\n",
       "      <th>5</th>\n",
       "      <td>10</td>\n",
       "      <td>-10.0</td>\n",
       "      <td>value_1</td>\n",
       "    </tr>\n",
       "  </tbody>\n",
       "</table>\n",
       "</div>"
      ],
      "text/plain": [
       "   column1  column2  column3\n",
       "0        1     -1.3  value_1\n",
       "1        4     -1.4  value_2\n",
       "2        0     -2.9  value_3\n",
       "3       10    -10.1  value_2\n",
       "4        9    -20.4  value_1\n",
       "5       10    -10.0  value_1"
      ]
     },
     "execution_count": 11,
     "metadata": {},
     "output_type": "execute_result"
    }
   ],
   "source": [
    "import pandera as pa\n",
    "from pandera import Column, DataFrameSchema, Check, Index\n",
    "\n",
    "schema = DataFrameSchema(\n",
    "    {\n",
    "        \"column1\": Column(int),\n",
    "        \"column2\": Column(float, Check(lambda s: s < -1.2)),\n",
    "        # you can provide a list of validators\n",
    "        \"column3\": Column(str, [\n",
    "           Check(lambda s: s.str.startswith(\"value\")),\n",
    "           Check(lambda s: s.str.split(\"_\", expand=True).shape[1] == 2)\n",
    "        ]),\n",
    "    },\n",
    "    index=Index(int),\n",
    "    strict=True,\n",
    "    coerce=True,\n",
    ")\n",
    "\n",
    "schema.validate(df, lazy=True)"
   ]
  },
  {
   "cell_type": "markdown",
   "metadata": {},
   "source": [
    "# Column Validation\n",
    "## Null Values in Columns"
   ]
  },
  {
   "cell_type": "code",
   "execution_count": 1,
   "metadata": {},
   "outputs": [
    {
     "ename": "SchemaErrors",
     "evalue": "A total of 1 schema errors were found.\n\nError Counts\n------------\n- schema_component_check: 1\n\nSchema Error Summary\n--------------------\n                                    failure_cases  n_failure_cases\nschema_context column  check                                      \nColumn         column1 not_nullable         [nan]                1\n\nUsage Tip\n---------\n\nDirectly inspect all errors by catching the exception:\n\n```\ntry:\n    schema.validate(dataframe, lazy=True)\nexcept SchemaErrors as err:\n    err.failure_cases  # dataframe of schema errors\n    err.data  # invalid dataframe\n```\n",
     "output_type": "error",
     "traceback": [
      "\u001b[1;31m---------------------------------------------------------------------------\u001b[0m",
      "\u001b[1;31mSchemaErrors\u001b[0m                              Traceback (most recent call last)",
      "\u001b[1;32m~\\AppData\\Local\\Temp/ipykernel_480/4159699473.py\u001b[0m in \u001b[0;36m<module>\u001b[1;34m\u001b[0m\n\u001b[0;32m     11\u001b[0m })\n\u001b[0;32m     12\u001b[0m \u001b[1;33m\u001b[0m\u001b[0m\n\u001b[1;32m---> 13\u001b[1;33m \u001b[0mnon_null_schema\u001b[0m\u001b[1;33m.\u001b[0m\u001b[0mvalidate\u001b[0m\u001b[1;33m(\u001b[0m\u001b[0mdf\u001b[0m\u001b[1;33m,\u001b[0m \u001b[0mlazy\u001b[0m\u001b[1;33m=\u001b[0m\u001b[1;32mTrue\u001b[0m\u001b[1;33m)\u001b[0m\u001b[1;33m\u001b[0m\u001b[1;33m\u001b[0m\u001b[0m\n\u001b[0m",
      "\u001b[1;32mc:\\Users\\HP\\Documents\\GitHub\\1.__Dustin.py\\.venv\\lib\\site-packages\\pandera\\schemas.py\u001b[0m in \u001b[0;36mvalidate\u001b[1;34m(self, check_obj, head, tail, sample, random_state, lazy, inplace)\u001b[0m\n\u001b[0;32m    652\u001b[0m \u001b[1;33m\u001b[0m\u001b[0m\n\u001b[0;32m    653\u001b[0m         \u001b[1;32mif\u001b[0m \u001b[0mlazy\u001b[0m \u001b[1;32mand\u001b[0m \u001b[0merror_handler\u001b[0m\u001b[1;33m.\u001b[0m\u001b[0mcollected_errors\u001b[0m\u001b[1;33m:\u001b[0m\u001b[1;33m\u001b[0m\u001b[1;33m\u001b[0m\u001b[0m\n\u001b[1;32m--> 654\u001b[1;33m             raise errors.SchemaErrors(\n\u001b[0m\u001b[0;32m    655\u001b[0m                 \u001b[0merror_handler\u001b[0m\u001b[1;33m.\u001b[0m\u001b[0mcollected_errors\u001b[0m\u001b[1;33m,\u001b[0m \u001b[0mcheck_obj\u001b[0m\u001b[1;33m\u001b[0m\u001b[1;33m\u001b[0m\u001b[0m\n\u001b[0;32m    656\u001b[0m             )\n",
      "\u001b[1;31mSchemaErrors\u001b[0m: A total of 1 schema errors were found.\n\nError Counts\n------------\n- schema_component_check: 1\n\nSchema Error Summary\n--------------------\n                                    failure_cases  n_failure_cases\nschema_context column  check                                      \nColumn         column1 not_nullable         [nan]                1\n\nUsage Tip\n---------\n\nDirectly inspect all errors by catching the exception:\n\n```\ntry:\n    schema.validate(dataframe, lazy=True)\nexcept SchemaErrors as err:\n    err.failure_cases  # dataframe of schema errors\n    err.data  # invalid dataframe\n```\n"
     ]
    }
   ],
   "source": [
    "import numpy as np\n",
    "import pandas as pd\n",
    "import pandera as pa\n",
    "\n",
    "from pandera import Check, Column, DataFrameSchema\n",
    "\n",
    "df = pd.DataFrame({\"column1\": [5, 1, np.nan]})\n",
    "\n",
    "non_null_schema = DataFrameSchema({\n",
    "    \"column1\": Column(float, Check(lambda x: x > 0))\n",
    "})\n",
    "\n",
    "non_null_schema.validate(df, lazy=True)"
   ]
  },
  {
   "cell_type": "code",
   "execution_count": 2,
   "metadata": {},
   "outputs": [
    {
     "name": "stdout",
     "output_type": "stream",
     "text": [
      "   column1\n",
      "0      5.0\n",
      "1      1.0\n",
      "2      NaN\n"
     ]
    }
   ],
   "source": [
    "null_schema = DataFrameSchema({\n",
    "    \"column1\": Column(float, Check(lambda x: x > 0), nullable=True) #nullable: acepta que haya Not a number\n",
    "})\n",
    "\n",
    "print(null_schema.validate(df))"
   ]
  },
  {
   "cell_type": "markdown",
   "metadata": {},
   "source": [
    "## Coercing Types on Columns"
   ]
  },
  {
   "cell_type": "code",
   "execution_count": 3,
   "metadata": {},
   "outputs": [
    {
     "name": "stdout",
     "output_type": "stream",
     "text": [
      "  column1\n",
      "0       1\n",
      "1       2\n",
      "2       3\n"
     ]
    }
   ],
   "source": [
    "import pandas as pd\n",
    "import pandera as pa\n",
    "\n",
    "from pandera import Column, DataFrameSchema\n",
    "\n",
    "df = pd.DataFrame({\"column1\": [1, 2, 3]})\n",
    "schema = DataFrameSchema({\n",
    "    \"column1\": Column(str, coerce=True) #fuerza a que se acepte un tipo de valor por otro\n",
    "})\n",
    "\n",
    "validated_df = schema.validate(df)\n",
    "print(validated_df)"
   ]
  },
  {
   "cell_type": "code",
   "execution_count": 5,
   "metadata": {},
   "outputs": [
    {
     "ename": "SchemaErrors",
     "evalue": "A total of 2 schema errors were found.\n\nError Counts\n------------\n- schema_component_check: 2\n\nSchema Error Summary\n--------------------\n                                             failure_cases  n_failure_cases\nschema_context column  check                                               \nColumn         column1 coerce_dtype('int64')         [nan]                1\n\nUsage Tip\n---------\n\nDirectly inspect all errors by catching the exception:\n\n```\ntry:\n    schema.validate(dataframe, lazy=True)\nexcept SchemaErrors as err:\n    err.failure_cases  # dataframe of schema errors\n    err.data  # invalid dataframe\n```\n",
     "output_type": "error",
     "traceback": [
      "\u001b[1;31m---------------------------------------------------------------------------\u001b[0m",
      "\u001b[1;31mSchemaErrors\u001b[0m                              Traceback (most recent call last)",
      "\u001b[1;32m~\\AppData\\Local\\Temp/ipykernel_480/1010465778.py\u001b[0m in \u001b[0;36m<module>\u001b[1;34m\u001b[0m\n\u001b[0;32m      4\u001b[0m })\n\u001b[0;32m      5\u001b[0m \u001b[1;31m#un integer no acepta que haya nan\u001b[0m\u001b[1;33m\u001b[0m\u001b[1;33m\u001b[0m\u001b[1;33m\u001b[0m\u001b[0m\n\u001b[1;32m----> 6\u001b[1;33m \u001b[0mvalidated_df\u001b[0m \u001b[1;33m=\u001b[0m \u001b[0mschema\u001b[0m\u001b[1;33m.\u001b[0m\u001b[0mvalidate\u001b[0m\u001b[1;33m(\u001b[0m\u001b[0mdf\u001b[0m\u001b[1;33m,\u001b[0m \u001b[0mlazy\u001b[0m\u001b[1;33m=\u001b[0m\u001b[1;32mTrue\u001b[0m\u001b[1;33m)\u001b[0m\u001b[1;33m\u001b[0m\u001b[1;33m\u001b[0m\u001b[0m\n\u001b[0m",
      "\u001b[1;32mc:\\Users\\HP\\Documents\\GitHub\\1.__Dustin.py\\.venv\\lib\\site-packages\\pandera\\schemas.py\u001b[0m in \u001b[0;36mvalidate\u001b[1;34m(self, check_obj, head, tail, sample, random_state, lazy, inplace)\u001b[0m\n\u001b[0;32m    652\u001b[0m \u001b[1;33m\u001b[0m\u001b[0m\n\u001b[0;32m    653\u001b[0m         \u001b[1;32mif\u001b[0m \u001b[0mlazy\u001b[0m \u001b[1;32mand\u001b[0m \u001b[0merror_handler\u001b[0m\u001b[1;33m.\u001b[0m\u001b[0mcollected_errors\u001b[0m\u001b[1;33m:\u001b[0m\u001b[1;33m\u001b[0m\u001b[1;33m\u001b[0m\u001b[0m\n\u001b[1;32m--> 654\u001b[1;33m             raise errors.SchemaErrors(\n\u001b[0m\u001b[0;32m    655\u001b[0m                 \u001b[0merror_handler\u001b[0m\u001b[1;33m.\u001b[0m\u001b[0mcollected_errors\u001b[0m\u001b[1;33m,\u001b[0m \u001b[0mcheck_obj\u001b[0m\u001b[1;33m\u001b[0m\u001b[1;33m\u001b[0m\u001b[0m\n\u001b[0;32m    656\u001b[0m             )\n",
      "\u001b[1;31mSchemaErrors\u001b[0m: A total of 2 schema errors were found.\n\nError Counts\n------------\n- schema_component_check: 2\n\nSchema Error Summary\n--------------------\n                                             failure_cases  n_failure_cases\nschema_context column  check                                               \nColumn         column1 coerce_dtype('int64')         [nan]                1\n\nUsage Tip\n---------\n\nDirectly inspect all errors by catching the exception:\n\n```\ntry:\n    schema.validate(dataframe, lazy=True)\nexcept SchemaErrors as err:\n    err.failure_cases  # dataframe of schema errors\n    err.data  # invalid dataframe\n```\n"
     ]
    }
   ],
   "source": [
    "df = pd.DataFrame({\"column1\": [1., 2., 3, np.nan]})\n",
    "schema = DataFrameSchema({\n",
    "    \"column1\": Column(int, coerce=True, nullable=True)\n",
    "})\n",
    "#un integer no acepta que haya nan \n",
    "validated_df = schema.validate(df, lazy=True)"
   ]
  },
  {
   "cell_type": "code",
   "execution_count": 6,
   "metadata": {},
   "outputs": [
    {
     "name": "stdout",
     "output_type": "stream",
     "text": [
      "column1    object\n",
      "dtype: object\n",
      "column1    float64\n",
      "dtype: object\n"
     ]
    }
   ],
   "source": [
    "schema_object = DataFrameSchema({\n",
    "    \"column1\": Column(object, coerce=True, nullable=True)\n",
    "})\n",
    "schema_float = DataFrameSchema({\n",
    "    \"column1\": Column(float, coerce=True, nullable=True)\n",
    "})\n",
    "\n",
    "print(schema_object.validate(df).dtypes)\n",
    "print(schema_float.validate(df).dtypes)"
   ]
  },
  {
   "cell_type": "markdown",
   "metadata": {},
   "source": [
    "## Required Columns"
   ]
  },
  {
   "cell_type": "code",
   "execution_count": 7,
   "metadata": {},
   "outputs": [
    {
     "name": "stdout",
     "output_type": "stream",
     "text": [
      "   column2\n",
      "0    hello\n",
      "1  pandera\n"
     ]
    }
   ],
   "source": [
    "import pandas as pd\n",
    "import pandera as pa\n",
    "\n",
    "from pandera import Column, DataFrameSchema\n",
    "\n",
    "df = pd.DataFrame({\"column2\": [\"hello\", \"pandera\"]})\n",
    "schema = DataFrameSchema({\n",
    "    \"column1\": Column(int, required=False), #un required como false acepta que las columnas no esten en el df\n",
    "    \"column2\": Column(str)\n",
    "})\n",
    "\n",
    "validated_df = schema.validate(df)\n",
    "print(validated_df)"
   ]
  },
  {
   "cell_type": "code",
   "execution_count": 8,
   "metadata": {},
   "outputs": [
    {
     "ename": "SchemaError",
     "evalue": "column 'column1' not in dataframe\n   column2\n0    hello\n1  pandera",
     "output_type": "error",
     "traceback": [
      "\u001b[1;31m---------------------------------------------------------------------------\u001b[0m",
      "\u001b[1;31mSchemaError\u001b[0m                               Traceback (most recent call last)",
      "\u001b[1;32m~\\AppData\\Local\\Temp/ipykernel_480/2260242263.py\u001b[0m in \u001b[0;36m<module>\u001b[1;34m\u001b[0m\n\u001b[0;32m      4\u001b[0m })\n\u001b[0;32m      5\u001b[0m \u001b[1;33m\u001b[0m\u001b[0m\n\u001b[1;32m----> 6\u001b[1;33m \u001b[0mschema\u001b[0m\u001b[1;33m.\u001b[0m\u001b[0mvalidate\u001b[0m\u001b[1;33m(\u001b[0m\u001b[0mdf\u001b[0m\u001b[1;33m)\u001b[0m\u001b[1;33m\u001b[0m\u001b[1;33m\u001b[0m\u001b[0m\n\u001b[0m",
      "\u001b[1;32mc:\\Users\\HP\\Documents\\GitHub\\1.__Dustin.py\\.venv\\lib\\site-packages\\pandera\\schemas.py\u001b[0m in \u001b[0;36mvalidate\u001b[1;34m(self, check_obj, head, tail, sample, random_state, lazy, inplace)\u001b[0m\n\u001b[0;32m    550\u001b[0m                     \u001b[1;34mf\"column '{colname}' not in dataframe\\n{check_obj.head()}\"\u001b[0m\u001b[1;33m\u001b[0m\u001b[1;33m\u001b[0m\u001b[0m\n\u001b[0;32m    551\u001b[0m                 )\n\u001b[1;32m--> 552\u001b[1;33m                 error_handler.collect_error(\n\u001b[0m\u001b[0;32m    553\u001b[0m                     \u001b[1;34m\"column_not_in_dataframe\"\u001b[0m\u001b[1;33m,\u001b[0m\u001b[1;33m\u001b[0m\u001b[1;33m\u001b[0m\u001b[0m\n\u001b[0;32m    554\u001b[0m                     errors.SchemaError(\n",
      "\u001b[1;32mc:\\Users\\HP\\Documents\\GitHub\\1.__Dustin.py\\.venv\\lib\\site-packages\\pandera\\error_handlers.py\u001b[0m in \u001b[0;36mcollect_error\u001b[1;34m(self, reason_code, schema_error, original_exc)\u001b[0m\n\u001b[0;32m     30\u001b[0m         \"\"\"\n\u001b[0;32m     31\u001b[0m         \u001b[1;32mif\u001b[0m \u001b[1;32mnot\u001b[0m \u001b[0mself\u001b[0m\u001b[1;33m.\u001b[0m\u001b[0m_lazy\u001b[0m\u001b[1;33m:\u001b[0m\u001b[1;33m\u001b[0m\u001b[1;33m\u001b[0m\u001b[0m\n\u001b[1;32m---> 32\u001b[1;33m             \u001b[1;32mraise\u001b[0m \u001b[0mschema_error\u001b[0m \u001b[1;32mfrom\u001b[0m \u001b[0moriginal_exc\u001b[0m\u001b[1;33m\u001b[0m\u001b[1;33m\u001b[0m\u001b[0m\n\u001b[0m\u001b[0;32m     33\u001b[0m \u001b[1;33m\u001b[0m\u001b[0m\n\u001b[0;32m     34\u001b[0m         \u001b[1;31m# delete data of validated object from SchemaError object to prevent\u001b[0m\u001b[1;33m\u001b[0m\u001b[1;33m\u001b[0m\u001b[1;33m\u001b[0m\u001b[0m\n",
      "\u001b[1;31mSchemaError\u001b[0m: column 'column1' not in dataframe\n   column2\n0    hello\n1  pandera"
     ]
    }
   ],
   "source": [
    "schema = DataFrameSchema({\n",
    "    \"column1\": Column(int, required=True), # cuando es true, es obligatoria que haya la columna\n",
    "    \"column2\": Column(str),\n",
    "})\n",
    "\n",
    "schema.validate(df)"
   ]
  },
  {
   "cell_type": "markdown",
   "metadata": {},
   "source": [
    "# Ordered Columns\n",
    "## Stand-alone Column Validation"
   ]
  },
  {
   "cell_type": "code",
   "execution_count": 11,
   "metadata": {},
   "outputs": [
    {
     "name": "stdout",
     "output_type": "stream",
     "text": [
      "   column1 column2\n",
      "0        1       a\n",
      "1        2       b\n",
      "2        3       c\n",
      "   column1 column2\n",
      "0        1       a\n",
      "1        2       b\n",
      "2        3       c\n"
     ]
    }
   ],
   "source": [
    "import pandas as pd\n",
    "import pandera as pa\n",
    "\n",
    "df = pd.DataFrame({\n",
    "    \"column1\": [1, 2, 3],\n",
    "    \"column2\": [\"a\", \"b\", \"c\"],\n",
    "})\n",
    "\n",
    "column1_schema = pa.Column(int, name=\"column1\")\n",
    "column2_schema = pa.Column(str, name=\"column2\")\n",
    "\n",
    "# pass the dataframe as an argument to the Column object callable\n",
    "df = column1_schema(df)\n",
    "validated_df = column2_schema(df)\n",
    "\n",
    "# or explicitly use the validate method\n",
    "df = column1_schema.validate(df)\n",
    "validated_df = column2_schema.validate(df)\n",
    "\n",
    "# use the DataFrame.pipe method to validate two columns\n",
    "validated_df = df.pipe(column1_schema).pipe(column2_schema)\n",
    "print(validated_df)"
   ]
  },
  {
   "cell_type": "markdown",
   "metadata": {},
   "source": [
    "## Column Regex Pattern Matching"
   ]
  },
  {
   "cell_type": "code",
   "execution_count": 14,
   "metadata": {},
   "outputs": [
    {
     "name": "stdout",
     "output_type": "stream",
     "text": [
      "  cat_var_1 cat_var_2  num_var_1  num_var_2\n",
      "0         A         A   6.804147  24.743304\n",
      "1         A         C   3.684308  22.774633\n",
      "2         A         C   5.911288  28.416588\n",
      "3         C         A   4.790627  21.951250\n",
      "4         C         B   4.504166  28.563142\n",
      "num_var_.+\n"
     ]
    }
   ],
   "source": [
    "import numpy as np\n",
    "import pandas as pd\n",
    "import pandera as pa\n",
    "\n",
    "categories = [\"A\", \"B\", \"C\"]\n",
    "\n",
    "np.random.seed(100)\n",
    "\n",
    "dataframe = pd.DataFrame({\n",
    "    \"cat_var_1\": np.random.choice(categories, size=100),\n",
    "    \"cat_var_2\": np.random.choice(categories, size=100),\n",
    "    \"num_var_1\": np.random.uniform(0, 10, size=100),\n",
    "    \"num_var_2\": np.random.uniform(20, 30, size=100),\n",
    "})\n",
    "\n",
    "schema = pa.DataFrameSchema({\n",
    "    \"num_var_.+\": pa.Column(\n",
    "        float,\n",
    "        checks=pa.Check.greater_than_or_equal_to(0),\n",
    "        regex=True,\n",
    "    ),\n",
    "    \"cat_var_.+\": pa.Column(\n",
    "        pa.Category,\n",
    "        checks=pa.Check.isin(categories),\n",
    "        coerce=True,\n",
    "        regex=True,\n",
    "    ),\n",
    "})\n",
    "\n",
    "print(schema.validate(dataframe).head())"
   ]
  },
  {
   "cell_type": "code",
   "execution_count": 15,
   "metadata": {},
   "outputs": [
    {
     "name": "stdout",
     "output_type": "stream",
     "text": [
      "  cat_var_1 cat_var_2 num_var_1 num_var_2\n",
      "         y1        y2        x1        x2\n",
      "0         A         A  6.804147  4.743304\n",
      "1         A         C  3.684308  2.774633\n",
      "2         A         C  5.911288  8.416588\n",
      "3         C         A  4.790627  1.951250\n",
      "4         C         B  4.504166  8.563142\n"
     ]
    }
   ],
   "source": [
    "np.random.seed(100)\n",
    "\n",
    "dataframe = pd.DataFrame({\n",
    "    (\"cat_var_1\", \"y1\"): np.random.choice(categories, size=100),\n",
    "    (\"cat_var_2\", \"y2\"): np.random.choice(categories, size=100),\n",
    "    (\"num_var_1\", \"x1\"): np.random.uniform(0, 10, size=100),\n",
    "    (\"num_var_2\", \"x2\"): np.random.uniform(0, 10, size=100),\n",
    "})\n",
    "\n",
    "schema = pa.DataFrameSchema({\n",
    "    (\"num_var_.+\", \"x.+\"): pa.Column(\n",
    "        float,\n",
    "        checks=pa.Check.greater_than_or_equal_to(0),\n",
    "        regex=True,\n",
    "    ),\n",
    "    (\"cat_var_.+\", \"y.+\"): pa.Column(\n",
    "        pa.Category,\n",
    "        checks=pa.Check.isin(categories),\n",
    "        coerce=True,\n",
    "        regex=True,\n",
    "    ),\n",
    "})\n",
    "\n",
    "print(schema.validate(dataframe).head())"
   ]
  },
  {
   "cell_type": "markdown",
   "metadata": {},
   "source": [
    "## Handling Dataframe Columns not in the Schema"
   ]
  },
  {
   "cell_type": "code",
   "execution_count": 16,
   "metadata": {},
   "outputs": [
    {
     "ename": "SchemaError",
     "evalue": "column 'column2' not in DataFrameSchema {'column1': <Schema Column(name=column1, type=DataType(int64))>}",
     "output_type": "error",
     "traceback": [
      "\u001b[1;31m---------------------------------------------------------------------------\u001b[0m",
      "\u001b[1;31mSchemaError\u001b[0m                               Traceback (most recent call last)",
      "\u001b[1;32m~\\AppData\\Local\\Temp/ipykernel_480/75875850.py\u001b[0m in \u001b[0;36m<module>\u001b[1;34m\u001b[0m\n\u001b[0;32m     10\u001b[0m \u001b[0mdf\u001b[0m \u001b[1;33m=\u001b[0m \u001b[0mpd\u001b[0m\u001b[1;33m.\u001b[0m\u001b[0mDataFrame\u001b[0m\u001b[1;33m(\u001b[0m\u001b[1;33m{\u001b[0m\u001b[1;34m\"column2\"\u001b[0m\u001b[1;33m:\u001b[0m \u001b[1;33m[\u001b[0m\u001b[1;36m1\u001b[0m\u001b[1;33m,\u001b[0m \u001b[1;36m2\u001b[0m\u001b[1;33m,\u001b[0m \u001b[1;36m3\u001b[0m\u001b[1;33m]\u001b[0m\u001b[1;33m}\u001b[0m\u001b[1;33m)\u001b[0m\u001b[1;33m\u001b[0m\u001b[1;33m\u001b[0m\u001b[0m\n\u001b[0;32m     11\u001b[0m \u001b[1;33m\u001b[0m\u001b[0m\n\u001b[1;32m---> 12\u001b[1;33m \u001b[0mschema\u001b[0m\u001b[1;33m.\u001b[0m\u001b[0mvalidate\u001b[0m\u001b[1;33m(\u001b[0m\u001b[0mdf\u001b[0m\u001b[1;33m)\u001b[0m\u001b[1;33m\u001b[0m\u001b[1;33m\u001b[0m\u001b[0m\n\u001b[0m",
      "\u001b[1;32mc:\\Users\\HP\\Documents\\GitHub\\1.__Dustin.py\\.venv\\lib\\site-packages\\pandera\\schemas.py\u001b[0m in \u001b[0;36mvalidate\u001b[1;34m(self, check_obj, head, tail, sample, random_state, lazy, inplace)\u001b[0m\n\u001b[0;32m    506\u001b[0m                         \u001b[1;34mf\" {self.columns}\"\u001b[0m\u001b[1;33m\u001b[0m\u001b[1;33m\u001b[0m\u001b[0m\n\u001b[0;32m    507\u001b[0m                     )\n\u001b[1;32m--> 508\u001b[1;33m                     error_handler.collect_error(\n\u001b[0m\u001b[0;32m    509\u001b[0m                         \u001b[1;34m\"column_not_in_schema\"\u001b[0m\u001b[1;33m,\u001b[0m\u001b[1;33m\u001b[0m\u001b[1;33m\u001b[0m\u001b[0m\n\u001b[0;32m    510\u001b[0m                         errors.SchemaError(\n",
      "\u001b[1;32mc:\\Users\\HP\\Documents\\GitHub\\1.__Dustin.py\\.venv\\lib\\site-packages\\pandera\\error_handlers.py\u001b[0m in \u001b[0;36mcollect_error\u001b[1;34m(self, reason_code, schema_error, original_exc)\u001b[0m\n\u001b[0;32m     30\u001b[0m         \"\"\"\n\u001b[0;32m     31\u001b[0m         \u001b[1;32mif\u001b[0m \u001b[1;32mnot\u001b[0m \u001b[0mself\u001b[0m\u001b[1;33m.\u001b[0m\u001b[0m_lazy\u001b[0m\u001b[1;33m:\u001b[0m\u001b[1;33m\u001b[0m\u001b[1;33m\u001b[0m\u001b[0m\n\u001b[1;32m---> 32\u001b[1;33m             \u001b[1;32mraise\u001b[0m \u001b[0mschema_error\u001b[0m \u001b[1;32mfrom\u001b[0m \u001b[0moriginal_exc\u001b[0m\u001b[1;33m\u001b[0m\u001b[1;33m\u001b[0m\u001b[0m\n\u001b[0m\u001b[0;32m     33\u001b[0m \u001b[1;33m\u001b[0m\u001b[0m\n\u001b[0;32m     34\u001b[0m         \u001b[1;31m# delete data of validated object from SchemaError object to prevent\u001b[0m\u001b[1;33m\u001b[0m\u001b[1;33m\u001b[0m\u001b[1;33m\u001b[0m\u001b[0m\n",
      "\u001b[1;31mSchemaError\u001b[0m: column 'column2' not in DataFrameSchema {'column1': <Schema Column(name=column1, type=DataType(int64))>}"
     ]
    }
   ],
   "source": [
    "import pandas as pd\n",
    "import pandera as pa\n",
    "\n",
    "from pandera import Column, DataFrameSchema\n",
    "\n",
    "schema = DataFrameSchema(\n",
    "    {\"column1\": Column(int)},\n",
    "    strict=True) #comprueba que una columna debe ser estricta\n",
    "\n",
    "df = pd.DataFrame({\"column2\": [1, 2, 3]})\n",
    "\n",
    "schema.validate(df)"
   ]
  },
  {
   "cell_type": "code",
   "execution_count": 17,
   "metadata": {},
   "outputs": [
    {
     "name": "stdout",
     "output_type": "stream",
     "text": [
      "  column2\n",
      "0    keep\n",
      "1      me\n"
     ]
    }
   ],
   "source": [
    "import pandas as pd\n",
    "import pandera as pa\n",
    "\n",
    "from pandera import Column, DataFrameSchema\n",
    "\n",
    "df = pd.DataFrame({\"column1\": [\"drop\", \"me\"],\"column2\": [\"keep\", \"me\"]})\n",
    "schema = DataFrameSchema({\"column2\": Column(str)}, strict='filter') \n",
    "#elimina la columna durante la validación\n",
    "\n",
    "validated_df = schema.validate(df)\n",
    "print(validated_df)"
   ]
  },
  {
   "cell_type": "markdown",
   "metadata": {},
   "source": [
    "## Validando el orden de las columnas"
   ]
  },
  {
   "cell_type": "code",
   "execution_count": 18,
   "metadata": {},
   "outputs": [
    {
     "ename": "SchemaError",
     "evalue": "column 'b' out-of-order",
     "output_type": "error",
     "traceback": [
      "\u001b[1;31m---------------------------------------------------------------------------\u001b[0m",
      "\u001b[1;31mSchemaError\u001b[0m                               Traceback (most recent call last)",
      "\u001b[1;32m~\\AppData\\Local\\Temp/ipykernel_480/907867218.py\u001b[0m in \u001b[0;36m<module>\u001b[1;34m\u001b[0m\n\u001b[0;32m      6\u001b[0m )\n\u001b[0;32m      7\u001b[0m \u001b[0mdf\u001b[0m \u001b[1;33m=\u001b[0m \u001b[0mpd\u001b[0m\u001b[1;33m.\u001b[0m\u001b[0mDataFrame\u001b[0m\u001b[1;33m(\u001b[0m\u001b[1;33m{\u001b[0m\u001b[1;34m\"b\"\u001b[0m\u001b[1;33m:\u001b[0m \u001b[1;33m[\u001b[0m\u001b[1;36m1\u001b[0m\u001b[1;33m]\u001b[0m\u001b[1;33m,\u001b[0m \u001b[1;34m\"a\"\u001b[0m\u001b[1;33m:\u001b[0m \u001b[1;33m[\u001b[0m\u001b[1;36m1\u001b[0m\u001b[1;33m]\u001b[0m\u001b[1;33m}\u001b[0m\u001b[1;33m)\u001b[0m\u001b[1;33m\u001b[0m\u001b[1;33m\u001b[0m\u001b[0m\n\u001b[1;32m----> 8\u001b[1;33m \u001b[0mprint\u001b[0m\u001b[1;33m(\u001b[0m\u001b[0mschema\u001b[0m\u001b[1;33m.\u001b[0m\u001b[0mvalidate\u001b[0m\u001b[1;33m(\u001b[0m\u001b[0mdf\u001b[0m\u001b[1;33m)\u001b[0m\u001b[1;33m)\u001b[0m\u001b[1;33m\u001b[0m\u001b[1;33m\u001b[0m\u001b[0m\n\u001b[0m",
      "\u001b[1;32mc:\\Users\\HP\\Documents\\GitHub\\1.__Dustin.py\\.venv\\lib\\site-packages\\pandera\\schemas.py\u001b[0m in \u001b[0;36mvalidate\u001b[1;34m(self, check_obj, head, tail, sample, random_state, lazy, inplace)\u001b[0m\n\u001b[0;32m    524\u001b[0m                         \u001b[1;32mpass\u001b[0m\u001b[1;33m\u001b[0m\u001b[1;33m\u001b[0m\u001b[0m\n\u001b[0;32m    525\u001b[0m                     \u001b[1;32mif\u001b[0m \u001b[0mnext_ordered_col\u001b[0m \u001b[1;33m!=\u001b[0m \u001b[0mcolumn\u001b[0m\u001b[1;33m:\u001b[0m\u001b[1;33m\u001b[0m\u001b[1;33m\u001b[0m\u001b[0m\n\u001b[1;32m--> 526\u001b[1;33m                         error_handler.collect_error(\n\u001b[0m\u001b[0;32m    527\u001b[0m                             \u001b[1;34m\"column_not_ordered\"\u001b[0m\u001b[1;33m,\u001b[0m\u001b[1;33m\u001b[0m\u001b[1;33m\u001b[0m\u001b[0m\n\u001b[0;32m    528\u001b[0m                             errors.SchemaError(\n",
      "\u001b[1;32mc:\\Users\\HP\\Documents\\GitHub\\1.__Dustin.py\\.venv\\lib\\site-packages\\pandera\\error_handlers.py\u001b[0m in \u001b[0;36mcollect_error\u001b[1;34m(self, reason_code, schema_error, original_exc)\u001b[0m\n\u001b[0;32m     30\u001b[0m         \"\"\"\n\u001b[0;32m     31\u001b[0m         \u001b[1;32mif\u001b[0m \u001b[1;32mnot\u001b[0m \u001b[0mself\u001b[0m\u001b[1;33m.\u001b[0m\u001b[0m_lazy\u001b[0m\u001b[1;33m:\u001b[0m\u001b[1;33m\u001b[0m\u001b[1;33m\u001b[0m\u001b[0m\n\u001b[1;32m---> 32\u001b[1;33m             \u001b[1;32mraise\u001b[0m \u001b[0mschema_error\u001b[0m \u001b[1;32mfrom\u001b[0m \u001b[0moriginal_exc\u001b[0m\u001b[1;33m\u001b[0m\u001b[1;33m\u001b[0m\u001b[0m\n\u001b[0m\u001b[0;32m     33\u001b[0m \u001b[1;33m\u001b[0m\u001b[0m\n\u001b[0;32m     34\u001b[0m         \u001b[1;31m# delete data of validated object from SchemaError object to prevent\u001b[0m\u001b[1;33m\u001b[0m\u001b[1;33m\u001b[0m\u001b[1;33m\u001b[0m\u001b[0m\n",
      "\u001b[1;31mSchemaError\u001b[0m: column 'b' out-of-order"
     ]
    }
   ],
   "source": [
    "import pandas as pd\n",
    "import pandera as pa\n",
    "\n",
    "schema = pa.DataFrameSchema(\n",
    "    columns={\"a\": pa.Column(int), \"b\": pa.Column(int)}, ordered=True\n",
    ") # ordered valida el orden de las columnas\n",
    "df = pd.DataFrame({\"b\": [1], \"a\": [1]})\n",
    "print(schema.validate(df))"
   ]
  },
  {
   "cell_type": "markdown",
   "metadata": {},
   "source": [
    "## Validando la unicidad conjunta de las columnas"
   ]
  },
  {
   "cell_type": "code",
   "execution_count": 24,
   "metadata": {},
   "outputs": [
    {
     "name": "stdout",
     "output_type": "stream",
     "text": [
      "   a  b  c\n",
      "0  1  2  3\n",
      "1  1  2  3\n"
     ]
    },
    {
     "ename": "SchemaErrors",
     "evalue": "A total of 1 schema errors were found.\n\nError Counts\n------------\n- duplicates: 1\n\nSchema Error Summary\n--------------------\n                                                  failure_cases  n_failure_cases\nschema_context  column check                                                    \nDataFrameSchema a      multiple_fields_uniqueness           [1]                1\n                c      multiple_fields_uniqueness           [3]                1\n\nUsage Tip\n---------\n\nDirectly inspect all errors by catching the exception:\n\n```\ntry:\n    schema.validate(dataframe, lazy=True)\nexcept SchemaErrors as err:\n    err.failure_cases  # dataframe of schema errors\n    err.data  # invalid dataframe\n```\n",
     "output_type": "error",
     "traceback": [
      "\u001b[1;31m---------------------------------------------------------------------------\u001b[0m",
      "\u001b[1;31mSchemaErrors\u001b[0m                              Traceback (most recent call last)",
      "\u001b[1;32m~\\AppData\\Local\\Temp/ipykernel_480/1312694632.py\u001b[0m in \u001b[0;36m<module>\u001b[1;34m\u001b[0m\n\u001b[0;32m     11\u001b[0m ])\n\u001b[0;32m     12\u001b[0m \u001b[0mprint\u001b[0m\u001b[1;33m(\u001b[0m\u001b[0mdf\u001b[0m\u001b[1;33m)\u001b[0m\u001b[1;33m\u001b[0m\u001b[1;33m\u001b[0m\u001b[0m\n\u001b[1;32m---> 13\u001b[1;33m \u001b[0mschema\u001b[0m\u001b[1;33m.\u001b[0m\u001b[0mvalidate\u001b[0m\u001b[1;33m(\u001b[0m\u001b[0mdf\u001b[0m\u001b[1;33m,\u001b[0m \u001b[0mlazy\u001b[0m\u001b[1;33m=\u001b[0m\u001b[1;32mTrue\u001b[0m\u001b[1;33m)\u001b[0m\u001b[1;33m\u001b[0m\u001b[1;33m\u001b[0m\u001b[0m\n\u001b[0m",
      "\u001b[1;32mc:\\Users\\HP\\Documents\\GitHub\\1.__Dustin.py\\.venv\\lib\\site-packages\\pandera\\schemas.py\u001b[0m in \u001b[0;36mvalidate\u001b[1;34m(self, check_obj, head, tail, sample, random_state, lazy, inplace)\u001b[0m\n\u001b[0;32m    652\u001b[0m \u001b[1;33m\u001b[0m\u001b[0m\n\u001b[0;32m    653\u001b[0m         \u001b[1;32mif\u001b[0m \u001b[0mlazy\u001b[0m \u001b[1;32mand\u001b[0m \u001b[0merror_handler\u001b[0m\u001b[1;33m.\u001b[0m\u001b[0mcollected_errors\u001b[0m\u001b[1;33m:\u001b[0m\u001b[1;33m\u001b[0m\u001b[1;33m\u001b[0m\u001b[0m\n\u001b[1;32m--> 654\u001b[1;33m             raise errors.SchemaErrors(\n\u001b[0m\u001b[0;32m    655\u001b[0m                 \u001b[0merror_handler\u001b[0m\u001b[1;33m.\u001b[0m\u001b[0mcollected_errors\u001b[0m\u001b[1;33m,\u001b[0m \u001b[0mcheck_obj\u001b[0m\u001b[1;33m\u001b[0m\u001b[1;33m\u001b[0m\u001b[0m\n\u001b[0;32m    656\u001b[0m             )\n",
      "\u001b[1;31mSchemaErrors\u001b[0m: A total of 1 schema errors were found.\n\nError Counts\n------------\n- duplicates: 1\n\nSchema Error Summary\n--------------------\n                                                  failure_cases  n_failure_cases\nschema_context  column check                                                    \nDataFrameSchema a      multiple_fields_uniqueness           [1]                1\n                c      multiple_fields_uniqueness           [3]                1\n\nUsage Tip\n---------\n\nDirectly inspect all errors by catching the exception:\n\n```\ntry:\n    schema.validate(dataframe, lazy=True)\nexcept SchemaErrors as err:\n    err.failure_cases  # dataframe of schema errors\n    err.data  # invalid dataframe\n```\n"
     ]
    }
   ],
   "source": [
    "import pandas as pd\n",
    "import pandera as pa\n",
    "\n",
    "schema = pa.DataFrameSchema(\n",
    "    columns={col: pa.Column(int) for col in [\"a\", \"b\", \"c\"]}, #valida que las columnas sean unicas\n",
    "    unique=[\"a\", \"c\"],\n",
    ")\n",
    "df = pd.DataFrame.from_records([\n",
    "    {\"a\": 1, \"b\": 2, \"c\": 3},\n",
    "    {\"a\": 1, \"b\": 2, \"c\": 3},\n",
    "])\n",
    "print(df)\n",
    "schema.validate(df, lazy=True)"
   ]
  },
  {
   "cell_type": "markdown",
   "metadata": {},
   "source": [
    "## Validación de índice"
   ]
  },
  {
   "cell_type": "code",
   "execution_count": 20,
   "metadata": {},
   "outputs": [
    {
     "name": "stdout",
     "output_type": "stream",
     "text": [
      "         a\n",
      "index_1  1\n",
      "index_2  2\n",
      "index_3  3\n"
     ]
    }
   ],
   "source": [
    "import pandas as pd\n",
    "import pandera as pa\n",
    "\n",
    "from pandera import Column, DataFrameSchema, Index, Check\n",
    "\n",
    "schema = DataFrameSchema(\n",
    "   columns={\"a\": Column(int)},\n",
    "   index=Index(\n",
    "       str,\n",
    "       Check(lambda x: x.str.startswith(\"index_\")))) #especificar el indice\n",
    "\n",
    "df = pd.DataFrame(\n",
    "    data={\"a\": [1, 2, 3]},\n",
    "    index=[\"index_1\", \"index_2\", \"index_3\"])\n",
    "\n",
    "print(schema.validate(df))"
   ]
  },
  {
   "cell_type": "code",
   "execution_count": 22,
   "metadata": {},
   "outputs": [
    {
     "ename": "SchemaErrors",
     "evalue": "A total of 1 schema errors were found.\n\nError Counts\n------------\n- schema_component_check: 1\n\nSchema Error Summary\n--------------------\n                                     failure_cases  n_failure_cases\nschema_context column check                                        \nIndex          <NA>   <lambda>  [foo2, foo3, foo1]                3\n\nUsage Tip\n---------\n\nDirectly inspect all errors by catching the exception:\n\n```\ntry:\n    schema.validate(dataframe, lazy=True)\nexcept SchemaErrors as err:\n    err.failure_cases  # dataframe of schema errors\n    err.data  # invalid dataframe\n```\n",
     "output_type": "error",
     "traceback": [
      "\u001b[1;31m---------------------------------------------------------------------------\u001b[0m",
      "\u001b[1;31mSchemaErrors\u001b[0m                              Traceback (most recent call last)",
      "\u001b[1;32m~\\AppData\\Local\\Temp/ipykernel_480/3228460110.py\u001b[0m in \u001b[0;36m<module>\u001b[1;34m\u001b[0m\n\u001b[0;32m      3\u001b[0m     index=[\"foo1\", \"foo2\", \"foo3\"])\n\u001b[0;32m      4\u001b[0m \u001b[1;33m\u001b[0m\u001b[0m\n\u001b[1;32m----> 5\u001b[1;33m \u001b[0mschema\u001b[0m\u001b[1;33m.\u001b[0m\u001b[0mvalidate\u001b[0m\u001b[1;33m(\u001b[0m\u001b[0mdf\u001b[0m\u001b[1;33m,\u001b[0m \u001b[0mlazy\u001b[0m\u001b[1;33m=\u001b[0m\u001b[1;32mTrue\u001b[0m\u001b[1;33m)\u001b[0m\u001b[1;33m\u001b[0m\u001b[1;33m\u001b[0m\u001b[0m\n\u001b[0m",
      "\u001b[1;32mc:\\Users\\HP\\Documents\\GitHub\\1.__Dustin.py\\.venv\\lib\\site-packages\\pandera\\schemas.py\u001b[0m in \u001b[0;36mvalidate\u001b[1;34m(self, check_obj, head, tail, sample, random_state, lazy, inplace)\u001b[0m\n\u001b[0;32m    652\u001b[0m \u001b[1;33m\u001b[0m\u001b[0m\n\u001b[0;32m    653\u001b[0m         \u001b[1;32mif\u001b[0m \u001b[0mlazy\u001b[0m \u001b[1;32mand\u001b[0m \u001b[0merror_handler\u001b[0m\u001b[1;33m.\u001b[0m\u001b[0mcollected_errors\u001b[0m\u001b[1;33m:\u001b[0m\u001b[1;33m\u001b[0m\u001b[1;33m\u001b[0m\u001b[0m\n\u001b[1;32m--> 654\u001b[1;33m             raise errors.SchemaErrors(\n\u001b[0m\u001b[0;32m    655\u001b[0m                 \u001b[0merror_handler\u001b[0m\u001b[1;33m.\u001b[0m\u001b[0mcollected_errors\u001b[0m\u001b[1;33m,\u001b[0m \u001b[0mcheck_obj\u001b[0m\u001b[1;33m\u001b[0m\u001b[1;33m\u001b[0m\u001b[0m\n\u001b[0;32m    656\u001b[0m             )\n",
      "\u001b[1;31mSchemaErrors\u001b[0m: A total of 1 schema errors were found.\n\nError Counts\n------------\n- schema_component_check: 1\n\nSchema Error Summary\n--------------------\n                                     failure_cases  n_failure_cases\nschema_context column check                                        \nIndex          <NA>   <lambda>  [foo2, foo3, foo1]                3\n\nUsage Tip\n---------\n\nDirectly inspect all errors by catching the exception:\n\n```\ntry:\n    schema.validate(dataframe, lazy=True)\nexcept SchemaErrors as err:\n    err.failure_cases  # dataframe of schema errors\n    err.data  # invalid dataframe\n```\n"
     ]
    }
   ],
   "source": [
    "df = pd.DataFrame(\n",
    "    data={\"a\": [1, 2, 3]},\n",
    "    index=[\"foo1\", \"foo2\", \"foo3\"])\n",
    "\n",
    "schema.validate(df, lazy=True)"
   ]
  },
  {
   "cell_type": "markdown",
   "metadata": {},
   "source": [
    "# Validación MultiIndex\n",
    "## Columnas MultiIndex"
   ]
  },
  {
   "cell_type": "code",
   "execution_count": 23,
   "metadata": {},
   "outputs": [
    {
     "name": "stdout",
     "output_type": "stream",
     "text": [
      "  foo    \n",
      "  bar baz\n",
      "0   1   a\n",
      "1   2   b\n",
      "2   3   c\n",
      "  foo    \n",
      "  bar baz\n",
      "0   1   a\n",
      "1   2   b\n",
      "2   3   c\n"
     ]
    }
   ],
   "source": [
    "import pandas as pd\n",
    "import pandera as pa\n",
    "\n",
    "from pandera import Column, DataFrameSchema, Index\n",
    "\n",
    "schema = DataFrameSchema({\n",
    "    (\"foo\", \"bar\"): Column(int),\n",
    "    (\"foo\", \"baz\"): Column(str)\n",
    "})\n",
    "\n",
    "df = pd.DataFrame({\n",
    "    (\"foo\", \"bar\"): [1, 2, 3],\n",
    "    (\"foo\", \"baz\"): [\"a\", \"b\", \"c\"],\n",
    "})\n",
    "print(df)\n",
    "print(schema.validate(df))"
   ]
  },
  {
   "cell_type": "markdown",
   "metadata": {},
   "source": [
    "## Índices MultiIndex"
   ]
  },
  {
   "cell_type": "code",
   "execution_count": 25,
   "metadata": {},
   "outputs": [
    {
     "name": "stdout",
     "output_type": "stream",
     "text": [
      "               column1\n",
      "index0 index1         \n",
      "foo    0             1\n",
      "bar    1             2\n",
      "foo    2             3\n"
     ]
    }
   ],
   "source": [
    "import pandas as pd\n",
    "import pandera as pa\n",
    "\n",
    "from pandera import Column, DataFrameSchema, Index, MultiIndex, Check\n",
    "\n",
    "schema = DataFrameSchema(\n",
    "    columns={\"column1\": Column(int)},\n",
    "    index=MultiIndex([\n",
    "        Index(str,\n",
    "              Check(lambda s: s.isin([\"foo\", \"bar\"])), #define el indice\n",
    "              name=\"index0\"),\n",
    "        Index(int, name=\"index1\"),\n",
    "    ])\n",
    ")\n",
    "\n",
    "df = pd.DataFrame(\n",
    "    data={\"column1\": [1, 2, 3]},\n",
    "    index=pd.MultiIndex.from_arrays(\n",
    "        [[\"foo\", \"bar\", \"foo\"], [0, 1,2 ]],\n",
    "        names=[\"index0\", \"index1\"]\n",
    "    )\n",
    ")\n",
    "\n",
    "print(schema.validate(df))"
   ]
  },
  {
   "cell_type": "markdown",
   "metadata": {},
   "source": [
    "# Obtener tipos de datos de Pandas"
   ]
  },
  {
   "cell_type": "code",
   "execution_count": 26,
   "metadata": {},
   "outputs": [
    {
     "name": "stdout",
     "output_type": "stream",
     "text": [
      "   column1 column2  column3\n",
      "a        1  valueA     True\n",
      "b        1  valueB     True\n"
     ]
    }
   ],
   "source": [
    "import pandas as pd\n",
    "import pandera as pa\n",
    "\n",
    "schema = pa.DataFrameSchema(\n",
    "    columns={\n",
    "      \"column1\": pa.Column(int),\n",
    "      \"column2\": pa.Column(pa.Category),\n",
    "      \"column3\": pa.Column(bool)\n",
    "    },\n",
    ")\n",
    "\n",
    "df = (\n",
    "    pd.DataFrame.from_dict(\n",
    "        {\n",
    "            \"a\": {\"column1\": 1, \"column2\": \"valueA\", \"column3\": True},\n",
    "            \"b\": {\"column1\": 1, \"column2\": \"valueB\", \"column3\": True},\n",
    "        },\n",
    "        orient=\"index\",\n",
    "    )\n",
    "    .astype({col: str(dtype) for col, dtype in schema.dtypes.items()})\n",
    "    .sort_index(axis=1)\n",
    ")\n",
    "\n",
    "print(schema.validate(df))"
   ]
  },
  {
   "cell_type": "markdown",
   "metadata": {},
   "source": [
    "# Transformaciones DataFrameSchema"
   ]
  },
  {
   "cell_type": "code",
   "execution_count": 27,
   "metadata": {},
   "outputs": [
    {
     "name": "stdout",
     "output_type": "stream",
     "text": [
      "   col1   col2  col3\n",
      "0     1  value   0.0\n",
      "1     2  value   0.0\n",
      "2     3  value   0.0\n",
      "3     4  value   0.0\n",
      "4     5  value   0.0\n"
     ]
    }
   ],
   "source": [
    "import pandas as pd\n",
    "import pandera as pa\n",
    "\n",
    "data = pd.DataFrame({\"col1\": range(1, 6)})\n",
    "\n",
    "schema = pa.DataFrameSchema(\n",
    "    columns={\"col1\": pa.Column(int, pa.Check(lambda s: s >= 0))}, #valida que sea mayor que 0\n",
    "    strict=True)\n",
    "\n",
    "transformed_schema = schema.add_columns({\n",
    "    \"col2\": pa.Column(str, pa.Check(lambda s: s == \"value\")), #validad que sea igual a value\n",
    "    \"col3\": pa.Column(float, pa.Check(lambda x: x == 0.0)), #validad que sea igual a 0.0\n",
    "})\n",
    "\n",
    "# validate original data\n",
    "data = schema.validate(data)\n",
    "\n",
    "# transformation usand o pandas\n",
    "transformed_data = data.assign(col2=\"value\", col3=0.0)\n",
    "\n",
    "# validate transformed data\n",
    "print(transformed_schema.validate(transformed_data))"
   ]
  },
  {
   "cell_type": "code",
   "execution_count": 30,
   "metadata": {},
   "outputs": [
    {
     "name": "stdout",
     "output_type": "stream",
     "text": [
      "<Schema DataFrameSchema(\n",
      "    columns={\n",
      "        'col1': <Schema Column(name=col1, type=DataType(int64))>\n",
      "    },\n",
      "    checks=[],\n",
      "    coerce=False,\n",
      "    dtype=None,\n",
      "    index=None,\n",
      "    strict=True\n",
      "    name=None,\n",
      "    ordered=False\n",
      ")>\n"
     ]
    }
   ],
   "source": [
    "import pandera as pa\n",
    "\n",
    "schema = pa.DataFrameSchema(\n",
    "    columns={\n",
    "        \"col1\": pa.Column(int, pa.Check(lambda s: s >= 0)),\n",
    "        \"col2\": pa.Column(str, pa.Check(lambda x: x <= 0)),\n",
    "        \"col3\": pa.Column(object, pa.Check(lambda x: x == 0)),\n",
    "    },\n",
    "    strict=True,\n",
    ")\n",
    "\n",
    "new_schema = schema.remove_columns([\"col2\", \"col3\"])\n",
    "print(new_schema)"
   ]
  },
  {
   "cell_type": "code",
   "execution_count": 31,
   "metadata": {},
   "outputs": [
    {
     "name": "stdout",
     "output_type": "stream",
     "text": [
      "<Schema DataFrameSchema(\n",
      "    columns={\n",
      "        'column2': <Schema Column(name=column2, type=DataType(float64))>\n",
      "    },\n",
      "    checks=[],\n",
      "    coerce=True,\n",
      "    dtype=None,\n",
      "    index=<Schema MultiIndex(\n",
      "        indexes=[\n",
      "            <Schema Index(name=column3, type=DataType(int64))>\n",
      "            <Schema Index(name=column1, type=DataType(int64))>\n",
      "        ]\n",
      "        coerce=False,\n",
      "        strict=False,\n",
      "        name=None,\n",
      "        ordered=True\n",
      "    )>,\n",
      "    strict=True\n",
      "    name=None,\n",
      "    ordered=False\n",
      ")>\n"
     ]
    }
   ],
   "source": [
    "import pandera as pa\n",
    "\n",
    "from pandera import Column, DataFrameSchema, Check, Index\n",
    "\n",
    "schema = DataFrameSchema(\n",
    "    {\n",
    "        \"column1\": Column(int),\n",
    "        \"column2\": Column(float)\n",
    "    },\n",
    "    index=Index(int, name = \"column3\"),\n",
    "    strict=True,\n",
    "    coerce=True,\n",
    ")\n",
    "print(schema.set_index([\"column1\"], append = True))"
   ]
  }
 ],
 "metadata": {
  "interpreter": {
   "hash": "b62042eb66374eac56d5220cd8dfeb0adb046394d8bb803929519811233426fb"
  },
  "kernelspec": {
   "display_name": "Python 3.9.6 64-bit ('.venv': venv)",
   "name": "python3"
  },
  "language_info": {
   "codemirror_mode": {
    "name": "ipython",
    "version": 3
   },
   "file_extension": ".py",
   "mimetype": "text/x-python",
   "name": "python",
   "nbconvert_exporter": "python",
   "pygments_lexer": "ipython3",
   "version": "3.9.6"
  },
  "orig_nbformat": 4
 },
 "nbformat": 4,
 "nbformat_minor": 2
}
