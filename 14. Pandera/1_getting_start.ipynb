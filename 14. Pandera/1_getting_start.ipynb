{
 "cells": [
  {
   "cell_type": "markdown",
   "metadata": {},
   "source": [
    "# PANDERA SCHEMA"
   ]
  },
  {
   "cell_type": "code",
   "execution_count": 8,
   "metadata": {},
   "outputs": [],
   "source": [
    "import pandas as pd\n",
    "import pandera as pa"
   ]
  },
  {
   "cell_type": "code",
   "execution_count": 18,
   "metadata": {},
   "outputs": [],
   "source": [
    "# data to validate\n",
    "df = pd.DataFrame({\n",
    "    \"column1\": [1, 4, 0, 10, 9, 10],\n",
    "    \"column2\": [-1.3, -1.4, -2.9, -10.1, -20.4, -10],\n",
    "    \"column3\": [\"value_1\", \"value_2\", \"value_3\", \"value_2\", \"value_1\", \"value_1\"],\n",
    "})"
   ]
  },
  {
   "cell_type": "code",
   "execution_count": 19,
   "metadata": {},
   "outputs": [
    {
     "name": "stdout",
     "output_type": "stream",
     "text": [
      "   column1  column2  column3\n",
      "0        1     -1.3  value_1\n",
      "1        4     -1.4  value_2\n",
      "2        0     -2.9  value_3\n",
      "3       10    -10.1  value_2\n",
      "4        9    -20.4  value_1\n",
      "5       10    -10.0  value_1\n"
     ]
    }
   ],
   "source": [
    "# define schema\n",
    "schema = pa.DataFrameSchema({\n",
    "    \"column1\": pa.Column(int, checks=pa.Check.le(max_value=10)),  #valores no maximos de 10\n",
    "    \"column2\": pa.Column(float, checks=pa.Check.lt(-1.2)), #valores no maximo de -1.2\n",
    "    \"column3\": pa.Column(str, checks=[\n",
    "        pa.Check.str_startswith(\"value_\"), #valores que inicien con value_\n",
    "        # define custom checks as functions that take a series as input and\n",
    "        # outputs a boolean or boolean Series\n",
    "        pa.Check(lambda s: s.str.split(\"_\", expand=True).shape[1] == 2)\n",
    "    ]),\n",
    "})\n",
    "\n",
    "validated_df = schema.validate(df, lazy=True)\n",
    "print(validated_df)"
   ]
  },
  {
   "cell_type": "code",
   "execution_count": 35,
   "metadata": {},
   "outputs": [],
   "source": [
    "schema = pa.DataFrameSchema({\n",
    "    # built-in python types\n",
    "    \"int_column\": pa.Column(int),\n",
    "    \"float_column\": pa.Column(float),\n",
    "    \"str_column\": pa.Column(str),\n",
    "\n",
    "    # pandas dtype string aliases\n",
    "    \"int_column2\": pa.Column(\"int64\"),\n",
    "    \"float_column2\": pa.Column(\"float64\"),\n",
    "    # pandas > 1.0.0 support native \"string\" type\n",
    "    \"str_column2\": pa.Column(\"str\"),\n",
    "\n",
    "    # pandera DataType\n",
    "    \"int_column3\": pa.Column(pa.Int),\n",
    "    \"float_column3\": pa.Column(pa.Float),\n",
    "    \"str_column3\": pa.Column(pa.String),\n",
    "})"
   ]
  },
  {
   "cell_type": "markdown",
   "metadata": {},
   "source": [
    "## Schema Model"
   ]
  },
  {
   "cell_type": "code",
   "execution_count": 52,
   "metadata": {},
   "outputs": [
    {
     "ename": "SchemaErrors",
     "evalue": "A total of 4 schema errors were found.\n\nError Counts\n------------\n- column_not_in_dataframe: 2\n- schema_component_check: 2\n\nSchema Error Summary\n--------------------\n                                                  failure_cases  n_failure_cases\nschema_context  column  check                                                   \nDataFrameSchema <NA>    column_in_dataframe  [column3, column2]                2\nColumn          column1 dtype('int64')                [float64]                1\n                        not_nullable                      [nan]                1\n\nUsage Tip\n---------\n\nDirectly inspect all errors by catching the exception:\n\n```\ntry:\n    schema.validate(dataframe, lazy=True)\nexcept SchemaErrors as err:\n    err.failure_cases  # dataframe of schema errors\n    err.data  # invalid dataframe\n```\n",
     "output_type": "error",
     "traceback": [
      "\u001b[1;31m---------------------------------------------------------------------------\u001b[0m",
      "\u001b[1;31mSchemaErrors\u001b[0m                              Traceback (most recent call last)",
      "\u001b[1;32m~\\AppData\\Local\\Temp/ipykernel_9040/3967235243.py\u001b[0m in \u001b[0;36m<module>\u001b[1;34m\u001b[0m\n\u001b[0;32m     12\u001b[0m         \u001b[1;32mreturn\u001b[0m \u001b[0mseries\u001b[0m\u001b[1;33m.\u001b[0m\u001b[0mstr\u001b[0m\u001b[1;33m.\u001b[0m\u001b[0msplit\u001b[0m\u001b[1;33m(\u001b[0m\u001b[1;34m\"_\"\u001b[0m\u001b[1;33m,\u001b[0m \u001b[0mexpand\u001b[0m\u001b[1;33m=\u001b[0m\u001b[1;32mTrue\u001b[0m\u001b[1;33m)\u001b[0m\u001b[1;33m.\u001b[0m\u001b[0mshape\u001b[0m\u001b[1;33m[\u001b[0m\u001b[1;36m1\u001b[0m\u001b[1;33m]\u001b[0m \u001b[1;33m==\u001b[0m \u001b[1;36m2\u001b[0m\u001b[1;33m\u001b[0m\u001b[1;33m\u001b[0m\u001b[0m\n\u001b[0;32m     13\u001b[0m \u001b[1;33m\u001b[0m\u001b[0m\n\u001b[1;32m---> 14\u001b[1;33m \u001b[0mSchema\u001b[0m\u001b[1;33m.\u001b[0m\u001b[0mvalidate\u001b[0m\u001b[1;33m(\u001b[0m\u001b[0mdf\u001b[0m\u001b[1;33m,\u001b[0m \u001b[0mlazy\u001b[0m\u001b[1;33m=\u001b[0m\u001b[1;32mTrue\u001b[0m\u001b[1;33m)\u001b[0m\u001b[1;33m\u001b[0m\u001b[1;33m\u001b[0m\u001b[0m\n\u001b[0m",
      "\u001b[1;32mc:\\Users\\HP\\Documents\\GitHub\\1.__Dustin.py\\.venv\\lib\\site-packages\\pandera\\model.py\u001b[0m in \u001b[0;36mvalidate\u001b[1;34m(cls, check_obj, head, tail, sample, random_state, lazy, inplace)\u001b[0m\n\u001b[0;32m    236\u001b[0m     ) -> DataFrame[TSchemaModel]:\n\u001b[0;32m    237\u001b[0m         \u001b[1;34m\"\"\"%(validate_doc)s\"\"\"\u001b[0m\u001b[1;33m\u001b[0m\u001b[1;33m\u001b[0m\u001b[0m\n\u001b[1;32m--> 238\u001b[1;33m         return cls.to_schema().validate(\n\u001b[0m\u001b[0;32m    239\u001b[0m             \u001b[0mcheck_obj\u001b[0m\u001b[1;33m,\u001b[0m \u001b[0mhead\u001b[0m\u001b[1;33m,\u001b[0m \u001b[0mtail\u001b[0m\u001b[1;33m,\u001b[0m \u001b[0msample\u001b[0m\u001b[1;33m,\u001b[0m \u001b[0mrandom_state\u001b[0m\u001b[1;33m,\u001b[0m \u001b[0mlazy\u001b[0m\u001b[1;33m,\u001b[0m \u001b[0minplace\u001b[0m\u001b[1;33m\u001b[0m\u001b[1;33m\u001b[0m\u001b[0m\n\u001b[0;32m    240\u001b[0m         )\n",
      "\u001b[1;32mc:\\Users\\HP\\Documents\\GitHub\\1.__Dustin.py\\.venv\\lib\\site-packages\\pandera\\schemas.py\u001b[0m in \u001b[0;36mvalidate\u001b[1;34m(self, check_obj, head, tail, sample, random_state, lazy, inplace)\u001b[0m\n\u001b[0;32m    652\u001b[0m \u001b[1;33m\u001b[0m\u001b[0m\n\u001b[0;32m    653\u001b[0m         \u001b[1;32mif\u001b[0m \u001b[0mlazy\u001b[0m \u001b[1;32mand\u001b[0m \u001b[0merror_handler\u001b[0m\u001b[1;33m.\u001b[0m\u001b[0mcollected_errors\u001b[0m\u001b[1;33m:\u001b[0m\u001b[1;33m\u001b[0m\u001b[1;33m\u001b[0m\u001b[0m\n\u001b[1;32m--> 654\u001b[1;33m             raise errors.SchemaErrors(\n\u001b[0m\u001b[0;32m    655\u001b[0m                 \u001b[0merror_handler\u001b[0m\u001b[1;33m.\u001b[0m\u001b[0mcollected_errors\u001b[0m\u001b[1;33m,\u001b[0m \u001b[0mcheck_obj\u001b[0m\u001b[1;33m\u001b[0m\u001b[1;33m\u001b[0m\u001b[0m\n\u001b[0;32m    656\u001b[0m             )\n",
      "\u001b[1;31mSchemaErrors\u001b[0m: A total of 4 schema errors were found.\n\nError Counts\n------------\n- column_not_in_dataframe: 2\n- schema_component_check: 2\n\nSchema Error Summary\n--------------------\n                                                  failure_cases  n_failure_cases\nschema_context  column  check                                                   \nDataFrameSchema <NA>    column_in_dataframe  [column3, column2]                2\nColumn          column1 dtype('int64')                [float64]                1\n                        not_nullable                      [nan]                1\n\nUsage Tip\n---------\n\nDirectly inspect all errors by catching the exception:\n\n```\ntry:\n    schema.validate(dataframe, lazy=True)\nexcept SchemaErrors as err:\n    err.failure_cases  # dataframe of schema errors\n    err.data  # invalid dataframe\n```\n"
     ]
    }
   ],
   "source": [
    "from pandera.typing import Series\n",
    "\n",
    "class Schema(pa.SchemaModel):\n",
    "\n",
    "    column1: Series[int] = pa.Field(le=10)\n",
    "    column2: Series[float] = pa.Field(lt=-1.2)\n",
    "    column3: Series[str] = pa.Field(str_startswith=\"value_\")\n",
    "\n",
    "    @pa.check(\"column3\")\n",
    "    def column_3_check(cls, series: Series[str]) -> Series[bool]:\n",
    "        \"\"\"Check that column3 values have two elements after being split with '_'\"\"\"\n",
    "        return series.str.split(\"_\", expand=True).shape[1] == 2\n",
    "\n",
    "Schema.validate(df, lazy=True)"
   ]
  },
  {
   "cell_type": "markdown",
   "metadata": {},
   "source": [
    "## Informative Errors"
   ]
  },
  {
   "cell_type": "code",
   "execution_count": 54,
   "metadata": {},
   "outputs": [
    {
     "ename": "SchemaErrors",
     "evalue": "A total of 1 schema errors were found.\n\nError Counts\n------------\n- schema_component_check: 1\n\nSchema Error Summary\n--------------------\n                                             failure_cases  n_failure_cases\nschema_context column  check                                               \nColumn         column1 range checker [0, 10]     [-20, 30]                2\n\nUsage Tip\n---------\n\nDirectly inspect all errors by catching the exception:\n\n```\ntry:\n    schema.validate(dataframe, lazy=True)\nexcept SchemaErrors as err:\n    err.failure_cases  # dataframe of schema errors\n    err.data  # invalid dataframe\n```\n",
     "output_type": "error",
     "traceback": [
      "\u001b[1;31m---------------------------------------------------------------------------\u001b[0m",
      "\u001b[1;31mSchemaErrors\u001b[0m                              Traceback (most recent call last)",
      "\u001b[1;32m~\\AppData\\Local\\Temp/ipykernel_9040/2170131189.py\u001b[0m in \u001b[0;36m<module>\u001b[1;34m\u001b[0m\n\u001b[0;32m     14\u001b[0m })\n\u001b[0;32m     15\u001b[0m \u001b[1;33m\u001b[0m\u001b[0m\n\u001b[1;32m---> 16\u001b[1;33m \u001b[0msimple_schema\u001b[0m\u001b[1;33m.\u001b[0m\u001b[0mvalidate\u001b[0m\u001b[1;33m(\u001b[0m\u001b[0mfail_check_df\u001b[0m\u001b[1;33m,\u001b[0m \u001b[0mlazy\u001b[0m\u001b[1;33m=\u001b[0m\u001b[1;32mTrue\u001b[0m\u001b[1;33m)\u001b[0m\u001b[1;33m\u001b[0m\u001b[1;33m\u001b[0m\u001b[0m\n\u001b[0m",
      "\u001b[1;32mc:\\Users\\HP\\Documents\\GitHub\\1.__Dustin.py\\.venv\\lib\\site-packages\\pandera\\schemas.py\u001b[0m in \u001b[0;36mvalidate\u001b[1;34m(self, check_obj, head, tail, sample, random_state, lazy, inplace)\u001b[0m\n\u001b[0;32m    652\u001b[0m \u001b[1;33m\u001b[0m\u001b[0m\n\u001b[0;32m    653\u001b[0m         \u001b[1;32mif\u001b[0m \u001b[0mlazy\u001b[0m \u001b[1;32mand\u001b[0m \u001b[0merror_handler\u001b[0m\u001b[1;33m.\u001b[0m\u001b[0mcollected_errors\u001b[0m\u001b[1;33m:\u001b[0m\u001b[1;33m\u001b[0m\u001b[1;33m\u001b[0m\u001b[0m\n\u001b[1;32m--> 654\u001b[1;33m             raise errors.SchemaErrors(\n\u001b[0m\u001b[0;32m    655\u001b[0m                 \u001b[0merror_handler\u001b[0m\u001b[1;33m.\u001b[0m\u001b[0mcollected_errors\u001b[0m\u001b[1;33m,\u001b[0m \u001b[0mcheck_obj\u001b[0m\u001b[1;33m\u001b[0m\u001b[1;33m\u001b[0m\u001b[0m\n\u001b[0;32m    656\u001b[0m             )\n",
      "\u001b[1;31mSchemaErrors\u001b[0m: A total of 1 schema errors were found.\n\nError Counts\n------------\n- schema_component_check: 1\n\nSchema Error Summary\n--------------------\n                                             failure_cases  n_failure_cases\nschema_context column  check                                               \nColumn         column1 range checker [0, 10]     [-20, 30]                2\n\nUsage Tip\n---------\n\nDirectly inspect all errors by catching the exception:\n\n```\ntry:\n    schema.validate(dataframe, lazy=True)\nexcept SchemaErrors as err:\n    err.failure_cases  # dataframe of schema errors\n    err.data  # invalid dataframe\n```\n"
     ]
    }
   ],
   "source": [
    "import pandas as pd\n",
    "\n",
    "from pandera import Column, DataFrameSchema, Int, Check\n",
    "\n",
    "simple_schema = DataFrameSchema({\n",
    "    \"column1\": Column(\n",
    "        Int, Check(lambda x: 0 <= x <= 10, element_wise=True,\n",
    "                   error=\"range checker [0, 10]\"))\n",
    "})\n",
    "\n",
    "# validation rule violated\n",
    "fail_check_df = pd.DataFrame({\n",
    "    \"column1\": [-20, 5, 10, 30],\n",
    "})\n",
    "\n",
    "simple_schema.validate(fail_check_df, lazy=True)"
   ]
  },
  {
   "cell_type": "code",
   "execution_count": 56,
   "metadata": {},
   "outputs": [
    {
     "ename": "SchemaErrors",
     "evalue": "A total of 1 schema errors were found.\n\nError Counts\n------------\n- column_not_in_dataframe: 1\n\nSchema Error Summary\n--------------------\n                                           failure_cases  n_failure_cases\nschema_context  column check                                             \nDataFrameSchema <NA>   column_in_dataframe     [column1]                1\n\nUsage Tip\n---------\n\nDirectly inspect all errors by catching the exception:\n\n```\ntry:\n    schema.validate(dataframe, lazy=True)\nexcept SchemaErrors as err:\n    err.failure_cases  # dataframe of schema errors\n    err.data  # invalid dataframe\n```\n",
     "output_type": "error",
     "traceback": [
      "\u001b[1;31m---------------------------------------------------------------------------\u001b[0m",
      "\u001b[1;31mSchemaErrors\u001b[0m                              Traceback (most recent call last)",
      "\u001b[1;32m~\\AppData\\Local\\Temp/ipykernel_9040/590689829.py\u001b[0m in \u001b[0;36m<module>\u001b[1;34m\u001b[0m\n\u001b[0;32m      5\u001b[0m })\n\u001b[0;32m      6\u001b[0m \u001b[1;33m\u001b[0m\u001b[0m\n\u001b[1;32m----> 7\u001b[1;33m \u001b[0msimple_schema\u001b[0m\u001b[1;33m.\u001b[0m\u001b[0mvalidate\u001b[0m\u001b[1;33m(\u001b[0m\u001b[0mwrong_column_df\u001b[0m\u001b[1;33m,\u001b[0m \u001b[0mlazy\u001b[0m\u001b[1;33m=\u001b[0m\u001b[1;32mTrue\u001b[0m\u001b[1;33m)\u001b[0m\u001b[1;33m\u001b[0m\u001b[1;33m\u001b[0m\u001b[0m\n\u001b[0m",
      "\u001b[1;32mc:\\Users\\HP\\Documents\\GitHub\\1.__Dustin.py\\.venv\\lib\\site-packages\\pandera\\schemas.py\u001b[0m in \u001b[0;36mvalidate\u001b[1;34m(self, check_obj, head, tail, sample, random_state, lazy, inplace)\u001b[0m\n\u001b[0;32m    652\u001b[0m \u001b[1;33m\u001b[0m\u001b[0m\n\u001b[0;32m    653\u001b[0m         \u001b[1;32mif\u001b[0m \u001b[0mlazy\u001b[0m \u001b[1;32mand\u001b[0m \u001b[0merror_handler\u001b[0m\u001b[1;33m.\u001b[0m\u001b[0mcollected_errors\u001b[0m\u001b[1;33m:\u001b[0m\u001b[1;33m\u001b[0m\u001b[1;33m\u001b[0m\u001b[0m\n\u001b[1;32m--> 654\u001b[1;33m             raise errors.SchemaErrors(\n\u001b[0m\u001b[0;32m    655\u001b[0m                 \u001b[0merror_handler\u001b[0m\u001b[1;33m.\u001b[0m\u001b[0mcollected_errors\u001b[0m\u001b[1;33m,\u001b[0m \u001b[0mcheck_obj\u001b[0m\u001b[1;33m\u001b[0m\u001b[1;33m\u001b[0m\u001b[0m\n\u001b[0;32m    656\u001b[0m             )\n",
      "\u001b[1;31mSchemaErrors\u001b[0m: A total of 1 schema errors were found.\n\nError Counts\n------------\n- column_not_in_dataframe: 1\n\nSchema Error Summary\n--------------------\n                                           failure_cases  n_failure_cases\nschema_context  column check                                             \nDataFrameSchema <NA>   column_in_dataframe     [column1]                1\n\nUsage Tip\n---------\n\nDirectly inspect all errors by catching the exception:\n\n```\ntry:\n    schema.validate(dataframe, lazy=True)\nexcept SchemaErrors as err:\n    err.failure_cases  # dataframe of schema errors\n    err.data  # invalid dataframe\n```\n"
     ]
    }
   ],
   "source": [
    "# column name mis-specified\n",
    "wrong_column_df = pd.DataFrame({\n",
    "   \"foo\": [\"bar\"] * 10,\n",
    "   \"baz\": [1] * 10\n",
    "})\n",
    "\n",
    "simple_schema.validate(wrong_column_df, lazy=True)"
   ]
  },
  {
   "cell_type": "code",
   "execution_count": null,
   "metadata": {},
   "outputs": [],
   "source": []
  },
  {
   "cell_type": "code",
   "execution_count": null,
   "metadata": {},
   "outputs": [],
   "source": []
  }
 ],
 "metadata": {
  "interpreter": {
   "hash": "b62042eb66374eac56d5220cd8dfeb0adb046394d8bb803929519811233426fb"
  },
  "kernelspec": {
   "display_name": "Python 3.9.6 64-bit ('.venv': venv)",
   "name": "python3"
  },
  "language_info": {
   "codemirror_mode": {
    "name": "ipython",
    "version": 3
   },
   "file_extension": ".py",
   "mimetype": "text/x-python",
   "name": "python",
   "nbconvert_exporter": "python",
   "pygments_lexer": "ipython3",
   "version": "3.9.6"
  },
  "orig_nbformat": 4
 },
 "nbformat": 4,
 "nbformat_minor": 2
}
