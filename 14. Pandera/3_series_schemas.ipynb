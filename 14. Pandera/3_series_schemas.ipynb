{
 "cells": [
  {
   "cell_type": "markdown",
   "metadata": {},
   "source": [
    "# Series Schemas"
   ]
  },
  {
   "cell_type": "code",
   "execution_count": 1,
   "metadata": {},
   "outputs": [
    {
     "name": "stdout",
     "output_type": "stream",
     "text": [
      "0    foobar\n",
      "1    foobar\n",
      "2    foobar\n",
      "Name: my_series, dtype: object\n"
     ]
    }
   ],
   "source": [
    "import pandas as pd\n",
    "import pandera as pa\n",
    "\n",
    "\n",
    "# specify multiple validators\n",
    "schema = pa.SeriesSchema(\n",
    "    str,\n",
    "    checks=[\n",
    "        pa.Check(lambda s: s.str.startswith(\"foo\")),\n",
    "        pa.Check(lambda s: s.str.endswith(\"bar\")),\n",
    "        pa.Check(lambda x: len(x) > 3, element_wise=True)\n",
    "    ],\n",
    "    nullable=False,\n",
    "    allow_duplicates=True,\n",
    "    name=\"my_series\")\n",
    "\n",
    "validated_series = schema.validate(\n",
    "    pd.Series([\"foobar\", \"foobar\", \"foobar\"], name=\"my_series\"))\n",
    "print(validated_series)"
   ]
  }
 ],
 "metadata": {
  "interpreter": {
   "hash": "b62042eb66374eac56d5220cd8dfeb0adb046394d8bb803929519811233426fb"
  },
  "kernelspec": {
   "display_name": "Python 3.9.6 64-bit ('.venv': venv)",
   "name": "python3"
  },
  "language_info": {
   "codemirror_mode": {
    "name": "ipython",
    "version": 3
   },
   "file_extension": ".py",
   "mimetype": "text/x-python",
   "name": "python",
   "nbconvert_exporter": "python",
   "pygments_lexer": "ipython3",
   "version": "3.9.6"
  },
  "orig_nbformat": 4
 },
 "nbformat": 4,
 "nbformat_minor": 2
}
