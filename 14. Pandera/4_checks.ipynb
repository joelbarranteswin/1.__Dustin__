{
 "cells": [
  {
   "cell_type": "markdown",
   "metadata": {},
   "source": [
    "# Checks\n",
    "## Checking column properties"
   ]
  },
  {
   "cell_type": "code",
   "execution_count": 3,
   "metadata": {},
   "outputs": [],
   "source": [
    "import pandas as pd\n",
    "import pandera as pa"
   ]
  },
  {
   "cell_type": "code",
   "execution_count": 6,
   "metadata": {},
   "outputs": [
    {
     "data": {
      "text/html": [
       "<div>\n",
       "<style scoped>\n",
       "    .dataframe tbody tr th:only-of-type {\n",
       "        vertical-align: middle;\n",
       "    }\n",
       "\n",
       "    .dataframe tbody tr th {\n",
       "        vertical-align: top;\n",
       "    }\n",
       "\n",
       "    .dataframe thead th {\n",
       "        text-align: right;\n",
       "    }\n",
       "</style>\n",
       "<table border=\"1\" class=\"dataframe\">\n",
       "  <thead>\n",
       "    <tr style=\"text-align: right;\">\n",
       "      <th></th>\n",
       "      <th>column1</th>\n",
       "    </tr>\n",
       "  </thead>\n",
       "  <tbody>\n",
       "    <tr>\n",
       "      <th>0</th>\n",
       "      <td>0</td>\n",
       "    </tr>\n",
       "    <tr>\n",
       "      <th>1</th>\n",
       "      <td>1</td>\n",
       "    </tr>\n",
       "    <tr>\n",
       "      <th>2</th>\n",
       "      <td>2</td>\n",
       "    </tr>\n",
       "    <tr>\n",
       "      <th>3</th>\n",
       "      <td>3</td>\n",
       "    </tr>\n",
       "    <tr>\n",
       "      <th>4</th>\n",
       "      <td>4</td>\n",
       "    </tr>\n",
       "    <tr>\n",
       "      <th>5</th>\n",
       "      <td>5</td>\n",
       "    </tr>\n",
       "    <tr>\n",
       "      <th>6</th>\n",
       "      <td>6</td>\n",
       "    </tr>\n",
       "    <tr>\n",
       "      <th>7</th>\n",
       "      <td>7</td>\n",
       "    </tr>\n",
       "    <tr>\n",
       "      <th>8</th>\n",
       "      <td>8</td>\n",
       "    </tr>\n",
       "    <tr>\n",
       "      <th>9</th>\n",
       "      <td>9</td>\n",
       "    </tr>\n",
       "  </tbody>\n",
       "</table>\n",
       "</div>"
      ],
      "text/plain": [
       "   column1\n",
       "0        0\n",
       "1        1\n",
       "2        2\n",
       "3        3\n",
       "4        4\n",
       "5        5\n",
       "6        6\n",
       "7        7\n",
       "8        8\n",
       "9        9"
      ]
     },
     "execution_count": 6,
     "metadata": {},
     "output_type": "execute_result"
    }
   ],
   "source": [
    "check_lt_10 = pa.Check(lambda s: s <= 10)\n",
    "\n",
    "schema = pa.DataFrameSchema({\"column1\": pa.Column(int, check_lt_10)})\n",
    "schema.validate(pd.DataFrame({\"column1\": range(10)}))"
   ]
  },
  {
   "cell_type": "markdown",
   "metadata": {},
   "source": [
    "## multi checks"
   ]
  },
  {
   "cell_type": "code",
   "execution_count": 7,
   "metadata": {},
   "outputs": [],
   "source": [
    "schema = pa.DataFrameSchema({\n",
    "    \"column2\": pa.Column(str, [\n",
    "        pa.Check(lambda s: s.str.startswith(\"value\")),\n",
    "        pa.Check(lambda s: s.str.split(\"_\", expand=True).shape[1] == 2)\n",
    "    ]),\n",
    "})"
   ]
  },
  {
   "cell_type": "markdown",
   "metadata": {},
   "source": [
    "## Built-in Checks"
   ]
  },
  {
   "cell_type": "code",
   "execution_count": 8,
   "metadata": {},
   "outputs": [],
   "source": [
    "import pandera as pa\n",
    "from pandera import Column, Check, DataFrameSchema\n",
    "\n",
    "schema = DataFrameSchema({\n",
    "    \"small_values\": Column(float, Check.less_than(100)),\n",
    "    \"one_to_three\": Column(int, Check.isin([1, 2, 3])),\n",
    "    \"phone_number\": Column(str, Check.str_matches(r'^[a-z0-9-]+$')),\n",
    "})"
   ]
  },
  {
   "cell_type": "markdown",
   "metadata": {},
   "source": [
    "## Vectorized vs. Element-wise Checks"
   ]
  },
  {
   "cell_type": "code",
   "execution_count": 11,
   "metadata": {},
   "outputs": [
    {
     "data": {
      "text/html": [
       "<div>\n",
       "<style scoped>\n",
       "    .dataframe tbody tr th:only-of-type {\n",
       "        vertical-align: middle;\n",
       "    }\n",
       "\n",
       "    .dataframe tbody tr th {\n",
       "        vertical-align: top;\n",
       "    }\n",
       "\n",
       "    .dataframe thead th {\n",
       "        text-align: right;\n",
       "    }\n",
       "</style>\n",
       "<table border=\"1\" class=\"dataframe\">\n",
       "  <thead>\n",
       "    <tr style=\"text-align: right;\">\n",
       "      <th></th>\n",
       "      <th>a</th>\n",
       "    </tr>\n",
       "  </thead>\n",
       "  <tbody>\n",
       "    <tr>\n",
       "      <th>0</th>\n",
       "      <td>4</td>\n",
       "    </tr>\n",
       "    <tr>\n",
       "      <th>1</th>\n",
       "      <td>4</td>\n",
       "    </tr>\n",
       "    <tr>\n",
       "      <th>2</th>\n",
       "      <td>5</td>\n",
       "    </tr>\n",
       "    <tr>\n",
       "      <th>3</th>\n",
       "      <td>6</td>\n",
       "    </tr>\n",
       "    <tr>\n",
       "      <th>4</th>\n",
       "      <td>6</td>\n",
       "    </tr>\n",
       "    <tr>\n",
       "      <th>5</th>\n",
       "      <td>7</td>\n",
       "    </tr>\n",
       "    <tr>\n",
       "      <th>6</th>\n",
       "      <td>8</td>\n",
       "    </tr>\n",
       "    <tr>\n",
       "      <th>7</th>\n",
       "      <td>9</td>\n",
       "    </tr>\n",
       "  </tbody>\n",
       "</table>\n",
       "</div>"
      ],
      "text/plain": [
       "   a\n",
       "0  4\n",
       "1  4\n",
       "2  5\n",
       "3  6\n",
       "4  6\n",
       "5  7\n",
       "6  8\n",
       "7  9"
      ]
     },
     "execution_count": 11,
     "metadata": {},
     "output_type": "execute_result"
    }
   ],
   "source": [
    "import pandas as pd\n",
    "import pandera as pa\n",
    "\n",
    "schema = pa.DataFrameSchema({\n",
    "    \"a\": pa.Column(\n",
    "        int,\n",
    "        checks=[\n",
    "            # a vectorized check that returns a bool\n",
    "            pa.Check(lambda s: s.mean() > 5, element_wise=False),\n",
    "\n",
    "            # a vectorized check that returns a boolean series\n",
    "            pa.Check(lambda s: s > 0, element_wise=False),\n",
    "\n",
    "            # an element-wise check that returns a bool\n",
    "            pa.Check(lambda x: x > 0, element_wise=True),\n",
    "        ]\n",
    "    ),\n",
    "})\n",
    "df = pd.DataFrame({\"a\": [4, 4, 5, 6, 6, 7, 8, 9]})\n",
    "schema.validate(df)"
   ]
  },
  {
   "cell_type": "markdown",
   "metadata": {},
   "source": [
    "## Handling Null Values"
   ]
  },
  {
   "cell_type": "code",
   "execution_count": 12,
   "metadata": {},
   "outputs": [
    {
     "data": {
      "text/plain": [
       "<Check ellipsis>"
      ]
     },
     "execution_count": 12,
     "metadata": {},
     "output_type": "execute_result"
    }
   ],
   "source": [
    "Check(..., ignore_na=False)"
   ]
  },
  {
   "cell_type": "markdown",
   "metadata": {},
   "source": [
    "## Column Check Groups"
   ]
  },
  {
   "cell_type": "code",
   "execution_count": 13,
   "metadata": {},
   "outputs": [
    {
     "data": {
      "text/html": [
       "<div>\n",
       "<style scoped>\n",
       "    .dataframe tbody tr th:only-of-type {\n",
       "        vertical-align: middle;\n",
       "    }\n",
       "\n",
       "    .dataframe tbody tr th {\n",
       "        vertical-align: top;\n",
       "    }\n",
       "\n",
       "    .dataframe thead th {\n",
       "        text-align: right;\n",
       "    }\n",
       "</style>\n",
       "<table border=\"1\" class=\"dataframe\">\n",
       "  <thead>\n",
       "    <tr style=\"text-align: right;\">\n",
       "      <th></th>\n",
       "      <th>height_in_feet</th>\n",
       "      <th>age</th>\n",
       "      <th>sex</th>\n",
       "      <th>age_less_than_20</th>\n",
       "    </tr>\n",
       "  </thead>\n",
       "  <tbody>\n",
       "    <tr>\n",
       "      <th>0</th>\n",
       "      <td>6.5</td>\n",
       "      <td>25</td>\n",
       "      <td>M</td>\n",
       "      <td>False</td>\n",
       "    </tr>\n",
       "    <tr>\n",
       "      <th>1</th>\n",
       "      <td>7.0</td>\n",
       "      <td>30</td>\n",
       "      <td>M</td>\n",
       "      <td>False</td>\n",
       "    </tr>\n",
       "    <tr>\n",
       "      <th>2</th>\n",
       "      <td>6.1</td>\n",
       "      <td>21</td>\n",
       "      <td>F</td>\n",
       "      <td>False</td>\n",
       "    </tr>\n",
       "    <tr>\n",
       "      <th>3</th>\n",
       "      <td>5.1</td>\n",
       "      <td>18</td>\n",
       "      <td>F</td>\n",
       "      <td>True</td>\n",
       "    </tr>\n",
       "    <tr>\n",
       "      <th>4</th>\n",
       "      <td>4.0</td>\n",
       "      <td>13</td>\n",
       "      <td>F</td>\n",
       "      <td>True</td>\n",
       "    </tr>\n",
       "  </tbody>\n",
       "</table>\n",
       "</div>"
      ],
      "text/plain": [
       "   height_in_feet  age sex  age_less_than_20\n",
       "0             6.5   25   M             False\n",
       "1             7.0   30   M             False\n",
       "2             6.1   21   F             False\n",
       "3             5.1   18   F              True\n",
       "4             4.0   13   F              True"
      ]
     },
     "execution_count": 13,
     "metadata": {},
     "output_type": "execute_result"
    }
   ],
   "source": [
    "import pandas as pd\n",
    "import pandera as pa\n",
    "\n",
    "schema = pa.DataFrameSchema({\n",
    "    \"height_in_feet\": pa.Column(\n",
    "        float, [\n",
    "            # groupby as a single column\n",
    "            pa.Check(\n",
    "                lambda g: g[False].mean() > 6,\n",
    "                groupby=\"age_less_than_20\"),\n",
    "\n",
    "            # define multiple groupby columns\n",
    "            pa.Check(\n",
    "                lambda g: g[(True, \"F\")].sum() == 9.1,\n",
    "                groupby=[\"age_less_than_20\", \"sex\"]),\n",
    "\n",
    "            # groupby as a callable with signature:\n",
    "            # (DataFrame) -> DataFrameGroupBy\n",
    "            pa.Check(\n",
    "                lambda g: g[(False, \"M\")].median() == 6.75,\n",
    "                groupby=lambda df: (\n",
    "                    df.assign(age_less_than_15=lambda d: d[\"age\"] < 15)\n",
    "                    .groupby([\"age_less_than_15\", \"sex\"]))),\n",
    "        ]),\n",
    "    \"age\": pa.Column(int, pa.Check(lambda s: s > 0)),\n",
    "    \"age_less_than_20\": pa.Column(bool),\n",
    "    \"sex\": pa.Column(str, pa.Check(lambda s: s.isin([\"M\", \"F\"])))\n",
    "})\n",
    "\n",
    "df = (\n",
    "    pd.DataFrame({\n",
    "        \"height_in_feet\": [6.5, 7, 6.1, 5.1, 4],\n",
    "        \"age\": [25, 30, 21, 18, 13],\n",
    "        \"sex\": [\"M\", \"M\", \"F\", \"F\", \"F\"]\n",
    "    })\n",
    "    .assign(age_less_than_20=lambda x: x[\"age\"] < 20)\n",
    ")\n",
    "\n",
    "schema.validate(df)"
   ]
  },
  {
   "cell_type": "markdown",
   "metadata": {},
   "source": [
    "## Wide Checks"
   ]
  },
  {
   "cell_type": "code",
   "execution_count": 40,
   "metadata": {},
   "outputs": [
    {
     "data": {
      "text/html": [
       "<div>\n",
       "<style scoped>\n",
       "    .dataframe tbody tr th:only-of-type {\n",
       "        vertical-align: middle;\n",
       "    }\n",
       "\n",
       "    .dataframe tbody tr th {\n",
       "        vertical-align: top;\n",
       "    }\n",
       "\n",
       "    .dataframe thead th {\n",
       "        text-align: right;\n",
       "    }\n",
       "</style>\n",
       "<table border=\"1\" class=\"dataframe\">\n",
       "  <thead>\n",
       "    <tr style=\"text-align: right;\">\n",
       "      <th></th>\n",
       "      <th>height</th>\n",
       "      <th>group</th>\n",
       "    </tr>\n",
       "  </thead>\n",
       "  <tbody>\n",
       "    <tr>\n",
       "      <th>0</th>\n",
       "      <td>5.6</td>\n",
       "      <td>A</td>\n",
       "    </tr>\n",
       "    <tr>\n",
       "      <th>1</th>\n",
       "      <td>6.4</td>\n",
       "      <td>B</td>\n",
       "    </tr>\n",
       "    <tr>\n",
       "      <th>2</th>\n",
       "      <td>4.0</td>\n",
       "      <td>A</td>\n",
       "    </tr>\n",
       "    <tr>\n",
       "      <th>3</th>\n",
       "      <td>7.1</td>\n",
       "      <td>B</td>\n",
       "    </tr>\n",
       "  </tbody>\n",
       "</table>\n",
       "</div>"
      ],
      "text/plain": [
       "   height group\n",
       "0     5.6     A\n",
       "1     6.4     B\n",
       "2     4.0     A\n",
       "3     7.1     B"
      ]
     },
     "execution_count": 40,
     "metadata": {},
     "output_type": "execute_result"
    }
   ],
   "source": [
    "import pandas as pd\n",
    "import pandera as pa\n",
    "\n",
    "\n",
    "df = pd.DataFrame({\n",
    "    \"height\": [5.6, 6.4, 4.0, 7.1],\n",
    "    \"group\": [\"A\", \"B\", \"A\", \"B\"],\n",
    "})\n",
    "\n",
    "schema = pa.DataFrameSchema({\n",
    "    \"height\": pa.Column(\n",
    "        float,\n",
    "        pa.Check(lambda g: g[\"A\"].mean() < g[\"B\"].mean(), groupby=\"group\")\n",
    "    ),\n",
    "    \"group\": pa.Column(str)\n",
    "})\n",
    "\n",
    "schema.validate(df)"
   ]
  },
  {
   "cell_type": "code",
   "execution_count": 41,
   "metadata": {},
   "outputs": [
    {
     "data": {
      "text/html": [
       "<div>\n",
       "<style scoped>\n",
       "    .dataframe tbody tr th:only-of-type {\n",
       "        vertical-align: middle;\n",
       "    }\n",
       "\n",
       "    .dataframe tbody tr th {\n",
       "        vertical-align: top;\n",
       "    }\n",
       "\n",
       "    .dataframe thead th {\n",
       "        text-align: right;\n",
       "    }\n",
       "</style>\n",
       "<table border=\"1\" class=\"dataframe\">\n",
       "  <thead>\n",
       "    <tr style=\"text-align: right;\">\n",
       "      <th></th>\n",
       "      <th>height_A</th>\n",
       "      <th>height_B</th>\n",
       "    </tr>\n",
       "  </thead>\n",
       "  <tbody>\n",
       "    <tr>\n",
       "      <th>0</th>\n",
       "      <td>5.6</td>\n",
       "      <td>6.4</td>\n",
       "    </tr>\n",
       "    <tr>\n",
       "      <th>1</th>\n",
       "      <td>4.0</td>\n",
       "      <td>7.1</td>\n",
       "    </tr>\n",
       "  </tbody>\n",
       "</table>\n",
       "</div>"
      ],
      "text/plain": [
       "   height_A  height_B\n",
       "0       5.6       6.4\n",
       "1       4.0       7.1"
      ]
     },
     "execution_count": 41,
     "metadata": {},
     "output_type": "execute_result"
    }
   ],
   "source": [
    "df = pd.DataFrame({\n",
    "    \"height_A\": [5.6, 4.0],\n",
    "    \"height_B\": [6.4, 7.1],\n",
    "})\n",
    "\n",
    "schema = pa.DataFrameSchema(\n",
    "    columns={\n",
    "        \"height_A\": pa.Column(float),\n",
    "        \"height_B\": pa.Column(float),\n",
    "    },\n",
    "    # define checks at the DataFrameSchema-level\n",
    "    checks=pa.Check(\n",
    "        lambda df: df[\"height_A\"].mean() < df[\"height_B\"].mean()\n",
    "    )\n",
    ")\n",
    "\n",
    "schema.validate(df)"
   ]
  },
  {
   "cell_type": "markdown",
   "metadata": {},
   "source": [
    "# Raise UserWarning on Check Failure"
   ]
  },
  {
   "cell_type": "code",
   "execution_count": 43,
   "metadata": {},
   "outputs": [
    {
     "name": "stdout",
     "output_type": "stream",
     "text": [
      "<Schema Column(name=var2, type=None)> failed series or dataframe validator 0:\n",
      "<Check _hypothesis_check: normality test>\n"
     ]
    }
   ],
   "source": [
    "import warnings\n",
    "\n",
    "import numpy as np\n",
    "import pandas as pd\n",
    "import pandera as pa\n",
    "\n",
    "from scipy.stats import normaltest\n",
    "\n",
    "\n",
    "np.random.seed(1000)\n",
    "\n",
    "df = pd.DataFrame({\n",
    "    \"var1\": np.random.normal(loc=0, scale=1, size=1000),\n",
    "    \"var2\": np.random.uniform(low=0, high=10, size=1000),\n",
    "})\n",
    "\n",
    "normal_check = pa.Hypothesis(\n",
    "    test=normaltest,\n",
    "    samples=\"normal_variable\",\n",
    "    # null hypotheses: sample comes from a normal distribution. The\n",
    "    # relationship function checks if we cannot reject the null hypothesis,\n",
    "    # i.e. the p-value is greater or equal to alpha.\n",
    "    relationship=lambda stat, pvalue, alpha=0.05: pvalue >= alpha,\n",
    "    error=\"normality test\",\n",
    "    raise_warning=True,\n",
    ")\n",
    "\n",
    "schema = pa.DataFrameSchema(\n",
    "    columns={\n",
    "        \"var1\": pa.Column(checks=normal_check),\n",
    "        \"var2\": pa.Column(checks=normal_check),\n",
    "    }\n",
    ")\n",
    "\n",
    "# catch and print warnings\n",
    "with warnings.catch_warnings(record=True) as caught_warnings:\n",
    "    warnings.simplefilter(\"always\")\n",
    "    validated_df = schema(df)\n",
    "    for warning in caught_warnings:\n",
    "        print(warning.message)"
   ]
  }
 ],
 "metadata": {
  "interpreter": {
   "hash": "b62042eb66374eac56d5220cd8dfeb0adb046394d8bb803929519811233426fb"
  },
  "kernelspec": {
   "display_name": "Python 3.9.6 64-bit ('.venv': venv)",
   "name": "python3"
  },
  "language_info": {
   "codemirror_mode": {
    "name": "ipython",
    "version": 3
   },
   "file_extension": ".py",
   "mimetype": "text/x-python",
   "name": "python",
   "nbconvert_exporter": "python",
   "pygments_lexer": "ipython3",
   "version": "3.9.6"
  },
  "orig_nbformat": 4
 },
 "nbformat": 4,
 "nbformat_minor": 2
}
