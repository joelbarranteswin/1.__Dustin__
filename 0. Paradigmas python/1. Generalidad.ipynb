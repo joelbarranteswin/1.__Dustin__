{
 "cells": [
  {
   "cell_type": "markdown",
   "source": [
    "# Que significa que python es multiparadigma?"
   ],
   "metadata": {}
  },
  {
   "cell_type": "markdown",
   "source": [
    "python es un lenguaje interpretado y ademas es tipado, se trata de unlenguaje de programación multiparadigma, ya que soporta:\r\n",
    "\r\n",
    "- Programación imperativa\r\n",
    "+ Programación orientada a objetos \r\n",
    "* programación funcional\r\n",
    "\r\n",
    "es decir que acepta diversas formas de trabajar con el lenguaje."
   ],
   "metadata": {}
  },
  {
   "cell_type": "code",
   "execution_count": 1,
   "source": [
    "import this\r\n"
   ],
   "outputs": [
    {
     "output_type": "stream",
     "name": "stdout",
     "text": [
      "The Zen of Python, by Tim Peters\n",
      "\n",
      "Beautiful is better than ugly.\n",
      "Explicit is better than implicit.\n",
      "Simple is better than complex.\n",
      "Complex is better than complicated.\n",
      "Flat is better than nested.\n",
      "Sparse is better than dense.\n",
      "Readability counts.\n",
      "Special cases aren't special enough to break the rules.\n",
      "Although practicality beats purity.\n",
      "Errors should never pass silently.\n",
      "Unless explicitly silenced.\n",
      "In the face of ambiguity, refuse the temptation to guess.\n",
      "There should be one-- and preferably only one --obvious way to do it.\n",
      "Although that way may not be obvious at first unless you're Dutch.\n",
      "Now is better than never.\n",
      "Although never is often better than *right* now.\n",
      "If the implementation is hard to explain, it's a bad idea.\n",
      "If the implementation is easy to explain, it may be a good idea.\n",
      "Namespaces are one honking great idea -- let's do more of those!\n"
     ]
    }
   ],
   "metadata": {}
  },
  {
   "cell_type": "markdown",
   "source": [
    "## Definiciones:\r\n",
    "- Programación imperativa (estructurada), el código será ejecutado desde el principio del fichero al final sin seguir ningún tipo de desviación. Su mayor ventaja radica en su simplicidad y poco peso. Su peligrosidad es el código espagueti, archivos con centenares o miles de líneas donde solo unos pocos seres humanos son capaces de modificar y salir victoriosos.\r\n",
    "\r\n",
    "+ Programación orientada a objetos (OOP o Object Oriented Programming), donde se encapsulan las variables y funciones en pequeños módulos capaces de clonarse y modificarse. Su punto fuerte es la capacidad de re-utilización y aislamiento para evitar problemas con otras funcionalidades. La parte negativa recae en la complejidad de crear buenos objetos y la depuración.\r\n",
    "\r\n",
    "* Programación funcional (FP o Functional programming), donde el código se reparte en sencillas funciones capaces de ser invocadas con variables u otras funciones. Su facilidad de uso por atomicidad logra un mantenimiento sólido y compatible con casi cualquier lenguaje. Además su inmutabilidad de variables evita gran parte de los problemas que si sufre la programación orientada a objetos."
   ],
   "metadata": {}
  },
  {
   "cell_type": "markdown",
   "source": [
    "## Principios de la programación funcional\r\n",
    "- Uso de funciones: Como su nombre indica, todo se construye por medio de funciones. Esta forma de trabajar no solo es sencilla, ordenada, clara, fácil de testear, sino que además es una práctica que han utilizado grandes figuras militares como Julio César y Napoleón. No, no usaron Python (al menos no hay constancia de ello), pero aplicaron el concepto de: __“divide y vencerás”__. Y la programación funcional usa esta estrategia para prácticamente todo.\r\n",
    "\r\n",
    "+ Funciones de primera clase: Las funciones son tratadas como una variable más. Incluso pueden ser devueltas.\r\n",
    "\r\n",
    "* Funciones puras: Totalmente predictivo, los mismos datos de entrada producirán los mismos datos de salida. Puedes sustituir el parámetro de entrada de sin que ello altere el flujo del programa.\r\n",
    "  \r\n",
    "- Recursividad: Las funciones se pueden llamar a si mismas simplificando tareas como recorrer árboles de datos o la gestión de bucles controlados.\r\n",
    "\r\n",
    "+ Inmutabilidad: No hay variables, solo constantes. Personalmente comprender su potencial y llevarlo a la práctica fue como darle al reset de mi cerebro; tuve que re-aprender a usar variable. Anécdota a parte; ¿donde suele fallar el software? En gran mayoría de las ocasiones viene por una variable que a sido cambiada. Esto provoca que un bloque de código se ejecute con unas condiciones no previstas por nadie en el mundo mundial, toca revisar cada variable en diferentes valores hasta que encontramos al culpable. Os hago una reflexión: ¿Y si esas variables nunca fueran modificadas? O siendo más prácticos, ¿y si creamos una nueva constante de cada modificación? ¿Y si… os digo que a nivel de rendimiento… es más eficiente? Es un concepto muy interesante de aplicar.\r\n",
    "\r\n",
    "* Evaluación perezosa (no estricta): En la programación funcional podemos trabajar con expresiones que no han sido evaluadas, o dicho de otra manera, podemos disponer de variables con operaciones cuyo resultado aún no se conoce. A esto se le denomina evaluación no estricta. Un efecto secundario es el aumento de rendimiento, y otra es que podemos realizar locuras como hacer cálculos con operaciones muy complejas o listas infinitas sin realizar calculos. ¿Cómo es esto posible? Porque se trabaja con expresiones matemáticas, solo se calcula el valor cuando lo necesitas como por ejemplo al realizar un print."
   ],
   "metadata": {}
  },
  {
   "cell_type": "markdown",
   "source": [
    "## Lambda\r\n",
    "\r\n",
    "son pequeñas funciones anonimas, restrictivas y concisas.\r\n",
    "\r\n",
    "__lambda(function, list)__"
   ],
   "metadata": {}
  },
  {
   "cell_type": "code",
   "execution_count": 34,
   "source": [
    "def incrementar(x):\r\n",
    "    return x + 1\r\n",
    "\r\n",
    "incrementar(9)"
   ],
   "outputs": [
    {
     "output_type": "execute_result",
     "data": {
      "text/plain": [
       "10"
      ]
     },
     "metadata": {},
     "execution_count": 34
    }
   ],
   "metadata": {}
  },
  {
   "cell_type": "code",
   "execution_count": 35,
   "source": [
    "(lambda x: x + 1)(9)"
   ],
   "outputs": [
    {
     "output_type": "execute_result",
     "data": {
      "text/plain": [
       "10"
      ]
     },
     "metadata": {},
     "execution_count": 35
    }
   ],
   "metadata": {}
  },
  {
   "cell_type": "code",
   "execution_count": 36,
   "source": [
    "incremento = lambda x: x + 1\r\n",
    "\r\n",
    "incremento(9)"
   ],
   "outputs": [
    {
     "output_type": "execute_result",
     "data": {
      "text/plain": [
       "10"
      ]
     },
     "metadata": {},
     "execution_count": 36
    }
   ],
   "metadata": {}
  },
  {
   "cell_type": "markdown",
   "source": [
    "# Closure\r\n",
    "Funciones dentro de otras funciones."
   ],
   "metadata": {}
  },
  {
   "cell_type": "code",
   "execution_count": 37,
   "source": [
    "# Función que devuelve una función\r\n",
    "def construir_multiplos(factor):\r\n",
    "    def interno(valor):\r\n",
    "        return valor * factor\r\n",
    "    return interno\r\n",
    "\r\n",
    "# Guardamos la expresión\r\n",
    "multiplos_de_2 = construir_multiplos(2)\r\n",
    "multiplos_de_7 = construir_multiplos(7)\r\n",
    "\r\n",
    "# Evaluamos\r\n",
    "\r\n",
    "multiplos_de_2(10)\r\n",
    "\r\n",
    "\r\n",
    "multiplos_de_7(2)\r\n"
   ],
   "outputs": [
    {
     "output_type": "execute_result",
     "data": {
      "text/plain": [
       "14"
      ]
     },
     "metadata": {},
     "execution_count": 37
    }
   ],
   "metadata": {}
  },
  {
   "cell_type": "markdown",
   "source": [
    "## Filter\r\n",
    "Su objetivo es convertir un elemento iterable (como una tupla o lista), en otra pero de igual o inferior tamaño; filtrando por lo que quieras.\r\n",
    "\r\n",
    "__filter(funcion, elemento_iterable)__"
   ],
   "metadata": {}
  },
  {
   "cell_type": "code",
   "execution_count": 38,
   "source": [
    "lista = [1,2,3,4,5,6,7,8,9,10,11,12,13,14,15]\r\n",
    "\r\n",
    "def mayor_que(valor: list):\r\n",
    "    if  valor > 5:\r\n",
    "        return True\r\n",
    "    else:\r\n",
    "        pass\r\n",
    "\r\n",
    "list(filter(mayor_que, lista))\r\n"
   ],
   "outputs": [
    {
     "output_type": "execute_result",
     "data": {
      "text/plain": [
       "[6, 7, 8, 9, 10, 11, 12, 13, 14, 15]"
      ]
     },
     "metadata": {},
     "execution_count": 38
    }
   ],
   "metadata": {}
  },
  {
   "cell_type": "code",
   "execution_count": 39,
   "source": [
    "list(filter(lambda x: x > 5, lista))"
   ],
   "outputs": [
    {
     "output_type": "execute_result",
     "data": {
      "text/plain": [
       "[6, 7, 8, 9, 10, 11, 12, 13, 14, 15]"
      ]
     },
     "metadata": {},
     "execution_count": 39
    }
   ],
   "metadata": {}
  },
  {
   "cell_type": "markdown",
   "source": [
    "## map()\r\n",
    "En este caso se utiliza para modificar el valor de una secuencia siguiendo una regla.\r\n",
    "\r\n",
    "__map(funcion, elemento_iterable)__"
   ],
   "metadata": {}
  },
  {
   "cell_type": "code",
   "execution_count": 40,
   "source": [
    "def doblar(numero):\r\n",
    "    return numero*2\r\n",
    "\r\n",
    "numeros = [2, 5, 10, 23, 50, 33]\r\n",
    "\r\n",
    "list(map(doblar, numeros))\r\n",
    "tuple(map(doblar, numeros))"
   ],
   "outputs": [
    {
     "output_type": "execute_result",
     "data": {
      "text/plain": [
       "(4, 10, 20, 46, 100, 66)"
      ]
     },
     "metadata": {},
     "execution_count": 40
    }
   ],
   "metadata": {}
  },
  {
   "cell_type": "markdown",
   "source": [
    "## reduce()\r\n",
    "Su estructura costa de 3 argumentos: la expresión, el elemento que deseamos recorrer y la variable de inicio. \r\n",
    "\r\n",
    "La podemos encontrar dentro de la librería functools.\r\n",
    "\r\n",
    "__functools.reduce(funcion, elemento_iterable, variable_inicial)__"
   ],
   "metadata": {}
  },
  {
   "cell_type": "code",
   "execution_count": 31,
   "source": [
    "def suma(a, b):\r\n",
    "    result = a + b\r\n",
    "    print(f\"{a} + {b} = {result}\")\r\n",
    "    return result\r\n",
    "numbers = [1, 2, 3, 4]\r\n",
    "reduce(suma, numbers)"
   ],
   "outputs": [
    {
     "output_type": "stream",
     "name": "stdout",
     "text": [
      "1 + 2 = 3\n",
      "3 + 3 = 6\n",
      "6 + 4 = 10\n"
     ]
    },
    {
     "output_type": "execute_result",
     "data": {
      "text/plain": [
       "10"
      ]
     },
     "metadata": {},
     "execution_count": 31
    }
   ],
   "metadata": {}
  },
  {
   "cell_type": "code",
   "execution_count": 32,
   "source": [
    "from functools import reduce\r\n",
    "\r\n",
    "numbers = [1, 2, 3, 4]\r\n",
    "\r\n",
    "reduce(lambda a,b: a*b, numbers)"
   ],
   "outputs": [
    {
     "output_type": "execute_result",
     "data": {
      "text/plain": [
       "24"
      ]
     },
     "metadata": {},
     "execution_count": 32
    }
   ],
   "metadata": {}
  }
 ],
 "metadata": {
  "orig_nbformat": 4,
  "language_info": {
   "name": "python",
   "version": "3.8.8",
   "mimetype": "text/x-python",
   "codemirror_mode": {
    "name": "ipython",
    "version": 3
   },
   "pygments_lexer": "ipython3",
   "nbconvert_exporter": "python",
   "file_extension": ".py"
  },
  "kernelspec": {
   "name": "python3",
   "display_name": "Python 3.8.8 64-bit ('base': conda)"
  },
  "interpreter": {
   "hash": "1e915f0a29dc84041eaeb02b7b1a21c440e37a87b61d44d5e84a515737dc82bc"
  }
 },
 "nbformat": 4,
 "nbformat_minor": 2
}