{
 "cells": [
  {
   "cell_type": "code",
   "execution_count": 1,
   "metadata": {},
   "outputs": [
    {
     "ename": "SyntaxError",
     "evalue": "invalid syntax (Temp/ipykernel_24916/1456205509.py, line 3)",
     "output_type": "error",
     "traceback": [
      "\u001b[1;36m  File \u001b[1;32m\"C:\\Users\\HP\\AppData\\Local\\Temp/ipykernel_24916/1456205509.py\"\u001b[1;36m, line \u001b[1;32m3\u001b[0m\n\u001b[1;33m    ---\u001b[0m\n\u001b[1;37m       ^\u001b[0m\n\u001b[1;31mSyntaxError\u001b[0m\u001b[1;31m:\u001b[0m invalid syntax\n"
     ]
    }
   ],
   "source": [
    "# Landslide\n",
    "\n",
    "---\n",
    "\n",
    "# Overview\n",
    "\n",
    "Generate HTML5 slideshows from markdown, ReST, or textile.\n",
    "\n",
    "![python](http://i.imgur.com/bc2xk.png)\n",
    "\n",
    "Landslide is primarily written in Python, but it's themes use:\n",
    "\n",
    "- HTML5\n",
    "- Javascript\n",
    "- CSS\n",
    "\n",
    "---\n",
    "\n",
    "# Code Sample\n",
    "\n",
    "Landslide supports code snippets\n",
    "\n",
    "    !python\n",
    "    def log(self, message, level='notice'):\n",
    "        if self.logger and not callable(self.logger):\n",
    "            raise ValueError(u\"Invalid logger set, must be a callable\")\n",
    "\n",
    "        if self.verbose and self.logger:\n",
    "            self.logger(message, level)"
   ]
  }
 ],
 "metadata": {
  "interpreter": {
   "hash": "c569cd2e17f62341e0f08a54f9a867c3c0d3a6f67454072d7de41a8b5dff8343"
  },
  "kernelspec": {
   "display_name": "Python 3.9.6 64-bit",
   "language": "python",
   "name": "python3"
  },
  "language_info": {
   "codemirror_mode": {
    "name": "ipython",
    "version": 3
   },
   "file_extension": ".py",
   "mimetype": "text/x-python",
   "name": "python",
   "nbconvert_exporter": "python",
   "pygments_lexer": "ipython3",
   "version": "3.9.6"
  },
  "orig_nbformat": 4
 },
 "nbformat": 4,
 "nbformat_minor": 2
}
