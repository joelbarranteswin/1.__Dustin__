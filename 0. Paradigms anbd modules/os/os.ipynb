{
 "cells": [
  {
   "cell_type": "code",
   "execution_count": 117,
   "metadata": {},
   "outputs": [],
   "source": [
    "path = \"./src/darit/core/modules/report/tests/tests/dataframes_inputs/datframe.xlsx\""
   ]
  },
  {
   "cell_type": "code",
   "execution_count": 118,
   "metadata": {},
   "outputs": [],
   "source": [
    "path_1 = 'C:\\\\Users\\\\HP\\\\Documents\\\\GitHub\\\\1.__Dustin.py\\\\0. Paradigms anbd modules\\\\os'"
   ]
  },
  {
   "cell_type": "code",
   "execution_count": 127,
   "metadata": {},
   "outputs": [
    {
     "ename": "SyntaxError",
     "evalue": "(unicode error) 'unicodeescape' codec can't decode bytes in position 2-3: truncated \\UXXXXXXXX escape (Temp/ipykernel_18652/1606256038.py, line 1)",
     "output_type": "error",
     "traceback": [
      "\u001b[1;36m  File \u001b[1;32m\"C:\\Users\\HP\\AppData\\Local\\Temp/ipykernel_18652/1606256038.py\"\u001b[1;36m, line \u001b[1;32m1\u001b[0m\n\u001b[1;33m    path_2 = \"C:\\Users\\HP\\Documents\\GitHub_with_statemet.ipynb\"\u001b[0m\n\u001b[1;37m                                                               ^\u001b[0m\n\u001b[1;31mSyntaxError\u001b[0m\u001b[1;31m:\u001b[0m (unicode error) 'unicodeescape' codec can't decode bytes in position 2-3: truncated \\UXXXXXXXX escape\n"
     ]
    }
   ],
   "source": [
    "path_2 = r\"C:\\Users\\HP\\Documents\\GitHub\\report_PROYECTO_COYHAIQUE_catv_amplifiers.xlsx\"\n",
    "path_2.replace('\\\\', '/')"
   ]
  },
  {
   "cell_type": "code",
   "execution_count": 1,
   "metadata": {},
   "outputs": [],
   "source": [
    "def _get_archive_name_with_extension(path_in: str) -> str:\n",
    "        path_in_list = path_in.replace('\\\\', '/').split(\"/\")\n",
    "        name_archive_list = path_in_list.pop().split(\".\")\n",
    "        if 'xlsx' in path_in or 'json' in path_in:\n",
    "            name_archive_list.pop()\n",
    "        name_archive = \"\".join(name_archive_list)\n",
    "        name_archive_with_extension = \"/report_\" + name_archive + \".xlsx\"\n",
    "        name_archive_with_extension\n",
    "        return name_archive_with_extension\n",
    "\n",
    "def get_path_out(path_in: str, output_path: str = None) -> str:\n",
    "        archive_name = _get_archive_name_with_extension(\n",
    "            path_in)\n",
    "        path_in_list = path_in.replace('\\\\', '/').split(\"/\")\n",
    "        path_in_list.pop()\n",
    "        path_in_directory = \"/\".join(path_in_list)\n",
    "        if output_path == None:\n",
    "            output_path = path_in_directory +  archive_name\n",
    "        elif '/' not in output_path and '.xlsx' not in output_path:\n",
    "            output_path = path_in_directory + '/' + output_path + archive_name\n",
    "        elif '.xlsx' in output_path:\n",
    "            output_path = path_in_directory + '/' + output_path\n",
    "        elif '/' in output_path and '.xlsx' not in output_path:\n",
    "            output_path = output_path + archive_name\n",
    "        return output_path"
   ]
  },
  {
   "cell_type": "code",
   "execution_count": 2,
   "metadata": {},
   "outputs": [
    {
     "data": {
      "text/plain": [
       "'./src/darit/core/modules/report/tests/dataframes_inputs/report_wired_dataframe_calc_spec.xlsx'"
      ]
     },
     "execution_count": 2,
     "metadata": {},
     "output_type": "execute_result"
    }
   ],
   "source": [
    "get_path_out(path_in='./src/darit/core/modules/report/tests/dataframes_inputs/wired_dataframe_calc_spec.json')"
   ]
  },
  {
   "cell_type": "code",
   "execution_count": 6,
   "metadata": {},
   "outputs": [
    {
     "data": {
      "text/plain": [
       "'./src/darit/core/modules/report/tests/dataframes_inputs/report_wired_dataframe_calc_spec.xlsx'"
      ]
     },
     "execution_count": 6,
     "metadata": {},
     "output_type": "execute_result"
    }
   ],
   "source": [
    "get_path_out(path_in='./src/darit/core/modules/report/tests/dataframes_inputs/wired_dataframe_calc_spec.json')"
   ]
  },
  {
   "cell_type": "code",
   "execution_count": 5,
   "metadata": {},
   "outputs": [
    {
     "data": {
      "text/plain": [
       "'./src/darit/core/modules/report/tests/dataframes_inputs/report_fo_dataframe_calc_spec.xlsx'"
      ]
     },
     "execution_count": 5,
     "metadata": {},
     "output_type": "execute_result"
    }
   ],
   "source": [
    "get_path_out(path_in='./src/darit/core/modules/report/tests/dataframes_inputs/fo_dataframe_calc_spec.xlsx')"
   ]
  },
  {
   "cell_type": "code",
   "execution_count": 116,
   "metadata": {},
   "outputs": [
    {
     "data": {
      "text/plain": [
       "'./src/darit/core/modules/report/tests/tests/dataframes_inputs/ddddddreport_os/report_os.xlsx'"
      ]
     },
     "execution_count": 116,
     "metadata": {},
     "output_type": "execute_result"
    }
   ],
   "source": [
    "get_path_out(path_in='./src/darit/core/modules/report/tests/tests/dataframes_inputs/report_os.json',\n",
    "            output_path='ddddddreport_os')"
   ]
  },
  {
   "cell_type": "code",
   "execution_count": 120,
   "metadata": {},
   "outputs": [
    {
     "data": {
      "text/plain": [
       "'C:/Users/HP/Documents/GitHub/1_with_statemetipynb.xlsx'"
      ]
     },
     "execution_count": 120,
     "metadata": {},
     "output_type": "execute_result"
    }
   ],
   "source": [
    "get_path_out(path_in=path_2)"
   ]
  },
  {
   "cell_type": "code",
   "execution_count": 87,
   "metadata": {},
   "outputs": [],
   "source": []
  },
  {
   "cell_type": "code",
   "execution_count": 89,
   "metadata": {},
   "outputs": [
    {
     "data": {
      "text/plain": [
       "'./src/darit/core/modules/report/tests/tests/dataframes_inputs/repssssssreport_os.xlsx'"
      ]
     },
     "execution_count": 89,
     "metadata": {},
     "output_type": "execute_result"
    }
   ],
   "source": [
    "get_path_out(path_in='./src/darit/core/modules/report/tests/tests/dataframes_inputs/report_os.json',\n",
    "        output_path = 'repssssss')"
   ]
  },
  {
   "cell_type": "code",
   "execution_count": 46,
   "metadata": {},
   "outputs": [],
   "source": [
    "import pandas "
   ]
  },
  {
   "cell_type": "code",
   "execution_count": 62,
   "metadata": {},
   "outputs": [
    {
     "data": {
      "text/html": [
       "<div>\n",
       "<style scoped>\n",
       "    .dataframe tbody tr th:only-of-type {\n",
       "        vertical-align: middle;\n",
       "    }\n",
       "\n",
       "    .dataframe tbody tr th {\n",
       "        vertical-align: top;\n",
       "    }\n",
       "\n",
       "    .dataframe thead th {\n",
       "        text-align: right;\n",
       "    }\n",
       "</style>\n",
       "<table border=\"1\" class=\"dataframe\">\n",
       "  <thead>\n",
       "    <tr style=\"text-align: right;\">\n",
       "      <th></th>\n",
       "      <th>level_id</th>\n",
       "      <th>unit_id</th>\n",
       "      <th>distance_to_soti</th>\n",
       "      <th>distance_to_distribution_board</th>\n",
       "      <th>connector_id</th>\n",
       "      <th>number_of_cables</th>\n",
       "      <th>cables_setup</th>\n",
       "      <th>total_cable_attenuation</th>\n",
       "      <th>total_unit_attenuation</th>\n",
       "    </tr>\n",
       "  </thead>\n",
       "  <tbody>\n",
       "    <tr>\n",
       "      <th>0</th>\n",
       "      <td>1</td>\n",
       "      <td>conserjeria Cowork</td>\n",
       "      <td>40.0</td>\n",
       "      <td>25</td>\n",
       "      <td>1</td>\n",
       "      <td>1</td>\n",
       "      <td>FO24:1</td>\n",
       "      <td>0.02600</td>\n",
       "      <td>0.72600</td>\n",
       "    </tr>\n",
       "    <tr>\n",
       "      <th>1</th>\n",
       "      <td>1</td>\n",
       "      <td>conserjeria Residencial</td>\n",
       "      <td>40.0</td>\n",
       "      <td>30</td>\n",
       "      <td>1</td>\n",
       "      <td>1</td>\n",
       "      <td>FO24:1</td>\n",
       "      <td>0.02800</td>\n",
       "      <td>0.72800</td>\n",
       "    </tr>\n",
       "    <tr>\n",
       "      <th>2</th>\n",
       "      <td>1</td>\n",
       "      <td>Local 1</td>\n",
       "      <td>40.0</td>\n",
       "      <td>25</td>\n",
       "      <td>1</td>\n",
       "      <td>1</td>\n",
       "      <td>FO24:1</td>\n",
       "      <td>0.02600</td>\n",
       "      <td>0.72600</td>\n",
       "    </tr>\n",
       "    <tr>\n",
       "      <th>3</th>\n",
       "      <td>1</td>\n",
       "      <td>Local 2</td>\n",
       "      <td>40.0</td>\n",
       "      <td>25</td>\n",
       "      <td>1</td>\n",
       "      <td>1</td>\n",
       "      <td>FO24:1</td>\n",
       "      <td>0.02600</td>\n",
       "      <td>0.72600</td>\n",
       "    </tr>\n",
       "    <tr>\n",
       "      <th>4</th>\n",
       "      <td>1</td>\n",
       "      <td>Local 3</td>\n",
       "      <td>40.0</td>\n",
       "      <td>25</td>\n",
       "      <td>1</td>\n",
       "      <td>1</td>\n",
       "      <td>FO24:1</td>\n",
       "      <td>0.02600</td>\n",
       "      <td>0.72600</td>\n",
       "    </tr>\n",
       "    <tr>\n",
       "      <th>...</th>\n",
       "      <td>...</td>\n",
       "      <td>...</td>\n",
       "      <td>...</td>\n",
       "      <td>...</td>\n",
       "      <td>...</td>\n",
       "      <td>...</td>\n",
       "      <td>...</td>\n",
       "      <td>...</td>\n",
       "      <td>...</td>\n",
       "    </tr>\n",
       "    <tr>\n",
       "      <th>66</th>\n",
       "      <td>10</td>\n",
       "      <td>1004</td>\n",
       "      <td>61.6</td>\n",
       "      <td>36</td>\n",
       "      <td>1</td>\n",
       "      <td>1</td>\n",
       "      <td>FO24:1</td>\n",
       "      <td>0.03904</td>\n",
       "      <td>0.73904</td>\n",
       "    </tr>\n",
       "    <tr>\n",
       "      <th>67</th>\n",
       "      <td>10</td>\n",
       "      <td>1005</td>\n",
       "      <td>61.6</td>\n",
       "      <td>50</td>\n",
       "      <td>1</td>\n",
       "      <td>1</td>\n",
       "      <td>FO24:1</td>\n",
       "      <td>0.04464</td>\n",
       "      <td>0.74464</td>\n",
       "    </tr>\n",
       "    <tr>\n",
       "      <th>68</th>\n",
       "      <td>10</td>\n",
       "      <td>1006</td>\n",
       "      <td>61.6</td>\n",
       "      <td>22</td>\n",
       "      <td>1</td>\n",
       "      <td>1</td>\n",
       "      <td>FO24:1</td>\n",
       "      <td>0.03344</td>\n",
       "      <td>0.73344</td>\n",
       "    </tr>\n",
       "    <tr>\n",
       "      <th>69</th>\n",
       "      <td>10</td>\n",
       "      <td>1007</td>\n",
       "      <td>61.6</td>\n",
       "      <td>50</td>\n",
       "      <td>1</td>\n",
       "      <td>1</td>\n",
       "      <td>FO24:1</td>\n",
       "      <td>0.04464</td>\n",
       "      <td>0.74464</td>\n",
       "    </tr>\n",
       "    <tr>\n",
       "      <th>70</th>\n",
       "      <td>10</td>\n",
       "      <td>1008</td>\n",
       "      <td>61.6</td>\n",
       "      <td>22</td>\n",
       "      <td>1</td>\n",
       "      <td>1</td>\n",
       "      <td>FO24:1</td>\n",
       "      <td>0.03344</td>\n",
       "      <td>0.73344</td>\n",
       "    </tr>\n",
       "  </tbody>\n",
       "</table>\n",
       "<p>71 rows × 9 columns</p>\n",
       "</div>"
      ],
      "text/plain": [
       "    level_id                  unit_id  distance_to_soti  \\\n",
       "0          1       conserjeria Cowork              40.0   \n",
       "1          1  conserjeria Residencial              40.0   \n",
       "2          1                  Local 1              40.0   \n",
       "3          1                  Local 2              40.0   \n",
       "4          1                  Local 3              40.0   \n",
       "..       ...                      ...               ...   \n",
       "66        10                     1004              61.6   \n",
       "67        10                     1005              61.6   \n",
       "68        10                     1006              61.6   \n",
       "69        10                     1007              61.6   \n",
       "70        10                     1008              61.6   \n",
       "\n",
       "    distance_to_distribution_board  connector_id  number_of_cables  \\\n",
       "0                               25             1                 1   \n",
       "1                               30             1                 1   \n",
       "2                               25             1                 1   \n",
       "3                               25             1                 1   \n",
       "4                               25             1                 1   \n",
       "..                             ...           ...               ...   \n",
       "66                              36             1                 1   \n",
       "67                              50             1                 1   \n",
       "68                              22             1                 1   \n",
       "69                              50             1                 1   \n",
       "70                              22             1                 1   \n",
       "\n",
       "   cables_setup  total_cable_attenuation  total_unit_attenuation  \n",
       "0        FO24:1                  0.02600                 0.72600  \n",
       "1        FO24:1                  0.02800                 0.72800  \n",
       "2        FO24:1                  0.02600                 0.72600  \n",
       "3        FO24:1                  0.02600                 0.72600  \n",
       "4        FO24:1                  0.02600                 0.72600  \n",
       "..          ...                      ...                     ...  \n",
       "66       FO24:1                  0.03904                 0.73904  \n",
       "67       FO24:1                  0.04464                 0.74464  \n",
       "68       FO24:1                  0.03344                 0.73344  \n",
       "69       FO24:1                  0.04464                 0.74464  \n",
       "70       FO24:1                  0.03344                 0.73344  \n",
       "\n",
       "[71 rows x 9 columns]"
      ]
     },
     "execution_count": 62,
     "metadata": {},
     "output_type": "execute_result"
    }
   ],
   "source": [
    "df_1 = pandas.read_excel('./report_PROYECTO_COYHAIQUE_fo.xlsx')\n",
    "df_1"
   ]
  },
  {
   "cell_type": "code",
   "execution_count": 76,
   "metadata": {},
   "outputs": [
    {
     "data": {
      "text/plain": [
       "'op-0'"
      ]
     },
     "execution_count": 76,
     "metadata": {},
     "output_type": "execute_result"
    }
   ],
   "source": [
    "def get_sheetname():\n",
    "    wb = pandas.ExcelFile('./report_PROYECTO_COYHAIQUE_smatv_amplifiers.xlsx')\n",
    "    sheets = wb.sheet_names \n",
    "    if 'resumen' in sheets[0]:\n",
    "        resumen= list(filter(lambda x: 'resumen' in x, sheets))[0]\n",
    "        df=pandas.read_excel(wb, resumen)    \n",
    "        best_index=str(df.sort_values(df.columns[-1]).iloc[0,0])\n",
    "        sheet_name=list(filter(lambda x: \"op-\"+best_index in x, sheets))[0]\n",
    "    elif 'fo-op' in sheets:\n",
    "        sheet_name='fo-op'\n",
    "    return sheet_name\n",
    "\n",
    "get_sheetname()\n"
   ]
  },
  {
   "cell_type": "code",
   "execution_count": 78,
   "metadata": {},
   "outputs": [
    {
     "name": "stdout",
     "output_type": "stream",
     "text": [
      "yes\n",
      "['fo-cubage', 'Sheet']\n"
     ]
    }
   ],
   "source": [
    "import pandas as pd\n",
    "wb = pd.ExcelFile('dataframe_cubage.xlsx')\n",
    "sheets = wb.sheet_names\n",
    "for sheet in sheets:\n",
    "    if 'cubage' in sheet:\n",
    "        print('yes')\n",
    "print(sheets)"
   ]
  },
  {
   "cell_type": "code",
   "execution_count": 72,
   "metadata": {},
   "outputs": [
    {
     "data": {
      "text/plain": [
       "True"
      ]
     },
     "execution_count": 72,
     "metadata": {},
     "output_type": "execute_result"
    }
   ],
   "source": [
    "wb = pandas.ExcelFile('./report_PROYECTO_COYHAIQUE_catv_amplifiers.xlsx')\n",
    "sheets = wb.sheet_names \n",
    "'resumen' in sheets[0]"
   ]
  },
  {
   "cell_type": "code",
   "execution_count": 7,
   "metadata": {},
   "outputs": [
    {
     "name": "stdout",
     "output_type": "stream",
     "text": [
      "c:\\Users\\HP\\Documents\\GitHub\\1.__Dustin.py\\0. Paradigms anbd modules\\os\n"
     ]
    }
   ],
   "source": [
    "from pathlib import Path\n",
    "\n",
    "print(Path.cwd()) "
   ]
  },
  {
   "cell_type": "code",
   "execution_count": 45,
   "metadata": {},
   "outputs": [],
   "source": [
    "a = None\n",
    "if a is not None:\n",
    "    print(\"a is None\")"
   ]
  }
 ],
 "metadata": {
  "interpreter": {
   "hash": "c569cd2e17f62341e0f08a54f9a867c3c0d3a6f67454072d7de41a8b5dff8343"
  },
  "kernelspec": {
   "display_name": "Python 3.9.6 64-bit",
   "language": "python",
   "name": "python3"
  },
  "language_info": {
   "codemirror_mode": {
    "name": "ipython",
    "version": 3
   },
   "file_extension": ".py",
   "mimetype": "text/x-python",
   "name": "python",
   "nbconvert_exporter": "python",
   "pygments_lexer": "ipython3",
   "version": "3.9.6"
  },
  "orig_nbformat": 4
 },
 "nbformat": 4,
 "nbformat_minor": 2
}
