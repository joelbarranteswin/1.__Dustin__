{
 "cells": [
  {
   "cell_type": "code",
   "execution_count": 5,
   "metadata": {},
   "outputs": [
    {
     "name": "stdout",
     "output_type": "stream",
     "text": [
      "10_subprocess.py\n",
      "1_listdir.py\n",
      "1_with_statemet.ipynb\n",
      "2_abc.ipynb\n",
      "2_scandir.py\n",
      "3_os_.ipynb\n",
      "3_pathlib.py\n",
      "4_file_atributes.py\n",
      "5_create_directory.py\n",
      "my_directory\n",
      "my_file.txt\n",
      "my_filee.txt\n",
      "my_fileee.txt\n",
      "new_dir\n",
      "output.txt\n"
     ]
    }
   ],
   "source": [
    "import os\n",
    "entries = os.listdir(r'C:\\Users\\HP\\Documents\\GitHub\\1.__Dustin.py\\0_Advanced_Python')\n",
    "\n",
    "for entry in entries:\n",
    "    print(entry)"
   ]
  },
  {
   "cell_type": "code",
   "execution_count": 6,
   "metadata": {},
   "outputs": [
    {
     "name": "stdout",
     "output_type": "stream",
     "text": [
      "10_subprocess.py\n",
      "1_with_statemet.ipynb\n",
      "2_abc.ipynb\n",
      "2_scandir.py\n",
      "3_os_.ipynb\n",
      "3_pathlib.py\n",
      "4_file_atributes.py\n",
      "5_create_directory.py\n",
      "my_directory\n",
      "my_file.txt\n",
      "my_filee.txt\n",
      "my_fileee.txt\n",
      "new_dir\n",
      "output.txt\n"
     ]
    }
   ],
   "source": [
    "import os\n",
    "\n",
    "with os.scandir(r'C:\\Users\\HP\\Documents\\GitHub\\1.__Dustin.py\\0_Advanced_Python') as entries:\n",
    "    for entry in entries:\n",
    "        print(entry.name)"
   ]
  },
  {
   "cell_type": "code",
   "execution_count": 8,
   "metadata": {},
   "outputs": [
    {
     "name": "stdout",
     "output_type": "stream",
     "text": [
      "10_subprocess.py\n",
      "1_with_statemet.ipynb\n",
      "2_abc.ipynb\n",
      "3_os_.ipynb\n",
      "3_pathlib.py\n",
      "4_file_atributes.py\n",
      "5_create_directory.py\n",
      "my_directory\n",
      "my_file.txt\n",
      "my_filee.txt\n",
      "my_fileee.txt\n",
      "new_dir\n",
      "output.txt\n"
     ]
    }
   ],
   "source": [
    "from pathlib import Path\n",
    "\n",
    "entries = Path(r'C:\\Users\\HP\\Documents\\GitHub\\1.__Dustin.py\\0_Advanced_Python')\n",
    "for entry in entries.iterdir():\n",
    "    print(entry.name)"
   ]
  },
  {
   "cell_type": "code",
   "execution_count": 10,
   "metadata": {},
   "outputs": [
    {
     "name": "stdout",
     "output_type": "stream",
     "text": [
      "10_subprocess.py\t Last Modified: 13 Oct 2021\n",
      "1_with_statemet.ipynb\t Last Modified: 13 Oct 2021\n",
      "2_abc.ipynb\t Last Modified: 13 Oct 2021\n",
      "3_os_.ipynb\t Last Modified: 14 Oct 2021\n",
      "3_pathlib.py\t Last Modified: 13 Oct 2021\n",
      "4_file_atributes.py\t Last Modified: 13 Oct 2021\n",
      "5_create_directory.py\t Last Modified: 13 Oct 2021\n",
      "my_file.txt\t Last Modified: 13 Oct 2021\n",
      "my_filee.txt\t Last Modified: 13 Oct 2021\n",
      "my_fileee.txt\t Last Modified: 13 Oct 2021\n",
      "output.txt\t Last Modified: 13 Oct 2021\n"
     ]
    }
   ],
   "source": [
    "from datetime import datetime\n",
    "from os import scandir\n",
    "\n",
    "def convert_date(timestamp):\n",
    "    d = datetime.utcfromtimestamp(timestamp)\n",
    "    formated_date = d.strftime('%d %b %Y')\n",
    "    return formated_date\n",
    "\n",
    "def get_files():\n",
    "    dir_entries = scandir(r'C:\\Users\\HP\\Documents\\GitHub\\1.__Dustin.py\\0_Advanced_Python')\n",
    "    for entry in dir_entries:\n",
    "        if entry.is_file():\n",
    "            info = entry.stat()\n",
    "            print(f'{entry.name}\\t Last Modified: {convert_date(info.st_mtime)}')\n",
    "\n",
    "if __name__ == '__main__':\n",
    "    get_files()"
   ]
  },
  {
   "cell_type": "code",
   "execution_count": 11,
   "metadata": {},
   "outputs": [
    {
     "name": "stdout",
     "output_type": "stream",
     "text": [
      "returncode: 2\n"
     ]
    }
   ],
   "source": [
    "import os\n",
    "import subprocess\n",
    "import sys\n",
    "\n",
    "#py_filepath = 'C:/Users/benb/Desktop/flaskEconServer/plots.py'\n",
    "py_filepath = 'joel.py'\n",
    "\n",
    "args = '\"%s\" \"%s\" \"%s\"' % (sys.executable,                  # command\n",
    "                           py_filepath,                     # argv[0]\n",
    "                           os.path.basename(py_filepath))   # argv[1]\n",
    "\n",
    "proc = subprocess.run(args)\n",
    "print('returncode:', proc.returncode)"
   ]
  }
 ],
 "metadata": {
  "interpreter": {
   "hash": "b62042eb66374eac56d5220cd8dfeb0adb046394d8bb803929519811233426fb"
  },
  "kernelspec": {
   "display_name": "Python 3.9.6 64-bit ('.venv': venv)",
   "name": "python3"
  },
  "language_info": {
   "codemirror_mode": {
    "name": "ipython",
    "version": 3
   },
   "file_extension": ".py",
   "mimetype": "text/x-python",
   "name": "python",
   "nbconvert_exporter": "python",
   "pygments_lexer": "ipython3",
   "version": "3.9.6"
  },
  "orig_nbformat": 4
 },
 "nbformat": 4,
 "nbformat_minor": 2
}
