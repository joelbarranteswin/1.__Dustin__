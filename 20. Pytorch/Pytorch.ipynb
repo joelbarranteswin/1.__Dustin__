{
 "cells": [
  {
   "cell_type": "code",
   "execution_count": 7,
   "source": [
    "import torch"
   ],
   "outputs": [],
   "metadata": {}
  },
  {
   "cell_type": "code",
   "execution_count": 8,
   "source": [
    "torch.__version__"
   ],
   "outputs": [
    {
     "output_type": "execute_result",
     "data": {
      "text/plain": [
       "'1.8.1'"
      ]
     },
     "metadata": {},
     "execution_count": 8
    }
   ],
   "metadata": {}
  },
  {
   "cell_type": "markdown",
   "source": [
    "## Intro Pytorch"
   ],
   "metadata": {}
  },
  {
   "cell_type": "code",
   "execution_count": 11,
   "source": [
    "tensor_a = torch.ones(2,2)\r\n",
    "tensor_a"
   ],
   "outputs": [
    {
     "output_type": "execute_result",
     "data": {
      "text/plain": [
       "tensor([[1., 1.],\n",
       "        [1., 1.]])"
      ]
     },
     "metadata": {},
     "execution_count": 11
    }
   ],
   "metadata": {}
  },
  {
   "cell_type": "code",
   "execution_count": 37,
   "source": [
    "tensor_b = torch.Tensor(2,2)\r\n",
    "print(tensor_b)"
   ],
   "outputs": [
    {
     "output_type": "stream",
     "name": "stdout",
     "text": [
      "tensor([[9.1477e-41, 2.5312e+00],\n",
      "        [1.4013e-45, 0.0000e+00]])\n"
     ]
    }
   ],
   "metadata": {}
  },
  {
   "cell_type": "code",
   "execution_count": 14,
   "source": [
    "tensor_b.uniform_(0,1)"
   ],
   "outputs": [
    {
     "output_type": "execute_result",
     "data": {
      "text/plain": [
       "tensor([[0.7899, 0.5940],\n",
       "        [0.3620, 0.7808]])"
      ]
     },
     "metadata": {},
     "execution_count": 14
    }
   ],
   "metadata": {}
  },
  {
   "cell_type": "code",
   "execution_count": 18,
   "source": [
    "tensor_c = torch.rand(2,2)\r\n",
    "tensor_c"
   ],
   "outputs": [
    {
     "output_type": "execute_result",
     "data": {
      "text/plain": [
       "tensor([[0.9553, 0.9732],\n",
       "        [0.7891, 0.3955]])"
      ]
     },
     "metadata": {},
     "execution_count": 18
    }
   ],
   "metadata": {}
  },
  {
   "cell_type": "code",
   "execution_count": 20,
   "source": [
    "result = tensor_b + tensor_c\r\n",
    "result"
   ],
   "outputs": [
    {
     "output_type": "execute_result",
     "data": {
      "text/plain": [
       "tensor([[0.9553, 0.9732],\n",
       "        [0.7891, 0.3955]])"
      ]
     },
     "metadata": {},
     "execution_count": 20
    }
   ],
   "metadata": {}
  },
  {
   "cell_type": "code",
   "execution_count": 22,
   "source": [
    "result.shape"
   ],
   "outputs": [
    {
     "output_type": "execute_result",
     "data": {
      "text/plain": [
       "torch.Size([2, 2])"
      ]
     },
     "metadata": {},
     "execution_count": 22
    }
   ],
   "metadata": {}
  },
  {
   "cell_type": "code",
   "execution_count": 25,
   "source": [
    "reshape = result.view(4,1)\r\n",
    "reshape"
   ],
   "outputs": [
    {
     "output_type": "execute_result",
     "data": {
      "text/plain": [
       "tensor([[0.9553],\n",
       "        [0.9732],\n",
       "        [0.7891],\n",
       "        [0.3955]])"
      ]
     },
     "metadata": {},
     "execution_count": 25
    }
   ],
   "metadata": {}
  },
  {
   "cell_type": "code",
   "execution_count": 30,
   "source": [
    "points = torch.Tensor([[1.0, 2.0],[3.0, 4.0]])\r\n",
    "points"
   ],
   "outputs": [
    {
     "output_type": "execute_result",
     "data": {
      "text/plain": [
       "tensor([[1., 2.],\n",
       "        [3., 4.]])"
      ]
     },
     "metadata": {},
     "execution_count": 30
    }
   ],
   "metadata": {}
  },
  {
   "cell_type": "code",
   "execution_count": 33,
   "source": [
    "points[0][1] = 9\r\n",
    "print(points)"
   ],
   "outputs": [
    {
     "output_type": "stream",
     "name": "stdout",
     "text": [
      "tensor([[1., 9.],\n",
      "        [3., 4.]])\n"
     ]
    }
   ],
   "metadata": {}
  },
  {
   "cell_type": "code",
   "execution_count": 38,
   "source": [
    "points.storage()"
   ],
   "outputs": [
    {
     "output_type": "execute_result",
     "data": {
      "text/plain": [
       " 1.0\n",
       " 9.0\n",
       " 3.0\n",
       " 4.0\n",
       "[torch.FloatStorage of size 4]"
      ]
     },
     "metadata": {},
     "execution_count": 38
    }
   ],
   "metadata": {}
  },
  {
   "cell_type": "code",
   "execution_count": 40,
   "source": [
    "points, points.stride()\r\n"
   ],
   "outputs": [
    {
     "output_type": "execute_result",
     "data": {
      "text/plain": [
       "(tensor([[1., 9.],\n",
       "         [3., 4.]]),\n",
       " (2, 1))"
      ]
     },
     "metadata": {},
     "execution_count": 40
    }
   ],
   "metadata": {}
  },
  {
   "cell_type": "code",
   "execution_count": 43,
   "source": [
    "p_t = points.t();\r\n",
    "p_t, p_t.stride()"
   ],
   "outputs": [
    {
     "output_type": "execute_result",
     "data": {
      "text/plain": [
       "(tensor([[1., 3.],\n",
       "         [9., 4.]]),\n",
       " (1, 2))"
      ]
     },
     "metadata": {},
     "execution_count": 43
    }
   ],
   "metadata": {}
  },
  {
   "cell_type": "code",
   "execution_count": 49,
   "source": [
    "tensor_x = torch.Tensor([1,2,3,4])\r\n",
    "tensor_x, torch.unsqueeze(tensor_x, 0) #aumentar una dimension"
   ],
   "outputs": [
    {
     "output_type": "execute_result",
     "data": {
      "text/plain": [
       "(tensor([1., 2., 3., 4.]), tensor([[1., 2., 3., 4.]]))"
      ]
     },
     "metadata": {},
     "execution_count": 49
    }
   ],
   "metadata": {}
  },
  {
   "cell_type": "code",
   "execution_count": 51,
   "source": [
    "torch.unsqueeze(tensor_x, 1)"
   ],
   "outputs": [
    {
     "output_type": "execute_result",
     "data": {
      "text/plain": [
       "tensor([[1.],\n",
       "        [2.],\n",
       "        [3.],\n",
       "        [4.]])"
      ]
     },
     "metadata": {},
     "execution_count": 51
    }
   ],
   "metadata": {}
  },
  {
   "cell_type": "code",
   "execution_count": 57,
   "source": [
    "import numpy as np\r\n",
    "numpyArray = np.random.randn(2,2)\r\n",
    "torch.from_numpy(numpyArray)"
   ],
   "outputs": [
    {
     "output_type": "execute_result",
     "data": {
      "text/plain": [
       "tensor([[-0.7327,  0.0661],\n",
       "        [-2.2196, -0.6856]], dtype=torch.float64)"
      ]
     },
     "metadata": {},
     "execution_count": 57
    }
   ],
   "metadata": {}
  },
  {
   "cell_type": "markdown",
   "source": [
    "## Representacion de datos con tensores"
   ],
   "metadata": {}
  },
  {
   "cell_type": "code",
   "execution_count": 59,
   "source": [
    "from_numpy = torch.from_numpy(numpyArray)"
   ],
   "outputs": [
    {
     "output_type": "execute_result",
     "data": {
      "text/plain": [
       "tensor([[-0.7327,  0.0661],\n",
       "        [-2.2196, -0.6856]], dtype=torch.float64)"
      ]
     },
     "metadata": {},
     "execution_count": 59
    }
   ],
   "metadata": {}
  },
  {
   "cell_type": "code",
   "execution_count": 60,
   "source": [
    "torch.mean(from_numpy)"
   ],
   "outputs": [
    {
     "output_type": "execute_result",
     "data": {
      "text/plain": [
       "tensor(-0.8929, dtype=torch.float64)"
      ]
     },
     "metadata": {},
     "execution_count": 60
    }
   ],
   "metadata": {}
  },
  {
   "cell_type": "code",
   "execution_count": 61,
   "source": [
    "torch.mean(from_numpy, dim = 0)"
   ],
   "outputs": [
    {
     "output_type": "execute_result",
     "data": {
      "text/plain": [
       "tensor([-1.4761, -0.3097], dtype=torch.float64)"
      ]
     },
     "metadata": {},
     "execution_count": 61
    }
   ],
   "metadata": {}
  },
  {
   "cell_type": "code",
   "execution_count": 62,
   "source": [
    "torch.mean(from_numpy, dim = 1)"
   ],
   "outputs": [
    {
     "output_type": "execute_result",
     "data": {
      "text/plain": [
       "tensor([-0.3333, -1.4526], dtype=torch.float64)"
      ]
     },
     "metadata": {},
     "execution_count": 62
    }
   ],
   "metadata": {}
  },
  {
   "cell_type": "code",
   "execution_count": 63,
   "source": [
    "torch.std(from_numpy)"
   ],
   "outputs": [
    {
     "output_type": "execute_result",
     "data": {
      "text/plain": [
       "tensor(0.9572, dtype=torch.float64)"
      ]
     },
     "metadata": {},
     "execution_count": 63
    }
   ],
   "metadata": {}
  },
  {
   "cell_type": "code",
   "execution_count": 64,
   "source": [
    "torch.save(from_numpy, \"tensor.t\")"
   ],
   "outputs": [],
   "metadata": {}
  },
  {
   "cell_type": "code",
   "execution_count": 66,
   "source": [
    "load = torch.load(\"tensor.t\")\r\n",
    "load"
   ],
   "outputs": [
    {
     "output_type": "execute_result",
     "data": {
      "text/plain": [
       "tensor([[-0.7327,  0.0661],\n",
       "        [-2.2196, -0.6856]], dtype=torch.float64)"
      ]
     },
     "metadata": {},
     "execution_count": 66
    }
   ],
   "metadata": {}
  },
  {
   "cell_type": "code",
   "execution_count": 78,
   "source": [
    "import pandas as pd\r\n",
    "df = pd.read_csv(\"Salary_Data.csv\")\r\n",
    "df.head()"
   ],
   "outputs": [
    {
     "output_type": "execute_result",
     "data": {
      "text/plain": [
       "   YearsExperience   Salary\n",
       "0              1.1  39343.0\n",
       "1              1.3  46205.0\n",
       "2              1.5  37731.0\n",
       "3              2.0  43525.0\n",
       "4              2.2  39891.0"
      ],
      "text/html": [
       "<div>\n",
       "<style scoped>\n",
       "    .dataframe tbody tr th:only-of-type {\n",
       "        vertical-align: middle;\n",
       "    }\n",
       "\n",
       "    .dataframe tbody tr th {\n",
       "        vertical-align: top;\n",
       "    }\n",
       "\n",
       "    .dataframe thead th {\n",
       "        text-align: right;\n",
       "    }\n",
       "</style>\n",
       "<table border=\"1\" class=\"dataframe\">\n",
       "  <thead>\n",
       "    <tr style=\"text-align: right;\">\n",
       "      <th></th>\n",
       "      <th>YearsExperience</th>\n",
       "      <th>Salary</th>\n",
       "    </tr>\n",
       "  </thead>\n",
       "  <tbody>\n",
       "    <tr>\n",
       "      <th>0</th>\n",
       "      <td>1.1</td>\n",
       "      <td>39343.0</td>\n",
       "    </tr>\n",
       "    <tr>\n",
       "      <th>1</th>\n",
       "      <td>1.3</td>\n",
       "      <td>46205.0</td>\n",
       "    </tr>\n",
       "    <tr>\n",
       "      <th>2</th>\n",
       "      <td>1.5</td>\n",
       "      <td>37731.0</td>\n",
       "    </tr>\n",
       "    <tr>\n",
       "      <th>3</th>\n",
       "      <td>2.0</td>\n",
       "      <td>43525.0</td>\n",
       "    </tr>\n",
       "    <tr>\n",
       "      <th>4</th>\n",
       "      <td>2.2</td>\n",
       "      <td>39891.0</td>\n",
       "    </tr>\n",
       "  </tbody>\n",
       "</table>\n",
       "</div>"
      ]
     },
     "metadata": {},
     "execution_count": 78
    }
   ],
   "metadata": {}
  },
  {
   "cell_type": "code",
   "execution_count": 79,
   "source": [
    "df.columns"
   ],
   "outputs": [
    {
     "output_type": "execute_result",
     "data": {
      "text/plain": [
       "Index(['YearsExperience', 'Salary'], dtype='object')"
      ]
     },
     "metadata": {},
     "execution_count": 79
    }
   ],
   "metadata": {}
  },
  {
   "cell_type": "code",
   "execution_count": 90,
   "source": [
    "subset = df[['YearsExperience','Salary']]\r\n",
    "\r\n",
    "tensores = torch.tensor(subset.values).float()\r\n",
    "tensores.shape, tensores.type()"
   ],
   "outputs": [
    {
     "output_type": "execute_result",
     "data": {
      "text/plain": [
       "(torch.Size([30, 2]), 'torch.FloatTensor')"
      ]
     },
     "metadata": {},
     "execution_count": 90
    }
   ],
   "metadata": {}
  },
  {
   "cell_type": "code",
   "execution_count": 92,
   "source": [
    "data = tensores[:, 1:]\r\n",
    "data, data.shape"
   ],
   "outputs": [
    {
     "output_type": "execute_result",
     "data": {
      "text/plain": [
       "(tensor([[ 39343.],\n",
       "         [ 46205.],\n",
       "         [ 37731.],\n",
       "         [ 43525.],\n",
       "         [ 39891.],\n",
       "         [ 56642.],\n",
       "         [ 60150.],\n",
       "         [ 54445.],\n",
       "         [ 64445.],\n",
       "         [ 57189.],\n",
       "         [ 63218.],\n",
       "         [ 55794.],\n",
       "         [ 56957.],\n",
       "         [ 57081.],\n",
       "         [ 61111.],\n",
       "         [ 67938.],\n",
       "         [ 66029.],\n",
       "         [ 83088.],\n",
       "         [ 81363.],\n",
       "         [ 93940.],\n",
       "         [ 91738.],\n",
       "         [ 98273.],\n",
       "         [101302.],\n",
       "         [113812.],\n",
       "         [109431.],\n",
       "         [105582.],\n",
       "         [116969.],\n",
       "         [112635.],\n",
       "         [122391.],\n",
       "         [121872.]]),\n",
       " torch.Size([30, 1]))"
      ]
     },
     "metadata": {},
     "execution_count": 92
    }
   ],
   "metadata": {}
  },
  {
   "cell_type": "code",
   "execution_count": 94,
   "source": [
    "data = tensores[:,0]\r\n",
    "data , data.shape"
   ],
   "outputs": [
    {
     "output_type": "execute_result",
     "data": {
      "text/plain": [
       "(tensor([ 1.1000,  1.3000,  1.5000,  2.0000,  2.2000,  2.9000,  3.0000,  3.2000,\n",
       "          3.2000,  3.7000,  3.9000,  4.0000,  4.0000,  4.1000,  4.5000,  4.9000,\n",
       "          5.1000,  5.3000,  5.9000,  6.0000,  6.8000,  7.1000,  7.9000,  8.2000,\n",
       "          8.7000,  9.0000,  9.5000,  9.6000, 10.3000, 10.5000]),\n",
       " torch.Size([30]))"
      ]
     },
     "metadata": {},
     "execution_count": 94
    }
   ],
   "metadata": {}
  },
  {
   "cell_type": "code",
   "execution_count": 95,
   "source": [
    "torch.mean(data, axis = 0)"
   ],
   "outputs": [
    {
     "output_type": "execute_result",
     "data": {
      "text/plain": [
       "tensor(5.3133)"
      ]
     },
     "metadata": {},
     "execution_count": 95
    }
   ],
   "metadata": {}
  },
  {
   "cell_type": "code",
   "execution_count": 97,
   "source": [
    "data[torch.ge(Salary, 85)]"
   ],
   "outputs": [
    {
     "output_type": "error",
     "ename": "NameError",
     "evalue": "name 'Salary' is not defined",
     "traceback": [
      "\u001b[1;31m---------------------------------------------------------------------------\u001b[0m",
      "\u001b[1;31mNameError\u001b[0m                                 Traceback (most recent call last)",
      "\u001b[1;32m<ipython-input-97-e89134463780>\u001b[0m in \u001b[0;36m<module>\u001b[1;34m\u001b[0m\n\u001b[1;32m----> 1\u001b[1;33m \u001b[0mdata\u001b[0m\u001b[1;33m[\u001b[0m\u001b[0mtorch\u001b[0m\u001b[1;33m.\u001b[0m\u001b[0mge\u001b[0m\u001b[1;33m(\u001b[0m\u001b[0mSalary\u001b[0m\u001b[1;33m,\u001b[0m \u001b[1;36m85\u001b[0m\u001b[1;33m)\u001b[0m\u001b[1;33m]\u001b[0m\u001b[1;33m\u001b[0m\u001b[1;33m\u001b[0m\u001b[0m\n\u001b[0m",
      "\u001b[1;31mNameError\u001b[0m: name 'Salary' is not defined"
     ]
    }
   ],
   "metadata": {}
  },
  {
   "cell_type": "code",
   "execution_count": 98,
   "source": [
    "data[torch.gt(target, 85)"
   ],
   "outputs": [
    {
     "output_type": "error",
     "ename": "SyntaxError",
     "evalue": "unexpected EOF while parsing (<ipython-input-98-6e4d5524675a>, line 1)",
     "traceback": [
      "\u001b[1;36m  File \u001b[1;32m\"<ipython-input-98-6e4d5524675a>\"\u001b[1;36m, line \u001b[1;32m1\u001b[0m\n\u001b[1;33m    data[torch.gt(target, 85)\u001b[0m\n\u001b[1;37m                             ^\u001b[0m\n\u001b[1;31mSyntaxError\u001b[0m\u001b[1;31m:\u001b[0m unexpected EOF while parsing\n"
     ]
    }
   ],
   "metadata": {}
  },
  {
   "cell_type": "markdown",
   "source": [
    "## Regresion lineal"
   ],
   "metadata": {}
  },
  {
   "cell_type": "code",
   "execution_count": 4,
   "source": [
    "import torch\r\n",
    "import numpy as np\r\n",
    "import torch.nn as nn\r\n",
    "import torch.optim as optim\r\n",
    "import matplotlib.pyplot as plt"
   ],
   "outputs": [],
   "metadata": {}
  },
  {
   "cell_type": "code",
   "execution_count": 6,
   "source": [
    "car_prices = [5,6,7,8,9,10]\r\n",
    "units_sold = [8.5, 8, 7.5, 7.0, 6.5, 6.0]"
   ],
   "outputs": [],
   "metadata": {}
  },
  {
   "cell_type": "code",
   "execution_count": 10,
   "source": [
    "plt.scatter(car_prices, units_sold)"
   ],
   "outputs": [
    {
     "output_type": "execute_result",
     "data": {
      "text/plain": [
       "<matplotlib.collections.PathCollection at 0x19a7931b6d0>"
      ]
     },
     "metadata": {},
     "execution_count": 10
    },
    {
     "output_type": "display_data",
     "data": {
      "text/plain": [
       "<Figure size 432x288 with 1 Axes>"
      ],
      "image/png": "[encoded data removed]"
     },
     "metadata": {
      "needs_background": "light"
     }
    }
   ],
   "metadata": {}
  },
  {
   "cell_type": "code",
   "execution_count": 14,
   "source": [
    "prices_array = np.array(car_prices).reshape(-1,1)\r\n",
    "units_array = np.array(units_sold).reshape(-1,1)\r\n",
    "\r\n",
    "prices_array.ndim"
   ],
   "outputs": [
    {
     "output_type": "execute_result",
     "data": {
      "text/plain": [
       "2"
      ]
     },
     "metadata": {},
     "execution_count": 14
    }
   ],
   "metadata": {}
  },
  {
   "cell_type": "code",
   "execution_count": 19,
   "source": [
    "prices = torch.from_numpy(prices_array).float().requires_grad_(True)\r\n",
    "units = torch.from_numpy(units_array).float()\r\n",
    "\r\n",
    "prices, units.shape"
   ],
   "outputs": [
    {
     "output_type": "execute_result",
     "data": {
      "text/plain": [
       "(tensor([[ 5.],\n",
       "         [ 6.],\n",
       "         [ 7.],\n",
       "         [ 8.],\n",
       "         [ 9.],\n",
       "         [10.]], requires_grad=True),\n",
       " torch.Size([6, 1]))"
      ]
     },
     "metadata": {},
     "execution_count": 19
    }
   ],
   "metadata": {}
  },
  {
   "cell_type": "code",
   "execution_count": 28,
   "source": [
    "model = nn.Linear(1,1)\r\n",
    "\r\n",
    "loss_function = nn.MSELoss()\r\n",
    "\r\n",
    "optimizer = optim.SGD(model.parameters(),lr = 0.0015)  #stocastic gradien decend\r\n",
    "\r\n",
    "losses = []\r\n",
    "iterations = 200000\r\n",
    "\r\n",
    "for i in range(iterations):\r\n",
    "    pred = model(prices)\r\n",
    "    loss = loss_function(pred, units)\r\n",
    "    losses.append(loss.data)\r\n",
    "\r\n",
    "    optimizer.zero_grad()\r\n",
    "    loss.backward()\r\n",
    "    optimizer.step()\r\n",
    "\r\n",
    "print(float(loss))\r\n",
    "plt.plot(range(iterations), losses)"
   ],
   "outputs": [
    {
     "output_type": "stream",
     "name": "stdout",
     "text": [
      "5.158843805475044e-07\n"
     ]
    },
    {
     "output_type": "execute_result",
     "data": {
      "text/plain": [
       "[<matplotlib.lines.Line2D at 0x19a79cb8cd0>]"
      ]
     },
     "metadata": {},
     "execution_count": 28
    },
    {
     "output_type": "display_data",
     "data": {
      "text/plain": [
       "<Figure size 432x288 with 1 Axes>"
      ],
      "image/png": "[encoded data removed]"
     },
     "metadata": {
      "needs_background": "light"
     }
    }
   ],
   "metadata": {}
  },
  {
   "cell_type": "code",
   "execution_count": 33,
   "source": [
    "x = torch.Tensor([[7.0]])\r\n",
    "p = model(x)\r\n",
    "print(p)"
   ],
   "outputs": [
    {
     "output_type": "stream",
     "name": "stdout",
     "text": [
      "tensor([[7.4996]], grad_fn=<AddmmBackward>)\n"
     ]
    }
   ],
   "metadata": {}
  },
  {
   "cell_type": "markdown",
   "source": [
    "## Regresion logistica"
   ],
   "metadata": {}
  },
  {
   "cell_type": "code",
   "execution_count": 35,
   "source": [
    "n = 100\r\n",
    "h = n//2\r\n",
    "dimen = 2\r\n",
    "\r\n",
    "data = np.random.randn(n, dimen)* 3\r\n",
    "data"
   ],
   "outputs": [
    {
     "output_type": "execute_result",
     "data": {
      "text/plain": [
       "array([[ 3.36673350e-01, -1.43220457e+00],\n",
       "       [ 1.31350760e+00,  3.57732929e-01],\n",
       "       [-6.72118978e-01,  3.76121285e-01],\n",
       "       [ 3.85660452e-01,  4.84252156e+00],\n",
       "       [ 3.75572795e-01,  4.66021158e+00],\n",
       "       [-2.78609144e+00, -3.77857000e-02],\n",
       "       [-3.23528031e+00,  4.84161877e+00],\n",
       "       [-2.50757572e+00,  8.29687735e-01],\n",
       "       [-5.82775934e+00, -8.01981565e-01],\n",
       "       [ 6.96525020e-01, -2.42260707e+00],\n",
       "       [-9.68082171e-01, -5.58100964e+00],\n",
       "       [-1.96139933e+00, -8.88404862e+00],\n",
       "       [ 9.16764516e-01, -4.23066394e+00],\n",
       "       [-3.58689605e+00, -3.50373868e+00],\n",
       "       [-5.59096293e+00, -5.49032337e-01],\n",
       "       [-2.21937972e+00, -2.47510660e-01],\n",
       "       [-5.22208483e-01,  3.74051332e+00],\n",
       "       [ 1.23845698e+00,  4.34368587e+00],\n",
       "       [-1.30168547e+00, -1.66622676e+00],\n",
       "       [ 1.47954500e+00, -8.66215059e-01],\n",
       "       [ 2.13604437e+00, -5.35134570e-01],\n",
       "       [ 5.68687705e+00,  3.74491385e+00],\n",
       "       [-1.69015421e+00, -4.42720562e+00],\n",
       "       [ 2.25810555e+00, -1.27063436e+00],\n",
       "       [-2.54680059e+00,  4.98877998e+00],\n",
       "       [-5.15035931e+00, -2.84311415e+00],\n",
       "       [-3.30255600e+00,  3.32232032e-01],\n",
       "       [ 1.62757563e+00,  2.45071651e+00],\n",
       "       [ 1.74038140e-02,  1.88272711e+00],\n",
       "       [-1.26630082e+00, -8.35809609e-01],\n",
       "       [ 4.74442176e-01, -5.48902728e+00],\n",
       "       [-1.22687950e+00, -1.77132136e-01],\n",
       "       [ 2.45929488e+00, -7.53789917e-01],\n",
       "       [ 5.14435122e-01, -7.85805942e-02],\n",
       "       [-3.31631808e+00,  1.51809992e-01],\n",
       "       [ 1.84119553e+00, -2.44632976e+00],\n",
       "       [-3.06289975e-01,  1.34603344e+00],\n",
       "       [ 2.00944255e+00, -6.38439743e+00],\n",
       "       [-6.72166607e+00, -7.11319053e-01],\n",
       "       [-8.95909306e-01,  1.52446010e+00],\n",
       "       [ 1.13245829e-01,  9.22295126e-01],\n",
       "       [-3.03056362e+00,  2.79887159e+00],\n",
       "       [-5.36430324e-01,  6.79854490e+00],\n",
       "       [-2.30745819e+00,  3.82021581e+00],\n",
       "       [-5.62219114e-02,  8.49844908e-01],\n",
       "       [-3.98690501e+00,  1.53731509e+00],\n",
       "       [-6.42498237e+00, -1.78177499e+00],\n",
       "       [-2.30397132e+00, -3.60837640e+00],\n",
       "       [ 5.13610959e-01, -1.07018343e+00],\n",
       "       [ 3.35273960e+00,  5.01360615e-01],\n",
       "       [-1.88234073e-01, -2.19014949e-01],\n",
       "       [ 1.59314110e+00,  3.22432677e+00],\n",
       "       [ 1.43941545e+00, -5.08762399e+00],\n",
       "       [-3.19210640e+00,  3.61835652e+00],\n",
       "       [-4.14015518e-01,  1.11089039e-01],\n",
       "       [ 6.12287247e+00,  6.09376951e-01],\n",
       "       [ 1.18595494e+00,  4.37136969e+00],\n",
       "       [-3.46120940e+00, -2.59361893e+00],\n",
       "       [ 3.04281115e+00,  1.85648654e+00],\n",
       "       [ 1.76848703e+00, -2.12153979e+00],\n",
       "       [-4.30248921e+00,  1.18062647e+00],\n",
       "       [-4.89261766e+00, -6.30592032e-01],\n",
       "       [-2.00287538e+00,  4.59934282e+00],\n",
       "       [-2.14052925e+00,  6.81613682e-01],\n",
       "       [-3.85714779e+00,  1.14219066e+00],\n",
       "       [ 3.14087935e+00,  2.39360891e-01],\n",
       "       [-1.71552452e+00,  7.40668759e-01],\n",
       "       [ 7.62177437e+00, -4.13248141e-01],\n",
       "       [-5.33475193e-01,  1.91313416e+00],\n",
       "       [ 1.04300535e+01, -1.38263703e+00],\n",
       "       [-4.37213761e-03,  1.68916865e+00],\n",
       "       [ 6.08478614e-01, -4.41878976e+00],\n",
       "       [ 4.94572625e-01, -7.24328669e-01],\n",
       "       [ 5.96610510e+00,  4.22245064e-01],\n",
       "       [-9.01507255e+00, -3.98055324e-01],\n",
       "       [-2.28066021e+00, -1.77329311e-01],\n",
       "       [-1.06998054e+00, -6.56870934e+00],\n",
       "       [-1.58163893e+00,  2.29704321e+00],\n",
       "       [ 3.62241928e-01,  1.33114510e+00],\n",
       "       [-2.18344878e-01, -1.61680606e+00],\n",
       "       [-3.49875211e+00,  4.44353955e+00],\n",
       "       [-1.47215418e-01, -1.37860397e+00],\n",
       "       [ 1.23169948e+00, -1.39454395e+00],\n",
       "       [-1.86085517e+00, -2.10057459e-01],\n",
       "       [-1.96789164e+00, -4.83371638e-02],\n",
       "       [-2.16396083e+00, -4.14178871e+00],\n",
       "       [ 6.29354703e+00,  2.82785167e-01],\n",
       "       [ 1.86931742e+00,  3.17334334e+00],\n",
       "       [ 1.19093961e+00, -2.07572375e+00],\n",
       "       [ 7.85011477e-01,  5.69971375e+00],\n",
       "       [ 8.25734877e-01,  6.33990579e-01],\n",
       "       [ 4.19942331e+00,  1.03420420e+00],\n",
       "       [ 2.15193249e+00,  2.24786385e+00],\n",
       "       [-1.96527613e+00, -1.07955601e-01],\n",
       "       [-3.67746116e+00,  2.28654565e+00],\n",
       "       [-5.64136621e-01,  2.29221672e+00],\n",
       "       [-2.73403487e+00, -5.86187985e-01],\n",
       "       [ 1.45268590e+00,  9.58672367e-01],\n",
       "       [ 1.70873716e+00, -2.77398607e+00],\n",
       "       [-9.36224288e-01,  1.24378788e+00]])"
      ]
     },
     "metadata": {},
     "execution_count": 35
    }
   ],
   "metadata": {}
  },
  {
   "cell_type": "code",
   "execution_count": 37,
   "source": [
    "plt.scatter(data[:,0],data[:,1])"
   ],
   "outputs": [
    {
     "output_type": "execute_result",
     "data": {
      "text/plain": [
       "<matplotlib.collections.PathCollection at 0x19a7945a580>"
      ]
     },
     "metadata": {},
     "execution_count": 37
    },
    {
     "output_type": "display_data",
     "data": {
      "text/plain": [
       "<Figure size 432x288 with 1 Axes>"
      ],
      "image/png": "[encoded data removed]"
     },
     "metadata": {
      "needs_background": "light"
     }
    }
   ],
   "metadata": {}
  },
  {
   "cell_type": "code",
   "execution_count": 39,
   "source": [
    "data[:h,:] = data[:h,:] - 3*np.ones((h, dimen))"
   ],
   "outputs": [],
   "metadata": {}
  },
  {
   "cell_type": "code",
   "execution_count": 41,
   "source": [
    "data[h:,:] = data[h:,:] + 3*np.ones((h, dimen))"
   ],
   "outputs": [],
   "metadata": {}
  },
  {
   "cell_type": "code",
   "execution_count": 63,
   "source": [
    "colors = [\"green\",\"yellow\",]\r\n",
    "color = np.array([colors[0]]*h + [colors[1]]*h).reshape(n)\r\n",
    "plt.scatter(data[:,0],data[:,1], c = color, s=30*15, alpha = 0.6)"
   ],
   "outputs": [
    {
     "output_type": "execute_result",
     "data": {
      "text/plain": [
       "<matplotlib.collections.PathCollection at 0x19a02498f70>"
      ]
     },
     "metadata": {},
     "execution_count": 63
    },
    {
     "output_type": "display_data",
     "data": {
      "text/plain": [
       "<Figure size 432x288 with 1 Axes>"
      ],
      "image/png": "[encoded data removed]"
     },
     "metadata": {
      "needs_background": "light"
     }
    }
   ],
   "metadata": {}
  },
  {
   "cell_type": "code",
   "execution_count": 53,
   "source": [
    "target = np.array([0]*h + [1]*h).reshape(n,1)\r\n",
    "\r\n",
    "x = torch.from_numpy(data).float().requires_grad_(True)\r\n",
    "\r\n",
    "y = torch.from_numpy(target).float()\r\n",
    "\r\n",
    "x.shape, y.shape"
   ],
   "outputs": [
    {
     "output_type": "execute_result",
     "data": {
      "text/plain": [
       "(torch.Size([100, 2]), torch.Size([100, 1]))"
      ]
     },
     "metadata": {},
     "execution_count": 53
    }
   ],
   "metadata": {}
  },
  {
   "cell_type": "code",
   "execution_count": 64,
   "source": [
    "model = nn.Sequential(\r\n",
    "        nn.Linear(2,1),\r\n",
    "        nn.Sigmoid())\r\n",
    "loss_function = nn.BCELoss()\r\n",
    "\r\n",
    "optimizer = optim.SGD(model.parameters(), lr = 0.015)\r\n",
    "\r\n",
    "losses = []\r\n",
    "\r\n",
    "iterations = 2000\r\n",
    "\r\n",
    "for i in range(iterations):\r\n",
    "    result = model(x)\r\n",
    "\r\n",
    "    loss = loss_function(result, y)\r\n",
    "    losses.append(loss.data)\r\n",
    "    optimizer.zero_grad()\r\n",
    "    loss.backward()\r\n",
    "\r\n",
    "    optimizer.step();\r\n",
    "\r\n",
    "plt.plot(range(iterations), losses)"
   ],
   "outputs": [
    {
     "output_type": "execute_result",
     "data": {
      "text/plain": [
       "[<matplotlib.lines.Line2D at 0x19a04c62eb0>]"
      ]
     },
     "metadata": {},
     "execution_count": 64
    },
    {
     "output_type": "display_data",
     "data": {
      "text/plain": [
       "<Figure size 432x288 with 1 Axes>"
      ],
      "image/png": "[encoded data removed]"
     },
     "metadata": {
      "needs_background": "light"
     }
    }
   ],
   "metadata": {}
  },
  {
   "cell_type": "code",
   "execution_count": 67,
   "source": [
    "amarrillo = torch.Tensor([[5, 7.5]])\r\n",
    "prediction = model(amarrillo).data[0][0] > 0.5\r\n",
    "print(colors[prediction])"
   ],
   "outputs": [
    {
     "output_type": "stream",
     "name": "stdout",
     "text": [
      "yellow\n"
     ]
    }
   ],
   "metadata": {}
  },
  {
   "cell_type": "code",
   "execution_count": 80,
   "source": [
    "W = list(model.parameters())\r\n",
    "W0 = w[0].data.numpy()\r\n",
    "W1 = w[1].data.numpy()\r\n",
    "\r\n",
    "plt.scatter(data[:,0],data[:,1], c = color, s=30*15, alpha = 0.6)\r\n",
    "x_axis = np.linspace(-10,10,n)\r\n",
    "y_axis = -(W1[0] + x_axis*W0[0][0]) / W0[0][1]\r\n",
    "plt.plot(x_axis, y_axis, 'g--')"
   ],
   "outputs": [
    {
     "output_type": "execute_result",
     "data": {
      "text/plain": [
       "[<matplotlib.lines.Line2D at 0x19a05828580>]"
      ]
     },
     "metadata": {},
     "execution_count": 80
    },
    {
     "output_type": "display_data",
     "data": {
      "text/plain": [
       "<Figure size 432x288 with 1 Axes>"
      ],
      "image/png": "[encoded data removed]"
     },
     "metadata": {
      "needs_background": "light"
     }
    }
   ],
   "metadata": {}
  },
  {
   "cell_type": "code",
   "execution_count": 72,
   "source": [
    "w = list(model.parameters())\r\n",
    "w0 = w[0].data.numpy()\r\n",
    "w1 = w[1].data.numpy()\r\n",
    "\r\n",
    "plt.scatter(data[:,0],data[:,1], c = color, s=30*15, alpha = 0.6)\r\n",
    "\r\n",
    "x_axis = np.linspace(-10,10,n)\r\n",
    "y_axis = -(w1[0] + x_axis*w0[0][0]) / W0[0][1]\r\n",
    "plt.plot(x_axis, y_axis, 'g--')"
   ],
   "outputs": [
    {
     "output_type": "error",
     "ename": "NameError",
     "evalue": "name 'W0' is not defined",
     "traceback": [
      "\u001b[1;31m---------------------------------------------------------------------------\u001b[0m",
      "\u001b[1;31mNameError\u001b[0m                                 Traceback (most recent call last)",
      "\u001b[1;32m<ipython-input-72-cacbcdf32239>\u001b[0m in \u001b[0;36m<module>\u001b[1;34m\u001b[0m\n\u001b[0;32m      6\u001b[0m \u001b[1;33m\u001b[0m\u001b[0m\n\u001b[0;32m      7\u001b[0m \u001b[0mx_axis\u001b[0m \u001b[1;33m=\u001b[0m \u001b[0mnp\u001b[0m\u001b[1;33m.\u001b[0m\u001b[0mlinspace\u001b[0m\u001b[1;33m(\u001b[0m\u001b[1;33m-\u001b[0m\u001b[1;36m10\u001b[0m\u001b[1;33m,\u001b[0m\u001b[1;36m10\u001b[0m\u001b[1;33m,\u001b[0m\u001b[0mn\u001b[0m\u001b[1;33m)\u001b[0m\u001b[1;33m\u001b[0m\u001b[1;33m\u001b[0m\u001b[0m\n\u001b[1;32m----> 8\u001b[1;33m \u001b[0my_axis\u001b[0m \u001b[1;33m=\u001b[0m \u001b[1;33m-\u001b[0m\u001b[1;33m(\u001b[0m\u001b[0mw1\u001b[0m\u001b[1;33m[\u001b[0m\u001b[1;36m0\u001b[0m\u001b[1;33m]\u001b[0m \u001b[1;33m+\u001b[0m \u001b[0mx_axis\u001b[0m\u001b[1;33m*\u001b[0m\u001b[0mw0\u001b[0m\u001b[1;33m[\u001b[0m\u001b[1;36m0\u001b[0m\u001b[1;33m]\u001b[0m\u001b[1;33m[\u001b[0m\u001b[1;36m0\u001b[0m\u001b[1;33m]\u001b[0m\u001b[1;33m)\u001b[0m \u001b[1;33m/\u001b[0m \u001b[0mW0\u001b[0m\u001b[1;33m[\u001b[0m\u001b[1;36m0\u001b[0m\u001b[1;33m]\u001b[0m\u001b[1;33m[\u001b[0m\u001b[1;36m1\u001b[0m\u001b[1;33m]\u001b[0m\u001b[1;33m\u001b[0m\u001b[1;33m\u001b[0m\u001b[0m\n\u001b[0m\u001b[0;32m      9\u001b[0m \u001b[0mplt\u001b[0m\u001b[1;33m.\u001b[0m\u001b[0mplot\u001b[0m\u001b[1;33m(\u001b[0m\u001b[0mx_axis\u001b[0m\u001b[1;33m,\u001b[0m \u001b[0my_axis\u001b[0m\u001b[1;33m,\u001b[0m \u001b[1;34m'g--'\u001b[0m\u001b[1;33m)\u001b[0m\u001b[1;33m\u001b[0m\u001b[1;33m\u001b[0m\u001b[0m\n",
      "\u001b[1;31mNameError\u001b[0m: name 'W0' is not defined"
     ]
    },
    {
     "output_type": "display_data",
     "data": {
      "text/plain": [
       "<Figure size 432x288 with 1 Axes>"
      ],
      "image/png": "[encoded data removed]"
     },
     "metadata": {
      "needs_background": "light"
     }
    }
   ],
   "metadata": {}
  }
 ],
 "metadata": {
  "interpreter": {
   "hash": "d67d52e99f0ce20a6c3733d124624e02e3bd83d5cb8b9af7e705321cbc97aaa8"
  },
  "kernelspec": {
   "name": "python3",
   "display_name": "Python 3.8.8 64-bit ('base': conda)"
  },
  "language_info": {
   "codemirror_mode": {
    "name": "ipython",
    "version": 3
   },
   "file_extension": ".py",
   "mimetype": "text/x-python",
   "name": "python",
   "nbconvert_exporter": "python",
   "pygments_lexer": "ipython3",
   "version": "3.8.8"
  },
  "orig_nbformat": 4
 },
 "nbformat": 4,
 "nbformat_minor": 2
}