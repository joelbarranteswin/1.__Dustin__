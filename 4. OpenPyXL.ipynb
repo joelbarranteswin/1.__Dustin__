{
 "cells": [
  {
   "cell_type": "code",
   "execution_count": 37,
   "source": [
    "from openpyxl import Workbook\r\n",
    "import openpyxl\r\n",
    "\r\n",
    "wb = Workbook()"
   ],
   "outputs": [],
   "metadata": {}
  },
  {
   "cell_type": "code",
   "execution_count": 38,
   "source": [
    "ws = wb.active"
   ],
   "outputs": [],
   "metadata": {}
  },
  {
   "cell_type": "code",
   "execution_count": 39,
   "source": [
    "ws1 = wb.create_sheet(\"joel\")"
   ],
   "outputs": [],
   "metadata": {}
  },
  {
   "cell_type": "code",
   "execution_count": 40,
   "source": [
    "ws.title = \"New Title\""
   ],
   "outputs": [],
   "metadata": {}
  },
  {
   "cell_type": "code",
   "execution_count": 41,
   "source": [
    "ws.sheet_properties.tabColor = \"1072BA\""
   ],
   "outputs": [],
   "metadata": {}
  },
  {
   "cell_type": "code",
   "execution_count": 42,
   "source": [
    "ws3 = wb[\"New Title\"]"
   ],
   "outputs": [],
   "metadata": {}
  },
  {
   "cell_type": "code",
   "execution_count": 43,
   "source": [
    "print(wb.sheetnames)"
   ],
   "outputs": [
    {
     "output_type": "stream",
     "name": "stdout",
     "text": [
      "['New Title', 'joel']\n"
     ]
    }
   ],
   "metadata": {}
  },
  {
   "cell_type": "code",
   "execution_count": 44,
   "source": [
    "c = ws[\"A4\"]"
   ],
   "outputs": [],
   "metadata": {}
  },
  {
   "cell_type": "code",
   "execution_count": 45,
   "source": [
    "ws[\"A4\"] = 4"
   ],
   "outputs": [],
   "metadata": {}
  },
  {
   "cell_type": "code",
   "execution_count": 46,
   "source": [
    "d = ws.cell(row = 4, column = 2, value = 10)"
   ],
   "outputs": [],
   "metadata": {}
  },
  {
   "cell_type": "code",
   "execution_count": 47,
   "source": [
    "cell_range = ws[\"A1\":\"C2\"]"
   ],
   "outputs": [],
   "metadata": {}
  },
  {
   "cell_type": "code",
   "execution_count": 48,
   "source": [
    "colC = ws[\"C\"]\r\n",
    "col_range = ws[\"C:D\"]\r\n",
    "\r\n",
    "row10 = ws[10]\r\n",
    "row_range = ws[5:10]"
   ],
   "outputs": [],
   "metadata": {}
  },
  {
   "cell_type": "markdown",
   "source": [
    "4. Data Storage"
   ],
   "metadata": {}
  },
  {
   "cell_type": "code",
   "execution_count": 49,
   "source": [
    "c.value = \"hello, world\""
   ],
   "outputs": [],
   "metadata": {}
  },
  {
   "cell_type": "code",
   "execution_count": 50,
   "source": [
    "print(c.value)"
   ],
   "outputs": [
    {
     "output_type": "stream",
     "name": "stdout",
     "text": [
      "hello, world\n"
     ]
    }
   ],
   "metadata": {}
  },
  {
   "cell_type": "code",
   "execution_count": 51,
   "source": [
    "d.value = 3.14\r\n",
    "print(d.value)"
   ],
   "outputs": [
    {
     "output_type": "stream",
     "name": "stdout",
     "text": [
      "3.14\n"
     ]
    }
   ],
   "metadata": {}
  },
  {
   "cell_type": "markdown",
   "source": [
    "5. Saving File"
   ],
   "metadata": {}
  },
  {
   "cell_type": "code",
   "execution_count": 52,
   "source": [
    "wb = Workbook()\r\n",
    "wb.save(\"balances.xlsx\")"
   ],
   "outputs": [],
   "metadata": {}
  },
  {
   "cell_type": "code",
   "execution_count": 53,
   "source": [
    "wb = openpyxl.load_workbook('balances.xlsx')"
   ],
   "outputs": [],
   "metadata": {}
  },
  {
   "cell_type": "code",
   "execution_count": 54,
   "source": [
    "hoja = wb.active"
   ],
   "outputs": [],
   "metadata": {}
  },
  {
   "cell_type": "code",
   "execution_count": 55,
   "source": [
    "hoja[\"A1\"] = \"Valor A1\" "
   ],
   "outputs": [],
   "metadata": {}
  },
  {
   "cell_type": "code",
   "execution_count": 56,
   "source": [
    "hoja[\"B1\"] = \"Valor B1\""
   ],
   "outputs": [],
   "metadata": {}
  },
  {
   "cell_type": "code",
   "execution_count": 57,
   "source": [
    "hoja.dimensions"
   ],
   "outputs": [
    {
     "output_type": "execute_result",
     "data": {
      "text/plain": [
       "'A1:B1'"
      ]
     },
     "metadata": {},
     "execution_count": 57
    }
   ],
   "metadata": {}
  },
  {
   "cell_type": "code",
   "execution_count": 58,
   "source": [
    "print(wb.sheetnames)"
   ],
   "outputs": [
    {
     "output_type": "stream",
     "name": "stdout",
     "text": [
      "['Sheet']\n"
     ]
    }
   ],
   "metadata": {}
  },
  {
   "cell_type": "code",
   "execution_count": 59,
   "source": [
    "hoja1 = wb.create_sheet(\"joel\")"
   ],
   "outputs": [],
   "metadata": {}
  },
  {
   "cell_type": "code",
   "execution_count": 60,
   "source": [
    "print(wb.sheetnames)"
   ],
   "outputs": [
    {
     "output_type": "stream",
     "name": "stdout",
     "text": [
      "['Sheet', 'joel']\n"
     ]
    }
   ],
   "metadata": {}
  },
  {
   "cell_type": "code",
   "execution_count": 61,
   "source": [
    "hoja = wb[\"joel\"]"
   ],
   "outputs": [],
   "metadata": {}
  },
  {
   "cell_type": "code",
   "execution_count": 62,
   "source": [
    "hoja[\"A1\"] = \"mi primera celda\"\r\n",
    "hoja[\"B1\"] = 5"
   ],
   "outputs": [],
   "metadata": {}
  },
  {
   "cell_type": "code",
   "execution_count": 63,
   "source": [
    "hoja[\"A1\"].value"
   ],
   "outputs": [
    {
     "output_type": "execute_result",
     "data": {
      "text/plain": [
       "'mi primera celda'"
      ]
     },
     "metadata": {},
     "execution_count": 63
    }
   ],
   "metadata": {}
  },
  {
   "cell_type": "code",
   "execution_count": 64,
   "source": [
    "hoja.cell(row = 1, column =2).value"
   ],
   "outputs": [
    {
     "output_type": "execute_result",
     "data": {
      "text/plain": [
       "5"
      ]
     },
     "metadata": {},
     "execution_count": 64
    }
   ],
   "metadata": {}
  },
  {
   "cell_type": "code",
   "execution_count": 65,
   "source": [
    "rango1 = hoja[\"A2:D2\"]"
   ],
   "outputs": [],
   "metadata": {}
  },
  {
   "cell_type": "code",
   "execution_count": 66,
   "source": [
    "#columna entera\r\n",
    "colb = hoja[\"B\"]"
   ],
   "outputs": [],
   "metadata": {}
  },
  {
   "cell_type": "code",
   "execution_count": 67,
   "source": [
    "#fila entera\r\n",
    "\r\n",
    "fila5 = hoja[\"5\"]"
   ],
   "outputs": [],
   "metadata": {}
  },
  {
   "cell_type": "code",
   "execution_count": 68,
   "source": [
    "hoja = wb.active"
   ],
   "outputs": [],
   "metadata": {}
  },
  {
   "cell_type": "code",
   "execution_count": 69,
   "source": [
    "#asignamos la ultima fila sin datos\r\n",
    "hoja.append([\"col1\",2, 3232, \"col4\", \"columna 5\"])"
   ],
   "outputs": [],
   "metadata": {}
  },
  {
   "cell_type": "code",
   "execution_count": 70,
   "source": [
    "hoja[\"G1\"] = \"10/04/2019\"\r\n",
    "hoja[\"G1\"].value"
   ],
   "outputs": [
    {
     "output_type": "execute_result",
     "data": {
      "text/plain": [
       "'10/04/2019'"
      ]
     },
     "metadata": {},
     "execution_count": 70
    }
   ],
   "metadata": {}
  },
  {
   "cell_type": "code",
   "execution_count": 71,
   "source": [
    "hoja[\"G1\"].is_date"
   ],
   "outputs": [
    {
     "output_type": "execute_result",
     "data": {
      "text/plain": [
       "False"
      ]
     },
     "metadata": {},
     "execution_count": 71
    }
   ],
   "metadata": {}
  },
  {
   "cell_type": "code",
   "execution_count": 72,
   "source": [
    "import datetime\r\n",
    "hoja[\"F1\"] = datetime.datetime(2020, 7, 21)"
   ],
   "outputs": [],
   "metadata": {}
  },
  {
   "cell_type": "code",
   "execution_count": 73,
   "source": [
    "hoja[\"F1\"].value"
   ],
   "outputs": [
    {
     "output_type": "execute_result",
     "data": {
      "text/plain": [
       "datetime.datetime(2020, 7, 21, 0, 0)"
      ]
     },
     "metadata": {},
     "execution_count": 73
    }
   ],
   "metadata": {}
  },
  {
   "cell_type": "code",
   "execution_count": 74,
   "source": [
    "hoja[\"F1\"].is_date"
   ],
   "outputs": [
    {
     "output_type": "execute_result",
     "data": {
      "text/plain": [
       "True"
      ]
     },
     "metadata": {},
     "execution_count": 74
    }
   ],
   "metadata": {}
  },
  {
   "cell_type": "markdown",
   "source": [
    "## Formato de celda"
   ],
   "metadata": {}
  },
  {
   "cell_type": "code",
   "execution_count": 75,
   "source": [
    "hoja[\"b5\"] = \"20,04,2020\"\r\n",
    "hoja[\"b5\"].number_format"
   ],
   "outputs": [
    {
     "output_type": "execute_result",
     "data": {
      "text/plain": [
       "'General'"
      ]
     },
     "metadata": {},
     "execution_count": 75
    }
   ],
   "metadata": {}
  },
  {
   "cell_type": "code",
   "execution_count": 76,
   "source": [
    "hoja[\"c5\"] = datetime.datetime(2020, 4, 21)\r\n",
    "hoja[\"c5\"].number_format = \"yyyy-mm-dd\"\r\n",
    "hoja[\"c5\"].value"
   ],
   "outputs": [
    {
     "output_type": "execute_result",
     "data": {
      "text/plain": [
       "datetime.datetime(2020, 4, 21, 0, 0)"
      ]
     },
     "metadata": {},
     "execution_count": 76
    }
   ],
   "metadata": {}
  },
  {
   "cell_type": "code",
   "execution_count": 77,
   "source": [
    "hoja[\"b5\"].number_format = \"#,#0€\"\r\n",
    "hoja[\"b5\"].value"
   ],
   "outputs": [
    {
     "output_type": "execute_result",
     "data": {
      "text/plain": [
       "'20,04,2020'"
      ]
     },
     "metadata": {},
     "execution_count": 77
    }
   ],
   "metadata": {}
  },
  {
   "cell_type": "markdown",
   "source": [
    "# inmovilizar paneles"
   ],
   "metadata": {}
  },
  {
   "cell_type": "code",
   "execution_count": 78,
   "source": [
    "#inmobilizar la primera fila\r\n",
    "hoja.freeze_panes = \"A2\""
   ],
   "outputs": [],
   "metadata": {}
  },
  {
   "cell_type": "code",
   "execution_count": 79,
   "source": [
    "#inmovilizar la primera fila y columna\r\n",
    "hoja.freeze_panes = \"B2\""
   ],
   "outputs": [],
   "metadata": {}
  },
  {
   "cell_type": "code",
   "execution_count": 80,
   "source": [
    "#Auto filtro\r\n",
    "hoja.auto_filter.ref = \"A1:P200\""
   ],
   "outputs": [],
   "metadata": {}
  },
  {
   "cell_type": "code",
   "execution_count": 81,
   "source": [
    "hoja[\"B2\"] = \"=Average(C2:C20)\"\r\n",
    "hoja[\"B2\"].value"
   ],
   "outputs": [
    {
     "output_type": "execute_result",
     "data": {
      "text/plain": [
       "'=Average(C2:C20)'"
      ]
     },
     "metadata": {},
     "execution_count": 81
    }
   ],
   "metadata": {}
  },
  {
   "cell_type": "code",
   "execution_count": 82,
   "source": [
    "\r\n",
    "FORMATO = openpyxl.styles.fonts.Font(\r\n",
    "    name = \"Arial\",\r\n",
    "    size = 12,\r\n",
    "    bold = True,\r\n",
    "    italic = False,\r\n",
    "    vertAlign = None,\r\n",
    "    strike = False,\r\n",
    "    color = \"ff0000\"\r\n",
    ")"
   ],
   "outputs": [],
   "metadata": {}
  },
  {
   "cell_type": "code",
   "execution_count": 83,
   "source": [
    "hoja[\"D5\"].font = FORMATO"
   ],
   "outputs": [],
   "metadata": {}
  },
  {
   "cell_type": "code",
   "execution_count": 84,
   "source": [
    "hoja.title = \"Hoja 1\""
   ],
   "outputs": [],
   "metadata": {}
  },
  {
   "cell_type": "code",
   "execution_count": 85,
   "source": [
    "wb.save(\"my_excel.xlsx\")"
   ],
   "outputs": [],
   "metadata": {}
  },
  {
   "cell_type": "markdown",
   "source": [
    "## Tipo de letra, color y borde"
   ],
   "metadata": {}
  },
  {
   "cell_type": "code",
   "execution_count": 86,
   "source": [
    "import openpyxl\r\n",
    "\r\n",
    "wb = openpyxl.load_workbook(\"balances.xlsx\")\r\n",
    "ws = wb.active"
   ],
   "outputs": [],
   "metadata": {}
  },
  {
   "cell_type": "code",
   "execution_count": 87,
   "source": [
    "from openpyxl.styles import colors\r\n",
    "from openpyxl.styles import Font, Color\r\n",
    "from openpyxl import Workbook\r\n",
    "wb = Workbook()\r\n",
    "ws = wb.active\r\n",
    "\r\n",
    "ft = Font(color=\"FF0000\", name= \"Arial\", size= 14)\r\n",
    "ws['A1'].font = ft\r\n",
    "ws['D4'].font = ft\r\n",
    "\r\n",
    "\r\n",
    "#a1.font = Font(color=\"FF0000\", italic=True) # the change only affects A1"
   ],
   "outputs": [],
   "metadata": {}
  },
  {
   "cell_type": "code",
   "execution_count": 88,
   "source": [
    "from openpyxl.styles import PatternFill, Border, Side, Alignment, Protection, Font\r\n",
    "font = Font(name='Calibri',\r\n",
    "                 size=11,\r\n",
    "                 bold=False,                 \r\n",
    "                 italic=False,\r\n",
    "                 vertAlign=None,\r\n",
    "                 underline='none',\r\n",
    "                 strike=False,\r\n",
    "                 color='FF000000')\r\n",
    "fill = PatternFill(fill_type=None,\r\n",
    "                 start_color='FFFFFFFF',\r\n",
    "                 end_color='FF000000')\r\n",
    "border = Border(left=Side(border_style=None,\r\n",
    "                           color='FF000000'),\r\n",
    "                 right=Side(border_style=None,\r\n",
    "                            color='FF000000'),\r\n",
    "                 top=Side(border_style=None,\r\n",
    "                          color='FF000000'),\r\n",
    "                 bottom=Side(border_style=None,\r\n",
    "                             color='FF000000'),\r\n",
    "                 diagonal=Side(border_style=None,\r\n",
    "                               color='FF000000'),\r\n",
    "                 diagonal_direction=0,\r\n",
    "                 outline=Side(border_style=None,\r\n",
    "                              color='FF000000'),\r\n",
    "                 vertical=Side(border_style=None,\r\n",
    "                               color='FF000000'),\r\n",
    "                 horizontal=Side(border_style=None,\r\n",
    "                                color='FF000000')\r\n",
    "                )\r\n",
    "alignment=Alignment(horizontal='general',\r\n",
    "                     vertical='bottom',\r\n",
    "                     text_rotation=0,\r\n",
    "                     wrap_text=False,\r\n",
    "                     shrink_to_fit=False,\r\n",
    "                     indent=0)\r\n",
    "number_format = 'General'\r\n",
    "protection = Protection(locked=True,\r\n",
    "                         hidden=False)"
   ],
   "outputs": [],
   "metadata": {}
  },
  {
   "cell_type": "code",
   "execution_count": 89,
   "source": [
    "border = Border(left=Side(border_style=None,\r\n",
    "                           color='FF000000'),\r\n",
    "                 right=Side(border_style=None,\r\n",
    "                            color='FF000000'),\r\n",
    "                 top=Side(border_style=None,\r\n",
    "                          color='FF000000'),\r\n",
    "                 bottom=Side(border_style=None,\r\n",
    "                             color='FF000000'),\r\n",
    "                 diagonal=Side(border_style=None,\r\n",
    "                               color='FF000000'),\r\n",
    "                 diagonal_direction=0,\r\n",
    "                 outline=Side(border_style=None,\r\n",
    "                              color='FF000000'),\r\n",
    "                 vertical=Side(border_style=None,\r\n",
    "                               color='FF000000'),\r\n",
    "                 horizontal=Side(border_style=None,\r\n",
    "                                color='FF000000')\r\n",
    "                )\r\n",
    "\r\n",
    "\r\n"
   ],
   "outputs": [],
   "metadata": {}
  },
  {
   "cell_type": "code",
   "execution_count": 90,
   "source": [
    "wb.save(\"balances.xlsx\")"
   ],
   "outputs": [],
   "metadata": {}
  },
  {
   "cell_type": "markdown",
   "source": [
    "# Practicing"
   ],
   "metadata": {}
  },
  {
   "cell_type": "code",
   "execution_count": 91,
   "source": [
    "import openpyxl \r\n",
    "\r\n",
    "excel = openpyxl.load_workbook(\"my_excel.xlsx\")\r\n",
    "hoja_1 = excel.active\r\n",
    "hojas = excel.sheetnames\r\n",
    "hoja_1.title = \"1er hoja\"\r\n",
    "hoja_2 = excel.get_sheet_by_name(\"joel\")\r\n",
    "hoja_2.title = \"2da hoja\"\r\n",
    "\r\n",
    "\r\n"
   ],
   "outputs": [
    {
     "output_type": "stream",
     "name": "stderr",
     "text": [
      "<ipython-input-91-76f20adcfbe2>:7: DeprecationWarning: Call to deprecated function get_sheet_by_name (Use wb[sheetname]).\n",
      "  hoja_2 = excel.get_sheet_by_name(\"joel\")\n"
     ]
    }
   ],
   "metadata": {}
  },
  {
   "cell_type": "code",
   "execution_count": 92,
   "source": [
    "from openpyxl.styles import Color, PatternFill, Font, Border\r\n",
    "relleno_rojo = PatternFill(start_color='FF0000', \r\n",
    "                            end_color='FF0000', \r\n",
    "                            fill_type=\"solid\")\r\n",
    "\r\n",
    "hoja_1['A1'].fill = relleno_rojo"
   ],
   "outputs": [],
   "metadata": {}
  },
  {
   "cell_type": "code",
   "execution_count": 93,
   "source": [
    "hoja_2[\"A1\"].fill = relleno_rojo"
   ],
   "outputs": [],
   "metadata": {}
  },
  {
   "cell_type": "code",
   "execution_count": 94,
   "source": [
    "from openpyxl.styles.borders import Border, Side\r\n",
    " \r\n",
    "thin_border = Border(left=Side(style=\"thick\",\r\n",
    "                                color = \"00000000\"), \r\n",
    "                     right=Side(style='thick'), \r\n",
    "                     top=Side(style='thick'), \r\n",
    "                     bottom=Side(style= None))\r\n",
    "\r\n",
    "hoja_1[\"B2\"].border = thin_border"
   ],
   "outputs": [],
   "metadata": {}
  },
  {
   "cell_type": "code",
   "execution_count": 95,
   "source": [
    "from openpyxl.drawing.image import Image\r\n",
    "frente = Image(\"Frente.jpg\")\r\n",
    "hoja_2.add_image(frente, \"A8\")\r\n",
    "\r\n",
    "#quitar las grillas de excel\r\n",
    "hoja_2.sheet_view.showGridLines = False"
   ],
   "outputs": [
    {
     "output_type": "error",
     "ename": "FileNotFoundError",
     "evalue": "[Errno 2] No such file or directory: 'Frente.jpg'",
     "traceback": [
      "\u001b[1;31m---------------------------------------------------------------------------\u001b[0m",
      "\u001b[1;31mFileNotFoundError\u001b[0m                         Traceback (most recent call last)",
      "\u001b[1;32m<ipython-input-95-c736d41bfd8c>\u001b[0m in \u001b[0;36m<module>\u001b[1;34m\u001b[0m\n\u001b[0;32m      1\u001b[0m \u001b[1;32mfrom\u001b[0m \u001b[0mopenpyxl\u001b[0m\u001b[1;33m.\u001b[0m\u001b[0mdrawing\u001b[0m\u001b[1;33m.\u001b[0m\u001b[0mimage\u001b[0m \u001b[1;32mimport\u001b[0m \u001b[0mImage\u001b[0m\u001b[1;33m\u001b[0m\u001b[1;33m\u001b[0m\u001b[0m\n\u001b[1;32m----> 2\u001b[1;33m \u001b[0mfrente\u001b[0m \u001b[1;33m=\u001b[0m \u001b[0mImage\u001b[0m\u001b[1;33m(\u001b[0m\u001b[1;34m\"Frente.jpg\"\u001b[0m\u001b[1;33m)\u001b[0m\u001b[1;33m\u001b[0m\u001b[1;33m\u001b[0m\u001b[0m\n\u001b[0m\u001b[0;32m      3\u001b[0m \u001b[0mhoja_2\u001b[0m\u001b[1;33m.\u001b[0m\u001b[0madd_image\u001b[0m\u001b[1;33m(\u001b[0m\u001b[0mfrente\u001b[0m\u001b[1;33m,\u001b[0m \u001b[1;34m\"A8\"\u001b[0m\u001b[1;33m)\u001b[0m\u001b[1;33m\u001b[0m\u001b[1;33m\u001b[0m\u001b[0m\n\u001b[0;32m      4\u001b[0m \u001b[1;33m\u001b[0m\u001b[0m\n\u001b[0;32m      5\u001b[0m \u001b[1;31m#quitar las grillas de excel\u001b[0m\u001b[1;33m\u001b[0m\u001b[1;33m\u001b[0m\u001b[1;33m\u001b[0m\u001b[0m\n",
      "\u001b[1;32m~\\anaconda3\\lib\\site-packages\\openpyxl\\drawing\\image.py\u001b[0m in \u001b[0;36m__init__\u001b[1;34m(self, img)\u001b[0m\n\u001b[0;32m     30\u001b[0m         \u001b[0mself\u001b[0m\u001b[1;33m.\u001b[0m\u001b[0mref\u001b[0m \u001b[1;33m=\u001b[0m \u001b[0mimg\u001b[0m\u001b[1;33m\u001b[0m\u001b[1;33m\u001b[0m\u001b[0m\n\u001b[0;32m     31\u001b[0m         \u001b[0mmark_to_close\u001b[0m \u001b[1;33m=\u001b[0m \u001b[0misinstance\u001b[0m\u001b[1;33m(\u001b[0m\u001b[0mimg\u001b[0m\u001b[1;33m,\u001b[0m \u001b[0mstr\u001b[0m\u001b[1;33m)\u001b[0m\u001b[1;33m\u001b[0m\u001b[1;33m\u001b[0m\u001b[0m\n\u001b[1;32m---> 32\u001b[1;33m         \u001b[0mimage\u001b[0m \u001b[1;33m=\u001b[0m \u001b[0m_import_image\u001b[0m\u001b[1;33m(\u001b[0m\u001b[0mimg\u001b[0m\u001b[1;33m)\u001b[0m\u001b[1;33m\u001b[0m\u001b[1;33m\u001b[0m\u001b[0m\n\u001b[0m\u001b[0;32m     33\u001b[0m         \u001b[0mself\u001b[0m\u001b[1;33m.\u001b[0m\u001b[0mwidth\u001b[0m\u001b[1;33m,\u001b[0m \u001b[0mself\u001b[0m\u001b[1;33m.\u001b[0m\u001b[0mheight\u001b[0m \u001b[1;33m=\u001b[0m \u001b[0mimage\u001b[0m\u001b[1;33m.\u001b[0m\u001b[0msize\u001b[0m\u001b[1;33m\u001b[0m\u001b[1;33m\u001b[0m\u001b[0m\n\u001b[0;32m     34\u001b[0m \u001b[1;33m\u001b[0m\u001b[0m\n",
      "\u001b[1;32m~\\anaconda3\\lib\\site-packages\\openpyxl\\drawing\\image.py\u001b[0m in \u001b[0;36m_import_image\u001b[1;34m(img)\u001b[0m\n\u001b[0;32m     14\u001b[0m \u001b[1;33m\u001b[0m\u001b[0m\n\u001b[0;32m     15\u001b[0m     \u001b[1;32mif\u001b[0m \u001b[1;32mnot\u001b[0m \u001b[0misinstance\u001b[0m\u001b[1;33m(\u001b[0m\u001b[0mimg\u001b[0m\u001b[1;33m,\u001b[0m \u001b[0mPILImage\u001b[0m\u001b[1;33m.\u001b[0m\u001b[0mImage\u001b[0m\u001b[1;33m)\u001b[0m\u001b[1;33m:\u001b[0m\u001b[1;33m\u001b[0m\u001b[1;33m\u001b[0m\u001b[0m\n\u001b[1;32m---> 16\u001b[1;33m         \u001b[0mimg\u001b[0m \u001b[1;33m=\u001b[0m \u001b[0mPILImage\u001b[0m\u001b[1;33m.\u001b[0m\u001b[0mopen\u001b[0m\u001b[1;33m(\u001b[0m\u001b[0mimg\u001b[0m\u001b[1;33m)\u001b[0m\u001b[1;33m\u001b[0m\u001b[1;33m\u001b[0m\u001b[0m\n\u001b[0m\u001b[0;32m     17\u001b[0m \u001b[1;33m\u001b[0m\u001b[0m\n\u001b[0;32m     18\u001b[0m     \u001b[1;32mreturn\u001b[0m \u001b[0mimg\u001b[0m\u001b[1;33m\u001b[0m\u001b[1;33m\u001b[0m\u001b[0m\n",
      "\u001b[1;32m~\\anaconda3\\lib\\site-packages\\PIL\\Image.py\u001b[0m in \u001b[0;36mopen\u001b[1;34m(fp, mode, formats)\u001b[0m\n\u001b[0;32m   2910\u001b[0m \u001b[1;33m\u001b[0m\u001b[0m\n\u001b[0;32m   2911\u001b[0m     \u001b[1;32mif\u001b[0m \u001b[0mfilename\u001b[0m\u001b[1;33m:\u001b[0m\u001b[1;33m\u001b[0m\u001b[1;33m\u001b[0m\u001b[0m\n\u001b[1;32m-> 2912\u001b[1;33m         \u001b[0mfp\u001b[0m \u001b[1;33m=\u001b[0m \u001b[0mbuiltins\u001b[0m\u001b[1;33m.\u001b[0m\u001b[0mopen\u001b[0m\u001b[1;33m(\u001b[0m\u001b[0mfilename\u001b[0m\u001b[1;33m,\u001b[0m \u001b[1;34m\"rb\"\u001b[0m\u001b[1;33m)\u001b[0m\u001b[1;33m\u001b[0m\u001b[1;33m\u001b[0m\u001b[0m\n\u001b[0m\u001b[0;32m   2913\u001b[0m         \u001b[0mexclusive_fp\u001b[0m \u001b[1;33m=\u001b[0m \u001b[1;32mTrue\u001b[0m\u001b[1;33m\u001b[0m\u001b[1;33m\u001b[0m\u001b[0m\n\u001b[0;32m   2914\u001b[0m \u001b[1;33m\u001b[0m\u001b[0m\n",
      "\u001b[1;31mFileNotFoundError\u001b[0m: [Errno 2] No such file or directory: 'Frente.jpg'"
     ]
    }
   ],
   "metadata": {}
  },
  {
   "cell_type": "code",
   "execution_count": null,
   "source": [
    "excel.save(\"my_excel.xlsx\")"
   ],
   "outputs": [],
   "metadata": {}
  },
  {
   "cell_type": "markdown",
   "source": [
    "# Practice 2"
   ],
   "metadata": {}
  },
  {
   "cell_type": "code",
   "execution_count": null,
   "source": [
    "from openpyxl import Workbook\r\n",
    "from openpyxl.styles import Color, PatternFill\r\n",
    "libro = Workbook()\r\n",
    "\r\n",
    "ws = libro.create_sheet(\"Hojas 1\")\r\n",
    "libro.worksheets\r\n",
    "hoja_1 = libro.get_sheet_by_name(\"Hojas 1\")\r\n",
    "\r\n",
    "relleno_rojo = PatternFill(start_color='FF0000', \r\n",
    "                            end_color='FF0000', \r\n",
    "                            fill_type=\"solid\")\r\n",
    "\r\n",
    "for cell in hoja_1['C1:C100']:\r\n",
    "   cell[0].fill = relleno_rojo\r\n",
    "\r\n"
   ],
   "outputs": [
    {
     "output_type": "stream",
     "name": "stderr",
     "text": [
      "<ipython-input-43-f24d990e0ee9>:7: DeprecationWarning: Call to deprecated function get_sheet_by_name (Use wb[sheetname]).\n",
      "  hoja_1 = libro.get_sheet_by_name(\"Hojas 1\")\n"
     ]
    }
   ],
   "metadata": {}
  },
  {
   "cell_type": "code",
   "execution_count": null,
   "source": [
    "for cell in hoja_1['B1:B{}'.format(ws.max_row)]: #solo coge las celdas en uso\r\n",
    "   cell[0].fill = relleno_rojo"
   ],
   "outputs": [],
   "metadata": {}
  },
  {
   "cell_type": "code",
   "execution_count": null,
   "source": [
    "libro.save(\"balances1.xlsx\")"
   ],
   "outputs": [],
   "metadata": {}
  },
  {
   "cell_type": "markdown",
   "source": [
    "# practice 3"
   ],
   "metadata": {}
  },
  {
   "cell_type": "code",
   "execution_count": null,
   "source": [
    "import openpyxl\r\n",
    "from openpyxl.styles import PatternFill, Border, Side, Font, Alignment\r\n",
    "\r\n",
    "\"\"\"leer libro y hoja de excel como input\"\"\"\r\n",
    "libro = openpyxl.load_workbook(\"balances.xlsx\")\r\n",
    "hojas = libro.sheetnames\r\n",
    "hoja_1 = libro.get_sheet_by_name(\"Prueba\")\r\n",
    "\r\n",
    "\"\"\"Propiedades de la hoja\"\"\"\r\n",
    "hoja_1.sheet_view.showGridLines = False\r\n",
    "hoja_1.sheet_view.zoomScale = 85\r\n",
    "\r\n",
    "for column in [\"B\", \"C\", \"D\", \"E\", \"F\", \"G\"]:\r\n",
    "    hoja_1.column_dimensions[column].width = 12\r\n",
    "\r\n",
    "\r\n",
    "\"\"\"Titulo del calculo\"\"\"\r\n",
    "hoja_1[\"B2\"].value = \"Calculo de N° de taladros by JOEL BARRANTES\"\r\n",
    "hoja_1[\"B2\"].font = Font(bold = True, size = 20, )\r\n",
    "\r\n",
    "\"\"\"Subtitulo del calculo\"\"\"\r\n",
    "hoja_1[\"B4\"].value = \"✔ Area y perímetro de la sección\"\r\n",
    "hoja_1[\"B4\"].font = Font(bold = True, size = 11, )\r\n",
    "\r\n",
    "\"\"\"Insertar imagen del frente\"\"\"\r\n",
    "from openpyxl.drawing.image import Image\r\n",
    "Imagen_frente_minero = Image(\"1_imagen_frente_minero.jpg\")\r\n",
    "Imagen_frente_minero.height, Imagen_frente_minero.width = 493*0.55, 943*0.55 \r\n",
    "hoja_1.add_image(Imagen_frente_minero, \"B5\")\r\n",
    "\r\n",
    "\r\n",
    "\"\"\"insertar color en la celda\"\"\"\r\n",
    "relleno_celeste_oscuro = PatternFill(start_color= \"0033CCCC\",\r\n",
    "                      end_color= \"0033CCCC\",\r\n",
    "                      fill_type= \"solid\"\r\n",
    "                      )\r\n",
    "\r\n",
    "relleno_celeste_claro = PatternFill(start_color= \"00CCCCFF\",\r\n",
    "                      end_color= \"00CCCCFF\",\r\n",
    "                      fill_type= \"solid\"\r\n",
    "                      )\r\n",
    "\r\n",
    "encabezados = [\"B19\", \"C19\", \"B23\", \"C23\", \"E19\", \"F19\", \"G19\"]\r\n",
    "datos = [\"B20\", \"B21\", \"B24\", \"B25\", \"C20\", \"C21\", \"C24\", \"C25\"]\r\n",
    "\r\n",
    "for cell in encabezados:\r\n",
    "    hoja_1[cell].fill = relleno_celeste_oscuro\r\n",
    "\r\n",
    "for cell in datos:\r\n",
    "    hoja_1[cell].fill = relleno_celeste_claro\r\n",
    "\r\n",
    "for rangos in ['E20:E29','F20:F29','G20:G29']:\r\n",
    "    for cell in hoja_1[rangos]:\r\n",
    "        cell[0].fill = relleno_celeste_claro\r\n",
    "\r\n",
    "\"\"\"convinar celdas\"\"\"\r\n",
    "hoja_1.merge_cells(\"B19:C19\")\r\n",
    "hoja_1.merge_cells(\"B23:C23\")\r\n",
    "hoja_1.merge_cells(\"E19:G19\")\r\n",
    "\r\n",
    "\"\"\"insertar borde de la celda\"\"\"\r\n",
    "borde_grueso_4_lados = Border(left=Side(style=\"medium\"), \r\n",
    "                right=Side(style='medium'), \r\n",
    "                top=Side(style='medium'), \r\n",
    "                bottom=Side(style= 'medium')\r\n",
    "                )\r\n",
    "borde_grueso_1_lado_izquierda = Border(left=Side(style=\"medium\"), \r\n",
    "                right=Side(style=None), \r\n",
    "                top=Side(style=None), \r\n",
    "                bottom=Side(style=None)\r\n",
    "                )\r\n",
    "borde_grueso_1_lado_derecha = Border(left=Side(style=None), \r\n",
    "                right=Side(style='medium'), \r\n",
    "                top=Side(style=None), \r\n",
    "                bottom=Side(style=None)\r\n",
    "                )\r\n",
    "borde_grueso_1_lado_inferior = Border(left=Side(style=None), \r\n",
    "                right=Side(style=None), \r\n",
    "                top=Side(style=None), \r\n",
    "                bottom=Side(style='medium')\r\n",
    "                )\r\n",
    "borde_grueso_2_lados_inferior_izquierda = Border(left=Side(style=\"medium\"), \r\n",
    "                right=Side(style=None), \r\n",
    "                top=Side(style=None), \r\n",
    "                bottom=Side(style= 'medium')\r\n",
    "                )\r\n",
    "borde_grueso_2_lados_inferior_derecha = Border(left=Side(style=None), \r\n",
    "                right=Side(style='medium'), \r\n",
    "                top=Side(style=None), \r\n",
    "                bottom=Side(style= 'medium')\r\n",
    "                )\r\n",
    "\r\n",
    "for cell in encabezados:\r\n",
    "    hoja_1[cell].border = borde_grueso_4_lados\r\n",
    "\r\n",
    "for cells in [\"B20\",\"B24\"]:\r\n",
    "    hoja_1[cells].border = borde_grueso_1_lado_izquierda\r\n",
    "\r\n",
    "for cell in hoja_1[\"E20:E28\"]:\r\n",
    "    cell[0].border = borde_grueso_1_lado_izquierda\r\n",
    "\r\n",
    "for cells in [\"C20\",\"C24\"]:\r\n",
    "    hoja_1[cells].border = borde_grueso_1_lado_derecha\r\n",
    "\r\n",
    "for cell in hoja_1[\"G20:G28\"]:\r\n",
    "    cell[0].border = borde_grueso_1_lado_derecha\r\n",
    "\r\n",
    "hoja_1[\"F29\"].border = borde_grueso_1_lado_inferior\r\n",
    "\r\n",
    "for cell in [\"B21\", \"B25\", \"E29\"]:\r\n",
    "    hoja_1[cell].border = borde_grueso_2_lados_inferior_izquierda\r\n",
    "\r\n",
    "for cell in [\"C21\", \"C25\", \"G29\"]:\r\n",
    "    hoja_1[cell].border = borde_grueso_2_lados_inferior_derecha\r\n",
    "\r\n",
    "\r\n",
    "\"\"\"Inserta el tipo de letra\"\"\"\r\n",
    "tipo_letra_azul_oscuro = Font(bold= True, size=\"10\",color= \"00003366\")\r\n",
    "tipo_letra_negro = Font(bold= False, size=\"10\",color= \"00000000\")\r\n",
    "\r\n",
    "for cell in [\"B19\", \"B23\", \"E19\", \"B24\", \"C24\", \"C25\", \"E21\", \"G21\", \"F22\", \r\n",
    "            \"G22\", \"E23\", \"F23\", \"G23\", \"E26\", \"G26\", \"E27\", \"G27\"]:\r\n",
    "    hoja_1[cell].font = tipo_letra_azul_oscuro\r\n",
    "\r\n",
    "for cell in [\"B20\", \"B21\", \"C20\", \"C21\", \"E20\", \"G20\", \"E24\", \"E25\", \"G24\", \"G25\", \"E28\", \"E29\"]:\r\n",
    "    hoja_1[cell].font = tipo_letra_negro\r\n",
    "\r\n",
    "\r\n",
    "\"\"\"Alinear la letra de la celda\"\"\"\r\n",
    "centrar = Alignment(horizontal= \"center\", vertical= \"center\")\r\n",
    "# hoja_1[\"B2\"].alignment = centrar\r\n",
    "\r\n",
    "\r\n",
    "\"\"\"textos de las celdas\"\"\"\r\n",
    "hoja_1[\"B19\"].value = \"Datos de la sección\"\r\n",
    "hoja_1[\"B20\"].value = \"Base (B)\"\r\n",
    "hoja_1[\"B21\"].value = \"Altura (H)\"\r\n",
    "\r\n",
    "hoja_1[\"B23\"].value = \"Area (S) y Perímetro (P)\"\r\n",
    "hoja_1[\"B24\"].value = \"(=)S(m2)\"\r\n",
    "hoja_1[\"B25\"].value = \"(=)P(m)\"\r\n",
    "\r\n",
    "hoja_1[\"E19\"].value = \"Datos y respuestas de perforación y voladura\"\r\n",
    "hoja_1[\"E20\"].value = \"Longitud de barrenos (pies)\"\r\n",
    "hoja_1[\"E21\"].value = \"(=) N° de taladros de perforación\"\r\n",
    "hoja_1[\"F22\"].value = \"Redondeo\"\r\n",
    "hoja_1[\"E23\"].value = \"(=) Taladros vacios\"\r\n",
    "hoja_1[\"E24\"].value = \"Eficiencia de perforación (%)\"\r\n",
    "hoja_1[\"E25\"].value = \"Eficiencia de voladura (%)\"\r\n",
    "hoja_1[\"E26\"].value = \"(=) Longitud perforada (pies)\"\r\n",
    "hoja_1[\"E27\"].value = \"(=) Avance por disparo (m)\"\r\n",
    "hoja_1[\"E28\"].value = \"Disparo/ día (rendimiento)\"\r\n",
    "hoja_1[\"E29\"].value = \"sistema de trabajo\"\r\n",
    "\r\n",
    "\"\"\"Input de datos \"\"\"\r\n",
    "\r\n",
    "\"\"\"Calculos\"\"\"\r\n",
    "\r\n",
    "\"\"\"Output de datos\"\"\"\r\n"
   ],
   "outputs": [
    {
     "output_type": "stream",
     "name": "stderr",
     "text": [
      "<ipython-input-80-61c4ddc360d2>:7: DeprecationWarning: Call to deprecated function get_sheet_by_name (Use wb[sheetname]).\n",
      "  hoja_1 = libro.get_sheet_by_name(\"Prueba\")\n"
     ]
    },
    {
     "output_type": "execute_result",
     "data": {
      "text/plain": [
       "'Output de datos'"
      ]
     },
     "metadata": {},
     "execution_count": 80
    }
   ],
   "metadata": {}
  },
  {
   "cell_type": "code",
   "execution_count": null,
   "source": [
    "import openpyxl\r\n",
    "from openpyxl.styles import PatternFill, Border, Side, Font, Alignment\r\n",
    "\r\n",
    "\"\"\"libro y hoja de excel como input\"\"\"\r\n",
    "\r\n",
    "\r\n"
   ],
   "outputs": [],
   "metadata": {}
  },
  {
   "cell_type": "code",
   "execution_count": null,
   "source": [
    "import openpyxl\r\n",
    "from openpyxl.styles import PatternFill, Border, Side, Font, Alignment\r\n",
    "import numpy as np\r\n",
    "\r\n",
    "\"\"\"libro y hoja de excel como input\"\"\"\r\n",
    "\r\n",
    "libro = openpyxl.load_workbook(\"Input.xlsx\")\r\n",
    "\r\n",
    "hoja_0 = libro[libro.sheetnames[0]]\r\n",
    "hoja_0.tabcolor = \"00FF0000\"\r\n",
    "\r\n",
    "hoja_1 = libro.create_sheet(\"Resultados\",0)\r\n",
    "hoja_1.tabcolor = \"00FFFF1E\"\r\n",
    "\r\n",
    "\r\n",
    "\"\"\"Propiedades de la hoja\"\"\"\r\n",
    "hoja_1.sheet_view.showGridLines = False\r\n",
    "hoja_1.sheet_view.zoomScale = 85\r\n",
    "\r\n",
    "for column in [\"B\", \"C\", \"D\", \"E\", \"F\", \"G\"]:\r\n",
    "    hoja_1.column_dimensions[column].width = 14\r\n",
    "\r\n",
    "\r\n",
    "\"\"\"Titulo del calculo\"\"\"\r\n",
    "hoja_1[\"B2\"].value = \"Calculo de N° de taladros by JOEL BARRANTES\"\r\n",
    "hoja_1[\"B2\"].font = Font(bold = True, size = 20, )\r\n",
    "\r\n",
    "\"\"\"Subtitulo del calculo\"\"\"\r\n",
    "hoja_1[\"B4\"].value = \"✔ Area y perímetro de la sección\"\r\n",
    "hoja_1[\"B4\"].font = Font(bold = True, size = 11, )\r\n",
    "\r\n",
    "\"\"\"Insertar imagen del frente\"\"\"\r\n",
    "from openpyxl.drawing.image import Image\r\n",
    "Imagen_frente_minero = Image(\"1_imagen_frente_minero.jpg\")\r\n",
    "Imagen_frente_minero.height, Imagen_frente_minero.width = 493*0.55, 943*0.55 \r\n",
    "hoja_1.add_image(Imagen_frente_minero, \"B5\")\r\n",
    "\r\n",
    "\r\n",
    "\"\"\"insertar color en la celda\"\"\"\r\n",
    "relleno_celeste_oscuro = PatternFill(start_color= \"0033CCCC\",\r\n",
    "                      end_color= \"0033CCCC\",\r\n",
    "                      fill_type= \"solid\"\r\n",
    "                      )\r\n",
    "\r\n",
    "relleno_celeste_claro = PatternFill(start_color= \"00CCCCFF\",\r\n",
    "                      end_color= \"00CCCCFF\",\r\n",
    "                      fill_type= \"solid\"\r\n",
    "                      )\r\n",
    "\r\n",
    "encabezados = [\"B19\", \"C19\", \"B23\", \"C23\", \"E19\", \"F19\", \"G19\"]\r\n",
    "datos = [\"B20\", \"B21\", \"B24\", \"B25\", \"C20\", \"C21\", \"C24\", \"C25\"]\r\n",
    "\r\n",
    "for cell in encabezados:\r\n",
    "    hoja_1[cell].fill = relleno_celeste_oscuro\r\n",
    "\r\n",
    "for cell in datos:\r\n",
    "    hoja_1[cell].fill = relleno_celeste_claro\r\n",
    "\r\n",
    "for rangos in ['E20:E30','F20:F30','G20:G30']:\r\n",
    "    for cell in hoja_1[rangos]:\r\n",
    "        cell[0].fill = relleno_celeste_claro\r\n",
    "\r\n",
    "\"\"\"convinar celdas\"\"\"\r\n",
    "hoja_1.merge_cells(\"B19:C19\")\r\n",
    "hoja_1.merge_cells(\"B23:C23\")\r\n",
    "hoja_1.merge_cells(\"E19:G19\")\r\n",
    "\r\n",
    "\"\"\"insertar borde de la celda\"\"\"\r\n",
    "borde_grueso_4_lados = Border(left=Side(style=\"medium\"), \r\n",
    "                right=Side(style='medium'), \r\n",
    "                top=Side(style='medium'), \r\n",
    "                bottom=Side(style= 'medium')\r\n",
    "                )\r\n",
    "borde_grueso_1_lado_izquierda = Border(left=Side(style=\"medium\"), \r\n",
    "                right=Side(style=None), \r\n",
    "                top=Side(style=None), \r\n",
    "                bottom=Side(style=None)\r\n",
    "                )\r\n",
    "borde_grueso_1_lado_derecha = Border(left=Side(style=None), \r\n",
    "                right=Side(style='medium'), \r\n",
    "                top=Side(style=None), \r\n",
    "                bottom=Side(style=None)\r\n",
    "                )\r\n",
    "borde_grueso_1_lado_inferior = Border(left=Side(style=None), \r\n",
    "                right=Side(style=None), \r\n",
    "                top=Side(style=None), \r\n",
    "                bottom=Side(style='medium')\r\n",
    "                )\r\n",
    "borde_grueso_2_lados_inferior_izquierda = Border(left=Side(style=\"medium\"), \r\n",
    "                right=Side(style=None), \r\n",
    "                top=Side(style=None), \r\n",
    "                bottom=Side(style= 'medium')\r\n",
    "                )\r\n",
    "borde_grueso_2_lados_inferior_derecha = Border(left=Side(style=None), \r\n",
    "                right=Side(style='medium'), \r\n",
    "                top=Side(style=None), \r\n",
    "                bottom=Side(style= 'medium')\r\n",
    "                )\r\n",
    "\r\n",
    "for cell in encabezados:\r\n",
    "    hoja_1[cell].border = borde_grueso_4_lados\r\n",
    "\r\n",
    "for cells in [\"B20\",\"B24\"]:\r\n",
    "    hoja_1[cells].border = borde_grueso_1_lado_izquierda\r\n",
    "\r\n",
    "for cell in hoja_1[\"E20:E29\"]:\r\n",
    "    cell[0].border = borde_grueso_1_lado_izquierda\r\n",
    "\r\n",
    "for cells in [\"C20\",\"C24\"]:\r\n",
    "    hoja_1[cells].border = borde_grueso_1_lado_derecha\r\n",
    "\r\n",
    "for cell in hoja_1[\"G20:G29\"]:\r\n",
    "    cell[0].border = borde_grueso_1_lado_derecha\r\n",
    "\r\n",
    "hoja_1[\"F30\"].border = borde_grueso_1_lado_inferior\r\n",
    "\r\n",
    "for cell in [\"B21\", \"B25\", \"E30\"]:\r\n",
    "    hoja_1[cell].border = borde_grueso_2_lados_inferior_izquierda\r\n",
    "\r\n",
    "for cell in [\"C21\", \"C25\", \"G30\"]:\r\n",
    "    hoja_1[cell].border = borde_grueso_2_lados_inferior_derecha\r\n",
    "\r\n",
    "\r\n",
    "\"\"\"Inserta el tipo de letra\"\"\"\r\n",
    "tipo_letra_azul_oscuro = Font(bold= True, size=\"10\",color= \"00003366\")\r\n",
    "tipo_letra_negro = Font(bold= False, size=\"10\",color= \"00000000\")\r\n",
    "\r\n",
    "for cell in [\"B19\", \"B23\", \"E19\", \"B24\", \"C24\", \"C25\", \"E21\", \"G21\", \"F22\", \r\n",
    "            \"G22\", \"E23\", \"F23\", \"G23\", \"E26\", \"G26\", \"E27\", \"G27\", \"E28\", \r\n",
    "            \"G28\", \"E29\", \"G29\", \"E30\", \"G30\"]:\r\n",
    "    hoja_1[cell].font = tipo_letra_azul_oscuro\r\n",
    "\r\n",
    "for cell in [\"B20\", \"B21\", \"C20\", \"C21\", \"E20\", \"G20\", \"E24\", \"E25\", \"G24\", \"G25\"]:\r\n",
    "    hoja_1[cell].font = tipo_letra_negro\r\n",
    "\r\n",
    "\r\n",
    "\"\"\"Alinear la letra de la celda\"\"\"\r\n",
    "centrar = Alignment(horizontal= \"center\", vertical= \"center\")\r\n",
    "# hoja_1[\"B2\"].alignment = centrar\r\n",
    "\r\n",
    "\r\n",
    "\"\"\"textos de las celdas\"\"\"\r\n",
    "hoja_1[\"B19\"].value = \"Datos de la sección\"\r\n",
    "hoja_1[\"B20\"].value = \"Base (B)\"\r\n",
    "hoja_1[\"B21\"].value = \"Altura (H)\"\r\n",
    "\r\n",
    "hoja_1[\"B23\"].value = \"Area (S) y Perímetro (P)\"\r\n",
    "hoja_1[\"B24\"].value = \"(=)S(m2)\"\r\n",
    "hoja_1[\"B25\"].value = \"(=)P(m)\"\r\n",
    "\r\n",
    "hoja_1[\"E19\"].value = \"Datos y respuestas de perforación y voladura\"\r\n",
    "hoja_1[\"E20\"].value = \"Longitud de barrenos (pies)\"\r\n",
    "hoja_1[\"E21\"].value = \"(=) N° de taladros de perforación\"\r\n",
    "hoja_1[\"F22\"].value = \"Redondeo\"\r\n",
    "hoja_1[\"E23\"].value = \"(=) Taladros vacios\"\r\n",
    "hoja_1[\"E24\"].value = \"Eficiencia de perforación (%)\"\r\n",
    "hoja_1[\"E25\"].value = \"Eficiencia de voladura (%)\"\r\n",
    "hoja_1[\"E26\"].value = \"(=) Longitud del taladro (pies)\"\r\n",
    "hoja_1[\"E27\"].value = \"(=)Longitud del taladro (metros)\"\r\n",
    "hoja_1[\"E28\"].value = \"(=) Longitud Total perforado (metros)\"\r\n",
    "hoja_1[\"E29\"].value = \"(=) Avance por disparo (m)\"\r\n",
    "hoja_1[\"E30\"].value = \"(=) Disparo/día (rendimiento)\"\r\n",
    "\r\n",
    "\r\n",
    "\"\"\"Input de datos \"\"\"\r\n",
    "base_metros = hoja_0[\"C6\"].value\r\n",
    "altura_metros = hoja_0[\"C7\"].value\r\n",
    "\r\n",
    "longitud_barreno_pies = hoja_0[\"C9\"].value\r\n",
    "eficiencia_perforacion = hoja_0[\"C10\"].value\r\n",
    "eficiciencia_voladura = hoja_0[\"C11\"].value\r\n",
    "\r\n",
    "guardias = hoja_0[\"C12\"].value\r\n",
    "disparos = hoja_0[\"C13\"].value\r\n",
    "\r\n",
    "\r\n",
    "\"\"\"Calculos\"\"\"\r\n",
    "area = base_metros * altura_metros * 11/12\r\n",
    "perimetro = round(np.sqrt(area) * 4,3)\r\n",
    "\r\n",
    "numero_taladros = 10 * np.sqrt(area) \r\n",
    "redondeo_taladros = np.ceil(numero_taladros)\r\n",
    "taladros_vacios = 3\r\n",
    "longitud_taladro_pies = longitud_barreno_pies * eficiencia_perforacion\r\n",
    "longitud_taladro_metro = longitud_taladro_pies * 0.3048\r\n",
    "longitud_total_perforado_metro = longitud_taladro_metro * redondeo_taladros\r\n",
    "avance_disparo_metro = longitud_taladro_metro * eficiciencia_voladura\r\n",
    "rendimiento = disparos / guardias\r\n",
    "\r\n",
    "\"\"\"Output de datos\"\"\"\r\n",
    "hoja_1[\"C20\"].value = base_metros\r\n",
    "hoja_1[\"C21\"].value = altura_metros\r\n",
    "\r\n",
    "hoja_1[\"C24\"].value = area\r\n",
    "hoja_1[\"C25\"].value = perimetro\r\n",
    "\r\n",
    "hoja_1[\"G20\"].value = longitud_barreno_pies\r\n",
    "hoja_1[\"G21\"].value = numero_taladros\r\n",
    "hoja_1[\"G22\"].value = redondeo_taladros\r\n",
    "hoja_1[\"G23\"].value = taladros_vacios\r\n",
    "hoja_1[\"G24\"].value = eficiencia_perforacion\r\n",
    "hoja_1[\"G25\"].value = eficiciencia_voladura\r\n",
    "hoja_1[\"G26\"].value = longitud_taladro_pies\r\n",
    "hoja_1[\"G27\"].value = longitud_taladro_metro\r\n",
    "hoja_1[\"G28\"].value = longitud_total_perforado_metro\r\n",
    "hoja_1[\"G29\"].value = avance_disparo_metro\r\n",
    "hoja_1[\"G30\"].value = rendimiento\r\n"
   ],
   "outputs": [],
   "metadata": {}
  },
  {
   "cell_type": "code",
   "execution_count": null,
   "source": [
    "libro.save(\"Output.xlsx\")"
   ],
   "outputs": [
    {
     "output_type": "error",
     "ename": "NameError",
     "evalue": "name 'libro' is not defined",
     "traceback": [
      "\u001b[1;31m---------------------------------------------------------------------------\u001b[0m",
      "\u001b[1;31mNameError\u001b[0m                                 Traceback (most recent call last)",
      "\u001b[1;32m<ipython-input-1-6139fe57ee0c>\u001b[0m in \u001b[0;36m<module>\u001b[1;34m\u001b[0m\n\u001b[1;32m----> 1\u001b[1;33m \u001b[0mlibro\u001b[0m\u001b[1;33m.\u001b[0m\u001b[0msave\u001b[0m\u001b[1;33m(\u001b[0m\u001b[1;34m\"Output.xlsx\"\u001b[0m\u001b[1;33m)\u001b[0m\u001b[1;33m\u001b[0m\u001b[1;33m\u001b[0m\u001b[0m\n\u001b[0m",
      "\u001b[1;31mNameError\u001b[0m: name 'libro' is not defined"
     ]
    }
   ],
   "metadata": {}
  },
  {
   "cell_type": "markdown",
   "source": [
    "## Praciting 4"
   ],
   "metadata": {}
  },
  {
   "cell_type": "code",
   "execution_count": null,
   "source": [
    "from openpyxl import Workbook\r\n",
    "from openpyxl.chart import BarChart, Reference\r\n",
    "\r\n",
    "workbook = Workbook()\r\n",
    "sheet = workbook.active\r\n",
    "\r\n",
    "# Let's create some sample sales data\r\n",
    "rows = [\r\n",
    "    [\"Product\", \"Online\", \"Store\"],\r\n",
    "    [1, 30, 45],\r\n",
    "    [2, 40, 30],\r\n",
    "    [3, 40, 25],\r\n",
    "    [4, 50, 30],\r\n",
    "    [5, 30, 25],\r\n",
    "    [6, 25, 35],\r\n",
    "    [7, 20, 40],\r\n",
    "]\r\n",
    "\r\n",
    "for row in rows:\r\n",
    "    sheet.append(row)\r\n",
    "\r\n",
    "chart = BarChart()\r\n",
    "data = Reference(worksheet=sheet,\r\n",
    "                 min_row=1,\r\n",
    "                 max_row=8,\r\n",
    "                 min_col=2,\r\n",
    "                 max_col=3)\r\n",
    "\r\n",
    "chart.add_data(data, titles_from_data=True)\r\n",
    "sheet.add_chart(chart, \"E2\")\r\n",
    "\r\n",
    "workbook.save(filename = \"Prueba.xlsx\")"
   ],
   "outputs": [],
   "metadata": {}
  },
  {
   "cell_type": "code",
   "execution_count": null,
   "source": [
    "from dataclasses import dataclass\r\n",
    "from typing import List\r\n",
    "\r\n",
    "@dataclass\r\n",
    "class Sale:\r\n",
    "    quantity: int\r\n",
    "\r\n",
    "@dataclass\r\n",
    "class Product:\r\n",
    "    id: str\r\n",
    "    name: str\r\n",
    "    sales: List[Sale]\r\n",
    "\r\n",
    "import random\r\n",
    "\r\n",
    "# Ignore these for now. You'll use them in a sec ;)\r\n",
    "from openpyxl import Workbook\r\n",
    "from openpyxl.chart import LineChart, Reference\r\n",
    "\r\n",
    "from db_classes import Product, Sale\r\n",
    "\r\n",
    "products = []\r\n",
    "\r\n",
    "# Let's create 5 products\r\n",
    "for idx in range(1, 6):\r\n",
    "    sales = []\r\n",
    "\r\n",
    "    # Create 5 months of sales\r\n",
    "    for _ in range(5):\r\n",
    "        sale = Sale(quantity=random.randrange(5, 100))\r\n",
    "        sales.append(sale)\r\n",
    "\r\n",
    "    product = Product(id=str(idx),\r\n",
    "                      name=\"Product %s\" % idx,\r\n",
    "                      sales=sales)\r\n",
    "    products.append(product)\r\n",
    "\r\n"
   ],
   "outputs": [],
   "metadata": {}
  },
  {
   "cell_type": "markdown",
   "source": [
    "# Working with DataFrame"
   ],
   "metadata": {}
  },
  {
   "cell_type": "code",
   "execution_count": null,
   "source": [
    "import pandas as pd\r\n",
    "\r\n",
    "data = {\r\n",
    "    \"Product Name\": [\"Product 1\", \"Product 2\"],\r\n",
    "    \"Sales Month 1\": [10, 20],\r\n",
    "    \"Sales Month 2\": [5, 35]\r\n",
    "}\r\n",
    "df = pd.DataFrame(data)"
   ],
   "outputs": [],
   "metadata": {}
  },
  {
   "cell_type": "code",
   "execution_count": null,
   "source": [
    "from openpyxl import Workbook\r\n",
    "from openpyxl.utils.dataframe import dataframe_to_rows\r\n",
    "\r\n",
    "\r\n",
    "workbook = Workbook()\r\n",
    "sheet = workbook.active\r\n",
    "\r\n",
    "for row in dataframe_to_rows(df, index=False, header=True):\r\n",
    "    sheet.append(row)\r\n"
   ],
   "outputs": [],
   "metadata": {}
  },
  {
   "cell_type": "code",
   "execution_count": null,
   "source": [
    "from openpyxl.utils.dataframe import dataframe_to_rows\r\n",
    "from openpyxl.styles import PatternFill, Border, Side, Font, Alignment\r\n",
    "\r\n",
    "tipo_letra_azul_oscuro = Font(bold= True, size='11',color= '00003366')\r\n",
    "tipo_letra_negro = Font(bold= False, size=\"11\",color= \"00000000\")\r\n",
    "    \r\n",
    "for row in sheet.iter_rows():\r\n",
    "    print(row)"
   ],
   "outputs": [
    {
     "output_type": "stream",
     "name": "stdout",
     "text": [
      "(<Cell 'Sheet'.A1>, <Cell 'Sheet'.B1>, <Cell 'Sheet'.C1>)\n",
      "(<Cell 'Sheet'.A2>, <Cell 'Sheet'.B2>, <Cell 'Sheet'.C2>)\n",
      "(<Cell 'Sheet'.A3>, <Cell 'Sheet'.B3>, <Cell 'Sheet'.C3>)\n"
     ]
    }
   ],
   "metadata": {}
  },
  {
   "cell_type": "code",
   "execution_count": null,
   "source": [
    "workbook.save(\"panda.xlsx\")"
   ],
   "outputs": [],
   "metadata": {}
  },
  {
   "cell_type": "markdown",
   "source": [
    "# Practicing"
   ],
   "metadata": {}
  },
  {
   "cell_type": "markdown",
   "source": [
    "## padas a tabla manual"
   ],
   "metadata": {}
  },
  {
   "cell_type": "code",
   "execution_count": null,
   "source": [
    "import openpyxl\r\n",
    "import string \r\n",
    "from openpyxl.styles import PatternFill, Border, Side, Font, Alignment\r\n",
    "\r\n",
    "def apply(wb: openpyxl.Workbook) -> openpyxl.Workbook:\r\n",
    "    ws = wb[wb.sheetnames[0]]\r\n",
    "    ws.sheet_view.showGridLines = False\r\n",
    "    ws.sheet_view.zoomScale = 85\r\n",
    "\r\n",
    "    for column in [i for i in string.ascii_uppercase]:\r\n",
    "        ws.column_dimensions[column].width = 17\r\n",
    "        \r\n",
    "    #Fuente\r\n",
    "    tipo_letra_azul_oscuro = Font(bold= True, size='11',color= '00003366')\r\n",
    "\r\n",
    "    #Centra la Fuente\r\n",
    "    alinear_fuente = Alignment(horizontal= \"center\", vertical= \"center\")\r\n",
    "\r\n",
    "    \"\"\"color de celda\"\"\"\r\n",
    "    relleno_rojo = PatternFill(\r\n",
    "                            start_color= \"FF0A0A\",\r\n",
    "                            end_color= \"0033CCCC\",\r\n",
    "                            fill_type= \"solid\"\r\n",
    "                            )\r\n",
    "    relleno_celeste_oscuro = PatternFill(\r\n",
    "                            start_color= \"0033CCCC\",\r\n",
    "                            end_color= \"0033CCCC\",\r\n",
    "                            fill_type= \"solid\"\r\n",
    "                            )\r\n",
    "    #itera la priemra fila\r\n",
    "    for cell in ws[1]:\r\n",
    "        cell.fill = relleno_celeste_oscuro\r\n",
    "        cell.font = tipo_letra_azul_oscuro\r\n",
    "\r\n",
    "\r\n",
    "    #itera el contenido de la tabla\r\n",
    "    for row in ws.iter_rows(min_row=2, max_row=ws.max_row, min_col=1, max_col=7):\r\n",
    "        for cell in row:\r\n",
    "            cell.fill = relleno_rojo\r\n",
    "            cell.font = tipo_letra_azul_oscuro\r\n",
    "            cell.alignment = alinear_fuente\r\n",
    "\r\n"
   ],
   "outputs": [],
   "metadata": {}
  },
  {
   "cell_type": "code",
   "execution_count": null,
   "source": [
    "ws.max_column, ws.max_row, ws.min_column, ws.min_row\r\n",
    "# for row in ws.iter_rows('A{}:A{}'.format(ws.min_row,ws.max_row)):\r\n",
    "#     pass"
   ],
   "outputs": [
    {
     "output_type": "execute_result",
     "data": {
      "text/plain": [
       "(6, 5, 1, 1)"
      ]
     },
     "metadata": {},
     "execution_count": 187
    }
   ],
   "metadata": {}
  },
  {
   "cell_type": "code",
   "execution_count": null,
   "source": [
    "import pandas as pd\r\n",
    "\r\n",
    "data = {\r\n",
    "    \"Product Name\": [\"Product 1\", \"Product 2\", \"Product 3\", \"Product 4\"],\r\n",
    "    \"Sales Month 1\": [10, 20, 10, 20],\r\n",
    "    \"Sales Month 2\": [5, 35, 10, 20],\r\n",
    "    \"Sales Month 3\": [10, 20, 10, 20],\r\n",
    "    \"Sales Month 4\": [5, 35, 10, 20],\r\n",
    "    \"Sales Month 5\": [10, 20, 10, 20],\r\n",
    "    \"Sales Month 6\": [5, 35, 10, 20],\r\n",
    "}\r\n",
    "df = pd.DataFrame(data)"
   ],
   "outputs": [],
   "metadata": {}
  },
  {
   "cell_type": "code",
   "execution_count": null,
   "source": [
    "from openpyxl import Workbook\r\n",
    "from openpyxl.utils.dataframe import dataframe_to_rows\r\n",
    "\r\n",
    "workbook = Workbook()\r\n",
    "sheet = workbook.active\r\n",
    "\r\n",
    "for row in dataframe_to_rows(df, index=False, header=True):\r\n",
    "    sheet.append(row)\r\n",
    "\r\n",
    "apply(workbook)\r\n",
    "workbook.save(\"pandas16.xlsx\")"
   ],
   "outputs": [
    {
     "output_type": "error",
     "ename": "NameError",
     "evalue": "name 'apply' is not defined",
     "traceback": [
      "\u001b[1;31m---------------------------------------------------------------------------\u001b[0m",
      "\u001b[1;31mNameError\u001b[0m                                 Traceback (most recent call last)",
      "\u001b[1;32m<ipython-input-2-e97ba3442de3>\u001b[0m in \u001b[0;36m<module>\u001b[1;34m\u001b[0m\n\u001b[0;32m      8\u001b[0m     \u001b[0msheet\u001b[0m\u001b[1;33m.\u001b[0m\u001b[0mappend\u001b[0m\u001b[1;33m(\u001b[0m\u001b[0mrow\u001b[0m\u001b[1;33m)\u001b[0m\u001b[1;33m\u001b[0m\u001b[1;33m\u001b[0m\u001b[0m\n\u001b[0;32m      9\u001b[0m \u001b[1;33m\u001b[0m\u001b[0m\n\u001b[1;32m---> 10\u001b[1;33m \u001b[0mapply\u001b[0m\u001b[1;33m(\u001b[0m\u001b[0mworkbook\u001b[0m\u001b[1;33m)\u001b[0m\u001b[1;33m\u001b[0m\u001b[1;33m\u001b[0m\u001b[0m\n\u001b[0m\u001b[0;32m     11\u001b[0m \u001b[0mworkbook\u001b[0m\u001b[1;33m.\u001b[0m\u001b[0msave\u001b[0m\u001b[1;33m(\u001b[0m\u001b[1;34m\"pandas16.xlsx\"\u001b[0m\u001b[1;33m)\u001b[0m\u001b[1;33m\u001b[0m\u001b[1;33m\u001b[0m\u001b[0m\n",
      "\u001b[1;31mNameError\u001b[0m: name 'apply' is not defined"
     ]
    }
   ],
   "metadata": {}
  },
  {
   "cell_type": "code",
   "execution_count": null,
   "source": [],
   "outputs": [],
   "metadata": {}
  },
  {
   "cell_type": "code",
   "execution_count": null,
   "source": [],
   "outputs": [],
   "metadata": {}
  },
  {
   "cell_type": "markdown",
   "source": [
    "## de pandas a tabla pivot de excel"
   ],
   "metadata": {}
  },
  {
   "cell_type": "code",
   "execution_count": 21,
   "source": [
    "\r\n",
    "from openpyxl import Workbook\r\n",
    "from openpyxl.worksheet.table import Table, TableStyleInfo\r\n",
    "from openpyxl.utils.dataframe import dataframe_to_rows\r\n",
    "from openpyxl.styles import Font, Alignment, Border, Side, PatternFill\r\n",
    "import pandas as pd\r\n",
    "import string\r\n",
    "import numpy\r\n",
    "\r\n",
    "# Creando el libro de excel\r\n",
    "wb = Workbook()\r\n",
    "ws = wb.create_sheet('pandas', index = 0)\r\n",
    "\r\n",
    "#Propiedades\r\n",
    "ws.sheet_view.showGridLines = False\r\n",
    "ws.sheet_view.zoomScale = 85\r\n",
    "\r\n",
    "for column in [\"A\",\"B\",\"C\",\"D\",\"E\",\"F\"]:\r\n",
    "    ws.column_dimensions[column].width = 17\r\n",
    "\r\n",
    "data = {\r\n",
    "    \"Product Name\": [\"ID\", \"Product 0\", \"Product 1\", \"Product 2\", \"Product 3\", \"Product 4\",\"Product 5\"],\r\n",
    "    \"Sales Month 1\": [30, 30, 30, 20, 20, 20, 10],\r\n",
    "    \"Sales Month 2\": [30, 30, 5, 5, 35, 10, 20],\r\n",
    "    \"Sales Month 3\": [30,30, 5, 10, 20, 10, 20],\r\n",
    "    \"Sales Month 4\": [30, 30, 5, 5, 35, 10, 20],\r\n",
    "    \"Calificación\": ['0', '0', '1', '1', '1', '2', '2'],\r\n",
    "    \"Sales Month 6\": [ 20 , 30, 5, 5, 35, 10, 20],\r\n",
    "}\r\n",
    "\r\n",
    "df = pd.DataFrame(data)\r\n",
    "df = df.set_index(df.columns[0])\r\n",
    "\r\n",
    "\"\"\"introduciendo los datos\"\"\"\r\n",
    "for row in dataframe_to_rows(df, index = False, header=True):\r\n",
    "    ws.append(row)\r\n",
    "\r\n",
    "\r\n",
    "\"\"\"creando la tabla\"\"\"\r\n",
    "#creando matriz de toda la tabla con datos\r\n",
    "#obtener el la celda inicial y el final\r\n",
    "table = []\r\n",
    "for row in ws.iter_rows(min_row=ws.min_row, max_row=ws.max_row, min_col=ws.min_column, max_col=ws.max_column):\r\n",
    "    for cell in row:\r\n",
    "       table.append(cell.coordinate)\r\n",
    "datos = numpy.array(table).reshape(ws.max_row, ws.max_column)\r\n",
    "Rango_total = datos[0,0] + ':' + datos[-1,-1]\r\n",
    "\r\n",
    "#introduciendo los datos\r\n",
    "tab = Table(displayName=\"Table1\", ref= Rango_total)\r\n",
    "estilo_tabla = TableStyleInfo(name=\"TableStyleMedium13\", showFirstColumn=False,\r\n",
    "                       showLastColumn=False, showRowStripes=False, showColumnStripes=False)\r\n",
    "tab.tableStyleInfo = estilo_tabla\r\n",
    "ws.add_table(tab)\r\n",
    "\r\n",
    "\"\"\"Aplicando estilos\"\"\"\r\n",
    "#Fuente\r\n",
    "fuente_letra_azul_oscuro = Font(bold= True, size='11',color= '00003366')\r\n",
    "\r\n",
    "#Alineamiento\r\n",
    "alinear_centro = Alignment(horizontal = 'center', vertical = 'center')\r\n",
    "\r\n",
    "#borde\r\n",
    "borde_2_lados_derecha_Izquierda = Border(\r\n",
    "                        left=Side(style='thin'),  \r\n",
    "                        right=Side(style='thin'), \r\n",
    "                        top=Side(style=None), \r\n",
    "                        bottom=Side(style=None)\r\n",
    "                        )\r\n",
    "borde_1_lado_abajo = Border(\r\n",
    "                        left=Side(style='thin'),  \r\n",
    "                        right=Side(style='thin'), \r\n",
    "                        top=Side(style=None), \r\n",
    "                        bottom=Side(style='thin')\r\n",
    "                        )\r\n",
    "\r\n",
    "\"\"\"Estilo de la cabeza\"\"\"\r\n",
    "for row in ws.iter_rows(min_row=2, max_row=ws.max_row, min_col=1, max_col=ws.max_column):\r\n",
    "    for cell in row:\r\n",
    "        cell.font = fuente_letra_azul_oscuro \r\n",
    "#       cell.fill = relleno_gris_claro       \r\n",
    "        cell.alignment = alinear_centro\r\n",
    "        cell.border = borde_2_lados_derecha_Izquierda\r\n",
    "\r\n",
    "\"\"\"Creando los bordes para cada piso\"\"\" \r\n",
    "columna = []\r\n",
    "for row in ws.iter_rows(min_row=ws.min_row + 1, max_row=ws.max_row, min_col=ws.min_column, max_col=ws.min_column):\r\n",
    "    for cell in row:\r\n",
    "        columna.append(cell.value)\r\n",
    "\r\n",
    "conjunto = list(set(columna))[::-1]\r\n",
    "numero_filas = [columna.count(i) for i in conjunto]\r\n",
    "a = numpy.cumsum(numero_filas)\r\n",
    "for i in a:\r\n",
    "    celda = i + 1\r\n",
    "    for cell in ws[f\"{celda}\"]:\r\n",
    "        cell.border = borde_1_lado_abajo\r\n",
    "\r\n",
    "\"\"\"exportando la libro \"\"\"\r\n",
    "wb.save(\"pandas38.xlsx\")\r\n"
   ],
   "outputs": [],
   "metadata": {}
  },
  {
   "cell_type": "code",
   "execution_count": 22,
   "source": [
    "\"\"\"pintar de color las filas\"\"\"\r\n",
    "relleno_azul_categoria_1 = PatternFill(\r\n",
    "                        start_color= '64F5DA',\r\n",
    "                        end_color= '64F5DA',\r\n",
    "                        fill_type= 'solid'\r\n",
    "                        )\r\n",
    "relleno_azul_categoria_2 = PatternFill(\r\n",
    "                        start_color= '55C6D6',\r\n",
    "                        end_color= '55C6D6',\r\n",
    "                        fill_type= 'solid'\r\n",
    "                        )\r\n",
    "relleno_azul_categoria_3 = PatternFill(\r\n",
    "                        start_color= '4787B7',\r\n",
    "                        end_color= '4787B7',\r\n",
    "                        fill_type= 'solid'\r\n",
    "                        )\r\n",
    "relleno_azul_categoria_4 = PatternFill(\r\n",
    "                        start_color= '395297',\r\n",
    "                        end_color= '395297',\r\n",
    "                        fill_type= 'solid'\r\n",
    "                        )\r\n",
    "relleno_azul_categoria_5 = PatternFill(\r\n",
    "                        start_color= '2F2C76',\r\n",
    "                        end_color= '2F2C76',\r\n",
    "                        fill_type= 'solid'\r\n",
    "                        )\r\n",
    "\r\n",
    "table = []\r\n",
    "for row in ws.iter_rows(min_row=ws.min_row, max_row=ws.max_row, min_col=ws.min_column, max_col=ws.max_column):\r\n",
    "    for cell in row:\r\n",
    "       table.append(cell)\r\n",
    "datos = numpy.array(table).reshape(ws.max_row, ws.max_column)\r\n",
    "\r\n",
    "\r\n",
    "for cell in ws[ws.min_row]:\r\n",
    "    if cell.value == 'Calificación':\r\n",
    "        for backbone_index in datos[1:,cell.column-1]:\r\n",
    "            valor = int(backbone_index.value)\r\n",
    "            if valor == 1:   \r\n",
    "                for _cell in ws[backbone_index.row]:\r\n",
    "                    _cell.fill = relleno_azul_categoria_1\r\n",
    "            if valor == 2:   \r\n",
    "                for _cell in ws[backbone_index.row]:\r\n",
    "                    _cell.fill = relleno_azul_categoria_2\r\n",
    "            if valor == 3:   \r\n",
    "                for _cell in ws[backbone_index.row]:\r\n",
    "                    _cell.fill = relleno_azul_categoria_3\r\n",
    "            if valor == 4:   \r\n",
    "                for _cell in ws[backbone_index.row]:\r\n",
    "                    _cell.fill = relleno_azul_categoria_4\r\n",
    "            if valor == 5:   \r\n",
    "                for _cell in ws[backbone_index.row]:\r\n",
    "                    _cell.fill = relleno_azul_categoria_5\r\n",
    "            else:\r\n",
    "                next\r\n",
    "    else:\r\n",
    "        next\r\n",
    "        "
   ],
   "outputs": [],
   "metadata": {}
  },
  {
   "cell_type": "code",
   "execution_count": 23,
   "source": [
    "\"\"\"insertar comentario en los encabezados\"\"\"\r\n",
    "from openpyxl.comments import Comment\r\n",
    "comment = Comment(\"este es un mensaje que estoy haciendo, asi que es prueba\", \"columna 1\")\r\n",
    "comment.width = 150\r\n",
    "comment.height = 50\r\n",
    "ws[\"A1\"].comment = comment\r\n",
    "ws[\"B1\"].comment = comment\r\n",
    "ws[\"C1\"].comment = comment\r\n",
    "ws[\"D1\"].comment = comment\r\n",
    "ws[\"E1\"].comment = comment\r\n",
    "\r\n",
    "\r\n",
    "ws.protection.sheet = True\r\n",
    "\r\n",
    "wb.save('pandas37.xlsx')\r\n"
   ],
   "outputs": [],
   "metadata": {}
  },
  {
   "cell_type": "code",
   "execution_count": 27,
   "source": [
    "\"\"\"border by Calificacion\"\"\"\r\n",
    "table = []\r\n",
    "for row in ws.iter_rows(min_row=ws.min_row, max_row=ws.max_row, min_col=ws.min_column, max_col=ws.max_column):\r\n",
    "    for cell in row:\r\n",
    "       table.append(cell)\r\n",
    "datos = numpy.array(table).reshape(ws.max_row, ws.max_column)\r\n",
    "datos\r\n",
    "\r\n",
    "for cell in ws[ws.min_row]:\r\n",
    "    if cell.value == 'Calificación':\r\n",
    "        for backbone_index in datos[1:,cell.column-1]:\r\n",
    "           print(backbone_index)\r\n",
    "    else:\r\n",
    "        next"
   ],
   "outputs": [
    {
     "output_type": "stream",
     "name": "stdout",
     "text": [
      "<Cell 'pandas'.E2>\n",
      "<Cell 'pandas'.E3>\n",
      "<Cell 'pandas'.E4>\n",
      "<Cell 'pandas'.E5>\n",
      "<Cell 'pandas'.E6>\n",
      "<Cell 'pandas'.E7>\n",
      "<Cell 'pandas'.E8>\n"
     ]
    }
   ],
   "metadata": {}
  },
  {
   "cell_type": "code",
   "execution_count": 99,
   "source": [
    "from openpyxl import Workbook\r\n",
    "from openpyxl.comments import Comment\r\n",
    "from openpyxl.utils import units\r\n",
    "wb = Workbook()\r\n",
    "ws = wb.active\r\n",
    "# comment = ws[\"A1\"].comment\r\n",
    "# comment = Comment('This is the comment text', 'Comment Author')\r\n",
    "\r\n",
    "comment = Comment(\"este es un mensaje que estoy haciendo, asi que es prueba\", \"columna 1\")\r\n",
    "comment.width = 300\r\n",
    "comment.height = 50\r\n",
    "ws[\"A1\"].comment = comment\r\n",
    "ws[\"B2\"].comment = comment\r\n",
    "\r\n",
    "# comment = Comment(\"Text\", \"Author\")\r\n",
    "# comment.width = 300\r\n",
    "# comment.height = 50\r\n",
    "\r\n",
    "# ws[\"A1\"].comment = comment\r\n",
    "\r\n",
    "# comment = Comment(\"Text\", \"Author\")\r\n",
    "# comment.width = units.points_to_pixels(300)\r\n",
    "# comment.height = units.points_to_pixels(50)\r\n",
    "# ws[\"C1\"].comment = comment\r\n",
    "\r\n",
    "wb.save('pandas37.xlsx')"
   ],
   "outputs": [],
   "metadata": {}
  }
 ],
 "metadata": {
  "orig_nbformat": 4,
  "language_info": {
   "name": "python",
   "version": "3.8.8",
   "mimetype": "text/x-python",
   "codemirror_mode": {
    "name": "ipython",
    "version": 3
   },
   "pygments_lexer": "ipython3",
   "nbconvert_exporter": "python",
   "file_extension": ".py"
  },
  "kernelspec": {
   "name": "python3",
   "display_name": "Python 3.8.8 64-bit ('base': conda)"
  },
  "interpreter": {
   "hash": "1e915f0a29dc84041eaeb02b7b1a21c440e37a87b61d44d5e84a515737dc82bc"
  }
 },
 "nbformat": 4,
 "nbformat_minor": 2
}