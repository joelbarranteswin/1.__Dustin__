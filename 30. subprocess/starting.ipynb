{
 "cells": [
  {
   "cell_type": "code",
   "execution_count": 12,
   "metadata": {},
   "outputs": [],
   "source": [
    "import subprocess\n",
    "from pyautocad import Autocad, APoint, aDouble\n",
    "import win32com.client\n",
    "from pathlib import Path\n",
    "import os\n",
    "import time\n",
    "\n",
    "acadiso = win32com.client.dynamic.Dispatch(\"AutoCAD.Application\")\n",
    "acadiso.Visible = True\n",
    "acadiso.Documents.Open(\n",
    "    str(Path('C:/Users/joel_/OneDrive/Escritorio', 'acadiso.dwg')))\n",
    "time.sleep(20)\n",
    "acad = Autocad()\n",
    "# acad.doc.FullName\n",
    "p0 = APoint(0,0)\n",
    "p1 = APoint(0,2)\n",
    "acad.model.AddEllipse(p0, p1, 0.5)\n",
    "acad.doc.SaveAs(str(Path('C:/Users/joel_/OneDrive/Escritorio', 'felipe.dwg')))\n",
    "# acadiso.Application.Quit()\n"
   ]
  },
  {
   "cell_type": "code",
   "execution_count": 9,
   "metadata": {},
   "outputs": [
    {
     "data": {
      "text/plain": [
       "0"
      ]
     },
     "execution_count": 9,
     "metadata": {},
     "output_type": "execute_result"
    }
   ],
   "source": [
    "subprocess.call([\"taskkill\",\"/F\",\"/IM\",\"acad.exe\"])"
   ]
  },
  {
   "cell_type": "code",
   "execution_count": 11,
   "metadata": {},
   "outputs": [
    {
     "ename": "FileNotFoundError",
     "evalue": "[WinError 2] El sistema no puede encontrar el archivo especificado: 'C:\\\\Users\\\\joel_\\\\OneDrive\\\\Escritorio\\\\felipe.dwl'",
     "output_type": "error",
     "traceback": [
      "\u001b[1;31m---------------------------------------------------------------------------\u001b[0m",
      "\u001b[1;31mFileNotFoundError\u001b[0m                         Traceback (most recent call last)",
      "\u001b[1;32mc:\\Users\\joel_\\OneDrive\\Documentos\\GitHub\\1.__Dustin__\\30. subprocess\\starting.ipynb Cell 3'\u001b[0m in \u001b[0;36m<module>\u001b[1;34m\u001b[0m\n\u001b[0;32m      <a href='vscode-notebook-cell:/c%3A/Users/joel_/OneDrive/Documentos/GitHub/1.__Dustin__/30.%20subprocess/starting.ipynb#ch0000025?line=0'>1</a>\u001b[0m \u001b[39mimport\u001b[39;00m \u001b[39mos\u001b[39;00m\n\u001b[1;32m----> <a href='vscode-notebook-cell:/c%3A/Users/joel_/OneDrive/Documentos/GitHub/1.__Dustin__/30.%20subprocess/starting.ipynb#ch0000025?line=1'>2</a>\u001b[0m os\u001b[39m.\u001b[39;49munlink(\u001b[39mstr\u001b[39;49m(Path(\u001b[39m'\u001b[39;49m\u001b[39mC:/Users/joel_/OneDrive/Escritorio\u001b[39;49m\u001b[39m'\u001b[39;49m, \u001b[39m'\u001b[39;49m\u001b[39mfelipe.dwl\u001b[39;49m\u001b[39m'\u001b[39;49m)))\n\u001b[0;32m      <a href='vscode-notebook-cell:/c%3A/Users/joel_/OneDrive/Documentos/GitHub/1.__Dustin__/30.%20subprocess/starting.ipynb#ch0000025?line=2'>3</a>\u001b[0m os\u001b[39m.\u001b[39munlink(\u001b[39mstr\u001b[39m(Path(\u001b[39m'\u001b[39m\u001b[39mC:/Users/joel_/OneDrive/Escritorio\u001b[39m\u001b[39m'\u001b[39m, \u001b[39m'\u001b[39m\u001b[39mfelipe.dwl2\u001b[39m\u001b[39m'\u001b[39m)))\n",
      "\u001b[1;31mFileNotFoundError\u001b[0m: [WinError 2] El sistema no puede encontrar el archivo especificado: 'C:\\\\Users\\\\joel_\\\\OneDrive\\\\Escritorio\\\\felipe.dwl'"
     ]
    }
   ],
   "source": [
    "import os\n",
    "os.unlink(str(Path('C:/Users/joel_/OneDrive/Escritorio', 'felipe.dwl')))\n",
    "os.unlink(str(Path('C:/Users/joel_/OneDrive/Escritorio', 'felipe.dwl2')))"
   ]
  },
  {
   "cell_type": "code",
   "execution_count": 5,
   "metadata": {},
   "outputs": [
    {
     "data": {
      "text/plain": [
       "'C:\\\\Users\\\\joel_\\\\OneDrive\\\\Escritorio\\\\acadiso.dwg'"
      ]
     },
     "execution_count": 5,
     "metadata": {},
     "output_type": "execute_result"
    }
   ],
   "source": [
    "acad.doc.FullName"
   ]
  },
  {
   "cell_type": "code",
   "execution_count": 31,
   "metadata": {},
   "outputs": [
    {
     "data": {
      "text/plain": [
       "0"
      ]
     },
     "execution_count": 31,
     "metadata": {},
     "output_type": "execute_result"
    }
   ],
   "source": [
    "acad = Autocad()\n",
    "# \n",
    "p0 = APoint(0,0)\n",
    "p1 = APoint(0,2)\n",
    "acad.model.AddEllipse(p0, p1, 0.5)"
   ]
  },
  {
   "cell_type": "code",
   "execution_count": 16,
   "metadata": {},
   "outputs": [
    {
     "data": {
      "text/plain": [
       "'C:/Program Files/Autodesk/AutoCAD 2022/acad.exe'"
      ]
     },
     "execution_count": 16,
     "metadata": {},
     "output_type": "execute_result"
    }
   ],
   "source": [
    "import subprocess\n",
    "from pyautocad import Autocad, APoint, aDouble\n",
    "\n",
    "# path = 'C:/Users/joel_/AppData/Local/Autodesk/AutoCAD 2022/R24.1/enu/Template/acadiso.dwt'\n",
    "path = 'C:\\Program Files\\Autodesk\\AutoCAD 2022\\\\acad.exe'\n",
    "path = path.replace('\\\\', '/')\n",
    "path \n",
    "\n"
   ]
  },
  {
   "cell_type": "code",
   "execution_count": 1,
   "metadata": {},
   "outputs": [],
   "source": [
    "import subprocess\n",
    "from pyautocad import Autocad, APoint, aDouble\n",
    "import win32com.client\n",
    "from pathlib import Path\n",
    "import os\n",
    "\n",
    "path = 'C:\\Program Files\\Autodesk\\AutoCAD 2022\\\\acad.exe'\n",
    "path = path.replace('\\\\', '/')\n",
    "software = subprocess.Popen([path])"
   ]
  },
  {
   "cell_type": "code",
   "execution_count": 17,
   "metadata": {},
   "outputs": [],
   "source": [
    "\n",
    "import win32com.client\n",
    "from pathlib import Path\n",
    "\n",
    "\n",
    "software = subprocess.Popen([path])\n"
   ]
  },
  {
   "cell_type": "code",
   "execution_count": 21,
   "metadata": {},
   "outputs": [
    {
     "data": {
      "text/plain": [
       "<COMObject Open>"
      ]
     },
     "execution_count": 21,
     "metadata": {},
     "output_type": "execute_result"
    }
   ],
   "source": [
    "acadiso = win32com.client.dynamic.Dispatch(\"AutoCAD.Application\")\n",
    "# acadiso.Visible = True\n",
    "acadiso.Documents.Open(\n",
    "    str(Path('C:/Users/joel_/OneDrive/Escritorio', 'acadiso.dwg')))"
   ]
  },
  {
   "cell_type": "code",
   "execution_count": 22,
   "metadata": {},
   "outputs": [],
   "source": [
    "from pathlib import Path\n",
    "acad = Autocad()"
   ]
  },
  {
   "cell_type": "code",
   "execution_count": 23,
   "metadata": {},
   "outputs": [
    {
     "data": {
      "text/plain": [
       "'acadiso.dwg'"
      ]
     },
     "execution_count": 23,
     "metadata": {},
     "output_type": "execute_result"
    }
   ],
   "source": [
    "\n",
    "acad.doc.Name"
   ]
  },
  {
   "cell_type": "code",
   "execution_count": 24,
   "metadata": {},
   "outputs": [],
   "source": [
    "acad.doc.FullName\n",
    "p0 = APoint(0,0)\n",
    "p1 = APoint(0,2)\n",
    "acad.model.AddEllipse(p0, p1, 0.5)\n",
    "acad.doc.SaveAs(str(Path('C:/Users/joel_/OneDrive/Escritorio', 'felipe.dwg')))"
   ]
  },
  {
   "cell_type": "code",
   "execution_count": 26,
   "metadata": {},
   "outputs": [],
   "source": [
    "import os\n",
    "os.unlink(str(Path('C:/Users/joel_/OneDrive/Escritorio', 'felipe.dwl')))\n",
    "os.unlink(str(Path('C:/Users/joel_/OneDrive/Escritorio', 'felipe.dwl2')))"
   ]
  },
  {
   "cell_type": "code",
   "execution_count": 3,
   "metadata": {},
   "outputs": [],
   "source": [
    "# autocad = subprocess.call([path])\n",
    "# autocad.wait()\n",
    "# autocad.kill()"
   ]
  },
  {
   "cell_type": "code",
   "execution_count": 25,
   "metadata": {},
   "outputs": [],
   "source": [
    "software.terminate()"
   ]
  },
  {
   "cell_type": "code",
   "execution_count": 2,
   "metadata": {},
   "outputs": [],
   "source": [
    "#, "
   ]
  },
  {
   "cell_type": "code",
   "execution_count": 3,
   "metadata": {},
   "outputs": [
    {
     "data": {
      "text/plain": [
       "<COMObject Open>"
      ]
     },
     "execution_count": 3,
     "metadata": {},
     "output_type": "execute_result"
    }
   ],
   "source": [
    "\n",
    "\n"
   ]
  },
  {
   "cell_type": "code",
   "execution_count": 4,
   "metadata": {},
   "outputs": [],
   "source": [
    "\n",
    "# acad.prompt(\"Hello, Autocad from Python\\n\")"
   ]
  },
  {
   "cell_type": "code",
   "execution_count": 5,
   "metadata": {},
   "outputs": [
    {
     "data": {
      "text/plain": [
       "'acadiso.dwt'"
      ]
     },
     "execution_count": 5,
     "metadata": {},
     "output_type": "execute_result"
    }
   ],
   "source": [
    "\n"
   ]
  },
  {
   "cell_type": "code",
   "execution_count": 6,
   "metadata": {},
   "outputs": [
    {
     "data": {
      "text/plain": [
       "'C:\\\\Users\\\\joel_\\\\OneDrive\\\\Escritorio\\\\acadiso.dwt'"
      ]
     },
     "execution_count": 6,
     "metadata": {},
     "output_type": "execute_result"
    }
   ],
   "source": []
  },
  {
   "cell_type": "code",
   "execution_count": 7,
   "metadata": {},
   "outputs": [
    {
     "data": {
      "text/plain": [
       "<comtypes.client.lazybind.Dispatch at 0x2187d8f6790>"
      ]
     },
     "execution_count": 7,
     "metadata": {},
     "output_type": "execute_result"
    }
   ],
   "source": []
  },
  {
   "cell_type": "code",
   "execution_count": 8,
   "metadata": {},
   "outputs": [],
   "source": []
  },
  {
   "cell_type": "code",
   "execution_count": 17,
   "metadata": {},
   "outputs": [],
   "source": []
  },
  {
   "cell_type": "code",
   "execution_count": 9,
   "metadata": {},
   "outputs": [],
   "source": []
  },
  {
   "cell_type": "code",
   "execution_count": 14,
   "metadata": {},
   "outputs": [],
   "source": [
    "import win32com.client\n",
    "import pyautocad\n",
    "\n",
    "acad = win32com.client.dynamic.Dispatch(\"AutoCAD.Application\")\n",
    "acad.Visible=True\n",
    "\n",
    "# Open a new document and set it as the active document\n",
    "# acad.Documents.Open(\"C:\\\\Template_folder\\\\Template.dwg\")\n",
    "\n",
    "# Set the active document before trying to use it\n",
    "doc = acad.ActiveDocument\n",
    "\n"
   ]
  },
  {
   "cell_type": "code",
   "execution_count": 12,
   "metadata": {},
   "outputs": [
    {
     "data": {
      "text/plain": [
       "'C:/Users/joel_/OneDrive/Escritorio'"
      ]
     },
     "execution_count": 12,
     "metadata": {},
     "output_type": "execute_result"
    }
   ],
   "source": [
    "\n",
    "\n",
    "path = r'C:\\Users\\joel_\\OneDrive\\Escritorio'\n",
    "path = path.replace('\\\\', '/')\n",
    "path "
   ]
  }
 ],
 "metadata": {
  "interpreter": {
   "hash": "7f3109f65a64fe179cc56ecdbc8c7cc5cd206f1a15751d70763d5569137920ab"
  },
  "kernelspec": {
   "display_name": "Python 3.8.8 ('.venv': venv)",
   "language": "python",
   "name": "python3"
  },
  "language_info": {
   "codemirror_mode": {
    "name": "ipython",
    "version": 3
   },
   "file_extension": ".py",
   "mimetype": "text/x-python",
   "name": "python",
   "nbconvert_exporter": "python",
   "pygments_lexer": "ipython3",
   "version": "3.8.8"
  },
  "orig_nbformat": 4
 },
 "nbformat": 4,
 "nbformat_minor": 2
}
