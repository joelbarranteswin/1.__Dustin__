{
 "cells": [
  {
   "cell_type": "markdown",
   "metadata": {},
   "source": [
    "## Using Themes"
   ]
  },
  {
   "cell_type": "code",
   "execution_count": 15,
   "metadata": {},
   "outputs": [
    {
     "data": {
      "text/html": [
       "\n",
       "    <div class=\"bk-root\">\n",
       "        <a href=\"https://bokeh.org\" target=\"_blank\" class=\"bk-logo bk-logo-small bk-logo-notebook\"></a>\n",
       "        <span id=\"2976\">Loading BokehJS ...</span>\n",
       "    </div>"
      ]
     },
     "metadata": {},
     "output_type": "display_data"
    },
    {
     "data": {
      "application/javascript": "\n(function(root) {\n  function now() {\n    return new Date();\n  }\n\n  const force = true;\n\n  if (typeof root._bokeh_onload_callbacks === \"undefined\" || force === true) {\n    root._bokeh_onload_callbacks = [];\n    root._bokeh_is_loading = undefined;\n  }\n\n  const JS_MIME_TYPE = 'application/javascript';\n  const HTML_MIME_TYPE = 'text/html';\n  const EXEC_MIME_TYPE = 'application/vnd.bokehjs_exec.v0+json';\n  const CLASS_NAME = 'output_bokeh rendered_html';\n\n  /**\n   * Render data to the DOM node\n   */\n  function render(props, node) {\n    const script = document.createElement(\"script\");\n    node.appendChild(script);\n  }\n\n  /**\n   * Handle when an output is cleared or removed\n   */\n  function handleClearOutput(event, handle) {\n    const cell = handle.cell;\n\n    const id = cell.output_area._bokeh_element_id;\n    const server_id = cell.output_area._bokeh_server_id;\n    // Clean up Bokeh references\n    if (id != null && id in Bokeh.index) {\n      Bokeh.index[id].model.document.clear();\n      delete Bokeh.index[id];\n    }\n\n    if (server_id !== undefined) {\n      // Clean up Bokeh references\n      const cmd_clean = \"from bokeh.io.state import curstate; print(curstate().uuid_to_server['\" + server_id + \"'].get_sessions()[0].document.roots[0]._id)\";\n      cell.notebook.kernel.execute(cmd_clean, {\n        iopub: {\n          output: function(msg) {\n            const id = msg.content.text.trim();\n            if (id in Bokeh.index) {\n              Bokeh.index[id].model.document.clear();\n              delete Bokeh.index[id];\n            }\n          }\n        }\n      });\n      // Destroy server and session\n      const cmd_destroy = \"import bokeh.io.notebook as ion; ion.destroy_server('\" + server_id + \"')\";\n      cell.notebook.kernel.execute(cmd_destroy);\n    }\n  }\n\n  /**\n   * Handle when a new output is added\n   */\n  function handleAddOutput(event, handle) {\n    const output_area = handle.output_area;\n    const output = handle.output;\n\n    // limit handleAddOutput to display_data with EXEC_MIME_TYPE content only\n    if ((output.output_type != \"display_data\") || (!Object.prototype.hasOwnProperty.call(output.data, EXEC_MIME_TYPE))) {\n      return\n    }\n\n    const toinsert = output_area.element.find(\".\" + CLASS_NAME.split(' ')[0]);\n\n    if (output.metadata[EXEC_MIME_TYPE][\"id\"] !== undefined) {\n      toinsert[toinsert.length - 1].firstChild.textContent = output.data[JS_MIME_TYPE];\n      // store reference to embed id on output_area\n      output_area._bokeh_element_id = output.metadata[EXEC_MIME_TYPE][\"id\"];\n    }\n    if (output.metadata[EXEC_MIME_TYPE][\"server_id\"] !== undefined) {\n      const bk_div = document.createElement(\"div\");\n      bk_div.innerHTML = output.data[HTML_MIME_TYPE];\n      const script_attrs = bk_div.children[0].attributes;\n      for (let i = 0; i < script_attrs.length; i++) {\n        toinsert[toinsert.length - 1].firstChild.setAttribute(script_attrs[i].name, script_attrs[i].value);\n        toinsert[toinsert.length - 1].firstChild.textContent = bk_div.children[0].textContent\n      }\n      // store reference to server id on output_area\n      output_area._bokeh_server_id = output.metadata[EXEC_MIME_TYPE][\"server_id\"];\n    }\n  }\n\n  function register_renderer(events, OutputArea) {\n\n    function append_mime(data, metadata, element) {\n      // create a DOM node to render to\n      const toinsert = this.create_output_subarea(\n        metadata,\n        CLASS_NAME,\n        EXEC_MIME_TYPE\n      );\n      this.keyboard_manager.register_events(toinsert);\n      // Render to node\n      const props = {data: data, metadata: metadata[EXEC_MIME_TYPE]};\n      render(props, toinsert[toinsert.length - 1]);\n      element.append(toinsert);\n      return toinsert\n    }\n\n    /* Handle when an output is cleared or removed */\n    events.on('clear_output.CodeCell', handleClearOutput);\n    events.on('delete.Cell', handleClearOutput);\n\n    /* Handle when a new output is added */\n    events.on('output_added.OutputArea', handleAddOutput);\n\n    /**\n     * Register the mime type and append_mime function with output_area\n     */\n    OutputArea.prototype.register_mime_type(EXEC_MIME_TYPE, append_mime, {\n      /* Is output safe? */\n      safe: true,\n      /* Index of renderer in `output_area.display_order` */\n      index: 0\n    });\n  }\n\n  // register the mime type if in Jupyter Notebook environment and previously unregistered\n  if (root.Jupyter !== undefined) {\n    const events = require('base/js/events');\n    const OutputArea = require('notebook/js/outputarea').OutputArea;\n\n    if (OutputArea.prototype.mime_types().indexOf(EXEC_MIME_TYPE) == -1) {\n      register_renderer(events, OutputArea);\n    }\n  }\n\n  \n  if (typeof (root._bokeh_timeout) === \"undefined\" || force === true) {\n    root._bokeh_timeout = Date.now() + 5000;\n    root._bokeh_failed_load = false;\n  }\n\n  const NB_LOAD_WARNING = {'data': {'text/html':\n     \"<div style='background-color: #fdd'>\\n\"+\n     \"<p>\\n\"+\n     \"BokehJS does not appear to have successfully loaded. If loading BokehJS from CDN, this \\n\"+\n     \"may be due to a slow or bad network connection. Possible fixes:\\n\"+\n     \"</p>\\n\"+\n     \"<ul>\\n\"+\n     \"<li>re-rerun `output_notebook()` to attempt to load from CDN again, or</li>\\n\"+\n     \"<li>use INLINE resources instead, as so:</li>\\n\"+\n     \"</ul>\\n\"+\n     \"<code>\\n\"+\n     \"from bokeh.resources import INLINE\\n\"+\n     \"output_notebook(resources=INLINE)\\n\"+\n     \"</code>\\n\"+\n     \"</div>\"}};\n\n  function display_loaded() {\n    const el = document.getElementById(\"2976\");\n    if (el != null) {\n      el.textContent = \"BokehJS is loading...\";\n    }\n    if (root.Bokeh !== undefined) {\n      if (el != null) {\n        el.textContent = \"BokehJS \" + root.Bokeh.version + \" successfully loaded.\";\n      }\n    } else if (Date.now() < root._bokeh_timeout) {\n      setTimeout(display_loaded, 100)\n    }\n  }\n\n\n  function run_callbacks() {\n    try {\n      root._bokeh_onload_callbacks.forEach(function(callback) {\n        if (callback != null)\n          callback();\n      });\n    } finally {\n      delete root._bokeh_onload_callbacks\n    }\n    console.debug(\"Bokeh: all callbacks have finished\");\n  }\n\n  function load_libs(css_urls, js_urls, callback) {\n    if (css_urls == null) css_urls = [];\n    if (js_urls == null) js_urls = [];\n\n    root._bokeh_onload_callbacks.push(callback);\n    if (root._bokeh_is_loading > 0) {\n      console.debug(\"Bokeh: BokehJS is being loaded, scheduling callback at\", now());\n      return null;\n    }\n    if (js_urls == null || js_urls.length === 0) {\n      run_callbacks();\n      return null;\n    }\n    console.debug(\"Bokeh: BokehJS not loaded, scheduling load and callback at\", now());\n    root._bokeh_is_loading = css_urls.length + js_urls.length;\n\n    function on_load() {\n      root._bokeh_is_loading--;\n      if (root._bokeh_is_loading === 0) {\n        console.debug(\"Bokeh: all BokehJS libraries/stylesheets loaded\");\n        run_callbacks()\n      }\n    }\n\n    function on_error(url) {\n      console.error(\"failed to load \" + url);\n    }\n\n    for (let i = 0; i < css_urls.length; i++) {\n      const url = css_urls[i];\n      const element = document.createElement(\"link\");\n      element.onload = on_load;\n      element.onerror = on_error.bind(null, url);\n      element.rel = \"stylesheet\";\n      element.type = \"text/css\";\n      element.href = url;\n      console.debug(\"Bokeh: injecting link tag for BokehJS stylesheet: \", url);\n      document.body.appendChild(element);\n    }\n\n    for (let i = 0; i < js_urls.length; i++) {\n      const url = js_urls[i];\n      const element = document.createElement('script');\n      element.onload = on_load;\n      element.onerror = on_error.bind(null, url);\n      element.async = false;\n      element.src = url;\n      console.debug(\"Bokeh: injecting script tag for BokehJS library: \", url);\n      document.head.appendChild(element);\n    }\n  };\n\n  function inject_raw_css(css) {\n    const element = document.createElement(\"style\");\n    element.appendChild(document.createTextNode(css));\n    document.body.appendChild(element);\n  }\n\n  \n  const js_urls = [\"https://cdn.bokeh.org/bokeh/release/bokeh-2.4.2.min.js\", \"https://cdn.bokeh.org/bokeh/release/bokeh-gl-2.4.2.min.js\", \"https://cdn.bokeh.org/bokeh/release/bokeh-widgets-2.4.2.min.js\", \"https://cdn.bokeh.org/bokeh/release/bokeh-tables-2.4.2.min.js\", \"https://cdn.bokeh.org/bokeh/release/bokeh-mathjax-2.4.2.min.js\"];\n  const css_urls = [];\n  \n\n  const inline_js = [\n    function(Bokeh) {\n      Bokeh.set_log_level(\"info\");\n    },\n    function(Bokeh) {\n    \n    \n    }\n  ];\n\n  function run_inline_js() {\n    \n    if (root.Bokeh !== undefined || force === true) {\n      \n    for (let i = 0; i < inline_js.length; i++) {\n      inline_js[i].call(root, root.Bokeh);\n    }\n    if (force === true) {\n        display_loaded();\n      }} else if (Date.now() < root._bokeh_timeout) {\n      setTimeout(run_inline_js, 100);\n    } else if (!root._bokeh_failed_load) {\n      console.log(\"Bokeh: BokehJS failed to load within specified timeout.\");\n      root._bokeh_failed_load = true;\n    } else if (force !== true) {\n      const cell = $(document.getElementById(\"2976\")).parents('.cell').data().cell;\n      cell.output_area.append_execute_result(NB_LOAD_WARNING)\n    }\n\n  }\n\n  if (root._bokeh_is_loading === 0) {\n    console.debug(\"Bokeh: BokehJS loaded, going straight to plotting\");\n    run_inline_js();\n  } else {\n    load_libs(css_urls, js_urls, function() {\n      console.debug(\"Bokeh: BokehJS plotting callback run at\", now());\n      run_inline_js();\n    });\n  }\n}(window));",
      "application/vnd.bokehjs_load.v0+json": ""
     },
     "metadata": {},
     "output_type": "display_data"
    }
   ],
   "source": [
    "from bokeh.io import output_notebook\n",
    "output_notebook()"
   ]
  },
  {
   "cell_type": "code",
   "execution_count": 16,
   "metadata": {},
   "outputs": [
    {
     "data": {
      "text/html": [
       "\n",
       "\n",
       "\n",
       "\n",
       "\n",
       "\n",
       "  <div class=\"bk-root\" id=\"0b966fce-d0c1-4c02-8f2d-a2b9385546aa\" data-root-id=\"2977\"></div>\n"
      ]
     },
     "metadata": {},
     "output_type": "display_data"
    },
    {
     "data": {
      "application/javascript": "(function(root) {\n  function embed_document(root) {\n    \n  const docs_json = {\"bcc5f45a-aaf1-4a70-91ad-a486a6ab4d5c\":{\"defs\":[],\"roots\":{\"references\":[{\"attributes\":{\"below\":[{\"id\":\"2986\"}],\"center\":[{\"id\":\"2989\"},{\"id\":\"2993\"}],\"height\":250,\"left\":[{\"id\":\"2990\"}],\"max_width\":500,\"renderers\":[{\"id\":\"3012\"}],\"sizing_mode\":\"stretch_width\",\"title\":{\"id\":\"3149\"},\"toolbar\":{\"id\":\"3001\"},\"x_range\":{\"id\":\"2978\"},\"x_scale\":{\"id\":\"2982\"},\"y_range\":{\"id\":\"2980\"},\"y_scale\":{\"id\":\"2984\"}},\"id\":\"2977\",\"subtype\":\"Figure\",\"type\":\"Plot\"},{\"attributes\":{},\"id\":\"2998\",\"type\":\"ResetTool\"},{\"attributes\":{},\"id\":\"2997\",\"type\":\"SaveTool\"},{\"attributes\":{\"overlay\":{\"id\":\"3000\"}},\"id\":\"2996\",\"type\":\"BoxZoomTool\"},{\"attributes\":{},\"id\":\"2994\",\"type\":\"PanTool\"},{\"attributes\":{},\"id\":\"3152\",\"type\":\"BasicTickFormatter\"},{\"attributes\":{},\"id\":\"2995\",\"type\":\"WheelZoomTool\"},{\"attributes\":{},\"id\":\"3153\",\"type\":\"AllLabels\"},{\"attributes\":{\"coordinates\":null,\"group\":null,\"text_color\":\"#5B5B5B\",\"text_font\":\"Calibri Light\",\"text_font_size\":\"1.25em\",\"text_font_style\":\"bold\"},\"id\":\"3149\",\"type\":\"Title\"},{\"attributes\":{},\"id\":\"2984\",\"type\":\"LinearScale\"},{\"attributes\":{\"line_color\":\"#1f77b4\",\"x\":{\"field\":\"x\"},\"y\":{\"field\":\"y\"}},\"id\":\"3009\",\"type\":\"Line\"},{\"attributes\":{},\"id\":\"3158\",\"type\":\"Selection\"},{\"attributes\":{},\"id\":\"2982\",\"type\":\"LinearScale\"},{\"attributes\":{\"line_alpha\":0.1,\"line_color\":\"#1f77b4\",\"x\":{\"field\":\"x\"},\"y\":{\"field\":\"y\"}},\"id\":\"3010\",\"type\":\"Line\"},{\"attributes\":{},\"id\":\"2978\",\"type\":\"DataRange1d\"},{\"attributes\":{\"data\":{\"x\":[1,2,3,4,5],\"y\":[4,5,5,7,2]},\"selected\":{\"id\":\"3158\"},\"selection_policy\":{\"id\":\"3157\"}},\"id\":\"3008\",\"type\":\"ColumnDataSource\"},{\"attributes\":{\"source\":{\"id\":\"3008\"}},\"id\":\"3013\",\"type\":\"CDSView\"},{\"attributes\":{},\"id\":\"2999\",\"type\":\"HelpTool\"},{\"attributes\":{\"axis_label_standoff\":10,\"axis_label_text_color\":\"#5B5B5B\",\"axis_label_text_font\":\"Calibri Light\",\"axis_label_text_font_size\":\"1.15em\",\"axis_label_text_font_style\":\"bold\",\"axis_line_alpha\":1,\"axis_line_color\":\"#5B5B5B\",\"coordinates\":null,\"formatter\":{\"id\":\"3152\"},\"group\":null,\"major_label_policy\":{\"id\":\"3153\"},\"major_label_text_color\":\"#5B5B5B\",\"major_label_text_font\":\"Calibri Light\",\"major_label_text_font_size\":\"0.95em\",\"major_label_text_font_style\":\"bold\",\"major_tick_in\":0,\"major_tick_line_alpha\":0.25,\"major_tick_line_color\":\"#5B5B5B\",\"major_tick_out\":3,\"minor_tick_line_alpha\":0.25,\"minor_tick_line_color\":\"#5B5B5B\",\"ticker\":{\"id\":\"2991\"}},\"id\":\"2990\",\"type\":\"LinearAxis\"},{\"attributes\":{\"axis\":{\"id\":\"2986\"},\"coordinates\":null,\"group\":null,\"ticker\":null},\"id\":\"2989\",\"type\":\"Grid\"},{\"attributes\":{\"axis_label_standoff\":10,\"axis_label_text_color\":\"#5B5B5B\",\"axis_label_text_font\":\"Calibri Light\",\"axis_label_text_font_size\":\"1.15em\",\"axis_label_text_font_style\":\"bold\",\"axis_line_alpha\":1,\"axis_line_color\":\"#5B5B5B\",\"coordinates\":null,\"formatter\":{\"id\":\"3155\"},\"group\":null,\"major_label_policy\":{\"id\":\"3156\"},\"major_label_text_color\":\"#5B5B5B\",\"major_label_text_font\":\"Calibri Light\",\"major_label_text_font_size\":\"0.95em\",\"major_label_text_font_style\":\"bold\",\"major_tick_in\":0,\"major_tick_line_alpha\":0.25,\"major_tick_line_color\":\"#5B5B5B\",\"major_tick_out\":3,\"minor_tick_line_alpha\":0.25,\"minor_tick_line_color\":\"#5B5B5B\",\"ticker\":{\"id\":\"2987\"}},\"id\":\"2986\",\"type\":\"LinearAxis\"},{\"attributes\":{},\"id\":\"2987\",\"type\":\"BasicTicker\"},{\"attributes\":{\"coordinates\":null,\"data_source\":{\"id\":\"3008\"},\"glyph\":{\"id\":\"3009\"},\"group\":null,\"hover_glyph\":null,\"muted_glyph\":{\"id\":\"3011\"},\"nonselection_glyph\":{\"id\":\"3010\"},\"view\":{\"id\":\"3013\"}},\"id\":\"3012\",\"type\":\"GlyphRenderer\"},{\"attributes\":{\"tools\":[{\"id\":\"2994\"},{\"id\":\"2995\"},{\"id\":\"2996\"},{\"id\":\"2997\"},{\"id\":\"2998\"},{\"id\":\"2999\"}]},\"id\":\"3001\",\"type\":\"Toolbar\"},{\"attributes\":{},\"id\":\"2980\",\"type\":\"DataRange1d\"},{\"attributes\":{\"line_alpha\":0.2,\"line_color\":\"#1f77b4\",\"x\":{\"field\":\"x\"},\"y\":{\"field\":\"y\"}},\"id\":\"3011\",\"type\":\"Line\"},{\"attributes\":{},\"id\":\"2991\",\"type\":\"BasicTicker\"},{\"attributes\":{\"axis\":{\"id\":\"2990\"},\"coordinates\":null,\"dimension\":1,\"group\":null,\"ticker\":null},\"id\":\"2993\",\"type\":\"Grid\"},{\"attributes\":{\"bottom_units\":\"screen\",\"coordinates\":null,\"fill_alpha\":0.5,\"fill_color\":\"lightgrey\",\"group\":null,\"left_units\":\"screen\",\"level\":\"overlay\",\"line_alpha\":1.0,\"line_color\":\"black\",\"line_dash\":[4,4],\"line_width\":2,\"right_units\":\"screen\",\"syncable\":false,\"top_units\":\"screen\"},\"id\":\"3000\",\"type\":\"BoxAnnotation\"},{\"attributes\":{},\"id\":\"3157\",\"type\":\"UnionRenderers\"},{\"attributes\":{},\"id\":\"3155\",\"type\":\"BasicTickFormatter\"},{\"attributes\":{},\"id\":\"3156\",\"type\":\"AllLabels\"}],\"root_ids\":[\"2977\"]},\"title\":\"Bokeh Application\",\"version\":\"2.4.2\"}};\n  const render_items = [{\"docid\":\"bcc5f45a-aaf1-4a70-91ad-a486a6ab4d5c\",\"root_ids\":[\"2977\"],\"roots\":{\"2977\":\"0b966fce-d0c1-4c02-8f2d-a2b9385546aa\"}}];\n  root.Bokeh.embed.embed_items_notebook(docs_json, render_items);\n\n  }\n  if (root.Bokeh !== undefined) {\n    embed_document(root);\n  } else {\n    let attempts = 0;\n    const timer = setInterval(function(root) {\n      if (root.Bokeh !== undefined) {\n        clearInterval(timer);\n        embed_document(root);\n      } else {\n        attempts++;\n        if (attempts > 100) {\n          clearInterval(timer);\n          console.log(\"Bokeh: ERROR: Unable to run BokehJS code because BokehJS library is missing\");\n        }\n      }\n    }, 10, root)\n  }\n})(window);",
      "application/vnd.bokehjs_exec.v0+json": ""
     },
     "metadata": {
      "application/vnd.bokehjs_exec.v0+json": {
       "id": "2977"
      }
     },
     "output_type": "display_data"
    }
   ],
   "source": [
    "from bokeh.io import curdoc\n",
    "from bokeh.plotting import figure, show\n",
    "\n",
    "# prepare some data\n",
    "x = [1, 2, 3, 4, 5]\n",
    "y = [4, 5, 5, 7, 2]\n",
    "\n",
    "# apply theme to current document\n",
    "curdoc().theme = \"light_minimal\"\n",
    "\n",
    "# create a plot\n",
    "p = figure(sizing_mode=\"stretch_width\", max_width=500, height=250)\n",
    "\n",
    "# add a renderer\n",
    "p.line(x, y)\n",
    "\n",
    "# show the results\n",
    "show(p)"
   ]
  },
  {
   "cell_type": "markdown",
   "metadata": {},
   "source": [
    "## Resizing your plot"
   ]
  },
  {
   "cell_type": "code",
   "execution_count": 17,
   "metadata": {},
   "outputs": [
    {
     "data": {
      "text/html": [
       "\n",
       "\n",
       "\n",
       "\n",
       "\n",
       "\n",
       "  <div class=\"bk-root\" id=\"44f8867d-0689-4ab4-a520-97734490626d\" data-root-id=\"3215\"></div>\n"
      ]
     },
     "metadata": {},
     "output_type": "display_data"
    },
    {
     "data": {
      "application/javascript": "(function(root) {\n  function embed_document(root) {\n    \n  const docs_json = {\"137f5ac2-69f1-4a01-9158-d2f5f7ac3bd7\":{\"defs\":[],\"roots\":{\"references\":[{\"attributes\":{\"below\":[{\"id\":\"3226\"}],\"center\":[{\"id\":\"3229\"},{\"id\":\"3233\"}],\"height\":250,\"left\":[{\"id\":\"3230\"}],\"renderers\":[{\"id\":\"3252\"}],\"title\":{\"id\":\"3216\"},\"toolbar\":{\"id\":\"3241\"},\"width\":350,\"x_range\":{\"id\":\"3218\"},\"x_scale\":{\"id\":\"3222\"},\"y_range\":{\"id\":\"3220\"},\"y_scale\":{\"id\":\"3224\"}},\"id\":\"3215\",\"subtype\":\"Figure\",\"type\":\"Plot\"},{\"attributes\":{},\"id\":\"3220\",\"type\":\"DataRange1d\"},{\"attributes\":{},\"id\":\"3222\",\"type\":\"LinearScale\"},{\"attributes\":{},\"id\":\"3227\",\"type\":\"BasicTicker\"},{\"attributes\":{\"coordinates\":null,\"group\":null,\"text\":\"Plot sizing example\",\"text_color\":\"#5B5B5B\",\"text_font\":\"Calibri Light\",\"text_font_size\":\"1.25em\",\"text_font_style\":\"bold\"},\"id\":\"3216\",\"type\":\"Title\"},{\"attributes\":{\"axis\":{\"id\":\"3226\"},\"coordinates\":null,\"group\":null,\"ticker\":null},\"id\":\"3229\",\"type\":\"Grid\"},{\"attributes\":{\"coordinates\":null,\"data_source\":{\"id\":\"3248\"},\"glyph\":{\"id\":\"3249\"},\"group\":null,\"hover_glyph\":null,\"muted_glyph\":{\"id\":\"3251\"},\"nonselection_glyph\":{\"id\":\"3250\"},\"view\":{\"id\":\"3253\"}},\"id\":\"3252\",\"type\":\"GlyphRenderer\"},{\"attributes\":{},\"id\":\"3231\",\"type\":\"BasicTicker\"},{\"attributes\":{\"axis\":{\"id\":\"3230\"},\"coordinates\":null,\"dimension\":1,\"group\":null,\"ticker\":null},\"id\":\"3233\",\"type\":\"Grid\"},{\"attributes\":{\"tools\":[{\"id\":\"3234\"},{\"id\":\"3235\"},{\"id\":\"3236\"},{\"id\":\"3237\"},{\"id\":\"3238\"},{\"id\":\"3239\"}]},\"id\":\"3241\",\"type\":\"Toolbar\"},{\"attributes\":{\"axis_label\":\"y\",\"axis_label_standoff\":10,\"axis_label_text_color\":\"#5B5B5B\",\"axis_label_text_font\":\"Calibri Light\",\"axis_label_text_font_size\":\"1.15em\",\"axis_label_text_font_style\":\"bold\",\"axis_line_alpha\":1,\"axis_line_color\":\"#5B5B5B\",\"coordinates\":null,\"formatter\":{\"id\":\"3402\"},\"group\":null,\"major_label_policy\":{\"id\":\"3403\"},\"major_label_text_color\":\"#5B5B5B\",\"major_label_text_font\":\"Calibri Light\",\"major_label_text_font_size\":\"0.95em\",\"major_label_text_font_style\":\"bold\",\"major_tick_in\":0,\"major_tick_line_alpha\":0.25,\"major_tick_line_color\":\"#5B5B5B\",\"major_tick_out\":3,\"minor_tick_line_alpha\":0.25,\"minor_tick_line_color\":\"#5B5B5B\",\"ticker\":{\"id\":\"3231\"}},\"id\":\"3230\",\"type\":\"LinearAxis\"},{\"attributes\":{},\"id\":\"3235\",\"type\":\"WheelZoomTool\"},{\"attributes\":{\"bottom_units\":\"screen\",\"coordinates\":null,\"fill_alpha\":0.5,\"fill_color\":\"lightgrey\",\"group\":null,\"left_units\":\"screen\",\"level\":\"overlay\",\"line_alpha\":1.0,\"line_color\":\"black\",\"line_dash\":[4,4],\"line_width\":2,\"right_units\":\"screen\",\"syncable\":false,\"top_units\":\"screen\"},\"id\":\"3240\",\"type\":\"BoxAnnotation\"},{\"attributes\":{},\"id\":\"3406\",\"type\":\"AllLabels\"},{\"attributes\":{},\"id\":\"3238\",\"type\":\"ResetTool\"},{\"attributes\":{},\"id\":\"3405\",\"type\":\"BasicTickFormatter\"},{\"attributes\":{},\"id\":\"3237\",\"type\":\"SaveTool\"},{\"attributes\":{},\"id\":\"3407\",\"type\":\"UnionRenderers\"},{\"attributes\":{\"overlay\":{\"id\":\"3240\"}},\"id\":\"3236\",\"type\":\"BoxZoomTool\"},{\"attributes\":{},\"id\":\"3234\",\"type\":\"PanTool\"},{\"attributes\":{},\"id\":\"3403\",\"type\":\"AllLabels\"},{\"attributes\":{},\"id\":\"3408\",\"type\":\"Selection\"},{\"attributes\":{},\"id\":\"3402\",\"type\":\"BasicTickFormatter\"},{\"attributes\":{\"fill_color\":{\"value\":\"red\"},\"line_color\":{\"value\":\"#1f77b4\"},\"size\":{\"value\":15},\"x\":{\"field\":\"x\"},\"y\":{\"field\":\"y\"}},\"id\":\"3249\",\"type\":\"Circle\"},{\"attributes\":{},\"id\":\"3224\",\"type\":\"LinearScale\"},{\"attributes\":{\"fill_alpha\":{\"value\":0.2},\"fill_color\":{\"value\":\"red\"},\"hatch_alpha\":{\"value\":0.2},\"line_alpha\":{\"value\":0.2},\"line_color\":{\"value\":\"#1f77b4\"},\"size\":{\"value\":15},\"x\":{\"field\":\"x\"},\"y\":{\"field\":\"y\"}},\"id\":\"3251\",\"type\":\"Circle\"},{\"attributes\":{\"source\":{\"id\":\"3248\"}},\"id\":\"3253\",\"type\":\"CDSView\"},{\"attributes\":{\"axis_label\":\"x\",\"axis_label_standoff\":10,\"axis_label_text_color\":\"#5B5B5B\",\"axis_label_text_font\":\"Calibri Light\",\"axis_label_text_font_size\":\"1.15em\",\"axis_label_text_font_style\":\"bold\",\"axis_line_alpha\":1,\"axis_line_color\":\"#5B5B5B\",\"coordinates\":null,\"formatter\":{\"id\":\"3405\"},\"group\":null,\"major_label_policy\":{\"id\":\"3406\"},\"major_label_text_color\":\"#5B5B5B\",\"major_label_text_font\":\"Calibri Light\",\"major_label_text_font_size\":\"0.95em\",\"major_label_text_font_style\":\"bold\",\"major_tick_in\":0,\"major_tick_line_alpha\":0.25,\"major_tick_line_color\":\"#5B5B5B\",\"major_tick_out\":3,\"minor_tick_line_alpha\":0.25,\"minor_tick_line_color\":\"#5B5B5B\",\"ticker\":{\"id\":\"3227\"}},\"id\":\"3226\",\"type\":\"LinearAxis\"},{\"attributes\":{},\"id\":\"3218\",\"type\":\"DataRange1d\"},{\"attributes\":{\"fill_alpha\":{\"value\":0.1},\"fill_color\":{\"value\":\"red\"},\"hatch_alpha\":{\"value\":0.1},\"line_alpha\":{\"value\":0.1},\"line_color\":{\"value\":\"#1f77b4\"},\"size\":{\"value\":15},\"x\":{\"field\":\"x\"},\"y\":{\"field\":\"y\"}},\"id\":\"3250\",\"type\":\"Circle\"},{\"attributes\":{\"data\":{\"x\":[1,2,3,4,5],\"y\":[4,5,5,7,2]},\"selected\":{\"id\":\"3408\"},\"selection_policy\":{\"id\":\"3407\"}},\"id\":\"3248\",\"type\":\"ColumnDataSource\"},{\"attributes\":{},\"id\":\"3239\",\"type\":\"HelpTool\"}],\"root_ids\":[\"3215\"]},\"title\":\"Bokeh Application\",\"version\":\"2.4.2\"}};\n  const render_items = [{\"docid\":\"137f5ac2-69f1-4a01-9158-d2f5f7ac3bd7\",\"root_ids\":[\"3215\"],\"roots\":{\"3215\":\"44f8867d-0689-4ab4-a520-97734490626d\"}}];\n  root.Bokeh.embed.embed_items_notebook(docs_json, render_items);\n\n  }\n  if (root.Bokeh !== undefined) {\n    embed_document(root);\n  } else {\n    let attempts = 0;\n    const timer = setInterval(function(root) {\n      if (root.Bokeh !== undefined) {\n        clearInterval(timer);\n        embed_document(root);\n      } else {\n        attempts++;\n        if (attempts > 100) {\n          clearInterval(timer);\n          console.log(\"Bokeh: ERROR: Unable to run BokehJS code because BokehJS library is missing\");\n        }\n      }\n    }, 10, root)\n  }\n})(window);",
      "application/vnd.bokehjs_exec.v0+json": ""
     },
     "metadata": {
      "application/vnd.bokehjs_exec.v0+json": {
       "id": "3215"
      }
     },
     "output_type": "display_data"
    }
   ],
   "source": [
    "from bokeh.plotting import figure, show\n",
    "\n",
    "# prepare some data\n",
    "x = [1, 2, 3, 4, 5]\n",
    "y = [4, 5, 5, 7, 2]\n",
    "\n",
    "# create a new plot with a specific size\n",
    "p = figure(\n",
    "    title=\"Plot sizing example\",\n",
    "    width=350,\n",
    "    height=250,\n",
    "    x_axis_label=\"x\",\n",
    "    y_axis_label=\"y\",\n",
    ")\n",
    "\n",
    "# add circle renderer\n",
    "circle = p.circle(x, y, fill_color=\"red\", size=15)\n",
    "\n",
    "# show the results\n",
    "show(p)"
   ]
  },
  {
   "cell_type": "code",
   "execution_count": 18,
   "metadata": {},
   "outputs": [
    {
     "data": {
      "text/html": [
       "\n",
       "\n",
       "\n",
       "\n",
       "\n",
       "\n",
       "  <div class=\"bk-root\" id=\"133a4002-d72d-4cec-b0c8-c6f4af888b56\" data-root-id=\"3460\"></div>\n"
      ]
     },
     "metadata": {},
     "output_type": "display_data"
    },
    {
     "data": {
      "application/javascript": "(function(root) {\n  function embed_document(root) {\n    \n  const docs_json = {\"e4fb90dc-2f53-4019-88c5-f0bdbeb3306d\":{\"defs\":[],\"roots\":{\"references\":[{\"attributes\":{\"below\":[{\"id\":\"3471\"}],\"center\":[{\"id\":\"3474\"},{\"id\":\"3478\"}],\"height\":150,\"left\":[{\"id\":\"3475\"}],\"renderers\":[{\"id\":\"3497\"}],\"title\":{\"id\":\"3461\"},\"toolbar\":{\"id\":\"3486\"},\"width\":450,\"x_range\":{\"id\":\"3463\"},\"x_scale\":{\"id\":\"3467\"},\"y_range\":{\"id\":\"3465\"},\"y_scale\":{\"id\":\"3469\"}},\"id\":\"3460\",\"subtype\":\"Figure\",\"type\":\"Plot\"},{\"attributes\":{},\"id\":\"3482\",\"type\":\"SaveTool\"},{\"attributes\":{},\"id\":\"3476\",\"type\":\"BasicTicker\"},{\"attributes\":{},\"id\":\"3658\",\"type\":\"AllLabels\"},{\"attributes\":{\"axis\":{\"id\":\"3475\"},\"coordinates\":null,\"dimension\":1,\"group\":null,\"ticker\":null},\"id\":\"3478\",\"type\":\"Grid\"},{\"attributes\":{\"source\":{\"id\":\"3493\"}},\"id\":\"3498\",\"type\":\"CDSView\"},{\"attributes\":{\"axis_label\":\"y\",\"axis_label_standoff\":10,\"axis_label_text_color\":\"#5B5B5B\",\"axis_label_text_font\":\"Calibri Light\",\"axis_label_text_font_size\":\"1.15em\",\"axis_label_text_font_style\":\"bold\",\"axis_line_alpha\":1,\"axis_line_color\":\"#5B5B5B\",\"coordinates\":null,\"formatter\":{\"id\":\"3657\"},\"group\":null,\"major_label_policy\":{\"id\":\"3658\"},\"major_label_text_color\":\"#5B5B5B\",\"major_label_text_font\":\"Calibri Light\",\"major_label_text_font_size\":\"0.95em\",\"major_label_text_font_style\":\"bold\",\"major_tick_in\":0,\"major_tick_line_alpha\":0.25,\"major_tick_line_color\":\"#5B5B5B\",\"major_tick_out\":3,\"minor_tick_line_alpha\":0.25,\"minor_tick_line_color\":\"#5B5B5B\",\"ticker\":{\"id\":\"3476\"}},\"id\":\"3475\",\"type\":\"LinearAxis\"},{\"attributes\":{\"fill_alpha\":{\"value\":0.2},\"fill_color\":{\"value\":\"yellow\"},\"hatch_alpha\":{\"value\":0.2},\"line_alpha\":{\"value\":0.2},\"line_color\":{\"value\":\"#1f77b4\"},\"size\":{\"value\":15},\"x\":{\"field\":\"x\"},\"y\":{\"field\":\"y\"}},\"id\":\"3496\",\"type\":\"Circle\"},{\"attributes\":{},\"id\":\"3480\",\"type\":\"WheelZoomTool\"},{\"attributes\":{\"data\":{\"x\":[1,2,3,4,5],\"y\":[4,5,5,7,2]},\"selected\":{\"id\":\"3663\"},\"selection_policy\":{\"id\":\"3662\"}},\"id\":\"3493\",\"type\":\"ColumnDataSource\"},{\"attributes\":{},\"id\":\"3661\",\"type\":\"AllLabels\"},{\"attributes\":{},\"id\":\"3657\",\"type\":\"BasicTickFormatter\"},{\"attributes\":{},\"id\":\"3660\",\"type\":\"BasicTickFormatter\"},{\"attributes\":{\"fill_alpha\":{\"value\":0.1},\"fill_color\":{\"value\":\"yellow\"},\"hatch_alpha\":{\"value\":0.1},\"line_alpha\":{\"value\":0.1},\"line_color\":{\"value\":\"#1f77b4\"},\"size\":{\"value\":15},\"x\":{\"field\":\"x\"},\"y\":{\"field\":\"y\"}},\"id\":\"3495\",\"type\":\"Circle\"},{\"attributes\":{},\"id\":\"3662\",\"type\":\"UnionRenderers\"},{\"attributes\":{\"coordinates\":null,\"group\":null,\"text\":\"Plot resizing example\",\"text_color\":\"#5B5B5B\",\"text_font\":\"Calibri Light\",\"text_font_size\":\"1.25em\",\"text_font_style\":\"bold\"},\"id\":\"3461\",\"type\":\"Title\"},{\"attributes\":{\"tools\":[{\"id\":\"3479\"},{\"id\":\"3480\"},{\"id\":\"3481\"},{\"id\":\"3482\"},{\"id\":\"3483\"},{\"id\":\"3484\"}]},\"id\":\"3486\",\"type\":\"Toolbar\"},{\"attributes\":{},\"id\":\"3469\",\"type\":\"LinearScale\"},{\"attributes\":{\"axis_label\":\"x\",\"axis_label_standoff\":10,\"axis_label_text_color\":\"#5B5B5B\",\"axis_label_text_font\":\"Calibri Light\",\"axis_label_text_font_size\":\"1.15em\",\"axis_label_text_font_style\":\"bold\",\"axis_line_alpha\":1,\"axis_line_color\":\"#5B5B5B\",\"coordinates\":null,\"formatter\":{\"id\":\"3660\"},\"group\":null,\"major_label_policy\":{\"id\":\"3661\"},\"major_label_text_color\":\"#5B5B5B\",\"major_label_text_font\":\"Calibri Light\",\"major_label_text_font_size\":\"0.95em\",\"major_label_text_font_style\":\"bold\",\"major_tick_in\":0,\"major_tick_line_alpha\":0.25,\"major_tick_line_color\":\"#5B5B5B\",\"major_tick_out\":3,\"minor_tick_line_alpha\":0.25,\"minor_tick_line_color\":\"#5B5B5B\",\"ticker\":{\"id\":\"3472\"}},\"id\":\"3471\",\"type\":\"LinearAxis\"},{\"attributes\":{},\"id\":\"3663\",\"type\":\"Selection\"},{\"attributes\":{},\"id\":\"3463\",\"type\":\"DataRange1d\"},{\"attributes\":{\"coordinates\":null,\"data_source\":{\"id\":\"3493\"},\"glyph\":{\"id\":\"3494\"},\"group\":null,\"hover_glyph\":null,\"muted_glyph\":{\"id\":\"3496\"},\"nonselection_glyph\":{\"id\":\"3495\"},\"view\":{\"id\":\"3498\"}},\"id\":\"3497\",\"type\":\"GlyphRenderer\"},{\"attributes\":{},\"id\":\"3467\",\"type\":\"LinearScale\"},{\"attributes\":{\"bottom_units\":\"screen\",\"coordinates\":null,\"fill_alpha\":0.5,\"fill_color\":\"lightgrey\",\"group\":null,\"left_units\":\"screen\",\"level\":\"overlay\",\"line_alpha\":1.0,\"line_color\":\"black\",\"line_dash\":[4,4],\"line_width\":2,\"right_units\":\"screen\",\"syncable\":false,\"top_units\":\"screen\"},\"id\":\"3485\",\"type\":\"BoxAnnotation\"},{\"attributes\":{\"axis\":{\"id\":\"3471\"},\"coordinates\":null,\"group\":null,\"ticker\":null},\"id\":\"3474\",\"type\":\"Grid\"},{\"attributes\":{\"overlay\":{\"id\":\"3485\"}},\"id\":\"3481\",\"type\":\"BoxZoomTool\"},{\"attributes\":{\"fill_color\":{\"value\":\"yellow\"},\"line_color\":{\"value\":\"#1f77b4\"},\"size\":{\"value\":15},\"x\":{\"field\":\"x\"},\"y\":{\"field\":\"y\"}},\"id\":\"3494\",\"type\":\"Circle\"},{\"attributes\":{},\"id\":\"3472\",\"type\":\"BasicTicker\"},{\"attributes\":{},\"id\":\"3479\",\"type\":\"PanTool\"},{\"attributes\":{},\"id\":\"3465\",\"type\":\"DataRange1d\"},{\"attributes\":{},\"id\":\"3484\",\"type\":\"HelpTool\"},{\"attributes\":{},\"id\":\"3483\",\"type\":\"ResetTool\"}],\"root_ids\":[\"3460\"]},\"title\":\"Bokeh Application\",\"version\":\"2.4.2\"}};\n  const render_items = [{\"docid\":\"e4fb90dc-2f53-4019-88c5-f0bdbeb3306d\",\"root_ids\":[\"3460\"],\"roots\":{\"3460\":\"133a4002-d72d-4cec-b0c8-c6f4af888b56\"}}];\n  root.Bokeh.embed.embed_items_notebook(docs_json, render_items);\n\n  }\n  if (root.Bokeh !== undefined) {\n    embed_document(root);\n  } else {\n    let attempts = 0;\n    const timer = setInterval(function(root) {\n      if (root.Bokeh !== undefined) {\n        clearInterval(timer);\n        embed_document(root);\n      } else {\n        attempts++;\n        if (attempts > 100) {\n          clearInterval(timer);\n          console.log(\"Bokeh: ERROR: Unable to run BokehJS code because BokehJS library is missing\");\n        }\n      }\n    }, 10, root)\n  }\n})(window);",
      "application/vnd.bokehjs_exec.v0+json": ""
     },
     "metadata": {
      "application/vnd.bokehjs_exec.v0+json": {
       "id": "3460"
      }
     },
     "output_type": "display_data"
    }
   ],
   "source": [
    "from bokeh.plotting import figure, show\n",
    "\n",
    "# prepare some data\n",
    "x = [1, 2, 3, 4, 5]\n",
    "y = [4, 5, 5, 7, 2]\n",
    "\n",
    "# create a new plot with a specific size\n",
    "p = figure(\n",
    "    title=\"Plot resizing example\",\n",
    "    width=350,\n",
    "    height=250,\n",
    "    x_axis_label=\"x\",\n",
    "    y_axis_label=\"y\",\n",
    ")\n",
    "\n",
    "# chage plot size\n",
    "p.width = 450\n",
    "p.height = 150\n",
    "\n",
    "# add circle renderer\n",
    "circle = p.circle(x, y, fill_color=\"yellow\", size=15)\n",
    "\n",
    "# show the results\n",
    "show(p)"
   ]
  },
  {
   "cell_type": "markdown",
   "metadata": {},
   "source": [
    "## Enabling responsive plot sizing"
   ]
  },
  {
   "cell_type": "code",
   "execution_count": 19,
   "metadata": {},
   "outputs": [
    {
     "data": {
      "text/html": [
       "\n",
       "\n",
       "\n",
       "\n",
       "\n",
       "\n",
       "  <div class=\"bk-root\" id=\"70f2ac62-ce8d-4f2e-837a-562771f4c846\" data-root-id=\"3715\"></div>\n"
      ]
     },
     "metadata": {},
     "output_type": "display_data"
    },
    {
     "data": {
      "application/javascript": "(function(root) {\n  function embed_document(root) {\n    \n  const docs_json = {\"0fe79b6d-3c47-4851-9b8d-1af67d9f7537\":{\"defs\":[],\"roots\":{\"references\":[{\"attributes\":{\"below\":[{\"id\":\"3726\"}],\"center\":[{\"id\":\"3729\"},{\"id\":\"3733\"}],\"height\":250,\"left\":[{\"id\":\"3730\"}],\"renderers\":[{\"id\":\"3752\"}],\"sizing_mode\":\"stretch_width\",\"title\":{\"id\":\"3716\"},\"toolbar\":{\"id\":\"3741\"},\"x_range\":{\"id\":\"3718\"},\"x_scale\":{\"id\":\"3722\"},\"y_range\":{\"id\":\"3720\"},\"y_scale\":{\"id\":\"3724\"}},\"id\":\"3715\",\"subtype\":\"Figure\",\"type\":\"Plot\"},{\"attributes\":{},\"id\":\"3926\",\"type\":\"AllLabels\"},{\"attributes\":{\"data\":{\"x\":[1,2,3,4,5],\"y\":[4,5,5,7,2]},\"selected\":{\"id\":\"3928\"},\"selection_policy\":{\"id\":\"3927\"}},\"id\":\"3748\",\"type\":\"ColumnDataSource\"},{\"attributes\":{\"bottom_units\":\"screen\",\"coordinates\":null,\"fill_alpha\":0.5,\"fill_color\":\"lightgrey\",\"group\":null,\"left_units\":\"screen\",\"level\":\"overlay\",\"line_alpha\":1.0,\"line_color\":\"black\",\"line_dash\":[4,4],\"line_width\":2,\"right_units\":\"screen\",\"syncable\":false,\"top_units\":\"screen\"},\"id\":\"3740\",\"type\":\"BoxAnnotation\"},{\"attributes\":{},\"id\":\"3922\",\"type\":\"BasicTickFormatter\"},{\"attributes\":{},\"id\":\"3738\",\"type\":\"ResetTool\"},{\"attributes\":{\"coordinates\":null,\"data_source\":{\"id\":\"3748\"},\"glyph\":{\"id\":\"3749\"},\"group\":null,\"hover_glyph\":null,\"muted_glyph\":{\"id\":\"3751\"},\"nonselection_glyph\":{\"id\":\"3750\"},\"view\":{\"id\":\"3753\"}},\"id\":\"3752\",\"type\":\"GlyphRenderer\"},{\"attributes\":{},\"id\":\"3737\",\"type\":\"SaveTool\"},{\"attributes\":{\"fill_alpha\":{\"value\":0.2},\"fill_color\":{\"value\":\"red\"},\"hatch_alpha\":{\"value\":0.2},\"line_alpha\":{\"value\":0.2},\"line_color\":{\"value\":\"#1f77b4\"},\"size\":{\"value\":15},\"x\":{\"field\":\"x\"},\"y\":{\"field\":\"y\"}},\"id\":\"3751\",\"type\":\"Circle\"},{\"attributes\":{\"overlay\":{\"id\":\"3740\"}},\"id\":\"3736\",\"type\":\"BoxZoomTool\"},{\"attributes\":{},\"id\":\"3734\",\"type\":\"PanTool\"},{\"attributes\":{\"fill_alpha\":{\"value\":0.1},\"fill_color\":{\"value\":\"red\"},\"hatch_alpha\":{\"value\":0.1},\"line_alpha\":{\"value\":0.1},\"line_color\":{\"value\":\"#1f77b4\"},\"size\":{\"value\":15},\"x\":{\"field\":\"x\"},\"y\":{\"field\":\"y\"}},\"id\":\"3750\",\"type\":\"Circle\"},{\"attributes\":{\"coordinates\":null,\"group\":null,\"text\":\"Plot responsive sizing example\",\"text_color\":\"#5B5B5B\",\"text_font\":\"Calibri Light\",\"text_font_size\":\"1.25em\",\"text_font_style\":\"bold\"},\"id\":\"3716\",\"type\":\"Title\"},{\"attributes\":{},\"id\":\"3724\",\"type\":\"LinearScale\"},{\"attributes\":{\"axis_label\":\"x\",\"axis_label_standoff\":10,\"axis_label_text_color\":\"#5B5B5B\",\"axis_label_text_font\":\"Calibri Light\",\"axis_label_text_font_size\":\"1.15em\",\"axis_label_text_font_style\":\"bold\",\"axis_line_alpha\":1,\"axis_line_color\":\"#5B5B5B\",\"coordinates\":null,\"formatter\":{\"id\":\"3925\"},\"group\":null,\"major_label_policy\":{\"id\":\"3926\"},\"major_label_text_color\":\"#5B5B5B\",\"major_label_text_font\":\"Calibri Light\",\"major_label_text_font_size\":\"0.95em\",\"major_label_text_font_style\":\"bold\",\"major_tick_in\":0,\"major_tick_line_alpha\":0.25,\"major_tick_line_color\":\"#5B5B5B\",\"major_tick_out\":3,\"minor_tick_line_alpha\":0.25,\"minor_tick_line_color\":\"#5B5B5B\",\"ticker\":{\"id\":\"3727\"}},\"id\":\"3726\",\"type\":\"LinearAxis\"},{\"attributes\":{\"source\":{\"id\":\"3748\"}},\"id\":\"3753\",\"type\":\"CDSView\"},{\"attributes\":{},\"id\":\"3925\",\"type\":\"BasicTickFormatter\"},{\"attributes\":{\"fill_color\":{\"value\":\"red\"},\"line_color\":{\"value\":\"#1f77b4\"},\"size\":{\"value\":15},\"x\":{\"field\":\"x\"},\"y\":{\"field\":\"y\"}},\"id\":\"3749\",\"type\":\"Circle\"},{\"attributes\":{},\"id\":\"3722\",\"type\":\"LinearScale\"},{\"attributes\":{},\"id\":\"3735\",\"type\":\"WheelZoomTool\"},{\"attributes\":{\"tools\":[{\"id\":\"3734\"},{\"id\":\"3735\"},{\"id\":\"3736\"},{\"id\":\"3737\"},{\"id\":\"3738\"},{\"id\":\"3739\"}]},\"id\":\"3741\",\"type\":\"Toolbar\"},{\"attributes\":{\"axis\":{\"id\":\"3726\"},\"coordinates\":null,\"group\":null,\"ticker\":null},\"id\":\"3729\",\"type\":\"Grid\"},{\"attributes\":{},\"id\":\"3720\",\"type\":\"DataRange1d\"},{\"attributes\":{\"axis\":{\"id\":\"3730\"},\"coordinates\":null,\"dimension\":1,\"group\":null,\"ticker\":null},\"id\":\"3733\",\"type\":\"Grid\"},{\"attributes\":{},\"id\":\"3731\",\"type\":\"BasicTicker\"},{\"attributes\":{\"axis_label\":\"y\",\"axis_label_standoff\":10,\"axis_label_text_color\":\"#5B5B5B\",\"axis_label_text_font\":\"Calibri Light\",\"axis_label_text_font_size\":\"1.15em\",\"axis_label_text_font_style\":\"bold\",\"axis_line_alpha\":1,\"axis_line_color\":\"#5B5B5B\",\"coordinates\":null,\"formatter\":{\"id\":\"3922\"},\"group\":null,\"major_label_policy\":{\"id\":\"3923\"},\"major_label_text_color\":\"#5B5B5B\",\"major_label_text_font\":\"Calibri Light\",\"major_label_text_font_size\":\"0.95em\",\"major_label_text_font_style\":\"bold\",\"major_tick_in\":0,\"major_tick_line_alpha\":0.25,\"major_tick_line_color\":\"#5B5B5B\",\"major_tick_out\":3,\"minor_tick_line_alpha\":0.25,\"minor_tick_line_color\":\"#5B5B5B\",\"ticker\":{\"id\":\"3731\"}},\"id\":\"3730\",\"type\":\"LinearAxis\"},{\"attributes\":{},\"id\":\"3727\",\"type\":\"BasicTicker\"},{\"attributes\":{},\"id\":\"3928\",\"type\":\"Selection\"},{\"attributes\":{},\"id\":\"3739\",\"type\":\"HelpTool\"},{\"attributes\":{},\"id\":\"3718\",\"type\":\"DataRange1d\"},{\"attributes\":{},\"id\":\"3927\",\"type\":\"UnionRenderers\"},{\"attributes\":{},\"id\":\"3923\",\"type\":\"AllLabels\"}],\"root_ids\":[\"3715\"]},\"title\":\"Bokeh Application\",\"version\":\"2.4.2\"}};\n  const render_items = [{\"docid\":\"0fe79b6d-3c47-4851-9b8d-1af67d9f7537\",\"root_ids\":[\"3715\"],\"roots\":{\"3715\":\"70f2ac62-ce8d-4f2e-837a-562771f4c846\"}}];\n  root.Bokeh.embed.embed_items_notebook(docs_json, render_items);\n\n  }\n  if (root.Bokeh !== undefined) {\n    embed_document(root);\n  } else {\n    let attempts = 0;\n    const timer = setInterval(function(root) {\n      if (root.Bokeh !== undefined) {\n        clearInterval(timer);\n        embed_document(root);\n      } else {\n        attempts++;\n        if (attempts > 100) {\n          clearInterval(timer);\n          console.log(\"Bokeh: ERROR: Unable to run BokehJS code because BokehJS library is missing\");\n        }\n      }\n    }, 10, root)\n  }\n})(window);",
      "application/vnd.bokehjs_exec.v0+json": ""
     },
     "metadata": {
      "application/vnd.bokehjs_exec.v0+json": {
       "id": "3715"
      }
     },
     "output_type": "display_data"
    }
   ],
   "source": [
    "from bokeh.plotting import figure, show\n",
    "\n",
    "# prepare some data\n",
    "x = [1, 2, 3, 4, 5]\n",
    "y = [4, 5, 5, 7, 2]\n",
    "\n",
    "# create a new plot with responsive width\n",
    "p = figure(\n",
    "    title=\"Plot responsive sizing example\",\n",
    "    sizing_mode=\"stretch_width\",\n",
    "    height=250,\n",
    "    x_axis_label=\"x\",\n",
    "    y_axis_label=\"y\",\n",
    ")\n",
    "\n",
    "# add circle renderer\n",
    "circle = p.circle(x, y, fill_color=\"red\", size=15)\n",
    "\n",
    "# show the results\n",
    "show(p)"
   ]
  },
  {
   "cell_type": "markdown",
   "metadata": {},
   "source": [
    "## Customizing axes"
   ]
  },
  {
   "cell_type": "code",
   "execution_count": 20,
   "metadata": {},
   "outputs": [
    {
     "data": {
      "text/html": [
       "\n",
       "\n",
       "\n",
       "\n",
       "\n",
       "\n",
       "  <div class=\"bk-root\" id=\"3623025c-e625-49ff-b909-4b6fdbe7fce4\" data-root-id=\"3980\"></div>\n"
      ]
     },
     "metadata": {},
     "output_type": "display_data"
    },
    {
     "data": {
      "application/javascript": "(function(root) {\n  function embed_document(root) {\n    \n  const docs_json = {\"422a6447-cd42-48ce-9228-0840a9c9bd9a\":{\"defs\":[],\"roots\":{\"references\":[{\"attributes\":{\"below\":[{\"id\":\"3991\"}],\"center\":[{\"id\":\"3994\"},{\"id\":\"3998\"}],\"height\":350,\"left\":[{\"id\":\"3995\"}],\"max_width\":500,\"renderers\":[{\"id\":\"4017\"}],\"sizing_mode\":\"stretch_width\",\"title\":{\"id\":\"3981\"},\"toolbar\":{\"id\":\"4006\"},\"x_range\":{\"id\":\"3983\"},\"x_scale\":{\"id\":\"3987\"},\"y_range\":{\"id\":\"3985\"},\"y_scale\":{\"id\":\"3989\"}},\"id\":\"3980\",\"subtype\":\"Figure\",\"type\":\"Plot\"},{\"attributes\":{\"bottom_units\":\"screen\",\"coordinates\":null,\"fill_alpha\":0.5,\"fill_color\":\"lightgrey\",\"group\":null,\"left_units\":\"screen\",\"level\":\"overlay\",\"line_alpha\":1.0,\"line_color\":\"black\",\"line_dash\":[4,4],\"line_width\":2,\"right_units\":\"screen\",\"syncable\":false,\"top_units\":\"screen\"},\"id\":\"4005\",\"type\":\"BoxAnnotation\"},{\"attributes\":{},\"id\":\"3992\",\"type\":\"BasicTicker\"},{\"attributes\":{},\"id\":\"3989\",\"type\":\"LinearScale\"},{\"attributes\":{},\"id\":\"4198\",\"type\":\"AllLabels\"},{\"attributes\":{},\"id\":\"4202\",\"type\":\"UnionRenderers\"},{\"attributes\":{\"axis\":{\"id\":\"3991\"},\"coordinates\":null,\"group\":null,\"ticker\":null},\"id\":\"3994\",\"type\":\"Grid\"},{\"attributes\":{\"axis\":{\"id\":\"3995\"},\"coordinates\":null,\"dimension\":1,\"group\":null,\"ticker\":null},\"id\":\"3998\",\"type\":\"Grid\"},{\"attributes\":{},\"id\":\"3996\",\"type\":\"BasicTicker\"},{\"attributes\":{},\"id\":\"3985\",\"type\":\"DataRange1d\"},{\"attributes\":{\"tools\":[{\"id\":\"3999\"},{\"id\":\"4000\"},{\"id\":\"4001\"},{\"id\":\"4002\"},{\"id\":\"4003\"},{\"id\":\"4004\"}]},\"id\":\"4006\",\"type\":\"Toolbar\"},{\"attributes\":{},\"id\":\"4003\",\"type\":\"ResetTool\"},{\"attributes\":{},\"id\":\"3987\",\"type\":\"LinearScale\"},{\"attributes\":{},\"id\":\"4002\",\"type\":\"SaveTool\"},{\"attributes\":{\"axis_label\":\"Temp\",\"axis_label_standoff\":10,\"axis_label_text_color\":\"#5B5B5B\",\"axis_label_text_font\":\"Calibri Light\",\"axis_label_text_font_size\":\"1.15em\",\"axis_label_text_font_style\":\"bold\",\"axis_line_alpha\":1,\"axis_line_color\":\"red\",\"axis_line_width\":3,\"coordinates\":null,\"formatter\":{\"id\":\"4200\"},\"group\":null,\"major_label_policy\":{\"id\":\"4201\"},\"major_label_text_color\":\"#5B5B5B\",\"major_label_text_font\":\"Calibri Light\",\"major_label_text_font_size\":\"0.95em\",\"major_label_text_font_style\":\"bold\",\"major_tick_in\":0,\"major_tick_line_alpha\":0.25,\"major_tick_line_color\":\"#5B5B5B\",\"major_tick_out\":3,\"minor_tick_in\":-3,\"minor_tick_line_alpha\":0.25,\"minor_tick_line_color\":\"#5B5B5B\",\"minor_tick_out\":6,\"ticker\":{\"id\":\"3992\"}},\"id\":\"3991\",\"type\":\"LinearAxis\"},{\"attributes\":{},\"id\":\"4000\",\"type\":\"WheelZoomTool\"},{\"attributes\":{\"overlay\":{\"id\":\"4005\"}},\"id\":\"4001\",\"type\":\"BoxZoomTool\"},{\"attributes\":{\"axis_label\":\"Pressure\",\"axis_label_standoff\":10,\"axis_label_text_color\":\"#5B5B5B\",\"axis_label_text_font\":\"Calibri Light\",\"axis_label_text_font_size\":\"1.15em\",\"axis_label_text_font_style\":\"bold\",\"axis_line_alpha\":1,\"axis_line_color\":\"#5B5B5B\",\"coordinates\":null,\"formatter\":{\"id\":\"4197\"},\"group\":null,\"major_label_orientation\":\"vertical\",\"major_label_policy\":{\"id\":\"4198\"},\"major_label_text_color\":\"orange\",\"major_label_text_font\":\"Calibri Light\",\"major_label_text_font_size\":\"0.95em\",\"major_label_text_font_style\":\"bold\",\"major_tick_in\":0,\"major_tick_line_alpha\":0.25,\"major_tick_line_color\":\"#5B5B5B\",\"major_tick_out\":3,\"minor_tick_in\":-3,\"minor_tick_line_alpha\":0.25,\"minor_tick_line_color\":\"#5B5B5B\",\"minor_tick_out\":6,\"ticker\":{\"id\":\"3996\"}},\"id\":\"3995\",\"type\":\"LinearAxis\"},{\"attributes\":{},\"id\":\"3999\",\"type\":\"PanTool\"},{\"attributes\":{\"coordinates\":null,\"group\":null,\"text\":\"Customized axes example\",\"text_color\":\"#5B5B5B\",\"text_font\":\"Calibri Light\",\"text_font_size\":\"1.25em\",\"text_font_style\":\"bold\"},\"id\":\"3981\",\"type\":\"Title\"},{\"attributes\":{},\"id\":\"3983\",\"type\":\"DataRange1d\"},{\"attributes\":{\"data\":{\"x\":[1,2,3,4,5],\"y\":[4,5,5,7,2]},\"selected\":{\"id\":\"4203\"},\"selection_policy\":{\"id\":\"4202\"}},\"id\":\"4013\",\"type\":\"ColumnDataSource\"},{\"attributes\":{\"fill_color\":{\"value\":\"#1f77b4\"},\"line_color\":{\"value\":\"#1f77b4\"},\"size\":{\"value\":10},\"x\":{\"field\":\"x\"},\"y\":{\"field\":\"y\"}},\"id\":\"4014\",\"type\":\"Circle\"},{\"attributes\":{},\"id\":\"4200\",\"type\":\"BasicTickFormatter\"},{\"attributes\":{},\"id\":\"4201\",\"type\":\"AllLabels\"},{\"attributes\":{},\"id\":\"4203\",\"type\":\"Selection\"},{\"attributes\":{\"source\":{\"id\":\"4013\"}},\"id\":\"4018\",\"type\":\"CDSView\"},{\"attributes\":{\"fill_alpha\":{\"value\":0.2},\"fill_color\":{\"value\":\"#1f77b4\"},\"hatch_alpha\":{\"value\":0.2},\"line_alpha\":{\"value\":0.2},\"line_color\":{\"value\":\"#1f77b4\"},\"size\":{\"value\":10},\"x\":{\"field\":\"x\"},\"y\":{\"field\":\"y\"}},\"id\":\"4016\",\"type\":\"Circle\"},{\"attributes\":{},\"id\":\"4197\",\"type\":\"BasicTickFormatter\"},{\"attributes\":{\"coordinates\":null,\"data_source\":{\"id\":\"4013\"},\"glyph\":{\"id\":\"4014\"},\"group\":null,\"hover_glyph\":null,\"muted_glyph\":{\"id\":\"4016\"},\"nonselection_glyph\":{\"id\":\"4015\"},\"view\":{\"id\":\"4018\"}},\"id\":\"4017\",\"type\":\"GlyphRenderer\"},{\"attributes\":{},\"id\":\"4004\",\"type\":\"HelpTool\"},{\"attributes\":{\"fill_alpha\":{\"value\":0.1},\"fill_color\":{\"value\":\"#1f77b4\"},\"hatch_alpha\":{\"value\":0.1},\"line_alpha\":{\"value\":0.1},\"line_color\":{\"value\":\"#1f77b4\"},\"size\":{\"value\":10},\"x\":{\"field\":\"x\"},\"y\":{\"field\":\"y\"}},\"id\":\"4015\",\"type\":\"Circle\"}],\"root_ids\":[\"3980\"]},\"title\":\"Bokeh Application\",\"version\":\"2.4.2\"}};\n  const render_items = [{\"docid\":\"422a6447-cd42-48ce-9228-0840a9c9bd9a\",\"root_ids\":[\"3980\"],\"roots\":{\"3980\":\"3623025c-e625-49ff-b909-4b6fdbe7fce4\"}}];\n  root.Bokeh.embed.embed_items_notebook(docs_json, render_items);\n\n  }\n  if (root.Bokeh !== undefined) {\n    embed_document(root);\n  } else {\n    let attempts = 0;\n    const timer = setInterval(function(root) {\n      if (root.Bokeh !== undefined) {\n        clearInterval(timer);\n        embed_document(root);\n      } else {\n        attempts++;\n        if (attempts > 100) {\n          clearInterval(timer);\n          console.log(\"Bokeh: ERROR: Unable to run BokehJS code because BokehJS library is missing\");\n        }\n      }\n    }, 10, root)\n  }\n})(window);",
      "application/vnd.bokehjs_exec.v0+json": ""
     },
     "metadata": {
      "application/vnd.bokehjs_exec.v0+json": {
       "id": "3980"
      }
     },
     "output_type": "display_data"
    }
   ],
   "source": [
    "from bokeh.plotting import figure, show\n",
    "\n",
    "# prepare some data\n",
    "x = [1, 2, 3, 4, 5]\n",
    "y = [4, 5, 5, 7, 2]\n",
    "\n",
    "# create a plot\n",
    "p = figure(\n",
    "    title=\"Customized axes example\",\n",
    "    sizing_mode=\"stretch_width\",\n",
    "    max_width=500,\n",
    "    height=350,\n",
    ")\n",
    "\n",
    "# add a renderer\n",
    "p.circle(x, y, size=10)\n",
    "\n",
    "# change some things about the x-axis\n",
    "p.xaxis.axis_label = \"Temp\"\n",
    "p.xaxis.axis_line_width = 3\n",
    "p.xaxis.axis_line_color = \"red\"\n",
    "\n",
    "# change some things about the y-axis\n",
    "p.yaxis.axis_label = \"Pressure\"\n",
    "p.yaxis.major_label_text_color = \"orange\"\n",
    "p.yaxis.major_label_orientation = \"vertical\"\n",
    "\n",
    "# change things on all axes\n",
    "p.axis.minor_tick_in = -3\n",
    "p.axis.minor_tick_out = 6\n",
    "\n",
    "# show the results\n",
    "show(p)"
   ]
  },
  {
   "cell_type": "markdown",
   "metadata": {},
   "source": [
    "## Defining axis ranges"
   ]
  },
  {
   "cell_type": "code",
   "execution_count": 21,
   "metadata": {},
   "outputs": [
    {
     "data": {
      "text/html": [
       "\n",
       "\n",
       "\n",
       "\n",
       "\n",
       "\n",
       "  <div class=\"bk-root\" id=\"568803b7-0a59-4557-a07c-140125f453ee\" data-root-id=\"4255\"></div>\n"
      ]
     },
     "metadata": {},
     "output_type": "display_data"
    },
    {
     "data": {
      "application/javascript": "(function(root) {\n  function embed_document(root) {\n    \n  const docs_json = {\"43fbc5e5-2836-44f3-8e6f-3457ff19ffc2\":{\"defs\":[],\"roots\":{\"references\":[{\"attributes\":{\"below\":[{\"id\":\"4266\"}],\"center\":[{\"id\":\"4269\"},{\"id\":\"4273\"}],\"height\":250,\"left\":[{\"id\":\"4270\"}],\"max_width\":500,\"renderers\":[{\"id\":\"4292\"}],\"sizing_mode\":\"stretch_width\",\"title\":{\"id\":\"4256\"},\"toolbar\":{\"id\":\"4281\"},\"x_range\":{\"id\":\"4258\"},\"x_scale\":{\"id\":\"4262\"},\"y_range\":{\"id\":\"4260\"},\"y_scale\":{\"id\":\"4264\"}},\"id\":\"4255\",\"subtype\":\"Figure\",\"type\":\"Plot\"},{\"attributes\":{},\"id\":\"4488\",\"type\":\"Selection\"},{\"attributes\":{\"source\":{\"id\":\"4288\"}},\"id\":\"4293\",\"type\":\"CDSView\"},{\"attributes\":{\"end\":25},\"id\":\"4260\",\"type\":\"Range1d\"},{\"attributes\":{},\"id\":\"4483\",\"type\":\"AllLabels\"},{\"attributes\":{},\"id\":\"4271\",\"type\":\"BasicTicker\"},{\"attributes\":{},\"id\":\"4267\",\"type\":\"BasicTicker\"},{\"attributes\":{\"coordinates\":null,\"group\":null,\"text\":\"Axis range example\",\"text_color\":\"#5B5B5B\",\"text_font\":\"Calibri Light\",\"text_font_size\":\"1.25em\",\"text_font_style\":\"bold\"},\"id\":\"4256\",\"type\":\"Title\"},{\"attributes\":{},\"id\":\"4487\",\"type\":\"UnionRenderers\"},{\"attributes\":{\"fill_color\":{\"value\":\"#1f77b4\"},\"line_color\":{\"value\":\"#1f77b4\"},\"size\":{\"value\":8},\"x\":{\"field\":\"x\"},\"y\":{\"field\":\"y\"}},\"id\":\"4289\",\"type\":\"Circle\"},{\"attributes\":{},\"id\":\"4258\",\"type\":\"DataRange1d\"},{\"attributes\":{\"data\":{\"x\":[1,2,3,4,5],\"y\":[4,5,5,7,2]},\"selected\":{\"id\":\"4488\"},\"selection_policy\":{\"id\":\"4487\"}},\"id\":\"4288\",\"type\":\"ColumnDataSource\"},{\"attributes\":{\"axis\":{\"id\":\"4270\"},\"coordinates\":null,\"dimension\":1,\"group\":null,\"ticker\":null},\"id\":\"4273\",\"type\":\"Grid\"},{\"attributes\":{\"axis_label_standoff\":10,\"axis_label_text_color\":\"#5B5B5B\",\"axis_label_text_font\":\"Calibri Light\",\"axis_label_text_font_size\":\"1.15em\",\"axis_label_text_font_style\":\"bold\",\"axis_line_alpha\":1,\"axis_line_color\":\"#5B5B5B\",\"coordinates\":null,\"formatter\":{\"id\":\"4485\"},\"group\":null,\"major_label_policy\":{\"id\":\"4486\"},\"major_label_text_color\":\"#5B5B5B\",\"major_label_text_font\":\"Calibri Light\",\"major_label_text_font_size\":\"0.95em\",\"major_label_text_font_style\":\"bold\",\"major_tick_in\":0,\"major_tick_line_alpha\":0.25,\"major_tick_line_color\":\"#5B5B5B\",\"major_tick_out\":3,\"minor_tick_line_alpha\":0.25,\"minor_tick_line_color\":\"#5B5B5B\",\"ticker\":{\"id\":\"4267\"}},\"id\":\"4266\",\"type\":\"LinearAxis\"},{\"attributes\":{},\"id\":\"4278\",\"type\":\"ResetTool\"},{\"attributes\":{\"axis\":{\"id\":\"4266\"},\"coordinates\":null,\"group\":null,\"ticker\":null},\"id\":\"4269\",\"type\":\"Grid\"},{\"attributes\":{},\"id\":\"4277\",\"type\":\"SaveTool\"},{\"attributes\":{\"bottom_units\":\"screen\",\"coordinates\":null,\"fill_alpha\":0.5,\"fill_color\":\"lightgrey\",\"group\":null,\"left_units\":\"screen\",\"level\":\"overlay\",\"line_alpha\":1.0,\"line_color\":\"black\",\"line_dash\":[4,4],\"line_width\":2,\"right_units\":\"screen\",\"syncable\":false,\"top_units\":\"screen\"},\"id\":\"4280\",\"type\":\"BoxAnnotation\"},{\"attributes\":{},\"id\":\"4264\",\"type\":\"LinearScale\"},{\"attributes\":{\"overlay\":{\"id\":\"4280\"}},\"id\":\"4276\",\"type\":\"BoxZoomTool\"},{\"attributes\":{},\"id\":\"4274\",\"type\":\"PanTool\"},{\"attributes\":{},\"id\":\"4275\",\"type\":\"WheelZoomTool\"},{\"attributes\":{\"fill_alpha\":{\"value\":0.2},\"fill_color\":{\"value\":\"#1f77b4\"},\"hatch_alpha\":{\"value\":0.2},\"line_alpha\":{\"value\":0.2},\"line_color\":{\"value\":\"#1f77b4\"},\"size\":{\"value\":8},\"x\":{\"field\":\"x\"},\"y\":{\"field\":\"y\"}},\"id\":\"4291\",\"type\":\"Circle\"},{\"attributes\":{},\"id\":\"4262\",\"type\":\"LinearScale\"},{\"attributes\":{},\"id\":\"4485\",\"type\":\"BasicTickFormatter\"},{\"attributes\":{\"tools\":[{\"id\":\"4274\"},{\"id\":\"4275\"},{\"id\":\"4276\"},{\"id\":\"4277\"},{\"id\":\"4278\"},{\"id\":\"4279\"}]},\"id\":\"4281\",\"type\":\"Toolbar\"},{\"attributes\":{\"coordinates\":null,\"data_source\":{\"id\":\"4288\"},\"glyph\":{\"id\":\"4289\"},\"group\":null,\"hover_glyph\":null,\"muted_glyph\":{\"id\":\"4291\"},\"nonselection_glyph\":{\"id\":\"4290\"},\"view\":{\"id\":\"4293\"}},\"id\":\"4292\",\"type\":\"GlyphRenderer\"},{\"attributes\":{},\"id\":\"4279\",\"type\":\"HelpTool\"},{\"attributes\":{\"fill_alpha\":{\"value\":0.1},\"fill_color\":{\"value\":\"#1f77b4\"},\"hatch_alpha\":{\"value\":0.1},\"line_alpha\":{\"value\":0.1},\"line_color\":{\"value\":\"#1f77b4\"},\"size\":{\"value\":8},\"x\":{\"field\":\"x\"},\"y\":{\"field\":\"y\"}},\"id\":\"4290\",\"type\":\"Circle\"},{\"attributes\":{},\"id\":\"4486\",\"type\":\"AllLabels\"},{\"attributes\":{},\"id\":\"4482\",\"type\":\"BasicTickFormatter\"},{\"attributes\":{\"axis_label_standoff\":10,\"axis_label_text_color\":\"#5B5B5B\",\"axis_label_text_font\":\"Calibri Light\",\"axis_label_text_font_size\":\"1.15em\",\"axis_label_text_font_style\":\"bold\",\"axis_line_alpha\":1,\"axis_line_color\":\"#5B5B5B\",\"coordinates\":null,\"formatter\":{\"id\":\"4482\"},\"group\":null,\"major_label_policy\":{\"id\":\"4483\"},\"major_label_text_color\":\"#5B5B5B\",\"major_label_text_font\":\"Calibri Light\",\"major_label_text_font_size\":\"0.95em\",\"major_label_text_font_style\":\"bold\",\"major_tick_in\":0,\"major_tick_line_alpha\":0.25,\"major_tick_line_color\":\"#5B5B5B\",\"major_tick_out\":3,\"minor_tick_line_alpha\":0.25,\"minor_tick_line_color\":\"#5B5B5B\",\"ticker\":{\"id\":\"4271\"}},\"id\":\"4270\",\"type\":\"LinearAxis\"}],\"root_ids\":[\"4255\"]},\"title\":\"Bokeh Application\",\"version\":\"2.4.2\"}};\n  const render_items = [{\"docid\":\"43fbc5e5-2836-44f3-8e6f-3457ff19ffc2\",\"root_ids\":[\"4255\"],\"roots\":{\"4255\":\"568803b7-0a59-4557-a07c-140125f453ee\"}}];\n  root.Bokeh.embed.embed_items_notebook(docs_json, render_items);\n\n  }\n  if (root.Bokeh !== undefined) {\n    embed_document(root);\n  } else {\n    let attempts = 0;\n    const timer = setInterval(function(root) {\n      if (root.Bokeh !== undefined) {\n        clearInterval(timer);\n        embed_document(root);\n      } else {\n        attempts++;\n        if (attempts > 100) {\n          clearInterval(timer);\n          console.log(\"Bokeh: ERROR: Unable to run BokehJS code because BokehJS library is missing\");\n        }\n      }\n    }, 10, root)\n  }\n})(window);",
      "application/vnd.bokehjs_exec.v0+json": ""
     },
     "metadata": {
      "application/vnd.bokehjs_exec.v0+json": {
       "id": "4255"
      }
     },
     "output_type": "display_data"
    }
   ],
   "source": [
    "from bokeh.plotting import figure, show\n",
    "\n",
    "# prepare some data\n",
    "x = [1, 2, 3, 4, 5]\n",
    "y = [4, 5, 5, 7, 2]\n",
    "\n",
    "# create a new plot with responsive width\n",
    "p = figure(\n",
    "    y_range=(0, 25),\n",
    "    title=\"Axis range example\",\n",
    "    sizing_mode=\"stretch_width\",\n",
    "    max_width=500,\n",
    "    height=250,\n",
    ")\n",
    "\n",
    "# add circle renderer with additional arguments\n",
    "circle = p.circle(x, y, size=8)\n",
    "\n",
    "# show the results\n",
    "show(p)"
   ]
  },
  {
   "cell_type": "markdown",
   "metadata": {},
   "source": [
    "## Formatting axis ticks"
   ]
  },
  {
   "cell_type": "code",
   "execution_count": 22,
   "metadata": {},
   "outputs": [
    {
     "data": {
      "text/html": [
       "\n",
       "\n",
       "\n",
       "\n",
       "\n",
       "\n",
       "  <div class=\"bk-root\" id=\"cb0930bc-0c8a-40f1-9aae-b88d208340e7\" data-root-id=\"4540\"></div>\n"
      ]
     },
     "metadata": {},
     "output_type": "display_data"
    },
    {
     "data": {
      "application/javascript": "(function(root) {\n  function embed_document(root) {\n    \n  const docs_json = {\"616c5801-3606-4259-9784-f9db7e59f4b6\":{\"defs\":[],\"roots\":{\"references\":[{\"attributes\":{\"below\":[{\"id\":\"4551\"}],\"center\":[{\"id\":\"4554\"},{\"id\":\"4558\"}],\"height\":250,\"left\":[{\"id\":\"4555\"}],\"max_width\":500,\"renderers\":[{\"id\":\"4579\"},{\"id\":\"4585\"}],\"sizing_mode\":\"stretch_width\",\"title\":{\"id\":\"4541\"},\"toolbar\":{\"id\":\"4566\"},\"x_range\":{\"id\":\"4543\"},\"x_scale\":{\"id\":\"4547\"},\"y_range\":{\"id\":\"4545\"},\"y_scale\":{\"id\":\"4549\"}},\"id\":\"4540\",\"subtype\":\"Figure\",\"type\":\"Plot\"},{\"attributes\":{\"coordinates\":null,\"group\":null,\"text\":\"Tick formatter example\",\"text_color\":\"#5B5B5B\",\"text_font\":\"Calibri Light\",\"text_font_size\":\"1.25em\",\"text_font_style\":\"bold\"},\"id\":\"4541\",\"type\":\"Title\"},{\"attributes\":{\"source\":{\"id\":\"4581\"}},\"id\":\"4586\",\"type\":\"CDSView\"},{\"attributes\":{\"coordinates\":null,\"data_source\":{\"id\":\"4581\"},\"glyph\":{\"id\":\"4582\"},\"group\":null,\"hover_glyph\":null,\"muted_glyph\":{\"id\":\"4584\"},\"nonselection_glyph\":{\"id\":\"4583\"},\"view\":{\"id\":\"4586\"}},\"id\":\"4585\",\"type\":\"GlyphRenderer\"},{\"attributes\":{\"line_alpha\":0.1,\"line_color\":\"navy\",\"x\":{\"field\":\"x\"},\"y\":{\"field\":\"y\"}},\"id\":\"4583\",\"type\":\"Line\"},{\"attributes\":{\"line_alpha\":0.2,\"line_color\":\"navy\",\"x\":{\"field\":\"x\"},\"y\":{\"field\":\"y\"}},\"id\":\"4584\",\"type\":\"Line\"},{\"attributes\":{},\"id\":\"4543\",\"type\":\"DataRange1d\"},{\"attributes\":{},\"id\":\"4790\",\"type\":\"Selection\"},{\"attributes\":{\"tools\":[{\"id\":\"4559\"},{\"id\":\"4560\"},{\"id\":\"4561\"},{\"id\":\"4562\"},{\"id\":\"4563\"},{\"id\":\"4564\"}]},\"id\":\"4566\",\"type\":\"Toolbar\"},{\"attributes\":{},\"id\":\"4789\",\"type\":\"UnionRenderers\"},{\"attributes\":{},\"id\":\"4785\",\"type\":\"AllLabels\"},{\"attributes\":{\"axis_label_standoff\":10,\"axis_label_text_color\":\"#5B5B5B\",\"axis_label_text_font\":\"Calibri Light\",\"axis_label_text_font_size\":\"1.15em\",\"axis_label_text_font_style\":\"bold\",\"axis_line_alpha\":1,\"axis_line_color\":\"#5B5B5B\",\"coordinates\":null,\"formatter\":{\"id\":\"4573\"},\"group\":null,\"major_label_policy\":{\"id\":\"4785\"},\"major_label_text_color\":\"#5B5B5B\",\"major_label_text_font\":\"Calibri Light\",\"major_label_text_font_size\":\"0.95em\",\"major_label_text_font_style\":\"bold\",\"major_tick_in\":0,\"major_tick_line_alpha\":0.25,\"major_tick_line_color\":\"#5B5B5B\",\"major_tick_out\":3,\"minor_tick_line_alpha\":0.25,\"minor_tick_line_color\":\"#5B5B5B\",\"ticker\":{\"id\":\"4556\"}},\"id\":\"4555\",\"type\":\"LinearAxis\"},{\"attributes\":{},\"id\":\"4791\",\"type\":\"UnionRenderers\"},{\"attributes\":{},\"id\":\"4547\",\"type\":\"LinearScale\"},{\"attributes\":{\"fill_color\":{\"value\":\"#1f77b4\"},\"line_color\":{\"value\":\"#1f77b4\"},\"size\":{\"value\":8},\"x\":{\"field\":\"x\"},\"y\":{\"field\":\"y\"}},\"id\":\"4576\",\"type\":\"Circle\"},{\"attributes\":{},\"id\":\"4560\",\"type\":\"WheelZoomTool\"},{\"attributes\":{\"axis_label_standoff\":10,\"axis_label_text_color\":\"#5B5B5B\",\"axis_label_text_font\":\"Calibri Light\",\"axis_label_text_font_size\":\"1.15em\",\"axis_label_text_font_style\":\"bold\",\"axis_line_alpha\":1,\"axis_line_color\":\"#5B5B5B\",\"coordinates\":null,\"formatter\":{\"id\":\"4787\"},\"group\":null,\"major_label_policy\":{\"id\":\"4788\"},\"major_label_text_color\":\"#5B5B5B\",\"major_label_text_font\":\"Calibri Light\",\"major_label_text_font_size\":\"0.95em\",\"major_label_text_font_style\":\"bold\",\"major_tick_in\":0,\"major_tick_line_alpha\":0.25,\"major_tick_line_color\":\"#5B5B5B\",\"major_tick_out\":3,\"minor_tick_line_alpha\":0.25,\"minor_tick_line_color\":\"#5B5B5B\",\"ticker\":{\"id\":\"4552\"}},\"id\":\"4551\",\"type\":\"LinearAxis\"},{\"attributes\":{\"line_color\":\"navy\",\"x\":{\"field\":\"x\"},\"y\":{\"field\":\"y\"}},\"id\":\"4582\",\"type\":\"Line\"},{\"attributes\":{},\"id\":\"4564\",\"type\":\"HelpTool\"},{\"attributes\":{},\"id\":\"4559\",\"type\":\"PanTool\"},{\"attributes\":{\"bottom_units\":\"screen\",\"coordinates\":null,\"fill_alpha\":0.5,\"fill_color\":\"lightgrey\",\"group\":null,\"left_units\":\"screen\",\"level\":\"overlay\",\"line_alpha\":1.0,\"line_color\":\"black\",\"line_dash\":[4,4],\"line_width\":2,\"right_units\":\"screen\",\"syncable\":false,\"top_units\":\"screen\"},\"id\":\"4565\",\"type\":\"BoxAnnotation\"},{\"attributes\":{\"overlay\":{\"id\":\"4565\"}},\"id\":\"4561\",\"type\":\"BoxZoomTool\"},{\"attributes\":{\"source\":{\"id\":\"4575\"}},\"id\":\"4580\",\"type\":\"CDSView\"},{\"attributes\":{},\"id\":\"4562\",\"type\":\"SaveTool\"},{\"attributes\":{\"data\":{\"x\":[1,2,3,4,5],\"y\":[4,5,5,7,2]},\"selected\":{\"id\":\"4790\"},\"selection_policy\":{\"id\":\"4789\"}},\"id\":\"4575\",\"type\":\"ColumnDataSource\"},{\"attributes\":{},\"id\":\"4556\",\"type\":\"BasicTicker\"},{\"attributes\":{\"axis\":{\"id\":\"4555\"},\"coordinates\":null,\"dimension\":1,\"group\":null,\"ticker\":null},\"id\":\"4558\",\"type\":\"Grid\"},{\"attributes\":{\"fill_alpha\":{\"value\":0.2},\"fill_color\":{\"value\":\"#1f77b4\"},\"hatch_alpha\":{\"value\":0.2},\"line_alpha\":{\"value\":0.2},\"line_color\":{\"value\":\"#1f77b4\"},\"size\":{\"value\":8},\"x\":{\"field\":\"x\"},\"y\":{\"field\":\"y\"}},\"id\":\"4578\",\"type\":\"Circle\"},{\"attributes\":{\"data\":{\"x\":[1,2,3,4,5],\"y\":[4,5,5,7,2]},\"selected\":{\"id\":\"4792\"},\"selection_policy\":{\"id\":\"4791\"}},\"id\":\"4581\",\"type\":\"ColumnDataSource\"},{\"attributes\":{\"coordinates\":null,\"data_source\":{\"id\":\"4575\"},\"glyph\":{\"id\":\"4576\"},\"group\":null,\"hover_glyph\":null,\"muted_glyph\":{\"id\":\"4578\"},\"nonselection_glyph\":{\"id\":\"4577\"},\"view\":{\"id\":\"4580\"}},\"id\":\"4579\",\"type\":\"GlyphRenderer\"},{\"attributes\":{},\"id\":\"4787\",\"type\":\"BasicTickFormatter\"},{\"attributes\":{},\"id\":\"4788\",\"type\":\"AllLabels\"},{\"attributes\":{\"axis\":{\"id\":\"4551\"},\"coordinates\":null,\"group\":null,\"ticker\":null},\"id\":\"4554\",\"type\":\"Grid\"},{\"attributes\":{\"fill_alpha\":{\"value\":0.1},\"fill_color\":{\"value\":\"#1f77b4\"},\"hatch_alpha\":{\"value\":0.1},\"line_alpha\":{\"value\":0.1},\"line_color\":{\"value\":\"#1f77b4\"},\"size\":{\"value\":8},\"x\":{\"field\":\"x\"},\"y\":{\"field\":\"y\"}},\"id\":\"4577\",\"type\":\"Circle\"},{\"attributes\":{},\"id\":\"4563\",\"type\":\"ResetTool\"},{\"attributes\":{},\"id\":\"4549\",\"type\":\"LinearScale\"},{\"attributes\":{\"format\":\"$0.00\"},\"id\":\"4573\",\"type\":\"NumeralTickFormatter\"},{\"attributes\":{},\"id\":\"4545\",\"type\":\"DataRange1d\"},{\"attributes\":{},\"id\":\"4552\",\"type\":\"BasicTicker\"},{\"attributes\":{},\"id\":\"4792\",\"type\":\"Selection\"}],\"root_ids\":[\"4540\"]},\"title\":\"Bokeh Application\",\"version\":\"2.4.2\"}};\n  const render_items = [{\"docid\":\"616c5801-3606-4259-9784-f9db7e59f4b6\",\"root_ids\":[\"4540\"],\"roots\":{\"4540\":\"cb0930bc-0c8a-40f1-9aae-b88d208340e7\"}}];\n  root.Bokeh.embed.embed_items_notebook(docs_json, render_items);\n\n  }\n  if (root.Bokeh !== undefined) {\n    embed_document(root);\n  } else {\n    let attempts = 0;\n    const timer = setInterval(function(root) {\n      if (root.Bokeh !== undefined) {\n        clearInterval(timer);\n        embed_document(root);\n      } else {\n        attempts++;\n        if (attempts > 100) {\n          clearInterval(timer);\n          console.log(\"Bokeh: ERROR: Unable to run BokehJS code because BokehJS library is missing\");\n        }\n      }\n    }, 10, root)\n  }\n})(window);",
      "application/vnd.bokehjs_exec.v0+json": ""
     },
     "metadata": {
      "application/vnd.bokehjs_exec.v0+json": {
       "id": "4540"
      }
     },
     "output_type": "display_data"
    }
   ],
   "source": [
    "from bokeh.models import NumeralTickFormatter\n",
    "from bokeh.plotting import figure, show\n",
    "\n",
    "# prepare some data\n",
    "x = [1, 2, 3, 4, 5]\n",
    "y = [4, 5, 5, 7, 2]\n",
    "\n",
    "# create new plot\n",
    "p = figure(\n",
    "    title=\"Tick formatter example\",\n",
    "    sizing_mode=\"stretch_width\",\n",
    "    max_width=500,\n",
    "    height=250,\n",
    ")\n",
    "\n",
    "# format axes ticks\n",
    "p.yaxis[0].formatter = NumeralTickFormatter(format=\"$0.00\")\n",
    "\n",
    "# add renderers\n",
    "p.circle(x, y, size=8)\n",
    "p.line(x, y, color=\"navy\", line_width=1)\n",
    "\n",
    "# show the results\n",
    "show(p)"
   ]
  },
  {
   "cell_type": "markdown",
   "metadata": {},
   "source": [
    "## Enabling logarithmic axes"
   ]
  },
  {
   "cell_type": "code",
   "execution_count": 23,
   "metadata": {},
   "outputs": [
    {
     "data": {
      "text/html": [
       "\n",
       "\n",
       "\n",
       "\n",
       "\n",
       "\n",
       "  <div class=\"bk-root\" id=\"d9487297-b85f-4bdc-818f-2c1b6c42d751\" data-root-id=\"4849\"></div>\n"
      ]
     },
     "metadata": {},
     "output_type": "display_data"
    },
    {
     "data": {
      "application/javascript": "(function(root) {\n  function embed_document(root) {\n    \n  const docs_json = {\"9922a6da-cbc8-42ab-b8f4-897ae5a803cb\":{\"defs\":[],\"roots\":{\"references\":[{\"attributes\":{\"below\":[{\"id\":\"4860\"}],\"center\":[{\"id\":\"4863\"},{\"id\":\"4867\"},{\"id\":\"4898\"}],\"height\":300,\"left\":[{\"id\":\"4864\"}],\"max_width\":500,\"renderers\":[{\"id\":\"4886\"},{\"id\":\"4904\"},{\"id\":\"4922\"},{\"id\":\"4943\"},{\"id\":\"4966\"},{\"id\":\"4990\"}],\"sizing_mode\":\"stretch_width\",\"title\":{\"id\":\"4850\"},\"toolbar\":{\"id\":\"4875\"},\"x_range\":{\"id\":\"4852\"},\"x_scale\":{\"id\":\"4856\"},\"y_range\":{\"id\":\"4854\"},\"y_scale\":{\"id\":\"4858\"}},\"id\":\"4849\",\"subtype\":\"Figure\",\"type\":\"Plot\"},{\"attributes\":{},\"id\":\"4893\",\"type\":\"BasicTickFormatter\"},{\"attributes\":{},\"id\":\"4873\",\"type\":\"HelpTool\"},{\"attributes\":{\"source\":{\"id\":\"4962\"}},\"id\":\"4967\",\"type\":\"CDSView\"},{\"attributes\":{\"fill_color\":{\"value\":\"white\"},\"line_color\":{\"value\":\"#1f77b4\"},\"size\":{\"value\":8},\"x\":{\"field\":\"x\"},\"y\":{\"field\":\"y\"}},\"id\":\"4901\",\"type\":\"Circle\"},{\"attributes\":{\"coordinates\":null,\"data_source\":{\"id\":\"4986\"},\"glyph\":{\"id\":\"4987\"},\"group\":null,\"hover_glyph\":null,\"muted_glyph\":{\"id\":\"4989\"},\"nonselection_glyph\":{\"id\":\"4988\"},\"view\":{\"id\":\"4991\"}},\"id\":\"4990\",\"type\":\"GlyphRenderer\"},{\"attributes\":{\"data\":{\"x\":[0.1,0.5,1.0,1.5,2.0,2.5,3.0],\"y\":[1.023292992280754,1.7782794100389228,10.0,177.82794100389228,10000.0,1778279.410038923,1000000000.0]},\"selected\":{\"id\":\"5010\"},\"selection_policy\":{\"id\":\"5009\"}},\"id\":\"4986\",\"type\":\"ColumnDataSource\"},{\"attributes\":{\"fill_alpha\":{\"value\":0.2},\"fill_color\":{\"value\":\"red\"},\"hatch_alpha\":{\"value\":0.2},\"line_alpha\":{\"value\":0.2},\"line_color\":{\"value\":\"red\"},\"size\":{\"value\":6},\"x\":{\"field\":\"x\"},\"y\":{\"field\":\"y\"}},\"id\":\"4965\",\"type\":\"Circle\"},{\"attributes\":{\"coordinates\":null,\"data_source\":{\"id\":\"4962\"},\"glyph\":{\"id\":\"4963\"},\"group\":null,\"hover_glyph\":null,\"muted_glyph\":{\"id\":\"4965\"},\"nonselection_glyph\":{\"id\":\"4964\"},\"view\":{\"id\":\"4967\"}},\"id\":\"4966\",\"type\":\"GlyphRenderer\"},{\"attributes\":{\"fill_alpha\":{\"value\":0.1},\"fill_color\":{\"value\":\"red\"},\"hatch_alpha\":{\"value\":0.1},\"line_alpha\":{\"value\":0.1},\"line_color\":{\"value\":\"red\"},\"size\":{\"value\":6},\"x\":{\"field\":\"x\"},\"y\":{\"field\":\"y\"}},\"id\":\"4964\",\"type\":\"Circle\"},{\"attributes\":{\"coordinates\":null,\"data_source\":{\"id\":\"4900\"},\"glyph\":{\"id\":\"4901\"},\"group\":null,\"hover_glyph\":null,\"muted_glyph\":{\"id\":\"4903\"},\"nonselection_glyph\":{\"id\":\"4902\"},\"view\":{\"id\":\"4905\"}},\"id\":\"4904\",\"type\":\"GlyphRenderer\"},{\"attributes\":{\"fill_alpha\":{\"value\":0.1},\"fill_color\":{\"value\":\"white\"},\"hatch_alpha\":{\"value\":0.1},\"line_alpha\":{\"value\":0.1},\"line_color\":{\"value\":\"#1f77b4\"},\"size\":{\"value\":8},\"x\":{\"field\":\"x\"},\"y\":{\"field\":\"y\"}},\"id\":\"4902\",\"type\":\"Circle\"},{\"attributes\":{\"coordinates\":null,\"data_source\":{\"id\":\"4939\"},\"glyph\":{\"id\":\"4940\"},\"group\":null,\"hover_glyph\":null,\"muted_glyph\":{\"id\":\"4942\"},\"nonselection_glyph\":{\"id\":\"4941\"},\"view\":{\"id\":\"4944\"}},\"id\":\"4943\",\"type\":\"GlyphRenderer\"},{\"attributes\":{},\"id\":\"4915\",\"type\":\"UnionRenderers\"},{\"attributes\":{\"line_color\":\"#1f77b4\",\"line_width\":3,\"x\":{\"field\":\"x\"},\"y\":{\"field\":\"y\"}},\"id\":\"4919\",\"type\":\"Line\"},{\"attributes\":{},\"id\":\"4916\",\"type\":\"Selection\"},{\"attributes\":{\"coordinates\":null,\"data_source\":{\"id\":\"4918\"},\"glyph\":{\"id\":\"4919\"},\"group\":null,\"hover_glyph\":null,\"muted_glyph\":{\"id\":\"4921\"},\"nonselection_glyph\":{\"id\":\"4920\"},\"view\":{\"id\":\"4923\"}},\"id\":\"4922\",\"type\":\"GlyphRenderer\"},{\"attributes\":{\"label\":{\"value\":\"y=x\"},\"renderers\":[{\"id\":\"4886\"},{\"id\":\"4904\"}]},\"id\":\"4899\",\"type\":\"LegendItem\"},{\"attributes\":{\"data\":{\"x\":[0.1,0.5,1.0,1.5,2.0,2.5,3.0],\"y\":[1.2589254117941673,3.1622776601683795,10.0,31.622776601683793,100.0,316.22776601683796,1000.0]},\"selected\":{\"id\":\"4959\"},\"selection_policy\":{\"id\":\"4958\"}},\"id\":\"4939\",\"type\":\"ColumnDataSource\"},{\"attributes\":{\"source\":{\"id\":\"4900\"}},\"id\":\"4905\",\"type\":\"CDSView\"},{\"attributes\":{},\"id\":\"4871\",\"type\":\"SaveTool\"},{\"attributes\":{\"data\":{\"x\":[0.1,0.5,1.0,1.5,2.0,2.5,3.0],\"y\":[0.010000000000000002,0.25,1.0,2.25,4.0,6.25,9.0]},\"selected\":{\"id\":\"4936\"},\"selection_policy\":{\"id\":\"4935\"}},\"id\":\"4918\",\"type\":\"ColumnDataSource\"},{\"attributes\":{\"overlay\":{\"id\":\"4874\"}},\"id\":\"4870\",\"type\":\"BoxZoomTool\"},{\"attributes\":{\"data\":{\"x\":[0.1,0.5,1.0,1.5,2.0,2.5,3.0],\"y\":[0.1,0.5,1.0,1.5,2.0,2.5,3.0]},\"selected\":{\"id\":\"4916\"},\"selection_policy\":{\"id\":\"4915\"}},\"id\":\"4900\",\"type\":\"ColumnDataSource\"},{\"attributes\":{},\"id\":\"4868\",\"type\":\"PanTool\"},{\"attributes\":{},\"id\":\"4869\",\"type\":\"WheelZoomTool\"},{\"attributes\":{\"coordinates\":null,\"data_source\":{\"id\":\"4882\"},\"glyph\":{\"id\":\"4883\"},\"group\":null,\"hover_glyph\":null,\"muted_glyph\":{\"id\":\"4885\"},\"nonselection_glyph\":{\"id\":\"4884\"},\"view\":{\"id\":\"4887\"}},\"id\":\"4886\",\"type\":\"GlyphRenderer\"},{\"attributes\":{\"line_color\":\"#1f77b4\",\"x\":{\"field\":\"x\"},\"y\":{\"field\":\"y\"}},\"id\":\"4883\",\"type\":\"Line\"},{\"attributes\":{\"line_alpha\":0.1,\"line_color\":\"#1f77b4\",\"x\":{\"field\":\"x\"},\"y\":{\"field\":\"y\"}},\"id\":\"4884\",\"type\":\"Line\"},{\"attributes\":{\"source\":{\"id\":\"4882\"}},\"id\":\"4887\",\"type\":\"CDSView\"},{\"attributes\":{},\"id\":\"5009\",\"type\":\"UnionRenderers\"},{\"attributes\":{\"data\":{\"x\":[0.1,0.5,1.0,1.5,2.0,2.5,3.0],\"y\":[0.1,0.5,1.0,1.5,2.0,2.5,3.0]},\"selected\":{\"id\":\"4896\"},\"selection_policy\":{\"id\":\"4895\"}},\"id\":\"4882\",\"type\":\"ColumnDataSource\"},{\"attributes\":{\"fill_alpha\":{\"value\":0.2},\"fill_color\":{\"value\":\"white\"},\"hatch_alpha\":{\"value\":0.2},\"line_alpha\":{\"value\":0.2},\"line_color\":{\"value\":\"#1f77b4\"},\"size\":{\"value\":8},\"x\":{\"field\":\"x\"},\"y\":{\"field\":\"y\"}},\"id\":\"4903\",\"type\":\"Circle\"},{\"attributes\":{},\"id\":\"4872\",\"type\":\"ResetTool\"},{\"attributes\":{\"source\":{\"id\":\"4986\"}},\"id\":\"4991\",\"type\":\"CDSView\"},{\"attributes\":{\"label\":{\"value\":\"y=10^x^2\"},\"renderers\":[{\"id\":\"4990\"}]},\"id\":\"5012\",\"type\":\"LegendItem\"},{\"attributes\":{\"line_alpha\":0.2,\"line_color\":\"orange\",\"line_dash\":[4,4],\"x\":{\"field\":\"x\"},\"y\":{\"field\":\"y\"}},\"id\":\"4989\",\"type\":\"Line\"},{\"attributes\":{\"line_alpha\":0.1,\"line_color\":\"orange\",\"line_dash\":[4,4],\"x\":{\"field\":\"x\"},\"y\":{\"field\":\"y\"}},\"id\":\"4988\",\"type\":\"Line\"},{\"attributes\":{\"bottom_units\":\"screen\",\"coordinates\":null,\"fill_alpha\":0.5,\"fill_color\":\"lightgrey\",\"group\":null,\"left_units\":\"screen\",\"level\":\"overlay\",\"line_alpha\":1.0,\"line_color\":\"black\",\"line_dash\":[4,4],\"line_width\":2,\"right_units\":\"screen\",\"syncable\":false,\"top_units\":\"screen\"},\"id\":\"4874\",\"type\":\"BoxAnnotation\"},{\"attributes\":{\"background_fill_alpha\":0.25,\"border_line_alpha\":0,\"coordinates\":null,\"glyph_width\":15,\"group\":null,\"items\":[{\"id\":\"4899\"},{\"id\":\"4938\"},{\"id\":\"4961\"},{\"id\":\"5012\"}],\"label_standoff\":8,\"label_text_color\":\"#5B5B5B\",\"label_text_font\":\"Calibri Light\",\"label_text_font_size\":\"0.95em\",\"label_text_font_style\":\"bold\",\"spacing\":8},\"id\":\"4898\",\"type\":\"Legend\"},{\"attributes\":{\"tools\":[{\"id\":\"4868\"},{\"id\":\"4869\"},{\"id\":\"4870\"},{\"id\":\"4871\"},{\"id\":\"4872\"},{\"id\":\"4873\"}]},\"id\":\"4875\",\"type\":\"Toolbar\"},{\"attributes\":{\"axis_label\":\"particles\",\"axis_label_standoff\":10,\"axis_label_text_color\":\"#5B5B5B\",\"axis_label_text_font\":\"Calibri Light\",\"axis_label_text_font_size\":\"1.15em\",\"axis_label_text_font_style\":\"bold\",\"axis_line_alpha\":1,\"axis_line_color\":\"#5B5B5B\",\"coordinates\":null,\"formatter\":{\"id\":\"4890\"},\"group\":null,\"major_label_policy\":{\"id\":\"4891\"},\"major_label_text_color\":\"#5B5B5B\",\"major_label_text_font\":\"Calibri Light\",\"major_label_text_font_size\":\"0.95em\",\"major_label_text_font_style\":\"bold\",\"major_tick_in\":0,\"major_tick_line_alpha\":0.25,\"major_tick_line_color\":\"#5B5B5B\",\"major_tick_out\":3,\"minor_tick_line_alpha\":0.25,\"minor_tick_line_color\":\"#5B5B5B\",\"ticker\":{\"id\":\"4865\"}},\"id\":\"4864\",\"type\":\"LogAxis\"},{\"attributes\":{\"axis\":{\"id\":\"4864\"},\"coordinates\":null,\"dimension\":1,\"group\":null,\"ticker\":null},\"id\":\"4867\",\"type\":\"Grid\"},{\"attributes\":{\"num_minor_ticks\":10},\"id\":\"4865\",\"type\":\"LogTicker\"},{\"attributes\":{\"axis_label\":\"sections\",\"axis_label_standoff\":10,\"axis_label_text_color\":\"#5B5B5B\",\"axis_label_text_font\":\"Calibri Light\",\"axis_label_text_font_size\":\"1.15em\",\"axis_label_text_font_style\":\"bold\",\"axis_line_alpha\":1,\"axis_line_color\":\"#5B5B5B\",\"coordinates\":null,\"formatter\":{\"id\":\"4893\"},\"group\":null,\"major_label_policy\":{\"id\":\"4894\"},\"major_label_text_color\":\"#5B5B5B\",\"major_label_text_font\":\"Calibri Light\",\"major_label_text_font_size\":\"0.95em\",\"major_label_text_font_style\":\"bold\",\"major_tick_in\":0,\"major_tick_line_alpha\":0.25,\"major_tick_line_color\":\"#5B5B5B\",\"major_tick_out\":3,\"minor_tick_line_alpha\":0.25,\"minor_tick_line_color\":\"#5B5B5B\",\"ticker\":{\"id\":\"4861\"}},\"id\":\"4860\",\"type\":\"LinearAxis\"},{\"attributes\":{},\"id\":\"4891\",\"type\":\"AllLabels\"},{\"attributes\":{\"axis\":{\"id\":\"4860\"},\"coordinates\":null,\"group\":null,\"ticker\":null},\"id\":\"4863\",\"type\":\"Grid\"},{\"attributes\":{\"data\":{\"x\":[0.1,0.5,1.0,1.5,2.0,2.5,3.0],\"y\":[1.2589254117941673,3.1622776601683795,10.0,31.622776601683793,100.0,316.22776601683796,1000.0]},\"selected\":{\"id\":\"4984\"},\"selection_policy\":{\"id\":\"4983\"}},\"id\":\"4962\",\"type\":\"ColumnDataSource\"},{\"attributes\":{},\"id\":\"4894\",\"type\":\"AllLabels\"},{\"attributes\":{},\"id\":\"4895\",\"type\":\"UnionRenderers\"},{\"attributes\":{\"source\":{\"id\":\"4918\"}},\"id\":\"4923\",\"type\":\"CDSView\"},{\"attributes\":{\"line_alpha\":0.2,\"line_color\":\"#1f77b4\",\"x\":{\"field\":\"x\"},\"y\":{\"field\":\"y\"}},\"id\":\"4885\",\"type\":\"Line\"},{\"attributes\":{\"label\":{\"value\":\"y=x^2\"},\"renderers\":[{\"id\":\"4922\"}]},\"id\":\"4938\",\"type\":\"LegendItem\"},{\"attributes\":{\"line_alpha\":0.2,\"line_color\":\"#1f77b4\",\"line_width\":3,\"x\":{\"field\":\"x\"},\"y\":{\"field\":\"y\"}},\"id\":\"4921\",\"type\":\"Line\"},{\"attributes\":{\"line_alpha\":0.1,\"line_color\":\"#1f77b4\",\"line_width\":3,\"x\":{\"field\":\"x\"},\"y\":{\"field\":\"y\"}},\"id\":\"4920\",\"type\":\"Line\"},{\"attributes\":{},\"id\":\"4896\",\"type\":\"Selection\"},{\"attributes\":{},\"id\":\"5010\",\"type\":\"Selection\"},{\"attributes\":{},\"id\":\"4936\",\"type\":\"Selection\"},{\"attributes\":{},\"id\":\"4935\",\"type\":\"UnionRenderers\"},{\"attributes\":{},\"id\":\"4852\",\"type\":\"DataRange1d\"},{\"attributes\":{\"coordinates\":null,\"group\":null,\"text\":\"Logarithmic axis example\",\"text_color\":\"#5B5B5B\",\"text_font\":\"Calibri Light\",\"text_font_size\":\"1.25em\",\"text_font_style\":\"bold\"},\"id\":\"4850\",\"type\":\"Title\"},{\"attributes\":{\"end\":100000000000,\"start\":0.001},\"id\":\"4854\",\"type\":\"Range1d\"},{\"attributes\":{\"ticker\":null},\"id\":\"4890\",\"type\":\"LogTickFormatter\"},{\"attributes\":{},\"id\":\"4861\",\"type\":\"BasicTicker\"},{\"attributes\":{},\"id\":\"4856\",\"type\":\"LinearScale\"},{\"attributes\":{},\"id\":\"4858\",\"type\":\"LogScale\"},{\"attributes\":{\"fill_color\":{\"value\":\"red\"},\"line_color\":{\"value\":\"red\"},\"size\":{\"value\":6},\"x\":{\"field\":\"x\"},\"y\":{\"field\":\"y\"}},\"id\":\"4963\",\"type\":\"Circle\"},{\"attributes\":{},\"id\":\"4984\",\"type\":\"Selection\"},{\"attributes\":{\"line_color\":\"orange\",\"line_dash\":[4,4],\"x\":{\"field\":\"x\"},\"y\":{\"field\":\"y\"}},\"id\":\"4987\",\"type\":\"Line\"},{\"attributes\":{\"line_alpha\":0.2,\"line_color\":\"red\",\"x\":{\"field\":\"x\"},\"y\":{\"field\":\"y\"}},\"id\":\"4942\",\"type\":\"Line\"},{\"attributes\":{\"source\":{\"id\":\"4939\"}},\"id\":\"4944\",\"type\":\"CDSView\"},{\"attributes\":{\"line_alpha\":0.1,\"line_color\":\"red\",\"x\":{\"field\":\"x\"},\"y\":{\"field\":\"y\"}},\"id\":\"4941\",\"type\":\"Line\"},{\"attributes\":{\"line_color\":\"red\",\"x\":{\"field\":\"x\"},\"y\":{\"field\":\"y\"}},\"id\":\"4940\",\"type\":\"Line\"},{\"attributes\":{},\"id\":\"4983\",\"type\":\"UnionRenderers\"},{\"attributes\":{\"label\":{\"value\":\"y=10^x\"},\"renderers\":[{\"id\":\"4943\"},{\"id\":\"4966\"}]},\"id\":\"4961\",\"type\":\"LegendItem\"},{\"attributes\":{},\"id\":\"4959\",\"type\":\"Selection\"},{\"attributes\":{},\"id\":\"4958\",\"type\":\"UnionRenderers\"}],\"root_ids\":[\"4849\"]},\"title\":\"Bokeh Application\",\"version\":\"2.4.2\"}};\n  const render_items = [{\"docid\":\"9922a6da-cbc8-42ab-b8f4-897ae5a803cb\",\"root_ids\":[\"4849\"],\"roots\":{\"4849\":\"d9487297-b85f-4bdc-818f-2c1b6c42d751\"}}];\n  root.Bokeh.embed.embed_items_notebook(docs_json, render_items);\n\n  }\n  if (root.Bokeh !== undefined) {\n    embed_document(root);\n  } else {\n    let attempts = 0;\n    const timer = setInterval(function(root) {\n      if (root.Bokeh !== undefined) {\n        clearInterval(timer);\n        embed_document(root);\n      } else {\n        attempts++;\n        if (attempts > 100) {\n          clearInterval(timer);\n          console.log(\"Bokeh: ERROR: Unable to run BokehJS code because BokehJS library is missing\");\n        }\n      }\n    }, 10, root)\n  }\n})(window);",
      "application/vnd.bokehjs_exec.v0+json": ""
     },
     "metadata": {
      "application/vnd.bokehjs_exec.v0+json": {
       "id": "4849"
      }
     },
     "output_type": "display_data"
    }
   ],
   "source": [
    "from bokeh.plotting import figure, show\n",
    "\n",
    "# prepare some data\n",
    "x = [0.1, 0.5, 1.0, 1.5, 2.0, 2.5, 3.0]\n",
    "y0 = [i**2 for i in x]\n",
    "y1 = [10**i for i in x]\n",
    "y2 = [10**(i**2) for i in x]\n",
    "\n",
    "# create a new plot with a logarithmic axis type\n",
    "p = figure(\n",
    "    title=\"Logarithmic axis example\",\n",
    "    sizing_mode=\"stretch_width\",\n",
    "    height=300,\n",
    "    max_width=500,\n",
    "    y_axis_type=\"log\",\n",
    "    y_range=[0.001, 10 ** 11],\n",
    "    x_axis_label=\"sections\",\n",
    "    y_axis_label=\"particles\",\n",
    ")\n",
    "\n",
    "# add some renderers\n",
    "p.line(x, x, legend_label=\"y=x\")\n",
    "p.circle(x, x, legend_label=\"y=x\", fill_color=\"white\", size=8)\n",
    "p.line(x, y0, legend_label=\"y=x^2\", line_width=3)\n",
    "p.line(x, y1, legend_label=\"y=10^x\", line_color=\"red\")\n",
    "p.circle(x, y1, legend_label=\"y=10^x\", fill_color=\"red\", line_color=\"red\", size=6)\n",
    "p.line(x, y2, legend_label=\"y=10^x^2\", line_color=\"orange\", line_dash=\"4 4\")\n",
    "\n",
    "# show the results\n",
    "show(p)"
   ]
  },
  {
   "cell_type": "markdown",
   "metadata": {},
   "source": [
    "## Enabling datetime axes"
   ]
  },
  {
   "cell_type": "code",
   "execution_count": 24,
   "metadata": {},
   "outputs": [
    {
     "data": {
      "text/html": [
       "\n",
       "\n",
       "\n",
       "\n",
       "\n",
       "\n",
       "  <div class=\"bk-root\" id=\"e7051dbb-dd62-4068-9378-25b4dd4ddb96\" data-root-id=\"5340\"></div>\n"
      ]
     },
     "metadata": {},
     "output_type": "display_data"
    },
    {
     "data": {
      "application/javascript": "(function(root) {\n  function embed_document(root) {\n    \n  const docs_json = {\"6d92b859-a173-49c7-ac17-5236339eaf7c\":{\"defs\":[],\"roots\":{\"references\":[{\"attributes\":{\"below\":[{\"id\":\"5351\"}],\"center\":[{\"id\":\"5354\"},{\"id\":\"5358\"}],\"height\":250,\"left\":[{\"id\":\"5355\"}],\"max_width\":500,\"renderers\":[{\"id\":\"5377\"},{\"id\":\"5383\"}],\"sizing_mode\":\"stretch_width\",\"title\":{\"id\":\"5341\"},\"toolbar\":{\"id\":\"5366\"},\"x_range\":{\"id\":\"5343\"},\"x_scale\":{\"id\":\"5347\"},\"y_range\":{\"id\":\"5345\"},\"y_scale\":{\"id\":\"5349\"}},\"id\":\"5340\",\"subtype\":\"Figure\",\"type\":\"Plot\"},{\"attributes\":{\"months\":[0,2,4,6,8,10]},\"id\":\"5634\",\"type\":\"MonthsTicker\"},{\"attributes\":{\"line_alpha\":0.2,\"line_color\":\"navy\",\"x\":{\"field\":\"x\"},\"y\":{\"field\":\"y\"}},\"id\":\"5382\",\"type\":\"Line\"},{\"attributes\":{\"months\":[0,4,8]},\"id\":\"5635\",\"type\":\"MonthsTicker\"},{\"attributes\":{},\"id\":\"5620\",\"type\":\"AllLabels\"},{\"attributes\":{\"base\":60,\"mantissas\":[1,2,5,10,15,20,30],\"max_interval\":1800000.0,\"min_interval\":1000.0,\"num_minor_ticks\":0},\"id\":\"5627\",\"type\":\"AdaptiveTicker\"},{\"attributes\":{\"fill_alpha\":{\"value\":0.2},\"fill_color\":{\"value\":\"#1f77b4\"},\"hatch_alpha\":{\"value\":0.2},\"line_alpha\":{\"value\":0.2},\"line_color\":{\"value\":\"#1f77b4\"},\"size\":{\"value\":8},\"x\":{\"field\":\"x\"},\"y\":{\"field\":\"y\"}},\"id\":\"5376\",\"type\":\"Circle\"},{\"attributes\":{\"mantissas\":[1,2,5],\"max_interval\":500.0,\"num_minor_ticks\":0},\"id\":\"5626\",\"type\":\"AdaptiveTicker\"},{\"attributes\":{\"axis_label_standoff\":10,\"axis_label_text_color\":\"#5B5B5B\",\"axis_label_text_font\":\"Calibri Light\",\"axis_label_text_font_size\":\"1.15em\",\"axis_label_text_font_style\":\"bold\",\"axis_line_alpha\":1,\"axis_line_color\":\"#5B5B5B\",\"coordinates\":null,\"formatter\":{\"id\":\"5387\"},\"group\":null,\"major_label_policy\":{\"id\":\"5620\"},\"major_label_text_color\":\"#5B5B5B\",\"major_label_text_font\":\"Calibri Light\",\"major_label_text_font_size\":\"0.95em\",\"major_label_text_font_style\":\"bold\",\"major_tick_in\":0,\"major_tick_line_alpha\":0.25,\"major_tick_line_color\":\"#5B5B5B\",\"major_tick_out\":3,\"minor_tick_line_alpha\":0.25,\"minor_tick_line_color\":\"#5B5B5B\",\"ticker\":{\"id\":\"5352\"}},\"id\":\"5351\",\"type\":\"DatetimeAxis\"},{\"attributes\":{\"axis_label_standoff\":10,\"axis_label_text_color\":\"#5B5B5B\",\"axis_label_text_font\":\"Calibri Light\",\"axis_label_text_font_size\":\"1.15em\",\"axis_label_text_font_style\":\"bold\",\"axis_line_alpha\":1,\"axis_line_color\":\"#5B5B5B\",\"coordinates\":null,\"formatter\":{\"id\":\"5385\"},\"group\":null,\"major_label_policy\":{\"id\":\"5618\"},\"major_label_text_color\":\"#5B5B5B\",\"major_label_text_font\":\"Calibri Light\",\"major_label_text_font_size\":\"0.95em\",\"major_label_text_font_style\":\"bold\",\"major_tick_in\":0,\"major_tick_line_alpha\":0.25,\"major_tick_line_color\":\"#5B5B5B\",\"major_tick_out\":3,\"minor_tick_line_alpha\":0.25,\"minor_tick_line_color\":\"#5B5B5B\",\"ticker\":{\"id\":\"5356\"}},\"id\":\"5355\",\"type\":\"LinearAxis\"},{\"attributes\":{\"axis\":{\"id\":\"5351\"},\"coordinates\":null,\"group\":null,\"ticker\":null},\"id\":\"5354\",\"type\":\"Grid\"},{\"attributes\":{},\"id\":\"5347\",\"type\":\"LinearScale\"},{\"attributes\":{},\"id\":\"5364\",\"type\":\"HelpTool\"},{\"attributes\":{},\"id\":\"5356\",\"type\":\"BasicTicker\"},{\"attributes\":{\"num_minor_ticks\":5,\"tickers\":[{\"id\":\"5626\"},{\"id\":\"5627\"},{\"id\":\"5628\"},{\"id\":\"5629\"},{\"id\":\"5630\"},{\"id\":\"5631\"},{\"id\":\"5632\"},{\"id\":\"5633\"},{\"id\":\"5634\"},{\"id\":\"5635\"},{\"id\":\"5636\"},{\"id\":\"5637\"}]},\"id\":\"5352\",\"type\":\"DatetimeTicker\"},{\"attributes\":{\"base\":24,\"mantissas\":[1,2,4,6,8,12],\"max_interval\":43200000.0,\"min_interval\":3600000.0,\"num_minor_ticks\":0},\"id\":\"5628\",\"type\":\"AdaptiveTicker\"},{\"attributes\":{},\"id\":\"5349\",\"type\":\"LinearScale\"},{\"attributes\":{\"axis\":{\"id\":\"5355\"},\"coordinates\":null,\"dimension\":1,\"group\":null,\"ticker\":null},\"id\":\"5358\",\"type\":\"Grid\"},{\"attributes\":{\"data\":{\"x\":[1649171497973.557,1649776297973.557,1650381097973.557,1650985897973.557,1651590697973.557,1652195497973.557,1652800297973.557,1653405097973.557,1654009897973.557,1654614697973.557,1655219497973.557,1655824297973.557,1656429097973.557,1657033897973.557,1657638697973.557,1658243497973.557,1658848297973.557,1659453097973.557,1660057897973.557,1660662697973.557,1661267497973.557,1661872297973.557,1662477097973.557,1663081897973.557,1663686697973.557,1664291497973.557],\"y\":[93,92,59,35,23,54,83,17,76,20,2,70,39,38,79,24,44,49,51,97,42,78,4,98,96,7]},\"selected\":{\"id\":\"5624\"},\"selection_policy\":{\"id\":\"5623\"}},\"id\":\"5379\",\"type\":\"ColumnDataSource\"},{\"attributes\":{},\"id\":\"5621\",\"type\":\"UnionRenderers\"},{\"attributes\":{},\"id\":\"5360\",\"type\":\"WheelZoomTool\"},{\"attributes\":{},\"id\":\"5359\",\"type\":\"PanTool\"},{\"attributes\":{},\"id\":\"5363\",\"type\":\"ResetTool\"},{\"attributes\":{\"coordinates\":null,\"group\":null,\"text\":\"datetime axis example\",\"text_color\":\"#5B5B5B\",\"text_font\":\"Calibri Light\",\"text_font_size\":\"1.25em\",\"text_font_style\":\"bold\"},\"id\":\"5341\",\"type\":\"Title\"},{\"attributes\":{},\"id\":\"5343\",\"type\":\"DataRange1d\"},{\"attributes\":{\"data\":{\"x\":[1649171497973.557,1649776297973.557,1650381097973.557,1650985897973.557,1651590697973.557,1652195497973.557,1652800297973.557,1653405097973.557,1654009897973.557,1654614697973.557,1655219497973.557,1655824297973.557,1656429097973.557,1657033897973.557,1657638697973.557,1658243497973.557,1658848297973.557,1659453097973.557,1660057897973.557,1660662697973.557,1661267497973.557,1661872297973.557,1662477097973.557,1663081897973.557,1663686697973.557,1664291497973.557],\"y\":[93,92,59,35,23,54,83,17,76,20,2,70,39,38,79,24,44,49,51,97,42,78,4,98,96,7]},\"selected\":{\"id\":\"5622\"},\"selection_policy\":{\"id\":\"5621\"}},\"id\":\"5373\",\"type\":\"ColumnDataSource\"},{\"attributes\":{\"source\":{\"id\":\"5373\"}},\"id\":\"5378\",\"type\":\"CDSView\"},{\"attributes\":{\"source\":{\"id\":\"5379\"}},\"id\":\"5384\",\"type\":\"CDSView\"},{\"attributes\":{\"months\":[\"%b %Y\"]},\"id\":\"5387\",\"type\":\"DatetimeTickFormatter\"},{\"attributes\":{\"overlay\":{\"id\":\"5365\"}},\"id\":\"5361\",\"type\":\"BoxZoomTool\"},{\"attributes\":{\"days\":[1,4,7,10,13,16,19,22,25,28]},\"id\":\"5630\",\"type\":\"DaysTicker\"},{\"attributes\":{\"fill_color\":{\"value\":\"#1f77b4\"},\"line_color\":{\"value\":\"#1f77b4\"},\"size\":{\"value\":8},\"x\":{\"field\":\"x\"},\"y\":{\"field\":\"y\"}},\"id\":\"5374\",\"type\":\"Circle\"},{\"attributes\":{\"line_alpha\":0.1,\"line_color\":\"navy\",\"x\":{\"field\":\"x\"},\"y\":{\"field\":\"y\"}},\"id\":\"5381\",\"type\":\"Line\"},{\"attributes\":{},\"id\":\"5362\",\"type\":\"SaveTool\"},{\"attributes\":{},\"id\":\"5622\",\"type\":\"Selection\"},{\"attributes\":{\"line_color\":\"navy\",\"x\":{\"field\":\"x\"},\"y\":{\"field\":\"y\"}},\"id\":\"5380\",\"type\":\"Line\"},{\"attributes\":{\"days\":[1,8,15,22]},\"id\":\"5631\",\"type\":\"DaysTicker\"},{\"attributes\":{\"bottom_units\":\"screen\",\"coordinates\":null,\"fill_alpha\":0.5,\"fill_color\":\"lightgrey\",\"group\":null,\"left_units\":\"screen\",\"level\":\"overlay\",\"line_alpha\":1.0,\"line_color\":\"black\",\"line_dash\":[4,4],\"line_width\":2,\"right_units\":\"screen\",\"syncable\":false,\"top_units\":\"screen\"},\"id\":\"5365\",\"type\":\"BoxAnnotation\"},{\"attributes\":{},\"id\":\"5624\",\"type\":\"Selection\"},{\"attributes\":{},\"id\":\"5623\",\"type\":\"UnionRenderers\"},{\"attributes\":{},\"id\":\"5345\",\"type\":\"DataRange1d\"},{\"attributes\":{},\"id\":\"5637\",\"type\":\"YearsTicker\"},{\"attributes\":{\"months\":[0,1,2,3,4,5,6,7,8,9,10,11]},\"id\":\"5633\",\"type\":\"MonthsTicker\"},{\"attributes\":{\"days\":[1,15]},\"id\":\"5632\",\"type\":\"DaysTicker\"},{\"attributes\":{\"coordinates\":null,\"data_source\":{\"id\":\"5379\"},\"glyph\":{\"id\":\"5380\"},\"group\":null,\"hover_glyph\":null,\"muted_glyph\":{\"id\":\"5382\"},\"nonselection_glyph\":{\"id\":\"5381\"},\"view\":{\"id\":\"5384\"}},\"id\":\"5383\",\"type\":\"GlyphRenderer\"},{\"attributes\":{\"days\":[1,2,3,4,5,6,7,8,9,10,11,12,13,14,15,16,17,18,19,20,21,22,23,24,25,26,27,28,29,30,31]},\"id\":\"5629\",\"type\":\"DaysTicker\"},{\"attributes\":{\"tools\":[{\"id\":\"5359\"},{\"id\":\"5360\"},{\"id\":\"5361\"},{\"id\":\"5362\"},{\"id\":\"5363\"},{\"id\":\"5364\"}]},\"id\":\"5366\",\"type\":\"Toolbar\"},{\"attributes\":{\"format\":\"$0.00\"},\"id\":\"5385\",\"type\":\"NumeralTickFormatter\"},{\"attributes\":{\"fill_alpha\":{\"value\":0.1},\"fill_color\":{\"value\":\"#1f77b4\"},\"hatch_alpha\":{\"value\":0.1},\"line_alpha\":{\"value\":0.1},\"line_color\":{\"value\":\"#1f77b4\"},\"size\":{\"value\":8},\"x\":{\"field\":\"x\"},\"y\":{\"field\":\"y\"}},\"id\":\"5375\",\"type\":\"Circle\"},{\"attributes\":{},\"id\":\"5618\",\"type\":\"AllLabels\"},{\"attributes\":{\"months\":[0,6]},\"id\":\"5636\",\"type\":\"MonthsTicker\"},{\"attributes\":{\"coordinates\":null,\"data_source\":{\"id\":\"5373\"},\"glyph\":{\"id\":\"5374\"},\"group\":null,\"hover_glyph\":null,\"muted_glyph\":{\"id\":\"5376\"},\"nonselection_glyph\":{\"id\":\"5375\"},\"view\":{\"id\":\"5378\"}},\"id\":\"5377\",\"type\":\"GlyphRenderer\"}],\"root_ids\":[\"5340\"]},\"title\":\"Bokeh Application\",\"version\":\"2.4.2\"}};\n  const render_items = [{\"docid\":\"6d92b859-a173-49c7-ac17-5236339eaf7c\",\"root_ids\":[\"5340\"],\"roots\":{\"5340\":\"e7051dbb-dd62-4068-9378-25b4dd4ddb96\"}}];\n  root.Bokeh.embed.embed_items_notebook(docs_json, render_items);\n\n  }\n  if (root.Bokeh !== undefined) {\n    embed_document(root);\n  } else {\n    let attempts = 0;\n    const timer = setInterval(function(root) {\n      if (root.Bokeh !== undefined) {\n        clearInterval(timer);\n        embed_document(root);\n      } else {\n        attempts++;\n        if (attempts > 100) {\n          clearInterval(timer);\n          console.log(\"Bokeh: ERROR: Unable to run BokehJS code because BokehJS library is missing\");\n        }\n      }\n    }, 10, root)\n  }\n})(window);",
      "application/vnd.bokehjs_exec.v0+json": ""
     },
     "metadata": {
      "application/vnd.bokehjs_exec.v0+json": {
       "id": "5340"
      }
     },
     "output_type": "display_data"
    }
   ],
   "source": [
    "import random\n",
    "from datetime import datetime, timedelta\n",
    "\n",
    "from bokeh.models import DatetimeTickFormatter, NumeralTickFormatter\n",
    "from bokeh.plotting import figure, show\n",
    "\n",
    "# generate list of dates (today's date in subsequent weeks)\n",
    "dates = [(datetime.now() + timedelta(day * 7)) for day in range(0, 26)]\n",
    "\n",
    "# generate 25 random data points\n",
    "y = random.sample(range(0, 100), 26)\n",
    "\n",
    "# create new plot\n",
    "p = figure(\n",
    "    title=\"datetime axis example\",\n",
    "    x_axis_type=\"datetime\",\n",
    "    sizing_mode=\"stretch_width\",\n",
    "    max_width=500,\n",
    "    height=250,\n",
    ")\n",
    "\n",
    "# add renderers\n",
    "p.circle(dates, y, size=8)\n",
    "p.line(dates, y, color=\"navy\", line_width=1)\n",
    "\n",
    "# format axes ticks\n",
    "p.yaxis[0].formatter = NumeralTickFormatter(format=\"$0.00\")\n",
    "p.xaxis[0].formatter = DatetimeTickFormatter(months=\"%b %Y\")\n",
    "\n",
    "# show the results\n",
    "show(p)"
   ]
  },
  {
   "cell_type": "markdown",
   "metadata": {},
   "source": [
    "## Customizing the grid"
   ]
  },
  {
   "cell_type": "code",
   "execution_count": 25,
   "metadata": {},
   "outputs": [
    {
     "data": {
      "text/html": [
       "\n",
       "\n",
       "\n",
       "\n",
       "\n",
       "\n",
       "  <div class=\"bk-root\" id=\"8522b28f-165c-4c7f-9178-2a87fde0723a\" data-root-id=\"5748\"></div>\n"
      ]
     },
     "metadata": {},
     "output_type": "display_data"
    },
    {
     "data": {
      "application/javascript": "(function(root) {\n  function embed_document(root) {\n    \n  const docs_json = {\"9e6cfbb3-005e-47a8-badd-0e16367a8c50\":{\"defs\":[],\"roots\":{\"references\":[{\"attributes\":{\"below\":[{\"id\":\"5759\"}],\"center\":[{\"id\":\"5762\"},{\"id\":\"5766\"}],\"height\":250,\"left\":[{\"id\":\"5763\"}],\"max_width\":500,\"renderers\":[{\"id\":\"5785\"}],\"sizing_mode\":\"stretch_width\",\"title\":{\"id\":\"5749\"},\"toolbar\":{\"id\":\"5774\"},\"x_range\":{\"id\":\"5751\"},\"x_scale\":{\"id\":\"5755\"},\"y_range\":{\"id\":\"5753\"},\"y_scale\":{\"id\":\"5757\"}},\"id\":\"5748\",\"subtype\":\"Figure\",\"type\":\"Plot\"},{\"attributes\":{},\"id\":\"5760\",\"type\":\"BasicTicker\"},{\"attributes\":{},\"id\":\"6044\",\"type\":\"Selection\"},{\"attributes\":{\"axis\":{\"id\":\"5763\"},\"coordinates\":null,\"dimension\":1,\"grid_line_alpha\":0.8,\"grid_line_dash\":[6,4],\"group\":null,\"ticker\":null},\"id\":\"5766\",\"type\":\"Grid\"},{\"attributes\":{},\"id\":\"5770\",\"type\":\"SaveTool\"},{\"attributes\":{},\"id\":\"6042\",\"type\":\"AllLabels\"},{\"attributes\":{},\"id\":\"6043\",\"type\":\"UnionRenderers\"},{\"attributes\":{\"axis\":{\"id\":\"5759\"},\"coordinates\":null,\"grid_line_color\":\"red\",\"group\":null,\"ticker\":null},\"id\":\"5762\",\"type\":\"Grid\"},{\"attributes\":{},\"id\":\"5753\",\"type\":\"DataRange1d\"},{\"attributes\":{\"coordinates\":null,\"data_source\":{\"id\":\"5781\"},\"glyph\":{\"id\":\"5782\"},\"group\":null,\"hover_glyph\":null,\"muted_glyph\":{\"id\":\"5784\"},\"nonselection_glyph\":{\"id\":\"5783\"},\"view\":{\"id\":\"5786\"}},\"id\":\"5785\",\"type\":\"GlyphRenderer\"},{\"attributes\":{},\"id\":\"5772\",\"type\":\"HelpTool\"},{\"attributes\":{\"tools\":[{\"id\":\"5767\"},{\"id\":\"5768\"},{\"id\":\"5769\"},{\"id\":\"5770\"},{\"id\":\"5771\"},{\"id\":\"5772\"}]},\"id\":\"5774\",\"type\":\"Toolbar\"},{\"attributes\":{\"coordinates\":null,\"group\":null,\"text\":\"Customized grid lines example\",\"text_color\":\"#5B5B5B\",\"text_font\":\"Calibri Light\",\"text_font_size\":\"1.25em\",\"text_font_style\":\"bold\"},\"id\":\"5749\",\"type\":\"Title\"},{\"attributes\":{\"line_alpha\":0.1,\"line_color\":\"green\",\"line_width\":2,\"x\":{\"field\":\"x\"},\"y\":{\"field\":\"y\"}},\"id\":\"5783\",\"type\":\"Line\"},{\"attributes\":{\"axis_label_standoff\":10,\"axis_label_text_color\":\"#5B5B5B\",\"axis_label_text_font\":\"Calibri Light\",\"axis_label_text_font_size\":\"1.15em\",\"axis_label_text_font_style\":\"bold\",\"axis_line_alpha\":1,\"axis_line_color\":\"#5B5B5B\",\"coordinates\":null,\"formatter\":{\"id\":\"6038\"},\"group\":null,\"major_label_policy\":{\"id\":\"6039\"},\"major_label_text_color\":\"#5B5B5B\",\"major_label_text_font\":\"Calibri Light\",\"major_label_text_font_size\":\"0.95em\",\"major_label_text_font_style\":\"bold\",\"major_tick_in\":0,\"major_tick_line_alpha\":0.25,\"major_tick_line_color\":\"#5B5B5B\",\"major_tick_out\":3,\"minor_tick_line_alpha\":0.25,\"minor_tick_line_color\":\"#5B5B5B\",\"ticker\":{\"id\":\"5764\"}},\"id\":\"5763\",\"type\":\"LinearAxis\"},{\"attributes\":{},\"id\":\"5771\",\"type\":\"ResetTool\"},{\"attributes\":{\"line_color\":\"green\",\"line_width\":2,\"x\":{\"field\":\"x\"},\"y\":{\"field\":\"y\"}},\"id\":\"5782\",\"type\":\"Line\"},{\"attributes\":{\"overlay\":{\"id\":\"5773\"}},\"id\":\"5769\",\"type\":\"BoxZoomTool\"},{\"attributes\":{},\"id\":\"5751\",\"type\":\"DataRange1d\"},{\"attributes\":{\"data\":{\"x\":[1,2,3,4,5],\"y\":[4,5,5,7,2]},\"selected\":{\"id\":\"6044\"},\"selection_policy\":{\"id\":\"6043\"}},\"id\":\"5781\",\"type\":\"ColumnDataSource\"},{\"attributes\":{},\"id\":\"6038\",\"type\":\"BasicTickFormatter\"},{\"attributes\":{},\"id\":\"5768\",\"type\":\"WheelZoomTool\"},{\"attributes\":{},\"id\":\"6039\",\"type\":\"AllLabels\"},{\"attributes\":{},\"id\":\"5755\",\"type\":\"LinearScale\"},{\"attributes\":{\"bottom_units\":\"screen\",\"coordinates\":null,\"fill_alpha\":0.5,\"fill_color\":\"lightgrey\",\"group\":null,\"left_units\":\"screen\",\"level\":\"overlay\",\"line_alpha\":1.0,\"line_color\":\"black\",\"line_dash\":[4,4],\"line_width\":2,\"right_units\":\"screen\",\"syncable\":false,\"top_units\":\"screen\"},\"id\":\"5773\",\"type\":\"BoxAnnotation\"},{\"attributes\":{},\"id\":\"6041\",\"type\":\"BasicTickFormatter\"},{\"attributes\":{\"axis_label_standoff\":10,\"axis_label_text_color\":\"#5B5B5B\",\"axis_label_text_font\":\"Calibri Light\",\"axis_label_text_font_size\":\"1.15em\",\"axis_label_text_font_style\":\"bold\",\"axis_line_alpha\":1,\"axis_line_color\":\"#5B5B5B\",\"coordinates\":null,\"formatter\":{\"id\":\"6041\"},\"group\":null,\"major_label_policy\":{\"id\":\"6042\"},\"major_label_text_color\":\"#5B5B5B\",\"major_label_text_font\":\"Calibri Light\",\"major_label_text_font_size\":\"0.95em\",\"major_label_text_font_style\":\"bold\",\"major_tick_in\":0,\"major_tick_line_alpha\":0.25,\"major_tick_line_color\":\"#5B5B5B\",\"major_tick_out\":3,\"minor_tick_line_alpha\":0.25,\"minor_tick_line_color\":\"#5B5B5B\",\"ticker\":{\"id\":\"5760\"}},\"id\":\"5759\",\"type\":\"LinearAxis\"},{\"attributes\":{\"source\":{\"id\":\"5781\"}},\"id\":\"5786\",\"type\":\"CDSView\"},{\"attributes\":{},\"id\":\"5767\",\"type\":\"PanTool\"},{\"attributes\":{},\"id\":\"5757\",\"type\":\"LinearScale\"},{\"attributes\":{},\"id\":\"5764\",\"type\":\"BasicTicker\"},{\"attributes\":{\"line_alpha\":0.2,\"line_color\":\"green\",\"line_width\":2,\"x\":{\"field\":\"x\"},\"y\":{\"field\":\"y\"}},\"id\":\"5784\",\"type\":\"Line\"}],\"root_ids\":[\"5748\"]},\"title\":\"Bokeh Application\",\"version\":\"2.4.2\"}};\n  const render_items = [{\"docid\":\"9e6cfbb3-005e-47a8-badd-0e16367a8c50\",\"root_ids\":[\"5748\"],\"roots\":{\"5748\":\"8522b28f-165c-4c7f-9178-2a87fde0723a\"}}];\n  root.Bokeh.embed.embed_items_notebook(docs_json, render_items);\n\n  }\n  if (root.Bokeh !== undefined) {\n    embed_document(root);\n  } else {\n    let attempts = 0;\n    const timer = setInterval(function(root) {\n      if (root.Bokeh !== undefined) {\n        clearInterval(timer);\n        embed_document(root);\n      } else {\n        attempts++;\n        if (attempts > 100) {\n          clearInterval(timer);\n          console.log(\"Bokeh: ERROR: Unable to run BokehJS code because BokehJS library is missing\");\n        }\n      }\n    }, 10, root)\n  }\n})(window);",
      "application/vnd.bokehjs_exec.v0+json": ""
     },
     "metadata": {
      "application/vnd.bokehjs_exec.v0+json": {
       "id": "5748"
      }
     },
     "output_type": "display_data"
    }
   ],
   "source": [
    "from bokeh.plotting import figure, show\n",
    "\n",
    "# prepare some data\n",
    "x = [1, 2, 3, 4, 5]\n",
    "y = [4, 5, 5, 7, 2]\n",
    "\n",
    "# create a plot\n",
    "p = figure(\n",
    "    title=\"Customized grid lines example\",\n",
    "    sizing_mode=\"stretch_width\",\n",
    "    max_width=500,\n",
    "    height=250,\n",
    ")\n",
    "\n",
    "# add a renderer\n",
    "p.line(x, y, line_color=\"green\", line_width=2)\n",
    "\n",
    "# change just some things about the x-grid\n",
    "p.xgrid.grid_line_color = \"red\"\n",
    "\n",
    "# change just some things about the y-grid\n",
    "p.ygrid.grid_line_alpha = 0.8\n",
    "p.ygrid.grid_line_dash = [6, 4]\n",
    "\n",
    "# show the results\n",
    "show(p)"
   ]
  },
  {
   "cell_type": "markdown",
   "metadata": {},
   "source": [
    "## Using bands and bounds"
   ]
  },
  {
   "cell_type": "code",
   "execution_count": 26,
   "metadata": {},
   "outputs": [
    {
     "data": {
      "text/html": [
       "\n",
       "\n",
       "\n",
       "\n",
       "\n",
       "\n",
       "  <div class=\"bk-root\" id=\"9c89b039-9f69-48fc-81df-39832ee0dff9\" data-root-id=\"6096\"></div>\n"
      ]
     },
     "metadata": {},
     "output_type": "display_data"
    },
    {
     "data": {
      "application/javascript": "(function(root) {\n  function embed_document(root) {\n    \n  const docs_json = {\"e9665e8d-eb2a-4c5b-a576-478c6a47afdf\":{\"defs\":[],\"roots\":{\"references\":[{\"attributes\":{\"below\":[{\"id\":\"6107\"}],\"center\":[{\"id\":\"6110\"},{\"id\":\"6114\"}],\"height\":250,\"left\":[{\"id\":\"6111\"}],\"max_width\":500,\"renderers\":[{\"id\":\"6133\"}],\"sizing_mode\":\"stretch_width\",\"title\":{\"id\":\"6097\"},\"toolbar\":{\"id\":\"6122\"},\"x_range\":{\"id\":\"6099\"},\"x_scale\":{\"id\":\"6103\"},\"y_range\":{\"id\":\"6101\"},\"y_scale\":{\"id\":\"6105\"}},\"id\":\"6096\",\"subtype\":\"Figure\",\"type\":\"Plot\"},{\"attributes\":{},\"id\":\"6099\",\"type\":\"DataRange1d\"},{\"attributes\":{},\"id\":\"6401\",\"type\":\"UnionRenderers\"},{\"attributes\":{},\"id\":\"6400\",\"type\":\"AllLabels\"},{\"attributes\":{},\"id\":\"6115\",\"type\":\"PanTool\"},{\"attributes\":{},\"id\":\"6116\",\"type\":\"WheelZoomTool\"},{\"attributes\":{\"axis_label_standoff\":10,\"axis_label_text_color\":\"#5B5B5B\",\"axis_label_text_font\":\"Calibri Light\",\"axis_label_text_font_size\":\"1.15em\",\"axis_label_text_font_style\":\"bold\",\"axis_line_alpha\":1,\"axis_line_color\":\"#5B5B5B\",\"coordinates\":null,\"formatter\":{\"id\":\"6396\"},\"group\":null,\"major_label_policy\":{\"id\":\"6397\"},\"major_label_text_color\":\"#5B5B5B\",\"major_label_text_font\":\"Calibri Light\",\"major_label_text_font_size\":\"0.95em\",\"major_label_text_font_style\":\"bold\",\"major_tick_in\":0,\"major_tick_line_alpha\":0.25,\"major_tick_line_color\":\"#5B5B5B\",\"major_tick_out\":3,\"minor_tick_line_alpha\":0.25,\"minor_tick_line_color\":\"#5B5B5B\",\"ticker\":{\"id\":\"6112\"}},\"id\":\"6111\",\"type\":\"LinearAxis\"},{\"attributes\":{\"line_alpha\":0.2,\"line_color\":\"green\",\"line_width\":2,\"x\":{\"field\":\"x\"},\"y\":{\"field\":\"y\"}},\"id\":\"6132\",\"type\":\"Line\"},{\"attributes\":{},\"id\":\"6112\",\"type\":\"BasicTicker\"},{\"attributes\":{\"axis\":{\"id\":\"6111\"},\"band_fill_alpha\":0.1,\"band_fill_color\":\"olive\",\"coordinates\":null,\"dimension\":1,\"group\":null,\"ticker\":null},\"id\":\"6114\",\"type\":\"Grid\"},{\"attributes\":{\"axis_label_standoff\":10,\"axis_label_text_color\":\"#5B5B5B\",\"axis_label_text_font\":\"Calibri Light\",\"axis_label_text_font_size\":\"1.15em\",\"axis_label_text_font_style\":\"bold\",\"axis_line_alpha\":1,\"axis_line_color\":\"#5B5B5B\",\"coordinates\":null,\"formatter\":{\"id\":\"6399\"},\"group\":null,\"major_label_policy\":{\"id\":\"6400\"},\"major_label_text_color\":\"#5B5B5B\",\"major_label_text_font\":\"Calibri Light\",\"major_label_text_font_size\":\"0.95em\",\"major_label_text_font_style\":\"bold\",\"major_tick_in\":0,\"major_tick_line_alpha\":0.25,\"major_tick_line_color\":\"#5B5B5B\",\"major_tick_out\":3,\"minor_tick_line_alpha\":0.25,\"minor_tick_line_color\":\"#5B5B5B\",\"ticker\":{\"id\":\"6108\"}},\"id\":\"6107\",\"type\":\"LinearAxis\"},{\"attributes\":{},\"id\":\"6103\",\"type\":\"LinearScale\"},{\"attributes\":{\"source\":{\"id\":\"6129\"}},\"id\":\"6134\",\"type\":\"CDSView\"},{\"attributes\":{\"tools\":[{\"id\":\"6115\"},{\"id\":\"6116\"},{\"id\":\"6117\"},{\"id\":\"6118\"},{\"id\":\"6119\"},{\"id\":\"6120\"}]},\"id\":\"6122\",\"type\":\"Toolbar\"},{\"attributes\":{\"coordinates\":null,\"group\":null,\"text\":\"Bands and bonds example\",\"text_color\":\"#5B5B5B\",\"text_font\":\"Calibri Light\",\"text_font_size\":\"1.25em\",\"text_font_style\":\"bold\"},\"id\":\"6097\",\"type\":\"Title\"},{\"attributes\":{},\"id\":\"6101\",\"type\":\"DataRange1d\"},{\"attributes\":{\"coordinates\":null,\"data_source\":{\"id\":\"6129\"},\"glyph\":{\"id\":\"6130\"},\"group\":null,\"hover_glyph\":null,\"muted_glyph\":{\"id\":\"6132\"},\"nonselection_glyph\":{\"id\":\"6131\"},\"view\":{\"id\":\"6134\"}},\"id\":\"6133\",\"type\":\"GlyphRenderer\"},{\"attributes\":{\"bottom_units\":\"screen\",\"coordinates\":null,\"fill_alpha\":0.5,\"fill_color\":\"lightgrey\",\"group\":null,\"left_units\":\"screen\",\"level\":\"overlay\",\"line_alpha\":1.0,\"line_color\":\"black\",\"line_dash\":[4,4],\"line_width\":2,\"right_units\":\"screen\",\"syncable\":false,\"top_units\":\"screen\"},\"id\":\"6121\",\"type\":\"BoxAnnotation\"},{\"attributes\":{},\"id\":\"6399\",\"type\":\"BasicTickFormatter\"},{\"attributes\":{\"data\":{\"x\":[1,2,3,4,5],\"y\":[4,5,5,7,2]},\"selected\":{\"id\":\"6402\"},\"selection_policy\":{\"id\":\"6401\"}},\"id\":\"6129\",\"type\":\"ColumnDataSource\"},{\"attributes\":{},\"id\":\"6119\",\"type\":\"ResetTool\"},{\"attributes\":{},\"id\":\"6118\",\"type\":\"SaveTool\"},{\"attributes\":{\"overlay\":{\"id\":\"6121\"}},\"id\":\"6117\",\"type\":\"BoxZoomTool\"},{\"attributes\":{},\"id\":\"6402\",\"type\":\"Selection\"},{\"attributes\":{\"line_alpha\":0.1,\"line_color\":\"green\",\"line_width\":2,\"x\":{\"field\":\"x\"},\"y\":{\"field\":\"y\"}},\"id\":\"6131\",\"type\":\"Line\"},{\"attributes\":{\"line_color\":\"green\",\"line_width\":2,\"x\":{\"field\":\"x\"},\"y\":{\"field\":\"y\"}},\"id\":\"6130\",\"type\":\"Line\"},{\"attributes\":{},\"id\":\"6108\",\"type\":\"BasicTicker\"},{\"attributes\":{},\"id\":\"6105\",\"type\":\"LinearScale\"},{\"attributes\":{\"axis\":{\"id\":\"6107\"},\"bounds\":[2,4],\"coordinates\":null,\"group\":null,\"ticker\":null},\"id\":\"6110\",\"type\":\"Grid\"},{\"attributes\":{},\"id\":\"6120\",\"type\":\"HelpTool\"},{\"attributes\":{},\"id\":\"6397\",\"type\":\"AllLabels\"},{\"attributes\":{},\"id\":\"6396\",\"type\":\"BasicTickFormatter\"}],\"root_ids\":[\"6096\"]},\"title\":\"Bokeh Application\",\"version\":\"2.4.2\"}};\n  const render_items = [{\"docid\":\"e9665e8d-eb2a-4c5b-a576-478c6a47afdf\",\"root_ids\":[\"6096\"],\"roots\":{\"6096\":\"9c89b039-9f69-48fc-81df-39832ee0dff9\"}}];\n  root.Bokeh.embed.embed_items_notebook(docs_json, render_items);\n\n  }\n  if (root.Bokeh !== undefined) {\n    embed_document(root);\n  } else {\n    let attempts = 0;\n    const timer = setInterval(function(root) {\n      if (root.Bokeh !== undefined) {\n        clearInterval(timer);\n        embed_document(root);\n      } else {\n        attempts++;\n        if (attempts > 100) {\n          clearInterval(timer);\n          console.log(\"Bokeh: ERROR: Unable to run BokehJS code because BokehJS library is missing\");\n        }\n      }\n    }, 10, root)\n  }\n})(window);",
      "application/vnd.bokehjs_exec.v0+json": ""
     },
     "metadata": {
      "application/vnd.bokehjs_exec.v0+json": {
       "id": "6096"
      }
     },
     "output_type": "display_data"
    }
   ],
   "source": [
    "from bokeh.plotting import figure, show\n",
    "\n",
    "# prepare some data\n",
    "x = [1, 2, 3, 4, 5]\n",
    "y = [4, 5, 5, 7, 2]\n",
    "\n",
    "# create a plot\n",
    "p = figure(\n",
    "    title=\"Bands and bonds example\",\n",
    "    sizing_mode=\"stretch_width\",\n",
    "    max_width=500,\n",
    "    height=250,\n",
    ")\n",
    "\n",
    "# add a renderer\n",
    "p.line(x, y, line_color=\"green\", line_width=2)\n",
    "\n",
    "# add bands to the y-grid\n",
    "p.ygrid.band_fill_color = \"olive\"\n",
    "p.ygrid.band_fill_alpha = 0.1\n",
    "\n",
    "# define vertical bonds\n",
    "p.xgrid.bounds = (2, 4)\n",
    "\n",
    "# show the results\n",
    "show(p)"
   ]
  },
  {
   "cell_type": "markdown",
   "metadata": {},
   "source": [
    "## Setting background colors"
   ]
  },
  {
   "cell_type": "code",
   "execution_count": 27,
   "metadata": {},
   "outputs": [
    {
     "data": {
      "text/html": [
       "\n",
       "\n",
       "\n",
       "\n",
       "\n",
       "\n",
       "  <div class=\"bk-root\" id=\"68d0810f-89d0-4286-8365-46c877ad3d31\" data-root-id=\"6454\"></div>\n"
      ]
     },
     "metadata": {},
     "output_type": "display_data"
    },
    {
     "data": {
      "application/javascript": "(function(root) {\n  function embed_document(root) {\n    \n  const docs_json = {\"c0ed2cec-5193-4671-a950-fd1ced7b34af\":{\"defs\":[],\"roots\":{\"references\":[{\"attributes\":{\"background_fill_color\":\"rgb(204, 255, 255)\",\"below\":[{\"id\":\"6465\"}],\"border_fill_color\":\"rgb(102, 204, 255)\",\"center\":[{\"id\":\"6468\"},{\"id\":\"6472\"}],\"height\":250,\"left\":[{\"id\":\"6469\"}],\"max_width\":500,\"outline_line_color\":\"rgb(0, 0, 255)\",\"renderers\":[{\"id\":\"6491\"}],\"sizing_mode\":\"stretch_width\",\"title\":{\"id\":\"6455\"},\"toolbar\":{\"id\":\"6480\"},\"x_range\":{\"id\":\"6457\"},\"x_scale\":{\"id\":\"6461\"},\"y_range\":{\"id\":\"6459\"},\"y_scale\":{\"id\":\"6463\"}},\"id\":\"6454\",\"subtype\":\"Figure\",\"type\":\"Plot\"},{\"attributes\":{\"line_alpha\":0.2,\"line_color\":\"green\",\"line_width\":2,\"x\":{\"field\":\"x\"},\"y\":{\"field\":\"y\"}},\"id\":\"6490\",\"type\":\"Line\"},{\"attributes\":{},\"id\":\"6764\",\"type\":\"BasicTickFormatter\"},{\"attributes\":{\"axis\":{\"id\":\"6469\"},\"coordinates\":null,\"dimension\":1,\"group\":null,\"ticker\":null},\"id\":\"6472\",\"type\":\"Grid\"},{\"attributes\":{},\"id\":\"6765\",\"type\":\"AllLabels\"},{\"attributes\":{},\"id\":\"6463\",\"type\":\"LinearScale\"},{\"attributes\":{},\"id\":\"6767\",\"type\":\"BasicTickFormatter\"},{\"attributes\":{},\"id\":\"6473\",\"type\":\"PanTool\"},{\"attributes\":{\"axis\":{\"id\":\"6465\"},\"coordinates\":null,\"group\":null,\"ticker\":null},\"id\":\"6468\",\"type\":\"Grid\"},{\"attributes\":{},\"id\":\"6768\",\"type\":\"AllLabels\"},{\"attributes\":{},\"id\":\"6457\",\"type\":\"DataRange1d\"},{\"attributes\":{\"data\":{\"x\":[1,2,3,4,5],\"y\":[4,5,5,7,2]},\"selected\":{\"id\":\"6770\"},\"selection_policy\":{\"id\":\"6769\"}},\"id\":\"6487\",\"type\":\"ColumnDataSource\"},{\"attributes\":{\"line_alpha\":0.1,\"line_color\":\"green\",\"line_width\":2,\"x\":{\"field\":\"x\"},\"y\":{\"field\":\"y\"}},\"id\":\"6489\",\"type\":\"Line\"},{\"attributes\":{},\"id\":\"6459\",\"type\":\"DataRange1d\"},{\"attributes\":{},\"id\":\"6461\",\"type\":\"LinearScale\"},{\"attributes\":{\"source\":{\"id\":\"6487\"}},\"id\":\"6492\",\"type\":\"CDSView\"},{\"attributes\":{\"axis_label_standoff\":10,\"axis_label_text_color\":\"#5B5B5B\",\"axis_label_text_font\":\"Calibri Light\",\"axis_label_text_font_size\":\"1.15em\",\"axis_label_text_font_style\":\"bold\",\"axis_line_alpha\":1,\"axis_line_color\":\"#5B5B5B\",\"coordinates\":null,\"formatter\":{\"id\":\"6767\"},\"group\":null,\"major_label_policy\":{\"id\":\"6768\"},\"major_label_text_color\":\"#5B5B5B\",\"major_label_text_font\":\"Calibri Light\",\"major_label_text_font_size\":\"0.95em\",\"major_label_text_font_style\":\"bold\",\"major_tick_in\":0,\"major_tick_line_alpha\":0.25,\"major_tick_line_color\":\"#5B5B5B\",\"major_tick_out\":3,\"minor_tick_line_alpha\":0.25,\"minor_tick_line_color\":\"#5B5B5B\",\"ticker\":{\"id\":\"6466\"}},\"id\":\"6465\",\"type\":\"LinearAxis\"},{\"attributes\":{\"axis_label_standoff\":10,\"axis_label_text_color\":\"#5B5B5B\",\"axis_label_text_font\":\"Calibri Light\",\"axis_label_text_font_size\":\"1.15em\",\"axis_label_text_font_style\":\"bold\",\"axis_line_alpha\":1,\"axis_line_color\":\"#5B5B5B\",\"coordinates\":null,\"formatter\":{\"id\":\"6764\"},\"group\":null,\"major_label_policy\":{\"id\":\"6765\"},\"major_label_text_color\":\"#5B5B5B\",\"major_label_text_font\":\"Calibri Light\",\"major_label_text_font_size\":\"0.95em\",\"major_label_text_font_style\":\"bold\",\"major_tick_in\":0,\"major_tick_line_alpha\":0.25,\"major_tick_line_color\":\"#5B5B5B\",\"major_tick_out\":3,\"minor_tick_line_alpha\":0.25,\"minor_tick_line_color\":\"#5B5B5B\",\"ticker\":{\"id\":\"6470\"}},\"id\":\"6469\",\"type\":\"LinearAxis\"},{\"attributes\":{},\"id\":\"6769\",\"type\":\"UnionRenderers\"},{\"attributes\":{\"tools\":[{\"id\":\"6473\"},{\"id\":\"6474\"},{\"id\":\"6475\"},{\"id\":\"6476\"},{\"id\":\"6477\"},{\"id\":\"6478\"}]},\"id\":\"6480\",\"type\":\"Toolbar\"},{\"attributes\":{\"bottom_units\":\"screen\",\"coordinates\":null,\"fill_alpha\":0.5,\"fill_color\":\"lightgrey\",\"group\":null,\"left_units\":\"screen\",\"level\":\"overlay\",\"line_alpha\":1.0,\"line_color\":\"black\",\"line_dash\":[4,4],\"line_width\":2,\"right_units\":\"screen\",\"syncable\":false,\"top_units\":\"screen\"},\"id\":\"6479\",\"type\":\"BoxAnnotation\"},{\"attributes\":{},\"id\":\"6770\",\"type\":\"Selection\"},{\"attributes\":{\"coordinates\":null,\"data_source\":{\"id\":\"6487\"},\"glyph\":{\"id\":\"6488\"},\"group\":null,\"hover_glyph\":null,\"muted_glyph\":{\"id\":\"6490\"},\"nonselection_glyph\":{\"id\":\"6489\"},\"view\":{\"id\":\"6492\"}},\"id\":\"6491\",\"type\":\"GlyphRenderer\"},{\"attributes\":{\"overlay\":{\"id\":\"6479\"}},\"id\":\"6475\",\"type\":\"BoxZoomTool\"},{\"attributes\":{},\"id\":\"6476\",\"type\":\"SaveTool\"},{\"attributes\":{},\"id\":\"6470\",\"type\":\"BasicTicker\"},{\"attributes\":{\"line_color\":\"green\",\"line_width\":2,\"x\":{\"field\":\"x\"},\"y\":{\"field\":\"y\"}},\"id\":\"6488\",\"type\":\"Line\"},{\"attributes\":{},\"id\":\"6478\",\"type\":\"HelpTool\"},{\"attributes\":{},\"id\":\"6477\",\"type\":\"ResetTool\"},{\"attributes\":{},\"id\":\"6474\",\"type\":\"WheelZoomTool\"},{\"attributes\":{},\"id\":\"6466\",\"type\":\"BasicTicker\"},{\"attributes\":{\"coordinates\":null,\"group\":null,\"text\":\"Background colors example\",\"text_color\":\"#5B5B5B\",\"text_font\":\"Calibri Light\",\"text_font_size\":\"1.25em\",\"text_font_style\":\"bold\"},\"id\":\"6455\",\"type\":\"Title\"}],\"root_ids\":[\"6454\"]},\"title\":\"Bokeh Application\",\"version\":\"2.4.2\"}};\n  const render_items = [{\"docid\":\"c0ed2cec-5193-4671-a950-fd1ced7b34af\",\"root_ids\":[\"6454\"],\"roots\":{\"6454\":\"68d0810f-89d0-4286-8365-46c877ad3d31\"}}];\n  root.Bokeh.embed.embed_items_notebook(docs_json, render_items);\n\n  }\n  if (root.Bokeh !== undefined) {\n    embed_document(root);\n  } else {\n    let attempts = 0;\n    const timer = setInterval(function(root) {\n      if (root.Bokeh !== undefined) {\n        clearInterval(timer);\n        embed_document(root);\n      } else {\n        attempts++;\n        if (attempts > 100) {\n          clearInterval(timer);\n          console.log(\"Bokeh: ERROR: Unable to run BokehJS code because BokehJS library is missing\");\n        }\n      }\n    }, 10, root)\n  }\n})(window);",
      "application/vnd.bokehjs_exec.v0+json": ""
     },
     "metadata": {
      "application/vnd.bokehjs_exec.v0+json": {
       "id": "6454"
      }
     },
     "output_type": "display_data"
    }
   ],
   "source": [
    "from bokeh.plotting import figure, show\n",
    "\n",
    "# prepare some data\n",
    "x = [1, 2, 3, 4, 5]\n",
    "y = [4, 5, 5, 7, 2]\n",
    "\n",
    "# create a plot\n",
    "p = figure(\n",
    "    title=\"Background colors example\",\n",
    "    sizing_mode=\"stretch_width\",\n",
    "    max_width=500,\n",
    "    height=250,\n",
    ")\n",
    "\n",
    "# add a renderer\n",
    "p.line(x, y, line_color=\"green\", line_width=2)\n",
    "\n",
    "# change the fill colors\n",
    "p.background_fill_color = (204, 255, 255)\n",
    "p.border_fill_color = (102, 204, 255)\n",
    "p.outline_line_color = (0, 0, 255)\n",
    "\n",
    "# show the results\n",
    "show(p)"
   ]
  },
  {
   "cell_type": "markdown",
   "metadata": {},
   "source": [
    "## Customizing the toolbar"
   ]
  },
  {
   "cell_type": "code",
   "execution_count": 28,
   "metadata": {},
   "outputs": [
    {
     "data": {
      "text/html": [
       "\n",
       "\n",
       "\n",
       "\n",
       "\n",
       "\n",
       "  <div class=\"bk-root\" id=\"6fcb5814-f9e7-478d-8694-968a6d658934\" data-root-id=\"6822\"></div>\n"
      ]
     },
     "metadata": {},
     "output_type": "display_data"
    },
    {
     "data": {
      "application/javascript": "(function(root) {\n  function embed_document(root) {\n    \n  const docs_json = {\"b65a02e9-9851-4b07-a84e-099013ebe5e4\":{\"defs\":[],\"roots\":{\"references\":[{\"attributes\":{\"below\":[{\"id\":\"6833\"}],\"center\":[{\"id\":\"6836\"},{\"id\":\"6840\"}],\"height\":250,\"left\":[{\"id\":\"6837\"}],\"max_width\":500,\"renderers\":[{\"id\":\"6860\"}],\"sizing_mode\":\"stretch_width\",\"title\":{\"id\":\"6823\"},\"toolbar\":{\"id\":\"6848\"},\"x_range\":{\"id\":\"6825\"},\"x_scale\":{\"id\":\"6829\"},\"y_range\":{\"id\":\"6827\"},\"y_scale\":{\"id\":\"6831\"}},\"id\":\"6822\",\"subtype\":\"Figure\",\"type\":\"Plot\"},{\"attributes\":{},\"id\":\"7149\",\"type\":\"Selection\"},{\"attributes\":{\"axis_label_standoff\":10,\"axis_label_text_color\":\"#5B5B5B\",\"axis_label_text_font\":\"Calibri Light\",\"axis_label_text_font_size\":\"1.15em\",\"axis_label_text_font_style\":\"bold\",\"axis_line_alpha\":1,\"axis_line_color\":\"#5B5B5B\",\"coordinates\":null,\"formatter\":{\"id\":\"7146\"},\"group\":null,\"major_label_policy\":{\"id\":\"7147\"},\"major_label_text_color\":\"#5B5B5B\",\"major_label_text_font\":\"Calibri Light\",\"major_label_text_font_size\":\"0.95em\",\"major_label_text_font_style\":\"bold\",\"major_tick_in\":0,\"major_tick_line_alpha\":0.25,\"major_tick_line_color\":\"#5B5B5B\",\"major_tick_out\":3,\"minor_tick_line_alpha\":0.25,\"minor_tick_line_color\":\"#5B5B5B\",\"ticker\":{\"id\":\"6834\"}},\"id\":\"6833\",\"type\":\"LinearAxis\"},{\"attributes\":{\"bottom_units\":\"screen\",\"coordinates\":null,\"fill_alpha\":0.5,\"fill_color\":\"lightgrey\",\"group\":null,\"left_units\":\"screen\",\"level\":\"overlay\",\"line_alpha\":1.0,\"line_color\":\"black\",\"line_dash\":[4,4],\"line_width\":2,\"right_units\":\"screen\",\"syncable\":false,\"top_units\":\"screen\"},\"id\":\"6847\",\"type\":\"BoxAnnotation\"},{\"attributes\":{},\"id\":\"6825\",\"type\":\"DataRange1d\"},{\"attributes\":{\"line_alpha\":0.1,\"line_color\":\"#1f77b4\",\"x\":{\"field\":\"x\"},\"y\":{\"field\":\"y\"}},\"id\":\"6858\",\"type\":\"Line\"},{\"attributes\":{\"coordinates\":null,\"data_source\":{\"id\":\"6856\"},\"glyph\":{\"id\":\"6857\"},\"group\":null,\"hover_glyph\":null,\"muted_glyph\":{\"id\":\"6859\"},\"nonselection_glyph\":{\"id\":\"6858\"},\"view\":{\"id\":\"6861\"}},\"id\":\"6860\",\"type\":\"GlyphRenderer\"},{\"attributes\":{},\"id\":\"6829\",\"type\":\"LinearScale\"},{\"attributes\":{\"source\":{\"id\":\"6856\"}},\"id\":\"6861\",\"type\":\"CDSView\"},{\"attributes\":{\"data\":{\"x\":[1,2,3,4,5],\"y\":[4,5,5,7,2]},\"selected\":{\"id\":\"7149\"},\"selection_policy\":{\"id\":\"7148\"}},\"id\":\"6856\",\"type\":\"ColumnDataSource\"},{\"attributes\":{\"line_color\":\"#1f77b4\",\"x\":{\"field\":\"x\"},\"y\":{\"field\":\"y\"}},\"id\":\"6857\",\"type\":\"Line\"},{\"attributes\":{},\"id\":\"6845\",\"type\":\"ResetTool\"},{\"attributes\":{},\"id\":\"6844\",\"type\":\"SaveTool\"},{\"attributes\":{},\"id\":\"6842\",\"type\":\"WheelZoomTool\"},{\"attributes\":{\"axis\":{\"id\":\"6837\"},\"coordinates\":null,\"dimension\":1,\"group\":null,\"ticker\":null},\"id\":\"6840\",\"type\":\"Grid\"},{\"attributes\":{},\"id\":\"7147\",\"type\":\"AllLabels\"},{\"attributes\":{},\"id\":\"6838\",\"type\":\"BasicTicker\"},{\"attributes\":{},\"id\":\"7146\",\"type\":\"BasicTickFormatter\"},{\"attributes\":{},\"id\":\"7144\",\"type\":\"AllLabels\"},{\"attributes\":{\"axis_label_standoff\":10,\"axis_label_text_color\":\"#5B5B5B\",\"axis_label_text_font\":\"Calibri Light\",\"axis_label_text_font_size\":\"1.15em\",\"axis_label_text_font_style\":\"bold\",\"axis_line_alpha\":1,\"axis_line_color\":\"#5B5B5B\",\"coordinates\":null,\"formatter\":{\"id\":\"7143\"},\"group\":null,\"major_label_policy\":{\"id\":\"7144\"},\"major_label_text_color\":\"#5B5B5B\",\"major_label_text_font\":\"Calibri Light\",\"major_label_text_font_size\":\"0.95em\",\"major_label_text_font_style\":\"bold\",\"major_tick_in\":0,\"major_tick_line_alpha\":0.25,\"major_tick_line_color\":\"#5B5B5B\",\"major_tick_out\":3,\"minor_tick_line_alpha\":0.25,\"minor_tick_line_color\":\"#5B5B5B\",\"ticker\":{\"id\":\"6838\"}},\"id\":\"6837\",\"type\":\"LinearAxis\"},{\"attributes\":{},\"id\":\"6827\",\"type\":\"DataRange1d\"},{\"attributes\":{},\"id\":\"7143\",\"type\":\"BasicTickFormatter\"},{\"attributes\":{\"line_alpha\":0.2,\"line_color\":\"#1f77b4\",\"x\":{\"field\":\"x\"},\"y\":{\"field\":\"y\"}},\"id\":\"6859\",\"type\":\"Line\"},{\"attributes\":{},\"id\":\"6846\",\"type\":\"HelpTool\"},{\"attributes\":{},\"id\":\"6841\",\"type\":\"PanTool\"},{\"attributes\":{\"coordinates\":null,\"group\":null,\"text\":\"Toolbar autohide example\",\"text_color\":\"#5B5B5B\",\"text_font\":\"Calibri Light\",\"text_font_size\":\"1.25em\",\"text_font_style\":\"bold\"},\"id\":\"6823\",\"type\":\"Title\"},{\"attributes\":{},\"id\":\"6831\",\"type\":\"LinearScale\"},{\"attributes\":{\"axis\":{\"id\":\"6833\"},\"coordinates\":null,\"group\":null,\"ticker\":null},\"id\":\"6836\",\"type\":\"Grid\"},{\"attributes\":{},\"id\":\"6834\",\"type\":\"BasicTicker\"},{\"attributes\":{},\"id\":\"7148\",\"type\":\"UnionRenderers\"},{\"attributes\":{\"overlay\":{\"id\":\"6847\"}},\"id\":\"6843\",\"type\":\"BoxZoomTool\"},{\"attributes\":{\"autohide\":true,\"tools\":[{\"id\":\"6841\"},{\"id\":\"6842\"},{\"id\":\"6843\"},{\"id\":\"6844\"},{\"id\":\"6845\"},{\"id\":\"6846\"}]},\"id\":\"6848\",\"type\":\"Toolbar\"}],\"root_ids\":[\"6822\"]},\"title\":\"Bokeh Application\",\"version\":\"2.4.2\"}};\n  const render_items = [{\"docid\":\"b65a02e9-9851-4b07-a84e-099013ebe5e4\",\"root_ids\":[\"6822\"],\"roots\":{\"6822\":\"6fcb5814-f9e7-478d-8694-968a6d658934\"}}];\n  root.Bokeh.embed.embed_items_notebook(docs_json, render_items);\n\n  }\n  if (root.Bokeh !== undefined) {\n    embed_document(root);\n  } else {\n    let attempts = 0;\n    const timer = setInterval(function(root) {\n      if (root.Bokeh !== undefined) {\n        clearInterval(timer);\n        embed_document(root);\n      } else {\n        attempts++;\n        if (attempts > 100) {\n          clearInterval(timer);\n          console.log(\"Bokeh: ERROR: Unable to run BokehJS code because BokehJS library is missing\");\n        }\n      }\n    }, 10, root)\n  }\n})(window);",
      "application/vnd.bokehjs_exec.v0+json": ""
     },
     "metadata": {
      "application/vnd.bokehjs_exec.v0+json": {
       "id": "6822"
      }
     },
     "output_type": "display_data"
    }
   ],
   "source": [
    "from bokeh.plotting import figure, show\n",
    "\n",
    "# prepare some data\n",
    "x = [1, 2, 3, 4, 5]\n",
    "y = [4, 5, 5, 7, 2]\n",
    "\n",
    "# create a plot\n",
    "p = figure(\n",
    "    title=\"Toolbar autohide example\",\n",
    "    sizing_mode=\"stretch_width\",\n",
    "    max_width=500,\n",
    "    height=250,\n",
    ")\n",
    "\n",
    "# activate toolbar autohide\n",
    "p.toolbar.autohide = True\n",
    "\n",
    "# add a renderer\n",
    "p.line(x, y)\n",
    "\n",
    "# show the results\n",
    "show(p)"
   ]
  },
  {
   "cell_type": "markdown",
   "metadata": {},
   "source": [
    "## Customizing available tools"
   ]
  },
  {
   "cell_type": "code",
   "execution_count": 29,
   "metadata": {},
   "outputs": [
    {
     "data": {
      "text/html": [
       "\n",
       "\n",
       "\n",
       "\n",
       "\n",
       "\n",
       "  <div class=\"bk-root\" id=\"e43e15b4-dfcc-401b-8408-9af69e0a3aac\" data-root-id=\"7203\"></div>\n"
      ]
     },
     "metadata": {},
     "output_type": "display_data"
    },
    {
     "data": {
      "application/javascript": "(function(root) {\n  function embed_document(root) {\n    \n  const docs_json = {\"6faa907d-5cf2-4b6f-8bda-1c76dca413da\":{\"defs\":[],\"roots\":{\"references\":[{\"attributes\":{\"below\":[{\"id\":\"7214\"}],\"center\":[{\"id\":\"7217\"},{\"id\":\"7221\"}],\"height\":250,\"left\":[{\"id\":\"7218\"}],\"max_width\":500,\"renderers\":[{\"id\":\"7232\"}],\"sizing_mode\":\"stretch_width\",\"title\":{\"id\":\"7204\"},\"toolbar\":{\"id\":\"7223\"},\"x_range\":{\"id\":\"7206\"},\"x_scale\":{\"id\":\"7210\"},\"y_range\":{\"id\":\"7208\"},\"y_scale\":{\"id\":\"7212\"}},\"id\":\"7203\",\"subtype\":\"Figure\",\"type\":\"Plot\"},{\"attributes\":{},\"id\":\"7531\",\"type\":\"Selection\"},{\"attributes\":{\"data\":{\"x\":[1,2,3,4,5],\"y\":[4,5,5,7,2]},\"selected\":{\"id\":\"7531\"},\"selection_policy\":{\"id\":\"7530\"}},\"id\":\"7228\",\"type\":\"ColumnDataSource\"},{\"attributes\":{},\"id\":\"7219\",\"type\":\"BasicTicker\"},{\"attributes\":{\"axis\":{\"id\":\"7218\"},\"coordinates\":null,\"dimension\":1,\"group\":null,\"ticker\":null},\"id\":\"7221\",\"type\":\"Grid\"},{\"attributes\":{\"axis\":{\"id\":\"7214\"},\"coordinates\":null,\"group\":null,\"ticker\":null},\"id\":\"7217\",\"type\":\"Grid\"},{\"attributes\":{\"fill_color\":{\"value\":\"#1f77b4\"},\"line_color\":{\"value\":\"#1f77b4\"},\"size\":{\"value\":10},\"x\":{\"field\":\"x\"},\"y\":{\"field\":\"y\"}},\"id\":\"7229\",\"type\":\"Circle\"},{\"attributes\":{},\"id\":\"7215\",\"type\":\"BasicTicker\"},{\"attributes\":{\"axis_label_standoff\":10,\"axis_label_text_color\":\"#5B5B5B\",\"axis_label_text_font\":\"Calibri Light\",\"axis_label_text_font_size\":\"1.15em\",\"axis_label_text_font_style\":\"bold\",\"axis_line_alpha\":1,\"axis_line_color\":\"#5B5B5B\",\"coordinates\":null,\"formatter\":{\"id\":\"7525\"},\"group\":null,\"major_label_policy\":{\"id\":\"7526\"},\"major_label_text_color\":\"#5B5B5B\",\"major_label_text_font\":\"Calibri Light\",\"major_label_text_font_size\":\"0.95em\",\"major_label_text_font_style\":\"bold\",\"major_tick_in\":0,\"major_tick_line_alpha\":0.25,\"major_tick_line_color\":\"#5B5B5B\",\"major_tick_out\":3,\"minor_tick_line_alpha\":0.25,\"minor_tick_line_color\":\"#5B5B5B\",\"ticker\":{\"id\":\"7219\"}},\"id\":\"7218\",\"type\":\"LinearAxis\"},{\"attributes\":{\"coordinates\":null,\"group\":null,\"text\":\"Modifying tools example\",\"text_color\":\"#5B5B5B\",\"text_font\":\"Calibri Light\",\"text_font_size\":\"1.25em\",\"text_font_style\":\"bold\"},\"id\":\"7204\",\"type\":\"Title\"},{\"attributes\":{\"axis_label_standoff\":10,\"axis_label_text_color\":\"#5B5B5B\",\"axis_label_text_font\":\"Calibri Light\",\"axis_label_text_font_size\":\"1.15em\",\"axis_label_text_font_style\":\"bold\",\"axis_line_alpha\":1,\"axis_line_color\":\"#5B5B5B\",\"coordinates\":null,\"formatter\":{\"id\":\"7528\"},\"group\":null,\"major_label_policy\":{\"id\":\"7529\"},\"major_label_text_color\":\"#5B5B5B\",\"major_label_text_font\":\"Calibri Light\",\"major_label_text_font_size\":\"0.95em\",\"major_label_text_font_style\":\"bold\",\"major_tick_in\":0,\"major_tick_line_alpha\":0.25,\"major_tick_line_color\":\"#5B5B5B\",\"major_tick_out\":3,\"minor_tick_line_alpha\":0.25,\"minor_tick_line_color\":\"#5B5B5B\",\"ticker\":{\"id\":\"7215\"}},\"id\":\"7214\",\"type\":\"LinearAxis\"},{\"attributes\":{},\"id\":\"7202\",\"type\":\"ResetTool\"},{\"attributes\":{\"bottom_units\":\"screen\",\"coordinates\":null,\"fill_alpha\":0.5,\"fill_color\":\"lightgrey\",\"group\":null,\"left_units\":\"screen\",\"level\":\"overlay\",\"line_alpha\":1.0,\"line_color\":\"black\",\"line_dash\":[4,4],\"line_width\":2,\"right_units\":\"screen\",\"syncable\":false,\"top_units\":\"screen\"},\"id\":\"7222\",\"type\":\"BoxAnnotation\"},{\"attributes\":{},\"id\":\"7212\",\"type\":\"LinearScale\"},{\"attributes\":{\"fill_alpha\":{\"value\":0.2},\"fill_color\":{\"value\":\"#1f77b4\"},\"hatch_alpha\":{\"value\":0.2},\"line_alpha\":{\"value\":0.2},\"line_color\":{\"value\":\"#1f77b4\"},\"size\":{\"value\":10},\"x\":{\"field\":\"x\"},\"y\":{\"field\":\"y\"}},\"id\":\"7231\",\"type\":\"Circle\"},{\"attributes\":{},\"id\":\"7208\",\"type\":\"DataRange1d\"},{\"attributes\":{\"source\":{\"id\":\"7228\"}},\"id\":\"7233\",\"type\":\"CDSView\"},{\"attributes\":{},\"id\":\"7529\",\"type\":\"AllLabels\"},{\"attributes\":{},\"id\":\"7528\",\"type\":\"BasicTickFormatter\"},{\"attributes\":{\"fill_alpha\":{\"value\":0.1},\"fill_color\":{\"value\":\"#1f77b4\"},\"hatch_alpha\":{\"value\":0.1},\"line_alpha\":{\"value\":0.1},\"line_color\":{\"value\":\"#1f77b4\"},\"size\":{\"value\":10},\"x\":{\"field\":\"x\"},\"y\":{\"field\":\"y\"}},\"id\":\"7230\",\"type\":\"Circle\"},{\"attributes\":{},\"id\":\"7526\",\"type\":\"AllLabels\"},{\"attributes\":{},\"id\":\"7210\",\"type\":\"LinearScale\"},{\"attributes\":{},\"id\":\"7206\",\"type\":\"DataRange1d\"},{\"attributes\":{\"coordinates\":null,\"data_source\":{\"id\":\"7228\"},\"glyph\":{\"id\":\"7229\"},\"group\":null,\"hover_glyph\":null,\"muted_glyph\":{\"id\":\"7231\"},\"nonselection_glyph\":{\"id\":\"7230\"},\"view\":{\"id\":\"7233\"}},\"id\":\"7232\",\"type\":\"GlyphRenderer\"},{\"attributes\":{\"dimensions\":\"width\"},\"id\":\"7226\",\"type\":\"PanTool\"},{\"attributes\":{\"tools\":[{\"id\":\"7201\"},{\"id\":\"7202\"},{\"id\":\"7226\"}]},\"id\":\"7223\",\"type\":\"Toolbar\"},{\"attributes\":{\"overlay\":{\"id\":\"7222\"}},\"id\":\"7201\",\"type\":\"BoxZoomTool\"},{\"attributes\":{},\"id\":\"7525\",\"type\":\"BasicTickFormatter\"},{\"attributes\":{},\"id\":\"7530\",\"type\":\"UnionRenderers\"}],\"root_ids\":[\"7203\"]},\"title\":\"Bokeh Application\",\"version\":\"2.4.2\"}};\n  const render_items = [{\"docid\":\"6faa907d-5cf2-4b6f-8bda-1c76dca413da\",\"root_ids\":[\"7203\"],\"roots\":{\"7203\":\"e43e15b4-dfcc-401b-8408-9af69e0a3aac\"}}];\n  root.Bokeh.embed.embed_items_notebook(docs_json, render_items);\n\n  }\n  if (root.Bokeh !== undefined) {\n    embed_document(root);\n  } else {\n    let attempts = 0;\n    const timer = setInterval(function(root) {\n      if (root.Bokeh !== undefined) {\n        clearInterval(timer);\n        embed_document(root);\n      } else {\n        attempts++;\n        if (attempts > 100) {\n          clearInterval(timer);\n          console.log(\"Bokeh: ERROR: Unable to run BokehJS code because BokehJS library is missing\");\n        }\n      }\n    }, 10, root)\n  }\n})(window);",
      "application/vnd.bokehjs_exec.v0+json": ""
     },
     "metadata": {
      "application/vnd.bokehjs_exec.v0+json": {
       "id": "7203"
      }
     },
     "output_type": "display_data"
    }
   ],
   "source": [
    "from bokeh.models import BoxZoomTool, PanTool, ResetTool\n",
    "from bokeh.plotting import figure, show\n",
    "\n",
    "# prepare some data\n",
    "x = [1, 2, 3, 4, 5]\n",
    "y = [4, 5, 5, 7, 2]\n",
    "\n",
    "# create a plot\n",
    "p = figure(\n",
    "    title=\"Modifying tools example\",\n",
    "    tools=[BoxZoomTool(), ResetTool()],\n",
    "    sizing_mode=\"stretch_width\",\n",
    "    max_width=500,\n",
    "    height=250,\n",
    ")\n",
    "\n",
    "# add an additional pan tool\n",
    "# only vertical panning is allowed\n",
    "p.add_tools(PanTool(dimensions=\"width\"))\n",
    "\n",
    "# add a renderer\n",
    "p.circle(x, y, size=10)\n",
    "\n",
    "# show the results\n",
    "show(p)"
   ]
  },
  {
   "cell_type": "markdown",
   "metadata": {},
   "source": [
    "## Adding tooltips"
   ]
  },
  {
   "cell_type": "code",
   "execution_count": 30,
   "metadata": {},
   "outputs": [
    {
     "data": {
      "text/html": [
       "\n",
       "\n",
       "\n",
       "\n",
       "\n",
       "\n",
       "  <div class=\"bk-root\" id=\"4b87bcb1-0858-4193-8964-0d572d58f3e4\" data-root-id=\"7584\"></div>\n"
      ]
     },
     "metadata": {},
     "output_type": "display_data"
    },
    {
     "data": {
      "application/javascript": "(function(root) {\n  function embed_document(root) {\n    \n  const docs_json = {\"c937b144-45dc-4ac4-9974-30b1fe8a2c74\":{\"defs\":[],\"roots\":{\"references\":[{\"attributes\":{\"below\":[{\"id\":\"7593\"}],\"center\":[{\"id\":\"7596\"},{\"id\":\"7600\"}],\"height\":250,\"left\":[{\"id\":\"7597\"}],\"max_width\":500,\"renderers\":[{\"id\":\"7607\"},{\"id\":\"7613\"}],\"sizing_mode\":\"stretch_width\",\"title\":{\"id\":\"7914\"},\"toolbar\":{\"id\":\"7601\"},\"toolbar_location\":null,\"x_range\":{\"id\":\"7585\"},\"x_scale\":{\"id\":\"7589\"},\"y_range\":{\"id\":\"7587\"},\"y_scale\":{\"id\":\"7591\"}},\"id\":\"7584\",\"subtype\":\"Figure\",\"type\":\"Plot\"},{\"attributes\":{\"callback\":null,\"tooltips\":\"Data point @x has the value @y\"},\"id\":\"7583\",\"type\":\"HoverTool\"},{\"attributes\":{},\"id\":\"7921\",\"type\":\"AllLabels\"},{\"attributes\":{},\"id\":\"7589\",\"type\":\"LinearScale\"},{\"attributes\":{\"axis\":{\"id\":\"7597\"},\"coordinates\":null,\"dimension\":1,\"group\":null,\"ticker\":null},\"id\":\"7600\",\"type\":\"Grid\"},{\"attributes\":{},\"id\":\"7598\",\"type\":\"BasicTicker\"},{\"attributes\":{\"coordinates\":null,\"data_source\":{\"id\":\"7609\"},\"glyph\":{\"id\":\"7610\"},\"group\":null,\"hover_glyph\":null,\"muted_glyph\":{\"id\":\"7612\"},\"nonselection_glyph\":{\"id\":\"7611\"},\"view\":{\"id\":\"7614\"}},\"id\":\"7613\",\"type\":\"GlyphRenderer\"},{\"attributes\":{\"line_alpha\":0.2,\"line_color\":\"#1f77b4\",\"line_width\":2,\"x\":{\"field\":\"x\"},\"y\":{\"field\":\"y\"}},\"id\":\"7612\",\"type\":\"Line\"},{\"attributes\":{},\"id\":\"7920\",\"type\":\"BasicTickFormatter\"},{\"attributes\":{\"line_alpha\":0.1,\"line_color\":\"#1f77b4\",\"line_width\":2,\"x\":{\"field\":\"x\"},\"y\":{\"field\":\"y\"}},\"id\":\"7611\",\"type\":\"Line\"},{\"attributes\":{},\"id\":\"7591\",\"type\":\"LinearScale\"},{\"attributes\":{\"tools\":[{\"id\":\"7583\"}]},\"id\":\"7601\",\"type\":\"Toolbar\"},{\"attributes\":{},\"id\":\"7594\",\"type\":\"BasicTicker\"},{\"attributes\":{},\"id\":\"7918\",\"type\":\"AllLabels\"},{\"attributes\":{},\"id\":\"7585\",\"type\":\"DataRange1d\"},{\"attributes\":{\"axis_label_standoff\":10,\"axis_label_text_color\":\"#5B5B5B\",\"axis_label_text_font\":\"Calibri Light\",\"axis_label_text_font_size\":\"1.15em\",\"axis_label_text_font_style\":\"bold\",\"axis_line_alpha\":1,\"axis_line_color\":\"#5B5B5B\",\"coordinates\":null,\"formatter\":{\"id\":\"7920\"},\"group\":null,\"major_label_policy\":{\"id\":\"7921\"},\"major_label_text_color\":\"#5B5B5B\",\"major_label_text_font\":\"Calibri Light\",\"major_label_text_font_size\":\"0.95em\",\"major_label_text_font_style\":\"bold\",\"major_tick_in\":0,\"major_tick_line_alpha\":0.25,\"major_tick_line_color\":\"#5B5B5B\",\"major_tick_out\":3,\"minor_tick_line_alpha\":0.25,\"minor_tick_line_color\":\"#5B5B5B\",\"ticker\":{\"id\":\"7594\"}},\"id\":\"7593\",\"type\":\"LinearAxis\"},{\"attributes\":{},\"id\":\"7917\",\"type\":\"BasicTickFormatter\"},{\"attributes\":{\"axis_label_standoff\":10,\"axis_label_text_color\":\"#5B5B5B\",\"axis_label_text_font\":\"Calibri Light\",\"axis_label_text_font_size\":\"1.15em\",\"axis_label_text_font_style\":\"bold\",\"axis_line_alpha\":1,\"axis_line_color\":\"#5B5B5B\",\"coordinates\":null,\"formatter\":{\"id\":\"7917\"},\"group\":null,\"major_label_policy\":{\"id\":\"7918\"},\"major_label_text_color\":\"#5B5B5B\",\"major_label_text_font\":\"Calibri Light\",\"major_label_text_font_size\":\"0.95em\",\"major_label_text_font_style\":\"bold\",\"major_tick_in\":0,\"major_tick_line_alpha\":0.25,\"major_tick_line_color\":\"#5B5B5B\",\"major_tick_out\":3,\"minor_tick_line_alpha\":0.25,\"minor_tick_line_color\":\"#5B5B5B\",\"ticker\":{\"id\":\"7598\"}},\"id\":\"7597\",\"type\":\"LinearAxis\"},{\"attributes\":{},\"id\":\"7923\",\"type\":\"Selection\"},{\"attributes\":{\"axis\":{\"id\":\"7593\"},\"coordinates\":null,\"group\":null,\"ticker\":null},\"id\":\"7596\",\"type\":\"Grid\"},{\"attributes\":{\"fill_color\":{\"value\":\"#1f77b4\"},\"line_color\":{\"value\":\"#1f77b4\"},\"size\":{\"value\":10},\"x\":{\"field\":\"x\"},\"y\":{\"field\":\"y\"}},\"id\":\"7604\",\"type\":\"Circle\"},{\"attributes\":{},\"id\":\"7922\",\"type\":\"UnionRenderers\"},{\"attributes\":{\"source\":{\"id\":\"7603\"}},\"id\":\"7608\",\"type\":\"CDSView\"},{\"attributes\":{\"data\":{\"x\":[1,2,3,4,5],\"y\":[4,5,5,7,2]},\"selected\":{\"id\":\"7923\"},\"selection_policy\":{\"id\":\"7922\"}},\"id\":\"7603\",\"type\":\"ColumnDataSource\"},{\"attributes\":{\"fill_alpha\":{\"value\":0.2},\"fill_color\":{\"value\":\"#1f77b4\"},\"hatch_alpha\":{\"value\":0.2},\"line_alpha\":{\"value\":0.2},\"line_color\":{\"value\":\"#1f77b4\"},\"size\":{\"value\":10},\"x\":{\"field\":\"x\"},\"y\":{\"field\":\"y\"}},\"id\":\"7606\",\"type\":\"Circle\"},{\"attributes\":{},\"id\":\"7924\",\"type\":\"UnionRenderers\"},{\"attributes\":{\"coordinates\":null,\"group\":null,\"text_color\":\"#5B5B5B\",\"text_font\":\"Calibri Light\",\"text_font_size\":\"1.25em\",\"text_font_style\":\"bold\"},\"id\":\"7914\",\"type\":\"Title\"},{\"attributes\":{\"coordinates\":null,\"data_source\":{\"id\":\"7603\"},\"glyph\":{\"id\":\"7604\"},\"group\":null,\"hover_glyph\":null,\"muted_glyph\":{\"id\":\"7606\"},\"nonselection_glyph\":{\"id\":\"7605\"},\"view\":{\"id\":\"7608\"}},\"id\":\"7607\",\"type\":\"GlyphRenderer\"},{\"attributes\":{\"fill_alpha\":{\"value\":0.1},\"fill_color\":{\"value\":\"#1f77b4\"},\"hatch_alpha\":{\"value\":0.1},\"line_alpha\":{\"value\":0.1},\"line_color\":{\"value\":\"#1f77b4\"},\"size\":{\"value\":10},\"x\":{\"field\":\"x\"},\"y\":{\"field\":\"y\"}},\"id\":\"7605\",\"type\":\"Circle\"},{\"attributes\":{\"data\":{\"x\":[1,2,3,4,5],\"y\":[4,5,5,7,2]},\"selected\":{\"id\":\"7925\"},\"selection_policy\":{\"id\":\"7924\"}},\"id\":\"7609\",\"type\":\"ColumnDataSource\"},{\"attributes\":{\"source\":{\"id\":\"7609\"}},\"id\":\"7614\",\"type\":\"CDSView\"},{\"attributes\":{},\"id\":\"7925\",\"type\":\"Selection\"},{\"attributes\":{\"line_color\":\"#1f77b4\",\"line_width\":2,\"x\":{\"field\":\"x\"},\"y\":{\"field\":\"y\"}},\"id\":\"7610\",\"type\":\"Line\"},{\"attributes\":{\"end\":10},\"id\":\"7587\",\"type\":\"Range1d\"}],\"root_ids\":[\"7584\"]},\"title\":\"Bokeh Application\",\"version\":\"2.4.2\"}};\n  const render_items = [{\"docid\":\"c937b144-45dc-4ac4-9974-30b1fe8a2c74\",\"root_ids\":[\"7584\"],\"roots\":{\"7584\":\"4b87bcb1-0858-4193-8964-0d572d58f3e4\"}}];\n  root.Bokeh.embed.embed_items_notebook(docs_json, render_items);\n\n  }\n  if (root.Bokeh !== undefined) {\n    embed_document(root);\n  } else {\n    let attempts = 0;\n    const timer = setInterval(function(root) {\n      if (root.Bokeh !== undefined) {\n        clearInterval(timer);\n        embed_document(root);\n      } else {\n        attempts++;\n        if (attempts > 100) {\n          clearInterval(timer);\n          console.log(\"Bokeh: ERROR: Unable to run BokehJS code because BokehJS library is missing\");\n        }\n      }\n    }, 10, root)\n  }\n})(window);",
      "application/vnd.bokehjs_exec.v0+json": ""
     },
     "metadata": {
      "application/vnd.bokehjs_exec.v0+json": {
       "id": "7584"
      }
     },
     "output_type": "display_data"
    }
   ],
   "source": [
    "from bokeh.models import HoverTool\n",
    "from bokeh.plotting import figure, show\n",
    "\n",
    "# prepare some data\n",
    "x = [1, 2, 3, 4, 5]\n",
    "y = [4, 5, 5, 7, 2]\n",
    "\n",
    "p = figure(\n",
    "    y_range=(0, 10),\n",
    "    toolbar_location=None,\n",
    "    tools=[HoverTool()],\n",
    "    tooltips=\"Data point @x has the value @y\",\n",
    "    sizing_mode=\"stretch_width\",\n",
    "    max_width=500,\n",
    "    height=250,\n",
    ")\n",
    "\n",
    "# add renderers\n",
    "p.circle(x, y, size=10)\n",
    "p.line(x, y, line_width=2)\n",
    "\n",
    "# show the results\n",
    "show(p)"
   ]
  },
  {
   "cell_type": "code",
   "execution_count": null,
   "metadata": {},
   "outputs": [],
   "source": []
  }
 ],
 "metadata": {
  "interpreter": {
   "hash": "749dcadfad34a0a4e677574670e9e216a244c2c729821cd9ba09e5ab38acbfcf"
  },
  "kernelspec": {
   "display_name": "Python 3.10.2 64-bit",
   "language": "python",
   "name": "python3"
  },
  "language_info": {
   "codemirror_mode": {
    "name": "ipython",
    "version": 3
   },
   "file_extension": ".py",
   "mimetype": "text/x-python",
   "name": "python",
   "nbconvert_exporter": "python",
   "pygments_lexer": "ipython3",
   "version": "3.10.2"
  },
  "orig_nbformat": 4
 },
 "nbformat": 4,
 "nbformat_minor": 2
}
