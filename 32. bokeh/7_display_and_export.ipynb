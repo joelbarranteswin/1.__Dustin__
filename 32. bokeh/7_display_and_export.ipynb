{
 "cells": [
  {
   "cell_type": "code",
   "execution_count": 10,
   "metadata": {},
   "outputs": [
    {
     "data": {
      "text/html": [
       "\n",
       "    <div class=\"bk-root\">\n",
       "        <a href=\"https://bokeh.org\" target=\"_blank\" class=\"bk-logo bk-logo-small bk-logo-notebook\"></a>\n",
       "        <span id=\"1295\">Loading BokehJS ...</span>\n",
       "    </div>"
      ]
     },
     "metadata": {},
     "output_type": "display_data"
    },
    {
     "data": {
      "application/javascript": "\n(function(root) {\n  function now() {\n    return new Date();\n  }\n\n  const force = true;\n\n  if (typeof root._bokeh_onload_callbacks === \"undefined\" || force === true) {\n    root._bokeh_onload_callbacks = [];\n    root._bokeh_is_loading = undefined;\n  }\n\n  const JS_MIME_TYPE = 'application/javascript';\n  const HTML_MIME_TYPE = 'text/html';\n  const EXEC_MIME_TYPE = 'application/vnd.bokehjs_exec.v0+json';\n  const CLASS_NAME = 'output_bokeh rendered_html';\n\n  /**\n   * Render data to the DOM node\n   */\n  function render(props, node) {\n    const script = document.createElement(\"script\");\n    node.appendChild(script);\n  }\n\n  /**\n   * Handle when an output is cleared or removed\n   */\n  function handleClearOutput(event, handle) {\n    const cell = handle.cell;\n\n    const id = cell.output_area._bokeh_element_id;\n    const server_id = cell.output_area._bokeh_server_id;\n    // Clean up Bokeh references\n    if (id != null && id in Bokeh.index) {\n      Bokeh.index[id].model.document.clear();\n      delete Bokeh.index[id];\n    }\n\n    if (server_id !== undefined) {\n      // Clean up Bokeh references\n      const cmd_clean = \"from bokeh.io.state import curstate; print(curstate().uuid_to_server['\" + server_id + \"'].get_sessions()[0].document.roots[0]._id)\";\n      cell.notebook.kernel.execute(cmd_clean, {\n        iopub: {\n          output: function(msg) {\n            const id = msg.content.text.trim();\n            if (id in Bokeh.index) {\n              Bokeh.index[id].model.document.clear();\n              delete Bokeh.index[id];\n            }\n          }\n        }\n      });\n      // Destroy server and session\n      const cmd_destroy = \"import bokeh.io.notebook as ion; ion.destroy_server('\" + server_id + \"')\";\n      cell.notebook.kernel.execute(cmd_destroy);\n    }\n  }\n\n  /**\n   * Handle when a new output is added\n   */\n  function handleAddOutput(event, handle) {\n    const output_area = handle.output_area;\n    const output = handle.output;\n\n    // limit handleAddOutput to display_data with EXEC_MIME_TYPE content only\n    if ((output.output_type != \"display_data\") || (!Object.prototype.hasOwnProperty.call(output.data, EXEC_MIME_TYPE))) {\n      return\n    }\n\n    const toinsert = output_area.element.find(\".\" + CLASS_NAME.split(' ')[0]);\n\n    if (output.metadata[EXEC_MIME_TYPE][\"id\"] !== undefined) {\n      toinsert[toinsert.length - 1].firstChild.textContent = output.data[JS_MIME_TYPE];\n      // store reference to embed id on output_area\n      output_area._bokeh_element_id = output.metadata[EXEC_MIME_TYPE][\"id\"];\n    }\n    if (output.metadata[EXEC_MIME_TYPE][\"server_id\"] !== undefined) {\n      const bk_div = document.createElement(\"div\");\n      bk_div.innerHTML = output.data[HTML_MIME_TYPE];\n      const script_attrs = bk_div.children[0].attributes;\n      for (let i = 0; i < script_attrs.length; i++) {\n        toinsert[toinsert.length - 1].firstChild.setAttribute(script_attrs[i].name, script_attrs[i].value);\n        toinsert[toinsert.length - 1].firstChild.textContent = bk_div.children[0].textContent\n      }\n      // store reference to server id on output_area\n      output_area._bokeh_server_id = output.metadata[EXEC_MIME_TYPE][\"server_id\"];\n    }\n  }\n\n  function register_renderer(events, OutputArea) {\n\n    function append_mime(data, metadata, element) {\n      // create a DOM node to render to\n      const toinsert = this.create_output_subarea(\n        metadata,\n        CLASS_NAME,\n        EXEC_MIME_TYPE\n      );\n      this.keyboard_manager.register_events(toinsert);\n      // Render to node\n      const props = {data: data, metadata: metadata[EXEC_MIME_TYPE]};\n      render(props, toinsert[toinsert.length - 1]);\n      element.append(toinsert);\n      return toinsert\n    }\n\n    /* Handle when an output is cleared or removed */\n    events.on('clear_output.CodeCell', handleClearOutput);\n    events.on('delete.Cell', handleClearOutput);\n\n    /* Handle when a new output is added */\n    events.on('output_added.OutputArea', handleAddOutput);\n\n    /**\n     * Register the mime type and append_mime function with output_area\n     */\n    OutputArea.prototype.register_mime_type(EXEC_MIME_TYPE, append_mime, {\n      /* Is output safe? */\n      safe: true,\n      /* Index of renderer in `output_area.display_order` */\n      index: 0\n    });\n  }\n\n  // register the mime type if in Jupyter Notebook environment and previously unregistered\n  if (root.Jupyter !== undefined) {\n    const events = require('base/js/events');\n    const OutputArea = require('notebook/js/outputarea').OutputArea;\n\n    if (OutputArea.prototype.mime_types().indexOf(EXEC_MIME_TYPE) == -1) {\n      register_renderer(events, OutputArea);\n    }\n  }\n\n  \n  if (typeof (root._bokeh_timeout) === \"undefined\" || force === true) {\n    root._bokeh_timeout = Date.now() + 5000;\n    root._bokeh_failed_load = false;\n  }\n\n  const NB_LOAD_WARNING = {'data': {'text/html':\n     \"<div style='background-color: #fdd'>\\n\"+\n     \"<p>\\n\"+\n     \"BokehJS does not appear to have successfully loaded. If loading BokehJS from CDN, this \\n\"+\n     \"may be due to a slow or bad network connection. Possible fixes:\\n\"+\n     \"</p>\\n\"+\n     \"<ul>\\n\"+\n     \"<li>re-rerun `output_notebook()` to attempt to load from CDN again, or</li>\\n\"+\n     \"<li>use INLINE resources instead, as so:</li>\\n\"+\n     \"</ul>\\n\"+\n     \"<code>\\n\"+\n     \"from bokeh.resources import INLINE\\n\"+\n     \"output_notebook(resources=INLINE)\\n\"+\n     \"</code>\\n\"+\n     \"</div>\"}};\n\n  function display_loaded() {\n    const el = document.getElementById(\"1295\");\n    if (el != null) {\n      el.textContent = \"BokehJS is loading...\";\n    }\n    if (root.Bokeh !== undefined) {\n      if (el != null) {\n        el.textContent = \"BokehJS \" + root.Bokeh.version + \" successfully loaded.\";\n      }\n    } else if (Date.now() < root._bokeh_timeout) {\n      setTimeout(display_loaded, 100)\n    }\n  }\n\n\n  function run_callbacks() {\n    try {\n      root._bokeh_onload_callbacks.forEach(function(callback) {\n        if (callback != null)\n          callback();\n      });\n    } finally {\n      delete root._bokeh_onload_callbacks\n    }\n    console.debug(\"Bokeh: all callbacks have finished\");\n  }\n\n  function load_libs(css_urls, js_urls, callback) {\n    if (css_urls == null) css_urls = [];\n    if (js_urls == null) js_urls = [];\n\n    root._bokeh_onload_callbacks.push(callback);\n    if (root._bokeh_is_loading > 0) {\n      console.debug(\"Bokeh: BokehJS is being loaded, scheduling callback at\", now());\n      return null;\n    }\n    if (js_urls == null || js_urls.length === 0) {\n      run_callbacks();\n      return null;\n    }\n    console.debug(\"Bokeh: BokehJS not loaded, scheduling load and callback at\", now());\n    root._bokeh_is_loading = css_urls.length + js_urls.length;\n\n    function on_load() {\n      root._bokeh_is_loading--;\n      if (root._bokeh_is_loading === 0) {\n        console.debug(\"Bokeh: all BokehJS libraries/stylesheets loaded\");\n        run_callbacks()\n      }\n    }\n\n    function on_error(url) {\n      console.error(\"failed to load \" + url);\n    }\n\n    for (let i = 0; i < css_urls.length; i++) {\n      const url = css_urls[i];\n      const element = document.createElement(\"link\");\n      element.onload = on_load;\n      element.onerror = on_error.bind(null, url);\n      element.rel = \"stylesheet\";\n      element.type = \"text/css\";\n      element.href = url;\n      console.debug(\"Bokeh: injecting link tag for BokehJS stylesheet: \", url);\n      document.body.appendChild(element);\n    }\n\n    for (let i = 0; i < js_urls.length; i++) {\n      const url = js_urls[i];\n      const element = document.createElement('script');\n      element.onload = on_load;\n      element.onerror = on_error.bind(null, url);\n      element.async = false;\n      element.src = url;\n      console.debug(\"Bokeh: injecting script tag for BokehJS library: \", url);\n      document.head.appendChild(element);\n    }\n  };\n\n  function inject_raw_css(css) {\n    const element = document.createElement(\"style\");\n    element.appendChild(document.createTextNode(css));\n    document.body.appendChild(element);\n  }\n\n  \n  const js_urls = [\"https://cdn.bokeh.org/bokeh/release/bokeh-2.4.2.min.js\", \"https://cdn.bokeh.org/bokeh/release/bokeh-gl-2.4.2.min.js\", \"https://cdn.bokeh.org/bokeh/release/bokeh-widgets-2.4.2.min.js\", \"https://cdn.bokeh.org/bokeh/release/bokeh-tables-2.4.2.min.js\", \"https://cdn.bokeh.org/bokeh/release/bokeh-mathjax-2.4.2.min.js\"];\n  const css_urls = [];\n  \n\n  const inline_js = [\n    function(Bokeh) {\n      Bokeh.set_log_level(\"info\");\n    },\n    function(Bokeh) {\n    \n    \n    }\n  ];\n\n  function run_inline_js() {\n    \n    if (root.Bokeh !== undefined || force === true) {\n      \n    for (let i = 0; i < inline_js.length; i++) {\n      inline_js[i].call(root, root.Bokeh);\n    }\n    if (force === true) {\n        display_loaded();\n      }} else if (Date.now() < root._bokeh_timeout) {\n      setTimeout(run_inline_js, 100);\n    } else if (!root._bokeh_failed_load) {\n      console.log(\"Bokeh: BokehJS failed to load within specified timeout.\");\n      root._bokeh_failed_load = true;\n    } else if (force !== true) {\n      const cell = $(document.getElementById(\"1295\")).parents('.cell').data().cell;\n      cell.output_area.append_execute_result(NB_LOAD_WARNING)\n    }\n\n  }\n\n  if (root._bokeh_is_loading === 0) {\n    console.debug(\"Bokeh: BokehJS loaded, going straight to plotting\");\n    run_inline_js();\n  } else {\n    load_libs(css_urls, js_urls, function() {\n      console.debug(\"Bokeh: BokehJS plotting callback run at\", now());\n      run_inline_js();\n    });\n  }\n}(window));",
      "application/vnd.bokehjs_load.v0+json": ""
     },
     "metadata": {},
     "output_type": "display_data"
    }
   ],
   "source": [
    "from bokeh.io import output_notebook\n",
    "output_notebook()"
   ]
  },
  {
   "cell_type": "markdown",
   "metadata": {},
   "source": [
    "## Creating a standalone HTML file"
   ]
  },
  {
   "cell_type": "code",
   "execution_count": 2,
   "metadata": {},
   "outputs": [
    {
     "data": {
      "text/plain": [
       "'c:\\\\Users\\\\joel_\\\\OneDrive\\\\Documentos\\\\GitHub\\\\1.__Dustin__\\\\32. bokeh\\\\custom_filename.html'"
      ]
     },
     "execution_count": 2,
     "metadata": {},
     "output_type": "execute_result"
    }
   ],
   "source": [
    "from bokeh.plotting import figure, output_file, save\n",
    "\n",
    "# prepare some data\n",
    "x = [1, 2, 3, 4, 5]\n",
    "y = [4, 5, 5, 7, 2]\n",
    "\n",
    "# set output to static HTML file\n",
    "output_file(filename=\"custom_filename.html\", title=\"Static HTML file\")\n",
    "\n",
    "# create a new plot with a specific size\n",
    "p = figure(sizing_mode=\"stretch_width\", max_width=500, height=250)\n",
    "\n",
    "# add a circle renderer\n",
    "circle = p.circle(x, y, fill_color=\"red\", size=15)\n",
    "\n",
    "# save the results to a file\n",
    "save(p)"
   ]
  },
  {
   "cell_type": "markdown",
   "metadata": {},
   "source": [
    "## Displaying in a Jupyter notebook"
   ]
  },
  {
   "cell_type": "code",
   "execution_count": null,
   "metadata": {},
   "outputs": [],
   "source": [
    "from bokeh.io import output_notebook\n",
    "output_notebook()"
   ]
  },
  {
   "cell_type": "markdown",
   "metadata": {},
   "source": [
    "## Exporting PNG files"
   ]
  },
  {
   "cell_type": "code",
   "execution_count": 8,
   "metadata": {},
   "outputs": [],
   "source": [
    "# !pip install selenium"
   ]
  },
  {
   "cell_type": "code",
   "execution_count": 1,
   "metadata": {},
   "outputs": [
    {
     "ename": "RuntimeError",
     "evalue": "Neither firefox and geckodriver nor a variant of chromium browser and chromedriver are available on system PATH. You can install the former with 'conda install -c conda-forge firefox geckodriver'.",
     "output_type": "error",
     "traceback": [
      "\u001b[1;31m---------------------------------------------------------------------------\u001b[0m",
      "\u001b[1;31mRuntimeError\u001b[0m                              Traceback (most recent call last)",
      "\u001b[1;32mc:\\Users\\joel_\\OneDrive\\Documentos\\GitHub\\1.__Dustin__\\32. bokeh\\7_display_and_export.ipynb Cell 8'\u001b[0m in \u001b[0;36m<cell line: 15>\u001b[1;34m()\u001b[0m\n\u001b[0;32m     <a href='vscode-notebook-cell:/c%3A/Users/joel_/OneDrive/Documentos/GitHub/1.__Dustin__/32.%20bokeh/7_display_and_export.ipynb#ch0000007?line=11'>12</a>\u001b[0m circle \u001b[39m=\u001b[39m p\u001b[39m.\u001b[39mcircle(x, y, fill_color\u001b[39m=\u001b[39m\u001b[39m\"\u001b[39m\u001b[39mred\u001b[39m\u001b[39m\"\u001b[39m, size\u001b[39m=\u001b[39m\u001b[39m15\u001b[39m)\n\u001b[0;32m     <a href='vscode-notebook-cell:/c%3A/Users/joel_/OneDrive/Documentos/GitHub/1.__Dustin__/32.%20bokeh/7_display_and_export.ipynb#ch0000007?line=13'>14</a>\u001b[0m \u001b[39m# save the results to a file\u001b[39;00m\n\u001b[1;32m---> <a href='vscode-notebook-cell:/c%3A/Users/joel_/OneDrive/Documentos/GitHub/1.__Dustin__/32.%20bokeh/7_display_and_export.ipynb#ch0000007?line=14'>15</a>\u001b[0m export_png(p, filename\u001b[39m=\u001b[39;49m\u001b[39m\"\u001b[39;49m\u001b[39mplot.png\u001b[39;49m\u001b[39m\"\u001b[39;49m)\n",
      "File \u001b[1;32m~\\AppData\\Local\\Programs\\Python\\Python310\\lib\\site-packages\\bokeh\\io\\export.py:111\u001b[0m, in \u001b[0;36mexport_png\u001b[1;34m(obj, filename, width, height, webdriver, timeout)\u001b[0m\n\u001b[0;32m     <a href='file:///c%3A/Users/joel_/AppData/Local/Programs/Python/Python310/lib/site-packages/bokeh/io/export.py?line=72'>73</a>\u001b[0m \u001b[39mdef\u001b[39;00m \u001b[39mexport_png\u001b[39m(obj: LayoutDOM \u001b[39m|\u001b[39m Document, \u001b[39m*\u001b[39m, filename: PathLike \u001b[39m|\u001b[39m \u001b[39mNone\u001b[39;00m \u001b[39m=\u001b[39m \u001b[39mNone\u001b[39;00m, width: \u001b[39mint\u001b[39m \u001b[39m|\u001b[39m \u001b[39mNone\u001b[39;00m \u001b[39m=\u001b[39m \u001b[39mNone\u001b[39;00m,\n\u001b[0;32m     <a href='file:///c%3A/Users/joel_/AppData/Local/Programs/Python/Python310/lib/site-packages/bokeh/io/export.py?line=73'>74</a>\u001b[0m         height: \u001b[39mint\u001b[39m \u001b[39m|\u001b[39m \u001b[39mNone\u001b[39;00m \u001b[39m=\u001b[39m \u001b[39mNone\u001b[39;00m, webdriver: WebDriver \u001b[39m|\u001b[39m \u001b[39mNone\u001b[39;00m \u001b[39m=\u001b[39m \u001b[39mNone\u001b[39;00m, timeout: \u001b[39mint\u001b[39m \u001b[39m=\u001b[39m \u001b[39m5\u001b[39m) \u001b[39m-\u001b[39m\u001b[39m>\u001b[39m \u001b[39mstr\u001b[39m:\n\u001b[0;32m     <a href='file:///c%3A/Users/joel_/AppData/Local/Programs/Python/Python310/lib/site-packages/bokeh/io/export.py?line=74'>75</a>\u001b[0m     \u001b[39m''' Export the ``LayoutDOM`` object or document as a PNG.\u001b[39;00m\n\u001b[0;32m     <a href='file:///c%3A/Users/joel_/AppData/Local/Programs/Python/Python310/lib/site-packages/bokeh/io/export.py?line=75'>76</a>\u001b[0m \n\u001b[0;32m     <a href='file:///c%3A/Users/joel_/AppData/Local/Programs/Python/Python310/lib/site-packages/bokeh/io/export.py?line=76'>77</a>\u001b[0m \u001b[39m    If the filename is not given, it is derived from the script name (e.g.\u001b[39;00m\n\u001b[1;32m   (...)\u001b[0m\n\u001b[0;32m    <a href='file:///c%3A/Users/joel_/AppData/Local/Programs/Python/Python310/lib/site-packages/bokeh/io/export.py?line=108'>109</a>\u001b[0m \n\u001b[0;32m    <a href='file:///c%3A/Users/joel_/AppData/Local/Programs/Python/Python310/lib/site-packages/bokeh/io/export.py?line=109'>110</a>\u001b[0m \u001b[39m    '''\u001b[39;00m\n\u001b[1;32m--> <a href='file:///c%3A/Users/joel_/AppData/Local/Programs/Python/Python310/lib/site-packages/bokeh/io/export.py?line=110'>111</a>\u001b[0m     image \u001b[39m=\u001b[39m get_screenshot_as_png(obj, width\u001b[39m=\u001b[39;49mwidth, height\u001b[39m=\u001b[39;49mheight, driver\u001b[39m=\u001b[39;49mwebdriver, timeout\u001b[39m=\u001b[39;49mtimeout)\n\u001b[0;32m    <a href='file:///c%3A/Users/joel_/AppData/Local/Programs/Python/Python310/lib/site-packages/bokeh/io/export.py?line=112'>113</a>\u001b[0m     \u001b[39mif\u001b[39;00m filename \u001b[39mis\u001b[39;00m \u001b[39mNone\u001b[39;00m:\n\u001b[0;32m    <a href='file:///c%3A/Users/joel_/AppData/Local/Programs/Python/Python310/lib/site-packages/bokeh/io/export.py?line=113'>114</a>\u001b[0m         filename \u001b[39m=\u001b[39m default_filename(\u001b[39m\"\u001b[39m\u001b[39mpng\u001b[39m\u001b[39m\"\u001b[39m)\n",
      "File \u001b[1;32m~\\AppData\\Local\\Programs\\Python\\Python310\\lib\\site-packages\\bokeh\\io\\export.py:236\u001b[0m, in \u001b[0;36mget_screenshot_as_png\u001b[1;34m(obj, driver, timeout, resources, width, height)\u001b[0m\n\u001b[0;32m    <a href='file:///c%3A/Users/joel_/AppData/Local/Programs/Python/Python310/lib/site-packages/bokeh/io/export.py?line=232'>233</a>\u001b[0m \u001b[39mwith\u001b[39;00m \u001b[39mopen\u001b[39m(tmp\u001b[39m.\u001b[39mpath, mode\u001b[39m=\u001b[39m\u001b[39m\"\u001b[39m\u001b[39mw\u001b[39m\u001b[39m\"\u001b[39m, encoding\u001b[39m=\u001b[39m\u001b[39m\"\u001b[39m\u001b[39mutf-8\u001b[39m\u001b[39m\"\u001b[39m) \u001b[39mas\u001b[39;00m file:\n\u001b[0;32m    <a href='file:///c%3A/Users/joel_/AppData/Local/Programs/Python/Python310/lib/site-packages/bokeh/io/export.py?line=233'>234</a>\u001b[0m     file\u001b[39m.\u001b[39mwrite(html)\n\u001b[1;32m--> <a href='file:///c%3A/Users/joel_/AppData/Local/Programs/Python/Python310/lib/site-packages/bokeh/io/export.py?line=235'>236</a>\u001b[0m web_driver \u001b[39m=\u001b[39m driver \u001b[39mif\u001b[39;00m driver \u001b[39mis\u001b[39;00m \u001b[39mnot\u001b[39;00m \u001b[39mNone\u001b[39;00m \u001b[39melse\u001b[39;00m webdriver_control\u001b[39m.\u001b[39;49mget()\n\u001b[0;32m    <a href='file:///c%3A/Users/joel_/AppData/Local/Programs/Python/Python310/lib/site-packages/bokeh/io/export.py?line=236'>237</a>\u001b[0m web_driver\u001b[39m.\u001b[39mmaximize_window()\n\u001b[0;32m    <a href='file:///c%3A/Users/joel_/AppData/Local/Programs/Python/Python310/lib/site-packages/bokeh/io/export.py?line=237'>238</a>\u001b[0m web_driver\u001b[39m.\u001b[39mget(\u001b[39mf\u001b[39m\u001b[39m\"\u001b[39m\u001b[39mfile://\u001b[39m\u001b[39m{\u001b[39;00mtmp\u001b[39m.\u001b[39mpath\u001b[39m}\u001b[39;00m\u001b[39m\"\u001b[39m)\n",
      "File \u001b[1;32m~\\AppData\\Local\\Programs\\Python\\Python310\\lib\\site-packages\\bokeh\\io\\webdriver.py:153\u001b[0m, in \u001b[0;36m_WebdriverState.get\u001b[1;34m(self)\u001b[0m\n\u001b[0;32m    <a href='file:///c%3A/Users/joel_/AppData/Local/Programs/Python/Python310/lib/site-packages/bokeh/io/webdriver.py?line=150'>151</a>\u001b[0m \u001b[39mif\u001b[39;00m \u001b[39mnot\u001b[39;00m \u001b[39mself\u001b[39m\u001b[39m.\u001b[39mreuse \u001b[39mor\u001b[39;00m \u001b[39mself\u001b[39m\u001b[39m.\u001b[39mcurrent \u001b[39mis\u001b[39;00m \u001b[39mNone\u001b[39;00m:\n\u001b[0;32m    <a href='file:///c%3A/Users/joel_/AppData/Local/Programs/Python/Python310/lib/site-packages/bokeh/io/webdriver.py?line=151'>152</a>\u001b[0m     \u001b[39mself\u001b[39m\u001b[39m.\u001b[39mreset()\n\u001b[1;32m--> <a href='file:///c%3A/Users/joel_/AppData/Local/Programs/Python/Python310/lib/site-packages/bokeh/io/webdriver.py?line=152'>153</a>\u001b[0m     \u001b[39mself\u001b[39m\u001b[39m.\u001b[39mcurrent \u001b[39m=\u001b[39m \u001b[39mself\u001b[39;49m\u001b[39m.\u001b[39;49mcreate()\n\u001b[0;32m    <a href='file:///c%3A/Users/joel_/AppData/Local/Programs/Python/Python310/lib/site-packages/bokeh/io/webdriver.py?line=153'>154</a>\u001b[0m \u001b[39mreturn\u001b[39;00m \u001b[39mself\u001b[39m\u001b[39m.\u001b[39mcurrent\n",
      "File \u001b[1;32m~\\AppData\\Local\\Programs\\Python\\Python310\\lib\\site-packages\\bokeh\\io\\webdriver.py:157\u001b[0m, in \u001b[0;36m_WebdriverState.create\u001b[1;34m(self, kind)\u001b[0m\n\u001b[0;32m    <a href='file:///c%3A/Users/joel_/AppData/Local/Programs/Python/Python310/lib/site-packages/bokeh/io/webdriver.py?line=155'>156</a>\u001b[0m \u001b[39mdef\u001b[39;00m \u001b[39mcreate\u001b[39m(\u001b[39mself\u001b[39m, kind: DriverKind \u001b[39m|\u001b[39m \u001b[39mNone\u001b[39;00m \u001b[39m=\u001b[39m \u001b[39mNone\u001b[39;00m) \u001b[39m-\u001b[39m\u001b[39m>\u001b[39m WebDriver:\n\u001b[1;32m--> <a href='file:///c%3A/Users/joel_/AppData/Local/Programs/Python/Python310/lib/site-packages/bokeh/io/webdriver.py?line=156'>157</a>\u001b[0m     driver \u001b[39m=\u001b[39m \u001b[39mself\u001b[39;49m\u001b[39m.\u001b[39;49m_create(kind)\n\u001b[0;32m    <a href='file:///c%3A/Users/joel_/AppData/Local/Programs/Python/Python310/lib/site-packages/bokeh/io/webdriver.py?line=157'>158</a>\u001b[0m     \u001b[39mself\u001b[39m\u001b[39m.\u001b[39m_drivers\u001b[39m.\u001b[39madd(driver)\n\u001b[0;32m    <a href='file:///c%3A/Users/joel_/AppData/Local/Programs/Python/Python310/lib/site-packages/bokeh/io/webdriver.py?line=158'>159</a>\u001b[0m     \u001b[39mreturn\u001b[39;00m driver\n",
      "File \u001b[1;32m~\\AppData\\Local\\Programs\\Python\\Python310\\lib\\site-packages\\bokeh\\io\\webdriver.py:175\u001b[0m, in \u001b[0;36m_WebdriverState._create\u001b[1;34m(self, kind)\u001b[0m\n\u001b[0;32m    <a href='file:///c%3A/Users/joel_/AppData/Local/Programs/Python/Python310/lib/site-packages/bokeh/io/webdriver.py?line=171'>172</a>\u001b[0m         \u001b[39mself\u001b[39m\u001b[39m.\u001b[39mkind \u001b[39m=\u001b[39m \u001b[39m\"\u001b[39m\u001b[39mfirefox\u001b[39m\u001b[39m\"\u001b[39m\n\u001b[0;32m    <a href='file:///c%3A/Users/joel_/AppData/Local/Programs/Python/Python310/lib/site-packages/bokeh/io/webdriver.py?line=172'>173</a>\u001b[0m         \u001b[39mreturn\u001b[39;00m driver\n\u001b[1;32m--> <a href='file:///c%3A/Users/joel_/AppData/Local/Programs/Python/Python310/lib/site-packages/bokeh/io/webdriver.py?line=174'>175</a>\u001b[0m     \u001b[39mraise\u001b[39;00m \u001b[39mRuntimeError\u001b[39;00m(\u001b[39m\"\u001b[39m\u001b[39mNeither firefox and geckodriver nor a variant of chromium browser and \u001b[39m\u001b[39m\"\u001b[39m \\\n\u001b[0;32m    <a href='file:///c%3A/Users/joel_/AppData/Local/Programs/Python/Python310/lib/site-packages/bokeh/io/webdriver.py?line=175'>176</a>\u001b[0m                        \u001b[39m\"\u001b[39m\u001b[39mchromedriver are available on system PATH. You can install the former \u001b[39m\u001b[39m\"\u001b[39m \\\n\u001b[0;32m    <a href='file:///c%3A/Users/joel_/AppData/Local/Programs/Python/Python310/lib/site-packages/bokeh/io/webdriver.py?line=176'>177</a>\u001b[0m                        \u001b[39m\"\u001b[39m\u001b[39mwith \u001b[39m\u001b[39m'\u001b[39m\u001b[39mconda install -c conda-forge firefox geckodriver\u001b[39m\u001b[39m'\u001b[39m\u001b[39m.\u001b[39m\u001b[39m\"\u001b[39m)\n\u001b[0;32m    <a href='file:///c%3A/Users/joel_/AppData/Local/Programs/Python/Python310/lib/site-packages/bokeh/io/webdriver.py?line=177'>178</a>\u001b[0m \u001b[39melif\u001b[39;00m driver_kind \u001b[39m==\u001b[39m \u001b[39m\"\u001b[39m\u001b[39mchromium\u001b[39m\u001b[39m\"\u001b[39m:\n\u001b[0;32m    <a href='file:///c%3A/Users/joel_/AppData/Local/Programs/Python/Python310/lib/site-packages/bokeh/io/webdriver.py?line=178'>179</a>\u001b[0m     \u001b[39mreturn\u001b[39;00m create_chromium_webdriver()\n",
      "\u001b[1;31mRuntimeError\u001b[0m: Neither firefox and geckodriver nor a variant of chromium browser and chromedriver are available on system PATH. You can install the former with 'conda install -c conda-forge firefox geckodriver'."
     ]
    }
   ],
   "source": [
    "from bokeh.io import export_png\n",
    "from bokeh.plotting import figure,show\n",
    "\n",
    "# prepare some data\n",
    "x = [1, 2, 3, 4, 5]\n",
    "y = [4, 5, 5, 7, 2]\n",
    "\n",
    "# create a new plot with fixed dimensions\n",
    "p = figure(width=350, height=250)\n",
    "\n",
    "# add a circle renderer\n",
    "circle = p.circle(x, y, fill_color=\"red\", size=15)\n",
    "\n",
    "# save the results to a file\n",
    "export_png(p, filename=\"plot.png\")"
   ]
  },
  {
   "cell_type": "markdown",
   "metadata": {},
   "source": []
  }
 ],
 "metadata": {
  "interpreter": {
   "hash": "749dcadfad34a0a4e677574670e9e216a244c2c729821cd9ba09e5ab38acbfcf"
  },
  "kernelspec": {
   "display_name": "Python 3.10.2 64-bit",
   "language": "python",
   "name": "python3"
  },
  "language_info": {
   "codemirror_mode": {
    "name": "ipython",
    "version": 3
   },
   "file_extension": ".py",
   "mimetype": "text/x-python",
   "name": "python",
   "nbconvert_exporter": "python",
   "pygments_lexer": "ipython3",
   "version": "3.10.2"
  },
  "orig_nbformat": 4
 },
 "nbformat": 4,
 "nbformat_minor": 2
}
