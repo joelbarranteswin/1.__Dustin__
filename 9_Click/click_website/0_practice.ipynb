{
 "cells": [
  {
   "cell_type": "code",
   "execution_count": null,
   "source": [
    "def to_json(project_path, catalog, path_out, result_json):\r\n",
    "    json_path_out = None if path_out == None else path_out.replace('\\\\', '/')\r\n",
    "    if json_path_out == None:\r\n",
    "        json_path_out_list = project_path.replace('\\\\', '/').split(\"/\")\r\n",
    "        json_path_out_list.pop()\r\n",
    "        json_path_out = \"/\".join(json_path_out_list)\r\n",
    "    "
   ],
   "outputs": [],
   "metadata": {}
  },
  {
   "cell_type": "code",
   "execution_count": null,
   "source": [],
   "outputs": [],
   "metadata": {}
  }
 ],
 "metadata": {
  "orig_nbformat": 4,
  "language_info": {
   "name": "python",
   "version": "3.9.6"
  },
  "kernelspec": {
   "name": "python3",
   "display_name": "Python 3.9.6 64-bit ('.venv': venv)"
  },
  "interpreter": {
   "hash": "b62042eb66374eac56d5220cd8dfeb0adb046394d8bb803929519811233426fb"
  }
 },
 "nbformat": 4,
 "nbformat_minor": 2
}