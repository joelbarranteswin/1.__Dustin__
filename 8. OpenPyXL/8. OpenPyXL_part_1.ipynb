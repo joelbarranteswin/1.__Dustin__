{
 "cells": [
  {
   "cell_type": "code",
   "execution_count": 37,
   "metadata": {},
   "outputs": [],
   "source": [
    "from openpyxl import Workbook\n",
    "import openpyxl\n",
    "\n",
    "wb = Workbook()"
   ]
  },
  {
   "cell_type": "code",
   "execution_count": 38,
   "metadata": {},
   "outputs": [],
   "source": [
    "ws = wb.active"
   ]
  },
  {
   "cell_type": "code",
   "execution_count": 39,
   "metadata": {},
   "outputs": [],
   "source": [
    "ws1 = wb.create_sheet(\"joel\")"
   ]
  },
  {
   "cell_type": "code",
   "execution_count": 40,
   "metadata": {},
   "outputs": [],
   "source": [
    "ws.title = \"New Title\""
   ]
  },
  {
   "cell_type": "code",
   "execution_count": 41,
   "metadata": {},
   "outputs": [],
   "source": [
    "ws.sheet_properties.tabColor = \"1072BA\""
   ]
  },
  {
   "cell_type": "code",
   "execution_count": 42,
   "metadata": {},
   "outputs": [],
   "source": [
    "ws3 = wb[\"New Title\"]"
   ]
  },
  {
   "cell_type": "code",
   "execution_count": 43,
   "metadata": {},
   "outputs": [
    {
     "name": "stdout",
     "output_type": "stream",
     "text": [
      "['New Title', 'joel']\n"
     ]
    }
   ],
   "source": [
    "print(wb.sheetnames)"
   ]
  },
  {
   "cell_type": "code",
   "execution_count": 44,
   "metadata": {},
   "outputs": [],
   "source": [
    "c = ws[\"A4\"]"
   ]
  },
  {
   "cell_type": "code",
   "execution_count": 45,
   "metadata": {},
   "outputs": [],
   "source": [
    "ws[\"A4\"] = 4"
   ]
  },
  {
   "cell_type": "code",
   "execution_count": 46,
   "metadata": {},
   "outputs": [],
   "source": [
    "d = ws.cell(row = 4, column = 2, value = 10)"
   ]
  },
  {
   "cell_type": "code",
   "execution_count": 47,
   "metadata": {},
   "outputs": [],
   "source": [
    "cell_range = ws[\"A1\":\"C2\"]"
   ]
  },
  {
   "cell_type": "code",
   "execution_count": 48,
   "metadata": {},
   "outputs": [],
   "source": [
    "colC = ws[\"C\"]\n",
    "col_range = ws[\"C:D\"]\n",
    "\n",
    "row10 = ws[10]\n",
    "row_range = ws[5:10]"
   ]
  },
  {
   "cell_type": "markdown",
   "metadata": {},
   "source": [
    "4. Data Storage"
   ]
  },
  {
   "cell_type": "code",
   "execution_count": 49,
   "metadata": {},
   "outputs": [],
   "source": [
    "c.value = \"hello, world\""
   ]
  },
  {
   "cell_type": "code",
   "execution_count": 50,
   "metadata": {},
   "outputs": [
    {
     "name": "stdout",
     "output_type": "stream",
     "text": [
      "hello, world\n"
     ]
    }
   ],
   "source": [
    "print(c.value)"
   ]
  },
  {
   "cell_type": "code",
   "execution_count": 51,
   "metadata": {},
   "outputs": [
    {
     "name": "stdout",
     "output_type": "stream",
     "text": [
      "3.14\n"
     ]
    }
   ],
   "source": [
    "d.value = 3.14\n",
    "print(d.value)"
   ]
  },
  {
   "cell_type": "markdown",
   "metadata": {},
   "source": [
    "5. Saving File"
   ]
  },
  {
   "cell_type": "code",
   "execution_count": 52,
   "metadata": {},
   "outputs": [],
   "source": [
    "wb = Workbook()\n",
    "wb.save(\"balances.xlsx\")"
   ]
  },
  {
   "cell_type": "code",
   "execution_count": 53,
   "metadata": {},
   "outputs": [],
   "source": [
    "wb = openpyxl.load_workbook('balances.xlsx')"
   ]
  },
  {
   "cell_type": "code",
   "execution_count": 54,
   "metadata": {},
   "outputs": [],
   "source": [
    "hoja = wb.active"
   ]
  },
  {
   "cell_type": "code",
   "execution_count": 55,
   "metadata": {},
   "outputs": [],
   "source": [
    "hoja[\"A1\"] = \"Valor A1\" "
   ]
  },
  {
   "cell_type": "code",
   "execution_count": 56,
   "metadata": {},
   "outputs": [],
   "source": [
    "hoja[\"B1\"] = \"Valor B1\""
   ]
  },
  {
   "cell_type": "code",
   "execution_count": 57,
   "metadata": {},
   "outputs": [
    {
     "data": {
      "text/plain": [
       "'A1:B1'"
      ]
     },
     "execution_count": 57,
     "metadata": {},
     "output_type": "execute_result"
    }
   ],
   "source": [
    "hoja.dimensions"
   ]
  },
  {
   "cell_type": "code",
   "execution_count": 58,
   "metadata": {},
   "outputs": [
    {
     "name": "stdout",
     "output_type": "stream",
     "text": [
      "['Sheet']\n"
     ]
    }
   ],
   "source": [
    "print(wb.sheetnames)"
   ]
  },
  {
   "cell_type": "code",
   "execution_count": 59,
   "metadata": {},
   "outputs": [],
   "source": [
    "hoja1 = wb.create_sheet(\"joel\")"
   ]
  },
  {
   "cell_type": "code",
   "execution_count": 60,
   "metadata": {},
   "outputs": [
    {
     "name": "stdout",
     "output_type": "stream",
     "text": [
      "['Sheet', 'joel']\n"
     ]
    }
   ],
   "source": [
    "print(wb.sheetnames)"
   ]
  },
  {
   "cell_type": "code",
   "execution_count": 61,
   "metadata": {},
   "outputs": [],
   "source": [
    "hoja = wb[\"joel\"]"
   ]
  },
  {
   "cell_type": "code",
   "execution_count": 62,
   "metadata": {},
   "outputs": [],
   "source": [
    "hoja[\"A1\"] = \"mi primera celda\"\n",
    "hoja[\"B1\"] = 5"
   ]
  },
  {
   "cell_type": "code",
   "execution_count": 63,
   "metadata": {},
   "outputs": [
    {
     "data": {
      "text/plain": [
       "'mi primera celda'"
      ]
     },
     "execution_count": 63,
     "metadata": {},
     "output_type": "execute_result"
    }
   ],
   "source": [
    "hoja[\"A1\"].value"
   ]
  },
  {
   "cell_type": "code",
   "execution_count": 64,
   "metadata": {},
   "outputs": [
    {
     "data": {
      "text/plain": [
       "5"
      ]
     },
     "execution_count": 64,
     "metadata": {},
     "output_type": "execute_result"
    }
   ],
   "source": [
    "hoja.cell(row = 1, column =2).value"
   ]
  },
  {
   "cell_type": "code",
   "execution_count": 65,
   "metadata": {},
   "outputs": [],
   "source": [
    "rango1 = hoja[\"A2:D2\"]"
   ]
  },
  {
   "cell_type": "code",
   "execution_count": 66,
   "metadata": {},
   "outputs": [],
   "source": [
    "#columna entera\n",
    "colb = hoja[\"B\"]"
   ]
  },
  {
   "cell_type": "code",
   "execution_count": 67,
   "metadata": {},
   "outputs": [],
   "source": [
    "#fila entera\n",
    "\n",
    "fila5 = hoja[\"5\"]"
   ]
  },
  {
   "cell_type": "code",
   "execution_count": 68,
   "metadata": {},
   "outputs": [],
   "source": [
    "hoja = wb.active"
   ]
  },
  {
   "cell_type": "code",
   "execution_count": 69,
   "metadata": {},
   "outputs": [],
   "source": [
    "#asignamos la ultima fila sin datos\n",
    "hoja.append([\"col1\",2, 3232, \"col4\", \"columna 5\"])"
   ]
  },
  {
   "cell_type": "code",
   "execution_count": 70,
   "metadata": {},
   "outputs": [
    {
     "data": {
      "text/plain": [
       "'10/04/2019'"
      ]
     },
     "execution_count": 70,
     "metadata": {},
     "output_type": "execute_result"
    }
   ],
   "source": [
    "hoja[\"G1\"] = \"10/04/2019\"\n",
    "hoja[\"G1\"].value"
   ]
  },
  {
   "cell_type": "code",
   "execution_count": 71,
   "metadata": {},
   "outputs": [
    {
     "data": {
      "text/plain": [
       "False"
      ]
     },
     "execution_count": 71,
     "metadata": {},
     "output_type": "execute_result"
    }
   ],
   "source": [
    "hoja[\"G1\"].is_date"
   ]
  },
  {
   "cell_type": "code",
   "execution_count": 72,
   "metadata": {},
   "outputs": [],
   "source": [
    "import datetime\n",
    "hoja[\"F1\"] = datetime.datetime(2020, 7, 21)"
   ]
  },
  {
   "cell_type": "code",
   "execution_count": 73,
   "metadata": {},
   "outputs": [
    {
     "data": {
      "text/plain": [
       "datetime.datetime(2020, 7, 21, 0, 0)"
      ]
     },
     "execution_count": 73,
     "metadata": {},
     "output_type": "execute_result"
    }
   ],
   "source": [
    "hoja[\"F1\"].value"
   ]
  },
  {
   "cell_type": "code",
   "execution_count": 74,
   "metadata": {},
   "outputs": [
    {
     "data": {
      "text/plain": [
       "True"
      ]
     },
     "execution_count": 74,
     "metadata": {},
     "output_type": "execute_result"
    }
   ],
   "source": [
    "hoja[\"F1\"].is_date"
   ]
  },
  {
   "cell_type": "markdown",
   "metadata": {},
   "source": [
    "## Formato de celda"
   ]
  },
  {
   "cell_type": "code",
   "execution_count": 75,
   "metadata": {},
   "outputs": [
    {
     "data": {
      "text/plain": [
       "'General'"
      ]
     },
     "execution_count": 75,
     "metadata": {},
     "output_type": "execute_result"
    }
   ],
   "source": [
    "hoja[\"b5\"] = \"20,04,2020\"\n",
    "hoja[\"b5\"].number_format"
   ]
  },
  {
   "cell_type": "code",
   "execution_count": 76,
   "metadata": {},
   "outputs": [
    {
     "data": {
      "text/plain": [
       "datetime.datetime(2020, 4, 21, 0, 0)"
      ]
     },
     "execution_count": 76,
     "metadata": {},
     "output_type": "execute_result"
    }
   ],
   "source": [
    "hoja[\"c5\"] = datetime.datetime(2020, 4, 21)\n",
    "hoja[\"c5\"].number_format = \"yyyy-mm-dd\"\n",
    "hoja[\"c5\"].value"
   ]
  },
  {
   "cell_type": "code",
   "execution_count": 77,
   "metadata": {},
   "outputs": [
    {
     "data": {
      "text/plain": [
       "'20,04,2020'"
      ]
     },
     "execution_count": 77,
     "metadata": {},
     "output_type": "execute_result"
    }
   ],
   "source": [
    "hoja[\"b5\"].number_format = \"#,#0€\"\n",
    "hoja[\"b5\"].value"
   ]
  },
  {
   "cell_type": "markdown",
   "metadata": {},
   "source": [
    "# inmovilizar paneles"
   ]
  },
  {
   "cell_type": "code",
   "execution_count": 78,
   "metadata": {},
   "outputs": [],
   "source": [
    "#inmobilizar la primera fila\n",
    "hoja.freeze_panes = \"A2\""
   ]
  },
  {
   "cell_type": "code",
   "execution_count": 79,
   "metadata": {},
   "outputs": [],
   "source": [
    "#inmovilizar la primera fila y columna\n",
    "hoja.freeze_panes = \"B2\""
   ]
  },
  {
   "cell_type": "code",
   "execution_count": 80,
   "metadata": {},
   "outputs": [],
   "source": [
    "#Auto filtro\n",
    "hoja.auto_filter.ref = \"A1:P200\""
   ]
  },
  {
   "cell_type": "code",
   "execution_count": 81,
   "metadata": {},
   "outputs": [
    {
     "data": {
      "text/plain": [
       "'=Average(C2:C20)'"
      ]
     },
     "execution_count": 81,
     "metadata": {},
     "output_type": "execute_result"
    }
   ],
   "source": [
    "hoja[\"B2\"] = \"=Average(C2:C20)\"\n",
    "hoja[\"B2\"].value"
   ]
  },
  {
   "cell_type": "code",
   "execution_count": 82,
   "metadata": {},
   "outputs": [],
   "source": [
    "\n",
    "FORMATO = openpyxl.styles.fonts.Font(\n",
    "    name = \"Arial\",\n",
    "    size = 12,\n",
    "    bold = True,\n",
    "    italic = False,\n",
    "    vertAlign = None,\n",
    "    strike = False,\n",
    "    color = \"ff0000\"\n",
    ")"
   ]
  },
  {
   "cell_type": "code",
   "execution_count": 83,
   "metadata": {},
   "outputs": [],
   "source": [
    "hoja[\"D5\"].font = FORMATO"
   ]
  },
  {
   "cell_type": "code",
   "execution_count": 84,
   "metadata": {},
   "outputs": [],
   "source": [
    "hoja.title = \"Hoja 1\""
   ]
  },
  {
   "cell_type": "code",
   "execution_count": 85,
   "metadata": {},
   "outputs": [],
   "source": [
    "wb.save(\"my_excel.xlsx\")"
   ]
  },
  {
   "cell_type": "markdown",
   "metadata": {},
   "source": [
    "## Tipo de letra, color y borde"
   ]
  },
  {
   "cell_type": "code",
   "execution_count": 86,
   "metadata": {},
   "outputs": [],
   "source": [
    "import openpyxl\n",
    "\n",
    "wb = openpyxl.load_workbook(\"balances.xlsx\")\n",
    "ws = wb.active"
   ]
  },
  {
   "cell_type": "code",
   "execution_count": 87,
   "metadata": {},
   "outputs": [],
   "source": [
    "from openpyxl.styles import colors\n",
    "from openpyxl.styles import Font, Color\n",
    "from openpyxl import Workbook\n",
    "wb = Workbook()\n",
    "ws = wb.active\n",
    "\n",
    "ft = Font(color=\"FF0000\", name= \"Arial\", size= 14)\n",
    "ws['A1'].font = ft\n",
    "ws['D4'].font = ft\n",
    "\n",
    "\n",
    "#a1.font = Font(color=\"FF0000\", italic=True) # the change only affects A1"
   ]
  },
  {
   "cell_type": "code",
   "execution_count": 88,
   "metadata": {},
   "outputs": [],
   "source": [
    "from openpyxl.styles import PatternFill, Border, Side, Alignment, Protection, Font\n",
    "font = Font(name='Calibri',\n",
    "                 size=11,\n",
    "                 bold=False,                 \n",
    "                 italic=False,\n",
    "                 vertAlign=None,\n",
    "                 underline='none',\n",
    "                 strike=False,\n",
    "                 color='FF000000')\n",
    "fill = PatternFill(fill_type=None,\n",
    "                 start_color='FFFFFFFF',\n",
    "                 end_color='FF000000')\n",
    "border = Border(left=Side(border_style=None,\n",
    "                           color='FF000000'),\n",
    "                 right=Side(border_style=None,\n",
    "                            color='FF000000'),\n",
    "                 top=Side(border_style=None,\n",
    "                          color='FF000000'),\n",
    "                 bottom=Side(border_style=None,\n",
    "                             color='FF000000'),\n",
    "                 diagonal=Side(border_style=None,\n",
    "                               color='FF000000'),\n",
    "                 diagonal_direction=0,\n",
    "                 outline=Side(border_style=None,\n",
    "                              color='FF000000'),\n",
    "                 vertical=Side(border_style=None,\n",
    "                               color='FF000000'),\n",
    "                 horizontal=Side(border_style=None,\n",
    "                                color='FF000000')\n",
    "                )\n",
    "alignment=Alignment(horizontal='general',\n",
    "                     vertical='bottom',\n",
    "                     text_rotation=0,\n",
    "                     wrap_text=False,\n",
    "                     shrink_to_fit=False,\n",
    "                     indent=0)\n",
    "number_format = 'General'\n",
    "protection = Protection(locked=True,\n",
    "                         hidden=False)"
   ]
  },
  {
   "cell_type": "code",
   "execution_count": 89,
   "metadata": {},
   "outputs": [],
   "source": [
    "border = Border(left=Side(border_style=None,\n",
    "                           color='FF000000'),\n",
    "                 right=Side(border_style=None,\n",
    "                            color='FF000000'),\n",
    "                 top=Side(border_style=None,\n",
    "                          color='FF000000'),\n",
    "                 bottom=Side(border_style=None,\n",
    "                             color='FF000000'),\n",
    "                 diagonal=Side(border_style=None,\n",
    "                               color='FF000000'),\n",
    "                 diagonal_direction=0,\n",
    "                 outline=Side(border_style=None,\n",
    "                              color='FF000000'),\n",
    "                 vertical=Side(border_style=None,\n",
    "                               color='FF000000'),\n",
    "                 horizontal=Side(border_style=None,\n",
    "                                color='FF000000')\n",
    "                )\n",
    "\n",
    "\n"
   ]
  },
  {
   "cell_type": "code",
   "execution_count": 90,
   "metadata": {},
   "outputs": [],
   "source": [
    "wb.save(\"balances.xlsx\")"
   ]
  },
  {
   "cell_type": "markdown",
   "metadata": {},
   "source": [
    "# Practicing"
   ]
  },
  {
   "cell_type": "code",
   "execution_count": 91,
   "metadata": {},
   "outputs": [
    {
     "name": "stderr",
     "output_type": "stream",
     "text": [
      "<ipython-input-91-76f20adcfbe2>:7: DeprecationWarning: Call to deprecated function get_sheet_by_name (Use wb[sheetname]).\n",
      "  hoja_2 = excel.get_sheet_by_name(\"joel\")\n"
     ]
    }
   ],
   "source": [
    "import openpyxl \n",
    "\n",
    "excel = openpyxl.load_workbook(\"my_excel.xlsx\")\n",
    "hoja_1 = excel.active\n",
    "hojas = excel.sheetnames\n",
    "hoja_1.title = \"1er hoja\"\n",
    "hoja_2 = excel.get_sheet_by_name(\"joel\")\n",
    "hoja_2.title = \"2da hoja\"\n",
    "\n",
    "\n"
   ]
  },
  {
   "cell_type": "code",
   "execution_count": 92,
   "metadata": {},
   "outputs": [],
   "source": [
    "from openpyxl.styles import Color, PatternFill, Font, Border\n",
    "relleno_rojo = PatternFill(start_color='FF0000', \n",
    "                            end_color='FF0000', \n",
    "                            fill_type=\"solid\")\n",
    "\n",
    "hoja_1['A1'].fill = relleno_rojo"
   ]
  },
  {
   "cell_type": "code",
   "execution_count": 93,
   "metadata": {},
   "outputs": [],
   "source": [
    "hoja_2[\"A1\"].fill = relleno_rojo"
   ]
  },
  {
   "cell_type": "code",
   "execution_count": 94,
   "metadata": {},
   "outputs": [],
   "source": [
    "from openpyxl.styles.borders import Border, Side\n",
    " \n",
    "thin_border = Border(left=Side(style=\"thick\",\n",
    "                                color = \"00000000\"), \n",
    "                     right=Side(style='thick'), \n",
    "                     top=Side(style='thick'), \n",
    "                     bottom=Side(style= None))\n",
    "\n",
    "hoja_1[\"B2\"].border = thin_border"
   ]
  },
  {
   "cell_type": "code",
   "execution_count": 95,
   "metadata": {},
   "outputs": [
    {
     "ename": "FileNotFoundError",
     "evalue": "[Errno 2] No such file or directory: 'Frente.jpg'",
     "output_type": "error",
     "traceback": [
      "\u001b[1;31m---------------------------------------------------------------------------\u001b[0m",
      "\u001b[1;31mFileNotFoundError\u001b[0m                         Traceback (most recent call last)",
      "\u001b[1;32m<ipython-input-95-c736d41bfd8c>\u001b[0m in \u001b[0;36m<module>\u001b[1;34m\u001b[0m\n\u001b[0;32m      1\u001b[0m \u001b[1;32mfrom\u001b[0m \u001b[0mopenpyxl\u001b[0m\u001b[1;33m.\u001b[0m\u001b[0mdrawing\u001b[0m\u001b[1;33m.\u001b[0m\u001b[0mimage\u001b[0m \u001b[1;32mimport\u001b[0m \u001b[0mImage\u001b[0m\u001b[1;33m\u001b[0m\u001b[1;33m\u001b[0m\u001b[0m\n\u001b[1;32m----> 2\u001b[1;33m \u001b[0mfrente\u001b[0m \u001b[1;33m=\u001b[0m \u001b[0mImage\u001b[0m\u001b[1;33m(\u001b[0m\u001b[1;34m\"Frente.jpg\"\u001b[0m\u001b[1;33m)\u001b[0m\u001b[1;33m\u001b[0m\u001b[1;33m\u001b[0m\u001b[0m\n\u001b[0m\u001b[0;32m      3\u001b[0m \u001b[0mhoja_2\u001b[0m\u001b[1;33m.\u001b[0m\u001b[0madd_image\u001b[0m\u001b[1;33m(\u001b[0m\u001b[0mfrente\u001b[0m\u001b[1;33m,\u001b[0m \u001b[1;34m\"A8\"\u001b[0m\u001b[1;33m)\u001b[0m\u001b[1;33m\u001b[0m\u001b[1;33m\u001b[0m\u001b[0m\n\u001b[0;32m      4\u001b[0m \u001b[1;33m\u001b[0m\u001b[0m\n\u001b[0;32m      5\u001b[0m \u001b[1;31m#quitar las grillas de excel\u001b[0m\u001b[1;33m\u001b[0m\u001b[1;33m\u001b[0m\u001b[1;33m\u001b[0m\u001b[0m\n",
      "\u001b[1;32m~\\anaconda3\\lib\\site-packages\\openpyxl\\drawing\\image.py\u001b[0m in \u001b[0;36m__init__\u001b[1;34m(self, img)\u001b[0m\n\u001b[0;32m     30\u001b[0m         \u001b[0mself\u001b[0m\u001b[1;33m.\u001b[0m\u001b[0mref\u001b[0m \u001b[1;33m=\u001b[0m \u001b[0mimg\u001b[0m\u001b[1;33m\u001b[0m\u001b[1;33m\u001b[0m\u001b[0m\n\u001b[0;32m     31\u001b[0m         \u001b[0mmark_to_close\u001b[0m \u001b[1;33m=\u001b[0m \u001b[0misinstance\u001b[0m\u001b[1;33m(\u001b[0m\u001b[0mimg\u001b[0m\u001b[1;33m,\u001b[0m \u001b[0mstr\u001b[0m\u001b[1;33m)\u001b[0m\u001b[1;33m\u001b[0m\u001b[1;33m\u001b[0m\u001b[0m\n\u001b[1;32m---> 32\u001b[1;33m         \u001b[0mimage\u001b[0m \u001b[1;33m=\u001b[0m \u001b[0m_import_image\u001b[0m\u001b[1;33m(\u001b[0m\u001b[0mimg\u001b[0m\u001b[1;33m)\u001b[0m\u001b[1;33m\u001b[0m\u001b[1;33m\u001b[0m\u001b[0m\n\u001b[0m\u001b[0;32m     33\u001b[0m         \u001b[0mself\u001b[0m\u001b[1;33m.\u001b[0m\u001b[0mwidth\u001b[0m\u001b[1;33m,\u001b[0m \u001b[0mself\u001b[0m\u001b[1;33m.\u001b[0m\u001b[0mheight\u001b[0m \u001b[1;33m=\u001b[0m \u001b[0mimage\u001b[0m\u001b[1;33m.\u001b[0m\u001b[0msize\u001b[0m\u001b[1;33m\u001b[0m\u001b[1;33m\u001b[0m\u001b[0m\n\u001b[0;32m     34\u001b[0m \u001b[1;33m\u001b[0m\u001b[0m\n",
      "\u001b[1;32m~\\anaconda3\\lib\\site-packages\\openpyxl\\drawing\\image.py\u001b[0m in \u001b[0;36m_import_image\u001b[1;34m(img)\u001b[0m\n\u001b[0;32m     14\u001b[0m \u001b[1;33m\u001b[0m\u001b[0m\n\u001b[0;32m     15\u001b[0m     \u001b[1;32mif\u001b[0m \u001b[1;32mnot\u001b[0m \u001b[0misinstance\u001b[0m\u001b[1;33m(\u001b[0m\u001b[0mimg\u001b[0m\u001b[1;33m,\u001b[0m \u001b[0mPILImage\u001b[0m\u001b[1;33m.\u001b[0m\u001b[0mImage\u001b[0m\u001b[1;33m)\u001b[0m\u001b[1;33m:\u001b[0m\u001b[1;33m\u001b[0m\u001b[1;33m\u001b[0m\u001b[0m\n\u001b[1;32m---> 16\u001b[1;33m         \u001b[0mimg\u001b[0m \u001b[1;33m=\u001b[0m \u001b[0mPILImage\u001b[0m\u001b[1;33m.\u001b[0m\u001b[0mopen\u001b[0m\u001b[1;33m(\u001b[0m\u001b[0mimg\u001b[0m\u001b[1;33m)\u001b[0m\u001b[1;33m\u001b[0m\u001b[1;33m\u001b[0m\u001b[0m\n\u001b[0m\u001b[0;32m     17\u001b[0m \u001b[1;33m\u001b[0m\u001b[0m\n\u001b[0;32m     18\u001b[0m     \u001b[1;32mreturn\u001b[0m \u001b[0mimg\u001b[0m\u001b[1;33m\u001b[0m\u001b[1;33m\u001b[0m\u001b[0m\n",
      "\u001b[1;32m~\\anaconda3\\lib\\site-packages\\PIL\\Image.py\u001b[0m in \u001b[0;36mopen\u001b[1;34m(fp, mode, formats)\u001b[0m\n\u001b[0;32m   2910\u001b[0m \u001b[1;33m\u001b[0m\u001b[0m\n\u001b[0;32m   2911\u001b[0m     \u001b[1;32mif\u001b[0m \u001b[0mfilename\u001b[0m\u001b[1;33m:\u001b[0m\u001b[1;33m\u001b[0m\u001b[1;33m\u001b[0m\u001b[0m\n\u001b[1;32m-> 2912\u001b[1;33m         \u001b[0mfp\u001b[0m \u001b[1;33m=\u001b[0m \u001b[0mbuiltins\u001b[0m\u001b[1;33m.\u001b[0m\u001b[0mopen\u001b[0m\u001b[1;33m(\u001b[0m\u001b[0mfilename\u001b[0m\u001b[1;33m,\u001b[0m \u001b[1;34m\"rb\"\u001b[0m\u001b[1;33m)\u001b[0m\u001b[1;33m\u001b[0m\u001b[1;33m\u001b[0m\u001b[0m\n\u001b[0m\u001b[0;32m   2913\u001b[0m         \u001b[0mexclusive_fp\u001b[0m \u001b[1;33m=\u001b[0m \u001b[1;32mTrue\u001b[0m\u001b[1;33m\u001b[0m\u001b[1;33m\u001b[0m\u001b[0m\n\u001b[0;32m   2914\u001b[0m \u001b[1;33m\u001b[0m\u001b[0m\n",
      "\u001b[1;31mFileNotFoundError\u001b[0m: [Errno 2] No such file or directory: 'Frente.jpg'"
     ]
    }
   ],
   "source": [
    "from openpyxl.drawing.image import Image\n",
    "frente = Image(\"Frente.jpg\")\n",
    "hoja_2.add_image(frente, \"A8\")\n",
    "\n",
    "#quitar las grillas de excel\n",
    "hoja_2.sheet_view.showGridLines = False"
   ]
  },
  {
   "cell_type": "code",
   "execution_count": null,
   "metadata": {},
   "outputs": [],
   "source": [
    "excel.save(\"my_excel.xlsx\")"
   ]
  },
  {
   "cell_type": "markdown",
   "metadata": {},
   "source": [
    "# Practice 2"
   ]
  },
  {
   "cell_type": "code",
   "execution_count": null,
   "metadata": {},
   "outputs": [
    {
     "name": "stderr",
     "output_type": "stream",
     "text": [
      "<ipython-input-43-f24d990e0ee9>:7: DeprecationWarning: Call to deprecated function get_sheet_by_name (Use wb[sheetname]).\n",
      "  hoja_1 = libro.get_sheet_by_name(\"Hojas 1\")\n"
     ]
    }
   ],
   "source": [
    "from openpyxl import Workbook\n",
    "from openpyxl.styles import Color, PatternFill\n",
    "libro = Workbook()\n",
    "\n",
    "ws = libro.create_sheet(\"Hojas 1\")\n",
    "libro.worksheets\n",
    "hoja_1 = libro.get_sheet_by_name(\"Hojas 1\")\n",
    "\n",
    "relleno_rojo = PatternFill(start_color='FF0000', \n",
    "                            end_color='FF0000', \n",
    "                            fill_type=\"solid\")\n",
    "\n",
    "for cell in hoja_1['C1:C100']:\n",
    "   cell[0].fill = relleno_rojo\n",
    "\n"
   ]
  },
  {
   "cell_type": "code",
   "execution_count": null,
   "metadata": {},
   "outputs": [],
   "source": [
    "for cell in hoja_1['B1:B{}'.format(ws.max_row)]: #solo coge las celdas en uso\n",
    "   cell[0].fill = relleno_rojo"
   ]
  },
  {
   "cell_type": "code",
   "execution_count": null,
   "metadata": {},
   "outputs": [],
   "source": [
    "libro.save(\"balances1.xlsx\")"
   ]
  },
  {
   "cell_type": "markdown",
   "metadata": {},
   "source": [
    "# practice 3"
   ]
  },
  {
   "cell_type": "code",
   "execution_count": 1,
   "metadata": {},
   "outputs": [
    {
     "ename": "FileNotFoundError",
     "evalue": "[Errno 2] No such file or directory: 'balances.xlsx'",
     "output_type": "error",
     "traceback": [
      "\u001b[1;31m---------------------------------------------------------------------------\u001b[0m",
      "\u001b[1;31mFileNotFoundError\u001b[0m                         Traceback (most recent call last)",
      "\u001b[1;32m<ipython-input-1-61c4ddc360d2>\u001b[0m in \u001b[0;36m<module>\u001b[1;34m\u001b[0m\n\u001b[0;32m      3\u001b[0m \u001b[1;33m\u001b[0m\u001b[0m\n\u001b[0;32m      4\u001b[0m \u001b[1;34m\"\"\"leer libro y hoja de excel como input\"\"\"\u001b[0m\u001b[1;33m\u001b[0m\u001b[1;33m\u001b[0m\u001b[0m\n\u001b[1;32m----> 5\u001b[1;33m \u001b[0mlibro\u001b[0m \u001b[1;33m=\u001b[0m \u001b[0mopenpyxl\u001b[0m\u001b[1;33m.\u001b[0m\u001b[0mload_workbook\u001b[0m\u001b[1;33m(\u001b[0m\u001b[1;34m\"balances.xlsx\"\u001b[0m\u001b[1;33m)\u001b[0m\u001b[1;33m\u001b[0m\u001b[1;33m\u001b[0m\u001b[0m\n\u001b[0m\u001b[0;32m      6\u001b[0m \u001b[0mhojas\u001b[0m \u001b[1;33m=\u001b[0m \u001b[0mlibro\u001b[0m\u001b[1;33m.\u001b[0m\u001b[0msheetnames\u001b[0m\u001b[1;33m\u001b[0m\u001b[1;33m\u001b[0m\u001b[0m\n\u001b[0;32m      7\u001b[0m \u001b[0mhoja_1\u001b[0m \u001b[1;33m=\u001b[0m \u001b[0mlibro\u001b[0m\u001b[1;33m.\u001b[0m\u001b[0mget_sheet_by_name\u001b[0m\u001b[1;33m(\u001b[0m\u001b[1;34m\"Prueba\"\u001b[0m\u001b[1;33m)\u001b[0m\u001b[1;33m\u001b[0m\u001b[1;33m\u001b[0m\u001b[0m\n",
      "\u001b[1;32m~\\anaconda3\\lib\\site-packages\\openpyxl\\reader\\excel.py\u001b[0m in \u001b[0;36mload_workbook\u001b[1;34m(filename, read_only, keep_vba, data_only, keep_links)\u001b[0m\n\u001b[0;32m    313\u001b[0m \u001b[1;33m\u001b[0m\u001b[0m\n\u001b[0;32m    314\u001b[0m     \"\"\"\n\u001b[1;32m--> 315\u001b[1;33m     reader = ExcelReader(filename, read_only, keep_vba,\n\u001b[0m\u001b[0;32m    316\u001b[0m                         data_only, keep_links)\n\u001b[0;32m    317\u001b[0m     \u001b[0mreader\u001b[0m\u001b[1;33m.\u001b[0m\u001b[0mread\u001b[0m\u001b[1;33m(\u001b[0m\u001b[1;33m)\u001b[0m\u001b[1;33m\u001b[0m\u001b[1;33m\u001b[0m\u001b[0m\n",
      "\u001b[1;32m~\\anaconda3\\lib\\site-packages\\openpyxl\\reader\\excel.py\u001b[0m in \u001b[0;36m__init__\u001b[1;34m(self, fn, read_only, keep_vba, data_only, keep_links)\u001b[0m\n\u001b[0;32m    122\u001b[0m     def __init__(self,  fn, read_only=False, keep_vba=KEEP_VBA,\n\u001b[0;32m    123\u001b[0m                   data_only=False, keep_links=True):\n\u001b[1;32m--> 124\u001b[1;33m         \u001b[0mself\u001b[0m\u001b[1;33m.\u001b[0m\u001b[0marchive\u001b[0m \u001b[1;33m=\u001b[0m \u001b[0m_validate_archive\u001b[0m\u001b[1;33m(\u001b[0m\u001b[0mfn\u001b[0m\u001b[1;33m)\u001b[0m\u001b[1;33m\u001b[0m\u001b[1;33m\u001b[0m\u001b[0m\n\u001b[0m\u001b[0;32m    125\u001b[0m         \u001b[0mself\u001b[0m\u001b[1;33m.\u001b[0m\u001b[0mvalid_files\u001b[0m \u001b[1;33m=\u001b[0m \u001b[0mself\u001b[0m\u001b[1;33m.\u001b[0m\u001b[0marchive\u001b[0m\u001b[1;33m.\u001b[0m\u001b[0mnamelist\u001b[0m\u001b[1;33m(\u001b[0m\u001b[1;33m)\u001b[0m\u001b[1;33m\u001b[0m\u001b[1;33m\u001b[0m\u001b[0m\n\u001b[0;32m    126\u001b[0m         \u001b[0mself\u001b[0m\u001b[1;33m.\u001b[0m\u001b[0mread_only\u001b[0m \u001b[1;33m=\u001b[0m \u001b[0mread_only\u001b[0m\u001b[1;33m\u001b[0m\u001b[1;33m\u001b[0m\u001b[0m\n",
      "\u001b[1;32m~\\anaconda3\\lib\\site-packages\\openpyxl\\reader\\excel.py\u001b[0m in \u001b[0;36m_validate_archive\u001b[1;34m(filename)\u001b[0m\n\u001b[0;32m     94\u001b[0m             \u001b[1;32mraise\u001b[0m \u001b[0mInvalidFileException\u001b[0m\u001b[1;33m(\u001b[0m\u001b[0mmsg\u001b[0m\u001b[1;33m)\u001b[0m\u001b[1;33m\u001b[0m\u001b[1;33m\u001b[0m\u001b[0m\n\u001b[0;32m     95\u001b[0m \u001b[1;33m\u001b[0m\u001b[0m\n\u001b[1;32m---> 96\u001b[1;33m     \u001b[0marchive\u001b[0m \u001b[1;33m=\u001b[0m \u001b[0mZipFile\u001b[0m\u001b[1;33m(\u001b[0m\u001b[0mfilename\u001b[0m\u001b[1;33m,\u001b[0m \u001b[1;34m'r'\u001b[0m\u001b[1;33m)\u001b[0m\u001b[1;33m\u001b[0m\u001b[1;33m\u001b[0m\u001b[0m\n\u001b[0m\u001b[0;32m     97\u001b[0m     \u001b[1;32mreturn\u001b[0m \u001b[0marchive\u001b[0m\u001b[1;33m\u001b[0m\u001b[1;33m\u001b[0m\u001b[0m\n\u001b[0;32m     98\u001b[0m \u001b[1;33m\u001b[0m\u001b[0m\n",
      "\u001b[1;32m~\\anaconda3\\lib\\zipfile.py\u001b[0m in \u001b[0;36m__init__\u001b[1;34m(self, file, mode, compression, allowZip64, compresslevel, strict_timestamps)\u001b[0m\n\u001b[0;32m   1249\u001b[0m             \u001b[1;32mwhile\u001b[0m \u001b[1;32mTrue\u001b[0m\u001b[1;33m:\u001b[0m\u001b[1;33m\u001b[0m\u001b[1;33m\u001b[0m\u001b[0m\n\u001b[0;32m   1250\u001b[0m                 \u001b[1;32mtry\u001b[0m\u001b[1;33m:\u001b[0m\u001b[1;33m\u001b[0m\u001b[1;33m\u001b[0m\u001b[0m\n\u001b[1;32m-> 1251\u001b[1;33m                     \u001b[0mself\u001b[0m\u001b[1;33m.\u001b[0m\u001b[0mfp\u001b[0m \u001b[1;33m=\u001b[0m \u001b[0mio\u001b[0m\u001b[1;33m.\u001b[0m\u001b[0mopen\u001b[0m\u001b[1;33m(\u001b[0m\u001b[0mfile\u001b[0m\u001b[1;33m,\u001b[0m \u001b[0mfilemode\u001b[0m\u001b[1;33m)\u001b[0m\u001b[1;33m\u001b[0m\u001b[1;33m\u001b[0m\u001b[0m\n\u001b[0m\u001b[0;32m   1252\u001b[0m                 \u001b[1;32mexcept\u001b[0m \u001b[0mOSError\u001b[0m\u001b[1;33m:\u001b[0m\u001b[1;33m\u001b[0m\u001b[1;33m\u001b[0m\u001b[0m\n\u001b[0;32m   1253\u001b[0m                     \u001b[1;32mif\u001b[0m \u001b[0mfilemode\u001b[0m \u001b[1;32min\u001b[0m \u001b[0mmodeDict\u001b[0m\u001b[1;33m:\u001b[0m\u001b[1;33m\u001b[0m\u001b[1;33m\u001b[0m\u001b[0m\n",
      "\u001b[1;31mFileNotFoundError\u001b[0m: [Errno 2] No such file or directory: 'balances.xlsx'"
     ]
    }
   ],
   "source": [
    "import openpyxl\n",
    "from openpyxl.styles import PatternFill, Border, Side, Font, Alignment\n",
    "\n",
    "\"\"\"leer libro y hoja de excel como input\"\"\"\n",
    "libro = openpyxl.load_workbook(\"balances.xlsx\")\n",
    "hojas = libro.sheetnames\n",
    "hoja_1 = libro.get_sheet_by_name(\"Prueba\")\n",
    "\n",
    "\"\"\"Propiedades de la hoja\"\"\"\n",
    "hoja_1.sheet_view.showGridLines = False\n",
    "hoja_1.sheet_view.zoomScale = 85\n",
    "\n",
    "for column in [\"B\", \"C\", \"D\", \"E\", \"F\", \"G\"]:\n",
    "    hoja_1.column_dimensions[column].width = 12\n",
    "\n",
    "\n",
    "\"\"\"Titulo del calculo\"\"\"\n",
    "hoja_1[\"B2\"].value = \"Calculo de N° de taladros by JOEL BARRANTES\"\n",
    "hoja_1[\"B2\"].font = Font(bold = True, size = 20, )\n",
    "\n",
    "\"\"\"Subtitulo del calculo\"\"\"\n",
    "hoja_1[\"B4\"].value = \"✔ Area y perímetro de la sección\"\n",
    "hoja_1[\"B4\"].font = Font(bold = True, size = 11, )\n",
    "\n",
    "\"\"\"Insertar imagen del frente\"\"\"\n",
    "from openpyxl.drawing.image import Image\n",
    "Imagen_frente_minero = Image(\"1_imagen_frente_minero.jpg\")\n",
    "Imagen_frente_minero.height, Imagen_frente_minero.width = 493*0.55, 943*0.55 \n",
    "hoja_1.add_image(Imagen_frente_minero, \"B5\")\n",
    "\n",
    "\n",
    "\"\"\"insertar color en la celda\"\"\"\n",
    "relleno_celeste_oscuro = PatternFill(start_color= \"0033CCCC\",\n",
    "                      end_color= \"0033CCCC\",\n",
    "                      fill_type= \"solid\"\n",
    "                      )\n",
    "\n",
    "relleno_celeste_claro = PatternFill(start_color= \"00CCCCFF\",\n",
    "                      end_color= \"00CCCCFF\",\n",
    "                      fill_type= \"solid\"\n",
    "                      )\n",
    "\n",
    "encabezados = [\"B19\", \"C19\", \"B23\", \"C23\", \"E19\", \"F19\", \"G19\"]\n",
    "datos = [\"B20\", \"B21\", \"B24\", \"B25\", \"C20\", \"C21\", \"C24\", \"C25\"]\n",
    "\n",
    "for cell in encabezados:\n",
    "    hoja_1[cell].fill = relleno_celeste_oscuro\n",
    "\n",
    "for cell in datos:\n",
    "    hoja_1[cell].fill = relleno_celeste_claro\n",
    "\n",
    "for rangos in ['E20:E29','F20:F29','G20:G29']:\n",
    "    for cell in hoja_1[rangos]:\n",
    "        cell[0].fill = relleno_celeste_claro\n",
    "\n",
    "\"\"\"convinar celdas\"\"\"\n",
    "hoja_1.merge_cells(\"B19:C19\")\n",
    "hoja_1.merge_cells(\"B23:C23\")\n",
    "hoja_1.merge_cells(\"E19:G19\")\n",
    "\n",
    "\"\"\"insertar borde de la celda\"\"\"\n",
    "borde_grueso_4_lados = Border(left=Side(style=\"medium\"), \n",
    "                right=Side(style='medium'), \n",
    "                top=Side(style='medium'), \n",
    "                bottom=Side(style= 'medium')\n",
    "                )\n",
    "borde_grueso_1_lado_izquierda = Border(left=Side(style=\"medium\"), \n",
    "                right=Side(style=None), \n",
    "                top=Side(style=None), \n",
    "                bottom=Side(style=None)\n",
    "                )\n",
    "borde_grueso_1_lado_derecha = Border(left=Side(style=None), \n",
    "                right=Side(style='medium'), \n",
    "                top=Side(style=None), \n",
    "                bottom=Side(style=None)\n",
    "                )\n",
    "borde_grueso_1_lado_inferior = Border(left=Side(style=None), \n",
    "                right=Side(style=None), \n",
    "                top=Side(style=None), \n",
    "                bottom=Side(style='medium')\n",
    "                )\n",
    "borde_grueso_2_lados_inferior_izquierda = Border(left=Side(style=\"medium\"), \n",
    "                right=Side(style=None), \n",
    "                top=Side(style=None), \n",
    "                bottom=Side(style= 'medium')\n",
    "                )\n",
    "borde_grueso_2_lados_inferior_derecha = Border(left=Side(style=None), \n",
    "                right=Side(style='medium'), \n",
    "                top=Side(style=None), \n",
    "                bottom=Side(style= 'medium')\n",
    "                )\n",
    "\n",
    "for cell in encabezados:\n",
    "    hoja_1[cell].border = borde_grueso_4_lados\n",
    "\n",
    "for cells in [\"B20\",\"B24\"]:\n",
    "    hoja_1[cells].border = borde_grueso_1_lado_izquierda\n",
    "\n",
    "for cell in hoja_1[\"E20:E28\"]:\n",
    "    cell[0].border = borde_grueso_1_lado_izquierda\n",
    "\n",
    "for cells in [\"C20\",\"C24\"]:\n",
    "    hoja_1[cells].border = borde_grueso_1_lado_derecha\n",
    "\n",
    "for cell in hoja_1[\"G20:G28\"]:\n",
    "    cell[0].border = borde_grueso_1_lado_derecha\n",
    "\n",
    "hoja_1[\"F29\"].border = borde_grueso_1_lado_inferior\n",
    "\n",
    "for cell in [\"B21\", \"B25\", \"E29\"]:\n",
    "    hoja_1[cell].border = borde_grueso_2_lados_inferior_izquierda\n",
    "\n",
    "for cell in [\"C21\", \"C25\", \"G29\"]:\n",
    "    hoja_1[cell].border = borde_grueso_2_lados_inferior_derecha\n",
    "\n",
    "\n",
    "\"\"\"Inserta el tipo de letra\"\"\"\n",
    "tipo_letra_azul_oscuro = Font(bold= True, size=\"10\",color= \"00003366\")\n",
    "tipo_letra_negro = Font(bold= False, size=\"10\",color= \"00000000\")\n",
    "\n",
    "for cell in [\"B19\", \"B23\", \"E19\", \"B24\", \"C24\", \"C25\", \"E21\", \"G21\", \"F22\", \n",
    "            \"G22\", \"E23\", \"F23\", \"G23\", \"E26\", \"G26\", \"E27\", \"G27\"]:\n",
    "    hoja_1[cell].font = tipo_letra_azul_oscuro\n",
    "\n",
    "for cell in [\"B20\", \"B21\", \"C20\", \"C21\", \"E20\", \"G20\", \"E24\", \"E25\", \"G24\", \"G25\", \"E28\", \"E29\"]:\n",
    "    hoja_1[cell].font = tipo_letra_negro\n",
    "\n",
    "\n",
    "\"\"\"Alinear la letra de la celda\"\"\"\n",
    "centrar = Alignment(horizontal= \"center\", vertical= \"center\")\n",
    "# hoja_1[\"B2\"].alignment = centrar\n",
    "\n",
    "\n",
    "\"\"\"textos de las celdas\"\"\"\n",
    "hoja_1[\"B19\"].value = \"Datos de la sección\"\n",
    "hoja_1[\"B20\"].value = \"Base (B)\"\n",
    "hoja_1[\"B21\"].value = \"Altura (H)\"\n",
    "\n",
    "hoja_1[\"B23\"].value = \"Area (S) y Perímetro (P)\"\n",
    "hoja_1[\"B24\"].value = \"(=)S(m2)\"\n",
    "hoja_1[\"B25\"].value = \"(=)P(m)\"\n",
    "\n",
    "hoja_1[\"E19\"].value = \"Datos y respuestas de perforación y voladura\"\n",
    "hoja_1[\"E20\"].value = \"Longitud de barrenos (pies)\"\n",
    "hoja_1[\"E21\"].value = \"(=) N° de taladros de perforación\"\n",
    "hoja_1[\"F22\"].value = \"Redondeo\"\n",
    "hoja_1[\"E23\"].value = \"(=) Taladros vacios\"\n",
    "hoja_1[\"E24\"].value = \"Eficiencia de perforación (%)\"\n",
    "hoja_1[\"E25\"].value = \"Eficiencia de voladura (%)\"\n",
    "hoja_1[\"E26\"].value = \"(=) Longitud perforada (pies)\"\n",
    "hoja_1[\"E27\"].value = \"(=) Avance por disparo (m)\"\n",
    "hoja_1[\"E28\"].value = \"Disparo/ día (rendimiento)\"\n",
    "hoja_1[\"E29\"].value = \"sistema de trabajo\"\n",
    "\n",
    "\"\"\"Input de datos \"\"\"\n",
    "\n",
    "\"\"\"Calculos\"\"\"\n",
    "\n",
    "\"\"\"Output de datos\"\"\"\n"
   ]
  },
  {
   "cell_type": "code",
   "execution_count": null,
   "metadata": {},
   "outputs": [],
   "source": []
  },
  {
   "cell_type": "code",
   "execution_count": null,
   "metadata": {},
   "outputs": [],
   "source": [
    "import openpyxl\n",
    "from openpyxl.styles import PatternFill, Border, Side, Font, Alignment\n",
    "\n",
    "\"\"\"libro y hoja de excel como input\"\"\"\n",
    "\n",
    "\n"
   ]
  },
  {
   "cell_type": "code",
   "execution_count": null,
   "metadata": {},
   "outputs": [],
   "source": [
    "import openpyxl\n",
    "from openpyxl.styles import PatternFill, Border, Side, Font, Alignment\n",
    "import numpy as np\n",
    "\n",
    "\"\"\"libro y hoja de excel como input\"\"\"\n",
    "\n",
    "libro = openpyxl.load_workbook(\"Input.xlsx\")\n",
    "\n",
    "hoja_0 = libro[libro.sheetnames[0]]\n",
    "hoja_0.tabcolor = \"00FF0000\"\n",
    "\n",
    "hoja_1 = libro.create_sheet(\"Resultados\",0)\n",
    "hoja_1.tabcolor = \"00FFFF1E\"\n",
    "\n",
    "\n",
    "\"\"\"Propiedades de la hoja\"\"\"\n",
    "hoja_1.sheet_view.showGridLines = False\n",
    "hoja_1.sheet_view.zoomScale = 85\n",
    "\n",
    "for column in [\"B\", \"C\", \"D\", \"E\", \"F\", \"G\"]:\n",
    "    hoja_1.column_dimensions[column].width = 14\n",
    "\n",
    "\n",
    "\"\"\"Titulo del calculo\"\"\"\n",
    "hoja_1[\"B2\"].value = \"Calculo de N° de taladros by JOEL BARRANTES\"\n",
    "hoja_1[\"B2\"].font = Font(bold = True, size = 20, )\n",
    "\n",
    "\"\"\"Subtitulo del calculo\"\"\"\n",
    "hoja_1[\"B4\"].value = \"✔ Area y perímetro de la sección\"\n",
    "hoja_1[\"B4\"].font = Font(bold = True, size = 11, )\n",
    "\n",
    "\"\"\"Insertar imagen del frente\"\"\"\n",
    "from openpyxl.drawing.image import Image\n",
    "Imagen_frente_minero = Image(\"1_imagen_frente_minero.jpg\")\n",
    "Imagen_frente_minero.height, Imagen_frente_minero.width = 493*0.55, 943*0.55 \n",
    "hoja_1.add_image(Imagen_frente_minero, \"B5\")\n",
    "\n",
    "\n",
    "\"\"\"insertar color en la celda\"\"\"\n",
    "relleno_celeste_oscuro = PatternFill(start_color= \"0033CCCC\",\n",
    "                      end_color= \"0033CCCC\",\n",
    "                      fill_type= \"solid\"\n",
    "                      )\n",
    "\n",
    "relleno_celeste_claro = PatternFill(start_color= \"00CCCCFF\",\n",
    "                      end_color= \"00CCCCFF\",\n",
    "                      fill_type= \"solid\"\n",
    "                      )\n",
    "\n",
    "encabezados = [\"B19\", \"C19\", \"B23\", \"C23\", \"E19\", \"F19\", \"G19\"]\n",
    "datos = [\"B20\", \"B21\", \"B24\", \"B25\", \"C20\", \"C21\", \"C24\", \"C25\"]\n",
    "\n",
    "for cell in encabezados:\n",
    "    hoja_1[cell].fill = relleno_celeste_oscuro\n",
    "\n",
    "for cell in datos:\n",
    "    hoja_1[cell].fill = relleno_celeste_claro\n",
    "\n",
    "for rangos in ['E20:E30','F20:F30','G20:G30']:\n",
    "    for cell in hoja_1[rangos]:\n",
    "        cell[0].fill = relleno_celeste_claro\n",
    "\n",
    "\"\"\"convinar celdas\"\"\"\n",
    "hoja_1.merge_cells(\"B19:C19\")\n",
    "hoja_1.merge_cells(\"B23:C23\")\n",
    "hoja_1.merge_cells(\"E19:G19\")\n",
    "\n",
    "\"\"\"insertar borde de la celda\"\"\"\n",
    "borde_grueso_4_lados = Border(left=Side(style=\"medium\"), \n",
    "                right=Side(style='medium'), \n",
    "                top=Side(style='medium'), \n",
    "                bottom=Side(style= 'medium')\n",
    "                )\n",
    "borde_grueso_1_lado_izquierda = Border(left=Side(style=\"medium\"), \n",
    "                right=Side(style=None), \n",
    "                top=Side(style=None), \n",
    "                bottom=Side(style=None)\n",
    "                )\n",
    "borde_grueso_1_lado_derecha = Border(left=Side(style=None), \n",
    "                right=Side(style='medium'), \n",
    "                top=Side(style=None), \n",
    "                bottom=Side(style=None)\n",
    "                )\n",
    "borde_grueso_1_lado_inferior = Border(left=Side(style=None), \n",
    "                right=Side(style=None), \n",
    "                top=Side(style=None), \n",
    "                bottom=Side(style='medium')\n",
    "                )\n",
    "borde_grueso_2_lados_inferior_izquierda = Border(left=Side(style=\"medium\"), \n",
    "                right=Side(style=None), \n",
    "                top=Side(style=None), \n",
    "                bottom=Side(style= 'medium')\n",
    "                )\n",
    "borde_grueso_2_lados_inferior_derecha = Border(left=Side(style=None), \n",
    "                right=Side(style='medium'), \n",
    "                top=Side(style=None), \n",
    "                bottom=Side(style= 'medium')\n",
    "                )\n",
    "\n",
    "for cell in encabezados:\n",
    "    hoja_1[cell].border = borde_grueso_4_lados\n",
    "\n",
    "for cells in [\"B20\",\"B24\"]:\n",
    "    hoja_1[cells].border = borde_grueso_1_lado_izquierda\n",
    "\n",
    "for cell in hoja_1[\"E20:E29\"]:\n",
    "    cell[0].border = borde_grueso_1_lado_izquierda\n",
    "\n",
    "for cells in [\"C20\",\"C24\"]:\n",
    "    hoja_1[cells].border = borde_grueso_1_lado_derecha\n",
    "\n",
    "for cell in hoja_1[\"G20:G29\"]:\n",
    "    cell[0].border = borde_grueso_1_lado_derecha\n",
    "\n",
    "hoja_1[\"F30\"].border = borde_grueso_1_lado_inferior\n",
    "\n",
    "for cell in [\"B21\", \"B25\", \"E30\"]:\n",
    "    hoja_1[cell].border = borde_grueso_2_lados_inferior_izquierda\n",
    "\n",
    "for cell in [\"C21\", \"C25\", \"G30\"]:\n",
    "    hoja_1[cell].border = borde_grueso_2_lados_inferior_derecha\n",
    "\n",
    "\n",
    "\"\"\"Inserta el tipo de letra\"\"\"\n",
    "tipo_letra_azul_oscuro = Font(bold= True, size=\"10\",color= \"00003366\")\n",
    "tipo_letra_negro = Font(bold= False, size=\"10\",color= \"00000000\")\n",
    "\n",
    "for cell in [\"B19\", \"B23\", \"E19\", \"B24\", \"C24\", \"C25\", \"E21\", \"G21\", \"F22\", \n",
    "            \"G22\", \"E23\", \"F23\", \"G23\", \"E26\", \"G26\", \"E27\", \"G27\", \"E28\", \n",
    "            \"G28\", \"E29\", \"G29\", \"E30\", \"G30\"]:\n",
    "    hoja_1[cell].font = tipo_letra_azul_oscuro\n",
    "\n",
    "for cell in [\"B20\", \"B21\", \"C20\", \"C21\", \"E20\", \"G20\", \"E24\", \"E25\", \"G24\", \"G25\"]:\n",
    "    hoja_1[cell].font = tipo_letra_negro\n",
    "\n",
    "\n",
    "\"\"\"Alinear la letra de la celda\"\"\"\n",
    "centrar = Alignment(horizontal= \"center\", vertical= \"center\")\n",
    "# hoja_1[\"B2\"].alignment = centrar\n",
    "\n",
    "\n",
    "\"\"\"textos de las celdas\"\"\"\n",
    "hoja_1[\"B19\"].value = \"Datos de la sección\"\n",
    "hoja_1[\"B20\"].value = \"Base (B)\"\n",
    "hoja_1[\"B21\"].value = \"Altura (H)\"\n",
    "\n",
    "hoja_1[\"B23\"].value = \"Area (S) y Perímetro (P)\"\n",
    "hoja_1[\"B24\"].value = \"(=)S(m2)\"\n",
    "hoja_1[\"B25\"].value = \"(=)P(m)\"\n",
    "\n",
    "hoja_1[\"E19\"].value = \"Datos y respuestas de perforación y voladura\"\n",
    "hoja_1[\"E20\"].value = \"Longitud de barrenos (pies)\"\n",
    "hoja_1[\"E21\"].value = \"(=) N° de taladros de perforación\"\n",
    "hoja_1[\"F22\"].value = \"Redondeo\"\n",
    "hoja_1[\"E23\"].value = \"(=) Taladros vacios\"\n",
    "hoja_1[\"E24\"].value = \"Eficiencia de perforación (%)\"\n",
    "hoja_1[\"E25\"].value = \"Eficiencia de voladura (%)\"\n",
    "hoja_1[\"E26\"].value = \"(=) Longitud del taladro (pies)\"\n",
    "hoja_1[\"E27\"].value = \"(=)Longitud del taladro (metros)\"\n",
    "hoja_1[\"E28\"].value = \"(=) Longitud Total perforado (metros)\"\n",
    "hoja_1[\"E29\"].value = \"(=) Avance por disparo (m)\"\n",
    "hoja_1[\"E30\"].value = \"(=) Disparo/día (rendimiento)\"\n",
    "\n",
    "\n",
    "\"\"\"Input de datos \"\"\"\n",
    "base_metros = hoja_0[\"C6\"].value\n",
    "altura_metros = hoja_0[\"C7\"].value\n",
    "\n",
    "longitud_barreno_pies = hoja_0[\"C9\"].value\n",
    "eficiencia_perforacion = hoja_0[\"C10\"].value\n",
    "eficiciencia_voladura = hoja_0[\"C11\"].value\n",
    "\n",
    "guardias = hoja_0[\"C12\"].value\n",
    "disparos = hoja_0[\"C13\"].value\n",
    "\n",
    "\n",
    "\"\"\"Calculos\"\"\"\n",
    "area = base_metros * altura_metros * 11/12\n",
    "perimetro = round(np.sqrt(area) * 4,3)\n",
    "\n",
    "numero_taladros = 10 * np.sqrt(area) \n",
    "redondeo_taladros = np.ceil(numero_taladros)\n",
    "taladros_vacios = 3\n",
    "longitud_taladro_pies = longitud_barreno_pies * eficiencia_perforacion\n",
    "longitud_taladro_metro = longitud_taladro_pies * 0.3048\n",
    "longitud_total_perforado_metro = longitud_taladro_metro * redondeo_taladros\n",
    "avance_disparo_metro = longitud_taladro_metro * eficiciencia_voladura\n",
    "rendimiento = disparos / guardias\n",
    "\n",
    "\"\"\"Output de datos\"\"\"\n",
    "hoja_1[\"C20\"].value = base_metros\n",
    "hoja_1[\"C21\"].value = altura_metros\n",
    "\n",
    "hoja_1[\"C24\"].value = area\n",
    "hoja_1[\"C25\"].value = perimetro\n",
    "\n",
    "hoja_1[\"G20\"].value = longitud_barreno_pies\n",
    "hoja_1[\"G21\"].value = numero_taladros\n",
    "hoja_1[\"G22\"].value = redondeo_taladros\n",
    "hoja_1[\"G23\"].value = taladros_vacios\n",
    "hoja_1[\"G24\"].value = eficiencia_perforacion\n",
    "hoja_1[\"G25\"].value = eficiciencia_voladura\n",
    "hoja_1[\"G26\"].value = longitud_taladro_pies\n",
    "hoja_1[\"G27\"].value = longitud_taladro_metro\n",
    "hoja_1[\"G28\"].value = longitud_total_perforado_metro\n",
    "hoja_1[\"G29\"].value = avance_disparo_metro\n",
    "hoja_1[\"G30\"].value = rendimiento\n"
   ]
  },
  {
   "cell_type": "code",
   "execution_count": null,
   "metadata": {},
   "outputs": [
    {
     "ename": "NameError",
     "evalue": "name 'libro' is not defined",
     "output_type": "error",
     "traceback": [
      "\u001b[1;31m---------------------------------------------------------------------------\u001b[0m",
      "\u001b[1;31mNameError\u001b[0m                                 Traceback (most recent call last)",
      "\u001b[1;32m<ipython-input-1-6139fe57ee0c>\u001b[0m in \u001b[0;36m<module>\u001b[1;34m\u001b[0m\n\u001b[1;32m----> 1\u001b[1;33m \u001b[0mlibro\u001b[0m\u001b[1;33m.\u001b[0m\u001b[0msave\u001b[0m\u001b[1;33m(\u001b[0m\u001b[1;34m\"Output.xlsx\"\u001b[0m\u001b[1;33m)\u001b[0m\u001b[1;33m\u001b[0m\u001b[1;33m\u001b[0m\u001b[0m\n\u001b[0m",
      "\u001b[1;31mNameError\u001b[0m: name 'libro' is not defined"
     ]
    }
   ],
   "source": [
    "libro.save(\"Output.xlsx\")"
   ]
  },
  {
   "cell_type": "markdown",
   "metadata": {},
   "source": [
    "## Praciting 4"
   ]
  },
  {
   "cell_type": "code",
   "execution_count": null,
   "metadata": {},
   "outputs": [],
   "source": [
    "from openpyxl import Workbook\n",
    "from openpyxl.chart import BarChart, Reference\n",
    "\n",
    "workbook = Workbook()\n",
    "sheet = workbook.active\n",
    "\n",
    "# Let's create some sample sales data\n",
    "rows = [\n",
    "    [\"Product\", \"Online\", \"Store\"],\n",
    "    [1, 30, 45],\n",
    "    [2, 40, 30],\n",
    "    [3, 40, 25],\n",
    "    [4, 50, 30],\n",
    "    [5, 30, 25],\n",
    "    [6, 25, 35],\n",
    "    [7, 20, 40],\n",
    "]\n",
    "\n",
    "for row in rows:\n",
    "    sheet.append(row)\n",
    "\n",
    "chart = BarChart()\n",
    "data = Reference(worksheet=sheet,\n",
    "                 min_row=1,\n",
    "                 max_row=8,\n",
    "                 min_col=2,\n",
    "                 max_col=3)\n",
    "\n",
    "chart.add_data(data, titles_from_data=True)\n",
    "sheet.add_chart(chart, \"E2\")\n",
    "\n",
    "workbook.save(filename = \"Prueba.xlsx\")"
   ]
  },
  {
   "cell_type": "code",
   "execution_count": null,
   "metadata": {},
   "outputs": [],
   "source": [
    "from dataclasses import dataclass\n",
    "from typing import List\n",
    "\n",
    "@dataclass\n",
    "class Sale:\n",
    "    quantity: int\n",
    "\n",
    "@dataclass\n",
    "class Product:\n",
    "    id: str\n",
    "    name: str\n",
    "    sales: List[Sale]\n",
    "\n",
    "import random\n",
    "\n",
    "# Ignore these for now. You'll use them in a sec ;)\n",
    "from openpyxl import Workbook\n",
    "from openpyxl.chart import LineChart, Reference\n",
    "\n",
    "from db_classes import Product, Sale\n",
    "\n",
    "products = []\n",
    "\n",
    "# Let's create 5 products\n",
    "for idx in range(1, 6):\n",
    "    sales = []\n",
    "\n",
    "    # Create 5 months of sales\n",
    "    for _ in range(5):\n",
    "        sale = Sale(quantity=random.randrange(5, 100))\n",
    "        sales.append(sale)\n",
    "\n",
    "    product = Product(id=str(idx),\n",
    "                      name=\"Product %s\" % idx,\n",
    "                      sales=sales)\n",
    "    products.append(product)\n",
    "\n"
   ]
  },
  {
   "cell_type": "markdown",
   "metadata": {},
   "source": [
    "# Working with DataFrame"
   ]
  },
  {
   "cell_type": "code",
   "execution_count": null,
   "metadata": {},
   "outputs": [],
   "source": [
    "import pandas as pd\n",
    "\n",
    "data = {\n",
    "    \"Product Name\": [\"Product 1\", \"Product 2\"],\n",
    "    \"Sales Month 1\": [10, 20],\n",
    "    \"Sales Month 2\": [5, 35]\n",
    "}\n",
    "df = pd.DataFrame(data)"
   ]
  },
  {
   "cell_type": "code",
   "execution_count": null,
   "metadata": {},
   "outputs": [],
   "source": [
    "from openpyxl import Workbook\n",
    "from openpyxl.utils.dataframe import dataframe_to_rows\n",
    "\n",
    "\n",
    "workbook = Workbook()\n",
    "sheet = workbook.active\n",
    "\n",
    "for row in dataframe_to_rows(df, index=False, header=True):\n",
    "    sheet.append(row)\n"
   ]
  },
  {
   "cell_type": "code",
   "execution_count": null,
   "metadata": {},
   "outputs": [
    {
     "name": "stdout",
     "output_type": "stream",
     "text": [
      "(<Cell 'Sheet'.A1>, <Cell 'Sheet'.B1>, <Cell 'Sheet'.C1>)\n",
      "(<Cell 'Sheet'.A2>, <Cell 'Sheet'.B2>, <Cell 'Sheet'.C2>)\n",
      "(<Cell 'Sheet'.A3>, <Cell 'Sheet'.B3>, <Cell 'Sheet'.C3>)\n"
     ]
    }
   ],
   "source": [
    "from openpyxl.utils.dataframe import dataframe_to_rows\n",
    "from openpyxl.styles import PatternFill, Border, Side, Font, Alignment\n",
    "\n",
    "tipo_letra_azul_oscuro = Font(bold= True, size='11',color= '00003366')\n",
    "tipo_letra_negro = Font(bold= False, size=\"11\",color= \"00000000\")\n",
    "    \n",
    "for row in sheet.iter_rows():\n",
    "    print(row)"
   ]
  },
  {
   "cell_type": "code",
   "execution_count": null,
   "metadata": {},
   "outputs": [],
   "source": [
    "workbook.save(\"panda.xlsx\")"
   ]
  },
  {
   "cell_type": "markdown",
   "metadata": {},
   "source": [
    "# Practicing"
   ]
  },
  {
   "cell_type": "markdown",
   "metadata": {},
   "source": [
    "## padas a tabla manual"
   ]
  },
  {
   "cell_type": "code",
   "execution_count": null,
   "metadata": {},
   "outputs": [],
   "source": [
    "import openpyxl\n",
    "import string \n",
    "from openpyxl.styles import PatternFill, Border, Side, Font, Alignment\n",
    "\n",
    "def apply(wb: openpyxl.Workbook) -> openpyxl.Workbook:\n",
    "    ws = wb[wb.sheetnames[0]]\n",
    "    ws.sheet_view.showGridLines = False\n",
    "    ws.sheet_view.zoomScale = 85\n",
    "\n",
    "    for column in [i for i in string.ascii_uppercase]:\n",
    "        ws.column_dimensions[column].width = 17\n",
    "        \n",
    "    #Fuente\n",
    "    tipo_letra_azul_oscuro = Font(bold= True, size='11',color= '00003366')\n",
    "\n",
    "    #Centra la Fuente\n",
    "    alinear_fuente = Alignment(horizontal= \"center\", vertical= \"center\")\n",
    "\n",
    "    \"\"\"color de celda\"\"\"\n",
    "    relleno_rojo = PatternFill(\n",
    "                            start_color= \"FF0A0A\",\n",
    "                            end_color= \"0033CCCC\",\n",
    "                            fill_type= \"solid\"\n",
    "                            )\n",
    "    relleno_celeste_oscuro = PatternFill(\n",
    "                            start_color= \"0033CCCC\",\n",
    "                            end_color= \"0033CCCC\",\n",
    "                            fill_type= \"solid\"\n",
    "                            )\n",
    "    #itera la priemra fila\n",
    "    for cell in ws[1]:\n",
    "        cell.fill = relleno_celeste_oscuro\n",
    "        cell.font = tipo_letra_azul_oscuro\n",
    "\n",
    "\n",
    "    #itera el contenido de la tabla\n",
    "    for row in ws.iter_rows(min_row=2, max_row=ws.max_row, min_col=1, max_col=7):\n",
    "        for cell in row:\n",
    "            cell.fill = relleno_rojo\n",
    "            cell.font = tipo_letra_azul_oscuro\n",
    "            cell.alignment = alinear_fuente\n",
    "\n"
   ]
  },
  {
   "cell_type": "code",
   "execution_count": null,
   "metadata": {},
   "outputs": [
    {
     "data": {
      "text/plain": [
       "(6, 5, 1, 1)"
      ]
     },
     "execution_count": 187,
     "metadata": {},
     "output_type": "execute_result"
    }
   ],
   "source": [
    "ws.max_column, ws.max_row, ws.min_column, ws.min_row\n",
    "# for row in ws.iter_rows('A{}:A{}'.format(ws.min_row,ws.max_row)):\n",
    "#     pass"
   ]
  },
  {
   "cell_type": "code",
   "execution_count": null,
   "metadata": {},
   "outputs": [],
   "source": [
    "import pandas as pd\n",
    "\n",
    "data = {\n",
    "    \"Product Name\": [\"Product 1\", \"Product 2\", \"Product 3\", \"Product 4\"],\n",
    "    \"Sales Month 1\": [10, 20, 10, 20],\n",
    "    \"Sales Month 2\": [5, 35, 10, 20],\n",
    "    \"Sales Month 3\": [10, 20, 10, 20],\n",
    "    \"Sales Month 4\": [5, 35, 10, 20],\n",
    "    \"Sales Month 5\": [10, 20, 10, 20],\n",
    "    \"Sales Month 6\": [5, 35, 10, 20],\n",
    "}\n",
    "df = pd.DataFrame(data)"
   ]
  },
  {
   "cell_type": "code",
   "execution_count": null,
   "metadata": {},
   "outputs": [
    {
     "ename": "NameError",
     "evalue": "name 'apply' is not defined",
     "output_type": "error",
     "traceback": [
      "\u001b[1;31m---------------------------------------------------------------------------\u001b[0m",
      "\u001b[1;31mNameError\u001b[0m                                 Traceback (most recent call last)",
      "\u001b[1;32m<ipython-input-2-e97ba3442de3>\u001b[0m in \u001b[0;36m<module>\u001b[1;34m\u001b[0m\n\u001b[0;32m      8\u001b[0m     \u001b[0msheet\u001b[0m\u001b[1;33m.\u001b[0m\u001b[0mappend\u001b[0m\u001b[1;33m(\u001b[0m\u001b[0mrow\u001b[0m\u001b[1;33m)\u001b[0m\u001b[1;33m\u001b[0m\u001b[1;33m\u001b[0m\u001b[0m\n\u001b[0;32m      9\u001b[0m \u001b[1;33m\u001b[0m\u001b[0m\n\u001b[1;32m---> 10\u001b[1;33m \u001b[0mapply\u001b[0m\u001b[1;33m(\u001b[0m\u001b[0mworkbook\u001b[0m\u001b[1;33m)\u001b[0m\u001b[1;33m\u001b[0m\u001b[1;33m\u001b[0m\u001b[0m\n\u001b[0m\u001b[0;32m     11\u001b[0m \u001b[0mworkbook\u001b[0m\u001b[1;33m.\u001b[0m\u001b[0msave\u001b[0m\u001b[1;33m(\u001b[0m\u001b[1;34m\"pandas16.xlsx\"\u001b[0m\u001b[1;33m)\u001b[0m\u001b[1;33m\u001b[0m\u001b[1;33m\u001b[0m\u001b[0m\n",
      "\u001b[1;31mNameError\u001b[0m: name 'apply' is not defined"
     ]
    }
   ],
   "source": [
    "from openpyxl import Workbook\n",
    "from openpyxl.utils.dataframe import dataframe_to_rows\n",
    "\n",
    "workbook = Workbook()\n",
    "sheet = workbook.active\n",
    "\n",
    "for row in dataframe_to_rows(df, index=False, header=True):\n",
    "    sheet.append(row)\n",
    "\n",
    "apply(workbook)\n",
    "workbook.save(\"pandas16.xlsx\")"
   ]
  },
  {
   "cell_type": "code",
   "execution_count": null,
   "metadata": {},
   "outputs": [],
   "source": []
  },
  {
   "cell_type": "code",
   "execution_count": null,
   "metadata": {},
   "outputs": [],
   "source": []
  },
  {
   "cell_type": "markdown",
   "metadata": {},
   "source": [
    "## de pandas a tabla pivot de excel"
   ]
  },
  {
   "cell_type": "code",
   "execution_count": 2,
   "metadata": {},
   "outputs": [],
   "source": [
    "\n",
    "from openpyxl import Workbook\n",
    "from openpyxl.worksheet.table import Table, TableStyleInfo\n",
    "from openpyxl.utils.dataframe import dataframe_to_rows\n",
    "from openpyxl.styles import Font, Alignment, Border, Side, PatternFill\n",
    "import pandas as pd\n",
    "import string\n",
    "import numpy\n",
    "\n",
    "# Creando el libro de excel\n",
    "wb = Workbook()\n",
    "ws = wb.create_sheet('pandas', index = 0)\n",
    "\n",
    "#Propiedades\n",
    "ws.sheet_view.showGridLines = False\n",
    "ws.sheet_view.zoomScale = 85\n",
    "\n",
    "for column in [\"A\",\"B\",\"C\",\"D\",\"E\",\"F\"]:\n",
    "    ws.column_dimensions[column].width = 17\n",
    "\n",
    "data = {\n",
    "    \"Product Name\": [\"ID\", \"Product 0\", \"Product 1\", \"Product 2\", \"Product 3\", \n",
    "                    \"Product 4\",\"Product 5\", \"Product 6\", \"Product 7\", \n",
    "                    \"Product 8\", \"Product 9\", \"Product 10\"],\n",
    "    \"Sales Month 1\": [30, 30, 30, 30, 20, 20, 20, 20, 20, 10, 10, 10],\n",
    "    \"Sales Month 2\": [30, 30, 5, 5, 35, 10, 30, 30, 5, 5, 35, 10],\n",
    "    \"Sales Month 3\": [30,30, 5, 10, 20, 10, 30, 30, 5, 5, 35, 10],\n",
    "    \"Sales Month 4\": [30, 30, 5, 5, 35, 10, 30, 30, 5, 5, 35, 10],\n",
    "    \"Calificación\": ['0', '0', '1', '1', '1', '1', '1', '1', '2', '2', '2', '2'],\n",
    "    \"Sales Month 6\": [ 20 , 30, 5, 5, 35, 10, 30, 30, 5, 5, 35, 10],\n",
    "}\n",
    "\n",
    "df = pd.DataFrame(data)\n",
    "df = df.set_index(df.columns[0])\n",
    "\n",
    "\"\"\"introduciendo los datos\"\"\"\n",
    "for row in dataframe_to_rows(df, index = False, header=True):\n",
    "    ws.append(row)\n",
    "\n",
    "\n",
    "\"\"\"creando la tabla\"\"\"\n",
    "#creando matriz de toda la tabla con datos\n",
    "#obtener el la celda inicial y el final\n",
    "table = []\n",
    "for row in ws.iter_rows(min_row=ws.min_row, max_row=ws.max_row, min_col=ws.min_column, max_col=ws.max_column):\n",
    "    for cell in row:\n",
    "       table.append(cell.coordinate)\n",
    "datos = numpy.array(table).reshape(ws.max_row, ws.max_column)\n",
    "Rango_total = datos[0,0] + ':' + datos[-1,-1]\n",
    "\n",
    "#introduciendo los datos\n",
    "tab = Table(displayName=\"Table1\", ref= Rango_total)\n",
    "estilo_tabla = TableStyleInfo(name=\"TableStyleMedium13\", showFirstColumn=False,\n",
    "                       showLastColumn=False, showRowStripes=False, showColumnStripes=False)\n",
    "tab.tableStyleInfo = estilo_tabla\n",
    "ws.add_table(tab)\n",
    "\n",
    "\"\"\"Aplicando estilos\"\"\"\n",
    "#Fuente\n",
    "fuente_letra_azul_oscuro = Font(bold= True, size='11',color= '00003366')\n",
    "\n",
    "#Alineamiento\n",
    "alinear_centro = Alignment(horizontal = 'center', vertical = 'center')\n",
    "\n",
    "#borde\n",
    "borde_2_lados_derecha_Izquierda = Border(\n",
    "                        left=Side(style='thin'),  \n",
    "                        right=Side(style='thin'), \n",
    "                        top=Side(style=None), \n",
    "                        bottom=Side(style=None)\n",
    "                        )\n",
    "borde_1_lado_abajo = Border(\n",
    "                        left=Side(style='thin'),  \n",
    "                        right=Side(style='thin'), \n",
    "                        top=Side(style=None), \n",
    "                        bottom=Side(style='thin')\n",
    "                        )\n",
    "\n",
    "\"\"\"Estilo del contenido\"\"\"\n",
    "for row in ws.iter_rows(min_row=2, max_row=ws.max_row, min_col=1, max_col=ws.max_column):\n",
    "    for cell in row:\n",
    "        cell.font = fuente_letra_azul_oscuro \n",
    "#       cell.fill = relleno_gris_claro       \n",
    "        cell.alignment = alinear_centro\n",
    "        cell.border = borde_2_lados_derecha_Izquierda\n",
    "\n",
    "\"\"\"Creando los bordes para cada piso\"\"\" \n",
    "columna = []\n",
    "for row in ws.iter_rows(min_row=ws.min_row + 1, max_row=ws.max_row, min_col=ws.min_column, max_col=ws.min_column):\n",
    "    for cell in row:\n",
    "        columna.append(cell.value)\n",
    "\n",
    "conjunto = list(set(columna))[::-1]\n",
    "numero_filas = [columna.count(i) for i in conjunto]\n",
    "a = numpy.cumsum(numero_filas)\n",
    "for i in a:\n",
    "    celda = i + 1\n",
    "    for cell in ws[f\"{celda}\"]:\n",
    "        cell.border = borde_1_lado_abajo\n",
    "\n",
    "\"\"\"exportando la libro \"\"\"\n",
    "wb.save(\"pandas38.xlsx\")\n"
   ]
  },
  {
   "cell_type": "code",
   "execution_count": 8,
   "metadata": {},
   "outputs": [
    {
     "name": "stdout",
     "output_type": "stream",
     "text": [
      "A\n",
      "B\n",
      "C\n",
      "D\n",
      "E\n",
      "F\n"
     ]
    }
   ],
   "source": [
    "for cell in ws[1]:\n",
    "    print(cell.column_letter)"
   ]
  },
  {
   "cell_type": "code",
   "execution_count": 19,
   "metadata": {},
   "outputs": [
    {
     "data": {
      "text/plain": [
       "array([[<Cell 'pandas'.A1>, <Cell 'pandas'.B1>, <Cell 'pandas'.C1>,\n",
       "        <Cell 'pandas'.D1>, <Cell 'pandas'.E1>, <Cell 'pandas'.F1>],\n",
       "       [<Cell 'pandas'.A2>, <Cell 'pandas'.B2>, <Cell 'pandas'.C2>,\n",
       "        <Cell 'pandas'.D2>, <Cell 'pandas'.E2>, <Cell 'pandas'.F2>],\n",
       "       [<Cell 'pandas'.A3>, <Cell 'pandas'.B3>, <Cell 'pandas'.C3>,\n",
       "        <Cell 'pandas'.D3>, <Cell 'pandas'.E3>, <Cell 'pandas'.F3>],\n",
       "       [<Cell 'pandas'.A4>, <Cell 'pandas'.B4>, <Cell 'pandas'.C4>,\n",
       "        <Cell 'pandas'.D4>, <Cell 'pandas'.E4>, <Cell 'pandas'.F4>],\n",
       "       [<Cell 'pandas'.A5>, <Cell 'pandas'.B5>, <Cell 'pandas'.C5>,\n",
       "        <Cell 'pandas'.D5>, <Cell 'pandas'.E5>, <Cell 'pandas'.F5>],\n",
       "       [<Cell 'pandas'.A6>, <Cell 'pandas'.B6>, <Cell 'pandas'.C6>,\n",
       "        <Cell 'pandas'.D6>, <Cell 'pandas'.E6>, <Cell 'pandas'.F6>],\n",
       "       [<Cell 'pandas'.A7>, <Cell 'pandas'.B7>, <Cell 'pandas'.C7>,\n",
       "        <Cell 'pandas'.D7>, <Cell 'pandas'.E7>, <Cell 'pandas'.F7>],\n",
       "       [<Cell 'pandas'.A8>, <Cell 'pandas'.B8>, <Cell 'pandas'.C8>,\n",
       "        <Cell 'pandas'.D8>, <Cell 'pandas'.E8>, <Cell 'pandas'.F8>],\n",
       "       [<Cell 'pandas'.A9>, <Cell 'pandas'.B9>, <Cell 'pandas'.C9>,\n",
       "        <Cell 'pandas'.D9>, <Cell 'pandas'.E9>, <Cell 'pandas'.F9>],\n",
       "       [<Cell 'pandas'.A10>, <Cell 'pandas'.B10>, <Cell 'pandas'.C10>,\n",
       "        <Cell 'pandas'.D10>, <Cell 'pandas'.E10>, <Cell 'pandas'.F10>],\n",
       "       [<Cell 'pandas'.A11>, <Cell 'pandas'.B11>, <Cell 'pandas'.C11>,\n",
       "        <Cell 'pandas'.D11>, <Cell 'pandas'.E11>, <Cell 'pandas'.F11>],\n",
       "       [<Cell 'pandas'.A12>, <Cell 'pandas'.B12>, <Cell 'pandas'.C12>,\n",
       "        <Cell 'pandas'.D12>, <Cell 'pandas'.E12>, <Cell 'pandas'.F12>],\n",
       "       [<Cell 'pandas'.A13>, <Cell 'pandas'.B13>, <Cell 'pandas'.C13>,\n",
       "        <Cell 'pandas'.D13>, <Cell 'pandas'.E13>, <Cell 'pandas'.F13>]],\n",
       "      dtype=object)"
      ]
     },
     "execution_count": 19,
     "metadata": {},
     "output_type": "execute_result"
    }
   ],
   "source": [
    "table = []\n",
    "for row in ws.iter_rows(\n",
    "                                    min_row=ws.min_row, \n",
    "                                    max_row=ws.max_row, \n",
    "                                    min_col=ws.min_column, \n",
    "                                    max_col=ws.max_column):\n",
    "    for cell in row:\n",
    "        table.append(cell)\n",
    "\n",
    "datos = numpy.array(table).reshape(ws.max_row, ws.max_column)\n",
    "datos"
   ]
  },
  {
   "cell_type": "code",
   "execution_count": 58,
   "metadata": {},
   "outputs": [],
   "source": [
    "\"\"\"pintar de color las filas\"\"\"\n",
    "relleno_azul_categoria_1 = PatternFill(\n",
    "                        start_color= '64F5DA',\n",
    "                        end_color= '64F5DA',\n",
    "                        fill_type= 'solid'\n",
    "                        )\n",
    "relleno_azul_categoria_2 = PatternFill(\n",
    "                        start_color= '55C6D6',\n",
    "                        end_color= '55C6D6',\n",
    "                        fill_type= 'solid'\n",
    "                        )\n",
    "relleno_azul_categoria_3 = PatternFill(\n",
    "                        start_color= '4787B7',\n",
    "                        end_color= '4787B7',\n",
    "                        fill_type= 'solid'\n",
    "                        )\n",
    "relleno_azul_categoria_4 = PatternFill(\n",
    "                        start_color= '395297',\n",
    "                        end_color= '395297',\n",
    "                        fill_type= 'solid'\n",
    "                        )\n",
    "relleno_azul_categoria_5 = PatternFill(\n",
    "                        start_color= '2F2C76',\n",
    "                        end_color= '2F2C76',\n",
    "                        fill_type= 'solid'\n",
    "                        )\n",
    "\n",
    "table = []\n",
    "for row in ws.iter_rows(min_row=ws.min_row, max_row=ws.max_row, min_col=ws.min_column, max_col=ws.max_column):\n",
    "    for cell in row:\n",
    "       table.append(cell)\n",
    "datos = numpy.array(table).reshape(ws.max_row, ws.max_column)\n",
    "\n",
    "\n",
    "for cell in ws[ws.min_row]:\n",
    "    if cell.value == 'Calificación':\n",
    "        for backbone_index in datos[1:,cell.column-1]:\n",
    "            valor = int(backbone_index.value)\n",
    "            if valor == 1:   \n",
    "                for _cell in ws[backbone_index.row]:\n",
    "                    _cell.fill = relleno_azul_categoria_1\n",
    "            if valor == 2:   \n",
    "                for _cell in ws[backbone_index.row]:\n",
    "                    _cell.fill = relleno_azul_categoria_2\n",
    "            if valor == 3:   \n",
    "                for _cell in ws[backbone_index.row]:\n",
    "                    _cell.fill = relleno_azul_categoria_3\n",
    "            if valor == 4:   \n",
    "                for _cell in ws[backbone_index.row]:\n",
    "                    _cell.fill = relleno_azul_categoria_4\n",
    "            if valor == 5:   \n",
    "                for _cell in ws[backbone_index.row]:\n",
    "                    _cell.fill = relleno_azul_categoria_5\n",
    "            else:\n",
    "                next\n",
    "    else:\n",
    "        next\n",
    "        "
   ]
  },
  {
   "cell_type": "code",
   "execution_count": 59,
   "metadata": {},
   "outputs": [],
   "source": [
    "\"\"\"insertar comentario en los encabezados\"\"\"\n",
    "from openpyxl.comments import Comment\n",
    "comment = Comment(\"este es un mensaje que estoy haciendo, asi que es prueba\", \"columna 1\")\n",
    "comment.width = 150\n",
    "comment.height = 50\n",
    "ws[\"A1\"].comment = comment\n",
    "ws[\"B1\"].comment = comment\n",
    "ws[\"C1\"].comment = comment\n",
    "ws[\"D1\"].comment = comment\n",
    "ws[\"E1\"].comment = comment\n",
    "\n",
    "\n",
    "ws.protection.sheet = True\n",
    "\n",
    "wb.save('pandas37.xlsx')\n"
   ]
  },
  {
   "cell_type": "code",
   "execution_count": 60,
   "metadata": {},
   "outputs": [],
   "source": [
    "\"\"\"border by Calificacion\"\"\"\n",
    "borde_1_lado_abajo_grueso = Border(\n",
    "                        left=Side(style='thin'),  \n",
    "                        right=Side(style='thin'), \n",
    "                        top=Side(style=None), \n",
    "                        bottom=Side(style='medium')\n",
    "                        )\n",
    "\n",
    "table = []\n",
    "for row in ws.iter_rows(min_row=ws.min_row, max_row=ws.max_row, min_col=ws.min_column, max_col=ws.max_column):\n",
    "    for cell in row:\n",
    "       table.append(cell)\n",
    "datos = numpy.array(table).reshape(ws.max_row, ws.max_column)\n",
    "datos\n",
    "\n",
    "columna = []\n",
    "for cell in ws[ws.min_row]:\n",
    "    if cell.value == 'Calificación':\n",
    "        for backbone_index in datos[1:,cell.column-1]:\n",
    "            valor = int(backbone_index.value)\n",
    "            columna.append(valor)\n",
    "    else:\n",
    "        next\n",
    "\n",
    "conjunto = list(set(columna))[::-1]\n",
    "numero_filas = [columna.count(i) for i in conjunto]\n",
    "a = numpy.cumsum(numero_filas)\n",
    "\n",
    "for i in a:\n",
    "    celda = i + 1\n",
    "    for cell in ws[f\"{celda}\"]:\n",
    "        cell.border = borde_1_lado_abajo_grueso\n",
    "\n",
    "\n",
    "\n",
    "\n",
    "\n",
    "\"\"\"exportando la libro \"\"\"\n",
    "wb.save(\"pandas41.xlsx\")\n"
   ]
  },
  {
   "cell_type": "code",
   "execution_count": 55,
   "metadata": {},
   "outputs": [],
   "source": [
    "from openpyxl import Workbook\n",
    "from openpyxl.comments import Comment\n",
    "from openpyxl.utils import units\n",
    "wb = Workbook()\n",
    "ws = wb.active\n",
    "# comment = ws[\"A1\"].comment\n",
    "# comment = Comment('This is the comment text', 'Comment Author')\n",
    "\n",
    "comment = Comment(\"este es un mensaje que estoy haciendo, asi que es prueba\", \"columna 1\")\n",
    "comment.width = 300\n",
    "comment.height = 50\n",
    "ws[\"A1\"].comment = comment\n",
    "ws[\"B2\"].comment = comment\n",
    "\n",
    "# comment = Comment(\"Text\", \"Author\")\n",
    "# comment.width = 300\n",
    "# comment.height = 50\n",
    "\n",
    "# ws[\"A1\"].comment = comment\n",
    "\n",
    "# comment = Comment(\"Text\", \"Author\")\n",
    "# comment.width = units.points_to_pixels(300)\n",
    "# comment.height = units.points_to_pixels(50)\n",
    "# ws[\"C1\"].comment = comment\n",
    "\n",
    "wb.save('pandas37.xlsx')"
   ]
  }
 ],
 "metadata": {
  "interpreter": {
   "hash": "1e915f0a29dc84041eaeb02b7b1a21c440e37a87b61d44d5e84a515737dc82bc"
  },
  "kernelspec": {
   "display_name": "Python 3.8.8 64-bit ('base': conda)",
   "name": "python3"
  },
  "language_info": {
   "codemirror_mode": {
    "name": "ipython",
    "version": 3
   },
   "file_extension": ".py",
   "mimetype": "text/x-python",
   "name": "python",
   "nbconvert_exporter": "python",
   "pygments_lexer": "ipython3",
   "version": "3.8.8"
  },
  "orig_nbformat": 4
 },
 "nbformat": 4,
 "nbformat_minor": 2
}
