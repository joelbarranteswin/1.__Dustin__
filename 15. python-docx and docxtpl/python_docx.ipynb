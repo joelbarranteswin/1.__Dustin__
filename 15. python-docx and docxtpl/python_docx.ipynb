{
 "cells": [
  {
   "cell_type": "markdown",
   "metadata": {},
   "source": [
    "# Using Library python-docx"
   ]
  },
  {
   "cell_type": "code",
   "execution_count": 108,
   "metadata": {},
   "outputs": [],
   "source": [
    "from docx import Document\n",
    "document = Document()"
   ]
  },
  {
   "cell_type": "code",
   "execution_count": 103,
   "metadata": {},
   "outputs": [
    {
     "data": {
      "text/plain": [
       "<docx.text.run.Run at 0x27ea03b15b0>"
      ]
     },
     "execution_count": 103,
     "metadata": {},
     "output_type": "execute_result"
    }
   ],
   "source": [
    "document.add_heading('The REAL meaning of the universe')\n",
    "document.add_heading('The role of dolphins', level=2)\n",
    "\n",
    "# Creating a paragraph\n",
    "\n",
    "paragraph = document.add_paragraph('Normal text, ')\n",
    "paragraph.add_run('text with emphasis.', 'Emphasis')\n",
    "\n",
    "part_1 = 'Contrary to popular belief, Lorem Ipsum is not simply random text. It has roots in a piece of classical Latin literature from 45 BC, making it over 2000 years old. Richard McClintock, a Latin professor at Hampden-Sydney College in Virginia, looked up one of the more obscure Latin words, consectetur, from a Lorem Ipsum passage, and going through the cites of the word in classical literature, discovered the undoubtable source. Lorem Ipsum comes from sections 1.10.32 and 1.10.33 of \"de Finibus Bonorum et Malorum\" (The Extremes of Good and Evil) by Cicero, written in 45 BC. This book is a treatise on the theory of ethics, very popular during the Renaissance. The first line of Lorem Ipsum, \"Lorem ipsum dolor sit amet..\", comes from a line in section 1.10.32.'\n",
    "\n",
    "# subtitle = document.add_paragraph('Where does it come from?', style='ListBullet')\n",
    "# subtitle.bold = True\n",
    "\n",
    "paragraph = document.add_paragraph(part_1, style='ListBullet')\n",
    "\n",
    "# prior_paragraph = paragraph.insert_paragraph_before('Where does it come from?')\n",
    "# prior_paragraph.style = 'List Bullet'\n",
    "# prior_paragraph.bold = True\n",
    "\n",
    "\n",
    "\n",
    "document.add_page_break()\n",
    "\n",
    "\n",
    "\n",
    "items = {\n",
    "    'qty': (7, '1024', 'Plush kittens'),\n",
    "    'sku':(3, '2042', 'Furbees'),\n",
    "    'desc':(1, '1288', 'French Poodle Collars, Deluxe'),\n",
    "}\n",
    "# add table ------------------\n",
    "table = document.add_table(1, 3)\n",
    "\n",
    "# populate header row --------\n",
    "heading_cells = table.rows[0].cells\n",
    "heading_cells[0].text = 'Qty'\n",
    "heading_cells[1].text = 'SKU'\n",
    "heading_cells[2].text = 'Description'\n",
    "\n",
    "# add a data row for each item\n",
    "for item in items:\n",
    "    cells = table.add_row().cells\n",
    "    cells[0].text = str(items['qty'])\n",
    "    cells[1].text = str(items['sku'])\n",
    "    cells[2].text = str(items['desc'])\n",
    "\n",
    "table.style = 'LightShading-Accent1'\n",
    "\n",
    "# adding picture\n",
    "from docx.shared import Inches\n",
    "\n",
    "document.add_picture('Placeholders/Placeholder_1.png', \n",
    "                        width=Inches(1.0))\n",
    "\n",
    "\n",
    "paragraph = document.add_paragraph()\n",
    "paragraph.add_run('Lorem ipsum ')\n",
    "paragraph.add_run('dolor').bold = True\n",
    "paragraph.add_run(' sit amet.')"
   ]
  },
  {
   "cell_type": "code",
   "execution_count": 104,
   "metadata": {},
   "outputs": [],
   "source": [
    "document.save('report_1.docx')"
   ]
  },
  {
   "cell_type": "code",
   "execution_count": 107,
   "metadata": {},
   "outputs": [],
   "source": [
    "from docxtpl import DocxTemplate"
   ]
  },
  {
   "cell_type": "code",
   "execution_count": 109,
   "metadata": {},
   "outputs": [],
   "source": [
    "import docx\n",
    "import pandas as pd\n",
    "\n",
    "# pandas data frame\n",
    "data = {\n",
    "  \"calories\": [420, 380, 390],\n",
    "  \"duration\": [50, 40, 45],\n",
    "  \"duration\": [50, 40, 45],\n",
    "  \"duration\": [50, 40, 45]\n",
    "}\n",
    "df = pd.DataFrame(data)\n",
    "\n",
    "# open an existing document\n",
    "doc = docx.Document('./report_1.docx')\n",
    "\n",
    "# add a table to the end and create a reference variable\n",
    "# extra row is so we can add the header row\n",
    "table = doc.add_table(df.shape[0]+1, df.shape[1])\n",
    "\n",
    "# add the header rows.\n",
    "for j in range(df.shape[-1]):\n",
    "    table.cell(0,j).text = df.columns[j]\n",
    "\n",
    "# add the rest of the data frame\n",
    "for i in range(df.shape[0]):\n",
    "    for j in range(df.shape[-1]):\n",
    "        table.cell(i+1,j).text = str(df.values[i,j])\n",
    "\n",
    "# save the doc\n",
    "doc.save('./report_2.docx')"
   ]
  },
  {
   "cell_type": "code",
   "execution_count": 115,
   "metadata": {},
   "outputs": [],
   "source": [
    "from docx import Document\n",
    "import pandas as pd\n",
    "\n",
    "def df_to_word(data: dict, report_name:str) -> docx.Document:\n",
    "    assert type(data) == dict, 'data has to be dict'\n",
    "    assert '.docx' in report_name, 'report_name has to be a .docx file'\n",
    "    df = pd.DataFrame(data)\n",
    "    doc = docx.Document()\n",
    "\n",
    "    table = doc.add_table(df.shape[0]+1, df.shape[1])\n",
    "\n",
    "    for j in range(df.shape[-1]):\n",
    "        table.cell(0,j).text = df.columns[j]\n",
    "\n",
    "    for i in range(df.shape[0]):\n",
    "        for j in range(df.shape[-1]):\n",
    "            table.cell(i+1,j).text = str(df.values[i,j])\n",
    "\n",
    "    doc.save(f'./{report_name}')\n",
    "\n",
    "\n",
    "data = {\n",
    "  \"calorierbes\": [420, 380, 390],\n",
    "  \"duratierbn\": [50, 40, 45],\n",
    "  \"durationverg\": [50, 40, 45],\n",
    "  \"duratiorgern\": [50, 40, 45],\n",
    "  \"calorieers\": [420, 380, 390],\n",
    "  \"calorierbers\": [420, 380, 390],\n",
    "  \"calorierbes\": [420, 380, 390]\n",
    "}\n",
    "df_to_word(data, 'report_4.docx')"
   ]
  },
  {
   "cell_type": "code",
   "execution_count": 110,
   "metadata": {},
   "outputs": [],
   "source": [
    "\n",
    "\n",
    "def doctable(data, tabletitle, pathfile):\n",
    "    from docx import Document\n",
    "    from docx.shared import Pt, Mm\n",
    "    import pandas as pd\n",
    "    document = Document()\n",
    "    section = document.sections[0]\n",
    "    section.page_height = Mm(297)\n",
    "    section.page_width = Mm(210)\n",
    "    section.left_margin = Mm(20)\n",
    "    section.right_margin = Mm(20)\n",
    "    section.top_margin = Mm(20)\n",
    "    section.bottom_margin = Mm(20)\n",
    "    section.header_distance = Mm(12.7)\n",
    "    section.footer_distance = Mm(12.7)\n",
    "    data = pd.DataFrame(data) # My input data is in the 2D list form\n",
    "    document.add_heading(tabletitle)\n",
    "    table = document.add_table(rows=(data.shape[0]), cols=data.shape[1]) # First row are table headers!\n",
    "    table.allow_autofit = True\n",
    "    table.autofit = True\n",
    "    for i, column in enumerate(data) :\n",
    "        for row in range(data.shape[0]) :\n",
    "            table.cell(row, i).text = str(data[column][row])\n",
    "    document.save(pathfile)\n",
    "\n",
    "data = {\n",
    "  \"calorierbes\": [420, 380, 390],\n",
    "  \"duratierbn\": [50, 40, 45],\n",
    "  \"durationverg\": [50, 40, 45],\n",
    "  \"duratiorgern\": [50, 40, 45],\n",
    "  \"calorieers\": [420, 380, 390],\n",
    "  \"calorierbers\": [420, 380, 390],\n",
    "  \"calorierbes\": [420, 380, 390]\n",
    "}\n",
    "  \n",
    "doctable(data, 'My Table', './report_3.docx')   "
   ]
  },
  {
   "cell_type": "markdown",
   "metadata": {},
   "source": [
    "# Using Library docxtpl"
   ]
  },
  {
   "cell_type": "code",
   "execution_count": 105,
   "metadata": {},
   "outputs": [],
   "source": [
    "import os\n",
    "import sys\n",
    "from docxtpl import DocxTemplate, InlineImage\n",
    "from docx.shared import Cm, Inches, Mm, Emu\n",
    "\n",
    "os.chdir(sys.path[0])\n",
    "\n",
    "doc = DocxTemplate('template.docx')\n",
    "\n",
    "placeholder_1 = InlineImage(doc, 'Placeholders/Placeholder_1.png', Cm(5))\n",
    "placeholder_2 = InlineImage(doc, 'Placeholders/Placeholder_2.png', Cm(5))\n",
    "\n",
    "# #se usa para la sustitucion\n",
    "context = {\n",
    "    'name': 'Joel',\n",
    "    'placeholder_1': placeholder_1,\n",
    "    'placeholder_2': placeholder_2\n",
    "}\n",
    "\n",
    "# don't recognize the image inside the archive\n",
    "# doc.replace_pic('placeholder_1', 'src/image_1.jpg')\n",
    "# doc.replace_pic('placeholder_2', 'src/image_2.jpg')\n",
    "\n",
    "# doc.render(context)\n",
    "doc.save('template_output.docx')"
   ]
  },
  {
   "cell_type": "markdown",
   "metadata": {},
   "source": [
    "# Using Library Pypandoc"
   ]
  },
  {
   "cell_type": "code",
   "execution_count": 1,
   "metadata": {},
   "outputs": [],
   "source": [
    "import pypandoc\n",
    "import docx\n",
    "\n",
    "def making_a_doc_function(request):\n",
    "    doc = docx.Document()\n",
    "    doc.add_heading(\"MY DOCUMENT\")\n",
    "    doc.save('thisisdoc.docx')\n",
    "    pypandoc.convert_file('thisisdoc.docx', 'docx', outputfile=\"thisisdoc.pdf\")     \n",
    "    # pdf = open('thisisdoc.pdf', 'rb')\n",
    "    # response = FileResponse(pdf) "
   ]
  },
  {
   "cell_type": "markdown",
   "metadata": {},
   "source": [
    "# Using Library docxpdf"
   ]
  },
  {
   "cell_type": "code",
   "execution_count": 3,
   "metadata": {},
   "outputs": [
    {
     "name": "stderr",
     "output_type": "stream",
     "text": [
      "100%|██████████| 1/1 [00:03<00:00,  3.88s/it]\n"
     ]
    }
   ],
   "source": [
    "from docx2pdf import convert\n",
    "\n",
    "convert(input_path=r\"C:\\Users\\joel_\\OneDrive\\Documentos\\GitHub\\1.__Dustin__\\15. python-docx\\report_3.docx\", \n",
    "        output_path=r\"C:\\Users\\joel_\\OneDrive\\Documentos\\GitHub\\1.__Dustin__\\15. python-docx\\report_3.pdf\")\n",
    "\n"
   ]
  },
  {
   "cell_type": "markdown",
   "metadata": {},
   "source": [
    "# Using Library Win32 "
   ]
  },
  {
   "cell_type": "code",
   "execution_count": 4,
   "metadata": {},
   "outputs": [],
   "source": [
    "import win32com.client as win32  \n",
    "def convert_to_pdf(doc):\n",
    "    \"\"\"Convert given word document to pdf\"\"\"\n",
    "    word = win32.DispatchEx(\"Word.Application\")\n",
    "    new_name = doc.replace(\".docx\", r\".pdf\")\n",
    "    worddoc = word.Documents.Open(doc)\n",
    "    worddoc.SaveAs(new_name, FileFormat=17)\n",
    "    worddoc.Close()\n",
    "    return None\n",
    "\n",
    "path_to_word_document = os.path.join(os.getcwd(), 'report_1.docx')\n",
    "convert_to_pdf(path_to_word_document)"
   ]
  }
 ],
 "metadata": {
  "interpreter": {
   "hash": "54a92224f8fada1adbdfafe6950f4c1b437ee82e5d7a440b66bb330b54b2fa61"
  },
  "kernelspec": {
   "display_name": "Python 3.9.6 64-bit ('.venv': venv)",
   "language": "python",
   "name": "python3"
  },
  "language_info": {
   "codemirror_mode": {
    "name": "ipython",
    "version": 3
   },
   "file_extension": ".py",
   "mimetype": "text/x-python",
   "name": "python",
   "nbconvert_exporter": "python",
   "pygments_lexer": "ipython3",
   "version": "3.9.6"
  },
  "orig_nbformat": 4
 },
 "nbformat": 4,
 "nbformat_minor": 2
}
