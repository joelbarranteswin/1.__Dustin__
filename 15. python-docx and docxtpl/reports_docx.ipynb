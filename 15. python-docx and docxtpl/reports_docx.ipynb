{
 "cells": [
  {
   "cell_type": "markdown",
   "metadata": {},
   "source": [
    "# Creating reports FO, CATV and SMATV"
   ]
  },
  {
   "cell_type": "code",
   "execution_count": 17,
   "metadata": {},
   "outputs": [],
   "source": [
    "import os\n",
    "\n",
    "import docx\n",
    "import docxtpl\n",
    "import pandas as pd\n",
    "import win32com.client as win32\n",
    "from docxtpl import DocxTemplate, InlineImage\n"
   ]
  },
  {
   "cell_type": "code",
   "execution_count": 9,
   "metadata": {},
   "outputs": [
    {
     "data": {
      "text/html": [
       "<div>\n",
       "<style scoped>\n",
       "    .dataframe tbody tr th:only-of-type {\n",
       "        vertical-align: middle;\n",
       "    }\n",
       "\n",
       "    .dataframe tbody tr th {\n",
       "        vertical-align: top;\n",
       "    }\n",
       "\n",
       "    .dataframe thead th {\n",
       "        text-align: right;\n",
       "    }\n",
       "</style>\n",
       "<table border=\"1\" class=\"dataframe\">\n",
       "  <thead>\n",
       "    <tr style=\"text-align: right;\">\n",
       "      <th></th>\n",
       "      <th>level_id</th>\n",
       "      <th>unit_id</th>\n",
       "      <th>cables_setup</th>\n",
       "      <th>total_unit_attenuation</th>\n",
       "    </tr>\n",
       "  </thead>\n",
       "  <tbody>\n",
       "    <tr>\n",
       "      <th>35</th>\n",
       "      <td>5</td>\n",
       "      <td>505A</td>\n",
       "      <td>2:1</td>\n",
       "      <td>0.72664</td>\n",
       "    </tr>\n",
       "    <tr>\n",
       "      <th>36</th>\n",
       "      <td>5</td>\n",
       "      <td>506A</td>\n",
       "      <td>2:1</td>\n",
       "      <td>0.72224</td>\n",
       "    </tr>\n",
       "    <tr>\n",
       "      <th>37</th>\n",
       "      <td>5</td>\n",
       "      <td>507A</td>\n",
       "      <td>2:1</td>\n",
       "      <td>0.72104</td>\n",
       "    </tr>\n",
       "    <tr>\n",
       "      <th>38</th>\n",
       "      <td>5</td>\n",
       "      <td>508A</td>\n",
       "      <td>2:1</td>\n",
       "      <td>0.71984</td>\n",
       "    </tr>\n",
       "    <tr>\n",
       "      <th>39</th>\n",
       "      <td>5</td>\n",
       "      <td>509A</td>\n",
       "      <td>2:1</td>\n",
       "      <td>0.72344</td>\n",
       "    </tr>\n",
       "  </tbody>\n",
       "</table>\n",
       "</div>"
      ],
      "text/plain": [
       "    level_id unit_id cables_setup  total_unit_attenuation\n",
       "35         5    505A          2:1                 0.72664\n",
       "36         5    506A          2:1                 0.72224\n",
       "37         5    507A          2:1                 0.72104\n",
       "38         5    508A          2:1                 0.71984\n",
       "39         5    509A          2:1                 0.72344"
      ]
     },
     "execution_count": 9,
     "metadata": {},
     "output_type": "execute_result"
    }
   ],
   "source": [
    "df = pd.read_excel(\"./src/report_PROYECTO_PASEO_WALKER_A_fo_2021-09-29_07-31-43.xlsx\", sheet_name=\"fo-op\")\n",
    "df_2 = df[[\n",
    "    \"level_id\", \"unit_id\",\n",
    "    \"cables_setup\",\n",
    "    \"total_unit_attenuation\"\n",
    "]]\n",
    "df_2.tail()"
   ]
  },
  {
   "cell_type": "code",
   "execution_count": 10,
   "metadata": {},
   "outputs": [
    {
     "data": {
      "text/plain": [
       "(40, 4)"
      ]
     },
     "execution_count": 10,
     "metadata": {},
     "output_type": "execute_result"
    }
   ],
   "source": [
    "df_2.shape"
   ]
  },
  {
   "cell_type": "code",
   "execution_count": 11,
   "metadata": {},
   "outputs": [],
   "source": [
    "def apply_convertion_from_dataframe_to_word(df: pd.DataFrame, report_name:str) -> docx.Document:\n",
    "    assert '.docx' in report_name, 'report_name has to be a .docx file'\n",
    "    doc = docx.Document()\n",
    "    # Add a Title to the document\n",
    "    doc.add_heading('Report FO', 0)\n",
    "\n",
    "    table = doc.add_table(df.shape[0]+1, df.shape[1]) #41,4\n",
    "    # table.style = \"Light Grid Accent 4\"\n",
    "    # table.style = \"Light List\" \n",
    "    table.style = \"Light List Accent 1\"\n",
    "    # table.style = \"Medium Shading 1 Accent 1\"\n",
    "\n",
    "    for j in range(df.shape[-1]):\n",
    "        table.cell(0,j).text = df.columns[j]\n",
    "\n",
    "    for i in range(df.shape[0]):\n",
    "        for j in range(df.shape[-1]):\n",
    "            table.cell(i+1,j).text = str(df.values[i,j])\n",
    "\n",
    "    doc.save(f'./{report_name}')"
   ]
  },
  {
   "cell_type": "code",
   "execution_count": 12,
   "metadata": {},
   "outputs": [],
   "source": [
    "def apply_convertion_from_dataframe_to_word_template(df: pd.DataFrame, report_name:str) -> docx.Document:\n",
    "    assert '.docx' in report_name, 'report_name has to be a .docx file'\n",
    "    doc = DocxTemplate('report_template.docx')\n",
    "\n",
    "    # Add a Title to the document\n",
    "    doc.add_heading('Darit -> Report FO ', 0)\n",
    "\n",
    "    table = doc.add_table(df.shape[0]+1, df.shape[1]) #41,4\n",
    "    # table.style = \"Light Grid Accent 4\"\n",
    "    # table.style = \"Light List\" \n",
    "    table.style = \"Light List Accent 1\"\n",
    "    # table.style = \"Medium Shading 1 Accent 1\"\n",
    "\n",
    "    for j in range(df.shape[-1]):\n",
    "        table.cell(0,j).text = df.columns[j]\n",
    "\n",
    "    for i in range(df.shape[0]):\n",
    "        for j in range(df.shape[-1]):\n",
    "            table.cell(i+1,j).text = str(df.values[i,j])\n",
    "\n",
    "    doc.save(f'./{report_name}')"
   ]
  },
  {
   "cell_type": "code",
   "execution_count": 13,
   "metadata": {},
   "outputs": [],
   "source": [
    "\n",
    "def apply_conversion_from_word_to_pdf(input_path: str, output_path: str=None) -> None:\n",
    "    if output_path is None:\n",
    "        word = win32.DispatchEx(\"Word.Application\")\n",
    "        output = input_path.replace(\".docx\", r\".pdf\")\n",
    "        worddoc = word.Documents.Open(input_path)\n",
    "        worddoc.SaveAs(output, FileFormat=17)\n",
    "        worddoc.Close()\n",
    "\n",
    "apply_conversion_from_word_to_pdf(\n",
    "    r'C:\\Users\\joel_\\OneDrive\\Documentos\\GitHub\\1.__Dustin__\\15. python-docx and docxtpl\\report_4.docx')\n",
    "\n"
   ]
  },
  {
   "cell_type": "code",
   "execution_count": 15,
   "metadata": {},
   "outputs": [],
   "source": [
    "report_name = 'report_1.docx'\n",
    "apply_convertion_from_dataframe_to_word(df_2, 'report_1.docx')\n",
    "path_to_word_document = os.path.join(os.getcwd(),\n",
    "                                     'report_1.docx')\n",
    "apply_conversion_from_word_to_pdf(path_to_word_document)\n"
   ]
  }
 ],
 "metadata": {
  "interpreter": {
   "hash": "54a92224f8fada1adbdfafe6950f4c1b437ee82e5d7a440b66bb330b54b2fa61"
  },
  "kernelspec": {
   "display_name": "Python 3.9.6 64-bit ('.venv': venv)",
   "language": "python",
   "name": "python3"
  },
  "language_info": {
   "codemirror_mode": {
    "name": "ipython",
    "version": 3
   },
   "file_extension": ".py",
   "mimetype": "text/x-python",
   "name": "python",
   "nbconvert_exporter": "python",
   "pygments_lexer": "ipython3",
   "version": "3.9.6"
  },
  "orig_nbformat": 4
 },
 "nbformat": 4,
 "nbformat_minor": 2
}
