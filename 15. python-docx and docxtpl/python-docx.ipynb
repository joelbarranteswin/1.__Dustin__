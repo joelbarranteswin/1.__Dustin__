{
 "cells": [
  {
   "cell_type": "markdown",
   "metadata": {},
   "source": [
    "# Working with Documents – Python .docx Module"
   ]
  },
  {
   "cell_type": "markdown",
   "metadata": {},
   "source": [
    "### Example 1: Opening a new document."
   ]
  },
  {
   "cell_type": "code",
   "execution_count": null,
   "metadata": {},
   "outputs": [],
   "source": [
    "# Import docx NOT python-docx\n",
    "import docx\n",
    "\n",
    "# Create an instance of a word document\n",
    "doc = docx.Document()\n",
    "\n",
    "# Now save the document to a location\n",
    "doc.save('docx_01.docx')\n"
   ]
  },
  {
   "cell_type": "markdown",
   "metadata": {},
   "source": [
    "### Example 2: Opening a previously created document and again saving it with a different name."
   ]
  },
  {
   "cell_type": "code",
   "execution_count": 29,
   "metadata": {},
   "outputs": [
    {
     "ename": "TypeError",
     "evalue": "save() missing 1 required positional argument: 'path_or_stream'",
     "output_type": "error",
     "traceback": [
      "\u001b[1;31m---------------------------------------------------------------------------\u001b[0m",
      "\u001b[1;31mTypeError\u001b[0m                                 Traceback (most recent call last)",
      "\u001b[1;32m~\\AppData\\Local\\Temp/ipykernel_18656/1020767589.py\u001b[0m in \u001b[0;36m<module>\u001b[1;34m\u001b[0m\n\u001b[0;32m      6\u001b[0m \u001b[1;33m\u001b[0m\u001b[0m\n\u001b[0;32m      7\u001b[0m \u001b[1;31m# Now save the document to a location\u001b[0m\u001b[1;33m\u001b[0m\u001b[1;33m\u001b[0m\u001b[1;33m\u001b[0m\u001b[0m\n\u001b[1;32m----> 8\u001b[1;33m \u001b[0mdoc\u001b[0m\u001b[1;33m.\u001b[0m\u001b[0msave\u001b[0m\u001b[1;33m(\u001b[0m\u001b[1;33m)\u001b[0m\u001b[1;33m\u001b[0m\u001b[1;33m\u001b[0m\u001b[0m\n\u001b[0m",
      "\u001b[1;31mTypeError\u001b[0m: save() missing 1 required positional argument: 'path_or_stream'"
     ]
    }
   ],
   "source": [
    "# Import docx NOT python-docx\n",
    "import docx\n",
    "  \n",
    "# Opening a previously created document\n",
    "doc = docx.Document('gfg.docx')\n",
    "  \n",
    "# Now save the document to a location \n",
    "doc.save('docx_02.docx')"
   ]
  },
  {
   "cell_type": "markdown",
   "metadata": {},
   "source": [
    "# Working with Titles and Heading – Python docx Module"
   ]
  },
  {
   "cell_type": "code",
   "execution_count": 14,
   "metadata": {},
   "outputs": [],
   "source": [
    "# Import docx NOT python-docx\n",
    "import docx\n",
    "  \n",
    "# Create an instance of a word document\n",
    "doc = docx.Document()\n",
    "  \n",
    "# Add a heading of level 0 (Also called Title)\n",
    "doc.add_heading('Title for the document', 0)\n",
    "  \n",
    "# Add a heading of level 1\n",
    "doc.add_heading('Heading level 1', 1)\n",
    "  \n",
    "# Add a heading of level 2\n",
    "doc.add_heading('Heading level 2', 2)\n",
    "  \n",
    "# Add a heading of level 3\n",
    "doc.add_heading('Heading level 3', 3)\n",
    "  \n",
    "# Add a heading of level 4\n",
    "doc.add_heading('Heading level 4', 4)\n",
    "  \n",
    "# Add a heading of level 5\n",
    "doc.add_heading('Heading level 5', 5)\n",
    "  \n",
    "# Add a heading of level 6\n",
    "doc.add_heading('Heading level 6', 6)\n",
    "  \n",
    "# Add a heading of level 7\n",
    "doc.add_heading('Heading level 7', 7)\n",
    "  \n",
    "# Add a heading of level 8\n",
    "doc.add_heading('Heading level 8', 8)\n",
    "  \n",
    "# Add a heading of level 9\n",
    "doc.add_heading('Heading level 9', 9)\n",
    "  \n",
    "# Now save the document to a location\n",
    "doc.save('docx_01.docx')"
   ]
  },
  {
   "cell_type": "markdown",
   "metadata": {},
   "source": [
    "# Working with Lists – Python .docx Module"
   ]
  },
  {
   "cell_type": "code",
   "execution_count": 17,
   "metadata": {},
   "outputs": [],
   "source": [
    "# Example 1: Adding an ordered list in the Word document.\n",
    "\n",
    "# Import docx NOT python-docx\n",
    "import docx\n",
    "  \n",
    "# Create an instance of a word document\n",
    "doc = docx.Document()\n",
    "  \n",
    "# Add a Title to the document \n",
    "doc.add_heading('GeeksForGeeks', 0)\n",
    "  \n",
    "# Adding list of style name 'List Number'\n",
    "doc.add_heading('Style: List Number', 3)\n",
    "# Adding points to the list named 'List Number'\n",
    "doc.add_paragraph('The first item in an ordered list.',\n",
    "                  style='List Number')\n",
    "  \n",
    "doc.add_paragraph('The second item in an ordered list.', \n",
    "                  style='List Number')\n",
    "  \n",
    "doc.add_paragraph('The third item in an ordered list.', \n",
    "                  style='List Number')\n",
    "  \n",
    "# Adding list of style name 'List Number 2'\n",
    "doc.add_heading('Style: List Number 2', 3)\n",
    "# Adding points to the list named 'List Number 2'\n",
    "doc.add_paragraph('The first item in an ordered list.',\n",
    "                  style='List Number 2')\n",
    "  \n",
    "doc.add_paragraph('The second item in an ordered list.',\n",
    "                  style='List Number 2')\n",
    "  \n",
    "doc.add_paragraph('The third item in an ordered list.', \n",
    "                  style='List Number 2')\n",
    "  \n",
    "# Adding list of style name 'List Number 3'\n",
    "doc.add_heading('Style: List Number 3', 3)\n",
    "# Adding points to the list named 'List Number 3'\n",
    "doc.add_paragraph('The first item in an ordered list.',\n",
    "                  style='List Number 3')\n",
    "  \n",
    "doc.add_paragraph('The second item in an ordered list.',\n",
    "                  style='List Number 3')\n",
    "  \n",
    "doc.add_paragraph('The third item in an ordered list.',\n",
    "                  style='List Number 3')\n",
    "  \n",
    "# Now save the document to a location \n",
    "doc.save('docx_02.docx')"
   ]
  },
  {
   "cell_type": "code",
   "execution_count": 18,
   "metadata": {},
   "outputs": [],
   "source": [
    "# Example 2: Adding an unordered list in the Word document.\n",
    "\n",
    "# Import docx NOT python-docx\n",
    "import docx\n",
    "  \n",
    "# Create an instance of a word document\n",
    "doc = docx.Document()\n",
    "  \n",
    "# Add a Title to the document \n",
    "doc.add_heading('GeeksForGeeks', 0)\n",
    "  \n",
    "# Adding list of style name 'List Bullet'\n",
    "doc.add_heading('Style: List Bullet', 3)\n",
    "# Adding points to the list named 'List Number'\n",
    "doc.add_paragraph('The first item in an unordered list.', \n",
    "                  style='List Bullet')\n",
    "  \n",
    "doc.add_paragraph('The second item in an unordered list.',\n",
    "                  style='List Bullet')\n",
    "  \n",
    "doc.add_paragraph('The third item in an unordered list.',\n",
    "                  style='List Bullet')\n",
    "  \n",
    "# Adding list of style name 'List Bullet 2'\n",
    "doc.add_heading('Style: List Bullet 2', 3)\n",
    "# Adding points to the list named 'List Number'\n",
    "doc.add_paragraph('The first item in an unordered list.',\n",
    "                  style='List Bullet 2')\n",
    "  \n",
    "doc.add_paragraph('The second item in an unordered list.',\n",
    "                  style='List Bullet 2')\n",
    "  \n",
    "doc.add_paragraph('The third item in an unordered list.', \n",
    "                  style='List Bullet 2')\n",
    "  \n",
    "# Adding list of style name 'List Bullet 3'\n",
    "doc.add_heading('Style: List Bullet 3', 3)\n",
    "# Adding points to the list named 'List Number'\n",
    "doc.add_paragraph('The first item in an unordered list.',\n",
    "                  style='List Bullet 3')\n",
    "  \n",
    "doc.add_paragraph('The second item in an unordered list.',\n",
    "                  style='List Bullet 3')\n",
    "  \n",
    "doc.add_paragraph('The third item in an unordered list.',\n",
    "                  style='List Bullet 3')\n",
    "  \n",
    "# Now save the document to a location \n",
    "doc.save('docx_03.docx')"
   ]
  },
  {
   "cell_type": "markdown",
   "metadata": {},
   "source": [
    "# Working With Text In Python .docx Module"
   ]
  },
  {
   "cell_type": "markdown",
   "metadata": {},
   "source": [
    "### Example 1: Setting the font size of the text in a paragraph."
   ]
  },
  {
   "cell_type": "code",
   "execution_count": 19,
   "metadata": {},
   "outputs": [],
   "source": [
    "# Import docx NOT python-docx\n",
    "import docx\n",
    "from docx.shared import Pt\n",
    "  \n",
    "# Create an instance of a word document\n",
    "doc = docx.Document()\n",
    "  \n",
    "# Add a Title to the document \n",
    "doc.add_heading('GeeksForGeeks', 0)\n",
    "  \n",
    "# Adding paragraph with Increased font size\n",
    "doc.add_heading('Increased Font Size Paragraph:', 3)\n",
    "para = doc.add_paragraph().add_run(\n",
    "    'GeeksforGeeks is a Computer Science portal for geeks.')\n",
    "# Increasing size of the font\n",
    "para.font.size = Pt(12)\n",
    "  \n",
    "# Adding paragraph with normal font size\n",
    "doc.add_heading('Normal Font Size Paragraph:', 3)\n",
    "doc.add_paragraph(\n",
    "    'GeeksforGeeks is a Computer Science portal for geeks.')\n",
    "  \n",
    "# Now save the document to a location \n",
    "doc.save('docx_04.docx')"
   ]
  },
  {
   "cell_type": "markdown",
   "metadata": {},
   "source": [
    "### Example 2: Adding colour to the text in the paragraph."
   ]
  },
  {
   "cell_type": "code",
   "execution_count": 20,
   "metadata": {},
   "outputs": [],
   "source": [
    "# Import docx NOT python-docx\n",
    "import docx\n",
    "from docx.shared import RGBColor\n",
    "  \n",
    "# Create an instance of a word document\n",
    "doc = docx.Document()\n",
    "  \n",
    "# Add a Title to the document \n",
    "doc.add_heading('GeeksForGeeks', 0)\n",
    "  \n",
    "# Adding paragraph \n",
    "doc.add_heading('Font Colour:', 3)\n",
    "para = doc.add_paragraph().add_run(\n",
    "    'GeeksforGeeks is a Computer Science portal for geeks.')\n",
    "  \n",
    "# Adding forest green colour to the text\n",
    "# RGBColor(R, G, B)\n",
    "para.font.color.rgb = RGBColor(0x22, 0x8b, 0x22)\n",
    "  \n",
    "# Now save the document to a location \n",
    "doc.save('docx_05.docx')"
   ]
  },
  {
   "cell_type": "markdown",
   "metadata": {},
   "source": [
    "### Example 3: Setting a new font name for a paragraph."
   ]
  },
  {
   "cell_type": "code",
   "execution_count": 21,
   "metadata": {},
   "outputs": [],
   "source": [
    "# Import docx NOT python-docx\n",
    "import docx\n",
    "  \n",
    "# Create an instance of a word document\n",
    "doc = docx.Document()\n",
    "  \n",
    "# Add a Title to the document \n",
    "doc.add_heading('GeeksForGeeks', 0)\n",
    "  \n",
    "# Adding paragraph with new font Style\n",
    "doc.add_heading('Font Style: Roboto', 3)\n",
    "para = doc.add_paragraph().add_run(\n",
    "    'GeeksforGeeks is a Computer Science portal for geeks.')\n",
    "# Setting new font style\n",
    "para.font.name = 'Roboto'\n",
    "  \n",
    "# Adding paragraph with default font Style\n",
    "doc.add_heading('Font Style: Default [Cambria]', 3)\n",
    "doc.add_paragraph(\n",
    "    'GeeksforGeeks is a Computer Science portal for geeks.')\n",
    "  \n",
    "# Now save the document to a location \n",
    "doc.save('docx_06.docx')"
   ]
  },
  {
   "cell_type": "markdown",
   "metadata": {},
   "source": [
    "### Example 1: Applying bold to a complete paragraph."
   ]
  },
  {
   "cell_type": "code",
   "execution_count": 22,
   "metadata": {},
   "outputs": [],
   "source": [
    "# Import docx NOT python-docx\n",
    "import docx\n",
    "\n",
    "# Create an instance of a word document\n",
    "doc = docx.Document()\n",
    "\n",
    "# Add a Title to the document\n",
    "doc.add_heading('GeeksForGeeks', 0)\n",
    "\n",
    "# Creating paragraph\n",
    "para = doc.add_paragraph()\n",
    "\n",
    "# Adding content to paragraph\n",
    "bold_para = para.add_run(\n",
    "\t'''GeeksforGeeks is a Computer Science portal for geeks. It contains well written, well thought and well-explained computer science and programming articles, quizzes etc.''')\n",
    "\n",
    "# Setting bold to true\n",
    "bold_para.bold = True\n",
    "\n",
    "# Now save the document to a location\n",
    "doc.save('docx_07.docx')\n"
   ]
  },
  {
   "cell_type": "markdown",
   "metadata": {},
   "source": [
    "### Example 2: Applying bold to a specific word or phrase."
   ]
  },
  {
   "cell_type": "code",
   "execution_count": 24,
   "metadata": {},
   "outputs": [],
   "source": [
    "# Import docx NOT python-docx\n",
    "import docx\n",
    "\n",
    "# Create an instance of a word document\n",
    "doc = docx.Document()\n",
    "\n",
    "# Add a Title to the document\n",
    "doc.add_heading('GeeksForGeeks', 0)\n",
    "\n",
    "# Creating paragraph with some content\n",
    "para = doc.add_paragraph(\n",
    "\t'''GeeksforGeeks is a Computer Science portal for geeks.''')\n",
    "\n",
    "# Adding more content to paragraph and Setting bold to true\n",
    "para.add_run(\n",
    "\t''' It contains well written, well thought and well-explained ''').bold = True\n",
    "\n",
    "# Adding more content to paragraph\n",
    "para.add_run('''computer science and programming articles, quizzes etc.''')\n",
    "\n",
    "# Now save the document to a location\n",
    "doc.save('docx_08.docx')\n"
   ]
  },
  {
   "cell_type": "markdown",
   "metadata": {},
   "source": [
    "### Example 3: Applying italics to a complete paragraph."
   ]
  },
  {
   "cell_type": "code",
   "execution_count": 25,
   "metadata": {},
   "outputs": [],
   "source": [
    "# Import docx NOT python-docx\n",
    "import docx\n",
    "\n",
    "# Create an instance of a word document\n",
    "doc = docx.Document()\n",
    "\n",
    "# Add a Title to the document\n",
    "doc.add_heading('GeeksForGeeks', 0)\n",
    "\n",
    "# Creating paragraph\n",
    "para = doc.add_paragraph()\n",
    "\n",
    "# Adding content to paragraph\n",
    "italic_para = para.add_run(\n",
    "\t'''GeeksforGeeks is a Computer Science portal for geeks. It contains well written, well thought and well-explained computer science and programming articles, quizzes etc.''')\n",
    "\n",
    "# Applying italics to true\n",
    "italic_para.italic = True\n",
    "\n",
    "# Now save the document to a location\n",
    "doc.save('docx_09.docx')\n"
   ]
  },
  {
   "cell_type": "markdown",
   "metadata": {},
   "source": [
    "### Example 4: Applying italics to a specific word or phrase."
   ]
  },
  {
   "cell_type": "code",
   "execution_count": 26,
   "metadata": {},
   "outputs": [],
   "source": [
    "# Import docx NOT python-docx\n",
    "import docx\n",
    "  \n",
    "# Create an instance of a word document\n",
    "doc = docx.Document()\n",
    "  \n",
    "# Add a Title to the document\n",
    "doc.add_heading('GeeksForGeeks', 0)\n",
    "  \n",
    "# Creating paragraph with some content\n",
    "para = doc.add_paragraph(\n",
    "    '''GeeksforGeeks is a Computer Science portal for geeks.''')\n",
    "  \n",
    "# Adding more content to paragraph and applying italics to true\n",
    "para.add_run(\n",
    "    ''' It contains well written, well thought and well-explained ''').italic = True\n",
    "  \n",
    "# Adding more content to paragraph\n",
    "para.add_run('''computer science and programming articles, quizzes etc.''')\n",
    "  \n",
    "# Now save the document to a location\n",
    "doc.save('docx_10.docx')"
   ]
  },
  {
   "cell_type": "markdown",
   "metadata": {},
   "source": [
    "### Example 5: Applying underline to a complete paragraph."
   ]
  },
  {
   "cell_type": "code",
   "execution_count": 27,
   "metadata": {},
   "outputs": [],
   "source": [
    "# Import docx NOT python-docx\n",
    "import docx\n",
    "\n",
    "# Create an instance of a word document\n",
    "doc = docx.Document()\n",
    "\n",
    "# Add a Title to the document\n",
    "doc.add_heading('GeeksForGeeks', 0)\n",
    "\n",
    "# Creating paragraph\n",
    "para = doc.add_paragraph()\n",
    "\n",
    "# Adding content to paragraph\n",
    "underline_para = para.add_run(\n",
    "\t'''GeeksforGeeks is a Computer Science portal for geeks. It contains well written, well thought and well-explained computer science and programming articles, quizzes etc.''')\n",
    "\n",
    "# Applying undeline to true\n",
    "underline_para.underline = True\n",
    "\n",
    "# Now save the document to a location\n",
    "doc.save('docx_11.docx')\n"
   ]
  },
  {
   "cell_type": "markdown",
   "metadata": {},
   "source": [
    "# Example 6: Applying underline to a specific word or phrase."
   ]
  },
  {
   "cell_type": "code",
   "execution_count": 28,
   "metadata": {},
   "outputs": [],
   "source": [
    "# Import docx NOT python-docx\n",
    "import docx\n",
    "\n",
    "# Create an instance of a word document\n",
    "doc = docx.Document()\n",
    "\n",
    "# Add a Title to the document\n",
    "doc.add_heading('GeeksForGeeks', 0)\n",
    "\n",
    "# Creating paragraph with some content\n",
    "para = doc.add_paragraph(\n",
    "\t'''GeeksforGeeks is a Computer Science portal for geeks.''')\n",
    "\n",
    "# Adding more content to paragraph and applying underline to them\n",
    "para.add_run(\n",
    "\t''' It contains well written, well thought and well-explained ''').underline = True\n",
    "\n",
    "# Adding more content to paragraph\n",
    "para.add_run('''computer science and programming articles, quizzes etc.''')\n",
    "\n",
    "# Now save the document to a location\n",
    "doc.save('docx_12.docx')\n"
   ]
  },
  {
   "cell_type": "markdown",
   "metadata": {},
   "source": [
    "# Working with Headers And Footers in Python .docx Module"
   ]
  },
  {
   "cell_type": "markdown",
   "metadata": {},
   "source": [
    "## Simple Header"
   ]
  },
  {
   "cell_type": "code",
   "execution_count": 10,
   "metadata": {},
   "outputs": [],
   "source": [
    "# Example 1: Adding a header in the Word document.\n",
    "\n",
    "# Import docx NOT python-docx\n",
    "import docx\n",
    " \n",
    "# Create an instance of a word document\n",
    "doc = docx.Document()\n",
    " \n",
    "# Choosing the top most section of the page\n",
    "section = doc.sections[0]\n",
    " \n",
    "# Calling the header\n",
    "header = section.header\n",
    " \n",
    "# Calling the paragraph already present in\n",
    "# the header section\n",
    "header_para = header.paragraphs[0]\n",
    " \n",
    "# Adding text in the header\n",
    "header_para.text = \"This is a header...\"\n",
    " \n",
    "# Add a Title to the document\n",
    "doc.add_heading('GeeksForGeeks', 0)\n",
    " \n",
    "# Now save the document to a location\n",
    "doc.save('docx_01.docx')"
   ]
  },
  {
   "cell_type": "code",
   "execution_count": 3,
   "metadata": {},
   "outputs": [],
   "source": [
    "# Import docx NOT python-docx\n",
    "import docx\n",
    " \n",
    "# Create an instance of a word document\n",
    "doc = docx.Document()\n",
    " \n",
    "# Choosing the top most section of the page\n",
    "section = doc.sections[0]\n",
    " \n",
    "# Selecting the header\n",
    "header = section.header\n",
    " \n",
    "# Selecting the paragraph already present in\n",
    "# the header section\n",
    "header_para = header.paragraphs[0]\n",
    " \n",
    "# Adding the left zoned header\n",
    "header_para.text = \"This is Left Zoned Header...\"\n",
    " \n",
    "# Add a Title to the document\n",
    "doc.add_heading('GeeksForGeeks', 0)\n",
    " \n",
    "# Now save the document to a location\n",
    "doc.save('docx_02.docx')"
   ]
  },
  {
   "cell_type": "code",
   "execution_count": 7,
   "metadata": {},
   "outputs": [],
   "source": [
    "#Example 3: Adding a centered zoned header to a Word document.\n",
    "\n",
    "# Import docx NOT python-docx\n",
    "import docx\n",
    " \n",
    "# Create an instance of a word document\n",
    "doc = docx.Document()\n",
    " \n",
    "# Choosing the top most section of the page\n",
    "section = doc.sections[0]\n",
    " \n",
    "# Selecting the header\n",
    "header = section.header\n",
    " \n",
    "# Selecting the paragraph already present in\n",
    "# the header section\n",
    "header_para = header.paragraphs[0]\n",
    " \n",
    "# Adding the centred zoned header\n",
    "header_para.text = \"\\tThis is Centred Zoned Header...\"\n",
    " \n",
    "# Add a Title to the document\n",
    "doc.add_heading('GeeksForGeeks', 0)\n",
    " \n",
    "# Now save the document to a location\n",
    "doc.save('docx_03.docx')"
   ]
  },
  {
   "cell_type": "code",
   "execution_count": 8,
   "metadata": {},
   "outputs": [],
   "source": [
    "# Example 4: Adding a right zoned header to a Word document.\n",
    "\n",
    "# Import docx NOT python-docx\n",
    "import docx\n",
    " \n",
    "# Create an instance of a word document\n",
    "doc = docx.Document()\n",
    " \n",
    "# Choosing the top most section of the page\n",
    "section = doc.sections[0]\n",
    " \n",
    "# Selecting the header\n",
    "header = section.header\n",
    " \n",
    "# Selecting the paragraph already present in\n",
    "# the header section\n",
    "header_para = header.paragraphs[0]\n",
    " \n",
    "# Adding the right zoned header\n",
    "header_para.text = \"\\t\\tThis is Right Zoned Header...\"\n",
    " \n",
    "# Add a Title to the document\n",
    "doc.add_heading('GeeksForGeeks', 0)\n",
    " \n",
    "# Now save the document to a location\n",
    "doc.save('docx_04.docx')"
   ]
  },
  {
   "cell_type": "markdown",
   "metadata": {},
   "source": [
    "## Simple Footer"
   ]
  },
  {
   "cell_type": "code",
   "execution_count": 11,
   "metadata": {},
   "outputs": [],
   "source": [
    "import docx\n",
    " \n",
    "# Create an instance of a word document\n",
    "doc = docx.Document()\n",
    " \n",
    "# Choosing the top most section of the page\n",
    "section = doc.sections[0]\n",
    " \n",
    "# Calling the footer\n",
    "footer = section.footer\n",
    " \n",
    "# Calling the paragraph already present in\n",
    "# the footer section\n",
    "footer_para = footer.paragraphs[0]\n",
    " \n",
    "# Adding text in the footer\n",
    "footer_para.text = \"This is a footer...\"\n",
    " \n",
    "# Add a Title to the document\n",
    "doc.add_heading('GeeksForGeeks', 0)\n",
    " \n",
    "# Now save the document to a location\n",
    "doc.save('docx_05.docx')"
   ]
  },
  {
   "cell_type": "code",
   "execution_count": 12,
   "metadata": {},
   "outputs": [],
   "source": [
    "# Example 3: Adding a center zoned footer to a Word document.\n",
    "\n",
    "# Import docx NOT python-docx\n",
    "import docx\n",
    " \n",
    "# Create an instance of a word document\n",
    "doc = docx.Document()\n",
    " \n",
    "# Choosing the top most section of the page\n",
    "section = doc.sections[0]\n",
    " \n",
    "# Calling the footer\n",
    "footer = section.footer\n",
    " \n",
    "# Calling the paragraph already present in\n",
    "# the footer section\n",
    "footer_para = footer.paragraphs[0]\n",
    " \n",
    "# Adding the centered zoned footer\n",
    "footer_para.text = \"\\tThis is the centered zoned footer...\"\n",
    " \n",
    "# Add a Title to the document\n",
    "doc.add_heading('GeeksForGeeks', 0)\n",
    " \n",
    "# Now save the document to a location\n",
    "doc.save('docx_06.docx')"
   ]
  },
  {
   "cell_type": "code",
   "execution_count": 13,
   "metadata": {},
   "outputs": [],
   "source": [
    "## Example 4: Adding a right zoned footer to a Word document.\n",
    "\n",
    "# Import docx NOT python-docx\n",
    "import docx\n",
    " \n",
    "# Create an instance of a word document\n",
    "doc = docx.Document()\n",
    " \n",
    "# Choosing the top most section of the page\n",
    "section = doc.sections[0]\n",
    " \n",
    "# Calling the footer\n",
    "footer = section.footer\n",
    " \n",
    "# Calling the paragraph already present in\n",
    "# the footer section\n",
    "footer_para = footer.paragraphs[0]\n",
    " \n",
    "# Adding the right zoned footer\n",
    "footer_para.text = \"\\t\\tThis is the right zoned footer...\"\n",
    " \n",
    "# Add a Title to the document\n",
    "doc.add_heading('GeeksForGeeks', 0)\n",
    " \n",
    "# Now save the document to a location\n",
    "doc.save('docx_07.docx')"
   ]
  },
  {
   "cell_type": "markdown",
   "metadata": {},
   "source": [
    "# Working with Images – Python .docx Module"
   ]
  },
  {
   "cell_type": "markdown",
   "metadata": {},
   "source": [
    "### Example 1: Adding an image in native size in a word document."
   ]
  },
  {
   "cell_type": "code",
   "execution_count": 30,
   "metadata": {},
   "outputs": [],
   "source": [
    "# Import docx NOT python-docx\n",
    "import docx\n",
    "  \n",
    "# Create an instance of a word document\n",
    "doc = docx.Document()\n",
    "  \n",
    "# Add a Title to the document\n",
    "doc.add_heading('GeeksForGeeks', 0)\n",
    "  \n",
    "# Image in its native size\n",
    "doc.add_heading('Image in Native Size:', 3)\n",
    "doc.add_picture('./src/image_1.jpg')\n",
    "  \n",
    "# Now save the document to a location\n",
    "doc.save('docx_20.docx')"
   ]
  },
  {
   "cell_type": "markdown",
   "metadata": {},
   "source": [
    "### Example 2: Adding an image in a defined size in a word document."
   ]
  },
  {
   "cell_type": "code",
   "execution_count": 32,
   "metadata": {},
   "outputs": [],
   "source": [
    "# Import docx NOT python-docx\n",
    "import docx\n",
    "from docx.shared import Inches\n",
    "  \n",
    "# Create an instance of a word document\n",
    "doc = docx.Document()\n",
    "  \n",
    "# Add a Title to the document\n",
    "doc.add_heading('GeeksForGeeks', 0)\n",
    "  \n",
    "  \n",
    "# Image with defined size\n",
    "doc.add_heading('Image with Defined Size:', 3)\n",
    "doc.add_picture('./src/image_1.jpg', width=Inches(3), height=Inches(3))\n",
    "  \n",
    "# Now save the document to a location\n",
    "doc.save('docx_21.docx')"
   ]
  },
  {
   "cell_type": "code",
   "execution_count": 56,
   "metadata": {},
   "outputs": [],
   "source": [
    "# Import docx NOT python-docx\n",
    "import docx\n",
    "from docx.shared import Inches\n",
    "from PIL import Image\n",
    "  \n",
    "filename = Image.open(\"./src/image_1.jpg\")\n",
    "filename.size\n",
    "width=filename.size[0]*60/100*0.010416667\n",
    "height=filename.size[1]*60/100*0.010416667\n",
    "width, height, filename.size\n",
    "  \n",
    "# Create an instance of a word document\n",
    "doc = docx.Document()\n",
    "  \n",
    "# Add a Title to the document\n",
    "doc.add_heading('GeeksForGeeks', 0)\n",
    "  \n",
    "  \n",
    "# Image with defined size\n",
    "doc.add_heading('Image with Defined Size:', 3)\n",
    "doc.add_picture('./src/image_1.jpg', width=Inches(width), height=Inches(height))\n",
    "  \n",
    "# Now save the document to a location\n",
    "doc.save('docx_22.docx')"
   ]
  },
  {
   "cell_type": "markdown",
   "metadata": {},
   "source": [
    "# Working with Page Break – Python .docx Module"
   ]
  },
  {
   "cell_type": "code",
   "execution_count": 60,
   "metadata": {},
   "outputs": [],
   "source": [
    "# Import docx NOT python-docx\n",
    "import docx\n",
    "  \n",
    "# Create an instance of a word document\n",
    "doc = docx.Document()\n",
    "  \n",
    "# Add a Title to the document\n",
    "doc.add_heading('GeeksForGeeks', 0)\n",
    "  \n",
    "# Adding a paragraph\n",
    "doc.add_heading('Page 1:', 3)\n",
    "doc.add_paragraph('GeeksforGeeks is a Computer Science portal for geeks.')\n",
    "  \n",
    "# Adding a page break\n",
    "doc.add_page_break()\n",
    "  \n",
    "# Adding a paragraph\n",
    "doc.add_heading('Page 2:', 3)\n",
    "doc.add_paragraph('GeeksforGeeks is a Computer Science portal for geeks.')\n",
    "  \n",
    "# Now save the document to a location\n",
    "doc.save('docx_23.docx')"
   ]
  },
  {
   "cell_type": "markdown",
   "metadata": {},
   "source": [
    "# Working with Tables – Python .docx Module"
   ]
  },
  {
   "cell_type": "code",
   "execution_count": 61,
   "metadata": {},
   "outputs": [],
   "source": [
    "# Import docx NOT python-docx\n",
    "import docx\n",
    "  \n",
    "# Create an instance of a word document\n",
    "doc = docx.Document()\n",
    "  \n",
    "# Add a Title to the document\n",
    "doc.add_heading('GeeksForGeeks', 0)\n",
    "  \n",
    "# Table data in a form of list\n",
    "data = (\n",
    "    (1, 'Geek 1'),\n",
    "    (2, 'Geek 2'),\n",
    "    (3, 'Geek 3')\n",
    ")\n",
    "  \n",
    "# Creating a table object\n",
    "table = doc.add_table(rows=1, cols=2)\n",
    "  \n",
    "# Adding heading in the 1st row of the table\n",
    "row = table.rows[0].cells\n",
    "row[0].text = 'Id'\n",
    "row[1].text = 'Name'\n",
    "  \n",
    "# Adding data from the list to the table\n",
    "for id, name in data:\n",
    "  \n",
    "    # Adding a row and then adding data in it.\n",
    "    row = table.add_row().cells\n",
    "    # Converting id to string as table can only take string input\n",
    "    row[0].text = str(id)\n",
    "    row[1].text = name\n",
    "  \n",
    "# Now save the document to a location\n",
    "doc.save('docx_24.docx')"
   ]
  },
  {
   "cell_type": "markdown",
   "metadata": {},
   "source": [
    "### Example 2: Adding a table with style in a word document."
   ]
  },
  {
   "cell_type": "code",
   "execution_count": 62,
   "metadata": {},
   "outputs": [],
   "source": [
    "# Import docx NOT python-docx\n",
    "import docx\n",
    "\n",
    "# Create an instance of a word document\n",
    "doc = docx.Document()\n",
    "\n",
    "# Add a Title to the document\n",
    "doc.add_heading('GeeksForGeeks', 0)\n",
    "\n",
    "# Table data in a form of list\n",
    "data = (\n",
    "\t(1, 'Geek 1'),\n",
    "\t(2, 'Geek 2'),\n",
    "\t(3, 'Geek 3')\n",
    ")\n",
    "\n",
    "# Creating a table object\n",
    "table = doc.add_table(rows=1, cols=2)\n",
    "\n",
    "# Adding heading in the 1st row of the table\n",
    "row = table.rows[0].cells\n",
    "row[0].text = 'Id'\n",
    "row[1].text = 'Name'\n",
    "\n",
    "# Adding data from the list to the table\n",
    "for id, name in data:\n",
    "\n",
    "\t# Adding a row and then adding data in it.\n",
    "\trow = table.add_row().cells\n",
    "\trow[0].text = str(id)\n",
    "\trow[1].text = name\n",
    "\n",
    "# Adding style to a table\n",
    "table.style = 'Colorful List'\n",
    "\n",
    "# Now save the document to a location\n",
    "doc.save('docx_25.docx')\n"
   ]
  }
 ],
 "metadata": {
  "interpreter": {
   "hash": "54a92224f8fada1adbdfafe6950f4c1b437ee82e5d7a440b66bb330b54b2fa61"
  },
  "kernelspec": {
   "display_name": "Python 3.9.6 64-bit ('.venv': venv)",
   "language": "python",
   "name": "python3"
  },
  "language_info": {
   "codemirror_mode": {
    "name": "ipython",
    "version": 3
   },
   "file_extension": ".py",
   "mimetype": "text/x-python",
   "name": "python",
   "nbconvert_exporter": "python",
   "pygments_lexer": "ipython3",
   "version": "3.9.6"
  },
  "orig_nbformat": 4
 },
 "nbformat": 4,
 "nbformat_minor": 2
}
