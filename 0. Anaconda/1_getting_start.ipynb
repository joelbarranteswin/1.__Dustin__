{
 "cells": [
  {
   "cell_type": "markdown",
   "metadata": {},
   "source": [
    "# Anaconda Navigator\n",
    "Created by __J.B__    \n",
    "    "
   ]
  },
  {
   "cell_type": "markdown",
   "metadata": {},
   "source": [
    "## Commands to update\n",
    "1. conda update conda\n",
    "2. conda update anaconda\n",
    "3. conda update spyder\n",
    "\n",
    "## choose a version\n",
    "1. conda install spyder=5.0.0\n",
    "2. conda install spyder=4.0.1"
   ]
  },
  {
   "cell_type": "markdown",
   "metadata": {},
   "source": [
    "## Create an environment\n",
    "1. conda crate --name  ___myenv___\n",
    "2. conda create -n ___myenv___ python=3.4"
   ]
  },
  {
   "cell_type": "markdown",
   "metadata": {},
   "source": [
    "## Activate an environment and deactivate\n",
    "1. conda activate ___myenv___\n",
    "2. conda deactivate"
   ]
  },
  {
   "cell_type": "code",
   "execution_count": 1,
   "metadata": {},
   "outputs": [],
   "source": [
    "import pandas as pd \n",
    "import numpy as np\n",
    "import matplotlib.pyplot as plt"
   ]
  },
  {
   "cell_type": "code",
   "execution_count": 35,
   "metadata": {},
   "outputs": [
    {
     "data": {
      "text/html": [
       "<div>\n",
       "<style scoped>\n",
       "    .dataframe tbody tr th:only-of-type {\n",
       "        vertical-align: middle;\n",
       "    }\n",
       "\n",
       "    .dataframe tbody tr th {\n",
       "        vertical-align: top;\n",
       "    }\n",
       "\n",
       "    .dataframe thead th {\n",
       "        text-align: right;\n",
       "    }\n",
       "</style>\n",
       "<table border=\"1\" class=\"dataframe\">\n",
       "  <thead>\n",
       "    <tr style=\"text-align: right;\">\n",
       "      <th></th>\n",
       "      <th>sepal_length</th>\n",
       "      <th>sepal_width</th>\n",
       "      <th>petal_length</th>\n",
       "      <th>petal_width</th>\n",
       "      <th>species</th>\n",
       "    </tr>\n",
       "  </thead>\n",
       "  <tbody>\n",
       "    <tr>\n",
       "      <th>0</th>\n",
       "      <td>5.1</td>\n",
       "      <td>3.5</td>\n",
       "      <td>1.4</td>\n",
       "      <td>0.2</td>\n",
       "      <td>setosa</td>\n",
       "    </tr>\n",
       "    <tr>\n",
       "      <th>1</th>\n",
       "      <td>4.9</td>\n",
       "      <td>3.0</td>\n",
       "      <td>1.4</td>\n",
       "      <td>0.2</td>\n",
       "      <td>setosa</td>\n",
       "    </tr>\n",
       "    <tr>\n",
       "      <th>2</th>\n",
       "      <td>4.7</td>\n",
       "      <td>3.2</td>\n",
       "      <td>1.3</td>\n",
       "      <td>0.2</td>\n",
       "      <td>setosa</td>\n",
       "    </tr>\n",
       "    <tr>\n",
       "      <th>3</th>\n",
       "      <td>4.6</td>\n",
       "      <td>3.1</td>\n",
       "      <td>1.5</td>\n",
       "      <td>0.2</td>\n",
       "      <td>setosa</td>\n",
       "    </tr>\n",
       "    <tr>\n",
       "      <th>4</th>\n",
       "      <td>5.0</td>\n",
       "      <td>3.6</td>\n",
       "      <td>1.4</td>\n",
       "      <td>0.2</td>\n",
       "      <td>setosa</td>\n",
       "    </tr>\n",
       "    <tr>\n",
       "      <th>...</th>\n",
       "      <td>...</td>\n",
       "      <td>...</td>\n",
       "      <td>...</td>\n",
       "      <td>...</td>\n",
       "      <td>...</td>\n",
       "    </tr>\n",
       "    <tr>\n",
       "      <th>145</th>\n",
       "      <td>6.7</td>\n",
       "      <td>3.0</td>\n",
       "      <td>5.2</td>\n",
       "      <td>2.3</td>\n",
       "      <td>virginica</td>\n",
       "    </tr>\n",
       "    <tr>\n",
       "      <th>146</th>\n",
       "      <td>6.3</td>\n",
       "      <td>2.5</td>\n",
       "      <td>5.0</td>\n",
       "      <td>1.9</td>\n",
       "      <td>virginica</td>\n",
       "    </tr>\n",
       "    <tr>\n",
       "      <th>147</th>\n",
       "      <td>6.5</td>\n",
       "      <td>3.0</td>\n",
       "      <td>5.2</td>\n",
       "      <td>2.0</td>\n",
       "      <td>virginica</td>\n",
       "    </tr>\n",
       "    <tr>\n",
       "      <th>148</th>\n",
       "      <td>6.2</td>\n",
       "      <td>3.4</td>\n",
       "      <td>5.4</td>\n",
       "      <td>2.3</td>\n",
       "      <td>virginica</td>\n",
       "    </tr>\n",
       "    <tr>\n",
       "      <th>149</th>\n",
       "      <td>5.9</td>\n",
       "      <td>3.0</td>\n",
       "      <td>5.1</td>\n",
       "      <td>1.8</td>\n",
       "      <td>virginica</td>\n",
       "    </tr>\n",
       "  </tbody>\n",
       "</table>\n",
       "<p>150 rows × 5 columns</p>\n",
       "</div>"
      ],
      "text/plain": [
       "     sepal_length  sepal_width  petal_length  petal_width    species\n",
       "0             5.1          3.5           1.4          0.2     setosa\n",
       "1             4.9          3.0           1.4          0.2     setosa\n",
       "2             4.7          3.2           1.3          0.2     setosa\n",
       "3             4.6          3.1           1.5          0.2     setosa\n",
       "4             5.0          3.6           1.4          0.2     setosa\n",
       "..            ...          ...           ...          ...        ...\n",
       "145           6.7          3.0           5.2          2.3  virginica\n",
       "146           6.3          2.5           5.0          1.9  virginica\n",
       "147           6.5          3.0           5.2          2.0  virginica\n",
       "148           6.2          3.4           5.4          2.3  virginica\n",
       "149           5.9          3.0           5.1          1.8  virginica\n",
       "\n",
       "[150 rows x 5 columns]"
      ]
     },
     "execution_count": 35,
     "metadata": {},
     "output_type": "execute_result"
    }
   ],
   "source": [
    "data = pd.read_csv('iris_dataset.csv')\n",
    "set(data['species'].values)\n",
    "data"
   ]
  },
  {
   "cell_type": "code",
   "execution_count": 34,
   "metadata": {},
   "outputs": [
    {
     "data": {
      "image/png": "[encoded data removed]",
      "text/plain": [
       "<Figure size 720x576 with 1 Axes>"
      ]
     },
     "metadata": {
      "needs_background": "light"
     },
     "output_type": "display_data"
    }
   ],
   "source": [
    "fig, ax = plt.subplots()\n",
    "fig.set_size_inches(10,8)\n",
    "tipos = data['species'].map({'setosa':1, 'versicolor':2, 'virginica':3})\n",
    "ax.scatter(data.petal_width, data.petal_length, c =tipos,\n",
    "            s=30*data.petal_width*data.petal_length, alpha = 0.5 )\n",
    "plt.show()"
   ]
  },
  {
   "cell_type": "markdown",
   "metadata": {},
   "source": [
    "Notas:\n",
    "\n",
    "$ conda create --name [nombre] [paquete]=[versión]\n",
    "\n",
    "Si no hay se especifíca una versión, se instalará la última disponible.\n",
    "\n",
    "Para ver los paquetes(si no se especifican los paquetes, dará una lista de los ambientes virtuales):\n",
    "\n",
    "$ conda list [paquete]\n",
    "\n",
    "Para activar y desactivar los ambientes:\n",
    "$ conda activate [nombre del ambiente] y $ conda deactivate\n",
    "Para actualizar paquetes:\n",
    "\n",
    "$ conda update [paquete]\n",
    "\n",
    "Para instalar un paquete específico:\n",
    "\n",
    "$ conda install [paquete]=[versión]\n",
    "\n",
    "Para clonar un ambiente:\n",
    "\n",
    "$ conda --name [nuevo ambiente] --copy --clone [ambiente]\n"
   ]
  },
  {
   "cell_type": "markdown",
   "metadata": {},
   "source": [
    "Conda: crear y actualizar ambiente\n",
    "\n",
    "Los comandos usados para crear y actualizar un ambiente son:\n",
    "\n",
    "    Para listar los ambientes que ya tenemos creados\n",
    "\n",
    "conda env list\n",
    "\n",
    "    Para crear un nuevo ambiente\n",
    "    Si queremos usar las versiones más recientes\n",
    "\n",
    "conda create --name [nombre_ambiente]\n"
   ]
  },
  {
   "cell_type": "code",
   "execution_count": null,
   "metadata": {},
   "outputs": [],
   "source": [
    "conda list pandas\n",
    "conda list python\n",
    "create --name py39 --copy --clone py35\n",
    "conda env list\n",
    "conda remove pandas\n",
    "conda env remove --name py35"
   ]
  },
  {
   "cell_type": "code",
   "execution_count": null,
   "metadata": {},
   "outputs": [],
   "source": [
    "#Crear ambiente\n",
    "conda create --name py39 python=3.9 pandas=1.2\n",
    "#Ir al ambiente\n",
    "conda activate py39\n",
    "# Instalar boltons\n",
    "conda install -c conda-forge boltons\n",
    "#Devolver a un punto anterio y asi no tener que remover\n",
    "conda list -r\n",
    "#Devolverme a larevision 0\n",
    "conda install --revision 0\n",
    "#Revisar si esta instalado\n",
    "conda list boltons\n",
    "#Exportar tu ambiente\n",
    "conda env export\n",
    "#Exportar tu ambiente pero sin las versiones\n",
    "conda env export --no-builds\n",
    "#Exportar tu ambiente LA MEJOR\n",
    "conda env export --from-history\n",
    "#Exportar tu ambiente a un archivo\n",
    "conda env export --from-history --file environment.yaml\n",
    "#Remover ambiente \n",
    "conda env remove --name py39\n",
    "#Importar el ambiente\n",
    "conda env create --file environment.yaml\n",
    "#Ir al ambiente \n",
    "conda activate py39"
   ]
  },
  {
   "cell_type": "markdown",
   "metadata": {},
   "source": [
    "#Instalar MANBA\n",
    "conda install --channel conda-forge mamba\n",
    "mamba help \n",
    "mamba --help\n",
    "#Desinstalar ambiente\n",
    "conda env remove --name py39\n",
    "#Con MANBA\n",
    "mamba env create --file environment.yaml\n",
    "#Activar ambiente\n",
    "conda activate py39"
   ]
  }
 ],
 "metadata": {
  "interpreter": {
   "hash": "1e915f0a29dc84041eaeb02b7b1a21c440e37a87b61d44d5e84a515737dc82bc"
  },
  "kernelspec": {
   "display_name": "Python 3.8.8 64-bit ('base': conda)",
   "name": "python3"
  },
  "language_info": {
   "codemirror_mode": {
    "name": "ipython",
    "version": 3
   },
   "file_extension": ".py",
   "mimetype": "text/x-python",
   "name": "python",
   "nbconvert_exporter": "python",
   "pygments_lexer": "ipython3",
   "version": "3.8.8"
  },
  "orig_nbformat": 4
 },
 "nbformat": 4,
 "nbformat_minor": 2
}
