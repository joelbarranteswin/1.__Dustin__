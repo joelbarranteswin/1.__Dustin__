{
 "cells": [
  {
   "cell_type": "code",
   "execution_count": 7,
   "metadata": {},
   "outputs": [],
   "source": [
    "import pypyodbc \n",
    "import pandas as pd\n",
    "\n",
    "conexion_sql = pypyodbc.connect(\n",
    "    \"Driver={SQL Server Native Client 11.0};\"\n",
    "    \"Server=DUSTIN;\"\n",
    "    \"Database=MyCompany;\"\n",
    "    \"Trusted_Connection=yes;\")\n"
   ]
  },
  {
   "cell_type": "code",
   "execution_count": 8,
   "metadata": {},
   "outputs": [],
   "source": [
    "cursor = conexion_sql.cursor()"
   ]
  },
  {
   "cell_type": "code",
   "execution_count": 4,
   "metadata": {},
   "outputs": [
    {
     "data": {
      "text/plain": [
       "<pypyodbc.Cursor at 0x20f362bbbe0>"
      ]
     },
     "execution_count": 4,
     "metadata": {},
     "output_type": "execute_result"
    }
   ],
   "source": [
    "cursor.execute(\"SELECT TOP(2) * FROM Users\")"
   ]
  },
  {
   "cell_type": "code",
   "execution_count": 9,
   "metadata": {},
   "outputs": [],
   "source": [
    "df = pd.read_sql_query('select * from Users', conexion_sql)"
   ]
  }
 ],
 "metadata": {
  "interpreter": {
   "hash": "2de7b4a052e65261ea8541eacad9ab5841dbc9fbfe443eb5e82600569ad0c738"
  },
  "kernelspec": {
   "display_name": "Python 3.10.2 64-bit",
   "language": "python",
   "name": "python3"
  },
  "language_info": {
   "codemirror_mode": {
    "name": "ipython",
    "version": 3
   },
   "file_extension": ".py",
   "mimetype": "text/x-python",
   "name": "python",
   "nbconvert_exporter": "python",
   "pygments_lexer": "ipython3",
   "version": "3.10.2"
  },
  "orig_nbformat": 4
 },
 "nbformat": 4,
 "nbformat_minor": 2
}
