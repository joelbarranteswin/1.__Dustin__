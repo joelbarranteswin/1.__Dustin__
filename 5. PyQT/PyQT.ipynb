{
 "cells": [
  {
   "cell_type": "code",
   "execution_count": 1,
   "source": [
    "import PySimpleGUI as sg                        # Part 1 - The import\r\n",
    "\r\n",
    "# Define the window's contents\r\n",
    "layout = [  [sg.Text(\"What's your name?\")],     # Part 2 - The Layout\r\n",
    "            [sg.Input()],\r\n",
    "            [sg.Button('Ok')] ]\r\n",
    "\r\n",
    "# Create the window\r\n",
    "window = sg.Window('Window Title', layout)      # Part 3 - Window Defintion\r\n",
    "                                                \r\n",
    "# Display and interact with the Window\r\n",
    "event, values = window.read()                   # Part 4 - Event loop or Window.read call\r\n",
    "\r\n",
    "# Do something with the information gathered\r\n",
    "print('Hello', values[0], \"! Thanks for trying PySimpleGUI\")\r\n",
    "\r\n",
    "# Finish up by removing from the screen\r\n",
    "window.close()                                  # Part 5 - Close the Window"
   ],
   "outputs": [
    {
     "output_type": "stream",
     "name": "stdout",
     "text": [
      "Hello joel ! Thanks for trying PySimpleGUI\n"
     ]
    }
   ],
   "metadata": {}
  },
  {
   "cell_type": "code",
   "execution_count": 2,
   "source": [
    "import numpy as np\r\n",
    "from matplotlib.backends.backend_tkagg import FigureCanvasTkAgg\r\n",
    "import PySimpleGUI as sg\r\n",
    "import matplotlib\r\n",
    "\r\n",
    "fig = matplotlib.figure.Figure(figsize=(5, 4), dpi=100)\r\n",
    "t = np.arange(0, 3, .01)\r\n",
    "fig.add_subplot(111).plot(t, 2 * np.sin(2 * np.pi * t))\r\n",
    "\r\n",
    "matplotlib.use(\"TkAgg\")\r\n",
    "\r\n",
    "def draw_figure(canvas, figure):\r\n",
    "    figure_canvas_agg = FigureCanvasTkAgg(figure, canvas)\r\n",
    "    figure_canvas_agg.draw()\r\n",
    "    figure_canvas_agg.get_tk_widget().pack(side=\"top\", fill=\"both\", expand=1)\r\n",
    "    return figure_canvas_agg\r\n",
    "\r\n",
    "# Define the window layout\r\n",
    "layout = [\r\n",
    "    [sg.Text(\"Plot test\")],\r\n",
    "    [sg.Canvas(key=\"-CANVAS-\")],\r\n",
    "    [sg.Button(\"Ok\")],\r\n",
    "]\r\n",
    "\r\n",
    "# Create the form and show it without the plot\r\n",
    "window = sg.Window(\r\n",
    "    \"Matplotlib Single Graph\",\r\n",
    "    layout,\r\n",
    "    location=(0, 0),\r\n",
    "    finalize=True,\r\n",
    "    element_justification=\"center\",\r\n",
    "    font=\"Helvetica 18\",\r\n",
    ")\r\n",
    "\r\n",
    "# Add the plot to the window\r\n",
    "draw_figure(window[\"-CANVAS-\"].TKCanvas, fig)\r\n",
    "\r\n",
    "event, values = window.read()\r\n",
    "\r\n",
    "window.close()"
   ],
   "outputs": [],
   "metadata": {}
  },
  {
   "cell_type": "code",
   "execution_count": 3,
   "source": [
    "# img_viewer.py\r\n",
    "\r\n",
    "import PySimpleGUI as sg\r\n",
    "import os.path\r\n",
    "\r\n",
    "# First the window layout in 2 columns\r\n",
    "\r\n",
    "file_list_column = [\r\n",
    "    [\r\n",
    "        sg.Text(\"Image Folder\"),\r\n",
    "        sg.In(size=(25, 1), enable_events=True, key=\"-FOLDER-\"),\r\n",
    "        sg.FolderBrowse(),\r\n",
    "    ],\r\n",
    "    [\r\n",
    "        sg.Listbox(\r\n",
    "            values=[], enable_events=True, size=(40, 20), key=\"-FILE LIST-\"\r\n",
    "        )\r\n",
    "    ],\r\n",
    "]\r\n",
    "\r\n",
    "# For now will only show the name of the file that was chosen\r\n",
    "image_viewer_column = [\r\n",
    "    [sg.Text(\"Choose an image from list on left:\")],\r\n",
    "    [sg.Text(size=(40, 1), key=\"-TOUT-\")],\r\n",
    "    [sg.Image(key=\"-IMAGE-\")],\r\n",
    "]\r\n",
    "\r\n",
    "# ----- Full layout -----\r\n",
    "layout = [\r\n",
    "    [\r\n",
    "        sg.Column(file_list_column),\r\n",
    "        sg.VSeperator(),\r\n",
    "        sg.Column(image_viewer_column),\r\n",
    "    ]\r\n",
    "]"
   ],
   "outputs": [],
   "metadata": {}
  }
 ],
 "metadata": {
  "orig_nbformat": 4,
  "language_info": {
   "name": "python",
   "version": "3.8.8",
   "mimetype": "text/x-python",
   "codemirror_mode": {
    "name": "ipython",
    "version": 3
   },
   "pygments_lexer": "ipython3",
   "nbconvert_exporter": "python",
   "file_extension": ".py"
  },
  "kernelspec": {
   "name": "python3",
   "display_name": "Python 3.8.8 64-bit ('base': conda)"
  },
  "interpreter": {
   "hash": "1e915f0a29dc84041eaeb02b7b1a21c440e37a87b61d44d5e84a515737dc82bc"
  }
 },
 "nbformat": 4,
 "nbformat_minor": 2
}