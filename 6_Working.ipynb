{
 "cells": [
  {
   "cell_type": "code",
   "execution_count": 1,
   "source": [
    "print(\"hello world\")"
   ],
   "outputs": [
    {
     "output_type": "stream",
     "name": "stdout",
     "text": [
      "hello world\n"
     ]
    }
   ],
   "metadata": {}
  },
  {
   "cell_type": "code",
   "execution_count": 2,
   "source": [
    "import json\r\n",
    "import pandas\r\n",
    "import openpyxl\r\n",
    "import dataclasses\r\n",
    "from openpyxl.utils.dataframe import dataframe_to_rows\r\n",
    "from openpyxl.styles import PatternFill, Border, Side, Font, Alignment"
   ],
   "outputs": [],
   "metadata": {}
  },
  {
   "cell_type": "code",
   "execution_count": 3,
   "source": [
    "@dataclasses.dataclass\r\n",
    "class SmatvRitReport:\r\n",
    "    __slots__ = ['smatv_rit_report_summary', 'smatv_rit_scenario_report']\r\n",
    "    smatv_rit_report_summary: pandas.DataFrame\r\n",
    "    smatv_rit_scenario_report: pandas.DataFrame"
   ],
   "outputs": [],
   "metadata": {}
  },
  {
   "cell_type": "code",
   "execution_count": 4,
   "source": [
    "def build_smatv_rit_report_excel(smatv_rit_report: SmatvRitReport) -> openpyxl.Workbook:\r\n",
    "    smatv_rit_report_wb = openpyxl.Workbook()\r\n",
    "    # smatv_rit_report_wb = build_smatv_rit_report_summary_excel(\r\n",
    "    #     smatv_rit_report_summary=smatv_rit_report.smatv_rit_report_summary,\r\n",
    "    #     smatv_rit_report_wb=smatv_rit_report_wb\r\n",
    "    # )\r\n",
    "    smatv_rit_report_wb = build_smatv_rit_scenario_report_excel(\r\n",
    "        smatv_rit_scenario_report=smatv_rit_report.smatv_rit_scenario_report,\r\n",
    "        smatv_rit_report_wb=smatv_rit_report_wb\r\n",
    "    )\r\n",
    "    return smatv_rit_report_wb"
   ],
   "outputs": [],
   "metadata": {}
  },
  {
   "cell_type": "code",
   "execution_count": 5,
   "source": [
    "# def build_smatv_rit_report_summary_excel(\r\n",
    "#     smatv_rit_report_summary: pandas.DataFrame,\r\n",
    "#     smatv_rit_report_wb: openpyxl.Workbook) -> openpyxl.Workbook:\r\n",
    "    \r\n",
    "#     hoja_1 = smatv_rit_report_wb.create_sheet(\"report_summary\")\r\n",
    "\r\n",
    "#     for row in dataframe_to_rows(smatv_rit_report_summary, index=False, header=True):\r\n",
    "#         hoja_1.append(row)\r\n",
    "    \r\n",
    "#     return smatv_rit_report_wb"
   ],
   "outputs": [],
   "metadata": {}
  },
  {
   "cell_type": "code",
   "execution_count": 6,
   "source": [
    "def build_smatv_rit_scenario_report_excel(\r\n",
    "    smatv_rit_scenario_report: pandas.DataFrame,\r\n",
    "    smatv_rit_report_wb: openpyxl.Workbook) -> openpyxl.Workbook:\r\n",
    "\r\n",
    "    hoja_2 = smatv_rit_report_wb.create_sheet(\"scenario_report\", index= 0)\r\n",
    "\r\n",
    "    \"\"\"Propiedades de la hoja\"\"\"\r\n",
    "    hoja_2.sheet_view.showGridLines = False\r\n",
    "    hoja_2.sheet_view.zoomScale = 55\r\n",
    "\r\n",
    "    \"\"\"Insertando el DataFrame al Excel\"\"\"\r\n",
    "    for row in dataframe_to_rows(smatv_rit_scenario_report, index=False, header=True):\r\n",
    "        hoja_2.append(row)\r\n",
    "    return smatv_rit_report_wb"
   ],
   "outputs": [],
   "metadata": {}
  },
  {
   "cell_type": "code",
   "execution_count": 7,
   "source": [
    "#TODO: realizar propiedades de la hoja\r\n",
    "def apply_smatv_rit_scenario_report_excel_styles(smatv_rit_report_wb: openpyxl.Workbook) -> openpyxl.Workbook:\r\n",
    "    \r\n",
    "    hoja_reporte = workbook.get_sheet_by_name(\"Reporte\") \r\n",
    "    #Fuente\r\n",
    "    tipo_letra_azul_oscuro = Font(bold= True, size='11',color= '00003366')\r\n",
    "    tipo_letra_negro = Font(bold= False, size=\"11\",color= \"00000000\")\r\n",
    "    \r\n",
    "    for cells in hoja_reporte[\"1A:AE1\"]:\r\n",
    "        cells[0].font = tipo_letra_azul_oscuro\r\n",
    "    \r\n",
    "    #Alineamiento\r\n",
    "    centrar = Alignment(horizontal = 'center', vertical = 'center')\r\n",
    "\r\n",
    "    \r\n",
    "\r\n",
    "    #Borde de la celda\r\n",
    "    borde_4_lados = Border(\r\n",
    "                        left=Side(style='thin'), \r\n",
    "                        right=Side(style='thin'), \r\n",
    "                        top=Side(style='thin'), \r\n",
    "                        bottom=Side(style= 'thin')\r\n",
    "                        )\r\n",
    "    borde_1_lado_izquierda = Border(\r\n",
    "                        left=Side(style='thin'), \r\n",
    "                        right=Side(style=None), \r\n",
    "                        top=Side(style=None), \r\n",
    "                        bottom=Side(style=None)\r\n",
    "                        )\r\n",
    "    borde_1_lado_derecha = Border(\r\n",
    "                        left=Side(style=None), \r\n",
    "                        right=Side(style='thin'), \r\n",
    "                        top=Side(style=None), \r\n",
    "                        bottom=Side(style=None)\r\n",
    "                        )\r\n",
    "    borde_1_lado_superior = Border(\r\n",
    "                        left=Side(style=None), \r\n",
    "                        right=Side(style=None), \r\n",
    "                        top=Side(style='thin'), \r\n",
    "                        bottom=Side(style=None)\r\n",
    "                        )                    \r\n",
    "    borde_1_lado_inferior = Border(\r\n",
    "                        left=Side(style=None), \r\n",
    "                        right=Side(style=None), \r\n",
    "                        top=Side(style=None), \r\n",
    "                        bottom=Side(style='thin')\r\n",
    "                        )\r\n",
    "    borde_2_lados_inferior_izquierda = Border(\r\n",
    "                        left=Side(style=\"thin\"), \r\n",
    "                        right=Side(style=None), \r\n",
    "                        top=Side(style=None), \r\n",
    "                        bottom=Side(style= 'thin')\r\n",
    "                        )\r\n",
    "    borde_2_lados_inferior_derecha = Border(\r\n",
    "                        left=Side(style=None), \r\n",
    "                        right=Side(style='thin'), \r\n",
    "                        top=Side(style=None), \r\n",
    "                        bottom=Side(style= 'thin')\r\n",
    "                        )\r\n",
    "    \r\n",
    "    \r\n",
    "    #colores de celdas\r\n",
    "    relleno_celeste = PatternFill(\r\n",
    "                        start_color= \"8EA9DB\",\r\n",
    "                        end_color= \"8EA9DB\",\r\n",
    "                        fill_type= \"solid\"\r\n",
    "                        )\r\n",
    "\r\n",
    "    gris_claro = PatternFill(\r\n",
    "                        start_color= \"00CCCCFF\",\r\n",
    "                        end_color= \"00CCCCFF\",\r\n",
    "                        fill_type= \"solid\"\r\n",
    "                        )\r\n",
    "                        \r\n",
    "\r\n",
    "def apply_smatv_rit_report_summary_excel_locale(smatv_rit_report_wb: openpyxl.Workbook, dictionary: dict) -> openpyxl.Workbook:\r\n",
    "    pass"
   ],
   "outputs": [],
   "metadata": {}
  },
  {
   "cell_type": "markdown",
   "source": [
    "## Working with datas"
   ],
   "metadata": {}
  },
  {
   "cell_type": "code",
   "execution_count": 16,
   "source": [
    "smatv_rit_report_dict = {}\r\n",
    "\r\n",
    "# se esta cargando el archivo json y asigando valores sus valores a un dict\r\n",
    "with open(\"./smatv_rit_report.json\", \"r\") as file:\r\n",
    "    smatv_rit_report_dict = json.loads(file.read())"
   ],
   "outputs": [],
   "metadata": {}
  },
  {
   "cell_type": "markdown",
   "source": [
    "### Tranformando el json a DataFrame"
   ],
   "metadata": {}
  },
  {
   "cell_type": "code",
   "execution_count": 9,
   "source": [
    "#filtro dataframe segunda columna\r\n",
    "smatv_rit_report_summary_df = pandas.DataFrame.from_dict(smatv_rit_report_dict[\"smatv_rit_report_summary\"])\r\n",
    "\r\n",
    "#filtro dataframe de la tercera columna\r\n",
    "smatv_rit_scenario_report_df = pandas.DataFrame.from_dict(smatv_rit_report_dict[\"smatv_rit_scenario_report\"])"
   ],
   "outputs": [],
   "metadata": {}
  },
  {
   "cell_type": "code",
   "execution_count": 10,
   "source": [
    "smatv_rit_report_summary_df.head().T"
   ],
   "outputs": [
    {
     "output_type": "execute_result",
     "data": {
      "text/plain": [
       "                                                                                          0\n",
       "backbone_cable_id                                                                  T200PLUS\n",
       "lateral_net_cable_id                                                               T100PLUS\n",
       "num_backbones                                                                             2\n",
       "power_matv_max                                                                        75.38\n",
       "power_matv_min                                                                        68.63\n",
       "power_matv_mean                                                                        72.3\n",
       "power_fi_max                                                                          62.41\n",
       "power_fi_min                                                                             56\n",
       "power_fi_mean                                                                          59.3\n",
       "total_distance_to_distribution_board_mts                                               1116\n",
       "total_backbone_mts                                                                       14\n",
       "smatv_rit_report_derivators_summary       [[5137, 3], [5145, 1], [5134, 1], [5147, 1], [...\n",
       "total_backbone_cable_price                                                               56\n",
       "total_smatv_derivator_price                                                               9\n",
       "total_smatv_rit_scenario_price                                                           74"
      ],
      "text/html": [
       "<div>\n",
       "<style scoped>\n",
       "    .dataframe tbody tr th:only-of-type {\n",
       "        vertical-align: middle;\n",
       "    }\n",
       "\n",
       "    .dataframe tbody tr th {\n",
       "        vertical-align: top;\n",
       "    }\n",
       "\n",
       "    .dataframe thead th {\n",
       "        text-align: right;\n",
       "    }\n",
       "</style>\n",
       "<table border=\"1\" class=\"dataframe\">\n",
       "  <thead>\n",
       "    <tr style=\"text-align: right;\">\n",
       "      <th></th>\n",
       "      <th>0</th>\n",
       "    </tr>\n",
       "  </thead>\n",
       "  <tbody>\n",
       "    <tr>\n",
       "      <th>backbone_cable_id</th>\n",
       "      <td>T200PLUS</td>\n",
       "    </tr>\n",
       "    <tr>\n",
       "      <th>lateral_net_cable_id</th>\n",
       "      <td>T100PLUS</td>\n",
       "    </tr>\n",
       "    <tr>\n",
       "      <th>num_backbones</th>\n",
       "      <td>2</td>\n",
       "    </tr>\n",
       "    <tr>\n",
       "      <th>power_matv_max</th>\n",
       "      <td>75.38</td>\n",
       "    </tr>\n",
       "    <tr>\n",
       "      <th>power_matv_min</th>\n",
       "      <td>68.63</td>\n",
       "    </tr>\n",
       "    <tr>\n",
       "      <th>power_matv_mean</th>\n",
       "      <td>72.3</td>\n",
       "    </tr>\n",
       "    <tr>\n",
       "      <th>power_fi_max</th>\n",
       "      <td>62.41</td>\n",
       "    </tr>\n",
       "    <tr>\n",
       "      <th>power_fi_min</th>\n",
       "      <td>56</td>\n",
       "    </tr>\n",
       "    <tr>\n",
       "      <th>power_fi_mean</th>\n",
       "      <td>59.3</td>\n",
       "    </tr>\n",
       "    <tr>\n",
       "      <th>total_distance_to_distribution_board_mts</th>\n",
       "      <td>1116</td>\n",
       "    </tr>\n",
       "    <tr>\n",
       "      <th>total_backbone_mts</th>\n",
       "      <td>14</td>\n",
       "    </tr>\n",
       "    <tr>\n",
       "      <th>smatv_rit_report_derivators_summary</th>\n",
       "      <td>[[5137, 3], [5145, 1], [5134, 1], [5147, 1], [...</td>\n",
       "    </tr>\n",
       "    <tr>\n",
       "      <th>total_backbone_cable_price</th>\n",
       "      <td>56</td>\n",
       "    </tr>\n",
       "    <tr>\n",
       "      <th>total_smatv_derivator_price</th>\n",
       "      <td>9</td>\n",
       "    </tr>\n",
       "    <tr>\n",
       "      <th>total_smatv_rit_scenario_price</th>\n",
       "      <td>74</td>\n",
       "    </tr>\n",
       "  </tbody>\n",
       "</table>\n",
       "</div>"
      ]
     },
     "metadata": {},
     "execution_count": 10
    }
   ],
   "metadata": {}
  },
  {
   "cell_type": "code",
   "execution_count": 11,
   "source": [
    "smatv_rit_report_summary_df['smatv_rit_report_derivators_summary']"
   ],
   "outputs": [
    {
     "output_type": "execute_result",
     "data": {
      "text/plain": [
       "0    [[5137, 3], [5145, 1], [5134, 1], [5147, 1], [...\n",
       "Name: smatv_rit_report_derivators_summary, dtype: object"
      ]
     },
     "metadata": {},
     "execution_count": 11
    }
   ],
   "metadata": {}
  },
  {
   "cell_type": "code",
   "execution_count": 13,
   "source": [
    "smatv_rit_scenario_report_df.head()"
   ],
   "outputs": [
    {
     "output_type": "execute_result",
     "data": {
      "text/plain": [
       "  level_id unit_id  distance_to_soti  distance_to_sots  \\\n",
       "0        4     401                10                 1   \n",
       "1        4     412                10                 1   \n",
       "2        4     402                10                 1   \n",
       "3        4     411                10                 1   \n",
       "4        4     406                10                 1   \n",
       "\n",
       "   distance_to_distribution_board  distance_to_main_enclosure  \\\n",
       "0                              34                          12   \n",
       "1                              34                          12   \n",
       "2                              29                          12   \n",
       "3                              29                          12   \n",
       "4                              27                          12   \n",
       "\n",
       "  backbone_cable_id lateral_net_cable_id connector_id derivator_id  ...  \\\n",
       "0          T200PLUS             T100PLUS            1         5137  ...   \n",
       "1          T200PLUS             T100PLUS            1         5137  ...   \n",
       "2          T200PLUS             T100PLUS            1         5137  ...   \n",
       "3          T200PLUS             T100PLUS            1         5137  ...   \n",
       "4          T200PLUS             T100PLUS            1         5137  ...   \n",
       "\n",
       "  derivator_matv_attenuation  derivator_fi_attenuation  \\\n",
       "0                         24                        25   \n",
       "1                         24                        25   \n",
       "2                         24                        25   \n",
       "3                         24                        25   \n",
       "4                         24                        25   \n",
       "\n",
       "   derivator_matv_step_attenuation  derivator_fi_step_attenuation  \\\n",
       "0                              1.5                            2.5   \n",
       "1                              1.5                            2.5   \n",
       "2                              1.5                            2.5   \n",
       "3                              1.5                            2.5   \n",
       "4                              1.5                            2.5   \n",
       "\n",
       "   cumulative_level_derivator_matv_step_attenuation  \\\n",
       "0                                               0.0   \n",
       "1                                               0.0   \n",
       "2                                               0.0   \n",
       "3                                               0.0   \n",
       "4                                               0.0   \n",
       "\n",
       "   cumulative_level_derivator_fi_step_attenuation  total_matv_attenuation  \\\n",
       "0                                             0.0                   41.11   \n",
       "1                                             0.0                   41.11   \n",
       "2                                             0.0                   40.31   \n",
       "3                                             0.0                   40.31   \n",
       "4                                             0.0                   39.99   \n",
       "\n",
       "   total_fi_attenuation  total_matv_power  total_fi_power  \n",
       "0                 50.67             71.89           59.33  \n",
       "1                 50.67             71.89           59.33  \n",
       "2                 49.17             72.69           60.83  \n",
       "3                 49.17             72.69           60.83  \n",
       "4                 48.57             73.01           61.43  \n",
       "\n",
       "[5 rows x 31 columns]"
      ],
      "text/html": [
       "<div>\n",
       "<style scoped>\n",
       "    .dataframe tbody tr th:only-of-type {\n",
       "        vertical-align: middle;\n",
       "    }\n",
       "\n",
       "    .dataframe tbody tr th {\n",
       "        vertical-align: top;\n",
       "    }\n",
       "\n",
       "    .dataframe thead th {\n",
       "        text-align: right;\n",
       "    }\n",
       "</style>\n",
       "<table border=\"1\" class=\"dataframe\">\n",
       "  <thead>\n",
       "    <tr style=\"text-align: right;\">\n",
       "      <th></th>\n",
       "      <th>level_id</th>\n",
       "      <th>unit_id</th>\n",
       "      <th>distance_to_soti</th>\n",
       "      <th>distance_to_sots</th>\n",
       "      <th>distance_to_distribution_board</th>\n",
       "      <th>distance_to_main_enclosure</th>\n",
       "      <th>backbone_cable_id</th>\n",
       "      <th>lateral_net_cable_id</th>\n",
       "      <th>connector_id</th>\n",
       "      <th>derivator_id</th>\n",
       "      <th>...</th>\n",
       "      <th>derivator_matv_attenuation</th>\n",
       "      <th>derivator_fi_attenuation</th>\n",
       "      <th>derivator_matv_step_attenuation</th>\n",
       "      <th>derivator_fi_step_attenuation</th>\n",
       "      <th>cumulative_level_derivator_matv_step_attenuation</th>\n",
       "      <th>cumulative_level_derivator_fi_step_attenuation</th>\n",
       "      <th>total_matv_attenuation</th>\n",
       "      <th>total_fi_attenuation</th>\n",
       "      <th>total_matv_power</th>\n",
       "      <th>total_fi_power</th>\n",
       "    </tr>\n",
       "  </thead>\n",
       "  <tbody>\n",
       "    <tr>\n",
       "      <th>0</th>\n",
       "      <td>4</td>\n",
       "      <td>401</td>\n",
       "      <td>10</td>\n",
       "      <td>1</td>\n",
       "      <td>34</td>\n",
       "      <td>12</td>\n",
       "      <td>T200PLUS</td>\n",
       "      <td>T100PLUS</td>\n",
       "      <td>1</td>\n",
       "      <td>5137</td>\n",
       "      <td>...</td>\n",
       "      <td>24</td>\n",
       "      <td>25</td>\n",
       "      <td>1.5</td>\n",
       "      <td>2.5</td>\n",
       "      <td>0.0</td>\n",
       "      <td>0.0</td>\n",
       "      <td>41.11</td>\n",
       "      <td>50.67</td>\n",
       "      <td>71.89</td>\n",
       "      <td>59.33</td>\n",
       "    </tr>\n",
       "    <tr>\n",
       "      <th>1</th>\n",
       "      <td>4</td>\n",
       "      <td>412</td>\n",
       "      <td>10</td>\n",
       "      <td>1</td>\n",
       "      <td>34</td>\n",
       "      <td>12</td>\n",
       "      <td>T200PLUS</td>\n",
       "      <td>T100PLUS</td>\n",
       "      <td>1</td>\n",
       "      <td>5137</td>\n",
       "      <td>...</td>\n",
       "      <td>24</td>\n",
       "      <td>25</td>\n",
       "      <td>1.5</td>\n",
       "      <td>2.5</td>\n",
       "      <td>0.0</td>\n",
       "      <td>0.0</td>\n",
       "      <td>41.11</td>\n",
       "      <td>50.67</td>\n",
       "      <td>71.89</td>\n",
       "      <td>59.33</td>\n",
       "    </tr>\n",
       "    <tr>\n",
       "      <th>2</th>\n",
       "      <td>4</td>\n",
       "      <td>402</td>\n",
       "      <td>10</td>\n",
       "      <td>1</td>\n",
       "      <td>29</td>\n",
       "      <td>12</td>\n",
       "      <td>T200PLUS</td>\n",
       "      <td>T100PLUS</td>\n",
       "      <td>1</td>\n",
       "      <td>5137</td>\n",
       "      <td>...</td>\n",
       "      <td>24</td>\n",
       "      <td>25</td>\n",
       "      <td>1.5</td>\n",
       "      <td>2.5</td>\n",
       "      <td>0.0</td>\n",
       "      <td>0.0</td>\n",
       "      <td>40.31</td>\n",
       "      <td>49.17</td>\n",
       "      <td>72.69</td>\n",
       "      <td>60.83</td>\n",
       "    </tr>\n",
       "    <tr>\n",
       "      <th>3</th>\n",
       "      <td>4</td>\n",
       "      <td>411</td>\n",
       "      <td>10</td>\n",
       "      <td>1</td>\n",
       "      <td>29</td>\n",
       "      <td>12</td>\n",
       "      <td>T200PLUS</td>\n",
       "      <td>T100PLUS</td>\n",
       "      <td>1</td>\n",
       "      <td>5137</td>\n",
       "      <td>...</td>\n",
       "      <td>24</td>\n",
       "      <td>25</td>\n",
       "      <td>1.5</td>\n",
       "      <td>2.5</td>\n",
       "      <td>0.0</td>\n",
       "      <td>0.0</td>\n",
       "      <td>40.31</td>\n",
       "      <td>49.17</td>\n",
       "      <td>72.69</td>\n",
       "      <td>60.83</td>\n",
       "    </tr>\n",
       "    <tr>\n",
       "      <th>4</th>\n",
       "      <td>4</td>\n",
       "      <td>406</td>\n",
       "      <td>10</td>\n",
       "      <td>1</td>\n",
       "      <td>27</td>\n",
       "      <td>12</td>\n",
       "      <td>T200PLUS</td>\n",
       "      <td>T100PLUS</td>\n",
       "      <td>1</td>\n",
       "      <td>5137</td>\n",
       "      <td>...</td>\n",
       "      <td>24</td>\n",
       "      <td>25</td>\n",
       "      <td>1.5</td>\n",
       "      <td>2.5</td>\n",
       "      <td>0.0</td>\n",
       "      <td>0.0</td>\n",
       "      <td>39.99</td>\n",
       "      <td>48.57</td>\n",
       "      <td>73.01</td>\n",
       "      <td>61.43</td>\n",
       "    </tr>\n",
       "  </tbody>\n",
       "</table>\n",
       "<p>5 rows × 31 columns</p>\n",
       "</div>"
      ]
     },
     "metadata": {},
     "execution_count": 13
    }
   ],
   "metadata": {}
  },
  {
   "cell_type": "code",
   "execution_count": 22,
   "source": [
    "#//FIXME: no se puede insertar a una celda porque contiene una Lista como valor\r\n",
    "\r\n",
    "from openpyxl import Workbook\r\n",
    "from openpyxl.utils.dataframe import dataframe_to_rows\r\n",
    "\r\n",
    "workbook = Workbook()\r\n",
    "sheet = workbook.create_sheet(\"Reporte\", index=0)\r\n",
    "\r\n",
    "for row in dataframe_to_rows(smatv_rit_scenario_report_df, index=False, header=True):\r\n",
    "    sheet.append(row)\r\n",
    "\r\n",
    "apply_smatv_rit_scenario_report_excel_styles(workbook)\r\n",
    "workbook.save(\"pandas1.xlsx\")"
   ],
   "outputs": [
    {
     "output_type": "stream",
     "name": "stderr",
     "text": [
      "<ipython-input-7-be97906ba3e4>:3: DeprecationWarning: Call to deprecated function get_sheet_by_name (Use wb[sheetname]).\n",
      "  hoja_2 = smatv_rit_report_wb.get_sheet_by_name(\"scenario_report\")\n"
     ]
    },
    {
     "output_type": "error",
     "ename": "KeyError",
     "evalue": "'Worksheet scenario_report does not exist.'",
     "traceback": [
      "\u001b[1;31m---------------------------------------------------------------------------\u001b[0m",
      "\u001b[1;31mKeyError\u001b[0m                                  Traceback (most recent call last)",
      "\u001b[1;32m<ipython-input-22-d456eef603c7>\u001b[0m in \u001b[0;36m<module>\u001b[1;34m\u001b[0m\n\u001b[0;32m     10\u001b[0m     \u001b[0msheet\u001b[0m\u001b[1;33m.\u001b[0m\u001b[0mappend\u001b[0m\u001b[1;33m(\u001b[0m\u001b[0mrow\u001b[0m\u001b[1;33m)\u001b[0m\u001b[1;33m\u001b[0m\u001b[1;33m\u001b[0m\u001b[0m\n\u001b[0;32m     11\u001b[0m \u001b[1;33m\u001b[0m\u001b[0m\n\u001b[1;32m---> 12\u001b[1;33m \u001b[0mapply_smatv_rit_scenario_report_excel_styles\u001b[0m\u001b[1;33m(\u001b[0m\u001b[0mworkbook\u001b[0m\u001b[1;33m)\u001b[0m\u001b[1;33m\u001b[0m\u001b[1;33m\u001b[0m\u001b[0m\n\u001b[0m\u001b[0;32m     13\u001b[0m \u001b[0mworkbook\u001b[0m\u001b[1;33m.\u001b[0m\u001b[0msave\u001b[0m\u001b[1;33m(\u001b[0m\u001b[1;34m\"pandas1.xlsx\"\u001b[0m\u001b[1;33m)\u001b[0m\u001b[1;33m\u001b[0m\u001b[1;33m\u001b[0m\u001b[0m\n",
      "\u001b[1;32m<ipython-input-7-be97906ba3e4>\u001b[0m in \u001b[0;36mapply_smatv_rit_scenario_report_excel_styles\u001b[1;34m(smatv_rit_report_wb)\u001b[0m\n\u001b[0;32m      1\u001b[0m \u001b[1;31m#TODO: realizar propiedades de la hoja\u001b[0m\u001b[1;33m\u001b[0m\u001b[1;33m\u001b[0m\u001b[1;33m\u001b[0m\u001b[0m\n\u001b[0;32m      2\u001b[0m \u001b[1;32mdef\u001b[0m \u001b[0mapply_smatv_rit_scenario_report_excel_styles\u001b[0m\u001b[1;33m(\u001b[0m\u001b[0msmatv_rit_report_wb\u001b[0m\u001b[1;33m:\u001b[0m \u001b[0mopenpyxl\u001b[0m\u001b[1;33m.\u001b[0m\u001b[0mWorkbook\u001b[0m\u001b[1;33m)\u001b[0m \u001b[1;33m->\u001b[0m \u001b[0mopenpyxl\u001b[0m\u001b[1;33m.\u001b[0m\u001b[0mWorkbook\u001b[0m\u001b[1;33m:\u001b[0m\u001b[1;33m\u001b[0m\u001b[1;33m\u001b[0m\u001b[0m\n\u001b[1;32m----> 3\u001b[1;33m     \u001b[0mhoja_2\u001b[0m \u001b[1;33m=\u001b[0m \u001b[0msmatv_rit_report_wb\u001b[0m\u001b[1;33m.\u001b[0m\u001b[0mget_sheet_by_name\u001b[0m\u001b[1;33m(\u001b[0m\u001b[1;34m\"scenario_report\"\u001b[0m\u001b[1;33m)\u001b[0m\u001b[1;33m\u001b[0m\u001b[1;33m\u001b[0m\u001b[0m\n\u001b[0m\u001b[0;32m      4\u001b[0m     \u001b[1;31m#Fuente\u001b[0m\u001b[1;33m\u001b[0m\u001b[1;33m\u001b[0m\u001b[1;33m\u001b[0m\u001b[0m\n\u001b[0;32m      5\u001b[0m     \u001b[0mtipo_letra_azul_oscuro\u001b[0m \u001b[1;33m=\u001b[0m \u001b[0mFont\u001b[0m\u001b[1;33m(\u001b[0m\u001b[0mbold\u001b[0m\u001b[1;33m=\u001b[0m \u001b[1;32mTrue\u001b[0m\u001b[1;33m,\u001b[0m \u001b[0msize\u001b[0m\u001b[1;33m=\u001b[0m\u001b[1;34m'11'\u001b[0m\u001b[1;33m,\u001b[0m\u001b[0mcolor\u001b[0m\u001b[1;33m=\u001b[0m \u001b[1;34m'00003366'\u001b[0m\u001b[1;33m)\u001b[0m\u001b[1;33m\u001b[0m\u001b[1;33m\u001b[0m\u001b[0m\n",
      "\u001b[1;32m~\\anaconda3\\lib\\site-packages\\openpyxl\\compat\\__init__.py\u001b[0m in \u001b[0;36mnew_func1\u001b[1;34m(*args, **kwargs)\u001b[0m\n\u001b[0;32m     36\u001b[0m                     \u001b[0mstacklevel\u001b[0m\u001b[1;33m=\u001b[0m\u001b[1;36m2\u001b[0m\u001b[1;33m\u001b[0m\u001b[1;33m\u001b[0m\u001b[0m\n\u001b[0;32m     37\u001b[0m                 )\n\u001b[1;32m---> 38\u001b[1;33m                 \u001b[1;32mreturn\u001b[0m \u001b[0mfunc1\u001b[0m\u001b[1;33m(\u001b[0m\u001b[1;33m*\u001b[0m\u001b[0margs\u001b[0m\u001b[1;33m,\u001b[0m \u001b[1;33m**\u001b[0m\u001b[0mkwargs\u001b[0m\u001b[1;33m)\u001b[0m\u001b[1;33m\u001b[0m\u001b[1;33m\u001b[0m\u001b[0m\n\u001b[0m\u001b[0;32m     39\u001b[0m \u001b[1;33m\u001b[0m\u001b[0m\n\u001b[0;32m     40\u001b[0m             \u001b[1;31m# Enhance docstring with a deprecation note\u001b[0m\u001b[1;33m\u001b[0m\u001b[1;33m\u001b[0m\u001b[1;33m\u001b[0m\u001b[0m\n",
      "\u001b[1;32m~\\anaconda3\\lib\\site-packages\\openpyxl\\workbook\\workbook.py\u001b[0m in \u001b[0;36mget_sheet_by_name\u001b[1;34m(self, name)\u001b[0m\n\u001b[0;32m    260\u001b[0m \u001b[1;33m\u001b[0m\u001b[0m\n\u001b[0;32m    261\u001b[0m         \"\"\"\n\u001b[1;32m--> 262\u001b[1;33m         \u001b[1;32mreturn\u001b[0m \u001b[0mself\u001b[0m\u001b[1;33m[\u001b[0m\u001b[0mname\u001b[0m\u001b[1;33m]\u001b[0m\u001b[1;33m\u001b[0m\u001b[1;33m\u001b[0m\u001b[0m\n\u001b[0m\u001b[0;32m    263\u001b[0m \u001b[1;33m\u001b[0m\u001b[0m\n\u001b[0;32m    264\u001b[0m     \u001b[1;32mdef\u001b[0m \u001b[0m__contains__\u001b[0m\u001b[1;33m(\u001b[0m\u001b[0mself\u001b[0m\u001b[1;33m,\u001b[0m \u001b[0mkey\u001b[0m\u001b[1;33m)\u001b[0m\u001b[1;33m:\u001b[0m\u001b[1;33m\u001b[0m\u001b[1;33m\u001b[0m\u001b[0m\n",
      "\u001b[1;32m~\\anaconda3\\lib\\site-packages\\openpyxl\\workbook\\workbook.py\u001b[0m in \u001b[0;36m__getitem__\u001b[1;34m(self, key)\u001b[0m\n\u001b[0;32m    286\u001b[0m             \u001b[1;32mif\u001b[0m \u001b[0msheet\u001b[0m\u001b[1;33m.\u001b[0m\u001b[0mtitle\u001b[0m \u001b[1;33m==\u001b[0m \u001b[0mkey\u001b[0m\u001b[1;33m:\u001b[0m\u001b[1;33m\u001b[0m\u001b[1;33m\u001b[0m\u001b[0m\n\u001b[0;32m    287\u001b[0m                 \u001b[1;32mreturn\u001b[0m \u001b[0msheet\u001b[0m\u001b[1;33m\u001b[0m\u001b[1;33m\u001b[0m\u001b[0m\n\u001b[1;32m--> 288\u001b[1;33m         \u001b[1;32mraise\u001b[0m \u001b[0mKeyError\u001b[0m\u001b[1;33m(\u001b[0m\u001b[1;34m\"Worksheet {0} does not exist.\"\u001b[0m\u001b[1;33m.\u001b[0m\u001b[0mformat\u001b[0m\u001b[1;33m(\u001b[0m\u001b[0mkey\u001b[0m\u001b[1;33m)\u001b[0m\u001b[1;33m)\u001b[0m\u001b[1;33m\u001b[0m\u001b[1;33m\u001b[0m\u001b[0m\n\u001b[0m\u001b[0;32m    289\u001b[0m \u001b[1;33m\u001b[0m\u001b[0m\n\u001b[0;32m    290\u001b[0m     \u001b[1;32mdef\u001b[0m \u001b[0m__delitem__\u001b[0m\u001b[1;33m(\u001b[0m\u001b[0mself\u001b[0m\u001b[1;33m,\u001b[0m \u001b[0mkey\u001b[0m\u001b[1;33m)\u001b[0m\u001b[1;33m:\u001b[0m\u001b[1;33m\u001b[0m\u001b[1;33m\u001b[0m\u001b[0m\n",
      "\u001b[1;31mKeyError\u001b[0m: 'Worksheet scenario_report does not exist.'"
     ]
    }
   ],
   "metadata": {}
  },
  {
   "cell_type": "code",
   "execution_count": 21,
   "source": [
    "workbook.sheetnames"
   ],
   "outputs": [
    {
     "output_type": "execute_result",
     "data": {
      "text/plain": [
       "['Reporte', 'Sheet']"
      ]
     },
     "metadata": {},
     "execution_count": 21
    }
   ],
   "metadata": {}
  },
  {
   "cell_type": "code",
   "execution_count": 14,
   "source": [
    "smatv_rit_scenario_report_df.shape, smatv_rit_scenario_report_df.shape"
   ],
   "outputs": [
    {
     "output_type": "execute_result",
     "data": {
      "text/plain": [
       "((48, 31), (48, 31))"
      ]
     },
     "metadata": {},
     "execution_count": 14
    }
   ],
   "metadata": {}
  },
  {
   "cell_type": "markdown",
   "source": [
    "## Exportando el Reporte"
   ],
   "metadata": {}
  },
  {
   "cell_type": "code",
   "execution_count": 15,
   "source": [
    "smatv_rit_report = SmatvRitReport(smatv_rit_report_summary=smatv_rit_report_summary_df, smatv_rit_scenario_report=smatv_rit_scenario_report_df) \r\n",
    "# smatv_rit_report.smatv_rit_report_summary\r\n",
    "# smatv_rit_report.smatv_rit_scenario_report\r\n",
    "\r\n",
    "smatv_rit_report_wb = build_smatv_rit_report_excel(smatv_rit_report=smatv_rit_report)\r\n",
    "apply_smatv_rit_report_summary_excel_styles(smatv_rit_report_wb=smatv_rit_report_wb)\r\n",
    "smatv_rit_report_wb.save(\"report.xlsx\")"
   ],
   "outputs": [
    {
     "output_type": "error",
     "ename": "NameError",
     "evalue": "name 'apply_smatv_rit_report_summary_excel_styles' is not defined",
     "traceback": [
      "\u001b[1;31m---------------------------------------------------------------------------\u001b[0m",
      "\u001b[1;31mNameError\u001b[0m                                 Traceback (most recent call last)",
      "\u001b[1;32m<ipython-input-15-44da6bdd62d6>\u001b[0m in \u001b[0;36m<module>\u001b[1;34m\u001b[0m\n\u001b[0;32m      4\u001b[0m \u001b[1;33m\u001b[0m\u001b[0m\n\u001b[0;32m      5\u001b[0m \u001b[0msmatv_rit_report_wb\u001b[0m \u001b[1;33m=\u001b[0m \u001b[0mbuild_smatv_rit_report_excel\u001b[0m\u001b[1;33m(\u001b[0m\u001b[0msmatv_rit_report\u001b[0m\u001b[1;33m=\u001b[0m\u001b[0msmatv_rit_report\u001b[0m\u001b[1;33m)\u001b[0m\u001b[1;33m\u001b[0m\u001b[1;33m\u001b[0m\u001b[0m\n\u001b[1;32m----> 6\u001b[1;33m \u001b[0mapply_smatv_rit_report_summary_excel_styles\u001b[0m\u001b[1;33m(\u001b[0m\u001b[0msmatv_rit_report_wb\u001b[0m\u001b[1;33m=\u001b[0m\u001b[0msmatv_rit_report_wb\u001b[0m\u001b[1;33m)\u001b[0m\u001b[1;33m\u001b[0m\u001b[1;33m\u001b[0m\u001b[0m\n\u001b[0m\u001b[0;32m      7\u001b[0m \u001b[0msmatv_rit_report_wb\u001b[0m\u001b[1;33m.\u001b[0m\u001b[0msave\u001b[0m\u001b[1;33m(\u001b[0m\u001b[1;34m\"report.xlsx\"\u001b[0m\u001b[1;33m)\u001b[0m\u001b[1;33m\u001b[0m\u001b[1;33m\u001b[0m\u001b[0m\n",
      "\u001b[1;31mNameError\u001b[0m: name 'apply_smatv_rit_report_summary_excel_styles' is not defined"
     ]
    }
   ],
   "metadata": {}
  },
  {
   "cell_type": "code",
   "execution_count": null,
   "source": [],
   "outputs": [],
   "metadata": {}
  }
 ],
 "metadata": {
  "orig_nbformat": 4,
  "language_info": {
   "name": "python",
   "version": "3.8.8",
   "mimetype": "text/x-python",
   "codemirror_mode": {
    "name": "ipython",
    "version": 3
   },
   "pygments_lexer": "ipython3",
   "nbconvert_exporter": "python",
   "file_extension": ".py"
  },
  "kernelspec": {
   "name": "python3",
   "display_name": "Python 3.8.8 64-bit ('base': conda)"
  },
  "interpreter": {
   "hash": "1e915f0a29dc84041eaeb02b7b1a21c440e37a87b61d44d5e84a515737dc82bc"
  }
 },
 "nbformat": 4,
 "nbformat_minor": 2
}