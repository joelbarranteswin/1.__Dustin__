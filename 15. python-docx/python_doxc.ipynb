{
 "cells": [
  {
   "cell_type": "markdown",
   "metadata": {},
   "source": [
    "# Library python-docx"
   ]
  },
  {
   "cell_type": "code",
   "execution_count": 1,
   "metadata": {},
   "outputs": [],
   "source": [
    "from docx import Document\n",
    "document = Document()"
   ]
  },
  {
   "cell_type": "code",
   "execution_count": 10,
   "metadata": {},
   "outputs": [],
   "source": [
    "import os\n",
    "import sys\n",
    "from docxtpl import DocxTemplate, InlineImage\n",
    "from docx.shared import Cm, Inches, Mm, Emu\n",
    "\n",
    "os.chdir(sys.path[0])\n",
    "\n",
    "doc = DocxTemplate('template_1.docx')\n",
    "\n",
    "placeholder_1 = InlineImage(doc, 'Placeholders/Placeholder_1.png', Cm(5))\n",
    "placeholder_2 = InlineImage(doc, 'Placeholders/Placeholder_2.png', Cm(5))\n",
    "\n",
    "# #se usa para la sustitucion\n",
    "context = {\n",
    "    'name': 'Joel',\n",
    "    'placeholder_1': placeholder_1,\n",
    "    'placeholder_2': placeholder_2\n",
    "}\n",
    "\n",
    "# don't recognize the image inside the archive\n",
    "# doc.replace_pic('placeholder_1', 'src/image_1.jpg')\n",
    "# doc.replace_pic('placeholder_2', 'src/image_2.jpg')\n",
    "\n",
    "# doc.render(context)\n",
    "doc.save('template_2.docx')"
   ]
  }
 ],
 "metadata": {
  "interpreter": {
   "hash": "54a92224f8fada1adbdfafe6950f4c1b437ee82e5d7a440b66bb330b54b2fa61"
  },
  "kernelspec": {
   "display_name": "Python 3.9.6 64-bit ('.venv': venv)",
   "language": "python",
   "name": "python3"
  },
  "language_info": {
   "codemirror_mode": {
    "name": "ipython",
    "version": 3
   },
   "file_extension": ".py",
   "mimetype": "text/x-python",
   "name": "python",
   "nbconvert_exporter": "python",
   "pygments_lexer": "ipython3",
   "version": "3.9.6"
  },
  "orig_nbformat": 4
 },
 "nbformat": 4,
 "nbformat_minor": 2
}
